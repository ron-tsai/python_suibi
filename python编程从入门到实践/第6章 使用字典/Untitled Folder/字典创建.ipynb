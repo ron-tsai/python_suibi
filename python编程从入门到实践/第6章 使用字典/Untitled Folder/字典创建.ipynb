{
 "cells": [
  {
   "cell_type": "markdown",
   "id": "64afcb70-0669-4bce-98ca-affafd8c95b7",
   "metadata": {},
   "source": [
    "# 创建字典"
   ]
  },
  {
   "cell_type": "markdown",
   "id": "4a6448f7-5a27-4cee-b45f-cddfabf972f2",
   "metadata": {},
   "source": [
    "## 1. zip合并两个列表"
   ]
  },
  {
   "cell_type": "code",
   "execution_count": 1,
   "id": "fd39112d-e319-4d34-90f5-92da2e16658f",
   "metadata": {},
   "outputs": [],
   "source": [
    "a = list(range(5))"
   ]
  },
  {
   "cell_type": "code",
   "execution_count": 2,
   "id": "a1c0bf5c-6e35-43e7-b2da-16dc820e6e31",
   "metadata": {},
   "outputs": [],
   "source": [
    "b = list(range(5,10))"
   ]
  },
  {
   "cell_type": "code",
   "execution_count": 3,
   "id": "8fc52b54-a58c-424c-a996-ef6f58f68abf",
   "metadata": {},
   "outputs": [],
   "source": [
    "c=dict(zip(a,b))"
   ]
  },
  {
   "cell_type": "code",
   "execution_count": 4,
   "id": "cf2ad8fc-f164-45fd-ac33-e3ce56900c0c",
   "metadata": {},
   "outputs": [
    {
     "data": {
      "text/plain": [
       "{0: 5, 1: 6, 2: 7, 3: 8, 4: 9}"
      ]
     },
     "execution_count": 4,
     "metadata": {},
     "output_type": "execute_result"
    }
   ],
   "source": [
    "c"
   ]
  },
  {
   "cell_type": "markdown",
   "id": "45d7f90e-e899-42d8-9f38-ebf890a05589",
   "metadata": {},
   "source": [
    "## 2. 手写输入字典"
   ]
  },
  {
   "cell_type": "code",
   "execution_count": 5,
   "id": "f5f52648-ec07-4de0-a19a-c2463a812d68",
   "metadata": {},
   "outputs": [],
   "source": [
    "d={0:5,1:6,2:7,3:8,4:9}"
   ]
  },
  {
   "cell_type": "code",
   "execution_count": 6,
   "id": "79e71fb7-6208-4f06-a77c-8ac0bd6f44ec",
   "metadata": {},
   "outputs": [
    {
     "data": {
      "text/plain": [
       "{0: 5, 1: 6, 2: 7, 3: 8, 4: 9}"
      ]
     },
     "execution_count": 6,
     "metadata": {},
     "output_type": "execute_result"
    }
   ],
   "source": [
    "d"
   ]
  },
  {
   "cell_type": "code",
   "execution_count": null,
   "id": "3e4f88c6-da48-49e0-b975-ca3fe177343d",
   "metadata": {},
   "outputs": [],
   "source": []
  }
 ],
 "metadata": {
  "kernelspec": {
   "display_name": "tf_env",
   "language": "python",
   "name": "tf_env"
  },
  "language_info": {
   "codemirror_mode": {
    "name": "ipython",
    "version": 3
   },
   "file_extension": ".py",
   "mimetype": "text/x-python",
   "name": "python",
   "nbconvert_exporter": "python",
   "pygments_lexer": "ipython3",
   "version": "3.9.21"
  }
 },
 "nbformat": 4,
 "nbformat_minor": 5
}
