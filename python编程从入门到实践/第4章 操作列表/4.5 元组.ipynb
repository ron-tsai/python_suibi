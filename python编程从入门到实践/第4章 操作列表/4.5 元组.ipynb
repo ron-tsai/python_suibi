{
 "cells": [
  {
   "cell_type": "markdown",
   "id": "7a634bbc-37eb-43f9-a575-ef8b484b72ef",
   "metadata": {},
   "source": [
    "# 元组"
   ]
  },
  {
   "cell_type": "markdown",
   "id": "8cb05adf-c24e-4538-b4dd-8e183aa98a1f",
   "metadata": {},
   "source": [
    "集合set（）是一组元素去重之后的结果，而不是元组tuple（）"
   ]
  },
  {
   "cell_type": "code",
   "execution_count": 3,
   "id": "a2c6044f-d87a-4b0f-aaba-230822a0f21c",
   "metadata": {},
   "outputs": [],
   "source": [
    "a = (1,2,3,4,5)"
   ]
  },
  {
   "cell_type": "code",
   "execution_count": 4,
   "id": "b12a4f3e-e534-4c90-912c-8c5c2e6b910c",
   "metadata": {},
   "outputs": [
    {
     "data": {
      "text/plain": [
       "(1, 2, 3, 4, 5)"
      ]
     },
     "execution_count": 4,
     "metadata": {},
     "output_type": "execute_result"
    }
   ],
   "source": [
    "a"
   ]
  },
  {
   "cell_type": "markdown",
   "id": "c66a9758-003d-47b3-8db9-f400375e8ea2",
   "metadata": {},
   "source": [
    "## 元组的值具有不可修改性"
   ]
  },
  {
   "cell_type": "code",
   "execution_count": 6,
   "id": "a38d7679-05fd-45f7-89ba-bab6b000ca12",
   "metadata": {},
   "outputs": [
    {
     "ename": "TypeError",
     "evalue": "'tuple' object does not support item assignment",
     "output_type": "error",
     "traceback": [
      "\u001b[0;31m---------------------------------------------------------------------------\u001b[0m",
      "\u001b[0;31mTypeError\u001b[0m                                 Traceback (most recent call last)",
      "Cell \u001b[0;32mIn[6], line 1\u001b[0m\n\u001b[0;32m----> 1\u001b[0m \u001b[43ma\u001b[49m\u001b[43m[\u001b[49m\u001b[38;5;241;43m0\u001b[39;49m\u001b[43m]\u001b[49m\u001b[38;5;241m=\u001b[39m\u001b[38;5;241m7\u001b[39m \u001b[38;5;66;03m#这是错误的\u001b[39;00m\n",
      "\u001b[0;31mTypeError\u001b[0m: 'tuple' object does not support item assignment"
     ]
    }
   ],
   "source": [
    "a[0]=7 #这是错误的"
   ]
  },
  {
   "cell_type": "code",
   "execution_count": null,
   "id": "c319bcfb-29ea-4d76-99dd-99b658a35fba",
   "metadata": {},
   "outputs": [],
   "source": []
  }
 ],
 "metadata": {
  "kernelspec": {
   "display_name": "Python [conda env:pytorch_env]",
   "language": "python",
   "name": "conda-env-pytorch_env-py"
  },
  "language_info": {
   "codemirror_mode": {
    "name": "ipython",
    "version": 3
   },
   "file_extension": ".py",
   "mimetype": "text/x-python",
   "name": "python",
   "nbconvert_exporter": "python",
   "pygments_lexer": "ipython3",
   "version": "3.8.20"
  }
 },
 "nbformat": 4,
 "nbformat_minor": 5
}
