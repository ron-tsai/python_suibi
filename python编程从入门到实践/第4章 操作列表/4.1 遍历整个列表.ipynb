{
 "cells": [
  {
   "cell_type": "markdown",
   "id": "d9f0e9f2-ff52-4288-9e27-c729ad4bd289",
   "metadata": {},
   "source": [
    "# 1. 遍历已有列表"
   ]
  },
  {
   "cell_type": "markdown",
   "id": "98ec384f-8127-45b5-afb0-869a77e5ab26",
   "metadata": {},
   "source": [
    "## 1.1 遍历列表值"
   ]
  },
  {
   "cell_type": "code",
   "execution_count": 3,
   "id": "a6aa5ab9-e45f-4f80-96cb-0a9bac56e861",
   "metadata": {},
   "outputs": [],
   "source": [
    "a=[1,2,3,4,5]"
   ]
  },
  {
   "cell_type": "code",
   "execution_count": 4,
   "id": "69181463-8fe2-4203-a1bc-88fd2d478198",
   "metadata": {},
   "outputs": [
    {
     "name": "stdout",
     "output_type": "stream",
     "text": [
      "1\n",
      "2\n",
      "3\n",
      "4\n",
      "5\n"
     ]
    }
   ],
   "source": [
    "for i in a:\n",
    "    print(i)"
   ]
  },
  {
   "cell_type": "markdown",
   "id": "6f82b086-3340-4ca7-a9c0-09ce5f08a4a0",
   "metadata": {},
   "source": [
    "## 1.2 遍历已有列表键、值"
   ]
  },
  {
   "cell_type": "code",
   "execution_count": 6,
   "id": "977c8727-4224-4306-9907-69f6659c52a5",
   "metadata": {},
   "outputs": [
    {
     "name": "stdout",
     "output_type": "stream",
     "text": [
      "0 1\n",
      "1 2\n",
      "2 3\n",
      "3 4\n",
      "4 5\n"
     ]
    }
   ],
   "source": [
    "for i,v in enumerate(a):\n",
    "    print(i,v)\n"
   ]
  },
  {
   "cell_type": "markdown",
   "id": "825e194a-53d0-4933-88ab-c1a8b3fff5c8",
   "metadata": {},
   "source": [
    "# 2. 遍历与新建一步到位"
   ]
  },
  {
   "cell_type": "markdown",
   "id": "55287286-8473-4d79-8e3f-8fefd1ba153a",
   "metadata": {},
   "source": [
    "## 2.1 遍历值"
   ]
  },
  {
   "cell_type": "code",
   "execution_count": 9,
   "id": "93e2225d-1c2f-4d25-ae94-5f3a46d0b8d8",
   "metadata": {},
   "outputs": [
    {
     "name": "stdout",
     "output_type": "stream",
     "text": [
      "0\n",
      "1\n",
      "2\n",
      "3\n",
      "4\n",
      "5\n",
      "6\n",
      "7\n",
      "8\n",
      "9\n"
     ]
    }
   ],
   "source": [
    "for i in range(10):\n",
    "    print(i)"
   ]
  },
  {
   "cell_type": "markdown",
   "id": "7e86b3c9-868e-41f1-aab3-1eec4c60a2a0",
   "metadata": {},
   "source": [
    "## 2.2 遍历键、值"
   ]
  },
  {
   "cell_type": "code",
   "execution_count": 11,
   "id": "995aeb3d-f06d-4a07-b16a-91161fbbd987",
   "metadata": {},
   "outputs": [
    {
     "name": "stdout",
     "output_type": "stream",
     "text": [
      "0 0\n",
      "1 1\n",
      "2 2\n",
      "3 3\n",
      "4 4\n",
      "5 5\n",
      "6 6\n",
      "7 7\n",
      "8 8\n",
      "9 9\n"
     ]
    }
   ],
   "source": [
    "for i,v in enumerate(range(10)):\n",
    "    print(i,v)\n"
   ]
  },
  {
   "cell_type": "code",
   "execution_count": null,
   "id": "10217e59-c068-4d91-94c5-4cb898669162",
   "metadata": {},
   "outputs": [],
   "source": []
  }
 ],
 "metadata": {
  "kernelspec": {
   "display_name": "Python [conda env:pytorch_env]",
   "language": "python",
   "name": "conda-env-pytorch_env-py"
  },
  "language_info": {
   "codemirror_mode": {
    "name": "ipython",
    "version": 3
   },
   "file_extension": ".py",
   "mimetype": "text/x-python",
   "name": "python",
   "nbconvert_exporter": "python",
   "pygments_lexer": "ipython3",
   "version": "3.8.20"
  }
 },
 "nbformat": 4,
 "nbformat_minor": 5
}
