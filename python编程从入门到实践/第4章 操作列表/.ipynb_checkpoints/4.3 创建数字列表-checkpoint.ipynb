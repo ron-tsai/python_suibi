{
 "cells": [
  {
   "cell_type": "markdown",
   "id": "21373c42-8823-4f58-893e-e8ecaf36caee",
   "metadata": {},
   "source": [
    "# 建立连续的数字列表"
   ]
  },
  {
   "cell_type": "markdown",
   "id": "611a6570-bf35-4abe-bd7d-94927bb4aafd",
   "metadata": {},
   "source": [
    "## 1. range（）方法创建"
   ]
  },
  {
   "cell_type": "code",
   "execution_count": 3,
   "id": "5cd4c791-c50f-4581-b938-f9e5720bea3c",
   "metadata": {},
   "outputs": [],
   "source": [
    "a = list(range(10))"
   ]
  },
  {
   "cell_type": "code",
   "execution_count": 4,
   "id": "28666d52-c33b-4b6b-98b3-3d3e93d10fd7",
   "metadata": {},
   "outputs": [
    {
     "data": {
      "text/plain": [
       "[0, 1, 2, 3, 4, 5, 6, 7, 8, 9]"
      ]
     },
     "execution_count": 4,
     "metadata": {},
     "output_type": "execute_result"
    }
   ],
   "source": [
    "a"
   ]
  },
  {
   "cell_type": "markdown",
   "id": "118f3525-1378-4373-a428-3b4b128f2170",
   "metadata": {},
   "source": [
    "### 1.1 序列间隔2"
   ]
  },
  {
   "cell_type": "code",
   "execution_count": 6,
   "id": "25b9eda0-6840-440b-86fd-7ba037846247",
   "metadata": {},
   "outputs": [],
   "source": [
    "b=list(range(1,10,2))"
   ]
  },
  {
   "cell_type": "code",
   "execution_count": 7,
   "id": "9f7eebe1-e9ff-403e-87b6-e66537e03a30",
   "metadata": {},
   "outputs": [
    {
     "data": {
      "text/plain": [
       "[1, 3, 5, 7, 9]"
      ]
     },
     "execution_count": 7,
     "metadata": {},
     "output_type": "execute_result"
    }
   ],
   "source": [
    "b"
   ]
  },
  {
   "cell_type": "markdown",
   "id": "fcab8bf5-c664-4e0e-a927-290ccd704e13",
   "metadata": {},
   "source": [
    "### 1.2 倒序数列(大，小，-1)"
   ]
  },
  {
   "cell_type": "code",
   "execution_count": 9,
   "id": "82e833a5-0373-4803-97c2-dba9b48c0b24",
   "metadata": {},
   "outputs": [],
   "source": [
    "c=list(range(10,1,-1))"
   ]
  },
  {
   "cell_type": "code",
   "execution_count": 10,
   "id": "d5bd84cd-65c2-49be-9328-b043f66d4a13",
   "metadata": {},
   "outputs": [
    {
     "data": {
      "text/plain": [
       "[10, 9, 8, 7, 6, 5, 4, 3, 2]"
      ]
     },
     "execution_count": 10,
     "metadata": {},
     "output_type": "execute_result"
    }
   ],
   "source": [
    "c"
   ]
  },
  {
   "cell_type": "markdown",
   "id": "0f3659d8-9bf8-429e-a4e5-8b3164459d93",
   "metadata": {},
   "source": [
    "## 2.直接在列表[]中创建"
   ]
  },
  {
   "cell_type": "code",
   "execution_count": 14,
   "id": "a7779dbf-d727-4451-9b70-3b20b225ef3f",
   "metadata": {},
   "outputs": [],
   "source": [
    "d=[i for i in range(10)]"
   ]
  },
  {
   "cell_type": "code",
   "execution_count": null,
   "id": "8705f987-4db6-4519-91aa-54ab27033511",
   "metadata": {},
   "outputs": [],
   "source": [
    "d"
   ]
  }
 ],
 "metadata": {
  "kernelspec": {
   "display_name": "Python [conda env:pytorch_env]",
   "language": "python",
   "name": "conda-env-pytorch_env-py"
  },
  "language_info": {
   "codemirror_mode": {
    "name": "ipython",
    "version": 3
   },
   "file_extension": ".py",
   "mimetype": "text/x-python",
   "name": "python",
   "nbconvert_exporter": "python",
   "pygments_lexer": "ipython3",
   "version": "3.8.20"
  }
 },
 "nbformat": 4,
 "nbformat_minor": 5
}
