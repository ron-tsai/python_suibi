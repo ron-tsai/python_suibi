{
 "cells": [
  {
   "cell_type": "markdown",
   "id": "98ec384f-8127-45b5-afb0-869a77e5ab26",
   "metadata": {},
   "source": [
    "# 遍历列表值"
   ]
  },
  {
   "cell_type": "code",
   "execution_count": 1,
   "id": "a6aa5ab9-e45f-4f80-96cb-0a9bac56e861",
   "metadata": {},
   "outputs": [],
   "source": [
    "a=[1,2,3,4,5]"
   ]
  },
  {
   "cell_type": "code",
   "execution_count": 5,
   "id": "69181463-8fe2-4203-a1bc-88fd2d478198",
   "metadata": {},
   "outputs": [
    {
     "name": "stdout",
     "output_type": "stream",
     "text": [
      "1\n",
      "2\n",
      "3\n",
      "4\n",
      "5\n"
     ]
    }
   ],
   "source": [
    "for i in a:\n",
    "    print(i)"
   ]
  },
  {
   "cell_type": "markdown",
   "id": "6f82b086-3340-4ca7-a9c0-09ce5f08a4a0",
   "metadata": {},
   "source": [
    "# 遍历列表索引、值"
   ]
  },
  {
   "cell_type": "code",
   "execution_count": 17,
   "id": "977c8727-4224-4306-9907-69f6659c52a5",
   "metadata": {},
   "outputs": [
    {
     "name": "stdout",
     "output_type": "stream",
     "text": [
      "0 1\n",
      "1 2\n",
      "2 3\n",
      "3 4\n",
      "4 5\n"
     ]
    }
   ],
   "source": [
    "for i,v in enumerate(a):\n",
    "    print(i,v)\n"
   ]
  },
  {
   "cell_type": "code",
   "execution_count": null,
   "id": "32f8e91a-61d4-4a77-a061-58fa38e54a34",
   "metadata": {},
   "outputs": [],
   "source": []
  },
  {
   "cell_type": "code",
   "execution_count": null,
   "id": "93e2225d-1c2f-4d25-ae94-5f3a46d0b8d8",
   "metadata": {},
   "outputs": [],
   "source": []
  },
  {
   "cell_type": "code",
   "execution_count": null,
   "id": "995aeb3d-f06d-4a07-b16a-91161fbbd987",
   "metadata": {},
   "outputs": [],
   "source": []
  }
 ],
 "metadata": {
  "kernelspec": {
   "display_name": "Python [conda env:pytorch_env]",
   "language": "python",
   "name": "conda-env-pytorch_env-py"
  },
  "language_info": {
   "codemirror_mode": {
    "name": "ipython",
    "version": 3
   },
   "file_extension": ".py",
   "mimetype": "text/x-python",
   "name": "python",
   "nbconvert_exporter": "python",
   "pygments_lexer": "ipython3",
   "version": "3.8.20"
  }
 },
 "nbformat": 4,
 "nbformat_minor": 5
}
