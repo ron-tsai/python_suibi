{
 "cells": [
  {
   "cell_type": "markdown",
   "id": "0cea9e6b-d5db-4673-8e0d-f7330998098e",
   "metadata": {},
   "source": [
    "# 切片"
   ]
  },
  {
   "cell_type": "code",
   "execution_count": 2,
   "id": "bce4b6ec-5a7d-4cb1-9226-4051be9e15d7",
   "metadata": {},
   "outputs": [],
   "source": [
    "a = list(range(10))"
   ]
  },
  {
   "cell_type": "code",
   "execution_count": 3,
   "id": "691fdcd9-aa22-4e50-9b8d-6152f54729ed",
   "metadata": {},
   "outputs": [
    {
     "data": {
      "text/plain": [
       "[0, 1, 2, 3, 4, 5, 6, 7, 8, 9]"
      ]
     },
     "execution_count": 3,
     "metadata": {},
     "output_type": "execute_result"
    }
   ],
   "source": [
    "a"
   ]
  },
  {
   "cell_type": "markdown",
   "id": "7cd62bda-df6e-4066-8c7a-674deb5e1d9d",
   "metadata": {},
   "source": [
    "## 1. 正序切片"
   ]
  },
  {
   "cell_type": "code",
   "execution_count": 5,
   "id": "211acdeb-f71d-4cee-817b-2f7c5df3685e",
   "metadata": {},
   "outputs": [
    {
     "data": {
      "text/plain": [
       "[1, 2, 3]"
      ]
     },
     "execution_count": 5,
     "metadata": {},
     "output_type": "execute_result"
    }
   ],
   "source": [
    "a[1:4]"
   ]
  },
  {
   "cell_type": "markdown",
   "id": "9c5ac227-6e2c-4ead-87b1-5ffe2a15599b",
   "metadata": {},
   "source": [
    "## 2. 倒序切片"
   ]
  },
  {
   "cell_type": "markdown",
   "id": "8d1a0b6f-2a1c-42de-80ad-50b06a9173b1",
   "metadata": {},
   "source": [
    "### -1就是倒数第1个，-3就是倒数第3个，同样遵循“上限不在组内原则”"
   ]
  },
  {
   "cell_type": "code",
   "execution_count": 8,
   "id": "f872f724-f309-4692-892e-9ae9c0d6fa11",
   "metadata": {},
   "outputs": [
    {
     "data": {
      "text/plain": [
       "[7, 8]"
      ]
     },
     "execution_count": 8,
     "metadata": {},
     "output_type": "execute_result"
    }
   ],
   "source": [
    "a[-3:-1]"
   ]
  },
  {
   "cell_type": "markdown",
   "id": "6216ec35-9310-4b98-a28e-7c89b40cd4ef",
   "metadata": {},
   "source": [
    "## 3. 使用切片复制列表"
   ]
  },
  {
   "cell_type": "code",
   "execution_count": 10,
   "id": "08667333-f069-435b-9f19-f151b3ab5678",
   "metadata": {},
   "outputs": [],
   "source": [
    "b = a[:]"
   ]
  },
  {
   "cell_type": "code",
   "execution_count": 11,
   "id": "497021fb-33be-420b-adcd-f65dfe2f72db",
   "metadata": {},
   "outputs": [
    {
     "data": {
      "text/plain": [
       "[0, 1, 2, 3, 4, 5, 6, 7, 8, 9]"
      ]
     },
     "execution_count": 11,
     "metadata": {},
     "output_type": "execute_result"
    }
   ],
   "source": [
    "b"
   ]
  },
  {
   "cell_type": "code",
   "execution_count": null,
   "id": "457a0300-655e-4d1e-a48d-cd7e700e848d",
   "metadata": {},
   "outputs": [],
   "source": []
  }
 ],
 "metadata": {
  "kernelspec": {
   "display_name": "Python [conda env:pytorch_env]",
   "language": "python",
   "name": "conda-env-pytorch_env-py"
  },
  "language_info": {
   "codemirror_mode": {
    "name": "ipython",
    "version": 3
   },
   "file_extension": ".py",
   "mimetype": "text/x-python",
   "name": "python",
   "nbconvert_exporter": "python",
   "pygments_lexer": "ipython3",
   "version": "3.8.20"
  }
 },
 "nbformat": 4,
 "nbformat_minor": 5
}
