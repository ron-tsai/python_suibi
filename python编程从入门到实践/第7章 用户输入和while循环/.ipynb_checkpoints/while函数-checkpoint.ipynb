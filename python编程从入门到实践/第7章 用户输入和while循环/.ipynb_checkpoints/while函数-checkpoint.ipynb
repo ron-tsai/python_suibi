{
 "cells": [
  {
   "cell_type": "markdown",
   "id": "cf5f3cc2-8d7d-4119-afaf-33624d233658",
   "metadata": {},
   "source": [
    "# while循环"
   ]
  },
  {
   "cell_type": "markdown",
   "id": "64684f10-4c9e-49fe-9d8b-a99d8bb7b482",
   "metadata": {},
   "source": [
    "## 可与remove配合，用于彻底去除列表中某个元素"
   ]
  },
  {
   "cell_type": "code",
   "execution_count": 1,
   "id": "e0179dcc-6fc0-4427-9f4a-32fdcdb61d1d",
   "metadata": {},
   "outputs": [],
   "source": [
    "a=[1,2,3,4,5,6,1,1]"
   ]
  },
  {
   "cell_type": "code",
   "execution_count": 2,
   "id": "ee960992-368b-4982-84b7-b43f0a3e4761",
   "metadata": {},
   "outputs": [],
   "source": [
    "while 1 in a:\n",
    "    a.remove(1)"
   ]
  },
  {
   "cell_type": "code",
   "execution_count": 3,
   "id": "6108a1bb-7db6-435e-b4f6-d10a675d3957",
   "metadata": {},
   "outputs": [
    {
     "data": {
      "text/plain": [
       "[2, 3, 4, 5, 6]"
      ]
     },
     "execution_count": 3,
     "metadata": {},
     "output_type": "execute_result"
    }
   ],
   "source": [
    "a"
   ]
  }
 ],
 "metadata": {
  "kernelspec": {
   "display_name": "tf_env",
   "language": "python",
   "name": "tf_env"
  },
  "language_info": {
   "codemirror_mode": {
    "name": "ipython",
    "version": 3
   },
   "file_extension": ".py",
   "mimetype": "text/x-python",
   "name": "python",
   "nbconvert_exporter": "python",
   "pygments_lexer": "ipython3",
   "version": "3.9.21"
  }
 },
 "nbformat": 4,
 "nbformat_minor": 5
}
