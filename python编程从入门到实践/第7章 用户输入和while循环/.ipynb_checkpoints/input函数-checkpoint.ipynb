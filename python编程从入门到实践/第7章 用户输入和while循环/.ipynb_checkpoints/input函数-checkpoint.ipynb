{
 "cells": [
  {
   "cell_type": "markdown",
   "id": "8f578c68-2f10-4e66-bb04-a97a66d6f567",
   "metadata": {},
   "source": [
    "# input函数"
   ]
  },
  {
   "cell_type": "code",
   "execution_count": 2,
   "id": "07b05964-fac0-4047-ab24-4ba5364dce43",
   "metadata": {},
   "outputs": [
    {
     "name": "stdin",
     "output_type": "stream",
     "text": [
      "tell me something and I will repeat it back to you :  1\n"
     ]
    },
    {
     "name": "stdout",
     "output_type": "stream",
     "text": [
      "1\n"
     ]
    }
   ],
   "source": [
    "message = input('tell me something and I will repeat it back to you : ')\n",
    "\n",
    "print(message)"
   ]
  },
  {
   "cell_type": "markdown",
   "id": "1deb7b9a-a293-454b-84af-37a6c88a4c25",
   "metadata": {},
   "source": [
    "# 除法，取余与取整"
   ]
  },
  {
   "cell_type": "code",
   "execution_count": 3,
   "id": "c1bd1057-f922-4fe0-b27c-de65d98df013",
   "metadata": {},
   "outputs": [
    {
     "data": {
      "text/plain": [
       "3"
      ]
     },
     "execution_count": 3,
     "metadata": {},
     "output_type": "execute_result"
    }
   ],
   "source": [
    "7//2"
   ]
  },
  {
   "cell_type": "code",
   "execution_count": 4,
   "id": "355aab5a-d0f2-4325-8641-5cb55c0459e4",
   "metadata": {},
   "outputs": [
    {
     "data": {
      "text/plain": [
       "1"
      ]
     },
     "execution_count": 4,
     "metadata": {},
     "output_type": "execute_result"
    }
   ],
   "source": [
    "7%2"
   ]
  },
  {
   "cell_type": "code",
   "execution_count": null,
   "id": "12aa5797-4f85-47b5-b5df-f919e118a460",
   "metadata": {},
   "outputs": [],
   "source": []
  }
 ],
 "metadata": {
  "kernelspec": {
   "display_name": "tf_env",
   "language": "python",
   "name": "tf_env"
  },
  "language_info": {
   "codemirror_mode": {
    "name": "ipython",
    "version": 3
   },
   "file_extension": ".py",
   "mimetype": "text/x-python",
   "name": "python",
   "nbconvert_exporter": "python",
   "pygments_lexer": "ipython3",
   "version": "3.9.21"
  }
 },
 "nbformat": 4,
 "nbformat_minor": 5
}
