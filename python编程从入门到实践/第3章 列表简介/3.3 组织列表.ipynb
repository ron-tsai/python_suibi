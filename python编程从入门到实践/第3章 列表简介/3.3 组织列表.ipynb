{
 "cells": [
  {
   "cell_type": "markdown",
   "id": "55f33c23-425d-4a2e-bfb9-ddefa26261e7",
   "metadata": {},
   "source": [
    "# .sort（）永久性排序（无法返回）"
   ]
  },
  {
   "cell_type": "code",
   "execution_count": 1,
   "id": "2d711199-ef7d-4705-a150-bb184864fb9a",
   "metadata": {},
   "outputs": [],
   "source": [
    "a=[4,3,5,1,2]"
   ]
  },
  {
   "cell_type": "code",
   "execution_count": 3,
   "id": "ca3202f0-07fa-40d5-bd0c-937988103333",
   "metadata": {},
   "outputs": [
    {
     "data": {
      "text/plain": [
       "[4, 3, 5, 1, 2]"
      ]
     },
     "execution_count": 3,
     "metadata": {},
     "output_type": "execute_result"
    }
   ],
   "source": [
    "a"
   ]
  },
  {
   "cell_type": "code",
   "execution_count": 5,
   "id": "5dc15043-4741-49c5-8773-6bc8b134646a",
   "metadata": {},
   "outputs": [],
   "source": [
    "a.sort(reverse=True)"
   ]
  },
  {
   "cell_type": "code",
   "execution_count": 7,
   "id": "322b7134-104c-4d70-a7b2-d7111df70a0d",
   "metadata": {},
   "outputs": [
    {
     "data": {
      "text/plain": [
       "[5, 4, 3, 2, 1]"
      ]
     },
     "execution_count": 7,
     "metadata": {},
     "output_type": "execute_result"
    }
   ],
   "source": [
    "a"
   ]
  },
  {
   "cell_type": "markdown",
   "id": "42e34022-532f-4c78-ad0a-39e0dca97153",
   "metadata": {},
   "source": [
    "# sorted（a）临时性排序"
   ]
  },
  {
   "cell_type": "code",
   "execution_count": 9,
   "id": "7922887f-2df8-4735-b311-b1f95a552cc4",
   "metadata": {},
   "outputs": [
    {
     "data": {
      "text/plain": [
       "[5, 4, 3, 2, 1]"
      ]
     },
     "execution_count": 9,
     "metadata": {},
     "output_type": "execute_result"
    }
   ],
   "source": [
    "sorted(a,reverse=True)"
   ]
  },
  {
   "cell_type": "markdown",
   "id": "a69db626-0740-40eb-b5bd-013d248e1925",
   "metadata": {},
   "source": [
    "# .reverse()永久性反转列表排列顺序"
   ]
  },
  {
   "cell_type": "code",
   "execution_count": 11,
   "id": "4cf2585c-7870-4e2b-b46d-a3f2f1901b46",
   "metadata": {},
   "outputs": [],
   "source": [
    "a.reverse()"
   ]
  },
  {
   "cell_type": "code",
   "execution_count": 13,
   "id": "4d3362df-53ae-4e4d-ab85-244aff95b392",
   "metadata": {},
   "outputs": [
    {
     "data": {
      "text/plain": [
       "[5, 4, 3, 2, 1]"
      ]
     },
     "execution_count": 13,
     "metadata": {},
     "output_type": "execute_result"
    }
   ],
   "source": [
    "a"
   ]
  },
  {
   "cell_type": "code",
   "execution_count": null,
   "id": "fe2e211b-0001-404c-b199-e706c4ddc45e",
   "metadata": {},
   "outputs": [],
   "source": []
  }
 ],
 "metadata": {
  "kernelspec": {
   "display_name": "Python [conda env:pytorch_env]",
   "language": "python",
   "name": "conda-env-pytorch_env-py"
  },
  "language_info": {
   "codemirror_mode": {
    "name": "ipython",
    "version": 3
   },
   "file_extension": ".py",
   "mimetype": "text/x-python",
   "name": "python",
   "nbconvert_exporter": "python",
   "pygments_lexer": "ipython3",
   "version": "3.8.20"
  }
 },
 "nbformat": 4,
 "nbformat_minor": 5
}
