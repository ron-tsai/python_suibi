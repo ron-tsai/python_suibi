{
 "cells": [
  {
   "cell_type": "markdown",
   "id": "faee1332-3a56-45a1-a9db-43afa1ce1659",
   "metadata": {},
   "source": [
    "# 手动创建列表"
   ]
  },
  {
   "cell_type": "code",
   "execution_count": 3,
   "id": "d2d37590-0e63-47e7-b155-86c6520cbc5d",
   "metadata": {},
   "outputs": [],
   "source": [
    "a=[1,2,3,4,5]"
   ]
  },
  {
   "cell_type": "code",
   "execution_count": 6,
   "id": "f2497c2d-03e0-4174-ba84-71293af21199",
   "metadata": {},
   "outputs": [
    {
     "data": {
      "text/plain": [
       "[1, 2, 3, 4, 5]"
      ]
     },
     "execution_count": 6,
     "metadata": {},
     "output_type": "execute_result"
    }
   ],
   "source": [
    "a"
   ]
  },
  {
   "cell_type": "markdown",
   "id": "a01a0f48-3fa6-4fd7-aa77-24842e21dd0a",
   "metadata": {},
   "source": [
    "# 在列表末尾添加元素"
   ]
  },
  {
   "cell_type": "code",
   "execution_count": 8,
   "id": "26603701-a152-4d33-a8a9-cda0484d96aa",
   "metadata": {},
   "outputs": [],
   "source": [
    "a.append(6)"
   ]
  },
  {
   "cell_type": "code",
   "execution_count": 10,
   "id": "7e1fcb48-90af-44b9-ad81-7e730c3fbbe1",
   "metadata": {},
   "outputs": [
    {
     "data": {
      "text/plain": [
       "[1, 2, 3, 4, 5, 6]"
      ]
     },
     "execution_count": 10,
     "metadata": {},
     "output_type": "execute_result"
    }
   ],
   "source": [
    "a"
   ]
  },
  {
   "cell_type": "markdown",
   "id": "83037e05-ee51-4d4f-97af-1cde92f607f7",
   "metadata": {},
   "source": [
    "# 根据索引位置添加元素"
   ]
  },
  {
   "cell_type": "code",
   "execution_count": 5,
   "id": "354c7b81-d85d-42b8-9677-086c2ffdcb2c",
   "metadata": {},
   "outputs": [],
   "source": [
    "a.insert(0,-1) #括号中第一个是索引位置，第二个是插入元素"
   ]
  },
  {
   "cell_type": "code",
   "execution_count": 7,
   "id": "f10a4cfd-3cc0-4ab0-9d6a-4aa3e6e340ea",
   "metadata": {},
   "outputs": [
    {
     "data": {
      "text/plain": [
       "[-1, 1, 2, 3, 4, 5]"
      ]
     },
     "execution_count": 7,
     "metadata": {},
     "output_type": "execute_result"
    }
   ],
   "source": [
    "a"
   ]
  },
  {
   "cell_type": "markdown",
   "id": "3d24f88a-0dd3-45a4-b9d2-bfd54f43938f",
   "metadata": {},
   "source": [
    "# 合并两个列表"
   ]
  },
  {
   "cell_type": "code",
   "execution_count": 16,
   "id": "e0d5451a-a05f-4421-be81-e760436c8268",
   "metadata": {},
   "outputs": [],
   "source": [
    "b=[8,9,10]"
   ]
  },
  {
   "cell_type": "code",
   "execution_count": 18,
   "id": "97632046-4117-40ca-897b-40ee4be6feed",
   "metadata": {},
   "outputs": [],
   "source": [
    "c=a+b"
   ]
  },
  {
   "cell_type": "code",
   "execution_count": 20,
   "id": "f97cbf72-5f6b-4ebc-a650-9db687bd5e44",
   "metadata": {},
   "outputs": [
    {
     "data": {
      "text/plain": [
       "[1, 2, 3, 4, 6, 8, 9, 10]"
      ]
     },
     "execution_count": 20,
     "metadata": {},
     "output_type": "execute_result"
    }
   ],
   "source": [
    "c"
   ]
  },
  {
   "cell_type": "markdown",
   "id": "d6f8e7f9-002f-47be-b49e-215f9299579e",
   "metadata": {},
   "source": [
    "# 移除指定元素(只能删除第1个出现的值)"
   ]
  },
  {
   "cell_type": "code",
   "execution_count": 12,
   "id": "d17263ee-5b1c-4f71-b88e-02cbf72e52fc",
   "metadata": {},
   "outputs": [],
   "source": [
    "a.remove(5)"
   ]
  },
  {
   "cell_type": "code",
   "execution_count": 14,
   "id": "89a4f1d1-058c-457a-89f1-a1b944751113",
   "metadata": {},
   "outputs": [
    {
     "data": {
      "text/plain": [
       "[1, 2, 3, 4, 6]"
      ]
     },
     "execution_count": 14,
     "metadata": {},
     "output_type": "execute_result"
    }
   ],
   "source": [
    "a"
   ]
  },
  {
   "cell_type": "markdown",
   "id": "43ee3ff3-7ab7-47c0-9c73-b3a5174f1d04",
   "metadata": {},
   "source": [
    "# 根据索引位置删除"
   ]
  },
  {
   "cell_type": "code",
   "execution_count": 11,
   "id": "2ef09880-c33b-4d72-b6d0-c43d98f943c4",
   "metadata": {},
   "outputs": [],
   "source": [
    "del a[0]"
   ]
  },
  {
   "cell_type": "code",
   "execution_count": 13,
   "id": "ad67e3e3-9d05-4159-a5bc-224bc494dceb",
   "metadata": {},
   "outputs": [
    {
     "data": {
      "text/plain": [
       "[1, 2, 3, 4, 5]"
      ]
     },
     "execution_count": 13,
     "metadata": {},
     "output_type": "execute_result"
    }
   ],
   "source": [
    "a"
   ]
  },
  {
   "cell_type": "markdown",
   "id": "0c31b45b-86ab-4a97-ae9a-06784f78d3fd",
   "metadata": {},
   "source": [
    "# 取出元素(根据索引)"
   ]
  },
  {
   "cell_type": "code",
   "execution_count": 15,
   "id": "9837fd26-2110-428e-93b5-4f1389bc6514",
   "metadata": {},
   "outputs": [
    {
     "data": {
      "text/plain": [
       "1"
      ]
     },
     "execution_count": 15,
     "metadata": {},
     "output_type": "execute_result"
    }
   ],
   "source": [
    "a_p=a.pop(0)"
   ]
  },
  {
   "cell_type": "code",
   "execution_count": 17,
   "id": "849f9010-4766-4334-bfeb-851dd003591d",
   "metadata": {},
   "outputs": [
    {
     "data": {
      "text/plain": [
       "[2, 3, 4, 5]"
      ]
     },
     "execution_count": 17,
     "metadata": {},
     "output_type": "execute_result"
    }
   ],
   "source": [
    "a"
   ]
  },
  {
   "cell_type": "code",
   "execution_count": null,
   "id": "0c56c6e9-ae59-410d-a4ba-e79febc0a8d4",
   "metadata": {},
   "outputs": [],
   "source": []
  }
 ],
 "metadata": {
  "kernelspec": {
   "display_name": "Python [conda env:pytorch_env]",
   "language": "python",
   "name": "conda-env-pytorch_env-py"
  },
  "language_info": {
   "codemirror_mode": {
    "name": "ipython",
    "version": 3
   },
   "file_extension": ".py",
   "mimetype": "text/x-python",
   "name": "python",
   "nbconvert_exporter": "python",
   "pygments_lexer": "ipython3",
   "version": "3.8.20"
  }
 },
 "nbformat": 4,
 "nbformat_minor": 5
}
