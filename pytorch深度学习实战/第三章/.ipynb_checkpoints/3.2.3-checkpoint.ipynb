{
 "cells": [
  {
   "cell_type": "code",
   "execution_count": 1,
   "id": "0e82dda5-573e-42cb-8a42-ab1c880e0d03",
   "metadata": {},
   "outputs": [],
   "source": [
    "import torch"
   ]
  },
  {
   "cell_type": "markdown",
   "id": "9efb05f4-2250-4a34-88de-3c8c9a190696",
   "metadata": {},
   "source": [
    "# 建立都是0或都是1的张量"
   ]
  },
  {
   "cell_type": "code",
   "execution_count": 3,
   "id": "eebe0fd1-cf90-4e2b-9c4a-033a202c7333",
   "metadata": {},
   "outputs": [],
   "source": [
    "a1=torch.ones(3,3,3)"
   ]
  },
  {
   "cell_type": "code",
   "execution_count": 4,
   "id": "585f4612-e6f9-4847-97ad-5122de0c91ff",
   "metadata": {},
   "outputs": [
    {
     "data": {
      "text/plain": [
       "tensor([[[1., 1., 1.],\n",
       "         [1., 1., 1.],\n",
       "         [1., 1., 1.]],\n",
       "\n",
       "        [[1., 1., 1.],\n",
       "         [1., 1., 1.],\n",
       "         [1., 1., 1.]],\n",
       "\n",
       "        [[1., 1., 1.],\n",
       "         [1., 1., 1.],\n",
       "         [1., 1., 1.]]])"
      ]
     },
     "execution_count": 4,
     "metadata": {},
     "output_type": "execute_result"
    }
   ],
   "source": [
    "a1"
   ]
  },
  {
   "cell_type": "code",
   "execution_count": 5,
   "id": "e0ed03a4-01bb-4ace-adf9-6c36508f5d92",
   "metadata": {},
   "outputs": [],
   "source": [
    "a2=torch.zeros(3,3,3)"
   ]
  },
  {
   "cell_type": "code",
   "execution_count": 6,
   "id": "f5042216-e21a-4508-94c0-da85d00c6e37",
   "metadata": {},
   "outputs": [
    {
     "data": {
      "text/plain": [
       "tensor([[[0., 0., 0.],\n",
       "         [0., 0., 0.],\n",
       "         [0., 0., 0.]],\n",
       "\n",
       "        [[0., 0., 0.],\n",
       "         [0., 0., 0.],\n",
       "         [0., 0., 0.]],\n",
       "\n",
       "        [[0., 0., 0.],\n",
       "         [0., 0., 0.],\n",
       "         [0., 0., 0.]]])"
      ]
     },
     "execution_count": 6,
     "metadata": {},
     "output_type": "execute_result"
    }
   ],
   "source": [
    "a2"
   ]
  },
  {
   "cell_type": "markdown",
   "id": "44613a32-aa60-44b4-ac31-fa6954d3f954",
   "metadata": {},
   "source": [
    "# 建立具体数字的张量"
   ]
  },
  {
   "cell_type": "code",
   "execution_count": 8,
   "id": "debce5cf-e78c-4d53-9300-c3bf5f8e6c75",
   "metadata": {},
   "outputs": [],
   "source": [
    "b=torch.tensor([[1,2,3],[4,5,6],[7,8,9]])"
   ]
  },
  {
   "cell_type": "code",
   "execution_count": 9,
   "id": "cb90adb4-18c5-46bf-aa7a-65a799d304f6",
   "metadata": {},
   "outputs": [
    {
     "data": {
      "text/plain": [
       "tensor([[1, 2, 3],\n",
       "        [4, 5, 6],\n",
       "        [7, 8, 9]])"
      ]
     },
     "execution_count": 9,
     "metadata": {},
     "output_type": "execute_result"
    }
   ],
   "source": [
    "b"
   ]
  },
  {
   "cell_type": "markdown",
   "id": "71ba688d-a874-463d-bed1-1d742ba6188f",
   "metadata": {},
   "source": [
    "# 建立随机数张量"
   ]
  },
  {
   "cell_type": "code",
   "execution_count": 11,
   "id": "c0dac780-c0b3-4254-b4fc-b54f4451d3e5",
   "metadata": {},
   "outputs": [],
   "source": [
    "c1=torch.randn(3,3,3)  #生成标准正态中的随机数"
   ]
  },
  {
   "cell_type": "code",
   "execution_count": 12,
   "id": "62efbf6e-5ed1-4e08-a629-d0e398410d3b",
   "metadata": {},
   "outputs": [
    {
     "data": {
      "text/plain": [
       "tensor([[[ 0.2772, -0.2654, -0.7203],\n",
       "         [-0.8913,  0.2562,  0.3291],\n",
       "         [-1.8960,  0.8657,  1.5168]],\n",
       "\n",
       "        [[-0.3907,  0.8525, -0.1171],\n",
       "         [-0.6982, -0.3195,  0.5392],\n",
       "         [-0.6002,  0.7961, -0.4157]],\n",
       "\n",
       "        [[-0.0658,  0.6032, -0.1488],\n",
       "         [-0.4625,  2.2980,  0.1593],\n",
       "         [ 0.6360, -0.0047, -1.6114]]])"
      ]
     },
     "execution_count": 12,
     "metadata": {},
     "output_type": "execute_result"
    }
   ],
   "source": [
    "c1"
   ]
  },
  {
   "cell_type": "code",
   "execution_count": 35,
   "id": "595728e1-7949-44ce-a0c1-322eb80cf050",
   "metadata": {},
   "outputs": [],
   "source": [
    "c2=torch.rand(3,3,3)  #生成均匀分布的随机数[0,1)"
   ]
  },
  {
   "cell_type": "code",
   "execution_count": 37,
   "id": "576d790c-0ccd-4079-97b4-9739e25b6ca6",
   "metadata": {},
   "outputs": [
    {
     "data": {
      "text/plain": [
       "tensor([[[0.3082, 0.7546, 0.6200],\n",
       "         [0.2912, 0.5472, 0.7322],\n",
       "         [0.6657, 0.6016, 0.9108]],\n",
       "\n",
       "        [[0.3083, 0.3002, 0.7360],\n",
       "         [0.8480, 0.4950, 0.4552],\n",
       "         [0.9070, 0.9731, 0.4242]],\n",
       "\n",
       "        [[0.8435, 0.1315, 0.0992],\n",
       "         [0.1720, 0.9934, 0.1571],\n",
       "         [0.7504, 0.9448, 0.6693]]])"
      ]
     },
     "execution_count": 37,
     "metadata": {},
     "output_type": "execute_result"
    }
   ],
   "source": [
    "c2"
   ]
  },
  {
   "cell_type": "markdown",
   "id": "954325b2-8e18-4606-b5c9-b8a32a2e591d",
   "metadata": {},
   "source": [
    "# 张量索引"
   ]
  },
  {
   "cell_type": "code",
   "execution_count": 14,
   "id": "eebbd42f-bd0a-4fa9-804b-279fc97e9b68",
   "metadata": {},
   "outputs": [
    {
     "data": {
      "text/plain": [
       "tensor([4, 7])"
      ]
     },
     "execution_count": 14,
     "metadata": {},
     "output_type": "execute_result"
    }
   ],
   "source": [
    "b[1:,0]"
   ]
  },
  {
   "cell_type": "markdown",
   "id": "240fc3ee-8945-4f57-a5e0-440b7b4b16e6",
   "metadata": {},
   "source": [
    "## 同一中括号内索引完还在统一中括号内"
   ]
  },
  {
   "cell_type": "code",
   "execution_count": 16,
   "id": "a2f42873-8492-4093-9742-069e86f6e935",
   "metadata": {},
   "outputs": [
    {
     "data": {
      "text/plain": [
       "tensor([[5, 6],\n",
       "        [8, 9]])"
      ]
     },
     "execution_count": 16,
     "metadata": {},
     "output_type": "execute_result"
    }
   ],
   "source": [
    "b[1:,1:]"
   ]
  },
  {
   "cell_type": "code",
   "execution_count": null,
   "id": "adc2de46-b6e0-4b7a-b9a2-01da06ed9822",
   "metadata": {},
   "outputs": [],
   "source": []
  }
 ],
 "metadata": {
  "kernelspec": {
   "display_name": "Python [conda env:pytorch_env]",
   "language": "python",
   "name": "conda-env-pytorch_env-py"
  },
  "language_info": {
   "codemirror_mode": {
    "name": "ipython",
    "version": 3
   },
   "file_extension": ".py",
   "mimetype": "text/x-python",
   "name": "python",
   "nbconvert_exporter": "python",
   "pygments_lexer": "ipython3",
   "version": "3.8.20"
  }
 },
 "nbformat": 4,
 "nbformat_minor": 5
}
