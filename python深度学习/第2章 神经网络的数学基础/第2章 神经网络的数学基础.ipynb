{
 "cells": [
  {
   "cell_type": "markdown",
   "id": "f516ceb8-24e0-496f-9b69-d46fa751b037",
   "metadata": {},
   "source": [
    "# 2-1 加载keras中的mnist数据集"
   ]
  },
  {
   "cell_type": "code",
   "execution_count": 1,
   "id": "3138b5a8-f7e6-48f9-85f5-fc0e49f07c47",
   "metadata": {},
   "outputs": [],
   "source": [
    "from keras.datasets import mnist"
   ]
  },
  {
   "cell_type": "code",
   "execution_count": 3,
   "id": "b17922e1-722c-4614-b8c7-ec6488d96b61",
   "metadata": {},
   "outputs": [],
   "source": [
    "(train_images,train_lables),(test_images,test_lables) = mnist.load_data()"
   ]
  },
  {
   "cell_type": "markdown",
   "id": "d87969bf-d8f5-459b-b63b-60ed6daab70a",
   "metadata": {},
   "source": [
    "## 2-2 网络架构"
   ]
  },
  {
   "cell_type": "code",
   "execution_count": 5,
   "id": "2cf0c33b-49ea-4153-838c-ad2406f02fac",
   "metadata": {},
   "outputs": [],
   "source": [
    "from keras import models\n",
    "from keras import layers"
   ]
  },
  {
   "cell_type": "code",
   "execution_count": 11,
   "id": "27c5a6ec-c1eb-4af2-a84b-9586ae0831a8",
   "metadata": {},
   "outputs": [],
   "source": [
    "network=models.Sequential()\n",
    "network.add(layers.Dense(512,activation='relu',input_shape=(28*28,)))\n",
    "network.add(layers.Dense(10,activation='softmax'))"
   ]
  },
  {
   "cell_type": "markdown",
   "id": "8e4c858a-a89c-4c61-a5fa-6019e3fc5088",
   "metadata": {},
   "source": [
    "## 2-3 编译步骤"
   ]
  },
  {
   "cell_type": "code",
   "execution_count": 12,
   "id": "e56ac730-87f5-49ca-be3d-436250c64fb5",
   "metadata": {},
   "outputs": [],
   "source": [
    "network.compile(optimizer='rmsprop',loss='categorical_crossentropy',metrics=['accuracy'])"
   ]
  },
  {
   "cell_type": "code",
   "execution_count": null,
   "id": "e7c2bd29-2422-4341-94c4-86557d3497ba",
   "metadata": {},
   "outputs": [],
   "source": []
  }
 ],
 "metadata": {
  "kernelspec": {
   "display_name": "tf_env",
   "language": "python",
   "name": "tf_env"
  },
  "language_info": {
   "codemirror_mode": {
    "name": "ipython",
    "version": 3
   },
   "file_extension": ".py",
   "mimetype": "text/x-python",
   "name": "python",
   "nbconvert_exporter": "python",
   "pygments_lexer": "ipython3",
   "version": "3.9.21"
  }
 },
 "nbformat": 4,
 "nbformat_minor": 5
}
