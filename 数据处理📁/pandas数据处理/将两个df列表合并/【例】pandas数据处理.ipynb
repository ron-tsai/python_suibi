{
 "cells": [
  {
   "cell_type": "markdown",
   "id": "cb2ad197",
   "metadata": {},
   "source": [
    "# 根据时间列，将另一个表的一列添加到主表中"
   ]
  },
  {
   "cell_type": "code",
   "execution_count": null,
   "id": "f2c49397",
   "metadata": {},
   "outputs": [],
   "source": []
  },
  {
   "cell_type": "code",
   "execution_count": null,
   "id": "6961a5da-3e56-4646-8f6f-63b5263de7d9",
   "metadata": {},
   "outputs": [],
   "source": []
  },
  {
   "cell_type": "code",
   "execution_count": null,
   "id": "6660e519-9790-423b-9e3f-3c9f5f9ab23f",
   "metadata": {},
   "outputs": [],
   "source": []
  },
  {
   "cell_type": "code",
   "execution_count": 2,
   "id": "e2e48573-eddd-4684-9a25-ce4285750a3e",
   "metadata": {},
   "outputs": [],
   "source": [
    "import pandas as pd\n",
    "import numpy as np"
   ]
  },
  {
   "cell_type": "code",
   "execution_count": 3,
   "id": "b98c73cd-13f1-41b9-b224-aad641d819df",
   "metadata": {},
   "outputs": [
    {
     "name": "stdout",
     "output_type": "stream",
     "text": [
      "        date  value1\n",
      "0 2024-01-01      10\n",
      "1 2024-01-02      20\n",
      "2 2024-01-03      30\n",
      "3 2024-01-04      40\n"
     ]
    }
   ],
   "source": [
    "\n",
    "# 创建df1，包含日期和一些值\n",
    "data1 = {\n",
    "    'date': pd.to_datetime(['2024-01-01', '2024-01-02', '2024-01-03', '2024-01-04']),\n",
    "    'value1': [10, 20, 30, 40]\n",
    "}\n",
    "df1 = pd.DataFrame(data1)\n",
    "print(df1)\n"
   ]
  },
  {
   "cell_type": "code",
   "execution_count": 4,
   "id": "1b8cd0d3-2b93-4ac9-8cc1-e4e63c9d04b8",
   "metadata": {},
   "outputs": [
    {
     "name": "stdout",
     "output_type": "stream",
     "text": [
      "        date  value2\n",
      "0 2024-01-01     100\n",
      "1 2024-01-02     200\n",
      "2 2024-01-03     300\n",
      "3 2024-01-05     400\n"
     ]
    }
   ],
   "source": [
    "# 创建df2，包含时间戳和一些值\n",
    "data2 = {\n",
    "    'date': pd.to_datetime(['2024-01-01', '2024-01-02', '2024-01-03', '2024-01-05']),\n",
    "    'value2': [100, 200, 300, 400]\n",
    "}\n",
    "df2 = pd.DataFrame(data2)\n",
    "print(df2)"
   ]
  },
  {
   "cell_type": "code",
   "execution_count": 5,
   "id": "64f69be4-27cb-407b-b746-c1c7709b3292",
   "metadata": {},
   "outputs": [
    {
     "name": "stdout",
     "output_type": "stream",
     "text": [
      "        date  value1  value2\n",
      "0 2024-01-01      10   100.0\n",
      "1 2024-01-02      20   200.0\n",
      "2 2024-01-03      30   300.0\n",
      "3 2024-01-04      40     NaN\n"
     ]
    }
   ],
   "source": [
    "# 使用merge函数根据时间列合并两个DataFrame\n",
    "merged_df = pd.merge(df1, df2, how='left')\n",
    "print(merged_df)"
   ]
  },
  {
   "cell_type": "code",
   "execution_count": null,
   "id": "ed7b0442-18c0-43dd-a567-b68916bdea15",
   "metadata": {},
   "outputs": [],
   "source": []
  }
 ],
 "metadata": {
  "kernelspec": {
   "display_name": "paddle_env",
   "language": "python",
   "name": "paddle_env"
  },
  "language_info": {
   "codemirror_mode": {
    "name": "ipython",
    "version": 3
   },
   "file_extension": ".py",
   "mimetype": "text/x-python",
   "name": "python",
   "nbconvert_exporter": "python",
   "pygments_lexer": "ipython3",
   "version": "3.12.7"
  }
 },
 "nbformat": 4,
 "nbformat_minor": 5
}
