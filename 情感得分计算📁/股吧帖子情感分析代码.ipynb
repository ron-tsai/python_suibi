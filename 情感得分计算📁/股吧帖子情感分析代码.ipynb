{
 "cells": [
  {
   "cell_type": "code",
   "execution_count": 1,
   "id": "6df43249-ab6f-4cdc-9038-33856f85e642",
   "metadata": {},
   "outputs": [],
   "source": [
    "from openpyxl import load_workbook\n",
    "from snownlp import SnowNLP\n",
    "\n"
   ]
  },
  {
   "cell_type": "code",
   "execution_count": 2,
   "id": "9f381915-3f5d-441f-808a-dd6e9ce976b2",
   "metadata": {},
   "outputs": [],
   "source": [
    "\n",
    "\n",
    "# 文件路径\n",
    "file_path = '/Users/ccmac/Desktop/2022年测.xlsx'\n",
    "\n",
    "try:\n",
    "    # 加载Excel工作簿\n",
    "    wb = load_workbook(file_path)\n",
    "    ws = wb.active\n",
    "\n",
    "    # 检查是否已有“情感得分”列\n",
    "    for col in ws.iter_cols(min_row=1, max_row=1):\n",
    "        for cell in col:\n",
    "            if cell.value == '情感得分':\n",
    "                sentiment_score_col = cell.column\n",
    "                break\n",
    "    else:  # 如果没有找到情感得分列\n",
    "        sentiment_score_col = ws.max_column + 1\n",
    "        ws.cell(row=1, column=sentiment_score_col, value='情感得分')\n",
    "\n",
    "    # 找到最后一行已处理的数据\n",
    "    last_processed_row = 1\n",
    "    for row in range(2, ws.max_row + 1):\n",
    "        if ws.cell(row=row, column=sentiment_score_col).value is None:\n",
    "            last_processed_row = row\n",
    "            break\n",
    "\n",
    "    # 从断点开始处理数据\n",
    "    for row in range(last_processed_row, ws.max_row + 1):\n",
    "        post_content = ws.cell(row=row, column=1).value  # 假设帖子内容在第一列\n",
    "        if post_content and isinstance(post_content, str):\n",
    "            sentiment_score = SnowNLP(post_content).sentiments\n",
    "            ws.cell(row=row, column=sentiment_score_col, value=sentiment_score)\n",
    "\n",
    "    # 保存工作簿\n",
    "    wb.save(file_path)\n",
    "\n",
    "except Exception as e:\n",
    "    print(f\"发生错误：{e}\")\n",
    "finally:\n",
    "    # 确保工作簿被关闭\n",
    "    if 'wb' in locals() and wb is not None:\n",
    "        wb.close()"
   ]
  }
 ],
 "metadata": {
  "kernelspec": {
   "display_name": "Python [conda env:paddle_env]",
   "language": "python",
   "name": "conda-env-paddle_env-py"
  },
  "language_info": {
   "codemirror_mode": {
    "name": "ipython",
    "version": 3
   },
   "file_extension": ".py",
   "mimetype": "text/x-python",
   "name": "python",
   "nbconvert_exporter": "python",
   "pygments_lexer": "ipython3",
   "version": "3.8.20"
  }
 },
 "nbformat": 4,
 "nbformat_minor": 5
}
