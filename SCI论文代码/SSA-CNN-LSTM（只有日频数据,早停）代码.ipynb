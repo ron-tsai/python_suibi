{
 "cells": [
  {
   "cell_type": "markdown",
   "id": "49f433dd-af84-4c82-b8e3-1d4950fbdf36",
   "metadata": {},
   "source": [
    "# 1. 导入python库"
   ]
  },
  {
   "cell_type": "code",
   "execution_count": 2,
   "id": "3f02e0e4-772a-47f3-bbd7-68372bf70654",
   "metadata": {},
   "outputs": [],
   "source": [
    "import pandas as pd\n",
    "import numpy as np\n",
    "import os\n",
    "\n",
    "%matplotlib inline\n",
    "from matplotlib import pyplot as plt\n",
    "\n",
    "\n",
    "from tensorflow.keras.models import Model\n",
    "from tensorflow.keras import layers\n",
    "from tensorflow.keras import Input\n",
    "from tensorflow.keras.optimizers import Adam\n",
    "from tensorflow.keras.utils import plot_model\n",
    "\n",
    "from sklearn.metrics import confusion_matrix, roc_curve, auc, recall_score, precision_score, f1_score\n",
    "from tensorflow.keras.callbacks import EarlyStopping\n"
   ]
  },
  {
   "cell_type": "markdown",
   "id": "fa353efb",
   "metadata": {},
   "source": [
    "# 2. 参数设置"
   ]
  },
  {
   "cell_type": "code",
   "execution_count": 3,
   "id": "ccfe2d2a",
   "metadata": {
    "scrolled": true
   },
   "outputs": [],
   "source": [
    "daily_back=20\n",
    "\n",
    "batch_size=32\n",
    "epochs=100\n",
    "patience=15\n",
    "\n",
    "LSTM_num=100\n",
    "dense_num=20\n",
    "\n",
    "pop_size = 1\n",
    "max_iter = 2\n",
    "\n",
    "mix_file='daily_data.xlsx'\n",
    "first_columns='search_index'\n",
    "\n",
    "\n",
    "total_day=2307 #根据查看数据表，得到数值\n",
    "train_num=1846\n",
    "test_num=total_day-train_num"
   ]
  },
  {
   "cell_type": "markdown",
   "id": "1006d29e",
   "metadata": {},
   "source": []
  },
  {
   "cell_type": "markdown",
   "id": "08c9b0fa",
   "metadata": {},
   "source": [
    "# 3. 读取原始数据"
   ]
  },
  {
   "cell_type": "code",
   "execution_count": 4,
   "id": "c5a53a33",
   "metadata": {},
   "outputs": [],
   "source": [
    "new_dir='/Users/ccmac/Desktop/完成SCI数据'\n",
    "\n",
    "\n",
    "daily_df=pd.read_excel(os.path.join(new_dir,mix_file))\n",
    "fif_df=pd.read_excel(os.path.join(new_dir,'fif_data.xlsx'))\n",
    "target_df=pd.read_excel(os.path.join(new_dir,'target.xlsx'))\n"
   ]
  },
  {
   "cell_type": "markdown",
   "id": "62075d36-f9cf-4309-a201-1ef014f56cb4",
   "metadata": {},
   "source": [
    "# 4. 标准化"
   ]
  },
  {
   "cell_type": "markdown",
   "id": "a093f0e5",
   "metadata": {},
   "source": [
    "## 4.1 历史数据标准化函数norm"
   ]
  },
  {
   "cell_type": "code",
   "execution_count": 5,
   "id": "6f00c73f",
   "metadata": {},
   "outputs": [],
   "source": [
    "def norm(df):\n",
    "    x=df.copy()\n",
    "    open_mean_value = df['open'].mean(axis=0)\n",
    "    high_mean_value = df['high'].mean(axis=0)\n",
    "    low_mean_value = df['low'].mean()\n",
    "    close_mean_value = df['close'].mean()\n",
    "    volumerate_mean_value = df['volume_rate'].mean()\n",
    "\n",
    "    open_std_value = df['open'].std()\n",
    "    high_std_value = df['high'].std()\n",
    "    low_std_value = df['low'].std()\n",
    "    close_std_value = df['close'].std()\n",
    "    volumerate_std_value = df['volume_rate'].std()\n",
    "\n",
    "    x['open']=(df['open']-open_mean_value)/open_std_value\n",
    "    x['high'] = (df['high'] - high_mean_value) / high_std_value\n",
    "    x['low'] =  (df['low'] - low_mean_value) / low_std_value\n",
    "    x['close'] =  (df['close'] - close_mean_value) / close_std_value\n",
    "    x['volume_rate'] = (df['volume_rate'] - volumerate_mean_value) / volumerate_std_value\n",
    "    df=x\n",
    "    return df"
   ]
  },
  {
   "cell_type": "markdown",
   "id": "9a82c845-6afe-43a1-820a-ae8b4e8fb2ab",
   "metadata": {},
   "source": [
    "# 5. 数据切分训练集与测试集"
   ]
  },
  {
   "cell_type": "markdown",
   "id": "3b6911e7",
   "metadata": {},
   "source": [
    "## 5.1 数据切分函数"
   ]
  },
  {
   "cell_type": "code",
   "execution_count": 6,
   "id": "07835973",
   "metadata": {},
   "outputs": [],
   "source": [
    "def split_data(train_num=train_num):\n",
    "    daily_train_df=daily_df.loc[daily_df.index<train_num]\n",
    "    daily_test_df=daily_df.loc[daily_df.index>=train_num]\n",
    "    fif_train_df=fif_df.loc[fif_df.index<16*train_num]\n",
    "    fif_test_df=fif_df.loc[fif_df.index>=16*train_num]\n",
    "\n",
    "\n",
    "    target_train_df=target_df.loc[target_df.index<train_num]\n",
    "    target_test_df=target_df.loc[target_df.index>=train_num]\n",
    "\n",
    "    daily_train_df=norm(daily_train_df)\n",
    "    daily_test_df=norm(daily_test_df)\n",
    "    fif_train_df=norm(fif_train_df)\n",
    "    fif_test_df=norm(fif_test_df)\n",
    "\n",
    "\n",
    "\n",
    "    return {'daily_train_df':daily_train_df,\n",
    "            'daily_test_df':daily_test_df,\n",
    "            'fif_train_df':fif_train_df,\n",
    "            'fif_test_df':fif_test_df,\n",
    "            'target_train_df':target_train_df,\n",
    "            'target_test_df':target_test_df,\n",
    "    \n",
    "            }"
   ]
  },
  {
   "cell_type": "markdown",
   "id": "557c115f",
   "metadata": {},
   "source": [
    "## 5.2 进行数据切分"
   ]
  },
  {
   "cell_type": "code",
   "execution_count": 7,
   "id": "b87cec91",
   "metadata": {},
   "outputs": [
    {
     "name": "stdout",
     "output_type": "stream",
     "text": [
      "日频训练切分： (1846, 8)\n",
      "日频测试切分： (461, 8)\n",
      "十五分钟频训练切分： (29536, 6)\n",
      "十五分钟频测试切分： (7552, 6)\n",
      "训练目标切分： (1846, 2)\n",
      "测试目标切分： (472, 2)\n"
     ]
    }
   ],
   "source": [
    "daily_norm_train_df=split_data()['daily_train_df']\n",
    "print('日频训练切分：',daily_norm_train_df.shape)\n",
    "daily_norm_test_df=split_data()['daily_test_df']\n",
    "print('日频测试切分：',daily_norm_test_df.shape)\n",
    "fif_norm_train_df=split_data()['fif_train_df']\n",
    "print('十五分钟频训练切分：',fif_norm_train_df.shape)\n",
    "fif_norm_test_df=split_data()['fif_test_df']\n",
    "print('十五分钟频测试切分：',fif_norm_test_df.shape)\n",
    "target_norm_train_df=split_data()['target_train_df']\n",
    "print('训练目标切分：',target_norm_train_df.shape)\n",
    "target_norm_test_df=split_data()['target_test_df']\n",
    "print('测试目标切分：',target_norm_test_df.shape)\n"
   ]
  },
  {
   "cell_type": "markdown",
   "id": "a225c99c-5d81-4930-8aa6-eda77400170e",
   "metadata": {},
   "source": [
    "# 6. 数据转化为神经网络输入格式"
   ]
  },
  {
   "cell_type": "markdown",
   "id": "3ffb3f1f-314a-4710-b96a-62d39be82ec6",
   "metadata": {},
   "source": [
    "## 6.1 建立转化类（返回多个字典）"
   ]
  },
  {
   "cell_type": "code",
   "execution_count": 8,
   "id": "de355a30-733f-4c79-978d-600334ad64dc",
   "metadata": {},
   "outputs": [],
   "source": [
    "class Data_maker:\n",
    "    def __init__(self,train_num,test_num,fif_back,daily_back):\n",
    "        self.train_num=train_num\n",
    "        self.test_num=test_num\n",
    "        self.fif_back=fif_back\n",
    "        self.daily_back=daily_back\n",
    "       \n",
    "\n",
    "\n",
    "    def daily_train_data(self,data):\n",
    "        while True:\n",
    "            rows = list(range(self.train_num - self.daily_back)) #总共1650个数据，由于扣除前面20个数据，所以为1630\n",
    "            ### 先构造空（预测日长度*日后移）array\n",
    "            samples = np.zeros((len(rows),\n",
    "                                 self.daily_back,\n",
    "                                 5))\n",
    "            print(samples.shape)\n",
    "            for j in rows:\n",
    "                ### 每一个填入用于预测一天的开盘价到波动率矩阵\n",
    "                samples[j] = data.loc[\n",
    "                                  (data.index >= j) & (data.index < self.daily_back + j),\n",
    "                                  'open':'volume_rate']\n",
    "            print(data.index)\n",
    "            print('日频训练array：',samples.shape)\n",
    "            return samples\n",
    "    def fif_train_data(self,data):\n",
    "        while True:\n",
    "            rows = list(range(self.train_num - self.daily_back))\n",
    "            samples = np.zeros((len(rows),\n",
    "                                 self.fif_back,\n",
    "                                 5))\n",
    "            for j in rows:\n",
    "\n",
    "                samples[j] = data.loc[\n",
    "                              (data.index >= j * self.fif_back ) & (data.index < (j+1) * self.fif_back),\n",
    "                              'open':]\n",
    "            print('十五分钟训练array：',samples.shape)\n",
    "            return samples\n",
    "\n",
    "   \n",
    "\n",
    "    def daily_test_data(self,data):\n",
    "        while True:\n",
    "            rows = list(range(self.test_num - self.daily_back))\n",
    "            print(self.test_num,self.daily_back)\n",
    "            print(rows)\n",
    "            samples = np.zeros((len(rows),\n",
    "                                self.daily_back,\n",
    "                                 5))\n",
    "            for j in rows:\n",
    "\n",
    "\n",
    "                samples[j] = data.loc[\n",
    "                                  (data.index >= self.train_num+j) & (data.index < self.train_num+self.daily_back + j),\n",
    "                                  'open':'volume_rate']\n",
    "            print('日测试array：',samples.shape)\n",
    "            print('试一试index', data.index,'train_num',self.train_num)\n",
    "            return samples\n",
    "\n",
    "\n",
    "   \n",
    "    def fif_test_data(self,data):\n",
    "        while True:\n",
    "            rows = list(range(self.test_num - self.daily_back))\n",
    "            samples = np.zeros((len(rows),\n",
    "                                self.fif_back,\n",
    "                                 5))\n",
    "            for j in rows:\n",
    "\n",
    "\n",
    "                samples[j] = data.loc[\n",
    "                                 (data.index >= 16*self.train_num+(j) * self.fif_back) & (data.index < 16*self.train_num+(j+1) * self.fif_back),\n",
    "                                 'open':]\n",
    "            print('十五分钟测试array：',samples.shape)\n",
    "            return samples\n",
    "    def target_train_data(self,data):\n",
    "        while True:\n",
    "            rows = list(range(self.train_num-self.daily_back))\n",
    "            targets = np.zeros((len(rows),))\n",
    "            for j in rows:\n",
    "\n",
    "\n",
    "                targets[j] = data.loc[data.index == j, 'target'].iloc[0] #根据提示，添加了.iloc[0]\n",
    "            print('训练标签array',targets.shape)\n",
    "            return targets\n",
    "    def target_test_data(self,data):\n",
    "        while True:\n",
    "            rows = list(range(self.test_num-self.daily_back))\n",
    "            targets = np.zeros((len(rows),))\n",
    "            for j in rows:\n",
    "\n",
    "\n",
    "                targets[j] = data.loc[data.index == self.train_num+j, 'target'].iloc[0] ##出问题：应该是。而不是***：data.index == self.train_num+j\n",
    "            print(targets.shape)\n",
    "            return targets"
   ]
  },
  {
   "cell_type": "markdown",
   "id": "1d109eb0-7de5-414a-a276-f81fcefe1269",
   "metadata": {},
   "source": [
    "## 6.2 设置类方法里的参数，赋值给origin_data_maker，仍然是一个class类"
   ]
  },
  {
   "cell_type": "code",
   "execution_count": 9,
   "id": "e39a13e8-0b0d-4cb8-b630-a142d4529615",
   "metadata": {},
   "outputs": [],
   "source": [
    "origin_data_maker=Data_maker(train_num=train_num,test_num=test_num,fif_back=16,daily_back=20)"
   ]
  },
  {
   "cell_type": "markdown",
   "id": "b84200b8",
   "metadata": {},
   "source": [
    "# 6.3 调用类中的方法,处理原始数据"
   ]
  },
  {
   "cell_type": "code",
   "execution_count": 10,
   "id": "a26f72f7",
   "metadata": {},
   "outputs": [
    {
     "name": "stdout",
     "output_type": "stream",
     "text": [
      "(1826, 20, 5)\n",
      "Index([   0,    1,    2,    3,    4,    5,    6,    7,    8,    9,\n",
      "       ...\n",
      "       1836, 1837, 1838, 1839, 1840, 1841, 1842, 1843, 1844, 1845],\n",
      "      dtype='int64', length=1846)\n",
      "日频训练array： (1826, 20, 5)\n",
      "461 20\n",
      "[0, 1, 2, 3, 4, 5, 6, 7, 8, 9, 10, 11, 12, 13, 14, 15, 16, 17, 18, 19, 20, 21, 22, 23, 24, 25, 26, 27, 28, 29, 30, 31, 32, 33, 34, 35, 36, 37, 38, 39, 40, 41, 42, 43, 44, 45, 46, 47, 48, 49, 50, 51, 52, 53, 54, 55, 56, 57, 58, 59, 60, 61, 62, 63, 64, 65, 66, 67, 68, 69, 70, 71, 72, 73, 74, 75, 76, 77, 78, 79, 80, 81, 82, 83, 84, 85, 86, 87, 88, 89, 90, 91, 92, 93, 94, 95, 96, 97, 98, 99, 100, 101, 102, 103, 104, 105, 106, 107, 108, 109, 110, 111, 112, 113, 114, 115, 116, 117, 118, 119, 120, 121, 122, 123, 124, 125, 126, 127, 128, 129, 130, 131, 132, 133, 134, 135, 136, 137, 138, 139, 140, 141, 142, 143, 144, 145, 146, 147, 148, 149, 150, 151, 152, 153, 154, 155, 156, 157, 158, 159, 160, 161, 162, 163, 164, 165, 166, 167, 168, 169, 170, 171, 172, 173, 174, 175, 176, 177, 178, 179, 180, 181, 182, 183, 184, 185, 186, 187, 188, 189, 190, 191, 192, 193, 194, 195, 196, 197, 198, 199, 200, 201, 202, 203, 204, 205, 206, 207, 208, 209, 210, 211, 212, 213, 214, 215, 216, 217, 218, 219, 220, 221, 222, 223, 224, 225, 226, 227, 228, 229, 230, 231, 232, 233, 234, 235, 236, 237, 238, 239, 240, 241, 242, 243, 244, 245, 246, 247, 248, 249, 250, 251, 252, 253, 254, 255, 256, 257, 258, 259, 260, 261, 262, 263, 264, 265, 266, 267, 268, 269, 270, 271, 272, 273, 274, 275, 276, 277, 278, 279, 280, 281, 282, 283, 284, 285, 286, 287, 288, 289, 290, 291, 292, 293, 294, 295, 296, 297, 298, 299, 300, 301, 302, 303, 304, 305, 306, 307, 308, 309, 310, 311, 312, 313, 314, 315, 316, 317, 318, 319, 320, 321, 322, 323, 324, 325, 326, 327, 328, 329, 330, 331, 332, 333, 334, 335, 336, 337, 338, 339, 340, 341, 342, 343, 344, 345, 346, 347, 348, 349, 350, 351, 352, 353, 354, 355, 356, 357, 358, 359, 360, 361, 362, 363, 364, 365, 366, 367, 368, 369, 370, 371, 372, 373, 374, 375, 376, 377, 378, 379, 380, 381, 382, 383, 384, 385, 386, 387, 388, 389, 390, 391, 392, 393, 394, 395, 396, 397, 398, 399, 400, 401, 402, 403, 404, 405, 406, 407, 408, 409, 410, 411, 412, 413, 414, 415, 416, 417, 418, 419, 420, 421, 422, 423, 424, 425, 426, 427, 428, 429, 430, 431, 432, 433, 434, 435, 436, 437, 438, 439, 440]\n",
      "日测试array： (441, 20, 5)\n",
      "试一试index Index([1846, 1847, 1848, 1849, 1850, 1851, 1852, 1853, 1854, 1855,\n",
      "       ...\n",
      "       2297, 2298, 2299, 2300, 2301, 2302, 2303, 2304, 2305, 2306],\n",
      "      dtype='int64', length=461) train_num 1846\n",
      "十五分钟训练array： (1826, 16, 5)\n",
      "十五分钟测试array： (441, 16, 5)\n",
      "训练标签array (1826,)\n",
      "(441,)\n"
     ]
    }
   ],
   "source": [
    "DM = origin_data_maker\n",
    "\n",
    "daily_train_prepared = DM.daily_train_data(daily_norm_train_df)\n",
    "daily_test_prepared = DM.daily_test_data(daily_norm_test_df)\n",
    "\n",
    "fif_train_prepared = DM.fif_train_data(fif_norm_train_df)\n",
    "fif_test_prepared = DM.fif_test_data(fif_norm_test_df)\n",
    "\n",
    "target_train_prepared = DM.target_train_data(target_norm_train_df)\n",
    "target_test_prepared = DM.target_test_data(target_norm_test_df)\n"
   ]
  },
  {
   "cell_type": "markdown",
   "id": "eb802e8a",
   "metadata": {},
   "source": [
    "# 7. 神经网络模型训练"
   ]
  },
  {
   "cell_type": "markdown",
   "id": "ff9ca801-990d-4205-a794-e3784edf76a1",
   "metadata": {},
   "source": [
    "## 7.1 模型建立 "
   ]
  },
  {
   "cell_type": "code",
   "execution_count": 11,
   "id": "a104aff6",
   "metadata": {},
   "outputs": [],
   "source": [
    "def my_model(daily_back, LSTM_num, dense_num):\n",
    "\n",
    "    # 日频输入\n",
    "    daily_input = Input(shape=(daily_back, 5), dtype='float32', name='daily_input')\n",
    "    Conv1D_daily = layers.Conv1D(16, 1, strides=1)(daily_input)\n",
    "    LSTM_daily = layers.LSTM(LSTM_num)(Conv1D_daily)\n",
    "    \n",
    "    # 合并与全连接\n",
    "  \n",
    "    alloy = layers.Dense(dense_num, activation='relu')(LSTM_daily)\n",
    "    dropout = layers.Dropout(0.2)(alloy)\n",
    "    output = layers.Dense(1, activation='sigmoid')(dropout)\n",
    "    \n",
    "    model = Model(daily_input, output)\n",
    "    model.compile(optimizer=Adam(learning_rate=0.001), \n",
    "                  loss='binary_crossentropy', \n",
    "                  metrics=['acc'])\n",
    "    return model"
   ]
  },
  {
   "cell_type": "markdown",
   "id": "4a065f8c",
   "metadata": {},
   "source": [
    "## 创建早停机制"
   ]
  },
  {
   "cell_type": "code",
   "execution_count": 12,
   "id": "993a90eb",
   "metadata": {},
   "outputs": [],
   "source": [
    "# 创建早停回调\n",
    "early_stopping = EarlyStopping(\n",
    "    monitor='val_loss',    # 监控验证集损失\n",
    "    patience=patience,           # 如果连续10个epoch验证集损失没有改善，则停止训练\n",
    "    restore_best_weights=True  # 恢复验证集损失最低时的模型权重\n",
    ")\n"
   ]
  },
  {
   "cell_type": "code",
   "execution_count": 13,
   "id": "3ddfc75e",
   "metadata": {},
   "outputs": [],
   "source": [
    "## 定义适应函数"
   ]
  },
  {
   "cell_type": "code",
   "execution_count": 14,
   "id": "c21710a5",
   "metadata": {},
   "outputs": [],
   "source": [
    "import numpy as np\n",
    "\n",
    "def fitness_function(params):\n",
    "    LSTM_num = int(params[0])\n",
    "    dense_num = int(params[1])\n",
    "    \n",
    "\n",
    "\n",
    "    \n",
    "    model = my_model(daily_back=daily_back,  # 替换为实际daily_back值\n",
    "                     LSTM_num=LSTM_num,\n",
    "                     dense_num=dense_num,\n",
    "                     )\n",
    "    \n",
    "    history = model.fit(x=daily_train_prepared,y=target_train_prepared,batch_size=batch_size,\n",
    "                validation_split=0.25,epochs=epochs,callbacks=[early_stopping])\n",
    "    return history.history['val_loss'][-1]  # 返回验证损失（越小越好）"
   ]
  },
  {
   "cell_type": "code",
   "execution_count": 15,
   "id": "595fd9c4",
   "metadata": {},
   "outputs": [],
   "source": [
    "# 实现麻雀算法"
   ]
  },
  {
   "cell_type": "code",
   "execution_count": 16,
   "id": "5b283b11",
   "metadata": {},
   "outputs": [],
   "source": [
    "def sparrow(pop_size, max_iter, dim, lower_bounds, upper_bounds, fitness_func):\n",
    "    pop = np.random.uniform(low=lower_bounds, high=upper_bounds, size=(pop_size, dim))\n",
    "    fitness = np.array([fitness_func(ind) for ind in pop])\n",
    "    best_idx = np.argmin(fitness)\n",
    "    best_sol = pop[best_idx].copy()\n",
    "    best_fit = fitness[best_idx]\n",
    "\n",
    "    for t in range(max_iter):\n",
    "        # 排序\n",
    "        sorted_idx = np.argsort(fitness)\n",
    "        pop = pop[sorted_idx]\n",
    "        fitness = fitness[sorted_idx]\n",
    "\n",
    "        # 发现者策略\n",
    "        for i in range(int(pop_size * 0.2)):\n",
    "            if np.random.rand() < 0.8:\n",
    "                pop[i] *= np.exp(-i / (np.random.rand() * max_iter))\n",
    "            else:\n",
    "                pop[i] += np.random.normal(0, 1)\n",
    "            \n",
    "            # 每次更新后立即检查边界\n",
    "            pop[i] = np.clip(pop[i], lower_bounds, upper_bounds)\n",
    "\n",
    "        # 跟随者策略 - 改进矩阵计算\n",
    "        for i in range(int(pop_size * 0.2), pop_size):\n",
    "            if i > pop_size / 2:\n",
    "                pop[i] = np.random.normal(0, 1) * np.exp((pop[-1] - pop[i]) / (i ** 2))\n",
    "            else:\n",
    "                # 简化矩阵计算，避免奇异矩阵问题\n",
    "                A = np.random.choice([-1, 1], size=dim)\n",
    "                pop[i] = pop[0] + A * (pop[0] - pop[i])\n",
    "            \n",
    "            # 每次更新后立即检查边界\n",
    "            pop[i] = np.clip(pop[i], lower_bounds, upper_bounds)\n",
    "\n",
    "        # 警戒者策略\n",
    "        for i in range(pop_size):\n",
    "            if fitness[i] > best_fit:\n",
    "                pop[i] = best_sol + np.random.normal(0, 1)\n",
    "                # 立即检查边界\n",
    "                pop[i] = np.clip(pop[i], lower_bounds, upper_bounds)\n",
    "\n",
    "        # 更新最佳解\n",
    "        fitness = np.array([fitness_func(ind) for ind in pop])\n",
    "        current_best_idx = np.argmin(fitness)\n",
    "        if fitness[current_best_idx] < best_fit:\n",
    "            best_fit = fitness[current_best_idx]\n",
    "            best_sol = pop[current_best_idx].copy()\n",
    "\n",
    "    return best_sol, best_fit"
   ]
  },
  {
   "cell_type": "code",
   "execution_count": 17,
   "id": "c825c450",
   "metadata": {},
   "outputs": [],
   "source": [
    "# 运行优化并训练最终模型"
   ]
  },
  {
   "cell_type": "code",
   "execution_count": 18,
   "id": "eb2d0d3d",
   "metadata": {},
   "outputs": [
    {
     "name": "stdout",
     "output_type": "stream",
     "text": [
      "Epoch 1/100\n",
      "\u001b[1m43/43\u001b[0m \u001b[32m━━━━━━━━━━━━━━━━━━━━\u001b[0m\u001b[37m\u001b[0m \u001b[1m2s\u001b[0m 17ms/step - acc: 0.5641 - loss: 0.6915 - val_acc: 0.4989 - val_loss: 0.7173\n",
      "Epoch 2/100\n",
      "\u001b[1m43/43\u001b[0m \u001b[32m━━━━━━━━━━━━━━━━━━━━\u001b[0m\u001b[37m\u001b[0m \u001b[1m1s\u001b[0m 15ms/step - acc: 0.5202 - loss: 0.7041 - val_acc: 0.5055 - val_loss: 0.6974\n",
      "Epoch 3/100\n",
      "\u001b[1m43/43\u001b[0m \u001b[32m━━━━━━━━━━━━━━━━━━━━\u001b[0m\u001b[37m\u001b[0m \u001b[1m1s\u001b[0m 17ms/step - acc: 0.5669 - loss: 0.6813 - val_acc: 0.4967 - val_loss: 0.6947\n",
      "Epoch 4/100\n",
      "\u001b[1m43/43\u001b[0m \u001b[32m━━━━━━━━━━━━━━━━━━━━\u001b[0m\u001b[37m\u001b[0m \u001b[1m1s\u001b[0m 15ms/step - acc: 0.5189 - loss: 0.6925 - val_acc: 0.5033 - val_loss: 0.7005\n",
      "Epoch 5/100\n",
      "\u001b[1m43/43\u001b[0m \u001b[32m━━━━━━━━━━━━━━━━━━━━\u001b[0m\u001b[37m\u001b[0m \u001b[1m1s\u001b[0m 17ms/step - acc: 0.5466 - loss: 0.6854 - val_acc: 0.5011 - val_loss: 0.6966\n",
      "Epoch 6/100\n",
      "\u001b[1m43/43\u001b[0m \u001b[32m━━━━━━━━━━━━━━━━━━━━\u001b[0m\u001b[37m\u001b[0m \u001b[1m1s\u001b[0m 16ms/step - acc: 0.5514 - loss: 0.6913 - val_acc: 0.5033 - val_loss: 0.6961\n",
      "Epoch 7/100\n",
      "\u001b[1m43/43\u001b[0m \u001b[32m━━━━━━━━━━━━━━━━━━━━\u001b[0m\u001b[37m\u001b[0m \u001b[1m1s\u001b[0m 16ms/step - acc: 0.5478 - loss: 0.6861 - val_acc: 0.4989 - val_loss: 0.7082\n",
      "Epoch 8/100\n",
      "\u001b[1m43/43\u001b[0m \u001b[32m━━━━━━━━━━━━━━━━━━━━\u001b[0m\u001b[37m\u001b[0m \u001b[1m1s\u001b[0m 17ms/step - acc: 0.5548 - loss: 0.6879 - val_acc: 0.4967 - val_loss: 0.7041\n",
      "Epoch 9/100\n",
      "\u001b[1m43/43\u001b[0m \u001b[32m━━━━━━━━━━━━━━━━━━━━\u001b[0m\u001b[37m\u001b[0m \u001b[1m1s\u001b[0m 16ms/step - acc: 0.5233 - loss: 0.6915 - val_acc: 0.4967 - val_loss: 0.7088\n",
      "Epoch 10/100\n",
      "\u001b[1m43/43\u001b[0m \u001b[32m━━━━━━━━━━━━━━━━━━━━\u001b[0m\u001b[37m\u001b[0m \u001b[1m1s\u001b[0m 16ms/step - acc: 0.5554 - loss: 0.6836 - val_acc: 0.5011 - val_loss: 0.6981\n",
      "Epoch 11/100\n",
      "\u001b[1m43/43\u001b[0m \u001b[32m━━━━━━━━━━━━━━━━━━━━\u001b[0m\u001b[37m\u001b[0m \u001b[1m1s\u001b[0m 16ms/step - acc: 0.5405 - loss: 0.6862 - val_acc: 0.5186 - val_loss: 0.7011\n",
      "Epoch 12/100\n",
      "\u001b[1m43/43\u001b[0m \u001b[32m━━━━━━━━━━━━━━━━━━━━\u001b[0m\u001b[37m\u001b[0m \u001b[1m1s\u001b[0m 16ms/step - acc: 0.5308 - loss: 0.6891 - val_acc: 0.5055 - val_loss: 0.7064\n",
      "Epoch 13/100\n",
      "\u001b[1m43/43\u001b[0m \u001b[32m━━━━━━━━━━━━━━━━━━━━\u001b[0m\u001b[37m\u001b[0m \u001b[1m1s\u001b[0m 17ms/step - acc: 0.5174 - loss: 0.6944 - val_acc: 0.4967 - val_loss: 0.7057\n",
      "Epoch 14/100\n",
      "\u001b[1m43/43\u001b[0m \u001b[32m━━━━━━━━━━━━━━━━━━━━\u001b[0m\u001b[37m\u001b[0m \u001b[1m1s\u001b[0m 16ms/step - acc: 0.5447 - loss: 0.6823 - val_acc: 0.4967 - val_loss: 0.7025\n",
      "Epoch 15/100\n",
      "\u001b[1m43/43\u001b[0m \u001b[32m━━━━━━━━━━━━━━━━━━━━\u001b[0m\u001b[37m\u001b[0m \u001b[1m1s\u001b[0m 16ms/step - acc: 0.5774 - loss: 0.6765 - val_acc: 0.5098 - val_loss: 0.7030\n",
      "Epoch 16/100\n",
      "\u001b[1m43/43\u001b[0m \u001b[32m━━━━━━━━━━━━━━━━━━━━\u001b[0m\u001b[37m\u001b[0m \u001b[1m1s\u001b[0m 16ms/step - acc: 0.5712 - loss: 0.6835 - val_acc: 0.5164 - val_loss: 0.7114\n",
      "Epoch 17/100\n",
      "\u001b[1m43/43\u001b[0m \u001b[32m━━━━━━━━━━━━━━━━━━━━\u001b[0m\u001b[37m\u001b[0m \u001b[1m1s\u001b[0m 17ms/step - acc: 0.5472 - loss: 0.6827 - val_acc: 0.5142 - val_loss: 0.7066\n",
      "Epoch 18/100\n",
      "\u001b[1m43/43\u001b[0m \u001b[32m━━━━━━━━━━━━━━━━━━━━\u001b[0m\u001b[37m\u001b[0m \u001b[1m1s\u001b[0m 16ms/step - acc: 0.5410 - loss: 0.6858 - val_acc: 0.5142 - val_loss: 0.7033\n",
      "Epoch 1/100\n",
      "\u001b[1m43/43\u001b[0m \u001b[32m━━━━━━━━━━━━━━━━━━━━\u001b[0m\u001b[37m\u001b[0m \u001b[1m2s\u001b[0m 17ms/step - acc: 0.5528 - loss: 0.6945 - val_acc: 0.5186 - val_loss: 0.6998\n",
      "Epoch 2/100\n",
      "\u001b[1m43/43\u001b[0m \u001b[32m━━━━━━━━━━━━━━━━━━━━\u001b[0m\u001b[37m\u001b[0m \u001b[1m1s\u001b[0m 15ms/step - acc: 0.5216 - loss: 0.6950 - val_acc: 0.5055 - val_loss: 0.6950\n",
      "Epoch 3/100\n",
      "\u001b[1m43/43\u001b[0m \u001b[32m━━━━━━━━━━━━━━━━━━━━\u001b[0m\u001b[37m\u001b[0m \u001b[1m1s\u001b[0m 16ms/step - acc: 0.5101 - loss: 0.6940 - val_acc: 0.4923 - val_loss: 0.6976\n",
      "Epoch 4/100\n",
      "\u001b[1m43/43\u001b[0m \u001b[32m━━━━━━━━━━━━━━━━━━━━\u001b[0m\u001b[37m\u001b[0m \u001b[1m1s\u001b[0m 16ms/step - acc: 0.5241 - loss: 0.6887 - val_acc: 0.4967 - val_loss: 0.6967\n",
      "Epoch 5/100\n",
      "\u001b[1m43/43\u001b[0m \u001b[32m━━━━━━━━━━━━━━━━━━━━\u001b[0m\u001b[37m\u001b[0m \u001b[1m1s\u001b[0m 16ms/step - acc: 0.5378 - loss: 0.6864 - val_acc: 0.4989 - val_loss: 0.6962\n",
      "Epoch 6/100\n",
      "\u001b[1m43/43\u001b[0m \u001b[32m━━━━━━━━━━━━━━━━━━━━\u001b[0m\u001b[37m\u001b[0m \u001b[1m1s\u001b[0m 16ms/step - acc: 0.5385 - loss: 0.6876 - val_acc: 0.4967 - val_loss: 0.7011\n",
      "Epoch 7/100\n",
      "\u001b[1m43/43\u001b[0m \u001b[32m━━━━━━━━━━━━━━━━━━━━\u001b[0m\u001b[37m\u001b[0m \u001b[1m1s\u001b[0m 16ms/step - acc: 0.5337 - loss: 0.6903 - val_acc: 0.4967 - val_loss: 0.7176\n",
      "Epoch 8/100\n",
      "\u001b[1m43/43\u001b[0m \u001b[32m━━━━━━━━━━━━━━━━━━━━\u001b[0m\u001b[37m\u001b[0m \u001b[1m1s\u001b[0m 17ms/step - acc: 0.5619 - loss: 0.6831 - val_acc: 0.4989 - val_loss: 0.7006\n",
      "Epoch 9/100\n",
      "\u001b[1m43/43\u001b[0m \u001b[32m━━━━━━━━━━━━━━━━━━━━\u001b[0m\u001b[37m\u001b[0m \u001b[1m1s\u001b[0m 16ms/step - acc: 0.5217 - loss: 0.6950 - val_acc: 0.4967 - val_loss: 0.7036\n",
      "Epoch 10/100\n",
      "\u001b[1m43/43\u001b[0m \u001b[32m━━━━━━━━━━━━━━━━━━━━\u001b[0m\u001b[37m\u001b[0m \u001b[1m1s\u001b[0m 16ms/step - acc: 0.5311 - loss: 0.6894 - val_acc: 0.5033 - val_loss: 0.7074\n",
      "Epoch 11/100\n",
      "\u001b[1m43/43\u001b[0m \u001b[32m━━━━━━━━━━━━━━━━━━━━\u001b[0m\u001b[37m\u001b[0m \u001b[1m1s\u001b[0m 16ms/step - acc: 0.5670 - loss: 0.6805 - val_acc: 0.5033 - val_loss: 0.7049\n",
      "Epoch 12/100\n",
      "\u001b[1m43/43\u001b[0m \u001b[32m━━━━━━━━━━━━━━━━━━━━\u001b[0m\u001b[37m\u001b[0m \u001b[1m1s\u001b[0m 17ms/step - acc: 0.5531 - loss: 0.6878 - val_acc: 0.4989 - val_loss: 0.7146\n",
      "Epoch 13/100\n",
      "\u001b[1m43/43\u001b[0m \u001b[32m━━━━━━━━━━━━━━━━━━━━\u001b[0m\u001b[37m\u001b[0m \u001b[1m1s\u001b[0m 16ms/step - acc: 0.5929 - loss: 0.6736 - val_acc: 0.4945 - val_loss: 0.7046\n",
      "Epoch 14/100\n",
      "\u001b[1m43/43\u001b[0m \u001b[32m━━━━━━━━━━━━━━━━━━━━\u001b[0m\u001b[37m\u001b[0m \u001b[1m1s\u001b[0m 17ms/step - acc: 0.5513 - loss: 0.6882 - val_acc: 0.4967 - val_loss: 0.7141\n",
      "Epoch 15/100\n",
      "\u001b[1m43/43\u001b[0m \u001b[32m━━━━━━━━━━━━━━━━━━━━\u001b[0m\u001b[37m\u001b[0m \u001b[1m1s\u001b[0m 16ms/step - acc: 0.5369 - loss: 0.6871 - val_acc: 0.5077 - val_loss: 0.7072\n",
      "Epoch 16/100\n",
      "\u001b[1m43/43\u001b[0m \u001b[32m━━━━━━━━━━━━━━━━━━━━\u001b[0m\u001b[37m\u001b[0m \u001b[1m1s\u001b[0m 17ms/step - acc: 0.5676 - loss: 0.6839 - val_acc: 0.4967 - val_loss: 0.7141\n",
      "Epoch 17/100\n",
      "\u001b[1m43/43\u001b[0m \u001b[32m━━━━━━━━━━━━━━━━━━━━\u001b[0m\u001b[37m\u001b[0m \u001b[1m1s\u001b[0m 16ms/step - acc: 0.5406 - loss: 0.6819 - val_acc: 0.5033 - val_loss: 0.7047\n",
      "Epoch 1/100\n",
      "\u001b[1m43/43\u001b[0m \u001b[32m━━━━━━━━━━━━━━━━━━━━\u001b[0m\u001b[37m\u001b[0m \u001b[1m2s\u001b[0m 17ms/step - acc: 0.5362 - loss: 0.7096 - val_acc: 0.5098 - val_loss: 0.6944\n",
      "Epoch 2/100\n",
      "\u001b[1m43/43\u001b[0m \u001b[32m━━━━━━━━━━━━━━━━━━━━\u001b[0m\u001b[37m\u001b[0m \u001b[1m1s\u001b[0m 14ms/step - acc: 0.5170 - loss: 0.6955 - val_acc: 0.4967 - val_loss: 0.6980\n",
      "Epoch 3/100\n",
      "\u001b[1m43/43\u001b[0m \u001b[32m━━━━━━━━━━━━━━━━━━━━\u001b[0m\u001b[37m\u001b[0m \u001b[1m1s\u001b[0m 16ms/step - acc: 0.5420 - loss: 0.6846 - val_acc: 0.5033 - val_loss: 0.6933\n",
      "Epoch 4/100\n",
      "\u001b[1m43/43\u001b[0m \u001b[32m━━━━━━━━━━━━━━━━━━━━\u001b[0m\u001b[37m\u001b[0m \u001b[1m1s\u001b[0m 16ms/step - acc: 0.5263 - loss: 0.6940 - val_acc: 0.4945 - val_loss: 0.6971\n",
      "Epoch 5/100\n",
      "\u001b[1m43/43\u001b[0m \u001b[32m━━━━━━━━━━━━━━━━━━━━\u001b[0m\u001b[37m\u001b[0m \u001b[1m1s\u001b[0m 16ms/step - acc: 0.5181 - loss: 0.6877 - val_acc: 0.4880 - val_loss: 0.6967\n",
      "Epoch 6/100\n",
      "\u001b[1m43/43\u001b[0m \u001b[32m━━━━━━━━━━━━━━━━━━━━\u001b[0m\u001b[37m\u001b[0m \u001b[1m1s\u001b[0m 16ms/step - acc: 0.5521 - loss: 0.6866 - val_acc: 0.4880 - val_loss: 0.6976\n",
      "Epoch 7/100\n",
      "\u001b[1m43/43\u001b[0m \u001b[32m━━━━━━━━━━━━━━━━━━━━\u001b[0m\u001b[37m\u001b[0m \u001b[1m1s\u001b[0m 17ms/step - acc: 0.5437 - loss: 0.6875 - val_acc: 0.4923 - val_loss: 0.6980\n",
      "Epoch 8/100\n",
      "\u001b[1m43/43\u001b[0m \u001b[32m━━━━━━━━━━━━━━━━━━━━\u001b[0m\u001b[37m\u001b[0m \u001b[1m1s\u001b[0m 16ms/step - acc: 0.5598 - loss: 0.6842 - val_acc: 0.4989 - val_loss: 0.7073\n",
      "Epoch 9/100\n",
      "\u001b[1m43/43\u001b[0m \u001b[32m━━━━━━━━━━━━━━━━━━━━\u001b[0m\u001b[37m\u001b[0m \u001b[1m1s\u001b[0m 16ms/step - acc: 0.5474 - loss: 0.6858 - val_acc: 0.4880 - val_loss: 0.6995\n",
      "Epoch 10/100\n",
      "\u001b[1m43/43\u001b[0m \u001b[32m━━━━━━━━━━━━━━━━━━━━\u001b[0m\u001b[37m\u001b[0m \u001b[1m1s\u001b[0m 16ms/step - acc: 0.5600 - loss: 0.6848 - val_acc: 0.4945 - val_loss: 0.7001\n",
      "Epoch 11/100\n",
      "\u001b[1m43/43\u001b[0m \u001b[32m━━━━━━━━━━━━━━━━━━━━\u001b[0m\u001b[37m\u001b[0m \u001b[1m1s\u001b[0m 16ms/step - acc: 0.5711 - loss: 0.6779 - val_acc: 0.5011 - val_loss: 0.7004\n",
      "Epoch 12/100\n",
      "\u001b[1m43/43\u001b[0m \u001b[32m━━━━━━━━━━━━━━━━━━━━\u001b[0m\u001b[37m\u001b[0m \u001b[1m1s\u001b[0m 16ms/step - acc: 0.5496 - loss: 0.6838 - val_acc: 0.5077 - val_loss: 0.7051\n",
      "Epoch 13/100\n",
      "\u001b[1m43/43\u001b[0m \u001b[32m━━━━━━━━━━━━━━━━━━━━\u001b[0m\u001b[37m\u001b[0m \u001b[1m1s\u001b[0m 16ms/step - acc: 0.5706 - loss: 0.6768 - val_acc: 0.5055 - val_loss: 0.7064\n",
      "Epoch 14/100\n",
      "\u001b[1m43/43\u001b[0m \u001b[32m━━━━━━━━━━━━━━━━━━━━\u001b[0m\u001b[37m\u001b[0m \u001b[1m1s\u001b[0m 16ms/step - acc: 0.5226 - loss: 0.6918 - val_acc: 0.4989 - val_loss: 0.7164\n",
      "Epoch 15/100\n",
      "\u001b[1m43/43\u001b[0m \u001b[32m━━━━━━━━━━━━━━━━━━━━\u001b[0m\u001b[37m\u001b[0m \u001b[1m1s\u001b[0m 16ms/step - acc: 0.5425 - loss: 0.6888 - val_acc: 0.4967 - val_loss: 0.7158\n",
      "Epoch 16/100\n",
      "\u001b[1m43/43\u001b[0m \u001b[32m━━━━━━━━━━━━━━━━━━━━\u001b[0m\u001b[37m\u001b[0m \u001b[1m1s\u001b[0m 17ms/step - acc: 0.5424 - loss: 0.6850 - val_acc: 0.4989 - val_loss: 0.7060\n",
      "Epoch 17/100\n",
      "\u001b[1m43/43\u001b[0m \u001b[32m━━━━━━━━━━━━━━━━━━━━\u001b[0m\u001b[37m\u001b[0m \u001b[1m1s\u001b[0m 18ms/step - acc: 0.5737 - loss: 0.6809 - val_acc: 0.4989 - val_loss: 0.7093\n",
      "Epoch 18/100\n",
      "\u001b[1m43/43\u001b[0m \u001b[32m━━━━━━━━━━━━━━━━━━━━\u001b[0m\u001b[37m\u001b[0m \u001b[1m1s\u001b[0m 20ms/step - acc: 0.5663 - loss: 0.6806 - val_acc: 0.5077 - val_loss: 0.7100\n",
      "最佳参数：LSTM_num=204, dense_num=37\n",
      "最佳验证准确率：0.7032591104507446\n",
      "Epoch 1/100\n",
      "\u001b[1m43/43\u001b[0m \u001b[32m━━━━━━━━━━━━━━━━━━━━\u001b[0m\u001b[37m\u001b[0m \u001b[1m2s\u001b[0m 20ms/step - acc: 0.4782 - loss: 0.7101 - val_acc: 0.4989 - val_loss: 0.6966\n",
      "Epoch 2/100\n",
      "\u001b[1m43/43\u001b[0m \u001b[32m━━━━━━━━━━━━━━━━━━━━\u001b[0m\u001b[37m\u001b[0m \u001b[1m1s\u001b[0m 15ms/step - acc: 0.5216 - loss: 0.6932 - val_acc: 0.5142 - val_loss: 0.6944\n",
      "Epoch 3/100\n",
      "\u001b[1m43/43\u001b[0m \u001b[32m━━━━━━━━━━━━━━━━━━━━\u001b[0m\u001b[37m\u001b[0m \u001b[1m1s\u001b[0m 16ms/step - acc: 0.5310 - loss: 0.6900 - val_acc: 0.4967 - val_loss: 0.7013\n",
      "Epoch 4/100\n",
      "\u001b[1m43/43\u001b[0m \u001b[32m━━━━━━━━━━━━━━━━━━━━\u001b[0m\u001b[37m\u001b[0m \u001b[1m1s\u001b[0m 19ms/step - acc: 0.5142 - loss: 0.6922 - val_acc: 0.4967 - val_loss: 0.7080\n",
      "Epoch 5/100\n",
      "\u001b[1m43/43\u001b[0m \u001b[32m━━━━━━━━━━━━━━━━━━━━\u001b[0m\u001b[37m\u001b[0m \u001b[1m1s\u001b[0m 18ms/step - acc: 0.5567 - loss: 0.6903 - val_acc: 0.4967 - val_loss: 0.7036\n",
      "Epoch 6/100\n",
      "\u001b[1m43/43\u001b[0m \u001b[32m━━━━━━━━━━━━━━━━━━━━\u001b[0m\u001b[37m\u001b[0m \u001b[1m1s\u001b[0m 16ms/step - acc: 0.5524 - loss: 0.6893 - val_acc: 0.4967 - val_loss: 0.7010\n",
      "Epoch 7/100\n",
      "\u001b[1m43/43\u001b[0m \u001b[32m━━━━━━━━━━━━━━━━━━━━\u001b[0m\u001b[37m\u001b[0m \u001b[1m1s\u001b[0m 17ms/step - acc: 0.5387 - loss: 0.6891 - val_acc: 0.4967 - val_loss: 0.7043\n",
      "Epoch 8/100\n",
      "\u001b[1m43/43\u001b[0m \u001b[32m━━━━━━━━━━━━━━━━━━━━\u001b[0m\u001b[37m\u001b[0m \u001b[1m1s\u001b[0m 18ms/step - acc: 0.5481 - loss: 0.6899 - val_acc: 0.4967 - val_loss: 0.7084\n",
      "Epoch 9/100\n",
      "\u001b[1m43/43\u001b[0m \u001b[32m━━━━━━━━━━━━━━━━━━━━\u001b[0m\u001b[37m\u001b[0m \u001b[1m1s\u001b[0m 18ms/step - acc: 0.5407 - loss: 0.6894 - val_acc: 0.4967 - val_loss: 0.7049\n",
      "Epoch 10/100\n",
      "\u001b[1m43/43\u001b[0m \u001b[32m━━━━━━━━━━━━━━━━━━━━\u001b[0m\u001b[37m\u001b[0m \u001b[1m1s\u001b[0m 17ms/step - acc: 0.5456 - loss: 0.6888 - val_acc: 0.4945 - val_loss: 0.6973\n",
      "Epoch 11/100\n",
      "\u001b[1m43/43\u001b[0m \u001b[32m━━━━━━━━━━━━━━━━━━━━\u001b[0m\u001b[37m\u001b[0m \u001b[1m1s\u001b[0m 18ms/step - acc: 0.5497 - loss: 0.6828 - val_acc: 0.4989 - val_loss: 0.6991\n",
      "Epoch 12/100\n",
      "\u001b[1m43/43\u001b[0m \u001b[32m━━━━━━━━━━━━━━━━━━━━\u001b[0m\u001b[37m\u001b[0m \u001b[1m1s\u001b[0m 17ms/step - acc: 0.5719 - loss: 0.6782 - val_acc: 0.4989 - val_loss: 0.7002\n",
      "Epoch 13/100\n",
      "\u001b[1m43/43\u001b[0m \u001b[32m━━━━━━━━━━━━━━━━━━━━\u001b[0m\u001b[37m\u001b[0m \u001b[1m1s\u001b[0m 17ms/step - acc: 0.5291 - loss: 0.6860 - val_acc: 0.4989 - val_loss: 0.6988\n",
      "Epoch 14/100\n",
      "\u001b[1m43/43\u001b[0m \u001b[32m━━━━━━━━━━━━━━━━━━━━\u001b[0m\u001b[37m\u001b[0m \u001b[1m1s\u001b[0m 17ms/step - acc: 0.5372 - loss: 0.6832 - val_acc: 0.4989 - val_loss: 0.7011\n",
      "Epoch 15/100\n",
      "\u001b[1m43/43\u001b[0m \u001b[32m━━━━━━━━━━━━━━━━━━━━\u001b[0m\u001b[37m\u001b[0m \u001b[1m1s\u001b[0m 18ms/step - acc: 0.5444 - loss: 0.6832 - val_acc: 0.4945 - val_loss: 0.7010\n",
      "Epoch 16/100\n",
      "\u001b[1m43/43\u001b[0m \u001b[32m━━━━━━━━━━━━━━━━━━━━\u001b[0m\u001b[37m\u001b[0m \u001b[1m1s\u001b[0m 17ms/step - acc: 0.5738 - loss: 0.6823 - val_acc: 0.4989 - val_loss: 0.7030\n",
      "Epoch 17/100\n",
      "\u001b[1m43/43\u001b[0m \u001b[32m━━━━━━━━━━━━━━━━━━━━\u001b[0m\u001b[37m\u001b[0m \u001b[1m1s\u001b[0m 17ms/step - acc: 0.5503 - loss: 0.6821 - val_acc: 0.4967 - val_loss: 0.7109\n"
     ]
    },
    {
     "data": {
      "text/plain": [
       "<keras.src.callbacks.history.History at 0x30970a640>"
      ]
     },
     "execution_count": 18,
     "metadata": {},
     "output_type": "execute_result"
    }
   ],
   "source": [
    "# 超参数范围（LSTM_num, dense_num）\n",
    "lower_bounds = [64, 16]\n",
    "upper_bounds = [256, 64]\n",
    "pop_size = pop_size\n",
    "max_iter = max_iter\n",
    "\n",
    "best_params, best_fitness =sparrow(pop_size, max_iter, 2, lower_bounds, upper_bounds, fitness_function)\n",
    "\n",
    "print(f\"最佳参数：LSTM_num={int(best_params[0])}, dense_num={int(best_params[1])}\")\n",
    "print(f\"最佳验证准确率：{best_fitness}\")\n",
    "\n",
    "\n",
    "# 用最佳参数训练最终模型\n",
    "final_model = my_model(daily_back=daily_back,  # 替换为实际值\n",
    "                       LSTM_num=int(best_params[0]),\n",
    "                       dense_num=int(best_params[1]),\n",
    "                       )\n",
    "final_model.fit(x=daily_train_prepared,y=target_train_prepared,batch_size=batch_size,\n",
    "                validation_split=0.25,epochs=epochs,callbacks=[early_stopping])"
   ]
  },
  {
   "cell_type": "markdown",
   "id": "e025ba5e-a33c-4474-9138-18ad1474565b",
   "metadata": {},
   "source": [
    "## 7.3 添加输出模型参数的代码块"
   ]
  },
  {
   "cell_type": "code",
   "execution_count": 19,
   "id": "f42bfef1-b9f0-4103-9a4d-c90f8bb13126",
   "metadata": {},
   "outputs": [
    {
     "data": {
      "image/png": "[encoded data removed]",
      "text/plain": [
       "<IPython.core.display.Image object>"
      ]
     },
     "execution_count": 19,
     "metadata": {},
     "output_type": "execute_result"
    }
   ],
   "source": [
    "plot_model(final_model, to_file='model_structure.png', show_shapes=True, show_layer_names=True)"
   ]
  },
  {
   "cell_type": "code",
   "execution_count": 20,
   "id": "6ebf83ca",
   "metadata": {},
   "outputs": [
    {
     "name": "stdout",
     "output_type": "stream",
     "text": [
      "Epoch 1/100\n",
      "\u001b[1m43/43\u001b[0m \u001b[32m━━━━━━━━━━━━━━━━━━━━\u001b[0m\u001b[37m\u001b[0m \u001b[1m1s\u001b[0m 18ms/step - acc: 0.5042 - loss: 0.6999 - val_acc: 0.4967 - val_loss: 0.6983\n",
      "Epoch 2/100\n",
      "\u001b[1m43/43\u001b[0m \u001b[32m━━━━━━━━━━━━━━━━━━━━\u001b[0m\u001b[37m\u001b[0m \u001b[1m1s\u001b[0m 17ms/step - acc: 0.5627 - loss: 0.6872 - val_acc: 0.4967 - val_loss: 0.7012\n",
      "Epoch 3/100\n",
      "\u001b[1m43/43\u001b[0m \u001b[32m━━━━━━━━━━━━━━━━━━━━\u001b[0m\u001b[37m\u001b[0m \u001b[1m1s\u001b[0m 16ms/step - acc: 0.5435 - loss: 0.6860 - val_acc: 0.4967 - val_loss: 0.6993\n",
      "Epoch 4/100\n",
      "\u001b[1m43/43\u001b[0m \u001b[32m━━━━━━━━━━━━━━━━━━━━\u001b[0m\u001b[37m\u001b[0m \u001b[1m1s\u001b[0m 17ms/step - acc: 0.5451 - loss: 0.6870 - val_acc: 0.4967 - val_loss: 0.6991\n",
      "Epoch 5/100\n",
      "\u001b[1m43/43\u001b[0m \u001b[32m━━━━━━━━━━━━━━━━━━━━\u001b[0m\u001b[37m\u001b[0m \u001b[1m1s\u001b[0m 18ms/step - acc: 0.5461 - loss: 0.6911 - val_acc: 0.4967 - val_loss: 0.7006\n",
      "Epoch 6/100\n",
      "\u001b[1m43/43\u001b[0m \u001b[32m━━━━━━━━━━━━━━━━━━━━\u001b[0m\u001b[37m\u001b[0m \u001b[1m1s\u001b[0m 17ms/step - acc: 0.5464 - loss: 0.6889 - val_acc: 0.4967 - val_loss: 0.7068\n",
      "Epoch 7/100\n",
      "\u001b[1m43/43\u001b[0m \u001b[32m━━━━━━━━━━━━━━━━━━━━\u001b[0m\u001b[37m\u001b[0m \u001b[1m1s\u001b[0m 18ms/step - acc: 0.5745 - loss: 0.6846 - val_acc: 0.4967 - val_loss: 0.7209\n",
      "Epoch 8/100\n",
      "\u001b[1m43/43\u001b[0m \u001b[32m━━━━━━━━━━━━━━━━━━━━\u001b[0m\u001b[37m\u001b[0m \u001b[1m1s\u001b[0m 18ms/step - acc: 0.5443 - loss: 0.6915 - val_acc: 0.4967 - val_loss: 0.6997\n",
      "Epoch 9/100\n",
      "\u001b[1m43/43\u001b[0m \u001b[32m━━━━━━━━━━━━━━━━━━━━\u001b[0m\u001b[37m\u001b[0m \u001b[1m1s\u001b[0m 17ms/step - acc: 0.5735 - loss: 0.6816 - val_acc: 0.5011 - val_loss: 0.6979\n",
      "Epoch 10/100\n",
      "\u001b[1m43/43\u001b[0m \u001b[32m━━━━━━━━━━━━━━━━━━━━\u001b[0m\u001b[37m\u001b[0m \u001b[1m1s\u001b[0m 17ms/step - acc: 0.5565 - loss: 0.6832 - val_acc: 0.4989 - val_loss: 0.7006\n",
      "Epoch 11/100\n",
      "\u001b[1m43/43\u001b[0m \u001b[32m━━━━━━━━━━━━━━━━━━━━\u001b[0m\u001b[37m\u001b[0m \u001b[1m1s\u001b[0m 18ms/step - acc: 0.5256 - loss: 0.6897 - val_acc: 0.5011 - val_loss: 0.7031\n",
      "Epoch 12/100\n",
      "\u001b[1m43/43\u001b[0m \u001b[32m━━━━━━━━━━━━━━━━━━━━\u001b[0m\u001b[37m\u001b[0m \u001b[1m1s\u001b[0m 16ms/step - acc: 0.5449 - loss: 0.6846 - val_acc: 0.5055 - val_loss: 0.6957\n",
      "Epoch 13/100\n",
      "\u001b[1m43/43\u001b[0m \u001b[32m━━━━━━━━━━━━━━━━━━━━\u001b[0m\u001b[37m\u001b[0m \u001b[1m1s\u001b[0m 17ms/step - acc: 0.5557 - loss: 0.6841 - val_acc: 0.5011 - val_loss: 0.7005\n",
      "Epoch 14/100\n",
      "\u001b[1m43/43\u001b[0m \u001b[32m━━━━━━━━━━━━━━━━━━━━\u001b[0m\u001b[37m\u001b[0m \u001b[1m1s\u001b[0m 18ms/step - acc: 0.5485 - loss: 0.6829 - val_acc: 0.5077 - val_loss: 0.7011\n",
      "Epoch 15/100\n",
      "\u001b[1m43/43\u001b[0m \u001b[32m━━━━━━━━━━━━━━━━━━━━\u001b[0m\u001b[37m\u001b[0m \u001b[1m1s\u001b[0m 17ms/step - acc: 0.5336 - loss: 0.6837 - val_acc: 0.5098 - val_loss: 0.6992\n",
      "Epoch 16/100\n",
      "\u001b[1m43/43\u001b[0m \u001b[32m━━━━━━━━━━━━━━━━━━━━\u001b[0m\u001b[37m\u001b[0m \u001b[1m1s\u001b[0m 17ms/step - acc: 0.5480 - loss: 0.6869 - val_acc: 0.5011 - val_loss: 0.7009\n",
      "Epoch 17/100\n",
      "\u001b[1m43/43\u001b[0m \u001b[32m━━━━━━━━━━━━━━━━━━━━\u001b[0m\u001b[37m\u001b[0m \u001b[1m1s\u001b[0m 18ms/step - acc: 0.5384 - loss: 0.6871 - val_acc: 0.5055 - val_loss: 0.6997\n",
      "Epoch 18/100\n",
      "\u001b[1m43/43\u001b[0m \u001b[32m━━━━━━━━━━━━━━━━━━━━\u001b[0m\u001b[37m\u001b[0m \u001b[1m1s\u001b[0m 17ms/step - acc: 0.5442 - loss: 0.6827 - val_acc: 0.5033 - val_loss: 0.7029\n",
      "Epoch 19/100\n",
      "\u001b[1m43/43\u001b[0m \u001b[32m━━━━━━━━━━━━━━━━━━━━\u001b[0m\u001b[37m\u001b[0m \u001b[1m1s\u001b[0m 16ms/step - acc: 0.5611 - loss: 0.6781 - val_acc: 0.5098 - val_loss: 0.7067\n",
      "Epoch 20/100\n",
      "\u001b[1m43/43\u001b[0m \u001b[32m━━━━━━━━━━━━━━━━━━━━\u001b[0m\u001b[37m\u001b[0m \u001b[1m1s\u001b[0m 16ms/step - acc: 0.5590 - loss: 0.6837 - val_acc: 0.5077 - val_loss: 0.7007\n",
      "Epoch 21/100\n",
      "\u001b[1m43/43\u001b[0m \u001b[32m━━━━━━━━━━━━━━━━━━━━\u001b[0m\u001b[37m\u001b[0m \u001b[1m1s\u001b[0m 19ms/step - acc: 0.5492 - loss: 0.6865 - val_acc: 0.5055 - val_loss: 0.7053\n",
      "Epoch 22/100\n",
      "\u001b[1m43/43\u001b[0m \u001b[32m━━━━━━━━━━━━━━━━━━━━\u001b[0m\u001b[37m\u001b[0m \u001b[1m1s\u001b[0m 16ms/step - acc: 0.5651 - loss: 0.6759 - val_acc: 0.5120 - val_loss: 0.7122\n",
      "Epoch 23/100\n",
      "\u001b[1m43/43\u001b[0m \u001b[32m━━━━━━━━━━━━━━━━━━━━\u001b[0m\u001b[37m\u001b[0m \u001b[1m1s\u001b[0m 17ms/step - acc: 0.5537 - loss: 0.6811 - val_acc: 0.5230 - val_loss: 0.7037\n",
      "Epoch 24/100\n",
      "\u001b[1m43/43\u001b[0m \u001b[32m━━━━━━━━━━━━━━━━━━━━\u001b[0m\u001b[37m\u001b[0m \u001b[1m1s\u001b[0m 17ms/step - acc: 0.5885 - loss: 0.6688 - val_acc: 0.5033 - val_loss: 0.7127\n",
      "Epoch 25/100\n",
      "\u001b[1m43/43\u001b[0m \u001b[32m━━━━━━━━━━━━━━━━━━━━\u001b[0m\u001b[37m\u001b[0m \u001b[1m1s\u001b[0m 17ms/step - acc: 0.5567 - loss: 0.6823 - val_acc: 0.5098 - val_loss: 0.7072\n",
      "Epoch 26/100\n",
      "\u001b[1m43/43\u001b[0m \u001b[32m━━━━━━━━━━━━━━━━━━━━\u001b[0m\u001b[37m\u001b[0m \u001b[1m1s\u001b[0m 17ms/step - acc: 0.5825 - loss: 0.6746 - val_acc: 0.5186 - val_loss: 0.7064\n",
      "Epoch 27/100\n",
      "\u001b[1m43/43\u001b[0m \u001b[32m━━━━━━━━━━━━━━━━━━━━\u001b[0m\u001b[37m\u001b[0m \u001b[1m1s\u001b[0m 18ms/step - acc: 0.5519 - loss: 0.6741 - val_acc: 0.5055 - val_loss: 0.7209\n"
     ]
    }
   ],
   "source": [
    "\n",
    "history = final_model.fit(x=daily_train_prepared,y=target_train_prepared,\n",
    "                          batch_size=batch_size,validation_split=0.25,epochs=epochs,callbacks=[early_stopping])\n"
   ]
  },
  {
   "cell_type": "markdown",
   "id": "0cd0ae96",
   "metadata": {},
   "source": [
    "## 7.5 model.evaluate(输入测试数据)，进行模型预测性能测试"
   ]
  },
  {
   "cell_type": "code",
   "execution_count": 23,
   "id": "47bd90e9",
   "metadata": {},
   "outputs": [
    {
     "name": "stdout",
     "output_type": "stream",
     "text": [
      "\u001b[1m14/14\u001b[0m \u001b[32m━━━━━━━━━━━━━━━━━━━━\u001b[0m\u001b[37m\u001b[0m \u001b[1m0s\u001b[0m 5ms/step - acc: 0.4713 - loss: 0.6980\n",
      "0.6954291462898254 0.49659863114356995\n"
     ]
    }
   ],
   "source": [
    "loss,accuracy = final_model.evaluate(daily_test_prepared,y=target_test_prepared)\n",
    "print(loss,accuracy)"
   ]
  },
  {
   "cell_type": "markdown",
   "id": "a62e60b0-7dc9-47e4-b131-df7a159dbf01",
   "metadata": {},
   "source": [
    "# 8. 回测"
   ]
  },
  {
   "cell_type": "markdown",
   "id": "d9607cca",
   "metadata": {},
   "source": [
    "# 构建y的函数"
   ]
  },
  {
   "cell_type": "code",
   "execution_count": 26,
   "id": "fc23d49f",
   "metadata": {},
   "outputs": [],
   "source": [
    "def gen_y_pred():\n",
    "    y_predict=final_model.predict(daily_test_prepared,batch_size=1).reshape(test_num-daily_back).tolist() ###batch_size要设为1，不然evaluate和predict结果不同\n",
    "    y_pred=[]\n",
    "    for i,v in enumerate(y_predict):\n",
    "        if v>0.5:\n",
    "            y_pred.append(1)\n",
    "        if v<0.5:\n",
    "            y_pred.append(0)\n",
    "    return y_pred"
   ]
  },
  {
   "cell_type": "markdown",
   "id": "915e4535",
   "metadata": {},
   "source": [
    "# 制作y"
   ]
  },
  {
   "cell_type": "code",
   "execution_count": 27,
   "id": "191b4fa7",
   "metadata": {},
   "outputs": [
    {
     "name": "stdout",
     "output_type": "stream",
     "text": [
      "\u001b[1m441/441\u001b[0m \u001b[32m━━━━━━━━━━━━━━━━━━━━\u001b[0m\u001b[37m\u001b[0m \u001b[1m1s\u001b[0m 2ms/step\n",
      "[1, 1, 1, 1, 1, 1, 1, 1, 1, 1, 1, 1, 1, 1, 1, 1, 1, 1, 1, 0, 0, 0, 0, 0, 0, 1, 0, 1, 1, 1, 1, 1, 1, 1, 1, 1, 1, 1, 1, 1, 1, 1, 1, 1, 1, 1, 1, 1, 1, 1, 0, 0, 0, 0, 1, 0, 0, 0, 0, 0, 0, 0, 0, 0, 0, 0, 0, 0, 0, 0, 0, 0, 0, 0, 0, 0, 0, 0, 0, 0, 0, 0, 0, 0, 0, 0, 1, 1, 1, 1, 1, 1, 1, 1, 1, 1, 1, 1, 1, 1, 1, 1, 1, 1, 1, 1, 1, 1, 1, 1, 1, 1, 1, 1, 1, 1, 1, 1, 1, 1, 1, 1, 1, 1, 1, 1, 1, 1, 1, 1, 1, 1, 1, 1, 1, 1, 1, 1, 1, 1, 1, 1, 1, 1, 1, 1, 1, 1, 1, 1, 1, 1, 1, 1, 1, 1, 1, 1, 1, 1, 1, 1, 1, 1, 1, 1, 1, 1, 1, 1, 1, 1, 1, 1, 1, 1, 1, 1, 1, 1, 1, 0, 0, 0, 0, 0, 0, 0, 0, 0, 0, 0, 0, 0, 0, 0, 0, 0, 0, 0, 0, 0, 0, 0, 0, 0, 0, 0, 0, 0, 0, 0, 0, 0, 0, 0, 0, 0, 0, 0, 0, 0, 0, 0, 0, 0, 0, 0, 0, 0, 0, 0, 0, 0, 0, 0, 0, 0, 0, 0, 0, 0, 0, 0, 0, 1, 1, 1, 1, 1, 1, 1, 0, 0, 0, 1, 1, 1, 1, 1, 1, 1, 1, 1, 1, 1, 1, 1, 1, 1, 1, 0, 0, 0, 0, 0, 0, 0, 1, 1, 1, 1, 1, 1, 1, 1, 1, 1, 1, 1, 1, 0, 0, 0, 0, 0, 0, 0, 0, 0, 0, 1, 1, 1, 1, 1, 1, 1, 1, 1, 1, 1, 1, 1, 1, 1, 1, 1, 1, 1, 1, 1, 1, 1, 1, 1, 1, 1, 1, 1, 1, 1, 1, 0, 0, 0, 0, 0, 0, 1, 1, 1, 0, 1, 1, 0, 0, 1, 1, 1, 1, 1, 1, 1, 1, 1, 1, 1, 1, 1, 1, 1, 1, 1, 1, 1, 1, 1, 1, 1, 1, 1, 1, 1, 1, 1, 1, 1, 1, 1, 1, 1, 1, 1, 1, 1, 1, 1, 1, 1, 1, 1, 1, 1, 1, 1, 1, 1, 1, 1, 1, 1, 1, 1, 1, 1, 1, 1, 1, 1, 1, 1, 1, 1, 1, 1, 1, 1, 1, 1, 1, 1, 1, 1, 1, 1, 1, 1, 1, 1, 1, 1, 1, 1, 1, 1, 0, 0, 0, 1, 1]\n"
     ]
    }
   ],
   "source": [
    "y_pred=gen_y_pred()\n",
    "print(y_pred)"
   ]
  },
  {
   "cell_type": "markdown",
   "id": "0e0f800a",
   "metadata": {},
   "source": [
    "#  构建使用测试集作为回测数据的类"
   ]
  },
  {
   "cell_type": "code",
   "execution_count": 34,
   "id": "31c753f6",
   "metadata": {},
   "outputs": [],
   "source": [
    "class Back_tes_trader:\n",
    "    def __init__(self,train_num,daily_back):\n",
    "        self.train_num=train_num\n",
    "        self.daily_back=daily_back\n",
    "        \n",
    "    def daily_test_data(self,data):\n",
    "        while True:\n",
    "            samples = data.loc[\n",
    "                data.index >=self.train_num+self.daily_back ,\n",
    "                ['open','close']]\n",
    "            print(data.index)\n",
    "            return samples\n",
    "        \n"
   ]
  },
  {
   "cell_type": "markdown",
   "id": "3d8bb8f4",
   "metadata": {},
   "source": [
    "# 回测数据集代入参数，形成回撤数据back_tes_trader"
   ]
  },
  {
   "cell_type": "code",
   "execution_count": 29,
   "id": "9555c139",
   "metadata": {},
   "outputs": [],
   "source": [
    "back_tes_trader=Back_tes_trader(train_num=train_num,daily_back=20)"
   ]
  },
  {
   "cell_type": "code",
   "execution_count": null,
   "id": "fdf8491f-132f-4a0f-90b9-68cad4c0c9f8",
   "metadata": {},
   "outputs": [],
   "source": []
  },
  {
   "cell_type": "code",
   "execution_count": 30,
   "id": "9b72e4c5",
   "metadata": {},
   "outputs": [],
   "source": [
    "def split_back_trader(train_num=train_num):\n",
    "\n",
    "    daily_test_df=daily_df.loc[daily_df.index>=train_num]\n",
    "\n",
    "    return {'daily_test_df':daily_test_df}"
   ]
  },
  {
   "cell_type": "code",
   "execution_count": 31,
   "id": "0caaf456",
   "metadata": {},
   "outputs": [],
   "source": [
    "back_df=split_back_trader()['daily_test_df']"
   ]
  },
  {
   "cell_type": "code",
   "execution_count": 32,
   "id": "ff686572",
   "metadata": {},
   "outputs": [
    {
     "data": {
      "application/vnd.microsoft.datawrangler.viewer.v0+json": {
       "columns": [
        {
         "name": "index",
         "rawType": "int64",
         "type": "integer"
        },
        {
         "name": "trade_time",
         "rawType": "datetime64[ns]",
         "type": "datetime"
        },
        {
         "name": "open",
         "rawType": "float64",
         "type": "float"
        },
        {
         "name": "high",
         "rawType": "float64",
         "type": "float"
        },
        {
         "name": "low",
         "rawType": "float64",
         "type": "float"
        },
        {
         "name": "close",
         "rawType": "float64",
         "type": "float"
        },
        {
         "name": "volume_rate",
         "rawType": "int64",
         "type": "integer"
        },
        {
         "name": "search_index",
         "rawType": "float64",
         "type": "float"
        },
        {
         "name": "sector_score",
         "rawType": "float64",
         "type": "float"
        }
       ],
       "ref": "c3a3b366-34ee-4d3a-a3c5-2756d3fa663f",
       "rows": [
        [
         "1846",
         "2023-08-22 00:00:00",
         "3103.78",
         "3126.78",
         "3074.53",
         "3120.33",
         "309316335",
         "266781.0",
         "-0.84894564654789"
        ],
        [
         "1847",
         "2023-08-23 00:00:00",
         "3116.27",
         "3116.38",
         "3077.61",
         "3078.4",
         "272244124",
         "265647.0",
         "-0.929211383887994"
        ],
        [
         "1848",
         "2023-08-24 00:00:00",
         "3085.91",
         "3106.18",
         "3072.95",
         "3082.24",
         "300024637",
         "254384.0",
         "-1.11575844750308"
        ],
        [
         "1849",
         "2023-08-25 00:00:00",
         "3068.62",
         "3085.05",
         "3053.04",
         "3064.07",
         "293347686",
         "256344.0",
         "-1.02282152268017"
        ],
        [
         "1850",
         "2023-08-28 00:00:00",
         "3219.04",
         "3219.04",
         "3089.12",
         "3098.64",
         "485607764",
         "473517.0",
         "-1.05815456770876"
        ],
        [
         "1851",
         "2023-08-29 00:00:00",
         "3091.94",
         "3145.76",
         "3090.44",
         "3135.89",
         "398875780",
         "323468.0",
         "-0.780880318677985"
        ],
        [
         "1852",
         "2023-08-30 00:00:00",
         "3144.41",
         "3153.69",
         "3126.9",
         "3137.14",
         "347511867",
         "267027.0",
         "-1.02098877649086"
        ],
        [
         "1853",
         "2023-08-31 00:00:00",
         "3134.55",
         "3139.98",
         "3113.95",
         "3119.88",
         "313448242",
         "239307.0",
         "-1.09337102493541"
        ],
        [
         "1854",
         "2023-09-01 00:00:00",
         "3126.02",
         "3143.85",
         "3123.19",
         "3133.25",
         "292310992",
         "216721.0",
         "-1.12697807841196"
        ],
        [
         "1855",
         "2023-09-04 00:00:00",
         "3145.94",
         "3177.06",
         "3143.38",
         "3177.06",
         "366391140",
         "214657.0",
         "-0.909095563753128"
        ],
        [
         "1856",
         "2023-09-05 00:00:00",
         "3169.74",
         "3169.74",
         "3150.08",
         "3154.37",
         "294061849",
         "211734.0",
         "-1.20773044143877"
        ],
        [
         "1857",
         "2023-09-06 00:00:00",
         "3147.14",
         "3162.15",
         "3136.9",
         "3158.08",
         "267002230",
         "207036.0",
         "-1.04596855518269"
        ],
        [
         "1858",
         "2023-09-07 00:00:00",
         "3152.2",
         "3152.27",
         "3120.82",
         "3122.35",
         "269264733",
         "218825.0",
         "-1.05352704319668"
        ],
        [
         "1859",
         "2023-09-08 00:00:00",
         "3114.23",
         "3126.04",
         "3104.67",
         "3116.72",
         "228125064",
         "218287.0",
         "-1.0849570924189"
        ],
        [
         "1860",
         "2023-09-11 00:00:00",
         "3119.61",
         "3155.1",
         "3113.82",
         "3142.78",
         "290442917",
         "203726.0",
         "-0.800305564943989"
        ],
        [
         "1861",
         "2023-09-12 00:00:00",
         "3140.34",
         "3147.51",
         "3134.32",
         "3137.06",
         "234672051",
         "194017.0",
         "-0.993355512830907"
        ],
        [
         "1862",
         "2023-09-13 00:00:00",
         "3137.77",
         "3143.76",
         "3106.97",
         "3123.07",
         "249701038",
         "207480.0",
         "-0.991990327400526"
        ],
        [
         "1863",
         "2023-09-14 00:00:00",
         "3124.85",
         "3135.03",
         "3111.86",
         "3126.55",
         "263990138",
         "200549.0",
         "-1.07785604330588"
        ],
        [
         "1864",
         "2023-09-15 00:00:00",
         "3133.59",
         "3141.96",
         "3107.45",
         "3117.74",
         "292026365",
         "212209.0",
         "-0.99764997791188"
        ],
        [
         "1865",
         "2023-09-18 00:00:00",
         "3110.44",
         "3128.7",
         "3098.5",
         "3125.93",
         "259444257",
         "198560.0",
         "-0.97076023447427"
        ],
        [
         "1866",
         "2023-09-19 00:00:00",
         "3123.99",
         "3131.13",
         "3113.53",
         "3124.96",
         "253652761",
         "193749.0",
         "-1.14040577375537"
        ],
        [
         "1867",
         "2023-09-20 00:00:00",
         "3118.67",
         "3122.13",
         "3108.16",
         "3108.57",
         "228124462",
         "188494.0",
         "-1.0476981731522"
        ],
        [
         "1868",
         "2023-09-21 00:00:00",
         "3103.18",
         "3113.49",
         "3084.7",
         "3084.7",
         "228659100",
         "218740.0",
         "-1.04736723471087"
        ],
        [
         "1869",
         "2023-09-22 00:00:00",
         "3084.76",
         "3132.56",
         "3078.8",
         "3132.43",
         "285978351",
         "202824.0",
         "-0.80007695369726"
        ],
        [
         "1870",
         "2023-09-25 00:00:00",
         "3131.21",
         "3131.21",
         "3112.15",
         "3115.61",
         "258071885",
         "190489.0",
         "-0.875752465544199"
        ],
        [
         "1871",
         "2023-09-26 00:00:00",
         "3114.02",
         "3120.29",
         "3102.27",
         "3102.27",
         "222644313",
         "179780.0",
         "-0.959171898827002"
        ],
        [
         "1872",
         "2023-09-27 00:00:00",
         "3104.04",
         "3125.45",
         "3103.84",
         "3107.32",
         "240495830",
         "175551.0",
         "-0.796707515713624"
        ],
        [
         "1873",
         "2023-09-28 00:00:00",
         "3117.75",
         "3121.84",
         "3105.94",
         "3110.48",
         "236329981",
         "161615.0",
         "-0.623326796673933"
        ],
        [
         "1874",
         "2023-10-09 00:00:00",
         "3100.0",
         "3103.36",
         "3072.64",
         "3096.92",
         "264422205",
         "203861.0",
         "-0.756450136269218"
        ],
        [
         "1875",
         "2023-10-10 00:00:00",
         "3104.37",
         "3109.98",
         "3073.19",
         "3075.24",
         "255327379",
         "182567.0",
         "-0.788622186473099"
        ],
        [
         "1876",
         "2023-10-11 00:00:00",
         "3085.7",
         "3095.66",
         "3071.94",
         "3078.96",
         "259918692",
         "177652.0",
         "-0.791279563554494"
        ],
        [
         "1877",
         "2023-10-12 00:00:00",
         "3101.71",
         "3109.99",
         "3092.18",
         "3107.9",
         "274827998",
         "177885.0",
         "-0.967283605670622"
        ],
        [
         "1878",
         "2023-10-13 00:00:00",
         "3092.0",
         "3094.92",
         "3080.55",
         "3088.1",
         "255085235",
         "177911.0",
         "-1.03590216036065"
        ],
        [
         "1879",
         "2023-10-16 00:00:00",
         "3091.06",
         "3091.13",
         "3063.69",
         "3073.81",
         "263882363",
         "190988.0",
         "-0.943045469182975"
        ],
        [
         "1880",
         "2023-10-17 00:00:00",
         "3076.43",
         "3084.07",
         "3064.89",
         "3083.5",
         "259019588",
         "183436.0",
         "-0.93039338150865"
        ],
        [
         "1881",
         "2023-10-18 00:00:00",
         "3076.58",
         "3076.58",
         "3057.06",
         "3058.71",
         "268647155",
         "201583.0",
         "-0.947432147448822"
        ],
        [
         "1882",
         "2023-10-19 00:00:00",
         "3043.2",
         "3043.2",
         "3004.77",
         "3005.39",
         "304038910",
         "274132.0",
         "-0.800797754957287"
        ],
        [
         "1883",
         "2023-10-20 00:00:00",
         "2995.36",
         "3006.27",
         "2977.17",
         "2983.06",
         "267113594",
         "336848.0",
         "-0.756847721824456"
        ],
        [
         "1884",
         "2023-10-23 00:00:00",
         "2969.79",
         "2973.66",
         "2923.51",
         "2939.29",
         "278904128",
         "354736.0",
         "-0.873961073109861"
        ],
        [
         "1885",
         "2023-10-24 00:00:00",
         "2944.31",
         "2964.76",
         "2929.09",
         "2962.24",
         "310985389",
         "316540.0",
         "-0.874776935181723"
        ],
        [
         "1886",
         "2023-10-25 00:00:00",
         "2986.41",
         "2993.3",
         "2972.42",
         "2974.11",
         "332392004",
         "264595.0",
         "-0.922950023964132"
        ],
        [
         "1887",
         "2023-10-26 00:00:00",
         "2960.1",
         "2990.33",
         "2956.01",
         "2988.3",
         "291814511",
         "244066.0",
         "-0.813463787371422"
        ],
        [
         "1888",
         "2023-10-27 00:00:00",
         "2978.4",
         "3029.21",
         "2974.88",
         "3017.78",
         "321803717",
         "240236.0",
         "-0.65318249883159"
        ],
        [
         "1889",
         "2023-10-30 00:00:00",
         "3009.61",
         "3028.26",
         "3002.35",
         "3021.55",
         "360604238",
         "222216.0",
         "-0.648135081772729"
        ],
        [
         "1890",
         "2023-10-31 00:00:00",
         "3019.65",
         "3023.0",
         "3006.61",
         "3018.77",
         "319859967",
         "214332.0",
         "-0.799726465411901"
        ],
        [
         "1891",
         "2023-11-01 00:00:00",
         "3038.18",
         "3038.33",
         "3013.93",
         "3023.08",
         "280110445",
         "210120.0",
         "-0.715142758252056"
        ],
        [
         "1892",
         "2023-11-02 00:00:00",
         "3028.66",
         "3038.64",
         "3009.12",
         "3009.41",
         "268794581",
         "192896.0",
         "-0.913222572552977"
        ],
        [
         "1893",
         "2023-11-03 00:00:00",
         "3012.47",
         "3040.98",
         "3012.47",
         "3030.8",
         "268486347",
         "188337.0",
         "-0.808844709725307"
        ],
        [
         "1894",
         "2023-11-06 00:00:00",
         "3047.13",
         "3058.99",
         "3037.69",
         "3058.41",
         "372949630",
         "197114.0",
         "-0.70865136709591"
        ],
        [
         "1895",
         "2023-11-07 00:00:00",
         "3052.92",
         "3064.58",
         "3042.47",
         "3057.27",
         "326853455",
         "197247.0",
         "-0.576101646912441"
        ]
       ],
       "shape": {
        "columns": 8,
        "rows": 461
       }
      },
      "text/html": [
       "<div>\n",
       "<style scoped>\n",
       "    .dataframe tbody tr th:only-of-type {\n",
       "        vertical-align: middle;\n",
       "    }\n",
       "\n",
       "    .dataframe tbody tr th {\n",
       "        vertical-align: top;\n",
       "    }\n",
       "\n",
       "    .dataframe thead th {\n",
       "        text-align: right;\n",
       "    }\n",
       "</style>\n",
       "<table border=\"1\" class=\"dataframe\">\n",
       "  <thead>\n",
       "    <tr style=\"text-align: right;\">\n",
       "      <th></th>\n",
       "      <th>trade_time</th>\n",
       "      <th>open</th>\n",
       "      <th>high</th>\n",
       "      <th>low</th>\n",
       "      <th>close</th>\n",
       "      <th>volume_rate</th>\n",
       "      <th>search_index</th>\n",
       "      <th>sector_score</th>\n",
       "    </tr>\n",
       "  </thead>\n",
       "  <tbody>\n",
       "    <tr>\n",
       "      <th>1846</th>\n",
       "      <td>2023-08-22</td>\n",
       "      <td>3103.78</td>\n",
       "      <td>3126.78</td>\n",
       "      <td>3074.53</td>\n",
       "      <td>3120.33</td>\n",
       "      <td>309316335</td>\n",
       "      <td>266781.0</td>\n",
       "      <td>-0.848946</td>\n",
       "    </tr>\n",
       "    <tr>\n",
       "      <th>1847</th>\n",
       "      <td>2023-08-23</td>\n",
       "      <td>3116.27</td>\n",
       "      <td>3116.38</td>\n",
       "      <td>3077.61</td>\n",
       "      <td>3078.40</td>\n",
       "      <td>272244124</td>\n",
       "      <td>265647.0</td>\n",
       "      <td>-0.929211</td>\n",
       "    </tr>\n",
       "    <tr>\n",
       "      <th>1848</th>\n",
       "      <td>2023-08-24</td>\n",
       "      <td>3085.91</td>\n",
       "      <td>3106.18</td>\n",
       "      <td>3072.95</td>\n",
       "      <td>3082.24</td>\n",
       "      <td>300024637</td>\n",
       "      <td>254384.0</td>\n",
       "      <td>-1.115758</td>\n",
       "    </tr>\n",
       "    <tr>\n",
       "      <th>1849</th>\n",
       "      <td>2023-08-25</td>\n",
       "      <td>3068.62</td>\n",
       "      <td>3085.05</td>\n",
       "      <td>3053.04</td>\n",
       "      <td>3064.07</td>\n",
       "      <td>293347686</td>\n",
       "      <td>256344.0</td>\n",
       "      <td>-1.022822</td>\n",
       "    </tr>\n",
       "    <tr>\n",
       "      <th>1850</th>\n",
       "      <td>2023-08-28</td>\n",
       "      <td>3219.04</td>\n",
       "      <td>3219.04</td>\n",
       "      <td>3089.12</td>\n",
       "      <td>3098.64</td>\n",
       "      <td>485607764</td>\n",
       "      <td>473517.0</td>\n",
       "      <td>-1.058155</td>\n",
       "    </tr>\n",
       "    <tr>\n",
       "      <th>...</th>\n",
       "      <td>...</td>\n",
       "      <td>...</td>\n",
       "      <td>...</td>\n",
       "      <td>...</td>\n",
       "      <td>...</td>\n",
       "      <td>...</td>\n",
       "      <td>...</td>\n",
       "      <td>...</td>\n",
       "    </tr>\n",
       "    <tr>\n",
       "      <th>2302</th>\n",
       "      <td>2025-07-14</td>\n",
       "      <td>3513.25</td>\n",
       "      <td>3532.12</td>\n",
       "      <td>3513.25</td>\n",
       "      <td>3519.65</td>\n",
       "      <td>572084705</td>\n",
       "      <td>NaN</td>\n",
       "      <td>NaN</td>\n",
       "    </tr>\n",
       "    <tr>\n",
       "      <th>2303</th>\n",
       "      <td>2025-07-15</td>\n",
       "      <td>3519.81</td>\n",
       "      <td>3527.04</td>\n",
       "      <td>3483.38</td>\n",
       "      <td>3505.00</td>\n",
       "      <td>572074726</td>\n",
       "      <td>NaN</td>\n",
       "      <td>NaN</td>\n",
       "    </tr>\n",
       "    <tr>\n",
       "      <th>2304</th>\n",
       "      <td>2025-07-16</td>\n",
       "      <td>3502.90</td>\n",
       "      <td>3511.81</td>\n",
       "      <td>3489.14</td>\n",
       "      <td>3503.78</td>\n",
       "      <td>470878578</td>\n",
       "      <td>NaN</td>\n",
       "      <td>NaN</td>\n",
       "    </tr>\n",
       "    <tr>\n",
       "      <th>2305</th>\n",
       "      <td>2025-07-17</td>\n",
       "      <td>3500.37</td>\n",
       "      <td>3517.28</td>\n",
       "      <td>3499.19</td>\n",
       "      <td>3516.83</td>\n",
       "      <td>472211056</td>\n",
       "      <td>NaN</td>\n",
       "      <td>NaN</td>\n",
       "    </tr>\n",
       "    <tr>\n",
       "      <th>2306</th>\n",
       "      <td>2025-07-18</td>\n",
       "      <td>3519.48</td>\n",
       "      <td>3536.01</td>\n",
       "      <td>3518.23</td>\n",
       "      <td>3534.48</td>\n",
       "      <td>493484088</td>\n",
       "      <td>NaN</td>\n",
       "      <td>NaN</td>\n",
       "    </tr>\n",
       "  </tbody>\n",
       "</table>\n",
       "<p>461 rows × 8 columns</p>\n",
       "</div>"
      ],
      "text/plain": [
       "     trade_time     open     high      low    close  volume_rate  \\\n",
       "1846 2023-08-22  3103.78  3126.78  3074.53  3120.33    309316335   \n",
       "1847 2023-08-23  3116.27  3116.38  3077.61  3078.40    272244124   \n",
       "1848 2023-08-24  3085.91  3106.18  3072.95  3082.24    300024637   \n",
       "1849 2023-08-25  3068.62  3085.05  3053.04  3064.07    293347686   \n",
       "1850 2023-08-28  3219.04  3219.04  3089.12  3098.64    485607764   \n",
       "...         ...      ...      ...      ...      ...          ...   \n",
       "2302 2025-07-14  3513.25  3532.12  3513.25  3519.65    572084705   \n",
       "2303 2025-07-15  3519.81  3527.04  3483.38  3505.00    572074726   \n",
       "2304 2025-07-16  3502.90  3511.81  3489.14  3503.78    470878578   \n",
       "2305 2025-07-17  3500.37  3517.28  3499.19  3516.83    472211056   \n",
       "2306 2025-07-18  3519.48  3536.01  3518.23  3534.48    493484088   \n",
       "\n",
       "      search_index  sector_score  \n",
       "1846      266781.0     -0.848946  \n",
       "1847      265647.0     -0.929211  \n",
       "1848      254384.0     -1.115758  \n",
       "1849      256344.0     -1.022822  \n",
       "1850      473517.0     -1.058155  \n",
       "...            ...           ...  \n",
       "2302           NaN           NaN  \n",
       "2303           NaN           NaN  \n",
       "2304           NaN           NaN  \n",
       "2305           NaN           NaN  \n",
       "2306           NaN           NaN  \n",
       "\n",
       "[461 rows x 8 columns]"
      ]
     },
     "execution_count": 32,
     "metadata": {},
     "output_type": "execute_result"
    }
   ],
   "source": [
    "back_df"
   ]
  },
  {
   "cell_type": "code",
   "execution_count": 36,
   "id": "ecd75b7e",
   "metadata": {},
   "outputs": [
    {
     "name": "stdout",
     "output_type": "stream",
     "text": [
      "Index([1846, 1847, 1848, 1849, 1850, 1851, 1852, 1853, 1854, 1855,\n",
      "       ...\n",
      "       2297, 2298, 2299, 2300, 2301, 2302, 2303, 2304, 2305, 2306],\n",
      "      dtype='int64', length=461)\n"
     ]
    }
   ],
   "source": [
    "backtrader_df=back_tes_trader.daily_test_data(back_df)"
   ]
  },
  {
   "cell_type": "markdown",
   "id": "ba8c3651",
   "metadata": {},
   "source": [
    "# 形成day_rate_of_return日内收益率，和rate_of_return隔夜收益率"
   ]
  },
  {
   "cell_type": "code",
   "execution_count": 37,
   "id": "d84028e8",
   "metadata": {},
   "outputs": [
    {
     "name": "stdout",
     "output_type": "stream",
     "text": [
      "         open    close  rate_of_return  day_rate_of_return  last_close  \\\n",
      "1866  3123.99  3124.96             NaN            0.000311         NaN   \n",
      "1867  3118.67  3108.57       -0.005245           -0.003239     3124.96   \n",
      "1868  3103.18  3084.70       -0.007679           -0.005955     3108.57   \n",
      "1869  3084.76  3132.43        0.015473            0.015453     3084.70   \n",
      "1870  3131.21  3115.61       -0.005370           -0.004982     3132.43   \n",
      "...       ...      ...             ...                 ...         ...   \n",
      "2302  3513.25  3519.65        0.002698            0.001822     3510.18   \n",
      "2303  3519.81  3505.00       -0.004162           -0.004208     3519.65   \n",
      "2304  3502.90  3503.78       -0.000348            0.000251     3505.00   \n",
      "2305  3500.37  3516.83        0.003725            0.004702     3503.78   \n",
      "2306  3519.48  3534.48        0.005019            0.004262     3516.83   \n",
      "\n",
      "      sale_rate_of_return  \n",
      "1866                  NaN  \n",
      "1867            -0.002013  \n",
      "1868            -0.001734  \n",
      "1869             0.000019  \n",
      "1870            -0.000389  \n",
      "...                   ...  \n",
      "2302             0.000875  \n",
      "2303             0.000045  \n",
      "2304            -0.000599  \n",
      "2305            -0.000973  \n",
      "2306             0.000754  \n",
      "\n",
      "[441 rows x 6 columns]\n",
      "(441, 6)\n"
     ]
    }
   ],
   "source": [
    "# 计算收益率\n",
    "backtrader_df['rate_of_return'] = backtrader_df['close'].rolling(2).apply(lambda x: x[1] / x[0] - 1, raw=True)\n",
    "backtrader_df['day_rate_of_return'] = backtrader_df['close'] / backtrader_df['open'] - 1\n",
    "\n",
    "# 将前一天的收盘价作为last_close，这样长度会自动匹配\n",
    "backtrader_df['last_close'] = backtrader_df['close'].shift(1)\n",
    "\n",
    "# 只保留需要的部分（根据你的train_num和daily_back条件）\n",
    "start_idx = train_num + daily_back + 1\n",
    "backtrader_df.loc[backtrader_df.index < start_idx, 'last_close'] = None\n",
    "\n",
    "# 计算卖出收益率\n",
    "backtrader_df['sale_rate_of_return'] = backtrader_df['open'] / backtrader_df['last_close'] - 1\n",
    "\n",
    "print(backtrader_df)\n",
    "print(backtrader_df.shape)\n",
    "trade_day_return_list = []\n",
    "return_multiple_list = []\n",
    "every_day_return_list = []"
   ]
  },
  {
   "cell_type": "markdown",
   "id": "94506474",
   "metadata": {},
   "source": [
    "# 回测交易逻辑"
   ]
  },
  {
   "cell_type": "code",
   "execution_count": 38,
   "id": "4a2a5071",
   "metadata": {},
   "outputs": [],
   "source": [
    "def backtrader(list,df):\n",
    "    a=0\n",
    "\n",
    "    return_multiple = 1\n",
    "    for i,v in enumerate(list):\n",
    "        if (v ==1)&(a==0):\n",
    "            b=(1 + df.loc[train_num+daily_back + i, 'day_rate_of_return'])\n",
    "            return_multiple= return_multiple * b\n",
    "            a=1\n",
    "            trade_day_return_list.append(b-1)\n",
    "            return_multiple_list.append(return_multiple)\n",
    "            every_day_return_list.append(b - 1)\n",
    "\n",
    "        elif (v ==1)&(a==1):\n",
    "            b=(1 + df.loc[train_num+daily_back + i, 'rate_of_return'])\n",
    "            return_multiple= return_multiple *b\n",
    "            a=a\n",
    "            trade_day_return_list.append(b-1)\n",
    "            return_multiple_list.append(return_multiple)\n",
    "            every_day_return_list.append(b - 1)\n",
    "        elif (v==0)&(a==1):\n",
    "            a=0\n",
    "            b = (1 + df.loc[train_num+daily_back + i, 'sale_rate_of_return'])\n",
    "            return_multiple=return_multiple*b\n",
    "            trade_day_return_list.append(b-1)\n",
    "            every_day_return_list.append(b - 1)\n",
    "            return_multiple_list.append(return_multiple)\n",
    "        elif (v==0)&(a==0):\n",
    "            return_multiple=return_multiple\n",
    "            a=a\n",
    "            every_day_return_list.append(0)\n",
    "\n",
    "\n",
    "    return a,trade_day_return_list,return_multiple,return_multiple_list,every_day_return_list"
   ]
  },
  {
   "cell_type": "code",
   "execution_count": null,
   "id": "80a6e92b",
   "metadata": {},
   "outputs": [],
   "source": []
  },
  {
   "cell_type": "code",
   "execution_count": 39,
   "id": "4eda96a9",
   "metadata": {},
   "outputs": [
    {
     "name": "stdout",
     "output_type": "stream",
     "text": [
      "夏普比率： 0.8084209574106618\n",
      "收益率： 0.22102495525039378\n"
     ]
    }
   ],
   "source": [
    "result=backtrader(y_pred,backtrader_df)\n",
    "\n",
    "pingjun_nian_jiaoyi_ri=240*len(result[1])/(len(y_pred))\n",
    "sharp=(np.mean(result[1]))/(np.std(result[1],ddof=1))*np.sqrt(pingjun_nian_jiaoyi_ri)\n",
    "\n",
    "print('夏普比率：',sharp)\n",
    "print('收益率：',result[2]-1)\n"
   ]
  },
  {
   "cell_type": "code",
   "execution_count": null,
   "id": "3f2ded5b",
   "metadata": {},
   "outputs": [],
   "source": []
  },
  {
   "cell_type": "code",
   "execution_count": 40,
   "id": "e894d8b3",
   "metadata": {},
   "outputs": [],
   "source": [
    "every_day_return_list=result=backtrader(y_pred,backtrader_df)[4]"
   ]
  },
  {
   "cell_type": "code",
   "execution_count": 41,
   "id": "c359f589",
   "metadata": {},
   "outputs": [
    {
     "name": "stdout",
     "output_type": "stream",
     "text": [
      "最大回撤: -0.13631400223873638\n"
     ]
    }
   ],
   "source": [
    "# 基于完整每日收益计算（推荐）\n",
    "daily_factors = pd.Series(every_day_return_list) + 1  # 包含空仓日（空仓日为1.0）\n",
    "cumulative_factors = daily_factors.cumprod()  # 完整累计收益倍数\n",
    "rolling_max_factors = cumulative_factors.cummax()\n",
    "drawdown_returns = (cumulative_factors - rolling_max_factors) / rolling_max_factors\n",
    "max_drawdown = drawdown_returns.min()\n",
    "print(\"最大回撤:\", max_drawdown)"
   ]
  },
  {
   "cell_type": "code",
   "execution_count": null,
   "id": "d346e244",
   "metadata": {},
   "outputs": [],
   "source": []
  },
  {
   "cell_type": "code",
   "execution_count": 42,
   "id": "eb03bdd8",
   "metadata": {},
   "outputs": [
    {
     "data": {
      "image/png": "[encoded data removed]",
      "text/plain": [
       "<Figure size 640x480 with 1 Axes>"
      ]
     },
     "metadata": {},
     "output_type": "display_data"
    },
    {
     "data": {
      "image/png": "[encoded data removed]",
      "text/plain": [
       "<Figure size 640x480 with 1 Axes>"
      ]
     },
     "metadata": {},
     "output_type": "display_data"
    }
   ],
   "source": [
    "def paint():\n",
    "    acc=history.history['acc']\n",
    "    val_acc=history.history['val_acc']\n",
    "    loss=history.history['loss']\n",
    "    val_loss=history.history['val_loss']\n",
    "\n",
    "    epochs=range(len(acc))\n",
    "    plt.plot(epochs,acc,'bo',label='Training acc')\n",
    "    plt.plot(epochs,val_acc,'b',label='Validation acc')\n",
    "    plt.title('Training and validation accuracy')\n",
    "    plt.legend()\n",
    "\n",
    "    plt.figure()\n",
    "\n",
    "    plt.plot(epochs,loss,'bo',label='Training loss')\n",
    "    plt.plot(epochs,val_loss,'b',label='Validation loss')\n",
    "    plt.title('Training and validation loss')\n",
    "    plt.legend()\n",
    "    return plt\n",
    "my_paint=paint()\n",
    "my_paint.show()"
   ]
  },
  {
   "cell_type": "markdown",
   "id": "ff449cf1",
   "metadata": {},
   "source": [
    "# 混淆矩阵绘制"
   ]
  },
  {
   "cell_type": "code",
   "execution_count": 44,
   "id": "6a2eaf54",
   "metadata": {},
   "outputs": [
    {
     "name": "stdout",
     "output_type": "stream",
     "text": [
      "混淆矩阵： [[152  71]\n",
      " [151  67]]\n",
      "查准率： 0.5016501650165016\n",
      "查全率： 0.6816143497757847\n",
      "f1-score: 0.5779467680608364\n"
     ]
    }
   ],
   "source": [
    "confusion_matrix = confusion_matrix(target_test_prepared, y_pred,labels=[1,0])\n",
    "precision_score=precision_score(target_test_prepared, y_pred)\n",
    "recall_score=recall_score(target_test_prepared, y_pred)\n",
    "f1_score=f1_score(target_test_prepared, y_pred)\n",
    "\n",
    "print('混淆矩阵：',confusion_matrix)\n",
    "print('查准率：',precision_score)\n",
    "print('查全率：',recall_score)\n",
    "print('f1-score:',f1_score)"
   ]
  },
  {
   "cell_type": "code",
   "execution_count": null,
   "id": "f48b8b1a",
   "metadata": {},
   "outputs": [],
   "source": []
  },
  {
   "cell_type": "code",
   "execution_count": 46,
   "id": "52941452",
   "metadata": {},
   "outputs": [
    {
     "name": "stdout",
     "output_type": "stream",
     "text": [
      "\u001b[1m14/14\u001b[0m \u001b[32m━━━━━━━━━━━━━━━━━━━━\u001b[0m\u001b[37m\u001b[0m \u001b[1m0s\u001b[0m 5ms/step\n"
     ]
    },
    {
     "data": {
      "image/png": "[encoded data removed]",
      "text/plain": [
       "<Figure size 640x480 with 1 Axes>"
      ]
     },
     "metadata": {},
     "output_type": "display_data"
    }
   ],
   "source": [
    "y_predict=final_model.predict(daily_test_prepared).reshape(test_num-daily_back).tolist()\n",
    "fpr,tpr,threshold = roc_curve(target_test_prepared, y_predict) ###计算真正率和假正率\n",
    "# print(fpr,tpr,threshold)\n",
    "roc_auc = auc(fpr,tpr)\n",
    "\n",
    "\n",
    "lw = 2\n",
    "plt.figure()\n",
    "plt.plot(fpr, tpr, color='darkorange',\n",
    "         lw=lw, label='ROC curve (area = %0.2f)' % roc_auc) ###假正率为横坐标，真正率为纵坐标做曲线\n",
    "plt.plot([0, 1], [0, 1], color='navy', lw=lw, linestyle='--')\n",
    "plt.xlim([0.0, 1.0])\n",
    "plt.ylim([0.0, 1.05])\n",
    "plt.xlabel('False Positive Rate')\n",
    "plt.ylabel('True Positive Rate')\n",
    "plt.title('Receiver operating characteristic example')\n",
    "plt.legend(loc=\"lower right\")\n",
    "plt.show()"
   ]
  }
 ],
 "metadata": {
  "kernelspec": {
   "display_name": "tf_env",
   "language": "python",
   "name": "python3"
  },
  "language_info": {
   "codemirror_mode": {
    "name": "ipython",
    "version": 3
   },
   "file_extension": ".py",
   "mimetype": "text/x-python",
   "name": "python",
   "nbconvert_exporter": "python",
   "pygments_lexer": "ipython3",
   "version": "3.9.21"
  }
 },
 "nbformat": 4,
 "nbformat_minor": 5
}
