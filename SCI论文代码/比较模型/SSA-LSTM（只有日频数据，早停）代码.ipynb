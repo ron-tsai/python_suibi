{
 "cells": [
  {
   "cell_type": "markdown",
   "id": "49f433dd-af84-4c82-b8e3-1d4950fbdf36",
   "metadata": {},
   "source": [
    "# 1. 导入python库"
   ]
  },
  {
   "cell_type": "code",
   "execution_count": 1,
   "id": "3f02e0e4-772a-47f3-bbd7-68372bf70654",
   "metadata": {},
   "outputs": [],
   "source": [
    "import pandas as pd\n",
    "import numpy as np\n",
    "import os\n",
    "\n",
    "%matplotlib inline\n",
    "from matplotlib import pyplot as plt\n",
    "\n",
    "from tensorflow.keras.models import Model\n",
    "from tensorflow.keras import layers\n",
    "from tensorflow.keras import Input\n",
    "from tensorflow.keras.optimizers import Adam\n",
    "from tensorflow.keras.utils import plot_model\n",
    "\n",
    "from sklearn.metrics import confusion_matrix, roc_curve, auc, recall_score, precision_score, f1_score\n",
    "from tensorflow.keras.callbacks import EarlyStopping\n"
   ]
  },
  {
   "cell_type": "markdown",
   "id": "fa353efb",
   "metadata": {},
   "source": [
    "# 2. 参数设置"
   ]
  },
  {
   "cell_type": "code",
   "execution_count": 2,
   "id": "ccfe2d2a",
   "metadata": {
    "scrolled": true
   },
   "outputs": [],
   "source": [
    "daily_back=20\n",
    "\n",
    "batch_size=32\n",
    "epochs=100\n",
    "patience=15\n",
    "\n",
    "LSTM_num=100\n",
    "dense_num=20\n",
    "\n",
    "pop_size = 1\n",
    "max_iter = 2\n",
    "\n",
    "mix_file='daily_data.xlsx'\n",
    "first_columns='search_index'\n",
    "\n",
    "\n",
    "total_day=2338 #根据查看沪深300数据表，得到数值\n",
    "train_num=1870\n",
    "# total_day=2159 #根据查看上证指数数据表，得到数值\n",
    "# train_num=1295\n",
    "test_num=total_day-train_num"
   ]
  },
  {
   "cell_type": "markdown",
   "id": "1006d29e",
   "metadata": {},
   "source": []
  },
  {
   "cell_type": "markdown",
   "id": "08c9b0fa",
   "metadata": {},
   "source": [
    "# 3. 读取原始数据"
   ]
  },
  {
   "cell_type": "code",
   "execution_count": 3,
   "id": "c5a53a33",
   "metadata": {},
   "outputs": [],
   "source": [
    "new_dir='/Users/ccmac/Desktop/完成SCI数据'\n",
    "\n",
    "\n",
    "daily_df=pd.read_excel(os.path.join(new_dir,mix_file))\n",
    "fif_df=pd.read_excel(os.path.join(new_dir,'fif_data.xlsx'))\n",
    "target_df=pd.read_excel(os.path.join(new_dir,'target.xlsx'))\n"
   ]
  },
  {
   "cell_type": "markdown",
   "id": "62075d36-f9cf-4309-a201-1ef014f56cb4",
   "metadata": {},
   "source": [
    "# 4. 标准化"
   ]
  },
  {
   "cell_type": "markdown",
   "id": "a093f0e5",
   "metadata": {},
   "source": [
    "## 4.1 历史数据标准化函数norm"
   ]
  },
  {
   "cell_type": "code",
   "execution_count": 4,
   "id": "6f00c73f",
   "metadata": {},
   "outputs": [],
   "source": [
    "def normalize_data(df):\n",
    "    \"\"\"对DataFrame的指定列进行标准化处理（Z-score标准化）\"\"\"\n",
    "    # 复制数据以避免修改原始数据\n",
    "    normalized_df = df.copy()\n",
    "    \n",
    "    # 需要标准化的列名\n",
    "    columns_to_normalize = ['open', 'high', 'low', 'close', 'volume_rate']\n",
    "    \n",
    "    # 循环处理每一列，避免重复代码\n",
    "    for col in columns_to_normalize:\n",
    "        mean_val = df[col].mean()\n",
    "        std_val = df[col].std()\n",
    "        # 防止标准差为0导致除零错误\n",
    "        if std_val != 0:\n",
    "            normalized_df[col] = (df[col] - mean_val) / std_val\n",
    "    \n",
    "    return normalized_df"
   ]
  },
  {
   "cell_type": "markdown",
   "id": "9a82c845-6afe-43a1-820a-ae8b4e8fb2ab",
   "metadata": {},
   "source": [
    "# 5. 数据切分训练集与测试集"
   ]
  },
  {
   "cell_type": "markdown",
   "id": "3b6911e7",
   "metadata": {},
   "source": [
    "## 5.1 数据切分函数"
   ]
  },
  {
   "cell_type": "code",
   "execution_count": 5,
   "id": "07835973",
   "metadata": {},
   "outputs": [],
   "source": [
    "def split_and_normalize_data(train_num=train_num):\n",
    "    \"\"\"拆分数据并对训练集和测试集进行标准化处理\"\"\"\n",
    "    # 拆分每日数据\n",
    "    daily_train = daily_df.loc[daily_df.index < train_num]\n",
    "    daily_test = daily_df.loc[daily_df.index >= train_num]\n",
    "    \n",
    "    # 拆分fif数据（16倍关系）\n",
    "    fif_threshold = 16 * train_num\n",
    "    fif_train = fif_df.loc[fif_df.index < fif_threshold]\n",
    "    fif_test = fif_df.loc[fif_df.index >= fif_threshold]\n",
    "    \n",
    "    # 拆分目标数据\n",
    "    target_train = target_df.loc[target_df.index < train_num]\n",
    "    target_test = target_df.loc[target_df.index >= train_num]\n",
    "    \n",
    "    # 对各数据集进行标准化\n",
    "    daily_train_norm = normalize_data(daily_train)\n",
    "    daily_test_norm = normalize_data(daily_test)\n",
    "    fif_train_norm = normalize_data(fif_train)\n",
    "    fif_test_norm = normalize_data(fif_test)\n",
    "    \n",
    "    # 返回包含所有数据集的字典\n",
    "    return {\n",
    "        'daily_train_df': daily_train_norm,\n",
    "        'daily_test_df': daily_test_norm,\n",
    "        'fif_train_df': fif_train_norm,\n",
    "        'fif_test_df': fif_test_norm,\n",
    "        'target_train_df': target_train,\n",
    "        'target_test_df': target_test\n",
    "    }"
   ]
  },
  {
   "cell_type": "markdown",
   "id": "557c115f",
   "metadata": {},
   "source": [
    "## 5.2 进行数据切分"
   ]
  },
  {
   "cell_type": "code",
   "execution_count": 6,
   "id": "b87cec91",
   "metadata": {},
   "outputs": [
    {
     "name": "stdout",
     "output_type": "stream",
     "text": [
      "日频训练切分： (1870, 6)\n",
      "日频测试切分： (468, 6)\n",
      "十五分钟频训练切分： (29920, 6)\n",
      "十五分钟频测试切分： (7488, 6)\n",
      "训练目标切分： (1870, 2)\n",
      "测试目标切分： (468, 2)\n"
     ]
    }
   ],
   "source": [
    "# 一次调用并解包结果\n",
    "data = split_and_normalize_data()\n",
    "daily_norm_train_df, daily_norm_test_df, fif_norm_train_df, fif_norm_test_df, target_norm_train_df, target_norm_test_df = \\\n",
    "    data['daily_train_df'], data['daily_test_df'], data['fif_train_df'], data['fif_test_df'], data['target_train_df'], data['target_test_df']\n",
    "\n",
    "# 打印各数据集形状\n",
    "print('日频训练切分：', daily_norm_train_df.shape)\n",
    "print('日频测试切分：', daily_norm_test_df.shape)\n",
    "print('十五分钟频训练切分：', fif_norm_train_df.shape)\n",
    "print('十五分钟频测试切分：', fif_norm_test_df.shape)\n",
    "print('训练目标切分：', target_norm_train_df.shape)\n",
    "print('测试目标切分：', target_norm_test_df.shape)\n"
   ]
  },
  {
   "cell_type": "markdown",
   "id": "a225c99c-5d81-4930-8aa6-eda77400170e",
   "metadata": {},
   "source": [
    "# 6. 数据转化为神经网络输入格式"
   ]
  },
  {
   "cell_type": "markdown",
   "id": "3ffb3f1f-314a-4710-b96a-62d39be82ec6",
   "metadata": {},
   "source": [
    "## 6.1 建立转化类（返回多个字典）"
   ]
  },
  {
   "cell_type": "code",
   "execution_count": 7,
   "id": "de355a30-733f-4c79-978d-600334ad64dc",
   "metadata": {},
   "outputs": [],
   "source": [
    "class Data_maker:\n",
    "    def __init__(self,train_num,test_num,fif_back,daily_back):\n",
    "        self.train_num=train_num\n",
    "        self.test_num=test_num\n",
    "        self.fif_back=fif_back\n",
    "        self.daily_back=daily_back\n",
    "       \n",
    "\n",
    "\n",
    "    def daily_train_data(self,data):\n",
    "        while True:\n",
    "            rows = list(range(self.train_num - self.daily_back)) #总共1650个数据，由于扣除前面20个数据，所以为1630\n",
    "            ### 先构造空（预测日长度*日后移）array\n",
    "            samples = np.zeros((len(rows),\n",
    "                                 self.daily_back,\n",
    "                                 5))\n",
    "            print(samples.shape)\n",
    "            for j in rows:\n",
    "                ### 每一个填入用于预测一天的开盘价到波动率矩阵\n",
    "                samples[j] = data.loc[\n",
    "                                  (data.index >= j) & (data.index < self.daily_back + j),\n",
    "                                  'open':'volume_rate']\n",
    "            print(data.index)\n",
    "            print('日频训练array：',samples.shape)\n",
    "            return samples\n",
    "    def fif_train_data(self,data):\n",
    "        while True:\n",
    "            rows = list(range(self.train_num - self.daily_back))\n",
    "            samples = np.zeros((len(rows),\n",
    "                                 self.fif_back,\n",
    "                                 5))\n",
    "            for j in rows:\n",
    "\n",
    "                samples[j] = data.loc[\n",
    "                              (data.index >= j * self.fif_back ) & (data.index < (j+1) * self.fif_back),\n",
    "                              'open':]\n",
    "            print('十五分钟训练array：',samples.shape)\n",
    "            return samples\n",
    "\n",
    "   \n",
    "\n",
    "    def daily_test_data(self,data):\n",
    "        while True:\n",
    "            rows = list(range(self.test_num - self.daily_back))\n",
    "            print(self.test_num,self.daily_back)\n",
    "            print(rows)\n",
    "            samples = np.zeros((len(rows),\n",
    "                                self.daily_back,\n",
    "                                 5))\n",
    "            for j in rows:\n",
    "\n",
    "\n",
    "                samples[j] = data.loc[\n",
    "                                  (data.index >= self.train_num+j) & (data.index < self.train_num+self.daily_back + j),\n",
    "                                  'open':'volume_rate']\n",
    "            print('日测试array：',samples.shape)\n",
    "            print('试一试index', data.index,'train_num',self.train_num)\n",
    "            return samples\n",
    "\n",
    "\n",
    "   \n",
    "    def fif_test_data(self,data):\n",
    "        while True:\n",
    "            rows = list(range(self.test_num - self.daily_back))\n",
    "            samples = np.zeros((len(rows),\n",
    "                                self.fif_back,\n",
    "                                 5))\n",
    "            for j in rows:\n",
    "\n",
    "\n",
    "                samples[j] = data.loc[\n",
    "                                 (data.index >= 16*self.train_num+(j) * self.fif_back) & (data.index < 16*self.train_num+(j+1) * self.fif_back),\n",
    "                                 'open':]\n",
    "            print('十五分钟测试array：',samples.shape)\n",
    "            return samples\n",
    "    def target_train_data(self,data):\n",
    "        while True:\n",
    "            rows = list(range(self.train_num-self.daily_back))\n",
    "            targets = np.zeros((len(rows),))\n",
    "            for j in rows:\n",
    "\n",
    "\n",
    "                targets[j] = data.loc[data.index == j, 'target'].iloc[0] #根据提示，添加了.iloc[0]\n",
    "            print('训练标签array',targets.shape)\n",
    "            return targets\n",
    "    def target_test_data(self,data):\n",
    "        while True:\n",
    "            rows = list(range(self.test_num-self.daily_back))\n",
    "            targets = np.zeros((len(rows),))\n",
    "            for j in rows:\n",
    "\n",
    "\n",
    "                targets[j] = data.loc[data.index == self.train_num+j, 'target'].iloc[0] ##出问题：应该是。而不是***：data.index == self.train_num+j\n",
    "            print(targets.shape)\n",
    "            return targets"
   ]
  },
  {
   "cell_type": "markdown",
   "id": "1d109eb0-7de5-414a-a276-f81fcefe1269",
   "metadata": {},
   "source": [
    "## 6.2 设置类方法里的参数，赋值给origin_data_maker，仍然是一个class类"
   ]
  },
  {
   "cell_type": "code",
   "execution_count": 8,
   "id": "e39a13e8-0b0d-4cb8-b630-a142d4529615",
   "metadata": {},
   "outputs": [],
   "source": [
    "origin_data_maker=Data_maker(train_num=train_num,test_num=test_num,fif_back=16,daily_back=20)"
   ]
  },
  {
   "cell_type": "markdown",
   "id": "b84200b8",
   "metadata": {},
   "source": [
    "# 6.3 调用类中的方法,处理原始数据"
   ]
  },
  {
   "cell_type": "code",
   "execution_count": 9,
   "id": "a26f72f7",
   "metadata": {},
   "outputs": [
    {
     "name": "stdout",
     "output_type": "stream",
     "text": [
      "(1850, 20, 5)\n",
      "Index([   0,    1,    2,    3,    4,    5,    6,    7,    8,    9,\n",
      "       ...\n",
      "       1860, 1861, 1862, 1863, 1864, 1865, 1866, 1867, 1868, 1869],\n",
      "      dtype='int64', length=1870)\n",
      "日频训练array： (1850, 20, 5)\n",
      "468 20\n",
      "[0, 1, 2, 3, 4, 5, 6, 7, 8, 9, 10, 11, 12, 13, 14, 15, 16, 17, 18, 19, 20, 21, 22, 23, 24, 25, 26, 27, 28, 29, 30, 31, 32, 33, 34, 35, 36, 37, 38, 39, 40, 41, 42, 43, 44, 45, 46, 47, 48, 49, 50, 51, 52, 53, 54, 55, 56, 57, 58, 59, 60, 61, 62, 63, 64, 65, 66, 67, 68, 69, 70, 71, 72, 73, 74, 75, 76, 77, 78, 79, 80, 81, 82, 83, 84, 85, 86, 87, 88, 89, 90, 91, 92, 93, 94, 95, 96, 97, 98, 99, 100, 101, 102, 103, 104, 105, 106, 107, 108, 109, 110, 111, 112, 113, 114, 115, 116, 117, 118, 119, 120, 121, 122, 123, 124, 125, 126, 127, 128, 129, 130, 131, 132, 133, 134, 135, 136, 137, 138, 139, 140, 141, 142, 143, 144, 145, 146, 147, 148, 149, 150, 151, 152, 153, 154, 155, 156, 157, 158, 159, 160, 161, 162, 163, 164, 165, 166, 167, 168, 169, 170, 171, 172, 173, 174, 175, 176, 177, 178, 179, 180, 181, 182, 183, 184, 185, 186, 187, 188, 189, 190, 191, 192, 193, 194, 195, 196, 197, 198, 199, 200, 201, 202, 203, 204, 205, 206, 207, 208, 209, 210, 211, 212, 213, 214, 215, 216, 217, 218, 219, 220, 221, 222, 223, 224, 225, 226, 227, 228, 229, 230, 231, 232, 233, 234, 235, 236, 237, 238, 239, 240, 241, 242, 243, 244, 245, 246, 247, 248, 249, 250, 251, 252, 253, 254, 255, 256, 257, 258, 259, 260, 261, 262, 263, 264, 265, 266, 267, 268, 269, 270, 271, 272, 273, 274, 275, 276, 277, 278, 279, 280, 281, 282, 283, 284, 285, 286, 287, 288, 289, 290, 291, 292, 293, 294, 295, 296, 297, 298, 299, 300, 301, 302, 303, 304, 305, 306, 307, 308, 309, 310, 311, 312, 313, 314, 315, 316, 317, 318, 319, 320, 321, 322, 323, 324, 325, 326, 327, 328, 329, 330, 331, 332, 333, 334, 335, 336, 337, 338, 339, 340, 341, 342, 343, 344, 345, 346, 347, 348, 349, 350, 351, 352, 353, 354, 355, 356, 357, 358, 359, 360, 361, 362, 363, 364, 365, 366, 367, 368, 369, 370, 371, 372, 373, 374, 375, 376, 377, 378, 379, 380, 381, 382, 383, 384, 385, 386, 387, 388, 389, 390, 391, 392, 393, 394, 395, 396, 397, 398, 399, 400, 401, 402, 403, 404, 405, 406, 407, 408, 409, 410, 411, 412, 413, 414, 415, 416, 417, 418, 419, 420, 421, 422, 423, 424, 425, 426, 427, 428, 429, 430, 431, 432, 433, 434, 435, 436, 437, 438, 439, 440, 441, 442, 443, 444, 445, 446, 447]\n",
      "日测试array： (448, 20, 5)\n",
      "试一试index Index([1870, 1871, 1872, 1873, 1874, 1875, 1876, 1877, 1878, 1879,\n",
      "       ...\n",
      "       2328, 2329, 2330, 2331, 2332, 2333, 2334, 2335, 2336, 2337],\n",
      "      dtype='int64', length=468) train_num 1870\n",
      "十五分钟训练array： (1850, 16, 5)\n",
      "十五分钟测试array： (448, 16, 5)\n",
      "训练标签array (1850,)\n",
      "(448,)\n"
     ]
    }
   ],
   "source": [
    "DM = origin_data_maker\n",
    "\n",
    "daily_train_prepared = DM.daily_train_data(daily_norm_train_df)\n",
    "daily_test_prepared = DM.daily_test_data(daily_norm_test_df)\n",
    "\n",
    "fif_train_prepared = DM.fif_train_data(fif_norm_train_df)\n",
    "fif_test_prepared = DM.fif_test_data(fif_norm_test_df)\n",
    "\n",
    "target_train_prepared = DM.target_train_data(target_norm_train_df)\n",
    "target_test_prepared = DM.target_test_data(target_norm_test_df)\n"
   ]
  },
  {
   "cell_type": "markdown",
   "id": "eb802e8a",
   "metadata": {},
   "source": [
    "# 7. 神经网络模型训练"
   ]
  },
  {
   "cell_type": "markdown",
   "id": "ff9ca801-990d-4205-a794-e3784edf76a1",
   "metadata": {},
   "source": [
    "## 7.1 模型建立 "
   ]
  },
  {
   "cell_type": "code",
   "execution_count": 10,
   "id": "f40a1c29",
   "metadata": {},
   "outputs": [],
   "source": [
    "def my_model(daily_back, LSTM_num):\n",
    "\n",
    "    # 日频输入\n",
    "    daily_input = Input(shape=(daily_back, 5), dtype='float32', name='daily_input')\n",
    "    \n",
    "    LSTM_daily = layers.LSTM(LSTM_num)(daily_input)\n",
    "    \n",
    "    # 合并与全连接\n",
    "  \n",
    "    # alloy = layers.Dense(dense_num, activation='relu')(LSTM_daily)\n",
    "    # dropout = layers.Dropout(0.2)(alloy)\n",
    "    output = layers.Dense(1, activation='sigmoid')(LSTM_daily)\n",
    "    \n",
    "    model = Model(daily_input, output)\n",
    "    model.compile(optimizer=Adam(learning_rate=0.001), \n",
    "                  loss='binary_crossentropy', \n",
    "                  metrics=['acc'])\n",
    "    return model"
   ]
  },
  {
   "cell_type": "code",
   "execution_count": 11,
   "id": "c01bbce7",
   "metadata": {},
   "outputs": [],
   "source": [
    "# 创建早停回调\n",
    "early_stopping = EarlyStopping(\n",
    "    monitor='val_acc',    # 监控验证集损失\n",
    "    patience=patience,           # 如果连续10个epoch验证集损失没有改善，则停止训练\n",
    "    restore_best_weights=True  # 恢复验证集损失最低时的模型权重\n",
    ")\n"
   ]
  },
  {
   "cell_type": "code",
   "execution_count": 12,
   "id": "592e1c13",
   "metadata": {},
   "outputs": [],
   "source": [
    "## 定义适应函数"
   ]
  },
  {
   "cell_type": "code",
   "execution_count": 13,
   "id": "b23954b7",
   "metadata": {},
   "outputs": [],
   "source": [
    "import numpy as np\n",
    "\n",
    "def fitness_function(params):\n",
    "    LSTM_num = int(params[0])\n",
    "    \n",
    "    \n",
    "\n",
    "\n",
    "    \n",
    "    model = my_model(daily_back=daily_back,  # 替换为实际daily_back值\n",
    "                     LSTM_num=LSTM_num,\n",
    "                     )\n",
    "    \n",
    "    history = model.fit(x=daily_train_prepared,y=target_train_prepared,batch_size=batch_size,\n",
    "                validation_split=0.25,epochs=epochs,callbacks=[early_stopping])\n",
    "    return history.history['val_loss'][-1]  # 返回验证损失（越小越好）"
   ]
  },
  {
   "cell_type": "code",
   "execution_count": 14,
   "id": "639d62dc",
   "metadata": {},
   "outputs": [],
   "source": [
    "# 实现麻雀算法"
   ]
  },
  {
   "cell_type": "code",
   "execution_count": 15,
   "id": "fcb135d2",
   "metadata": {},
   "outputs": [],
   "source": [
    "def sparrow(pop_size, max_iter, dim, lower_bounds, upper_bounds, fitness_func):\n",
    "    pop = np.random.uniform(low=lower_bounds, high=upper_bounds, size=(pop_size, dim))\n",
    "    fitness = np.array([fitness_func(ind) for ind in pop])\n",
    "    best_idx = np.argmin(fitness)\n",
    "    best_sol = pop[best_idx].copy()\n",
    "    best_fit = fitness[best_idx]\n",
    "\n",
    "    for t in range(max_iter):\n",
    "        # 排序\n",
    "        sorted_idx = np.argsort(fitness)\n",
    "        pop = pop[sorted_idx]\n",
    "        fitness = fitness[sorted_idx]\n",
    "\n",
    "        # 发现者策略\n",
    "        for i in range(int(pop_size * 0.2)):\n",
    "            if np.random.rand() < 0.8:\n",
    "                pop[i] *= np.exp(-i / (np.random.rand() * max_iter))\n",
    "            else:\n",
    "                pop[i] += np.random.normal(0, 1)\n",
    "            \n",
    "            # 每次更新后立即检查边界\n",
    "            pop[i] = np.clip(pop[i], lower_bounds, upper_bounds)\n",
    "\n",
    "        # 跟随者策略 - 改进矩阵计算\n",
    "        for i in range(int(pop_size * 0.2), pop_size):\n",
    "            if i > pop_size / 2:\n",
    "                pop[i] = np.random.normal(0, 1) * np.exp((pop[-1] - pop[i]) / (i ** 2))\n",
    "            else:\n",
    "                # 简化矩阵计算，避免奇异矩阵问题\n",
    "                A = np.random.choice([-1, 1], size=dim)\n",
    "                pop[i] = pop[0] + A * (pop[0] - pop[i])\n",
    "            \n",
    "            # 每次更新后立即检查边界\n",
    "            pop[i] = np.clip(pop[i], lower_bounds, upper_bounds)\n",
    "\n",
    "        # 警戒者策略\n",
    "        for i in range(pop_size):\n",
    "            if fitness[i] > best_fit:\n",
    "                pop[i] = best_sol + np.random.normal(0, 1)\n",
    "                # 立即检查边界\n",
    "                pop[i] = np.clip(pop[i], lower_bounds, upper_bounds)\n",
    "\n",
    "        # 更新最佳解\n",
    "        fitness = np.array([fitness_func(ind) for ind in pop])\n",
    "        current_best_idx = np.argmin(fitness)\n",
    "        if fitness[current_best_idx] < best_fit:\n",
    "            best_fit = fitness[current_best_idx]\n",
    "            best_sol = pop[current_best_idx].copy()\n",
    "\n",
    "    return best_sol, best_fit"
   ]
  },
  {
   "cell_type": "code",
   "execution_count": 16,
   "id": "41ce22e5",
   "metadata": {},
   "outputs": [],
   "source": [
    "# 运行优化并训练最终模型\n"
   ]
  },
  {
   "cell_type": "code",
   "execution_count": 17,
   "id": "526c4896",
   "metadata": {},
   "outputs": [
    {
     "name": "stdout",
     "output_type": "stream",
     "text": [
      "Epoch 1/100\n",
      "\u001b[1m44/44\u001b[0m \u001b[32m━━━━━━━━━━━━━━━━━━━━\u001b[0m\u001b[37m\u001b[0m \u001b[1m1s\u001b[0m 9ms/step - acc: 0.5385 - loss: 0.7002 - val_acc: 0.4730 - val_loss: 0.6969\n",
      "Epoch 2/100\n",
      "\u001b[1m44/44\u001b[0m \u001b[32m━━━━━━━━━━━━━━━━━━━━\u001b[0m\u001b[37m\u001b[0m \u001b[1m0s\u001b[0m 6ms/step - acc: 0.5135 - loss: 0.6923 - val_acc: 0.4773 - val_loss: 0.6984\n",
      "Epoch 3/100\n",
      "\u001b[1m44/44\u001b[0m \u001b[32m━━━━━━━━━━━━━━━━━━━━\u001b[0m\u001b[37m\u001b[0m \u001b[1m0s\u001b[0m 8ms/step - acc: 0.5325 - loss: 0.6905 - val_acc: 0.4687 - val_loss: 0.7005\n",
      "Epoch 4/100\n",
      "\u001b[1m44/44\u001b[0m \u001b[32m━━━━━━━━━━━━━━━━━━━━\u001b[0m\u001b[37m\u001b[0m \u001b[1m0s\u001b[0m 7ms/step - acc: 0.5464 - loss: 0.6830 - val_acc: 0.4644 - val_loss: 0.7013\n",
      "Epoch 5/100\n",
      "\u001b[1m44/44\u001b[0m \u001b[32m━━━━━━━━━━━━━━━━━━━━\u001b[0m\u001b[37m\u001b[0m \u001b[1m0s\u001b[0m 6ms/step - acc: 0.5599 - loss: 0.6887 - val_acc: 0.4730 - val_loss: 0.7040\n",
      "Epoch 6/100\n",
      "\u001b[1m44/44\u001b[0m \u001b[32m━━━━━━━━━━━━━━━━━━━━\u001b[0m\u001b[37m\u001b[0m \u001b[1m0s\u001b[0m 6ms/step - acc: 0.5488 - loss: 0.6876 - val_acc: 0.4730 - val_loss: 0.6989\n",
      "Epoch 7/100\n",
      "\u001b[1m44/44\u001b[0m \u001b[32m━━━━━━━━━━━━━━━━━━━━\u001b[0m\u001b[37m\u001b[0m \u001b[1m0s\u001b[0m 7ms/step - acc: 0.5281 - loss: 0.6912 - val_acc: 0.4838 - val_loss: 0.7040\n",
      "Epoch 8/100\n",
      "\u001b[1m44/44\u001b[0m \u001b[32m━━━━━━━━━━━━━━━━━━━━\u001b[0m\u001b[37m\u001b[0m \u001b[1m0s\u001b[0m 7ms/step - acc: 0.5503 - loss: 0.6841 - val_acc: 0.4622 - val_loss: 0.7031\n",
      "Epoch 9/100\n",
      "\u001b[1m44/44\u001b[0m \u001b[32m━━━━━━━━━━━━━━━━━━━━\u001b[0m\u001b[37m\u001b[0m \u001b[1m0s\u001b[0m 7ms/step - acc: 0.5510 - loss: 0.6818 - val_acc: 0.4665 - val_loss: 0.7026\n",
      "Epoch 10/100\n",
      "\u001b[1m44/44\u001b[0m \u001b[32m━━━━━━━━━━━━━━━━━━━━\u001b[0m\u001b[37m\u001b[0m \u001b[1m0s\u001b[0m 6ms/step - acc: 0.5533 - loss: 0.6881 - val_acc: 0.4838 - val_loss: 0.7019\n",
      "Epoch 11/100\n",
      "\u001b[1m44/44\u001b[0m \u001b[32m━━━━━━━━━━━━━━━━━━━━\u001b[0m\u001b[37m\u001b[0m \u001b[1m0s\u001b[0m 6ms/step - acc: 0.5384 - loss: 0.6935 - val_acc: 0.4708 - val_loss: 0.7047\n",
      "Epoch 12/100\n",
      "\u001b[1m44/44\u001b[0m \u001b[32m━━━━━━━━━━━━━━━━━━━━\u001b[0m\u001b[37m\u001b[0m \u001b[1m0s\u001b[0m 6ms/step - acc: 0.5394 - loss: 0.6901 - val_acc: 0.4838 - val_loss: 0.7017\n",
      "Epoch 13/100\n",
      "\u001b[1m44/44\u001b[0m \u001b[32m━━━━━━━━━━━━━━━━━━━━\u001b[0m\u001b[37m\u001b[0m \u001b[1m0s\u001b[0m 6ms/step - acc: 0.5569 - loss: 0.6842 - val_acc: 0.4687 - val_loss: 0.7039\n",
      "Epoch 14/100\n",
      "\u001b[1m44/44\u001b[0m \u001b[32m━━━━━━━━━━━━━━━━━━━━\u001b[0m\u001b[37m\u001b[0m \u001b[1m0s\u001b[0m 6ms/step - acc: 0.5603 - loss: 0.6826 - val_acc: 0.4730 - val_loss: 0.7021\n",
      "Epoch 15/100\n",
      "\u001b[1m44/44\u001b[0m \u001b[32m━━━━━━━━━━━━━━━━━━━━\u001b[0m\u001b[37m\u001b[0m \u001b[1m0s\u001b[0m 6ms/step - acc: 0.5478 - loss: 0.6816 - val_acc: 0.4795 - val_loss: 0.7037\n",
      "Epoch 16/100\n",
      "\u001b[1m44/44\u001b[0m \u001b[32m━━━━━━━━━━━━━━━━━━━━\u001b[0m\u001b[37m\u001b[0m \u001b[1m0s\u001b[0m 6ms/step - acc: 0.5603 - loss: 0.6809 - val_acc: 0.4622 - val_loss: 0.7025\n",
      "Epoch 17/100\n",
      "\u001b[1m44/44\u001b[0m \u001b[32m━━━━━━━━━━━━━━━━━━━━\u001b[0m\u001b[37m\u001b[0m \u001b[1m0s\u001b[0m 6ms/step - acc: 0.5183 - loss: 0.6885 - val_acc: 0.4838 - val_loss: 0.7079\n",
      "Epoch 18/100\n",
      "\u001b[1m44/44\u001b[0m \u001b[32m━━━━━━━━━━━━━━━━━━━━\u001b[0m\u001b[37m\u001b[0m \u001b[1m0s\u001b[0m 6ms/step - acc: 0.5511 - loss: 0.6816 - val_acc: 0.4838 - val_loss: 0.7013\n",
      "Epoch 19/100\n",
      "\u001b[1m44/44\u001b[0m \u001b[32m━━━━━━━━━━━━━━━━━━━━\u001b[0m\u001b[37m\u001b[0m \u001b[1m0s\u001b[0m 6ms/step - acc: 0.5549 - loss: 0.6806 - val_acc: 0.4644 - val_loss: 0.7059\n",
      "Epoch 20/100\n",
      "\u001b[1m44/44\u001b[0m \u001b[32m━━━━━━━━━━━━━━━━━━━━\u001b[0m\u001b[37m\u001b[0m \u001b[1m0s\u001b[0m 7ms/step - acc: 0.5623 - loss: 0.6830 - val_acc: 0.4816 - val_loss: 0.7035\n",
      "Epoch 21/100\n",
      "\u001b[1m44/44\u001b[0m \u001b[32m━━━━━━━━━━━━━━━━━━━━\u001b[0m\u001b[37m\u001b[0m \u001b[1m0s\u001b[0m 6ms/step - acc: 0.5525 - loss: 0.6813 - val_acc: 0.4795 - val_loss: 0.7052\n",
      "Epoch 22/100\n",
      "\u001b[1m44/44\u001b[0m \u001b[32m━━━━━━━━━━━━━━━━━━━━\u001b[0m\u001b[37m\u001b[0m \u001b[1m0s\u001b[0m 6ms/step - acc: 0.5621 - loss: 0.6742 - val_acc: 0.4795 - val_loss: 0.6990\n",
      "Epoch 1/100\n",
      "\u001b[1m44/44\u001b[0m \u001b[32m━━━━━━━━━━━━━━━━━━━━\u001b[0m\u001b[37m\u001b[0m \u001b[1m1s\u001b[0m 8ms/step - acc: 0.4953 - loss: 0.7004 - val_acc: 0.4924 - val_loss: 0.6965\n",
      "Epoch 2/100\n",
      "\u001b[1m44/44\u001b[0m \u001b[32m━━━━━━━━━━━━━━━━━━━━\u001b[0m\u001b[37m\u001b[0m \u001b[1m0s\u001b[0m 6ms/step - acc: 0.5314 - loss: 0.6929 - val_acc: 0.4752 - val_loss: 0.7045\n",
      "Epoch 3/100\n",
      "\u001b[1m44/44\u001b[0m \u001b[32m━━━━━━━━━━━━━━━━━━━━\u001b[0m\u001b[37m\u001b[0m \u001b[1m0s\u001b[0m 8ms/step - acc: 0.5126 - loss: 0.6945 - val_acc: 0.4644 - val_loss: 0.6998\n",
      "Epoch 4/100\n",
      "\u001b[1m44/44\u001b[0m \u001b[32m━━━━━━━━━━━━━━━━━━━━\u001b[0m\u001b[37m\u001b[0m \u001b[1m0s\u001b[0m 7ms/step - acc: 0.5315 - loss: 0.6886 - val_acc: 0.4665 - val_loss: 0.7001\n",
      "Epoch 5/100\n",
      "\u001b[1m44/44\u001b[0m \u001b[32m━━━━━━━━━━━━━━━━━━━━\u001b[0m\u001b[37m\u001b[0m \u001b[1m0s\u001b[0m 6ms/step - acc: 0.5516 - loss: 0.6840 - val_acc: 0.4860 - val_loss: 0.7010\n",
      "Epoch 6/100\n",
      "\u001b[1m44/44\u001b[0m \u001b[32m━━━━━━━━━━━━━━━━━━━━\u001b[0m\u001b[37m\u001b[0m \u001b[1m0s\u001b[0m 6ms/step - acc: 0.5256 - loss: 0.6897 - val_acc: 0.4816 - val_loss: 0.7024\n",
      "Epoch 7/100\n",
      "\u001b[1m44/44\u001b[0m \u001b[32m━━━━━━━━━━━━━━━━━━━━\u001b[0m\u001b[37m\u001b[0m \u001b[1m0s\u001b[0m 6ms/step - acc: 0.5283 - loss: 0.6922 - val_acc: 0.4795 - val_loss: 0.7068\n",
      "Epoch 8/100\n",
      "\u001b[1m44/44\u001b[0m \u001b[32m━━━━━━━━━━━━━━━━━━━━\u001b[0m\u001b[37m\u001b[0m \u001b[1m0s\u001b[0m 7ms/step - acc: 0.5617 - loss: 0.6848 - val_acc: 0.4665 - val_loss: 0.7033\n",
      "Epoch 9/100\n",
      "\u001b[1m44/44\u001b[0m \u001b[32m━━━━━━━━━━━━━━━━━━━━\u001b[0m\u001b[37m\u001b[0m \u001b[1m0s\u001b[0m 6ms/step - acc: 0.5333 - loss: 0.6884 - val_acc: 0.4730 - val_loss: 0.7061\n",
      "Epoch 10/100\n",
      "\u001b[1m44/44\u001b[0m \u001b[32m━━━━━━━━━━━━━━━━━━━━\u001b[0m\u001b[37m\u001b[0m \u001b[1m0s\u001b[0m 6ms/step - acc: 0.5641 - loss: 0.6836 - val_acc: 0.4665 - val_loss: 0.7054\n",
      "Epoch 11/100\n",
      "\u001b[1m44/44\u001b[0m \u001b[32m━━━━━━━━━━━━━━━━━━━━\u001b[0m\u001b[37m\u001b[0m \u001b[1m0s\u001b[0m 7ms/step - acc: 0.5539 - loss: 0.6836 - val_acc: 0.4622 - val_loss: 0.7039\n",
      "Epoch 12/100\n",
      "\u001b[1m44/44\u001b[0m \u001b[32m━━━━━━━━━━━━━━━━━━━━\u001b[0m\u001b[37m\u001b[0m \u001b[1m0s\u001b[0m 6ms/step - acc: 0.5432 - loss: 0.6856 - val_acc: 0.4730 - val_loss: 0.7077\n",
      "Epoch 13/100\n",
      "\u001b[1m44/44\u001b[0m \u001b[32m━━━━━━━━━━━━━━━━━━━━\u001b[0m\u001b[37m\u001b[0m \u001b[1m0s\u001b[0m 6ms/step - acc: 0.5561 - loss: 0.6822 - val_acc: 0.4665 - val_loss: 0.7052\n",
      "Epoch 14/100\n",
      "\u001b[1m44/44\u001b[0m \u001b[32m━━━━━━━━━━━━━━━━━━━━\u001b[0m\u001b[37m\u001b[0m \u001b[1m0s\u001b[0m 6ms/step - acc: 0.5191 - loss: 0.6887 - val_acc: 0.4773 - val_loss: 0.7084\n",
      "Epoch 15/100\n",
      "\u001b[1m44/44\u001b[0m \u001b[32m━━━━━━━━━━━━━━━━━━━━\u001b[0m\u001b[37m\u001b[0m \u001b[1m0s\u001b[0m 6ms/step - acc: 0.5637 - loss: 0.6815 - val_acc: 0.4838 - val_loss: 0.7085\n",
      "Epoch 16/100\n",
      "\u001b[1m44/44\u001b[0m \u001b[32m━━━━━━━━━━━━━━━━━━━━\u001b[0m\u001b[37m\u001b[0m \u001b[1m0s\u001b[0m 6ms/step - acc: 0.5724 - loss: 0.6869 - val_acc: 0.4730 - val_loss: 0.7016\n",
      "Epoch 1/100\n",
      "\u001b[1m44/44\u001b[0m \u001b[32m━━━━━━━━━━━━━━━━━━━━\u001b[0m\u001b[37m\u001b[0m \u001b[1m1s\u001b[0m 9ms/step - acc: 0.4797 - loss: 0.7028 - val_acc: 0.4838 - val_loss: 0.6993\n",
      "Epoch 2/100\n",
      "\u001b[1m44/44\u001b[0m \u001b[32m━━━━━━━━━━━━━━━━━━━━\u001b[0m\u001b[37m\u001b[0m \u001b[1m0s\u001b[0m 6ms/step - acc: 0.5350 - loss: 0.6900 - val_acc: 0.4752 - val_loss: 0.6992\n",
      "Epoch 3/100\n",
      "\u001b[1m44/44\u001b[0m \u001b[32m━━━━━━━━━━━━━━━━━━━━\u001b[0m\u001b[37m\u001b[0m \u001b[1m0s\u001b[0m 7ms/step - acc: 0.5171 - loss: 0.6925 - val_acc: 0.4838 - val_loss: 0.7035\n",
      "Epoch 4/100\n",
      "\u001b[1m44/44\u001b[0m \u001b[32m━━━━━━━━━━━━━━━━━━━━\u001b[0m\u001b[37m\u001b[0m \u001b[1m0s\u001b[0m 6ms/step - acc: 0.5216 - loss: 0.6985 - val_acc: 0.4752 - val_loss: 0.7038\n",
      "Epoch 5/100\n",
      "\u001b[1m44/44\u001b[0m \u001b[32m━━━━━━━━━━━━━━━━━━━━\u001b[0m\u001b[37m\u001b[0m \u001b[1m0s\u001b[0m 6ms/step - acc: 0.5379 - loss: 0.6871 - val_acc: 0.4665 - val_loss: 0.7034\n",
      "Epoch 6/100\n",
      "\u001b[1m44/44\u001b[0m \u001b[32m━━━━━━━━━━━━━━━━━━━━\u001b[0m\u001b[37m\u001b[0m \u001b[1m0s\u001b[0m 6ms/step - acc: 0.5439 - loss: 0.6878 - val_acc: 0.4665 - val_loss: 0.7028\n",
      "Epoch 7/100\n",
      "\u001b[1m44/44\u001b[0m \u001b[32m━━━━━━━━━━━━━━━━━━━━\u001b[0m\u001b[37m\u001b[0m \u001b[1m0s\u001b[0m 6ms/step - acc: 0.5487 - loss: 0.6885 - val_acc: 0.4708 - val_loss: 0.7031\n",
      "Epoch 8/100\n",
      "\u001b[1m44/44\u001b[0m \u001b[32m━━━━━━━━━━━━━━━━━━━━\u001b[0m\u001b[37m\u001b[0m \u001b[1m0s\u001b[0m 6ms/step - acc: 0.5498 - loss: 0.6860 - val_acc: 0.4687 - val_loss: 0.7026\n",
      "Epoch 9/100\n",
      "\u001b[1m44/44\u001b[0m \u001b[32m━━━━━━━━━━━━━━━━━━━━\u001b[0m\u001b[37m\u001b[0m \u001b[1m0s\u001b[0m 6ms/step - acc: 0.5581 - loss: 0.6863 - val_acc: 0.4816 - val_loss: 0.7049\n",
      "Epoch 10/100\n",
      "\u001b[1m44/44\u001b[0m \u001b[32m━━━━━━━━━━━━━━━━━━━━\u001b[0m\u001b[37m\u001b[0m \u001b[1m0s\u001b[0m 6ms/step - acc: 0.5528 - loss: 0.6846 - val_acc: 0.4730 - val_loss: 0.7034\n",
      "Epoch 11/100\n",
      "\u001b[1m44/44\u001b[0m \u001b[32m━━━━━━━━━━━━━━━━━━━━\u001b[0m\u001b[37m\u001b[0m \u001b[1m0s\u001b[0m 6ms/step - acc: 0.5576 - loss: 0.6836 - val_acc: 0.4665 - val_loss: 0.7030\n",
      "Epoch 12/100\n",
      "\u001b[1m44/44\u001b[0m \u001b[32m━━━━━━━━━━━━━━━━━━━━\u001b[0m\u001b[37m\u001b[0m \u001b[1m0s\u001b[0m 6ms/step - acc: 0.5355 - loss: 0.6873 - val_acc: 0.4665 - val_loss: 0.7049\n",
      "Epoch 13/100\n",
      "\u001b[1m44/44\u001b[0m \u001b[32m━━━━━━━━━━━━━━━━━━━━\u001b[0m\u001b[37m\u001b[0m \u001b[1m0s\u001b[0m 6ms/step - acc: 0.5390 - loss: 0.6910 - val_acc: 0.4773 - val_loss: 0.7051\n",
      "Epoch 14/100\n",
      "\u001b[1m44/44\u001b[0m \u001b[32m━━━━━━━━━━━━━━━━━━━━\u001b[0m\u001b[37m\u001b[0m \u001b[1m0s\u001b[0m 7ms/step - acc: 0.5647 - loss: 0.6841 - val_acc: 0.4730 - val_loss: 0.7050\n",
      "Epoch 15/100\n",
      "\u001b[1m44/44\u001b[0m \u001b[32m━━━━━━━━━━━━━━━━━━━━\u001b[0m\u001b[37m\u001b[0m \u001b[1m0s\u001b[0m 6ms/step - acc: 0.5651 - loss: 0.6807 - val_acc: 0.4665 - val_loss: 0.7038\n",
      "Epoch 16/100\n",
      "\u001b[1m44/44\u001b[0m \u001b[32m━━━━━━━━━━━━━━━━━━━━\u001b[0m\u001b[37m\u001b[0m \u001b[1m0s\u001b[0m 6ms/step - acc: 0.5474 - loss: 0.6834 - val_acc: 0.4665 - val_loss: 0.7063\n",
      "最佳参数：LSTM_num=91\n",
      "最佳验证准确率：0.698981523513794\n",
      "Epoch 1/100\n",
      "\u001b[1m44/44\u001b[0m \u001b[32m━━━━━━━━━━━━━━━━━━━━\u001b[0m\u001b[37m\u001b[0m \u001b[1m1s\u001b[0m 8ms/step - acc: 0.5519 - loss: 0.7011 - val_acc: 0.4946 - val_loss: 0.6978\n",
      "Epoch 2/100\n",
      "\u001b[1m44/44\u001b[0m \u001b[32m━━━━━━━━━━━━━━━━━━━━\u001b[0m\u001b[37m\u001b[0m \u001b[1m0s\u001b[0m 6ms/step - acc: 0.5372 - loss: 0.6881 - val_acc: 0.4795 - val_loss: 0.7002\n",
      "Epoch 3/100\n",
      "\u001b[1m44/44\u001b[0m \u001b[32m━━━━━━━━━━━━━━━━━━━━\u001b[0m\u001b[37m\u001b[0m \u001b[1m0s\u001b[0m 6ms/step - acc: 0.5488 - loss: 0.6850 - val_acc: 0.4665 - val_loss: 0.6993\n",
      "Epoch 4/100\n",
      "\u001b[1m44/44\u001b[0m \u001b[32m━━━━━━━━━━━━━━━━━━━━\u001b[0m\u001b[37m\u001b[0m \u001b[1m0s\u001b[0m 7ms/step - acc: 0.5657 - loss: 0.6868 - val_acc: 0.4665 - val_loss: 0.7036\n",
      "Epoch 5/100\n",
      "\u001b[1m44/44\u001b[0m \u001b[32m━━━━━━━━━━━━━━━━━━━━\u001b[0m\u001b[37m\u001b[0m \u001b[1m0s\u001b[0m 7ms/step - acc: 0.5384 - loss: 0.6878 - val_acc: 0.4665 - val_loss: 0.7037\n",
      "Epoch 6/100\n",
      "\u001b[1m44/44\u001b[0m \u001b[32m━━━━━━━━━━━━━━━━━━━━\u001b[0m\u001b[37m\u001b[0m \u001b[1m0s\u001b[0m 6ms/step - acc: 0.5434 - loss: 0.6899 - val_acc: 0.4816 - val_loss: 0.7036\n",
      "Epoch 7/100\n",
      "\u001b[1m44/44\u001b[0m \u001b[32m━━━━━━━━━━━━━━━━━━━━\u001b[0m\u001b[37m\u001b[0m \u001b[1m0s\u001b[0m 6ms/step - acc: 0.5431 - loss: 0.6871 - val_acc: 0.4752 - val_loss: 0.7032\n",
      "Epoch 8/100\n",
      "\u001b[1m44/44\u001b[0m \u001b[32m━━━━━━━━━━━━━━━━━━━━\u001b[0m\u001b[37m\u001b[0m \u001b[1m0s\u001b[0m 6ms/step - acc: 0.5340 - loss: 0.6851 - val_acc: 0.4838 - val_loss: 0.7014\n",
      "Epoch 9/100\n",
      "\u001b[1m44/44\u001b[0m \u001b[32m━━━━━━━━━━━━━━━━━━━━\u001b[0m\u001b[37m\u001b[0m \u001b[1m0s\u001b[0m 6ms/step - acc: 0.5567 - loss: 0.6864 - val_acc: 0.4687 - val_loss: 0.7033\n",
      "Epoch 10/100\n",
      "\u001b[1m44/44\u001b[0m \u001b[32m━━━━━━━━━━━━━━━━━━━━\u001b[0m\u001b[37m\u001b[0m \u001b[1m0s\u001b[0m 6ms/step - acc: 0.5723 - loss: 0.6831 - val_acc: 0.4838 - val_loss: 0.7020\n",
      "Epoch 11/100\n",
      "\u001b[1m44/44\u001b[0m \u001b[32m━━━━━━━━━━━━━━━━━━━━\u001b[0m\u001b[37m\u001b[0m \u001b[1m0s\u001b[0m 6ms/step - acc: 0.5444 - loss: 0.6863 - val_acc: 0.4752 - val_loss: 0.7052\n",
      "Epoch 12/100\n",
      "\u001b[1m44/44\u001b[0m \u001b[32m━━━━━━━━━━━━━━━━━━━━\u001b[0m\u001b[37m\u001b[0m \u001b[1m0s\u001b[0m 6ms/step - acc: 0.5769 - loss: 0.6731 - val_acc: 0.4665 - val_loss: 0.7014\n",
      "Epoch 13/100\n",
      "\u001b[1m44/44\u001b[0m \u001b[32m━━━━━━━━━━━━━━━━━━━━\u001b[0m\u001b[37m\u001b[0m \u001b[1m0s\u001b[0m 7ms/step - acc: 0.5663 - loss: 0.6858 - val_acc: 0.4816 - val_loss: 0.7040\n",
      "Epoch 14/100\n",
      "\u001b[1m44/44\u001b[0m \u001b[32m━━━━━━━━━━━━━━━━━━━━\u001b[0m\u001b[37m\u001b[0m \u001b[1m0s\u001b[0m 6ms/step - acc: 0.5624 - loss: 0.6837 - val_acc: 0.4816 - val_loss: 0.7029\n",
      "Epoch 15/100\n",
      "\u001b[1m44/44\u001b[0m \u001b[32m━━━━━━━━━━━━━━━━━━━━\u001b[0m\u001b[37m\u001b[0m \u001b[1m0s\u001b[0m 6ms/step - acc: 0.5720 - loss: 0.6824 - val_acc: 0.4665 - val_loss: 0.7063\n",
      "Epoch 16/100\n",
      "\u001b[1m44/44\u001b[0m \u001b[32m━━━━━━━━━━━━━━━━━━━━\u001b[0m\u001b[37m\u001b[0m \u001b[1m0s\u001b[0m 6ms/step - acc: 0.5560 - loss: 0.6854 - val_acc: 0.4816 - val_loss: 0.7018\n"
     ]
    }
   ],
   "source": [
    "# 超参数范围（LSTM_num, dense_num）\n",
    "lower_bounds = [64]\n",
    "upper_bounds = [256]\n",
    "pop_size = pop_size\n",
    "max_iter = max_iter\n",
    "\n",
    "best_params, best_fitness =sparrow(pop_size, max_iter, 1, lower_bounds, upper_bounds, fitness_function)\n",
    "\n",
    "print(f\"最佳参数：LSTM_num={int(best_params[0])}\")\n",
    "print(f\"最佳验证准确率：{best_fitness}\")\n",
    "\n",
    "\n",
    "# 用最佳参数训练最终模型\n",
    "final_model = my_model(daily_back=daily_back,  # 替换为实际值\n",
    "                       LSTM_num=int(best_params[0]),\n",
    "                       )\n",
    "history=final_model.fit(x=daily_train_prepared,y=target_train_prepared,batch_size=batch_size,\n",
    "                validation_split=0.25,epochs=epochs,callbacks=[early_stopping])"
   ]
  },
  {
   "cell_type": "code",
   "execution_count": null,
   "id": "993a90eb",
   "metadata": {},
   "outputs": [],
   "source": []
  },
  {
   "cell_type": "markdown",
   "id": "e025ba5e-a33c-4474-9138-18ad1474565b",
   "metadata": {},
   "source": [
    "## 7.3 添加输出模型参数的代码块"
   ]
  },
  {
   "cell_type": "code",
   "execution_count": 18,
   "id": "f42bfef1-b9f0-4103-9a4d-c90f8bb13126",
   "metadata": {},
   "outputs": [
    {
     "data": {
      "image/png": "[encoded data removed]",
      "text/plain": [
       "<IPython.core.display.Image object>"
      ]
     },
     "execution_count": 18,
     "metadata": {},
     "output_type": "execute_result"
    }
   ],
   "source": [
    "plot_model(final_model, to_file='model_structure.png', show_shapes=True, show_layer_names=True)"
   ]
  },
  {
   "cell_type": "markdown",
   "id": "0cd0ae96",
   "metadata": {},
   "source": [
    "## 7.5 model.evaluate(输入测试数据)，进行模型预测性能测试"
   ]
  },
  {
   "cell_type": "code",
   "execution_count": 19,
   "id": "47bd90e9",
   "metadata": {},
   "outputs": [
    {
     "name": "stdout",
     "output_type": "stream",
     "text": [
      "\u001b[1m14/14\u001b[0m \u001b[32m━━━━━━━━━━━━━━━━━━━━\u001b[0m\u001b[37m\u001b[0m \u001b[1m0s\u001b[0m 2ms/step - acc: 0.5583 - loss: 0.6915 \n",
      "0.6915501952171326 0.546875\n"
     ]
    }
   ],
   "source": [
    "loss,accuracy = final_model.evaluate(daily_test_prepared,y=target_test_prepared)\n",
    "print(loss,accuracy)"
   ]
  },
  {
   "cell_type": "markdown",
   "id": "a62e60b0-7dc9-47e4-b131-df7a159dbf01",
   "metadata": {},
   "source": [
    "# 8. 回测"
   ]
  },
  {
   "cell_type": "markdown",
   "id": "d9607cca",
   "metadata": {},
   "source": [
    "# 构建y的函数"
   ]
  },
  {
   "cell_type": "code",
   "execution_count": 20,
   "id": "fc23d49f",
   "metadata": {},
   "outputs": [],
   "source": [
    "def gen_y_pred():\n",
    "    y_predict=model.predict(daily_test_prepared,batch_size=1).reshape(test_num-daily_back).tolist() ###batch_size要设为1，不然evaluate和predict结果不同\n",
    "    y_pred=[]\n",
    "    for i,v in enumerate(y_predict):\n",
    "        if v>0.5:\n",
    "            y_pred.append(1)\n",
    "        if v<0.5:\n",
    "            y_pred.append(0)\n",
    "    return y_pred"
   ]
  },
  {
   "cell_type": "markdown",
   "id": "915e4535",
   "metadata": {},
   "source": [
    "# 制作y"
   ]
  },
  {
   "cell_type": "code",
   "execution_count": 21,
   "id": "55dfc8bb",
   "metadata": {},
   "outputs": [
    {
     "name": "stdout",
     "output_type": "stream",
     "text": [
      "\u001b[1m14/14\u001b[0m \u001b[32m━━━━━━━━━━━━━━━━━━━━\u001b[0m\u001b[37m\u001b[0m \u001b[1m0s\u001b[0m 3ms/step \n",
      "y_pred: [0, 0, 0, 0, 0, 0, 0, 0, 0, 0, 0, 0, 0, 0, 0, 0, 0, 0, 0, 0, 0, 0, 0, 0, 0, 0, 0, 0, 0, 0, 0, 0, 0, 0, 0, 0, 0, 0, 0, 0, 0, 0, 0, 0, 0, 0, 0, 0, 0, 0, 0, 0, 0, 0, 0, 0, 0, 0, 0, 0, 0, 0, 0, 0, 0, 0, 0, 0, 0, 0, 0, 0, 1, 1, 1, 1, 1, 1, 1, 1, 1, 1, 1, 1, 1, 1, 1, 1, 1, 1, 1, 1, 1, 1, 1, 1, 1, 1, 1, 1, 1, 1, 1, 1, 1, 1, 1, 1, 1, 1, 1, 1, 1, 1, 1, 1, 1, 1, 1, 1, 1, 1, 1, 1, 1, 1, 1, 1, 1, 1, 1, 1, 1, 1, 1, 1, 1, 1, 1, 1, 1, 1, 1, 1, 1, 1, 1, 1, 1, 1, 1, 1, 1, 1, 1, 1, 1, 1, 0, 0, 0, 0, 0, 1, 1, 1, 0, 0, 0, 0, 0, 0, 0, 0, 0, 0, 0, 0, 0, 0, 0, 0, 0, 0, 1, 1, 1, 1, 1, 1, 1, 1, 1, 1, 0, 1, 1, 1, 1, 1, 1, 1, 0, 0, 0, 0, 0, 0, 0, 0, 0, 0, 0, 0, 0, 0, 0, 0, 0, 0, 0, 0, 0, 0, 0, 0, 0, 0, 0, 0, 0, 0, 0, 1, 1, 1, 1, 1, 1, 1, 1, 1, 1, 1, 1, 1, 1, 1, 1, 1, 1, 1, 1, 1, 1, 1, 1, 1, 1, 1, 1, 1, 1, 1, 1, 1, 1, 1, 1, 1, 1, 1, 1, 1, 1, 1, 1, 1, 1, 1, 1, 1, 1, 1, 1, 1, 1, 1, 1, 1, 1, 1, 1, 1, 1, 1, 1, 1, 1, 1, 1, 1, 1, 1, 1, 1, 1, 1, 1, 1, 1, 1, 1, 1, 1, 1, 1, 1, 1, 1, 1, 1, 1, 1, 1, 1, 1, 1, 1, 1, 1, 1, 1, 1, 1, 1, 1, 1, 1, 1, 1, 1, 1, 1, 1, 1, 1, 1, 1, 1, 1, 1, 1, 1, 1, 1, 1, 1, 1, 1, 1, 1, 1, 1, 1, 1, 1, 1, 1, 1, 1, 1, 1, 1, 1, 1, 1, 1, 1, 1, 1, 1, 1, 1, 1, 1, 1, 1, 1, 0, 0, 0, 0, 0, 0, 0, 0, 0, 0, 0, 0, 0, 0, 1, 1, 1, 1, 1, 0, 0, 1, 1, 1, 1, 1, 1, 1, 1, 1, 1, 1, 1, 1, 1, 1, 1, 1, 1, 1, 1, 1, 1, 1, 1, 1, 1, 1, 1, 1, 1, 1, 1, 1, 1, 1, 1, 1, 1]\n"
     ]
    }
   ],
   "source": [
    "# 1. 获取测试集的预测概率（0-1之间）\n",
    "y_pred_proba = final_model.predict( daily_test_prepared)\n",
    "\n",
    "# 2. 将概率转换为类别标签（默认以0.5为阈值，可根据需求调整）\n",
    "threshold = 0.5\n",
    "y_pred = (y_pred_proba >= threshold).astype(int).flatten().tolist()  # 转换为0/1的一维数组\n",
    "print(\"y_pred:\", y_pred)"
   ]
  },
  {
   "cell_type": "code",
   "execution_count": 22,
   "id": "ecd75b7e",
   "metadata": {},
   "outputs": [],
   "source": [
    "def get_backtest_data(daily_df, train_num, daily_back):\n",
    "    \"\"\"直接获取最终回测数据：索引 >= train_num + daily_back 的开盘价和收盘价\"\"\"\n",
    "    return daily_df.loc[\n",
    "        daily_df.index >= train_num + daily_back,\n",
    "        ['open', 'close']\n",
    "    ]\n",
    "\n",
    "# 使用示例\n",
    "backtrader_df = get_backtest_data(daily_df, train_num, daily_back)\n"
   ]
  },
  {
   "cell_type": "markdown",
   "id": "ba8c3651",
   "metadata": {},
   "source": [
    "# 形成day_rate_of_return日内收益率，和rate_of_return隔夜收益率"
   ]
  },
  {
   "cell_type": "code",
   "execution_count": 23,
   "id": "d84028e8",
   "metadata": {},
   "outputs": [
    {
     "name": "stdout",
     "output_type": "stream",
     "text": [
      "         open    close  rate_of_return  day_rate_of_return  last_close  \\\n",
      "1890  3664.04  3626.60             NaN           -0.010218         NaN   \n",
      "1891  3635.30  3639.40        0.003529            0.001128     3626.60   \n",
      "1892  3631.07  3610.58       -0.007919           -0.005643     3639.40   \n",
      "1893  3588.52  3533.54       -0.021337           -0.015321     3610.58   \n",
      "1894  3518.35  3510.59       -0.006495           -0.002206     3533.54   \n",
      "...       ...      ...             ...                 ...         ...   \n",
      "2333  4110.29  4122.51        0.004273            0.002973     4104.97   \n",
      "2334  4123.58  4143.83        0.005172            0.004911     4122.51   \n",
      "2335  4150.50  4176.58        0.007903            0.006284     4143.83   \n",
      "2336  4179.97  4173.31       -0.000783           -0.001593     4176.58   \n",
      "2337  4162.42  4202.35        0.006959            0.009593     4173.31   \n",
      "\n",
      "      sale_rate_of_return  \n",
      "1890                  NaN  \n",
      "1891             0.002399  \n",
      "1892            -0.002289  \n",
      "1893            -0.006110  \n",
      "1894            -0.004299  \n",
      "...                   ...  \n",
      "2333             0.001296  \n",
      "2334             0.000260  \n",
      "2335             0.001610  \n",
      "2336             0.000812  \n",
      "2337            -0.002609  \n",
      "\n",
      "[448 rows x 6 columns]\n",
      "(448, 6)\n"
     ]
    }
   ],
   "source": [
    "# 计算收益率\n",
    "backtrader_df['rate_of_return'] = backtrader_df['close'].rolling(2).apply(lambda x: x[1] / x[0] - 1, raw=True)\n",
    "backtrader_df['day_rate_of_return'] = backtrader_df['close'] / backtrader_df['open'] - 1\n",
    "\n",
    "# 将前一天的收盘价作为last_close，这样长度会自动匹配\n",
    "backtrader_df['last_close'] = backtrader_df['close'].shift(1)\n",
    "\n",
    "# 只保留需要的部分（根据你的train_num和daily_back条件）\n",
    "start_idx = train_num + daily_back + 1\n",
    "backtrader_df.loc[backtrader_df.index < start_idx, 'last_close'] = None\n",
    "\n",
    "# 计算卖出收益率\n",
    "backtrader_df['sale_rate_of_return'] = backtrader_df['open'] / backtrader_df['last_close'] - 1\n",
    "\n",
    "print(backtrader_df)\n",
    "print(backtrader_df.shape)\n",
    "trade_day_return_list = []\n",
    "return_multiple_list = []\n",
    "every_day_return_list = []"
   ]
  },
  {
   "cell_type": "markdown",
   "id": "94506474",
   "metadata": {},
   "source": [
    "# 回测交易逻辑"
   ]
  },
  {
   "cell_type": "code",
   "execution_count": 24,
   "id": "4a2a5071",
   "metadata": {},
   "outputs": [],
   "source": [
    "def backtrader(list, df):\n",
    "    a = 0  # 持仓状态，0为空仓，1为持仓\n",
    "    return_multiple = 1  # 累计收益倍数\n",
    "    trade_day_return_list = []  # 交易日收益列表\n",
    "    return_multiple_list = []  # 累计收益倍数列表\n",
    "    every_day_return_list = []  # 每日收益列表\n",
    "    trade_profits = []  # 新增：记录每笔完整交易的盈亏\n",
    "    \n",
    "    current_trade_profit = 1  # 新增：当前交易的收益倍数\n",
    "    \n",
    "    for i, v in enumerate(list):\n",
    "        if (v == 1) & (a == 0):\n",
    "            # 买入操作\n",
    "            b = (1 + df.loc[train_num + daily_back + i, 'day_rate_of_return'])\n",
    "            return_multiple *= b\n",
    "            a = 1\n",
    "            current_trade_profit = b  # 开始新交易\n",
    "            trade_day_return_list.append(b - 1)\n",
    "            return_multiple_list.append(return_multiple)\n",
    "            every_day_return_list.append(b - 1)\n",
    "\n",
    "        elif (v == 1) & (a == 1):\n",
    "            # 持仓中\n",
    "            b = (1 + df.loc[train_num + daily_back + i, 'rate_of_return'])\n",
    "            return_multiple *= b\n",
    "            current_trade_profit *= b  # 累积当前交易收益\n",
    "            trade_day_return_list.append(b - 1)\n",
    "            return_multiple_list.append(return_multiple)\n",
    "            every_day_return_list.append(b - 1)\n",
    "            \n",
    "        elif (v == 0) & (a == 1):\n",
    "            # 卖出操作，完成一笔交易\n",
    "            a = 0\n",
    "            b = (1 + df.loc[train_num + daily_back + i, 'sale_rate_of_return'])\n",
    "            return_multiple *= b\n",
    "            current_trade_profit *= b  # 计算最终交易收益\n",
    "            trade_profits.append(current_trade_profit - 1)  # 记录这笔交易的盈亏\n",
    "            current_trade_profit = 1  # 重置当前交易收益\n",
    "            trade_day_return_list.append(b - 1)\n",
    "            every_day_return_list.append(b - 1)\n",
    "            return_multiple_list.append(return_multiple)\n",
    "            \n",
    "        elif (v == 0) & (a == 0):\n",
    "            # 空仓状态\n",
    "            return_multiple = return_multiple\n",
    "            every_day_return_list.append(0)\n",
    "    \n",
    "    # 返回值中增加每笔交易的盈亏列表\n",
    "    return a, trade_day_return_list, return_multiple, return_multiple_list, every_day_return_list, trade_profits"
   ]
  },
  {
   "cell_type": "code",
   "execution_count": 25,
   "id": "80a6e92b",
   "metadata": {},
   "outputs": [],
   "source": [
    "# 运行回测\n",
    "result = backtrader(y_pred, backtrader_df)\n",
    "a, trade_day_return_list, return_multiple, return_multiple_list, every_day_return_list, trade_profits = result"
   ]
  },
  {
   "cell_type": "code",
   "execution_count": 28,
   "id": "4eda96a9",
   "metadata": {},
   "outputs": [
    {
     "name": "stdout",
     "output_type": "stream",
     "text": [
      "夏普比率： 0.6426862555197563\n",
      "收益率： 0.21893237171342106\n"
     ]
    }
   ],
   "source": [
    "# 1. 定义无风险利率（年化）\n",
    "# 通常使用国债收益率等低风险资产收益率作为参考\n",
    "annual_risk_free_rate = 0.02  # 年化无风险利率，此处设为2%\n",
    "daily_risk_free_rate = annual_risk_free_rate / 240  # 转换为日度无风险利率（假设每年240个交易日）\n",
    "\n",
    "# 2. 计算超额收益率\n",
    "# 超额收益 = 策略每日实际收益 - 当日无风险收益\n",
    "# 交易日收益列表(trade_day_return_list)\n",
    "excess_returns = np.array(trade_day_return_list) - daily_risk_free_rate\n",
    "\n",
    "# 3. 计算超额收益率的核心指标\n",
    "average_excess_return = np.mean(excess_returns)  # 平均超额收益率\n",
    "excess_return_volatility = np.std(excess_returns, ddof=1)  # 超额收益率的波动率（样本标准差，ddof=1表示使用n-1自由度）\n",
    "\n",
    "# 4. 计算年化夏普比率\n",
    "# 计算年均有效交易日：基础交易天数(240) × 实际交易天数占比\n",
    "# len(trade_day_return_list)：实际交易天数（有收益记录的天数）\n",
    "# len(y_pred)：总预测天数（回测期间的所有交易日）\n",
    "average_annual_trading_days = 240 * len(trade_day_return_list) / len(y_pred)\n",
    "\n",
    "# 夏普比率公式：(平均超额收益 / 超额收益波动率) × 年化系数\n",
    "# 年化系数为年均有效交易日的平方根，将日度数据转换为年度数据\n",
    "sharpe_ratio = (average_excess_return / excess_return_volatility) * np.sqrt(average_annual_trading_days)\n",
    "\n",
    "\n",
    "print('夏普比率：',sharpe_ratio)\n",
    "print('收益率：',return_multiple-1)\n"
   ]
  },
  {
   "cell_type": "code",
   "execution_count": 29,
   "id": "3f2ded5b",
   "metadata": {},
   "outputs": [
    {
     "name": "stdout",
     "output_type": "stream",
     "text": [
      "胜率： 0.3333333333333333\n",
      "盈亏比： 5.1886789831440625\n"
     ]
    }
   ],
   "source": [
    "# 计算新增指标：胜率和盈亏比\n",
    "if trade_profits:  # 确保有交易记录\n",
    "    # 胜率 = 盈利交易次数 / 总交易次数\n",
    "    winning_trades = [p for p in trade_profits if p > 0]\n",
    "    win_rate = len(winning_trades) / len(trade_profits) if trade_profits else 0\n",
    "    \n",
    "    # 盈亏比 = 平均盈利 / 平均亏损（取绝对值）\n",
    "    if winning_trades:\n",
    "        losing_trades = [p for p in trade_profits if p < 0]\n",
    "        avg_win = np.mean(winning_trades)\n",
    "        avg_loss = np.mean(losing_trades) if losing_trades else 0\n",
    "        \n",
    "        # 避免除以零错误\n",
    "        if avg_loss != 0:\n",
    "            profit_loss_ratio = abs(avg_win / avg_loss)\n",
    "        else:\n",
    "            profit_loss_ratio = float('inf')  # 所有交易都盈利\n",
    "    else:\n",
    "        profit_loss_ratio = 0  # 没有盈利交易\n",
    "    \n",
    "    print(\"胜率：\", win_rate)\n",
    "    print(\"盈亏比：\", profit_loss_ratio)\n",
    "else:\n",
    "    print(\"没有交易记录，无法计算胜率和盈亏比\")"
   ]
  },
  {
   "cell_type": "code",
   "execution_count": 30,
   "id": "e894d8b3",
   "metadata": {},
   "outputs": [],
   "source": [
    "every_day_return_list=result=backtrader(y_pred,backtrader_df)[4]"
   ]
  },
  {
   "cell_type": "code",
   "execution_count": 31,
   "id": "c359f589",
   "metadata": {},
   "outputs": [
    {
     "name": "stdout",
     "output_type": "stream",
     "text": [
      "最大回撤: -0.15663635722844915\n"
     ]
    }
   ],
   "source": [
    "# 基于完整每日收益计算（推荐）\n",
    "daily_factors = pd.Series(every_day_return_list) + 1  # 包含空仓日（空仓日为1.0）\n",
    "cumulative_factors = daily_factors.cumprod()  # 完整累计收益倍数\n",
    "rolling_max_factors = cumulative_factors.cummax()\n",
    "drawdown_returns = (cumulative_factors - rolling_max_factors) / rolling_max_factors\n",
    "max_drawdown = drawdown_returns.min()\n",
    "print(\"最大回撤:\", max_drawdown)"
   ]
  },
  {
   "cell_type": "code",
   "execution_count": null,
   "id": "d346e244",
   "metadata": {},
   "outputs": [],
   "source": []
  },
  {
   "cell_type": "code",
   "execution_count": 32,
   "id": "eb03bdd8",
   "metadata": {},
   "outputs": [
    {
     "data": {
      "image/png": "[encoded data removed]",
      "text/plain": [
       "<Figure size 640x480 with 1 Axes>"
      ]
     },
     "metadata": {},
     "output_type": "display_data"
    },
    {
     "data": {
      "image/png": "[encoded data removed]",
      "text/plain": [
       "<Figure size 640x480 with 1 Axes>"
      ]
     },
     "metadata": {},
     "output_type": "display_data"
    }
   ],
   "source": [
    "def paint():\n",
    "    acc=history.history['acc']\n",
    "    val_acc=history.history['val_acc']\n",
    "    loss=history.history['loss']\n",
    "    val_loss=history.history['val_loss']\n",
    "\n",
    "    epochs=range(len(acc))\n",
    "    plt.plot(epochs,acc,'bo',label='Training acc')\n",
    "    plt.plot(epochs,val_acc,'b',label='Validation acc')\n",
    "    plt.title('Training and validation accuracy')\n",
    "    plt.legend()\n",
    "\n",
    "    plt.figure()\n",
    "\n",
    "    plt.plot(epochs,loss,'bo',label='Training loss')\n",
    "    plt.plot(epochs,val_loss,'b',label='Validation loss')\n",
    "    plt.title('Training and validation loss')\n",
    "    plt.legend()\n",
    "    return plt\n",
    "my_paint=paint()\n",
    "my_paint.show()"
   ]
  },
  {
   "cell_type": "markdown",
   "id": "ff449cf1",
   "metadata": {},
   "source": [
    "# 混淆矩阵绘制"
   ]
  },
  {
   "cell_type": "code",
   "execution_count": 33,
   "id": "6a2eaf54",
   "metadata": {},
   "outputs": [
    {
     "name": "stdout",
     "output_type": "stream",
     "text": [
      "混淆矩阵：\n",
      " [[162  60]\n",
      " [143  83]]\n",
      "查准率： 0.5311475409836065\n",
      "查全率： 0.7297297297297297\n",
      "f1-score: 0.6148007590132827\n"
     ]
    }
   ],
   "source": [
    "# 计算混淆矩阵（变量名用 cm，不与函数名冲突）\n",
    "cm = confusion_matrix(target_test_prepared, y_pred, labels=[1, 0])\n",
    "\n",
    "# 计算其他指标\n",
    "precision = precision_score(target_test_prepared, y_pred, pos_label=1)\n",
    "recall = recall_score(target_test_prepared, y_pred, pos_label=1)\n",
    "f1 = f1_score(target_test_prepared, y_pred, pos_label=1)\n",
    "\n",
    "# 打印结果\n",
    "print('混淆矩阵：\\n', cm)\n",
    "print('查准率：', precision)\n",
    "print('查全率：', recall)\n",
    "print('f1-score:', f1)"
   ]
  },
  {
   "cell_type": "code",
   "execution_count": null,
   "id": "f48b8b1a",
   "metadata": {},
   "outputs": [],
   "source": []
  },
  {
   "cell_type": "code",
   "execution_count": 34,
   "id": "52941452",
   "metadata": {},
   "outputs": [
    {
     "name": "stdout",
     "output_type": "stream",
     "text": [
      "\u001b[1m14/14\u001b[0m \u001b[32m━━━━━━━━━━━━━━━━━━━━\u001b[0m\u001b[37m\u001b[0m \u001b[1m0s\u001b[0m 2ms/step \n"
     ]
    },
    {
     "data": {
      "image/png": "[encoded data removed]",
      "text/plain": [
       "<Figure size 640x480 with 1 Axes>"
      ]
     },
     "metadata": {},
     "output_type": "display_data"
    }
   ],
   "source": [
    "y_predict=final_model.predict(daily_test_prepared).reshape(test_num-daily_back).tolist()\n",
    "fpr,tpr,threshold = roc_curve(target_test_prepared, y_predict) ###计算真正率和假正率\n",
    "# print(fpr,tpr,threshold)\n",
    "roc_auc = auc(fpr,tpr)\n",
    "\n",
    "\n",
    "lw = 2\n",
    "plt.figure()\n",
    "plt.plot(fpr, tpr, color='darkorange',\n",
    "         lw=lw, label='ROC curve (area = %0.2f)' % roc_auc) ###假正率为横坐标，真正率为纵坐标做曲线\n",
    "plt.plot([0, 1], [0, 1], color='navy', lw=lw, linestyle='--')\n",
    "plt.xlim([0.0, 1.0])\n",
    "plt.ylim([0.0, 1.05])\n",
    "plt.xlabel('False Positive Rate')\n",
    "plt.ylabel('True Positive Rate')\n",
    "plt.title('Receiver operating characteristic example')\n",
    "plt.legend(loc=\"lower right\")\n",
    "plt.show()"
   ]
  },
  {
   "cell_type": "markdown",
   "id": "25a66803",
   "metadata": {},
   "source": [
    "# 模型结果输出保存"
   ]
  },
  {
   "cell_type": "code",
   "execution_count": 35,
   "id": "01be93df",
   "metadata": {},
   "outputs": [
    {
     "name": "stdout",
     "output_type": "stream",
     "text": [
      "已将数据追加到 SSA-LSTM（单输入）模型数据记录汇总.xlsx，当前共 2 行数据\n"
     ]
    }
   ],
   "source": [
    "import pandas as pd\n",
    "import os\n",
    "\n",
    "# 定义当前运行得到的一行数据（以\"基础LSTM\"为例，实际使用时替换为当前模型的真实指标）\n",
    "current_data = {\n",
    "    '模型': 'SSA-LSTM（单输入）',  # 每次替换为当前模型名称\n",
    "    '准确率（%）': accuracy,\n",
    "    '精确率（%）': precision,\n",
    "    '召回率': recall,\n",
    "    'F1值': f1,\n",
    "    'AUC': roc_auc,\n",
    "    '胜率（%）': win_rate*100,\n",
    "    '盈亏比': profit_loss_ratio,\n",
    "    '夏普比率': sharpe_ratio,\n",
    "    '年收益率（%）': (return_multiple-1)*100,\n",
    "    '最大回撤': max_drawdown\n",
    "}\n",
    "\n",
    "# 转换为DataFrame（单行）\n",
    "df_current = pd.DataFrame([current_data])\n",
    "\n",
    "# 检查是否已存在数据文件，存在则追加，不存在则创建\n",
    "file_path = 'SSA-LSTM（单输入）模型数据记录汇总.xlsx'\n",
    "if os.path.exists(file_path):\n",
    "    # 读取已有数据\n",
    "    df_existing = pd.read_excel(file_path)\n",
    "    # 追加新行\n",
    "    df_updated = pd.concat([df_existing, df_current], ignore_index=True)\n",
    "else:\n",
    "    df_updated = df_current\n",
    "\n",
    "# 保存更新后的数据\n",
    "df_updated.to_excel(file_path, index=False)\n",
    "print(f\"已将数据追加到 {file_path}，当前共 {len(df_updated)} 行数据\")"
   ]
  }
 ],
 "metadata": {
  "kernelspec": {
   "display_name": "tf_env",
   "language": "python",
   "name": "python3"
  },
  "language_info": {
   "codemirror_mode": {
    "name": "ipython",
    "version": 3
   },
   "file_extension": ".py",
   "mimetype": "text/x-python",
   "name": "python",
   "nbconvert_exporter": "python",
   "pygments_lexer": "ipython3",
   "version": "3.9.21"
  }
 },
 "nbformat": 4,
 "nbformat_minor": 5
}
