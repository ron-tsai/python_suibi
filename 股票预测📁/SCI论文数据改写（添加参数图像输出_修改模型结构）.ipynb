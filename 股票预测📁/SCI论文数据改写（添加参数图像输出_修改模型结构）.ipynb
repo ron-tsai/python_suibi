{
 "cells": [
  {
   "cell_type": "code",
   "execution_count": 1,
   "id": "c94f7744",
   "metadata": {},
   "outputs": [
    {
     "name": "stdout",
     "output_type": "stream",
     "text": [
      "Intel MKL WARNING: Support of Intel(R) Streaming SIMD Extensions 4.2 (Intel(R) SSE4.2) enabled only processors has been deprecated. Intel oneAPI Math Kernel Library 2025.0 will require Intel(R) Advanced Vector Extensions (Intel(R) AVX) instructions.\n",
      "Intel MKL WARNING: Support of Intel(R) Streaming SIMD Extensions 4.2 (Intel(R) SSE4.2) enabled only processors has been deprecated. Intel oneAPI Math Kernel Library 2025.0 will require Intel(R) Advanced Vector Extensions (Intel(R) AVX) instructions.\n"
     ]
    },
    {
     "name": "stderr",
     "output_type": "stream",
     "text": [
      "2025-02-27 17:30:44.394705: I tensorflow/core/platform/cpu_feature_guard.cc:182] This TensorFlow binary is optimized to use available CPU instructions in performance-critical operations.\n",
      "To enable the following instructions: SSE4.1 SSE4.2, in other operations, rebuild TensorFlow with the appropriate compiler flags.\n"
     ]
    }
   ],
   "source": [
    "import pandas as pd\n",
    "import numpy as np\n",
    "import os\n",
    "import keras\n",
    "\n",
    "\n",
    "%matplotlib inline\n",
    "from matplotlib import pyplot as plt\n",
    "from keras.models import Model\n",
    "from keras import layers\n",
    "from keras import Input\n",
    "from sklearn.metrics import confusion_matrix,roc_curve, auc,recall_score,precision_score,f1_score\n",
    "from keras.utils.vis_utils import plot_model"
   ]
  },
  {
   "cell_type": "markdown",
   "id": "fa353efb",
   "metadata": {},
   "source": [
    "# 参数设置"
   ]
  },
  {
   "cell_type": "code",
   "execution_count": 3,
   "id": "ccfe2d2a",
   "metadata": {
    "scrolled": true
   },
   "outputs": [],
   "source": [
    "# plt.rcParams['font.sans-serif'] = ['SimHei'] # 指定默认字体\n",
    "# plt.rcParams['axes.unicode_minus'] = False\n",
    "\n",
    "\n",
    "# from tensorflow import losses\n",
    "daily_back=20\n",
    "wenben_back=10\n",
    "total_day=2159 #根据查看数据表，得到数值\n",
    "train_num=1650\n",
    "\n",
    "\n",
    "\n",
    "wenben_sort=2\n",
    "batch_size=8\n",
    "epochs=20\n",
    "LSTM_num=100\n",
    "dense_num=20\n",
    "\n",
    "\n",
    "mix_file='daily_data.xlsx'\n",
    "first_columns='search_index'\n",
    "\n",
    "\n",
    "\n",
    "test_num=total_day-train_num"
   ]
  },
  {
   "cell_type": "markdown",
   "id": "1006d29e",
   "metadata": {},
   "source": []
  },
  {
   "cell_type": "code",
   "execution_count": null,
   "id": "911164cf",
   "metadata": {},
   "outputs": [],
   "source": []
  },
  {
   "cell_type": "markdown",
   "id": "5cada9a3",
   "metadata": {},
   "source": [
    "# 数据转换类，返回多个字典？"
   ]
  },
  {
   "cell_type": "code",
   "execution_count": 6,
   "id": "a58de0bc",
   "metadata": {},
   "outputs": [],
   "source": [
    "class Data_maker:\n",
    "    def __init__(self,train_num,test_num,fif_back,daily_back,wenben_back):\n",
    "        self.train_num=train_num\n",
    "        self.test_num=test_num\n",
    "        self.fif_back=fif_back\n",
    "        self.daily_back=daily_back\n",
    "        self.wenben_back = wenben_back\n",
    "\n",
    "\n",
    "    def daily_train_data(self,data):\n",
    "        while True:\n",
    "            rows = list(range(self.train_num - self.daily_back)) #总共1650个数据，由于扣除前面20个数据，所以为1630\n",
    "            ### 先构造空（预测日长度*日后移）array\n",
    "            samples = np.zeros((len(rows),\n",
    "                                 self.daily_back,\n",
    "                                 5))\n",
    "            print(samples.shape)\n",
    "            for j in rows:\n",
    "                ### 每一个填入用于预测一天的开盘价到波动率矩阵\n",
    "                samples[j] = data.loc[\n",
    "                                  (data.index >= j) & (data.index < self.daily_back + j),\n",
    "                                  'open':'volume_rate']\n",
    "            print(data.index)\n",
    "            print('日频训练array：',samples.shape)\n",
    "            return samples\n",
    "    def fif_train_data(self,data):\n",
    "        while True:\n",
    "            rows = list(range(self.train_num - self.daily_back))\n",
    "            samples = np.zeros((len(rows),\n",
    "                                 self.fif_back,\n",
    "                                 5))\n",
    "            for j in rows:\n",
    "\n",
    "                samples[j] = data.loc[\n",
    "                              (data.index >= j * self.fif_back ) & (data.index < (j+1) * self.fif_back),\n",
    "                              'open':]\n",
    "            print('十五分钟训练array：',samples.shape)\n",
    "            return samples\n",
    "    def wenben_train_data(self,data):\n",
    "        while True:\n",
    "            rows = list(range(self.train_num - self.daily_back)) #总共1489个数据，由于扣除前面20个数据，所以为1469\n",
    "            samples = np.zeros((len(rows),\n",
    "                                 self.wenben_back,\n",
    "                                 wenben_sort))\n",
    "            for j in rows:\n",
    "\n",
    "                samples[j] = data.loc[\n",
    "                                  (data.index >= j) & (data.index < self.wenben_back + j),\n",
    "                                  first_columns:]\n",
    "            print('文本长期训练array：',samples.shape)\n",
    "            return samples\n",
    "   \n",
    "\n",
    "    def daily_test_data(self,data):\n",
    "        while True:\n",
    "            rows = list(range(self.test_num - self.daily_back))\n",
    "            print(self.test_num,self.daily_back)\n",
    "            print(rows)\n",
    "            samples = np.zeros((len(rows),\n",
    "                                self.daily_back,\n",
    "                                 5))\n",
    "            for j in rows:\n",
    "\n",
    "\n",
    "                samples[j] = data.loc[\n",
    "                                  (data.index >= self.train_num+j) & (data.index < self.train_num+self.daily_back + j),\n",
    "                                  'open':'volume_rate']\n",
    "            print('日测试array：',samples.shape)\n",
    "            print('试一试index', data.index,'train_num',self.train_num)\n",
    "            return samples\n",
    "\n",
    "    def wenben_test_data(self, data):\n",
    "        while True:\n",
    "            rows = list(range(self.test_num - self.daily_back))\n",
    "            samples = np.zeros((len(rows),\n",
    "                                self.wenben_back,\n",
    "                                wenben_sort))\n",
    "            for j in rows:\n",
    "                samples[j] = data.loc[\n",
    "                             (data.index >= self.train_num + j) & (data.index < self.train_num + self.wenben_back + j),\n",
    "                             first_columns:]\n",
    "            print('长期文本测试array：', samples.shape)\n",
    "            return samples\n",
    "   \n",
    "    def fif_test_data(self,data):\n",
    "        while True:\n",
    "            rows = list(range(self.test_num - self.daily_back))\n",
    "            samples = np.zeros((len(rows),\n",
    "                                self.fif_back,\n",
    "                                 5))\n",
    "            for j in rows:\n",
    "\n",
    "\n",
    "                samples[j] = data.loc[\n",
    "                                 (data.index >= 16*self.train_num+(j) * self.fif_back) & (data.index < 16*self.train_num+(j+1) * self.fif_back),\n",
    "                                 'open':]\n",
    "            print('十五分钟测试array：',samples.shape)\n",
    "            return samples\n",
    "    def target_train_data(self,data):\n",
    "        while True:\n",
    "            rows = list(range(self.train_num-self.daily_back))\n",
    "            targets = np.zeros((len(rows),))\n",
    "            for j in rows:\n",
    "\n",
    "\n",
    "                targets[j] = data.loc[data.index == j, 'target']\n",
    "            print('训练标签array',targets.shape)\n",
    "            return targets\n",
    "    def target_test_data(self,data):\n",
    "        while True:\n",
    "            rows = list(range(self.test_num-self.daily_back))\n",
    "            targets = np.zeros((len(rows),))\n",
    "            for j in rows:\n",
    "\n",
    "\n",
    "                targets[j] = data.loc[data.index == self.train_num+j, 'target'] ##出问题：应该是。而不是***：data.index == self.train_num+j\n",
    "            print(targets.shape)\n",
    "            return targets"
   ]
  },
  {
   "cell_type": "markdown",
   "id": "2b0ac67d",
   "metadata": {},
   "source": [
    "# 设置类方法里的参数，赋值给origin_data_maker，仍然是一个class类"
   ]
  },
  {
   "cell_type": "code",
   "execution_count": 8,
   "id": "98d96df1",
   "metadata": {},
   "outputs": [],
   "source": [
    "origin_data_maker=Data_maker(train_num=train_num,test_num=test_num,fif_back=16,daily_back=20,wenben_back=wenben_back)\n"
   ]
  },
  {
   "cell_type": "markdown",
   "id": "08c9b0fa",
   "metadata": {},
   "source": [
    "# 读取原始数据"
   ]
  },
  {
   "cell_type": "code",
   "execution_count": 10,
   "id": "c5a53a33",
   "metadata": {},
   "outputs": [],
   "source": [
    "new_dir='/Users/ccmac/Desktop/完成SCI数据'\n",
    "\n",
    "# wenben_dir='/Users/ccmac/Documents/毕业论文数据/每日均值'\n",
    "daily_df=pd.read_excel(os.path.join(new_dir,mix_file))\n",
    "fif_df=pd.read_excel(os.path.join(new_dir,'fif_data.xlsx'))\n",
    "target_df=pd.read_excel(os.path.join(new_dir,'target.xlsx'))\n",
    "wenben_df=pd.read_excel(os.path.join(new_dir,mix_file))"
   ]
  },
  {
   "cell_type": "markdown",
   "id": "a093f0e5",
   "metadata": {},
   "source": [
    "# 历史数据标准化函数norm"
   ]
  },
  {
   "cell_type": "code",
   "execution_count": 12,
   "id": "6f00c73f",
   "metadata": {},
   "outputs": [],
   "source": [
    "def norm(df):\n",
    "    x=df.copy()\n",
    "    open_mean_value = df['open'].mean(axis=0)\n",
    "    high_mean_value = df['high'].mean(axis=0)\n",
    "    low_mean_value = df['low'].mean()\n",
    "    close_mean_value = df['close'].mean()\n",
    "    volumerate_mean_value = df['volume_rate'].mean()\n",
    "\n",
    "    open_std_value = df['open'].std()\n",
    "    high_std_value = df['high'].std()\n",
    "    low_std_value = df['low'].std()\n",
    "    close_std_value = df['close'].std()\n",
    "    volumerate_std_value = df['volume_rate'].std()\n",
    "\n",
    "    x['open']=(df['open']-open_mean_value)/open_std_value\n",
    "    x['high'] = (df['high'] - high_mean_value) / high_std_value\n",
    "    x['low'] =  (df['low'] - low_mean_value) / low_std_value\n",
    "    x['close'] =  (df['close'] - close_mean_value) / close_std_value\n",
    "    x['volume_rate'] = (df['volume_rate'] - volumerate_mean_value) / volumerate_std_value\n",
    "    df=x\n",
    "    return df"
   ]
  },
  {
   "cell_type": "markdown",
   "id": "07a46668",
   "metadata": {},
   "source": [
    "# 文本数据标准化函数wenben_norm"
   ]
  },
  {
   "cell_type": "code",
   "execution_count": 14,
   "id": "78f471cd",
   "metadata": {},
   "outputs": [],
   "source": [
    "def wenben_norm(df):\n",
    "    x=df.copy()\n",
    "    sector_score_mean_value = df['sector_score'].mean(axis=0)\n",
    "    search_index_mean_value = df['search_index'].mean(axis=0)\n",
    "    # media_attention_mean_value = df['media_attention'].mean(axis=0)\n",
    "\n",
    "\n",
    "    sector_score_std_value = df['sector_score'].std()\n",
    "    search_index_std_value = df['search_index'].std()\n",
    "    # media_attention_std_value = df['media_attention'].std()\n",
    "\n",
    "\n",
    "    x['sector_score']=(df['sector_score']-sector_score_mean_value)/sector_score_std_value\n",
    "    x['search_index'] = (df['search_index'] - search_index_mean_value) / search_index_std_value\n",
    "    # x['media_attention'] = (df['media_attention'] - media_attention_mean_value) / media_attention_std_value\n",
    "\n",
    "    df=x\n",
    "    return df"
   ]
  },
  {
   "cell_type": "markdown",
   "id": "3b6911e7",
   "metadata": {},
   "source": [
    "# 数据切分"
   ]
  },
  {
   "cell_type": "code",
   "execution_count": 16,
   "id": "07835973",
   "metadata": {},
   "outputs": [],
   "source": [
    "def split_data(train_num=train_num,wenben_back=wenben_back):\n",
    "    daily_train_df=daily_df.loc[daily_df.index<train_num]\n",
    "    daily_test_df=daily_df.loc[daily_df.index>=train_num]\n",
    "    fif_train_df=fif_df.loc[fif_df.index<16*train_num]\n",
    "    fif_test_df=fif_df.loc[fif_df.index>=16*train_num]\n",
    "    wenben_train_df=wenben_df.loc[wenben_df.index<train_num]\n",
    "    wenben_test_df=wenben_df.loc[wenben_df.index>=train_num]\n",
    "\n",
    "    target_train_df=target_df.loc[target_df.index<train_num]\n",
    "    target_test_df=target_df.loc[target_df.index>=train_num]\n",
    "\n",
    "    daily_train_df=norm(daily_train_df)\n",
    "    daily_test_df=norm(daily_test_df)\n",
    "    fif_train_df=norm(fif_train_df)\n",
    "    fif_test_df=norm(fif_test_df)\n",
    "    wenben_train_df=wenben_norm(wenben_train_df)\n",
    "    wenben_test_df = wenben_norm(wenben_test_df)\n",
    "\n",
    "\n",
    "    return {'daily_train_df':daily_train_df,\n",
    "            'daily_test_df':daily_test_df,\n",
    "            'fif_train_df':fif_train_df,\n",
    "            'fif_test_df':fif_test_df,\n",
    "            'target_train_df':target_train_df,\n",
    "            'target_test_df':target_test_df,\n",
    "            'wenben_train_df':wenben_train_df,\n",
    "            'wenben_test_df': wenben_test_df\n",
    "            }"
   ]
  },
  {
   "cell_type": "markdown",
   "id": "557c115f",
   "metadata": {},
   "source": [
    "# 进行数据切分"
   ]
  },
  {
   "cell_type": "code",
   "execution_count": 18,
   "id": "b87cec91",
   "metadata": {},
   "outputs": [
    {
     "name": "stdout",
     "output_type": "stream",
     "text": [
      "日频训练切分： (1650, 8)\n",
      "日频测试切分： (509, 8)\n",
      "十五分钟频训练切分： (26400, 6)\n",
      "十五分钟频测试切分： (8320, 6)\n",
      "训练目标切分： (1650, 2)\n",
      "测试目标切分： (520, 2)\n"
     ]
    }
   ],
   "source": [
    "daily_train_df=split_data()['daily_train_df']\n",
    "print('日频训练切分：',daily_train_df.shape)\n",
    "daily_test_df=split_data()['daily_test_df']\n",
    "print('日频测试切分：',daily_test_df.shape)\n",
    "fif_train_df=split_data()['fif_train_df']\n",
    "print('十五分钟频训练切分：',fif_train_df.shape)\n",
    "fif_test_df=split_data()['fif_test_df']\n",
    "print('十五分钟频测试切分：',fif_test_df.shape)\n",
    "target_train_df=split_data()['target_train_df']\n",
    "print('训练目标切分：',target_train_df.shape)\n",
    "target_test_df=split_data()['target_test_df']\n",
    "print('测试目标切分：',target_test_df.shape)\n",
    "wenben_norm_train_df=split_data()['wenben_train_df']\n",
    "wenben_norm_test_df=split_data()['wenben_test_df']"
   ]
  },
  {
   "cell_type": "markdown",
   "id": "b84200b8",
   "metadata": {},
   "source": [
    "# 调用类中的方法,处理原始数据"
   ]
  },
  {
   "cell_type": "code",
   "execution_count": 20,
   "id": "a26f72f7",
   "metadata": {},
   "outputs": [
    {
     "name": "stdout",
     "output_type": "stream",
     "text": [
      "(1630, 20, 5)\n",
      "Index([   0,    1,    2,    3,    4,    5,    6,    7,    8,    9,\n",
      "       ...\n",
      "       1640, 1641, 1642, 1643, 1644, 1645, 1646, 1647, 1648, 1649],\n",
      "      dtype='int64', length=1650)\n",
      "日频训练array： (1630, 20, 5)\n",
      "509 20\n",
      "[0, 1, 2, 3, 4, 5, 6, 7, 8, 9, 10, 11, 12, 13, 14, 15, 16, 17, 18, 19, 20, 21, 22, 23, 24, 25, 26, 27, 28, 29, 30, 31, 32, 33, 34, 35, 36, 37, 38, 39, 40, 41, 42, 43, 44, 45, 46, 47, 48, 49, 50, 51, 52, 53, 54, 55, 56, 57, 58, 59, 60, 61, 62, 63, 64, 65, 66, 67, 68, 69, 70, 71, 72, 73, 74, 75, 76, 77, 78, 79, 80, 81, 82, 83, 84, 85, 86, 87, 88, 89, 90, 91, 92, 93, 94, 95, 96, 97, 98, 99, 100, 101, 102, 103, 104, 105, 106, 107, 108, 109, 110, 111, 112, 113, 114, 115, 116, 117, 118, 119, 120, 121, 122, 123, 124, 125, 126, 127, 128, 129, 130, 131, 132, 133, 134, 135, 136, 137, 138, 139, 140, 141, 142, 143, 144, 145, 146, 147, 148, 149, 150, 151, 152, 153, 154, 155, 156, 157, 158, 159, 160, 161, 162, 163, 164, 165, 166, 167, 168, 169, 170, 171, 172, 173, 174, 175, 176, 177, 178, 179, 180, 181, 182, 183, 184, 185, 186, 187, 188, 189, 190, 191, 192, 193, 194, 195, 196, 197, 198, 199, 200, 201, 202, 203, 204, 205, 206, 207, 208, 209, 210, 211, 212, 213, 214, 215, 216, 217, 218, 219, 220, 221, 222, 223, 224, 225, 226, 227, 228, 229, 230, 231, 232, 233, 234, 235, 236, 237, 238, 239, 240, 241, 242, 243, 244, 245, 246, 247, 248, 249, 250, 251, 252, 253, 254, 255, 256, 257, 258, 259, 260, 261, 262, 263, 264, 265, 266, 267, 268, 269, 270, 271, 272, 273, 274, 275, 276, 277, 278, 279, 280, 281, 282, 283, 284, 285, 286, 287, 288, 289, 290, 291, 292, 293, 294, 295, 296, 297, 298, 299, 300, 301, 302, 303, 304, 305, 306, 307, 308, 309, 310, 311, 312, 313, 314, 315, 316, 317, 318, 319, 320, 321, 322, 323, 324, 325, 326, 327, 328, 329, 330, 331, 332, 333, 334, 335, 336, 337, 338, 339, 340, 341, 342, 343, 344, 345, 346, 347, 348, 349, 350, 351, 352, 353, 354, 355, 356, 357, 358, 359, 360, 361, 362, 363, 364, 365, 366, 367, 368, 369, 370, 371, 372, 373, 374, 375, 376, 377, 378, 379, 380, 381, 382, 383, 384, 385, 386, 387, 388, 389, 390, 391, 392, 393, 394, 395, 396, 397, 398, 399, 400, 401, 402, 403, 404, 405, 406, 407, 408, 409, 410, 411, 412, 413, 414, 415, 416, 417, 418, 419, 420, 421, 422, 423, 424, 425, 426, 427, 428, 429, 430, 431, 432, 433, 434, 435, 436, 437, 438, 439, 440, 441, 442, 443, 444, 445, 446, 447, 448, 449, 450, 451, 452, 453, 454, 455, 456, 457, 458, 459, 460, 461, 462, 463, 464, 465, 466, 467, 468, 469, 470, 471, 472, 473, 474, 475, 476, 477, 478, 479, 480, 481, 482, 483, 484, 485, 486, 487, 488]\n",
      "日测试array： (489, 20, 5)\n",
      "试一试index Index([1650, 1651, 1652, 1653, 1654, 1655, 1656, 1657, 1658, 1659,\n",
      "       ...\n",
      "       2149, 2150, 2151, 2152, 2153, 2154, 2155, 2156, 2157, 2158],\n",
      "      dtype='int64', length=509) train_num 1650\n",
      "十五分钟训练array： (1630, 16, 5)\n",
      "十五分钟测试array： (489, 16, 5)\n",
      "训练标签array (1630,)\n"
     ]
    },
    {
     "name": "stderr",
     "output_type": "stream",
     "text": [
      "/var/folders/5p/hvm0cq8x33b_42v5fj9lmxbh0000gn/T/ipykernel_61175/3624395069.py:106: FutureWarning: Calling float on a single element Series is deprecated and will raise a TypeError in the future. Use float(ser.iloc[0]) instead\n",
      "  targets[j] = data.loc[data.index == j, 'target']\n",
      "/var/folders/5p/hvm0cq8x33b_42v5fj9lmxbh0000gn/T/ipykernel_61175/3624395069.py:116: FutureWarning: Calling float on a single element Series is deprecated and will raise a TypeError in the future. Use float(ser.iloc[0]) instead\n",
      "  targets[j] = data.loc[data.index == self.train_num+j, 'target'] ##出问题：应该是。而不是***：data.index == self.train_num+j\n"
     ]
    },
    {
     "name": "stdout",
     "output_type": "stream",
     "text": [
      "(489,)\n",
      "文本长期训练array： (1630, 10, 2)\n",
      "长期文本测试array： (489, 10, 2)\n"
     ]
    }
   ],
   "source": [
    "DM=origin_data_maker\n",
    "\n",
    "daily_train=DM.daily_train_data(daily_train_df)\n",
    "daily_test=DM.daily_test_data(daily_test_df)\n",
    "fif_train=DM.fif_train_data(fif_train_df)\n",
    "fif_test=DM.fif_test_data(fif_test_df)\n",
    "target_train=DM.target_train_data(target_train_df)\n",
    "target_test=DM.target_test_data(target_test_df)\n",
    "\n",
    "wenben_train=DM.wenben_train_data(wenben_norm_train_df)\n",
    "\n",
    "wenben_test=DM.wenben_test_data(wenben_norm_test_df)\n"
   ]
  },
  {
   "cell_type": "markdown",
   "id": "eb802e8a",
   "metadata": {},
   "source": [
    "# 构建神经网络模型"
   ]
  },
  {
   "cell_type": "code",
   "execution_count": 22,
   "id": "f40a1c29",
   "metadata": {},
   "outputs": [],
   "source": [
    "def my_model(wenben_back,wenben_sort):\n",
    "\n",
    "    ##### 一、模型搭建\n",
    "\n",
    "    # 文本输入训练(!!!卷积滤镜行列先后)\n",
    "    wenben_input=Input(shape=(wenben_back,wenben_sort),dtype='float32',name='wenben_input')\n",
    "    Conv1D_fif=layers.Conv1D(16,1,strides=1)(wenben_input)\n",
    "    LSTM_wenben=layers.LSTM(LSTM_num)(Conv1D_fif)\n",
    "\n",
    "    # 15分钟频输入训练(!!!卷积滤镜行列先后)\n",
    "    fif_min_input=Input(shape=(16,5),dtype='float32',name='fif_min_input')\n",
    "    # fif_min_input=(8,16,4,1)\n",
    "    Conv1D_fif=layers.Conv1D(16,1,strides=1)(fif_min_input)\n",
    "    LSTM_fif=layers.LSTM(LSTM_num)(Conv1D_fif)\n",
    "\n",
    "    # 日频输入训练\n",
    "    daily_input=Input(shape=(20,5),dtype='float32',name='daily_input')\n",
    "    # daily_input=(8,16,4,1)\n",
    "    Conv1D_daily=layers.Conv1D(16,1,strides=1)(daily_input)\n",
    "    LSTM_daily=layers.LSTM(LSTM_num)(Conv1D_daily)\n",
    "    # 15分钟频训练结果和日频训练结果合并\n",
    "    concatenated=layers.concatenate([LSTM_fif,LSTM_daily,LSTM_wenben],axis=-1) # axis=-1按照最后一个轴粘合\n",
    "\n",
    "    alloy=layers.Dense(dense_num,activation='relu')(concatenated) #将粘合结果再接一个全连接层\n",
    "    dropout=layers.Dropout(0.2)(alloy)\n",
    "    output=layers.Dense(1,activation='sigmoid')(dropout)\n",
    "    model=Model([fif_min_input,daily_input,wenben_input],output) #八股文：将输入和输出圈起来\n",
    "\n",
    "    print(model.summary())\n",
    "    model.compile(optimizer=keras.optimizers.Adam(lr=1e-3),loss='binary_crossentropy',metrics=['acc'])\n",
    "    return model\n",
    "    # reduce_lr = ReduceLROnPlateau(monitor='val_loss', patience=5, mode='auto')\n"
   ]
  },
  {
   "cell_type": "markdown",
   "id": "4a065f8c",
   "metadata": {},
   "source": [
    "# 模型滞后时长赋值"
   ]
  },
  {
   "cell_type": "code",
   "execution_count": 24,
   "id": "993a90eb",
   "metadata": {},
   "outputs": [
    {
     "name": "stderr",
     "output_type": "stream",
     "text": [
      "2025-02-27 17:30:51.507801: I tensorflow/core/common_runtime/executor.cc:1197] [/device:CPU:0] (DEBUG INFO) Executor start aborting (this does not indicate an error and you can ignore this message): INVALID_ARGUMENT: You must feed a value for placeholder tensor 'gradients/split_2_grad/concat/split_2/split_dim' with dtype int32\n",
      "\t [[{{node gradients/split_2_grad/concat/split_2/split_dim}}]]\n",
      "2025-02-27 17:30:51.508473: I tensorflow/core/common_runtime/executor.cc:1197] [/device:CPU:0] (DEBUG INFO) Executor start aborting (this does not indicate an error and you can ignore this message): INVALID_ARGUMENT: You must feed a value for placeholder tensor 'gradients/split_grad/concat/split/split_dim' with dtype int32\n",
      "\t [[{{node gradients/split_grad/concat/split/split_dim}}]]\n",
      "2025-02-27 17:30:51.509339: I tensorflow/core/common_runtime/executor.cc:1197] [/device:CPU:0] (DEBUG INFO) Executor start aborting (this does not indicate an error and you can ignore this message): INVALID_ARGUMENT: You must feed a value for placeholder tensor 'gradients/split_1_grad/concat/split_1/split_dim' with dtype int32\n",
      "\t [[{{node gradients/split_1_grad/concat/split_1/split_dim}}]]\n",
      "2025-02-27 17:30:51.623849: I tensorflow/core/common_runtime/executor.cc:1197] [/device:CPU:0] (DEBUG INFO) Executor start aborting (this does not indicate an error and you can ignore this message): INVALID_ARGUMENT: You must feed a value for placeholder tensor 'gradients/split_2_grad/concat/split_2/split_dim' with dtype int32\n",
      "\t [[{{node gradients/split_2_grad/concat/split_2/split_dim}}]]\n",
      "2025-02-27 17:30:51.624614: I tensorflow/core/common_runtime/executor.cc:1197] [/device:CPU:0] (DEBUG INFO) Executor start aborting (this does not indicate an error and you can ignore this message): INVALID_ARGUMENT: You must feed a value for placeholder tensor 'gradients/split_grad/concat/split/split_dim' with dtype int32\n",
      "\t [[{{node gradients/split_grad/concat/split/split_dim}}]]\n",
      "2025-02-27 17:30:51.625305: I tensorflow/core/common_runtime/executor.cc:1197] [/device:CPU:0] (DEBUG INFO) Executor start aborting (this does not indicate an error and you can ignore this message): INVALID_ARGUMENT: You must feed a value for placeholder tensor 'gradients/split_1_grad/concat/split_1/split_dim' with dtype int32\n",
      "\t [[{{node gradients/split_1_grad/concat/split_1/split_dim}}]]\n"
     ]
    },
    {
     "name": "stdout",
     "output_type": "stream",
     "text": [
      "Model: \"model\"\n",
      "__________________________________________________________________________________________________\n",
      " Layer (type)                   Output Shape         Param #     Connected to                     \n",
      "==================================================================================================\n",
      " fif_min_input (InputLayer)     [(None, 16, 5)]      0           []                               \n",
      "                                                                                                  \n",
      " daily_input (InputLayer)       [(None, 20, 5)]      0           []                               \n",
      "                                                                                                  \n",
      " wenben_input (InputLayer)      [(None, 10, 2)]      0           []                               \n",
      "                                                                                                  \n",
      " conv1d_1 (Conv1D)              (None, 16, 16)       96          ['fif_min_input[0][0]']          \n",
      "                                                                                                  \n",
      " conv1d_2 (Conv1D)              (None, 20, 16)       96          ['daily_input[0][0]']            \n",
      "                                                                                                  \n",
      " conv1d (Conv1D)                (None, 10, 16)       48          ['wenben_input[0][0]']           \n",
      "                                                                                                  \n",
      " lstm_1 (LSTM)                  (None, 100)          46800       ['conv1d_1[0][0]']               \n",
      "                                                                                                  \n",
      " lstm_2 (LSTM)                  (None, 100)          46800       ['conv1d_2[0][0]']               \n",
      "                                                                                                  \n",
      " lstm (LSTM)                    (None, 100)          46800       ['conv1d[0][0]']                 \n",
      "                                                                                                  \n",
      " concatenate (Concatenate)      (None, 300)          0           ['lstm_1[0][0]',                 \n",
      "                                                                  'lstm_2[0][0]',                 \n",
      "                                                                  'lstm[0][0]']                   \n",
      "                                                                                                  \n",
      " dense (Dense)                  (None, 20)           6020        ['concatenate[0][0]']            \n",
      "                                                                                                  \n",
      " dropout (Dropout)              (None, 20)           0           ['dense[0][0]']                  \n",
      "                                                                                                  \n",
      " dense_1 (Dense)                (None, 1)            21          ['dropout[0][0]']                \n",
      "                                                                                                  \n",
      "==================================================================================================\n",
      "Total params: 146,681\n",
      "Trainable params: 146,681\n",
      "Non-trainable params: 0\n",
      "__________________________________________________________________________________________________\n",
      "None\n"
     ]
    },
    {
     "name": "stderr",
     "output_type": "stream",
     "text": [
      "2025-02-27 17:30:51.739537: I tensorflow/core/common_runtime/executor.cc:1197] [/device:CPU:0] (DEBUG INFO) Executor start aborting (this does not indicate an error and you can ignore this message): INVALID_ARGUMENT: You must feed a value for placeholder tensor 'gradients/split_2_grad/concat/split_2/split_dim' with dtype int32\n",
      "\t [[{{node gradients/split_2_grad/concat/split_2/split_dim}}]]\n",
      "2025-02-27 17:30:51.740183: I tensorflow/core/common_runtime/executor.cc:1197] [/device:CPU:0] (DEBUG INFO) Executor start aborting (this does not indicate an error and you can ignore this message): INVALID_ARGUMENT: You must feed a value for placeholder tensor 'gradients/split_grad/concat/split/split_dim' with dtype int32\n",
      "\t [[{{node gradients/split_grad/concat/split/split_dim}}]]\n",
      "2025-02-27 17:30:51.740964: I tensorflow/core/common_runtime/executor.cc:1197] [/device:CPU:0] (DEBUG INFO) Executor start aborting (this does not indicate an error and you can ignore this message): INVALID_ARGUMENT: You must feed a value for placeholder tensor 'gradients/split_1_grad/concat/split_1/split_dim' with dtype int32\n",
      "\t [[{{node gradients/split_1_grad/concat/split_1/split_dim}}]]\n",
      "/opt/anaconda3/envs/tf_env/lib/python3.8/site-packages/keras/optimizers/legacy/adam.py:117: UserWarning: The `lr` argument is deprecated, use `learning_rate` instead.\n",
      "  super().__init__(name, **kwargs)\n"
     ]
    }
   ],
   "source": [
    "model=my_model(wenben_back=wenben_back,wenben_sort=wenben_sort)\n"
   ]
  },
  {
   "cell_type": "markdown",
   "id": "e025ba5e-a33c-4474-9138-18ad1474565b",
   "metadata": {},
   "source": [
    "# 添加输出模型参数的代码块"
   ]
  },
  {
   "cell_type": "code",
   "execution_count": 26,
   "id": "f42bfef1-b9f0-4103-9a4d-c90f8bb13126",
   "metadata": {},
   "outputs": [
    {
     "data": {
      "image/png": "[encoded data removed]",
      "text/plain": [
       "<IPython.core.display.Image object>"
      ]
     },
     "execution_count": 26,
     "metadata": {},
     "output_type": "execute_result"
    }
   ],
   "source": [
    "plot_model(model, to_file='model_structure.png', show_shapes=True, show_layer_names=True)"
   ]
  },
  {
   "cell_type": "markdown",
   "id": "8620eccf",
   "metadata": {},
   "source": [
    "# model.fit(输入自变量x，因变量y)"
   ]
  },
  {
   "cell_type": "code",
   "execution_count": 28,
   "id": "6ebf83ca",
   "metadata": {},
   "outputs": [
    {
     "name": "stdout",
     "output_type": "stream",
     "text": [
      "Epoch 1/20\n"
     ]
    },
    {
     "name": "stderr",
     "output_type": "stream",
     "text": [
      "2025-02-27 17:30:52.235631: I tensorflow/core/common_runtime/executor.cc:1197] [/device:CPU:0] (DEBUG INFO) Executor start aborting (this does not indicate an error and you can ignore this message): INVALID_ARGUMENT: You must feed a value for placeholder tensor 'gradients/split_2_grad/concat/split_2/split_dim' with dtype int32\n",
      "\t [[{{node gradients/split_2_grad/concat/split_2/split_dim}}]]\n",
      "2025-02-27 17:30:52.236372: I tensorflow/core/common_runtime/executor.cc:1197] [/device:CPU:0] (DEBUG INFO) Executor start aborting (this does not indicate an error and you can ignore this message): INVALID_ARGUMENT: You must feed a value for placeholder tensor 'gradients/split_grad/concat/split/split_dim' with dtype int32\n",
      "\t [[{{node gradients/split_grad/concat/split/split_dim}}]]\n",
      "2025-02-27 17:30:52.237424: I tensorflow/core/common_runtime/executor.cc:1197] [/device:CPU:0] (DEBUG INFO) Executor start aborting (this does not indicate an error and you can ignore this message): INVALID_ARGUMENT: You must feed a value for placeholder tensor 'gradients/split_1_grad/concat/split_1/split_dim' with dtype int32\n",
      "\t [[{{node gradients/split_1_grad/concat/split_1/split_dim}}]]\n",
      "2025-02-27 17:30:52.345099: I tensorflow/core/common_runtime/executor.cc:1197] [/device:CPU:0] (DEBUG INFO) Executor start aborting (this does not indicate an error and you can ignore this message): INVALID_ARGUMENT: You must feed a value for placeholder tensor 'gradients/split_2_grad/concat/split_2/split_dim' with dtype int32\n",
      "\t [[{{node gradients/split_2_grad/concat/split_2/split_dim}}]]\n",
      "2025-02-27 17:30:52.345833: I tensorflow/core/common_runtime/executor.cc:1197] [/device:CPU:0] (DEBUG INFO) Executor start aborting (this does not indicate an error and you can ignore this message): INVALID_ARGUMENT: You must feed a value for placeholder tensor 'gradients/split_grad/concat/split/split_dim' with dtype int32\n",
      "\t [[{{node gradients/split_grad/concat/split/split_dim}}]]\n",
      "2025-02-27 17:30:52.346501: I tensorflow/core/common_runtime/executor.cc:1197] [/device:CPU:0] (DEBUG INFO) Executor start aborting (this does not indicate an error and you can ignore this message): INVALID_ARGUMENT: You must feed a value for placeholder tensor 'gradients/split_1_grad/concat/split_1/split_dim' with dtype int32\n",
      "\t [[{{node gradients/split_1_grad/concat/split_1/split_dim}}]]\n",
      "2025-02-27 17:30:52.454139: I tensorflow/core/common_runtime/executor.cc:1197] [/device:CPU:0] (DEBUG INFO) Executor start aborting (this does not indicate an error and you can ignore this message): INVALID_ARGUMENT: You must feed a value for placeholder tensor 'gradients/split_2_grad/concat/split_2/split_dim' with dtype int32\n",
      "\t [[{{node gradients/split_2_grad/concat/split_2/split_dim}}]]\n",
      "2025-02-27 17:30:52.454870: I tensorflow/core/common_runtime/executor.cc:1197] [/device:CPU:0] (DEBUG INFO) Executor start aborting (this does not indicate an error and you can ignore this message): INVALID_ARGUMENT: You must feed a value for placeholder tensor 'gradients/split_grad/concat/split/split_dim' with dtype int32\n",
      "\t [[{{node gradients/split_grad/concat/split/split_dim}}]]\n",
      "2025-02-27 17:30:52.455742: I tensorflow/core/common_runtime/executor.cc:1197] [/device:CPU:0] (DEBUG INFO) Executor start aborting (this does not indicate an error and you can ignore this message): INVALID_ARGUMENT: You must feed a value for placeholder tensor 'gradients/split_1_grad/concat/split_1/split_dim' with dtype int32\n",
      "\t [[{{node gradients/split_1_grad/concat/split_1/split_dim}}]]\n",
      "2025-02-27 17:30:53.072832: I tensorflow/core/common_runtime/executor.cc:1197] [/device:CPU:0] (DEBUG INFO) Executor start aborting (this does not indicate an error and you can ignore this message): INVALID_ARGUMENT: You must feed a value for placeholder tensor 'gradients/split_2_grad/concat/split_2/split_dim' with dtype int32\n",
      "\t [[{{node gradients/split_2_grad/concat/split_2/split_dim}}]]\n",
      "2025-02-27 17:30:53.073575: I tensorflow/core/common_runtime/executor.cc:1197] [/device:CPU:0] (DEBUG INFO) Executor start aborting (this does not indicate an error and you can ignore this message): INVALID_ARGUMENT: You must feed a value for placeholder tensor 'gradients/split_grad/concat/split/split_dim' with dtype int32\n",
      "\t [[{{node gradients/split_grad/concat/split/split_dim}}]]\n",
      "2025-02-27 17:30:53.074565: I tensorflow/core/common_runtime/executor.cc:1197] [/device:CPU:0] (DEBUG INFO) Executor start aborting (this does not indicate an error and you can ignore this message): INVALID_ARGUMENT: You must feed a value for placeholder tensor 'gradients/split_1_grad/concat/split_1/split_dim' with dtype int32\n",
      "\t [[{{node gradients/split_1_grad/concat/split_1/split_dim}}]]\n",
      "2025-02-27 17:30:53.181456: I tensorflow/core/common_runtime/executor.cc:1197] [/device:CPU:0] (DEBUG INFO) Executor start aborting (this does not indicate an error and you can ignore this message): INVALID_ARGUMENT: You must feed a value for placeholder tensor 'gradients/split_2_grad/concat/split_2/split_dim' with dtype int32\n",
      "\t [[{{node gradients/split_2_grad/concat/split_2/split_dim}}]]\n",
      "2025-02-27 17:30:53.182252: I tensorflow/core/common_runtime/executor.cc:1197] [/device:CPU:0] (DEBUG INFO) Executor start aborting (this does not indicate an error and you can ignore this message): INVALID_ARGUMENT: You must feed a value for placeholder tensor 'gradients/split_grad/concat/split/split_dim' with dtype int32\n",
      "\t [[{{node gradients/split_grad/concat/split/split_dim}}]]\n",
      "2025-02-27 17:30:53.182951: I tensorflow/core/common_runtime/executor.cc:1197] [/device:CPU:0] (DEBUG INFO) Executor start aborting (this does not indicate an error and you can ignore this message): INVALID_ARGUMENT: You must feed a value for placeholder tensor 'gradients/split_1_grad/concat/split_1/split_dim' with dtype int32\n",
      "\t [[{{node gradients/split_1_grad/concat/split_1/split_dim}}]]\n",
      "2025-02-27 17:30:53.291023: I tensorflow/core/common_runtime/executor.cc:1197] [/device:CPU:0] (DEBUG INFO) Executor start aborting (this does not indicate an error and you can ignore this message): INVALID_ARGUMENT: You must feed a value for placeholder tensor 'gradients/split_2_grad/concat/split_2/split_dim' with dtype int32\n",
      "\t [[{{node gradients/split_2_grad/concat/split_2/split_dim}}]]\n",
      "2025-02-27 17:30:53.291777: I tensorflow/core/common_runtime/executor.cc:1197] [/device:CPU:0] (DEBUG INFO) Executor start aborting (this does not indicate an error and you can ignore this message): INVALID_ARGUMENT: You must feed a value for placeholder tensor 'gradients/split_grad/concat/split/split_dim' with dtype int32\n",
      "\t [[{{node gradients/split_grad/concat/split/split_dim}}]]\n",
      "2025-02-27 17:30:53.292583: I tensorflow/core/common_runtime/executor.cc:1197] [/device:CPU:0] (DEBUG INFO) Executor start aborting (this does not indicate an error and you can ignore this message): INVALID_ARGUMENT: You must feed a value for placeholder tensor 'gradients/split_1_grad/concat/split_1/split_dim' with dtype int32\n",
      "\t [[{{node gradients/split_1_grad/concat/split_1/split_dim}}]]\n"
     ]
    },
    {
     "name": "stdout",
     "output_type": "stream",
     "text": [
      "149/153 [============================>.] - ETA: 0s - loss: 0.7001 - acc: 0.5277"
     ]
    },
    {
     "name": "stderr",
     "output_type": "stream",
     "text": [
      "2025-02-27 17:30:55.501272: I tensorflow/core/common_runtime/executor.cc:1197] [/device:CPU:0] (DEBUG INFO) Executor start aborting (this does not indicate an error and you can ignore this message): INVALID_ARGUMENT: You must feed a value for placeholder tensor 'gradients/split_2_grad/concat/split_2/split_dim' with dtype int32\n",
      "\t [[{{node gradients/split_2_grad/concat/split_2/split_dim}}]]\n",
      "2025-02-27 17:30:55.502189: I tensorflow/core/common_runtime/executor.cc:1197] [/device:CPU:0] (DEBUG INFO) Executor start aborting (this does not indicate an error and you can ignore this message): INVALID_ARGUMENT: You must feed a value for placeholder tensor 'gradients/split_grad/concat/split/split_dim' with dtype int32\n",
      "\t [[{{node gradients/split_grad/concat/split/split_dim}}]]\n",
      "2025-02-27 17:30:55.502826: I tensorflow/core/common_runtime/executor.cc:1197] [/device:CPU:0] (DEBUG INFO) Executor start aborting (this does not indicate an error and you can ignore this message): INVALID_ARGUMENT: You must feed a value for placeholder tensor 'gradients/split_1_grad/concat/split_1/split_dim' with dtype int32\n",
      "\t [[{{node gradients/split_1_grad/concat/split_1/split_dim}}]]\n",
      "2025-02-27 17:30:55.604506: I tensorflow/core/common_runtime/executor.cc:1197] [/device:CPU:0] (DEBUG INFO) Executor start aborting (this does not indicate an error and you can ignore this message): INVALID_ARGUMENT: You must feed a value for placeholder tensor 'gradients/split_2_grad/concat/split_2/split_dim' with dtype int32\n",
      "\t [[{{node gradients/split_2_grad/concat/split_2/split_dim}}]]\n",
      "2025-02-27 17:30:55.605186: I tensorflow/core/common_runtime/executor.cc:1197] [/device:CPU:0] (DEBUG INFO) Executor start aborting (this does not indicate an error and you can ignore this message): INVALID_ARGUMENT: You must feed a value for placeholder tensor 'gradients/split_grad/concat/split/split_dim' with dtype int32\n",
      "\t [[{{node gradients/split_grad/concat/split/split_dim}}]]\n",
      "2025-02-27 17:30:55.605807: I tensorflow/core/common_runtime/executor.cc:1197] [/device:CPU:0] (DEBUG INFO) Executor start aborting (this does not indicate an error and you can ignore this message): INVALID_ARGUMENT: You must feed a value for placeholder tensor 'gradients/split_1_grad/concat/split_1/split_dim' with dtype int32\n",
      "\t [[{{node gradients/split_1_grad/concat/split_1/split_dim}}]]\n",
      "2025-02-27 17:30:55.709414: I tensorflow/core/common_runtime/executor.cc:1197] [/device:CPU:0] (DEBUG INFO) Executor start aborting (this does not indicate an error and you can ignore this message): INVALID_ARGUMENT: You must feed a value for placeholder tensor 'gradients/split_2_grad/concat/split_2/split_dim' with dtype int32\n",
      "\t [[{{node gradients/split_2_grad/concat/split_2/split_dim}}]]\n",
      "2025-02-27 17:30:55.710217: I tensorflow/core/common_runtime/executor.cc:1197] [/device:CPU:0] (DEBUG INFO) Executor start aborting (this does not indicate an error and you can ignore this message): INVALID_ARGUMENT: You must feed a value for placeholder tensor 'gradients/split_grad/concat/split/split_dim' with dtype int32\n",
      "\t [[{{node gradients/split_grad/concat/split/split_dim}}]]\n",
      "2025-02-27 17:30:55.710975: I tensorflow/core/common_runtime/executor.cc:1197] [/device:CPU:0] (DEBUG INFO) Executor start aborting (this does not indicate an error and you can ignore this message): INVALID_ARGUMENT: You must feed a value for placeholder tensor 'gradients/split_1_grad/concat/split_1/split_dim' with dtype int32\n",
      "\t [[{{node gradients/split_1_grad/concat/split_1/split_dim}}]]\n"
     ]
    },
    {
     "name": "stdout",
     "output_type": "stream",
     "text": [
      "153/153 [==============================] - 4s 11ms/step - loss: 0.7009 - acc: 0.5245 - val_loss: 0.7129 - val_acc: 0.4877\n",
      "Epoch 2/20\n",
      "153/153 [==============================] - 1s 7ms/step - loss: 0.6919 - acc: 0.5434 - val_loss: 0.7206 - val_acc: 0.4902\n",
      "Epoch 3/20\n",
      "153/153 [==============================] - 1s 7ms/step - loss: 0.6887 - acc: 0.5442 - val_loss: 0.7252 - val_acc: 0.4902\n",
      "Epoch 4/20\n",
      "153/153 [==============================] - 1s 7ms/step - loss: 0.6903 - acc: 0.5360 - val_loss: 0.7045 - val_acc: 0.5074\n",
      "Epoch 5/20\n",
      "153/153 [==============================] - 1s 7ms/step - loss: 0.6877 - acc: 0.5409 - val_loss: 0.7138 - val_acc: 0.4926\n",
      "Epoch 6/20\n",
      "153/153 [==============================] - 1s 7ms/step - loss: 0.6848 - acc: 0.5417 - val_loss: 0.7368 - val_acc: 0.4926\n",
      "Epoch 7/20\n",
      "153/153 [==============================] - 1s 7ms/step - loss: 0.6859 - acc: 0.5450 - val_loss: 0.7192 - val_acc: 0.4926\n",
      "Epoch 8/20\n",
      "153/153 [==============================] - 1s 7ms/step - loss: 0.6822 - acc: 0.5638 - val_loss: 0.7463 - val_acc: 0.5098\n",
      "Epoch 9/20\n",
      "153/153 [==============================] - 1s 7ms/step - loss: 0.6881 - acc: 0.5548 - val_loss: 0.7073 - val_acc: 0.5074\n",
      "Epoch 10/20\n",
      "153/153 [==============================] - 1s 7ms/step - loss: 0.6825 - acc: 0.5638 - val_loss: 0.7555 - val_acc: 0.5025\n",
      "Epoch 11/20\n",
      "153/153 [==============================] - 1s 7ms/step - loss: 0.6836 - acc: 0.5548 - val_loss: 0.7253 - val_acc: 0.5294\n",
      "Epoch 12/20\n",
      "153/153 [==============================] - 1s 7ms/step - loss: 0.6834 - acc: 0.5524 - val_loss: 0.6923 - val_acc: 0.5294\n",
      "Epoch 13/20\n",
      "153/153 [==============================] - 1s 7ms/step - loss: 0.6804 - acc: 0.5556 - val_loss: 0.8320 - val_acc: 0.5000\n",
      "Epoch 14/20\n",
      "153/153 [==============================] - 1s 7ms/step - loss: 0.6863 - acc: 0.5638 - val_loss: 0.7163 - val_acc: 0.5147\n",
      "Epoch 15/20\n",
      "153/153 [==============================] - 1s 7ms/step - loss: 0.6800 - acc: 0.5671 - val_loss: 0.7372 - val_acc: 0.5123\n",
      "Epoch 16/20\n",
      "153/153 [==============================] - 1s 7ms/step - loss: 0.6786 - acc: 0.5761 - val_loss: 0.7114 - val_acc: 0.5245\n",
      "Epoch 17/20\n",
      "153/153 [==============================] - 1s 7ms/step - loss: 0.6794 - acc: 0.5646 - val_loss: 0.7153 - val_acc: 0.5196\n",
      "Epoch 18/20\n",
      "153/153 [==============================] - 1s 7ms/step - loss: 0.6710 - acc: 0.5638 - val_loss: 0.7815 - val_acc: 0.5049\n",
      "Epoch 19/20\n",
      "153/153 [==============================] - 1s 7ms/step - loss: 0.6707 - acc: 0.5867 - val_loss: 0.7359 - val_acc: 0.5221\n",
      "Epoch 20/20\n",
      "153/153 [==============================] - 1s 7ms/step - loss: 0.6635 - acc: 0.5892 - val_loss: 0.8248 - val_acc: 0.5049\n"
     ]
    }
   ],
   "source": [
    "history=model.fit(x=[fif_train,daily_train,wenben_train],y=target_train,batch_size=batch_size,validation_split=0.25,epochs=epochs)\n"
   ]
  },
  {
   "cell_type": "markdown",
   "id": "0cd0ae96",
   "metadata": {},
   "source": [
    "# model.evaluate(输入测试数据)，进行模型预测性能测试"
   ]
  },
  {
   "cell_type": "code",
   "execution_count": 30,
   "id": "47bd90e9",
   "metadata": {},
   "outputs": [
    {
     "name": "stderr",
     "output_type": "stream",
     "text": [
      "2025-02-27 17:31:16.544059: I tensorflow/core/common_runtime/executor.cc:1197] [/device:CPU:0] (DEBUG INFO) Executor start aborting (this does not indicate an error and you can ignore this message): INVALID_ARGUMENT: You must feed a value for placeholder tensor 'gradients/split_2_grad/concat/split_2/split_dim' with dtype int32\n",
      "\t [[{{node gradients/split_2_grad/concat/split_2/split_dim}}]]\n",
      "2025-02-27 17:31:16.544734: I tensorflow/core/common_runtime/executor.cc:1197] [/device:CPU:0] (DEBUG INFO) Executor start aborting (this does not indicate an error and you can ignore this message): INVALID_ARGUMENT: You must feed a value for placeholder tensor 'gradients/split_grad/concat/split/split_dim' with dtype int32\n",
      "\t [[{{node gradients/split_grad/concat/split/split_dim}}]]\n",
      "2025-02-27 17:31:16.545448: I tensorflow/core/common_runtime/executor.cc:1197] [/device:CPU:0] (DEBUG INFO) Executor start aborting (this does not indicate an error and you can ignore this message): INVALID_ARGUMENT: You must feed a value for placeholder tensor 'gradients/split_1_grad/concat/split_1/split_dim' with dtype int32\n",
      "\t [[{{node gradients/split_1_grad/concat/split_1/split_dim}}]]\n",
      "2025-02-27 17:31:16.646384: I tensorflow/core/common_runtime/executor.cc:1197] [/device:CPU:0] (DEBUG INFO) Executor start aborting (this does not indicate an error and you can ignore this message): INVALID_ARGUMENT: You must feed a value for placeholder tensor 'gradients/split_2_grad/concat/split_2/split_dim' with dtype int32\n",
      "\t [[{{node gradients/split_2_grad/concat/split_2/split_dim}}]]\n",
      "2025-02-27 17:31:16.647134: I tensorflow/core/common_runtime/executor.cc:1197] [/device:CPU:0] (DEBUG INFO) Executor start aborting (this does not indicate an error and you can ignore this message): INVALID_ARGUMENT: You must feed a value for placeholder tensor 'gradients/split_grad/concat/split/split_dim' with dtype int32\n",
      "\t [[{{node gradients/split_grad/concat/split/split_dim}}]]\n",
      "2025-02-27 17:31:16.647789: I tensorflow/core/common_runtime/executor.cc:1197] [/device:CPU:0] (DEBUG INFO) Executor start aborting (this does not indicate an error and you can ignore this message): INVALID_ARGUMENT: You must feed a value for placeholder tensor 'gradients/split_1_grad/concat/split_1/split_dim' with dtype int32\n",
      "\t [[{{node gradients/split_1_grad/concat/split_1/split_dim}}]]\n",
      "2025-02-27 17:31:16.749820: I tensorflow/core/common_runtime/executor.cc:1197] [/device:CPU:0] (DEBUG INFO) Executor start aborting (this does not indicate an error and you can ignore this message): INVALID_ARGUMENT: You must feed a value for placeholder tensor 'gradients/split_2_grad/concat/split_2/split_dim' with dtype int32\n",
      "\t [[{{node gradients/split_2_grad/concat/split_2/split_dim}}]]\n",
      "2025-02-27 17:31:16.750585: I tensorflow/core/common_runtime/executor.cc:1197] [/device:CPU:0] (DEBUG INFO) Executor start aborting (this does not indicate an error and you can ignore this message): INVALID_ARGUMENT: You must feed a value for placeholder tensor 'gradients/split_grad/concat/split/split_dim' with dtype int32\n",
      "\t [[{{node gradients/split_grad/concat/split/split_dim}}]]\n",
      "2025-02-27 17:31:16.751334: I tensorflow/core/common_runtime/executor.cc:1197] [/device:CPU:0] (DEBUG INFO) Executor start aborting (this does not indicate an error and you can ignore this message): INVALID_ARGUMENT: You must feed a value for placeholder tensor 'gradients/split_1_grad/concat/split_1/split_dim' with dtype int32\n",
      "\t [[{{node gradients/split_1_grad/concat/split_1/split_dim}}]]\n"
     ]
    },
    {
     "name": "stdout",
     "output_type": "stream",
     "text": [
      "16/16 [==============================] - 1s 4ms/step - loss: 0.7341 - acc: 0.5378\n",
      "0.7340624332427979 0.5378323197364807\n"
     ]
    }
   ],
   "source": [
    "loss,accuracy = model.evaluate([fif_test,daily_test,wenben_test],y=target_test)\n",
    "print(loss,accuracy)"
   ]
  },
  {
   "cell_type": "markdown",
   "id": "d9607cca",
   "metadata": {},
   "source": [
    "# 构建y的函数"
   ]
  },
  {
   "cell_type": "code",
   "execution_count": 32,
   "id": "fc23d49f",
   "metadata": {},
   "outputs": [],
   "source": [
    "def gen_y_pred():\n",
    "    y_predict=model.predict([fif_test,daily_test,wenben_test],batch_size=1).reshape(test_num-daily_back).tolist() ###batch_size要设为1，不然evaluate和predict结果不同\n",
    "    y_pred=[]\n",
    "    for i,v in enumerate(y_predict):\n",
    "        if v>0.5:\n",
    "            y_pred.append(1)\n",
    "        if v<0.5:\n",
    "            y_pred.append(0)\n",
    "    return y_pred"
   ]
  },
  {
   "cell_type": "markdown",
   "id": "915e4535",
   "metadata": {},
   "source": [
    "# 制作y"
   ]
  },
  {
   "cell_type": "code",
   "execution_count": 34,
   "id": "191b4fa7",
   "metadata": {},
   "outputs": [
    {
     "name": "stderr",
     "output_type": "stream",
     "text": [
      "2025-02-27 17:31:17.227481: I tensorflow/core/common_runtime/executor.cc:1197] [/device:CPU:0] (DEBUG INFO) Executor start aborting (this does not indicate an error and you can ignore this message): INVALID_ARGUMENT: You must feed a value for placeholder tensor 'gradients/split_2_grad/concat/split_2/split_dim' with dtype int32\n",
      "\t [[{{node gradients/split_2_grad/concat/split_2/split_dim}}]]\n",
      "2025-02-27 17:31:17.228446: I tensorflow/core/common_runtime/executor.cc:1197] [/device:CPU:0] (DEBUG INFO) Executor start aborting (this does not indicate an error and you can ignore this message): INVALID_ARGUMENT: You must feed a value for placeholder tensor 'gradients/split_grad/concat/split/split_dim' with dtype int32\n",
      "\t [[{{node gradients/split_grad/concat/split/split_dim}}]]\n",
      "2025-02-27 17:31:17.229089: I tensorflow/core/common_runtime/executor.cc:1197] [/device:CPU:0] (DEBUG INFO) Executor start aborting (this does not indicate an error and you can ignore this message): INVALID_ARGUMENT: You must feed a value for placeholder tensor 'gradients/split_1_grad/concat/split_1/split_dim' with dtype int32\n",
      "\t [[{{node gradients/split_1_grad/concat/split_1/split_dim}}]]\n",
      "2025-02-27 17:31:17.330129: I tensorflow/core/common_runtime/executor.cc:1197] [/device:CPU:0] (DEBUG INFO) Executor start aborting (this does not indicate an error and you can ignore this message): INVALID_ARGUMENT: You must feed a value for placeholder tensor 'gradients/split_2_grad/concat/split_2/split_dim' with dtype int32\n",
      "\t [[{{node gradients/split_2_grad/concat/split_2/split_dim}}]]\n",
      "2025-02-27 17:31:17.330842: I tensorflow/core/common_runtime/executor.cc:1197] [/device:CPU:0] (DEBUG INFO) Executor start aborting (this does not indicate an error and you can ignore this message): INVALID_ARGUMENT: You must feed a value for placeholder tensor 'gradients/split_grad/concat/split/split_dim' with dtype int32\n",
      "\t [[{{node gradients/split_grad/concat/split/split_dim}}]]\n",
      "2025-02-27 17:31:17.331458: I tensorflow/core/common_runtime/executor.cc:1197] [/device:CPU:0] (DEBUG INFO) Executor start aborting (this does not indicate an error and you can ignore this message): INVALID_ARGUMENT: You must feed a value for placeholder tensor 'gradients/split_1_grad/concat/split_1/split_dim' with dtype int32\n",
      "\t [[{{node gradients/split_1_grad/concat/split_1/split_dim}}]]\n"
     ]
    },
    {
     "name": "stdout",
     "output_type": "stream",
     "text": [
      "  1/489 [..............................] - ETA: 4:16"
     ]
    },
    {
     "name": "stderr",
     "output_type": "stream",
     "text": [
      "2025-02-27 17:31:17.432172: I tensorflow/core/common_runtime/executor.cc:1197] [/device:CPU:0] (DEBUG INFO) Executor start aborting (this does not indicate an error and you can ignore this message): INVALID_ARGUMENT: You must feed a value for placeholder tensor 'gradients/split_2_grad/concat/split_2/split_dim' with dtype int32\n",
      "\t [[{{node gradients/split_2_grad/concat/split_2/split_dim}}]]\n",
      "2025-02-27 17:31:17.432831: I tensorflow/core/common_runtime/executor.cc:1197] [/device:CPU:0] (DEBUG INFO) Executor start aborting (this does not indicate an error and you can ignore this message): INVALID_ARGUMENT: You must feed a value for placeholder tensor 'gradients/split_grad/concat/split/split_dim' with dtype int32\n",
      "\t [[{{node gradients/split_grad/concat/split/split_dim}}]]\n",
      "2025-02-27 17:31:17.433569: I tensorflow/core/common_runtime/executor.cc:1197] [/device:CPU:0] (DEBUG INFO) Executor start aborting (this does not indicate an error and you can ignore this message): INVALID_ARGUMENT: You must feed a value for placeholder tensor 'gradients/split_1_grad/concat/split_1/split_dim' with dtype int32\n",
      "\t [[{{node gradients/split_1_grad/concat/split_1/split_dim}}]]\n"
     ]
    },
    {
     "name": "stdout",
     "output_type": "stream",
     "text": [
      "489/489 [==============================] - 1s 1ms/step\n",
      "[0, 0, 1, 1, 0, 0, 0, 0, 1, 1, 1, 0, 0, 0, 0, 0, 0, 1, 0, 0, 0, 1, 1, 1, 1, 0, 0, 0, 0, 0, 0, 0, 0, 0, 0, 0, 0, 0, 0, 0, 0, 0, 0, 1, 1, 1, 0, 0, 0, 0, 1, 0, 0, 0, 0, 0, 0, 0, 0, 0, 0, 0, 0, 0, 0, 0, 1, 1, 1, 0, 1, 0, 0, 1, 0, 0, 1, 1, 1, 1, 0, 0, 1, 1, 1, 1, 0, 0, 0, 1, 0, 0, 1, 1, 1, 1, 0, 0, 1, 1, 1, 1, 0, 0, 0, 0, 1, 1, 1, 1, 1, 1, 0, 1, 1, 1, 1, 1, 1, 1, 1, 1, 1, 1, 1, 0, 0, 1, 0, 1, 0, 1, 0, 1, 1, 1, 0, 0, 1, 1, 1, 0, 0, 0, 0, 0, 0, 0, 0, 0, 0, 0, 1, 0, 0, 0, 1, 0, 0, 1, 1, 1, 0, 0, 1, 0, 0, 0, 1, 0, 1, 1, 0, 0, 0, 0, 0, 0, 0, 1, 1, 0, 0, 0, 0, 1, 0, 1, 0, 0, 1, 0, 1, 1, 1, 0, 0, 0, 0, 1, 0, 0, 0, 0, 0, 0, 0, 0, 0, 0, 0, 0, 0, 0, 0, 0, 0, 0, 0, 0, 0, 0, 1, 1, 0, 0, 0, 0, 0, 0, 0, 0, 0, 0, 0, 0, 0, 1, 0, 0, 0, 0, 0, 0, 0, 0, 1, 1, 1, 1, 1, 0, 0, 0, 1, 1, 0, 1, 0, 0, 0, 0, 0, 0, 0, 0, 0, 0, 0, 0, 0, 0, 0, 1, 0, 0, 0, 1, 1, 1, 1, 1, 1, 1, 1, 1, 1, 1, 1, 1, 1, 1, 1, 1, 1, 1, 0, 0, 1, 1, 1, 1, 1, 1, 1, 1, 1, 1, 1, 1, 1, 1, 1, 1, 1, 1, 1, 1, 1, 1, 1, 1, 1, 1, 1, 1, 1, 1, 1, 1, 0, 0, 0, 1, 1, 1, 1, 1, 1, 0, 0, 0, 1, 1, 1, 1, 1, 0, 0, 1, 1, 1, 1, 1, 1, 1, 1, 0, 0, 0, 0, 1, 1, 1, 0, 1, 0, 0, 0, 0, 1, 1, 0, 0, 0, 0, 0, 0, 0, 0, 0, 0, 0, 0, 0, 0, 1, 1, 0, 0, 0, 0, 0, 0, 0, 0, 0, 0, 0, 0, 0, 1, 0, 0, 1, 1, 0, 1, 1, 0, 0, 1, 1, 0, 0, 0, 1, 1, 1, 0, 1, 0, 0, 0, 0, 0, 0, 0, 0, 0, 0, 0, 1, 1, 1, 0, 1, 1, 1, 0, 0, 1, 1, 1, 1, 1, 1, 1, 1, 0, 0, 1, 1, 1, 1, 1, 1, 1, 1, 1, 1, 1, 1, 1, 1, 1, 1, 1, 1, 0, 0, 0, 0, 0, 0, 1, 1, 1, 1, 1, 1, 1, 1, 1, 1, 1, 1, 1, 1]\n"
     ]
    }
   ],
   "source": [
    "y_pred=gen_y_pred()\n",
    "print(y_pred)"
   ]
  },
  {
   "cell_type": "markdown",
   "id": "0e0f800a",
   "metadata": {},
   "source": [
    "#  构建使用测试集作为回测数据的类"
   ]
  },
  {
   "cell_type": "code",
   "execution_count": 36,
   "id": "31c753f6",
   "metadata": {},
   "outputs": [],
   "source": [
    "class Back_tes_trader:\n",
    "    def __init__(self,train_num,daily_back,wenben_back):\n",
    "        self.train_num=train_num\n",
    "        self.daily_back=daily_back\n",
    "        self.wenben_back = wenben_back\n",
    "    def daily_test_data(self,data):\n",
    "        while True:\n",
    "            samples = data.loc[\n",
    "                data.index >=self.train_num+self.wenben_back ,\n",
    "                ['open','close']]\n",
    "            print(data.index)\n",
    "            return samples\n",
    "        \n"
   ]
  },
  {
   "cell_type": "markdown",
   "id": "3d8bb8f4",
   "metadata": {},
   "source": [
    "# 回测数据集代入参数，形成回撤数据back_tes_trader"
   ]
  },
  {
   "cell_type": "code",
   "execution_count": 38,
   "id": "9555c139",
   "metadata": {},
   "outputs": [],
   "source": [
    "back_tes_trader=Back_tes_trader(train_num=train_num,daily_back=20,wenben_back=daily_back)"
   ]
  },
  {
   "cell_type": "code",
   "execution_count": null,
   "id": "92271272",
   "metadata": {},
   "outputs": [],
   "source": []
  },
  {
   "cell_type": "code",
   "execution_count": null,
   "id": "7ff52054",
   "metadata": {},
   "outputs": [],
   "source": []
  },
  {
   "cell_type": "markdown",
   "id": "cc6e0ac1",
   "metadata": {},
   "source": [
    "# "
   ]
  },
  {
   "cell_type": "code",
   "execution_count": 40,
   "id": "9b72e4c5",
   "metadata": {},
   "outputs": [],
   "source": [
    "def split_back_trader(train_num=train_num):\n",
    "\n",
    "    daily_test_df=daily_df.loc[daily_df.index>=train_num]\n",
    "\n",
    "    return {'daily_test_df':daily_test_df}"
   ]
  },
  {
   "cell_type": "code",
   "execution_count": 41,
   "id": "0caaf456",
   "metadata": {},
   "outputs": [],
   "source": [
    "back_df=split_back_trader()['daily_test_df']"
   ]
  },
  {
   "cell_type": "code",
   "execution_count": 42,
   "id": "ff686572",
   "metadata": {},
   "outputs": [
    {
     "data": {
      "text/html": [
       "<div>\n",
       "<style scoped>\n",
       "    .dataframe tbody tr th:only-of-type {\n",
       "        vertical-align: middle;\n",
       "    }\n",
       "\n",
       "    .dataframe tbody tr th {\n",
       "        vertical-align: top;\n",
       "    }\n",
       "\n",
       "    .dataframe thead th {\n",
       "        text-align: right;\n",
       "    }\n",
       "</style>\n",
       "<table border=\"1\" class=\"dataframe\">\n",
       "  <thead>\n",
       "    <tr style=\"text-align: right;\">\n",
       "      <th></th>\n",
       "      <th>trade_time</th>\n",
       "      <th>open</th>\n",
       "      <th>high</th>\n",
       "      <th>low</th>\n",
       "      <th>close</th>\n",
       "      <th>volume_rate</th>\n",
       "      <th>search_index</th>\n",
       "      <th>sector_score</th>\n",
       "    </tr>\n",
       "  </thead>\n",
       "  <tbody>\n",
       "    <tr>\n",
       "      <th>1650</th>\n",
       "      <td>2022-11-03</td>\n",
       "      <td>2981.20</td>\n",
       "      <td>3003.72</td>\n",
       "      <td>2977.72</td>\n",
       "      <td>2997.81</td>\n",
       "      <td>259348567</td>\n",
       "      <td>261656</td>\n",
       "      <td>-0.804520</td>\n",
       "    </tr>\n",
       "    <tr>\n",
       "      <th>1651</th>\n",
       "      <td>2022-11-04</td>\n",
       "      <td>2997.00</td>\n",
       "      <td>3081.59</td>\n",
       "      <td>2997.00</td>\n",
       "      <td>3070.80</td>\n",
       "      <td>329806740</td>\n",
       "      <td>250605</td>\n",
       "      <td>-0.663122</td>\n",
       "    </tr>\n",
       "    <tr>\n",
       "      <th>1652</th>\n",
       "      <td>2022-11-07</td>\n",
       "      <td>3062.86</td>\n",
       "      <td>3088.19</td>\n",
       "      <td>3054.46</td>\n",
       "      <td>3077.82</td>\n",
       "      <td>320567097</td>\n",
       "      <td>255756</td>\n",
       "      <td>-0.706624</td>\n",
       "    </tr>\n",
       "    <tr>\n",
       "      <th>1653</th>\n",
       "      <td>2022-11-08</td>\n",
       "      <td>3077.31</td>\n",
       "      <td>3078.28</td>\n",
       "      <td>3047.46</td>\n",
       "      <td>3064.49</td>\n",
       "      <td>256522007</td>\n",
       "      <td>235956</td>\n",
       "      <td>-0.746056</td>\n",
       "    </tr>\n",
       "    <tr>\n",
       "      <th>1654</th>\n",
       "      <td>2022-11-09</td>\n",
       "      <td>3064.46</td>\n",
       "      <td>3073.92</td>\n",
       "      <td>3046.19</td>\n",
       "      <td>3048.17</td>\n",
       "      <td>235637324</td>\n",
       "      <td>229434</td>\n",
       "      <td>-0.947768</td>\n",
       "    </tr>\n",
       "    <tr>\n",
       "      <th>...</th>\n",
       "      <td>...</td>\n",
       "      <td>...</td>\n",
       "      <td>...</td>\n",
       "      <td>...</td>\n",
       "      <td>...</td>\n",
       "      <td>...</td>\n",
       "      <td>...</td>\n",
       "      <td>...</td>\n",
       "    </tr>\n",
       "    <tr>\n",
       "      <th>2154</th>\n",
       "      <td>2024-12-02</td>\n",
       "      <td>3328.48</td>\n",
       "      <td>3369.30</td>\n",
       "      <td>3323.01</td>\n",
       "      <td>3363.98</td>\n",
       "      <td>668477762</td>\n",
       "      <td>428407</td>\n",
       "      <td>-0.647137</td>\n",
       "    </tr>\n",
       "    <tr>\n",
       "      <th>2155</th>\n",
       "      <td>2024-12-03</td>\n",
       "      <td>3366.29</td>\n",
       "      <td>3386.62</td>\n",
       "      <td>3348.37</td>\n",
       "      <td>3378.81</td>\n",
       "      <td>663030139</td>\n",
       "      <td>438283</td>\n",
       "      <td>-0.861024</td>\n",
       "    </tr>\n",
       "    <tr>\n",
       "      <th>2156</th>\n",
       "      <td>2024-12-04</td>\n",
       "      <td>3376.57</td>\n",
       "      <td>3388.02</td>\n",
       "      <td>3352.94</td>\n",
       "      <td>3364.65</td>\n",
       "      <td>621028862</td>\n",
       "      <td>425902</td>\n",
       "      <td>-0.984183</td>\n",
       "    </tr>\n",
       "    <tr>\n",
       "      <th>2157</th>\n",
       "      <td>2024-12-05</td>\n",
       "      <td>3353.06</td>\n",
       "      <td>3377.06</td>\n",
       "      <td>3353.06</td>\n",
       "      <td>3368.86</td>\n",
       "      <td>543885746</td>\n",
       "      <td>397751</td>\n",
       "      <td>-0.812990</td>\n",
       "    </tr>\n",
       "    <tr>\n",
       "      <th>2158</th>\n",
       "      <td>2024-12-06</td>\n",
       "      <td>3370.94</td>\n",
       "      <td>3418.26</td>\n",
       "      <td>3364.21</td>\n",
       "      <td>3404.08</td>\n",
       "      <td>698186572</td>\n",
       "      <td>409646</td>\n",
       "      <td>-0.713002</td>\n",
       "    </tr>\n",
       "  </tbody>\n",
       "</table>\n",
       "<p>509 rows × 8 columns</p>\n",
       "</div>"
      ],
      "text/plain": [
       "     trade_time     open     high      low    close  volume_rate  \\\n",
       "1650 2022-11-03  2981.20  3003.72  2977.72  2997.81    259348567   \n",
       "1651 2022-11-04  2997.00  3081.59  2997.00  3070.80    329806740   \n",
       "1652 2022-11-07  3062.86  3088.19  3054.46  3077.82    320567097   \n",
       "1653 2022-11-08  3077.31  3078.28  3047.46  3064.49    256522007   \n",
       "1654 2022-11-09  3064.46  3073.92  3046.19  3048.17    235637324   \n",
       "...         ...      ...      ...      ...      ...          ...   \n",
       "2154 2024-12-02  3328.48  3369.30  3323.01  3363.98    668477762   \n",
       "2155 2024-12-03  3366.29  3386.62  3348.37  3378.81    663030139   \n",
       "2156 2024-12-04  3376.57  3388.02  3352.94  3364.65    621028862   \n",
       "2157 2024-12-05  3353.06  3377.06  3353.06  3368.86    543885746   \n",
       "2158 2024-12-06  3370.94  3418.26  3364.21  3404.08    698186572   \n",
       "\n",
       "      search_index  sector_score  \n",
       "1650        261656     -0.804520  \n",
       "1651        250605     -0.663122  \n",
       "1652        255756     -0.706624  \n",
       "1653        235956     -0.746056  \n",
       "1654        229434     -0.947768  \n",
       "...            ...           ...  \n",
       "2154        428407     -0.647137  \n",
       "2155        438283     -0.861024  \n",
       "2156        425902     -0.984183  \n",
       "2157        397751     -0.812990  \n",
       "2158        409646     -0.713002  \n",
       "\n",
       "[509 rows x 8 columns]"
      ]
     },
     "execution_count": 42,
     "metadata": {},
     "output_type": "execute_result"
    }
   ],
   "source": [
    "back_df"
   ]
  },
  {
   "cell_type": "code",
   "execution_count": 43,
   "id": "ecd75b7e",
   "metadata": {},
   "outputs": [
    {
     "name": "stdout",
     "output_type": "stream",
     "text": [
      "Index([1650, 1651, 1652, 1653, 1654, 1655, 1656, 1657, 1658, 1659,\n",
      "       ...\n",
      "       2149, 2150, 2151, 2152, 2153, 2154, 2155, 2156, 2157, 2158],\n",
      "      dtype='int64', length=509)\n"
     ]
    }
   ],
   "source": [
    "backtrader_df=back_tes_trader.daily_test_data(back_df)"
   ]
  },
  {
   "cell_type": "markdown",
   "id": "ba8c3651",
   "metadata": {},
   "source": [
    "# 形成day_rate_of_return日内收益率，和rate_of_return隔夜收益率"
   ]
  },
  {
   "cell_type": "code",
   "execution_count": 45,
   "id": "d84028e8",
   "metadata": {},
   "outputs": [
    {
     "name": "stdout",
     "output_type": "stream",
     "text": [
      "488\n",
      "         open    close  rate_of_return  day_rate_of_return\n",
      "1671  3160.58  3156.14       -0.002947           -0.001405\n",
      "1672  3181.92  3211.81        0.017639            0.009394\n",
      "1673  3200.28  3212.53        0.000224            0.003828\n",
      "1674  3204.94  3199.62       -0.004019           -0.001660\n",
      "1675  3196.02  3197.35       -0.000709            0.000416\n",
      "...       ...      ...             ...                 ...\n",
      "2154  3328.48  3363.98        0.011279            0.010666\n",
      "2155  3366.29  3378.81        0.004408            0.003719\n",
      "2156  3376.57  3364.65       -0.004191           -0.003530\n",
      "2157  3353.06  3368.86        0.001251            0.004712\n",
      "2158  3370.94  3404.08        0.010455            0.009831\n",
      "\n",
      "[488 rows x 4 columns]\n",
      "         open    close  rate_of_return  day_rate_of_return  last_close  \\\n",
      "1670  3187.99  3165.47             NaN           -0.007064         NaN   \n",
      "1671  3160.58  3156.14       -0.002947           -0.001405     3165.47   \n",
      "1672  3181.92  3211.81        0.017639            0.009394     3156.14   \n",
      "1673  3200.28  3212.53        0.000224            0.003828     3211.81   \n",
      "1674  3204.94  3199.62       -0.004019           -0.001660     3212.53   \n",
      "...       ...      ...             ...                 ...         ...   \n",
      "2154  3328.48  3363.98        0.011279            0.010666     3326.46   \n",
      "2155  3366.29  3378.81        0.004408            0.003719     3363.98   \n",
      "2156  3376.57  3364.65       -0.004191           -0.003530     3378.81   \n",
      "2157  3353.06  3368.86        0.001251            0.004712     3364.65   \n",
      "2158  3370.94  3404.08        0.010455            0.009831     3368.86   \n",
      "\n",
      "      sale_rate_of_return  \n",
      "1670                  NaN  \n",
      "1671            -0.001545  \n",
      "1672             0.008168  \n",
      "1673            -0.003590  \n",
      "1674            -0.002363  \n",
      "...                   ...  \n",
      "2154             0.000607  \n",
      "2155             0.000687  \n",
      "2156            -0.000663  \n",
      "2157            -0.003445  \n",
      "2158             0.000617  \n",
      "\n",
      "[489 rows x 6 columns]\n",
      "(489, 6)\n"
     ]
    }
   ],
   "source": [
    "backtrader_df['rate_of_return'] = backtrader_df['close'].rolling(2).apply(lambda x: x[1] / x[0] - 1, raw=True)\n",
    "backtrader_df['day_rate_of_return']=backtrader_df['close']/backtrader_df['open']-1\n",
    "\n",
    "clo_1=backtrader_df.loc[(backtrader_df.index<total_day-1),\"close\"].tolist()\n",
    "\n",
    "print(len(clo_1))\n",
    "print(backtrader_df.loc[(backtrader_df.index>=train_num+20+1),:])\n",
    "backtrader_df.loc[(backtrader_df.index>=train_num+20+1),'last_close']=clo_1\n",
    "backtrader_df['sale_rate_of_return']=backtrader_df['open']/backtrader_df['last_close']-1\n",
    "\n",
    "\n",
    "print(backtrader_df)\n",
    "print(backtrader_df.shape)\n",
    "trade_day_return_list=[]\n",
    "return_list=[]\n",
    "every_day_return_list=[]"
   ]
  },
  {
   "cell_type": "markdown",
   "id": "94506474",
   "metadata": {},
   "source": [
    "# 回测交易逻辑"
   ]
  },
  {
   "cell_type": "code",
   "execution_count": 47,
   "id": "4a2a5071",
   "metadata": {},
   "outputs": [],
   "source": [
    "def backtrader(list,df):\n",
    "    a=0\n",
    "\n",
    "    rate_of_return = 1\n",
    "    for i,v in enumerate(list):\n",
    "        if (v ==1)&(a==0):\n",
    "            b=(1 + df.loc[train_num+20 + i, 'day_rate_of_return'])\n",
    "            rate_of_return= rate_of_return * b\n",
    "            a=1\n",
    "            trade_day_return_list.append(b-1)\n",
    "            return_list.append(rate_of_return)\n",
    "            every_day_return_list.append(b - 1)\n",
    "\n",
    "        elif (v ==1)&(a==1):\n",
    "            b=(1 + df.loc[train_num+20 + i, 'rate_of_return'])\n",
    "            rate_of_return= rate_of_return *b\n",
    "            a=a\n",
    "            trade_day_return_list.append(b-1)\n",
    "            return_list.append(rate_of_return)\n",
    "            every_day_return_list.append(b - 1)\n",
    "        elif (v==0)&(a==0):\n",
    "            rate_of_return=rate_of_return\n",
    "            a=a\n",
    "            every_day_return_list.append(0)\n",
    "\n",
    "        elif (v==0)&(a==1):\n",
    "            a=0\n",
    "            b = (1 + df.loc[train_num+20 + i, 'sale_rate_of_return'])\n",
    "            rate_of_return=rate_of_return*b\n",
    "            trade_day_return_list.append(b-1)\n",
    "            every_day_return_list.append(b - 1)\n",
    "            return_list.append(rate_of_return)\n",
    "    return a,trade_day_return_list,rate_of_return,return_list,every_day_return_list"
   ]
  },
  {
   "cell_type": "code",
   "execution_count": null,
   "id": "80a6e92b",
   "metadata": {},
   "outputs": [],
   "source": []
  },
  {
   "cell_type": "code",
   "execution_count": 48,
   "id": "4eda96a9",
   "metadata": {},
   "outputs": [
    {
     "name": "stdout",
     "output_type": "stream",
     "text": [
      "[0.009393699401619049, 0.0002241726627665308, -0.002362623850983514, -0.0009781596759178557, 6.296574978059688e-05, -0.002480694342568812, -0.0039512095056254415, 0.005695164359293958, 0.003976434974360288, 0.0015367058731992067, 0.00882088267093084, 0.0022493109279289047, 0.010148806474746364, -4.754026660569455e-05, -0.005963401506996702, 0.011840562357098072, -0.0029690739302467017, -0.0011286024038005271, -0.006382657416795889, 0.002000607936675225, 0.012570784233547627, -0.00715574999235169, 0.005546465514850718, -0.00577327927778859, 0.001630069701657133, 0.0010398240297795347, 0.0007170413769646, -0.0021342723723493107, -0.0031945355660336627, -0.0018515101187180916, -0.0016392533385921615, 0.006540002345635676, 0.000662322729015008, 0.004664592166639503, 2.113169270900883e-05, 0.004534161678183102, -0.003693297071506896, 0.0005187973553399949, 0.0035413979803811113, -0.00032652816679901164, -0.006257095257050982, -0.0009198458219712435, -0.019533535489734244, -0.007830343565790154, 0.0003022522371245451, 0.009105622145855863, 0.011378991320437626, 0.008181700553972382, -0.0047635250085062975, 0.0019463187884238842, -0.009714143914588136, 0.01172853842486754, -0.005965433709684276, -0.0020540931452237565, 0.0039857135462497695, -0.004179151553382776, -0.0015044738300736826, -0.014735385259758593, -0.012780940411060149, -0.001089008503003308, 0.0035111174974853387, 0.0027859922178987695, 0.0008567570503965616, -0.006094516176055609, 2.1843872481719373e-05, 0.007938513962610472, 0.0007337302287566683, -0.011477397879001594, 0.0007573528951536623, -0.0009162663864705767, 0.0010944718320775593, -0.0015268688658119922, -0.0028195372623621706, 0.00045215376944485186, 0.0052298621134414525, -0.0006629334653091012, -0.0037447656293234655, -0.01310348232912395, -0.014784702460990062, 0.0008538002044042869, -0.0009543482492104793, 0.006184050930435614, 0.013091572300331755, -0.0008477240920103934, 0.0011987442918801605, 0.000959722899551041, 0.009389466056111795, -0.0010614200128731266, 0.021576429645060013, 0.0046124306685431105, -2.7346978462738925e-05, -0.0027621203603821476, -0.002430152089293758, -0.0034366560424319292, 0.003809130192060417, -2.4580895727766006e-05, 0.005924594345683598, -0.0007078966659640473, -0.0036144047251730482, -0.001482751204124222, 0.011282379319010216, -0.0021622389177187173, 0.009892114916368433, -0.0023040169213046635, 0.003476172016497525, -0.0018618907690749475, 0.00742721045258854, -0.0007763826930297091, -0.0046848558052373646, 0.001114288184382639, -0.0028178023700246024, -0.0023414396325542874, 0.015453390215121932, -0.0003894739866492358, -0.006355946194026352, 0.007107705497090944, 0.005388016365316162, 0.006634491465242975, -0.0004996962630559043, 0.0006673519944724315, -0.0009161549783928136, 0.0011293873326567727, 0.007368094936623715, 0.004011445992565532, -0.002031004448232676, -0.001968276021766746, 0.0005425139893542319, -9.207506504926855e-05, 0.00922884350730624, 0.00019871792675529854, 0.004779708691898588, -0.0016387819657761593, -0.0016531722224766288, -0.02681232081573859, 0.005311391192668546, 0.01796837220044889, 0.030254150462462492, 0.0014142616762613525, -0.009229542783706912, -0.018322373897119992, -0.014831144697282861, -0.006386831866023734, -0.014649516013772401, -0.010241195538706727, 0.032307128662307116, 0.014414821347271456, 0.012792875569848539, 0.015576258766879514, 0.004188226239804305, 0.00965877792337988, 0.012673841732859792, 0.0015225742547750887, 0.016538453759076477, -0.01911138525209921, 0.0193789407846916, 0.0039301266595250794, 0.004060098710943372, 0.0027901069650677623, -0.002578917838827466, -0.004121805436309356, 0.006150492171500321, 0.0073669903677586746, -0.004080222652405485, -0.003962774138235758, -0.001839787373144941, 0.005401171076580669, 0.009916062121886782, -0.007186548803376325, 0.005527693975368564, -0.0008377466563193048, -0.009450425886627367, -0.007125914115018617, 0.0017083510942368374, -0.012647287793421058, 0.005853384739771705, 0.010133990553566452, 0.011906601735516276, -0.000786383222091569, -0.0018406743502353828, -0.007249209917570831, 0.0004889975550121939, -0.0069574288019839114, 0.002285842640214364, -0.004871055450276107, -0.0019208669071061335, 0.004637209439122936, -0.0029145604413476356, -0.006740048152522271, -0.0074295473953884805, 0.007557958689336175, 0.0026536872458797767, 0.0006813194012249557, 0.002620901449636115, 0.002235156269899896, -0.006118675621239245, 0.008259602107093533, 7.291587410285238e-05, -0.004777226545783164, -0.006796657381615612, 0.0008013077342221564, 0.010130028183448658, 0.005427976271627166, -0.004156220929316001, 0.00018049569818590072, -0.013344773218005868, -0.008830730428476485, 0.0017061255410555365, -0.0025688583282711397, -0.0026953392013114863, 0.004128647486267623, -0.0016660196687369178, -0.006727611551292756, 0.0016826347501797123, 0.003863010433769354, -0.0055199612217778915, -0.00027189320565390585, -0.00591528790682494, 0.012633235812417709, -0.0034939868958594467, 0.0008236804673522613, -0.002292650033715482, -0.0026291443886644617, -0.009224557442904846, -0.005500216842090788, -0.003949768120473096, 0.000889344605340181, -0.00176665516772756, -0.00024135241299949595, 0.0034112378419983713, -0.0005962447044055574, 0.005462221372852349, -0.009334167337671562, -0.0035162872471796724, -0.00013302620616262306, 0.0033746137649088848, 0.00038537400547222767, 0.0023047029088199, -0.008159056042037816, -0.0017194503637300018, 0.000688228712754535, 0.0044097806198828415, 0.006896602484837588, 0.0002887405793816633, -0.0005188522403820617, -0.001761206581604946, 0.036128729314196306, 0.028850863893100653, 0.08063727316009883, 0.04594035666117202, -0.06617036030924583, 0.013216278084974498, -0.02549720920794807, 0.007362310192868371, 0.010658942246708047, -0.01048096286236122, 0.02908455281474609, 0.0020082414550093297, 0.005434333605661923, 0.005152364518377306, -0.006824512534818972, 0.005926359495893596, 0.006818801709246314, -0.010772981759075262, -0.006137396125255212, 0.0041576859018321866, -0.0023812282381350247, 0.011674780945045926, 0.023194903042405013, -0.0009388867401438628, 0.025666334693732695, -0.005290060103841809, -0.005772962952234839, 0.006355116575635922, 0.006569018024452866, 0.0007155603193598203, -0.030622478044149082, -0.0010498318126584971, -0.0012255803122778186, 0.015344687952487224, -0.004254059182181358, 0.00933337379009025, 0.011279257829644784, 0.004408468540241017, -0.004190824580251551, 0.0012512445573833464, 0.010454575138177269]\n",
      "1.381817730174231\n",
      "[1.009393699401619, 1.0096199778749937, 1.0072346256348368, 1.0062493893398525, 1.0063127485871186, 1.0038163942448437, 0.9998501053660008, 1.0055444160507176, 1.0095428980349743, 1.0110942685356312, 1.0200130124476348, 1.022307338863163, 1.032682538202998, 1.0326334441998128, 1.0264754363624964, 1.038629482774776, 1.0355457150542837, 1.034376995671028, 1.0277749216678453, 1.0298310963332498, 1.0427768808422528, 1.0353150301851413, 1.0410573692970697, 1.0350470543599177, 1.0367342532030193, 1.0378122743919953, 1.0385564287342561, 1.0363398664412828, 1.0330292418794376, 1.031116577785166, 1.0294263164925541, 1.0361587670170744, 1.036845038519338, 1.0416814977640343, 1.0417035102573458, 1.0464267623935835, 1.0425619974964888, 1.0431028759035679, 1.0467969183216226, 1.0464551096428722, 1.039907340339609, 1.0389507859173606, 1.0186564038685566, 1.0106799742507735, 1.0109854545340078, 1.0201911060779507, 1.0317998518191993, 1.0402417292384172, 1.0352865117462982, 1.0373015093355118, 1.0272250131910072, 1.039272861229203, 1.0330731478692663, 1.0309511193977132, 1.035060195239818, 1.0307345218170367, 1.0291838087032095, 1.014018388778862, 1.0010582801761603, 0.9999681191970465, 1.0034791247572867, 1.0062748097896843, 1.007136942827608, 1.000998930438042, 1.001020796131033, 1.0089674136979825, 1.009707723589243, 0.9981189063041084, 0.9988748345475054, 0.9979595991123181, 0.999051837783098, 0.9975264166366548, 0.9947138537347571, 0.9951636173532422, 1.0003681858523132, 0.9997050083042812, 0.9959613473497209, 0.9829107854342333, 0.9683787419258901, 0.9692055438936872, 0.9682805842797472, 0.9742684807278851, 0.9870231869832685, 0.9861864636482899, 0.9873686490423178, 0.9883162493451025, 0.9975960112210321, 0.9965371428499598, 1.018038856401351, 1.022734490044385, 1.0227065213463127, 1.0198816828410064, 1.0174032152386179, 1.0139067503313783, 1.0177688531459994, 1.0177438354759452, 1.0237735548489604, 1.0230488289627806, 1.0193511164412947, 1.017839672345966, 1.0293233256153103, 1.0270976826617493, 1.037257850968975, 1.0348679913285863, 1.0384653704808118, 1.0365318613935095, 1.0442304016688924, 1.0434196792575012, 1.0385314085158328, 1.0396886317934522, 1.036758994702697, 1.034331486103093, 1.0503154141696311, 1.0499063436380354, 1.043233195409105, 1.050648189726862, 1.0563090993673, 1.063317173071711, 1.0627858374538839, 1.0634950897022057, 1.0625207633812788, 1.0637207608721264, 1.0715583564242899, 1.0758568548989682, 1.073671784841007, 1.0715585024116567, 1.0721398378896265, 1.072041120544311, 1.0819348202792116, 1.082149820123582, 1.087322181024763, 1.0855402970435113, 1.08374571197806, 1.0546879742658233, 1.0602898346833523, 1.0793415170732952, 1.1119960777312132, 1.1135687311681015, 1.1032910009211874, 1.0830760906849817, 1.0670128324658652, 1.060198000906016, 1.0446666133139737, 1.0339679782542668, 1.067372514760433, 1.0827584988716925, 1.096610093619954, 1.1136911762045505, 1.1183555668117688, 1.1291575148709794, 1.1434682785059234, 1.1452092938679286, 1.164149284819028, 1.1419007793458957, 1.1640296069308331, 1.1686043907215085, 1.1733490399018796, 1.1766228092305653, 1.1735883956782693, 1.168751092648973, 1.175939487094743, 1.1846026219692372, 1.1797691795169793, 1.1750940207233018, 1.172932097581717, 1.1792673045019684, 1.19096099235172, 1.1824020930572667, 1.1889380499835225, 1.187942021107578, 1.1767154630794905, 1.1683302897517718, 1.1703262080806993, 1.1555247557149195, 1.1622884866864496, 1.1740671072310491, 1.1880462566876189, 1.187111997044291, 1.1849269104404747, 1.1763371265297131, 1.1769123525084562, 1.1687240686097031, 1.171395587920376, 1.165689655057407, 1.1634505203750511, 1.1688456841100867, 1.1654390127171395, 1.1575838976525978, 1.1489835732208493, 1.1576675436019783, 1.1607396311974039, 1.1615304656279093, 1.16457472250907, 1.167177729001853, 1.160036147085756, 1.1696175840905303, 1.1697028677790404, 1.1641149321884077, 1.1562028418415005, 1.1571293161209977, 1.168851068705198, 1.175195564571196, 1.1703111921696858, 1.1705224283054112, 1.154902071953086, 1.1447034430843794, 1.14665645086556, 1.143710852892088, 1.1406281641953226, 1.1453374157981937, 1.1434292611361336, 1.135736713230828, 1.137647743291565, 1.1420424883938545, 1.1357384581442977, 1.1354296585741284, 1.1287132652457144, 1.1429725660901675, 1.1389790349219215, 1.1399171897057105, 1.137303758522299, 1.1343136227273731, 1.1238500815562549, 1.117668662409694, 1.1132541303576564, 1.1142441969128627, 1.112275711644276, 1.11200726121735, 1.1158005824673916, 1.1151352922789228, 1.1212264081060308, 1.1107606931893528, 1.1068549395292226, 1.1067076988158446, 1.1104424098499992, 1.1108703454893294, 1.1134305716059003, 1.1043460291732496, 1.102447160991704, 1.1032058967821932, 1.1080707927655638, 1.1157127165483267, 1.1160348680845265, 1.1154558108928763, 1.1134912627772422, 1.153720287203844, 1.187006114180671, 1.282723050452565, 1.3416518048878625, 1.2528742215488826, 1.2694325556663686, 1.237065568219163, 1.2461732286613094, 1.259456117135004, 1.2462558043445384, 1.282502597106681, 1.2850781719883477, 1.2920617154842866, 1.2987188884227017, 1.2898557650894549, 1.2974999140512258, 1.3063473086829052, 1.292274052955447, 1.2843428551900704, 1.2896827493722132, 1.2866117203911724, 1.301632630388068, 1.33182387304675, 1.3305734412721393, 1.3647243845504218, 1.3575049105309716, 1.3496680849749993, 1.3582453829934307, 1.3671677213959443, 1.3681460123672848, 1.3262499911423775, 1.3248576517101383, 1.3232339322556317, 1.343538544034237, 1.3378230515543734, 1.3503094541595295, 1.3655399426428019, 1.3715598825203852, 1.365811915651432, 1.3675208803773, 1.381817730174231]\n",
      "夏普比率： 1.296571512391604\n",
      "收益率： 0.38181773017423093\n"
     ]
    }
   ],
   "source": [
    "result=backtrader(y_pred,backtrader_df)\n",
    "print(result[1])\n",
    "print(result[2])\n",
    "print(result[3])\n",
    "pingjun_nian_jiaoyi_ri=240*len(result[1])/(len(y_pred))\n",
    "sharp=(np.mean(result[1]))/(np.std(result[1],ddof=1))*np.sqrt(pingjun_nian_jiaoyi_ri)\n",
    "# sharp1=(np.mean(result[4]))/(np.std(result[4]))\n",
    "# print('夏普比率--：',sharp1)\n",
    "print('夏普比率：',sharp)\n",
    "print('收益率：',result[2]-1)\n"
   ]
  },
  {
   "cell_type": "code",
   "execution_count": null,
   "id": "3f2ded5b",
   "metadata": {},
   "outputs": [],
   "source": []
  },
  {
   "cell_type": "code",
   "execution_count": 49,
   "id": "e894d8b3",
   "metadata": {},
   "outputs": [
    {
     "data": {
      "text/plain": [
       "[0.009393699401619049,\n",
       " 0.00961997787499369,\n",
       " 0.007234625634836789,\n",
       " 0.006249389339852529,\n",
       " 0.006312748587118611,\n",
       " 0.0038163942448437016,\n",
       " -0.00014989463399917025,\n",
       " 0.005544416050717649,\n",
       " 0.009542898034974323,\n",
       " 0.011094268535631224,\n",
       " 0.02001301244763476,\n",
       " 0.02230733886316294,\n",
       " 0.032682538202998046,\n",
       " 0.032633444199812844,\n",
       " 0.026475436362496385,\n",
       " 0.03862948277477596,\n",
       " 0.03554571505428372,\n",
       " 0.03437699567102803,\n",
       " 0.027774921667845343,\n",
       " 0.029831096333249763,\n",
       " 0.04277688084225284,\n",
       " 0.03531503018514126,\n",
       " 0.04105736929706971,\n",
       " 0.03504705435991773,\n",
       " 0.03673425320301926,\n",
       " 0.037812274391995304,\n",
       " 0.03855642873425613,\n",
       " 0.03633986644128284,\n",
       " 0.033029241879437565,\n",
       " 0.031116577785166077,\n",
       " 0.029426316492554117,\n",
       " 0.036158767017074434,\n",
       " 0.03684503851933796,\n",
       " 0.04168149776403429,\n",
       " 0.041703510257345755,\n",
       " 0.046426762393583454,\n",
       " 0.04256199749648881,\n",
       " 0.04310287590356787,\n",
       " 0.04679691832162258,\n",
       " 0.04645510964287225,\n",
       " 0.039907340339609076,\n",
       " 0.038950785917360564,\n",
       " 0.018656403868556604,\n",
       " 0.010679974250773494,\n",
       " 0.010985454534007788,\n",
       " 0.020191106077950716,\n",
       " 0.03179985181919931,\n",
       " 0.04024172923841718,\n",
       " 0.035286511746298155,\n",
       " 0.037301509335511795,\n",
       " 0.02722501319100723,\n",
       " 0.03927286122920304,\n",
       " 0.033073147869266295,\n",
       " 0.030951119397713223,\n",
       " 0.03506019523981796,\n",
       " 0.03073452181703673,\n",
       " 0.02918380870320947,\n",
       " 0.014018388778862079,\n",
       " 0.0010582801761602756,\n",
       " -3.1880802953465626e-05,\n",
       " 0.0034791247572867334,\n",
       " 0.00627480978968431,\n",
       " 0.007136942827608017,\n",
       " 0.0009989304380420005,\n",
       " 0.0010207961310328972,\n",
       " 0.008967413697982485,\n",
       " 0.0097077235892431,\n",
       " -0.0018810936958916225,\n",
       " -0.0011251654524946364,\n",
       " -0.0020404008876818702,\n",
       " -0.000948162216901971,\n",
       " -0.002473583363345244,\n",
       " -0.00528614626524293,\n",
       " -0.004836382646757786,\n",
       " 0.00036818585231324086,\n",
       " -0.0002949916957187826,\n",
       " -0.00403865265027914,\n",
       " -0.01708921456576673,\n",
       " -0.03162125807410987,\n",
       " -0.030794456106312817,\n",
       " -0.03171941572025283,\n",
       " -0.025731519272114922,\n",
       " -0.012976813016731481,\n",
       " -0.01381353635171012,\n",
       " -0.012631350957682197,\n",
       " -0.011683750654897462,\n",
       " -0.0024039887789678582,\n",
       " -0.003462857150040244,\n",
       " 0.018038856401350944,\n",
       " 0.022734490044385103,\n",
       " 0.02270652134631268,\n",
       " 0.019881682841006443,\n",
       " 0.017403215238617875,\n",
       " 0.013906750331378337,\n",
       " 0.017768853145999408,\n",
       " 0.017743835475945158,\n",
       " 0.023773554848960377,\n",
       " 0.0230488289627806,\n",
       " 0.019351116441294725,\n",
       " 0.01783967234596595,\n",
       " 0.02932332561531026,\n",
       " 0.02709768266174928,\n",
       " 0.03725785096897494,\n",
       " 0.03486799132858631,\n",
       " 0.03846537048081178,\n",
       " 0.0365318613935095,\n",
       " 0.04423040166889236,\n",
       " 0.04341967925750123,\n",
       " 0.03853140851583281,\n",
       " 0.03968863179345217,\n",
       " 0.036758994702696945,\n",
       " 0.034331486103093,\n",
       " 0.050315414169631145,\n",
       " 0.049906343638035366,\n",
       " 0.043233195409104974,\n",
       " 0.050648189726862025,\n",
       " 0.05630909936730011,\n",
       " 0.06331717307171103,\n",
       " 0.06278583745388389,\n",
       " 0.06349508970220574,\n",
       " 0.06252076338127877,\n",
       " 0.06372076087212641,\n",
       " 0.07155835642428987,\n",
       " 0.0758568548989682,\n",
       " 0.0736717848410069,\n",
       " 0.07155850241165673,\n",
       " 0.07213983788962652,\n",
       " 0.072041120544311,\n",
       " 0.08193482027921162,\n",
       " 0.08214982012358196,\n",
       " 0.08732218102476308,\n",
       " 0.08554029704351129,\n",
       " 0.08374571197806002,\n",
       " 0.05468797426582328,\n",
       " 0.06028983468335225,\n",
       " 0.07934151707329518,\n",
       " 0.11199607773121323,\n",
       " 0.11356873116810151,\n",
       " 0.10329100092118737,\n",
       " 0.08307609068498167,\n",
       " 0.0670128324658652,\n",
       " 0.0601980009060159,\n",
       " 0.0446666133139737,\n",
       " 0.033967978254266784,\n",
       " 0.06737251476043293,\n",
       " 0.08275849887169251,\n",
       " 0.0966100936199541,\n",
       " 0.11369117620455049,\n",
       " 0.11835556681176884,\n",
       " 0.12915751487097937,\n",
       " 0.14346827850592336,\n",
       " 0.14520929386792858,\n",
       " 0.16414928481902802,\n",
       " 0.14190077934589573,\n",
       " 0.16402960693083313,\n",
       " 0.16860439072150846,\n",
       " 0.17334903990187955,\n",
       " 0.17662280923056528,\n",
       " 0.17358839567826934,\n",
       " 0.16875109264897303,\n",
       " 0.17593948709474305,\n",
       " 0.18460262196923716,\n",
       " 0.17976917951697935,\n",
       " 0.17509402072330182,\n",
       " 0.17293209758171701,\n",
       " 0.17926730450196837,\n",
       " 0.19096099235171993,\n",
       " 0.18240209305726673,\n",
       " 0.18893804998352248,\n",
       " 0.18794202110757796,\n",
       " 0.1767154630794905,\n",
       " 0.16833028975177178,\n",
       " 0.17032620808069932,\n",
       " 0.15552475571491953,\n",
       " 0.16228848668644957,\n",
       " 0.17406710723104912,\n",
       " 0.18804625668761887,\n",
       " 0.18711199704429093,\n",
       " 0.1849269104404747,\n",
       " 0.17633712652971312,\n",
       " 0.17691235250845616,\n",
       " 0.16872406860970313,\n",
       " 0.1713955879203759,\n",
       " 0.16568965505740696,\n",
       " 0.16345052037505114,\n",
       " 0.1688456841100867,\n",
       " 0.16543901271713946,\n",
       " 0.15758389765259784,\n",
       " 0.14898357322084932,\n",
       " 0.15766754360197832,\n",
       " 0.16073963119740386,\n",
       " 0.1615304656279093,\n",
       " 0.1645747225090699,\n",
       " 0.16717772900185301,\n",
       " 0.1600361470857561,\n",
       " 0.1696175840905303,\n",
       " 0.16970286777904042,\n",
       " 0.16411493218840767,\n",
       " 0.15620284184150046,\n",
       " 0.15712931612099768,\n",
       " 0.16885106870519806,\n",
       " 0.175195564571196,\n",
       " 0.17031119216968582,\n",
       " 0.1705224283054112,\n",
       " 0.15490207195308603,\n",
       " 0.14470344308437944,\n",
       " 0.1466564508655599,\n",
       " 0.14371085289208807,\n",
       " 0.14062816419532265,\n",
       " 0.1453374157981937,\n",
       " 0.14342926113613363,\n",
       " 0.13573671323082803,\n",
       " 0.13764774329156504,\n",
       " 0.14204248839385447,\n",
       " 0.13573845814429775,\n",
       " 0.13542965857412836,\n",
       " 0.12871326524571436,\n",
       " 0.1429725660901675,\n",
       " 0.13897903492192154,\n",
       " 0.13991718970571054,\n",
       " 0.13730375852229892,\n",
       " 0.13431362272737313,\n",
       " 0.12385008155625488,\n",
       " 0.11766866240969409,\n",
       " 0.11325413035765641,\n",
       " 0.1142441969128627,\n",
       " 0.11227571164427608,\n",
       " 0.11200726121734994,\n",
       " 0.11580058246739156,\n",
       " 0.11513529227892283,\n",
       " 0.1212264081060308,\n",
       " 0.11076069318935278,\n",
       " 0.10685493952922265,\n",
       " 0.10670769881584463,\n",
       " 0.1104424098499992,\n",
       " 0.11087034548932939,\n",
       " 0.11343057160590031,\n",
       " 0.10434602917324964,\n",
       " 0.10244716099170392,\n",
       " 0.10320589678219316,\n",
       " 0.10807079276556375,\n",
       " 0.11571271654832671,\n",
       " 0.11603486808452645,\n",
       " 0.11545581089287626,\n",
       " 0.1134912627772422,\n",
       " 0.1537202872038439,\n",
       " 0.18700611418067092,\n",
       " 0.2827230504525651,\n",
       " 0.3416518048878625,\n",
       " 0.2528742215488826,\n",
       " 0.2694325556663686,\n",
       " 0.23706556821916291,\n",
       " 0.24617322866130942,\n",
       " 0.25945611713500405,\n",
       " 0.24625580434453842,\n",
       " 0.282502597106681,\n",
       " 0.28507817198834773,\n",
       " 0.2920617154842866,\n",
       " 0.29871888842270167,\n",
       " 0.2898557650894549,\n",
       " 0.2974999140512258,\n",
       " 0.30634730868290516,\n",
       " 0.29227405295544706,\n",
       " 0.2843428551900704,\n",
       " 0.28968274937221317,\n",
       " 0.28661172039117244,\n",
       " 0.3016326303880681,\n",
       " 0.33182387304675,\n",
       " 0.3305734412721393,\n",
       " 0.3647243845504218,\n",
       " 0.35750491053097155,\n",
       " 0.34966808497499935,\n",
       " 0.35824538299343067,\n",
       " 0.36716772139594434,\n",
       " 0.36814601236728484,\n",
       " 0.3262499911423775,\n",
       " 0.32485765171013825,\n",
       " 0.3232339322556317,\n",
       " 0.3435385440342369,\n",
       " 0.3378230515543734,\n",
       " 0.3503094541595295,\n",
       " 0.3655399426428019,\n",
       " 0.3715598825203852,\n",
       " 0.3658119156514319,\n",
       " 0.3675208803773,\n",
       " 0.38181773017423093]"
      ]
     },
     "execution_count": 49,
     "metadata": {},
     "output_type": "execute_result"
    }
   ],
   "source": [
    "returns=result[3]\n",
    "returns = [ret - 1 for ret in returns]\n",
    "returns"
   ]
  },
  {
   "cell_type": "code",
   "execution_count": 50,
   "id": "c359f589",
   "metadata": {},
   "outputs": [
    {
     "name": "stdout",
     "output_type": "stream",
     "text": [
      "最大回撤: -105.65%\n"
     ]
    }
   ],
   "source": [
    "returns=result[3]\n",
    "returns = [ret - 1 for ret in returns]\n",
    "\n",
    "# 将收益率列表转换为pandas的Series对象，方便处理\n",
    "returns_series = pd.Series(returns)\n",
    "\n",
    "# 计算累计收益率\n",
    "cumulative_returns = (1 + returns_series).cumprod() - 1\n",
    "\n",
    "# 计算滚动最大值\n",
    "rolling_max = cumulative_returns.cummax()\n",
    "\n",
    "# 计算回撤\n",
    "drawdown = cumulative_returns - rolling_max\n",
    "\n",
    "# 计算最大回撤\n",
    "max_drawdown = drawdown.min()\n",
    "\n",
    "# 打印最大回撤\n",
    "print(\"最大回撤: {:.2%}\".format(max_drawdown))\n"
   ]
  },
  {
   "cell_type": "code",
   "execution_count": null,
   "id": "d346e244",
   "metadata": {},
   "outputs": [],
   "source": []
  },
  {
   "cell_type": "code",
   "execution_count": 51,
   "id": "eb03bdd8",
   "metadata": {},
   "outputs": [
    {
     "data": {
      "image/png": "[encoded data removed]",
      "text/plain": [
       "<Figure size 640x480 with 1 Axes>"
      ]
     },
     "metadata": {},
     "output_type": "display_data"
    },
    {
     "data": {
      "image/png": "[encoded data removed]",
      "text/plain": [
       "<Figure size 640x480 with 1 Axes>"
      ]
     },
     "metadata": {},
     "output_type": "display_data"
    }
   ],
   "source": [
    "def paint():\n",
    "    acc=history.history['acc']\n",
    "    val_acc=history.history['val_acc']\n",
    "    loss=history.history['loss']\n",
    "    val_loss=history.history['val_loss']\n",
    "\n",
    "    epochs=range(len(acc))\n",
    "    plt.plot(epochs,acc,'bo',label='Training acc')\n",
    "    plt.plot(epochs,val_acc,'b',label='Validation acc')\n",
    "    plt.title('Training and validation accuracy')\n",
    "    plt.legend()\n",
    "\n",
    "    plt.figure()\n",
    "\n",
    "    plt.plot(epochs,loss,'bo',label='Training loss')\n",
    "    plt.plot(epochs,val_loss,'b',label='Validation loss')\n",
    "    plt.title('Training and validation loss')\n",
    "    plt.legend()\n",
    "    return plt\n",
    "my_paint=paint()\n",
    "my_paint.show()"
   ]
  },
  {
   "cell_type": "markdown",
   "id": "ff449cf1",
   "metadata": {},
   "source": [
    "# 混淆矩阵绘制"
   ]
  },
  {
   "cell_type": "code",
   "execution_count": 53,
   "id": "6a2eaf54",
   "metadata": {},
   "outputs": [
    {
     "name": "stdout",
     "output_type": "stream",
     "text": [
      "混淆矩阵： [[120 118]\n",
      " [108 143]]\n",
      "查准率： 0.5263157894736842\n",
      "查全率： 0.5042016806722689\n",
      "f1-score: 0.5150214592274679\n"
     ]
    }
   ],
   "source": [
    "confusion_matrix = confusion_matrix(target_test, y_pred,labels=[1,0])\n",
    "precision_score=precision_score(target_test, y_pred)\n",
    "recall_score=recall_score(target_test, y_pred)\n",
    "f1_score=f1_score(target_test, y_pred)\n",
    "\n",
    "print('混淆矩阵：',confusion_matrix)\n",
    "print('查准率：',precision_score)\n",
    "print('查全率：',recall_score)\n",
    "print('f1-score:',f1_score)"
   ]
  },
  {
   "cell_type": "code",
   "execution_count": null,
   "id": "f48b8b1a",
   "metadata": {},
   "outputs": [],
   "source": []
  },
  {
   "cell_type": "code",
   "execution_count": 54,
   "id": "52941452",
   "metadata": {},
   "outputs": [
    {
     "name": "stderr",
     "output_type": "stream",
     "text": [
      "2025-02-27 17:31:18.832361: I tensorflow/core/common_runtime/executor.cc:1197] [/device:CPU:0] (DEBUG INFO) Executor start aborting (this does not indicate an error and you can ignore this message): INVALID_ARGUMENT: You must feed a value for placeholder tensor 'gradients/split_2_grad/concat/split_2/split_dim' with dtype int32\n",
      "\t [[{{node gradients/split_2_grad/concat/split_2/split_dim}}]]\n",
      "2025-02-27 17:31:18.833032: I tensorflow/core/common_runtime/executor.cc:1197] [/device:CPU:0] (DEBUG INFO) Executor start aborting (this does not indicate an error and you can ignore this message): INVALID_ARGUMENT: You must feed a value for placeholder tensor 'gradients/split_grad/concat/split/split_dim' with dtype int32\n",
      "\t [[{{node gradients/split_grad/concat/split/split_dim}}]]\n",
      "2025-02-27 17:31:18.833751: I tensorflow/core/common_runtime/executor.cc:1197] [/device:CPU:0] (DEBUG INFO) Executor start aborting (this does not indicate an error and you can ignore this message): INVALID_ARGUMENT: You must feed a value for placeholder tensor 'gradients/split_1_grad/concat/split_1/split_dim' with dtype int32\n",
      "\t [[{{node gradients/split_1_grad/concat/split_1/split_dim}}]]\n",
      "2025-02-27 17:31:18.935648: I tensorflow/core/common_runtime/executor.cc:1197] [/device:CPU:0] (DEBUG INFO) Executor start aborting (this does not indicate an error and you can ignore this message): INVALID_ARGUMENT: You must feed a value for placeholder tensor 'gradients/split_2_grad/concat/split_2/split_dim' with dtype int32\n",
      "\t [[{{node gradients/split_2_grad/concat/split_2/split_dim}}]]\n",
      "2025-02-27 17:31:18.936309: I tensorflow/core/common_runtime/executor.cc:1197] [/device:CPU:0] (DEBUG INFO) Executor start aborting (this does not indicate an error and you can ignore this message): INVALID_ARGUMENT: You must feed a value for placeholder tensor 'gradients/split_grad/concat/split/split_dim' with dtype int32\n",
      "\t [[{{node gradients/split_grad/concat/split/split_dim}}]]\n",
      "2025-02-27 17:31:18.936963: I tensorflow/core/common_runtime/executor.cc:1197] [/device:CPU:0] (DEBUG INFO) Executor start aborting (this does not indicate an error and you can ignore this message): INVALID_ARGUMENT: You must feed a value for placeholder tensor 'gradients/split_1_grad/concat/split_1/split_dim' with dtype int32\n",
      "\t [[{{node gradients/split_1_grad/concat/split_1/split_dim}}]]\n"
     ]
    },
    {
     "name": "stdout",
     "output_type": "stream",
     "text": [
      " 1/16 [>.............................] - ETA: 7s"
     ]
    },
    {
     "name": "stderr",
     "output_type": "stream",
     "text": [
      "2025-02-27 17:31:19.039856: I tensorflow/core/common_runtime/executor.cc:1197] [/device:CPU:0] (DEBUG INFO) Executor start aborting (this does not indicate an error and you can ignore this message): INVALID_ARGUMENT: You must feed a value for placeholder tensor 'gradients/split_2_grad/concat/split_2/split_dim' with dtype int32\n",
      "\t [[{{node gradients/split_2_grad/concat/split_2/split_dim}}]]\n",
      "2025-02-27 17:31:19.040539: I tensorflow/core/common_runtime/executor.cc:1197] [/device:CPU:0] (DEBUG INFO) Executor start aborting (this does not indicate an error and you can ignore this message): INVALID_ARGUMENT: You must feed a value for placeholder tensor 'gradients/split_grad/concat/split/split_dim' with dtype int32\n",
      "\t [[{{node gradients/split_grad/concat/split/split_dim}}]]\n",
      "2025-02-27 17:31:19.041318: I tensorflow/core/common_runtime/executor.cc:1197] [/device:CPU:0] (DEBUG INFO) Executor start aborting (this does not indicate an error and you can ignore this message): INVALID_ARGUMENT: You must feed a value for placeholder tensor 'gradients/split_1_grad/concat/split_1/split_dim' with dtype int32\n",
      "\t [[{{node gradients/split_1_grad/concat/split_1/split_dim}}]]\n"
     ]
    },
    {
     "name": "stdout",
     "output_type": "stream",
     "text": [
      "16/16 [==============================] - 1s 4ms/step\n"
     ]
    },
    {
     "data": {
      "image/png": "[encoded data removed]",
      "text/plain": [
       "<Figure size 640x480 with 1 Axes>"
      ]
     },
     "metadata": {},
     "output_type": "display_data"
    }
   ],
   "source": [
    "y_predict=model.predict([fif_test,daily_test,wenben_test]).reshape(test_num-daily_back).tolist()\n",
    "fpr,tpr,threshold = roc_curve(target_test, y_predict) ###计算真正率和假正率\n",
    "# print(fpr,tpr,threshold)\n",
    "roc_auc = auc(fpr,tpr)\n",
    "\n",
    "\n",
    "lw = 2\n",
    "plt.figure()\n",
    "plt.plot(fpr, tpr, color='darkorange',\n",
    "         lw=lw, label='ROC curve (area = %0.2f)' % roc_auc) ###假正率为横坐标，真正率为纵坐标做曲线\n",
    "plt.plot([0, 1], [0, 1], color='navy', lw=lw, linestyle='--')\n",
    "plt.xlim([0.0, 1.0])\n",
    "plt.ylim([0.0, 1.05])\n",
    "plt.xlabel('False Positive Rate')\n",
    "plt.ylabel('True Positive Rate')\n",
    "plt.title('Receiver operating characteristic example')\n",
    "plt.legend(loc=\"lower right\")\n",
    "plt.show()"
   ]
  },
  {
   "cell_type": "markdown",
   "id": "302466a8",
   "metadata": {},
   "source": [
    "# 保存"
   ]
  },
  {
   "cell_type": "code",
   "execution_count": 56,
   "id": "96676464",
   "metadata": {},
   "outputs": [],
   "source": [
    "df9=pd.DataFrame({'损失值':loss,'准确率':accuracy,'夏普值':sharp,'收益率':result[2]-1,'最大回撤':[max_drawdown],'查准率':[precision_score],'查全率':[recall_score],'f1-score':[f1_score]})\n",
    "df10=pd.DataFrame({'每日收益率':result[1]})\n",
    "path9='/Users/ccmac/Desktop'\n",
    "df9.to_excel(os.path.join(path9,'数据表.xlsx'),index=False)\n",
    "df10.to_excel(os.path.join(path9,'每日收益率表.xlsx'),index=False)"
   ]
  },
  {
   "cell_type": "code",
   "execution_count": null,
   "id": "56cb83ab",
   "metadata": {},
   "outputs": [],
   "source": []
  },
  {
   "cell_type": "code",
   "execution_count": 57,
   "id": "82c56301",
   "metadata": {},
   "outputs": [
    {
     "name": "stdout",
     "output_type": "stream",
     "text": [
      "[[1 2 3 4]\n",
      " [5 6 7 8]]\n",
      "[[   1    2    6   24]\n",
      " [   5   30  210 1680]]\n"
     ]
    }
   ],
   "source": [
    "import numpy as np\n",
    "t = np.array([1, 2, 3, 4, 5, 6, 7, 8]).reshape([2,4])\n",
    "y = np.cumprod(t, axis=1)\n",
    "print(t)\n",
    "print(y)\n"
   ]
  },
  {
   "cell_type": "code",
   "execution_count": null,
   "id": "55058d97-109b-409b-95d0-55fa4f0094fd",
   "metadata": {},
   "outputs": [],
   "source": []
  }
 ],
 "metadata": {
  "kernelspec": {
   "display_name": "Python [conda env:tf_env]",
   "language": "python",
   "name": "conda-env-tf_env-py"
  },
  "language_info": {
   "codemirror_mode": {
    "name": "ipython",
    "version": 3
   },
   "file_extension": ".py",
   "mimetype": "text/x-python",
   "name": "python",
   "nbconvert_exporter": "python",
   "pygments_lexer": "ipython3",
   "version": "3.8.18"
  }
 },
 "nbformat": 4,
 "nbformat_minor": 5
}
