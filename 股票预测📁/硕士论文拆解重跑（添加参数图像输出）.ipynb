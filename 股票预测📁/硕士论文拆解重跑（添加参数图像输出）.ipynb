{
 "cells": [
  {
   "cell_type": "code",
   "execution_count": 1,
   "id": "c94f7744",
   "metadata": {},
   "outputs": [
    {
     "name": "stdout",
     "output_type": "stream",
     "text": [
      "Intel MKL WARNING: Support of Intel(R) Streaming SIMD Extensions 4.2 (Intel(R) SSE4.2) enabled only processors has been deprecated. Intel oneAPI Math Kernel Library 2025.0 will require Intel(R) Advanced Vector Extensions (Intel(R) AVX) instructions.\n",
      "Intel MKL WARNING: Support of Intel(R) Streaming SIMD Extensions 4.2 (Intel(R) SSE4.2) enabled only processors has been deprecated. Intel oneAPI Math Kernel Library 2025.0 will require Intel(R) Advanced Vector Extensions (Intel(R) AVX) instructions.\n"
     ]
    },
    {
     "name": "stderr",
     "output_type": "stream",
     "text": [
      "2025-01-03 16:26:24.452203: I tensorflow/core/platform/cpu_feature_guard.cc:182] This TensorFlow binary is optimized to use available CPU instructions in performance-critical operations.\n",
      "To enable the following instructions: SSE4.1 SSE4.2, in other operations, rebuild TensorFlow with the appropriate compiler flags.\n"
     ]
    }
   ],
   "source": [
    "import pandas as pd\n",
    "import numpy as np\n",
    "import os\n",
    "import keras\n",
    "\n",
    "\n",
    "%matplotlib inline\n",
    "from matplotlib import pyplot as plt\n",
    "from keras.models import Model\n",
    "from keras import layers\n",
    "from keras import Input\n",
    "from sklearn.metrics import confusion_matrix,roc_curve, auc,recall_score,precision_score,f1_score\n",
    "from keras.utils.vis_utils import plot_model"
   ]
  },
  {
   "cell_type": "markdown",
   "id": "fa353efb",
   "metadata": {},
   "source": [
    "# 参数设置"
   ]
  },
  {
   "cell_type": "code",
   "execution_count": 3,
   "id": "ccfe2d2a",
   "metadata": {
    "scrolled": true
   },
   "outputs": [],
   "source": [
    "# plt.rcParams['font.sans-serif'] = ['SimHei'] # 指定默认字体\n",
    "# plt.rcParams['axes.unicode_minus'] = False\n",
    "\n",
    "\n",
    "# from tensorflow import losses\n",
    "\n",
    "wenben_back=20\n",
    "total_day=2062\n",
    "train_num=1650\n",
    "\n",
    "long_term_back=20\n",
    "short_term_back=2\n",
    "\n",
    "wenben_sort=2\n",
    "batch_size=8\n",
    "epochs=20\n",
    "LSTM_num=100\n",
    "dense_num=20\n",
    "\n",
    "\n",
    "mix_file='777888.xlsx'\n",
    "first_columns='search_index'\n",
    "\n",
    "\n",
    "\n",
    "test_num=total_day-train_num"
   ]
  },
  {
   "cell_type": "markdown",
   "id": "1006d29e",
   "metadata": {},
   "source": []
  },
  {
   "cell_type": "code",
   "execution_count": null,
   "id": "911164cf",
   "metadata": {},
   "outputs": [],
   "source": []
  },
  {
   "cell_type": "markdown",
   "id": "5cada9a3",
   "metadata": {},
   "source": [
    "# 数据转换类，返回多个字典？"
   ]
  },
  {
   "cell_type": "code",
   "execution_count": 6,
   "id": "a58de0bc",
   "metadata": {},
   "outputs": [],
   "source": [
    "class Data_maker:\n",
    "    def __init__(self,train_num,test_num,fif_back,daily_back,wenben_back,long_term_back,short_term_back):\n",
    "        self.train_num=train_num\n",
    "        self.test_num=test_num\n",
    "        self.fif_back=fif_back\n",
    "        self.daily_back=daily_back\n",
    "        self.wenben_back = wenben_back\n",
    "        self.long_term_back=long_term_back\n",
    "        self.short_term_back = short_term_back\n",
    "\n",
    "    def daily_train_data(self,data):\n",
    "        while True:\n",
    "            rows = list(range(self.train_num - self.wenben_back)) #总共1650个数据，由于扣除前面20个数据，所以为1630\n",
    "            ### 先构造空（预测日长度*日后移）array\n",
    "            samples = np.zeros((len(rows),\n",
    "                                 self.daily_back,\n",
    "                                 5))\n",
    "            print(samples.shape)\n",
    "            for j in rows:\n",
    "                ### 每一个填入用于预测一天的开盘价到波动率矩阵\n",
    "                samples[j] = data.loc[\n",
    "                                  (data.index >= j) & (data.index < self.daily_back + j),\n",
    "                                  'open':'volume_rate']\n",
    "            print(data.index)\n",
    "            print('日频训练array：',samples.shape)\n",
    "            return samples\n",
    "    def fif_train_data(self,data):\n",
    "        while True:\n",
    "            rows = list(range(self.train_num - self.wenben_back))\n",
    "            samples = np.zeros((len(rows),\n",
    "                                 self.fif_back,\n",
    "                                 5))\n",
    "            for j in rows:\n",
    "\n",
    "                samples[j] = data.loc[\n",
    "                              (data.index >= j * self.fif_back ) & (data.index < (j+1) * self.fif_back),\n",
    "                              'open':]\n",
    "            print('十五分钟训练array：',samples.shape)\n",
    "            return samples\n",
    "    def wenben_long_term_train_data(self,data):\n",
    "        while True:\n",
    "            rows = list(range(self.train_num - self.wenben_back)) #总共1489个数据，由于扣除前面20个数据，所以为1469\n",
    "            samples = np.zeros((len(rows),\n",
    "                                 self.long_term_back,\n",
    "                                 wenben_sort))\n",
    "            for j in rows:\n",
    "\n",
    "                samples[j] = data.loc[\n",
    "                                  (data.index >= j) & (data.index < self.long_term_back + j),\n",
    "                                  first_columns:]\n",
    "            print('文本长期训练array：',samples.shape)\n",
    "            return samples\n",
    "    def wenben_short_term_train_data(self,data):\n",
    "        while True:\n",
    "            rows = list(range(self.train_num - self.wenben_back)) #总共1489个数据，由于扣除前面20个数据，所以为1469\n",
    "            samples = np.zeros((len(rows),\n",
    "                                 self.short_term_back,\n",
    "                                wenben_sort))\n",
    "            for j in rows:\n",
    "\n",
    "                samples[j] = data.loc[\n",
    "                                  (data.index >= j) & (data.index < self.short_term_back + j),\n",
    "                                  first_columns:]\n",
    "            print('文本短期训练array：',samples.shape)\n",
    "            return samples\n",
    "    def daily_test_data(self,data):\n",
    "        while True:\n",
    "            rows = list(range(self.test_num - self.wenben_back))\n",
    "            print(self.test_num,self.wenben_back)\n",
    "            print(rows)\n",
    "            samples = np.zeros((len(rows),\n",
    "                                self.daily_back,\n",
    "                                 5))\n",
    "            for j in rows:\n",
    "\n",
    "\n",
    "                samples[j] = data.loc[\n",
    "                                  (data.index >= self.train_num+j) & (data.index < self.train_num+self.daily_back + j),\n",
    "                                  'open':'volume_rate']\n",
    "            print('日测试array：',samples.shape)\n",
    "            print('试一试index', data.index,'train_num',self.train_num)\n",
    "            return samples\n",
    "\n",
    "    def wenben_long_term_test_data(self, data):\n",
    "        while True:\n",
    "            rows = list(range(self.test_num - self.wenben_back))\n",
    "            samples = np.zeros((len(rows),\n",
    "                                self.long_term_back,\n",
    "                                wenben_sort))\n",
    "            for j in rows:\n",
    "                samples[j] = data.loc[\n",
    "                             (data.index >= self.train_num + j) & (data.index < self.train_num + self.long_term_back + j),\n",
    "                             first_columns:]\n",
    "            print('长期文本测试array：', samples.shape)\n",
    "            return samples\n",
    "    def wenben_short_term_test_data(self, data):\n",
    "        while True:\n",
    "            rows = list(range(self.test_num - self.wenben_back))\n",
    "            samples = np.zeros((len(rows),\n",
    "                                self.short_term_back,\n",
    "                                wenben_sort))\n",
    "            for j in rows:\n",
    "                samples[j] = data.loc[\n",
    "                             (data.index >= self.train_num + j) & (data.index < self.train_num + self.short_term_back + j),\n",
    "                             first_columns:]\n",
    "            print('短期文本测试array：', samples.shape)\n",
    "            return samples\n",
    "    def fif_test_data(self,data):\n",
    "        while True:\n",
    "            rows = list(range(self.test_num - self.wenben_back))\n",
    "            samples = np.zeros((len(rows),\n",
    "                                self.fif_back,\n",
    "                                 5))\n",
    "            for j in rows:\n",
    "\n",
    "\n",
    "                samples[j] = data.loc[\n",
    "                                 (data.index >= 16*self.train_num+(j) * self.fif_back) & (data.index < 16*self.train_num+(j+1) * self.fif_back),\n",
    "                                 'open':]\n",
    "            print('十五分钟测试array：',samples.shape)\n",
    "            return samples\n",
    "    def target_train_data(self,data):\n",
    "        while True:\n",
    "            rows = list(range(self.train_num-self.wenben_back))\n",
    "            targets = np.zeros((len(rows),))\n",
    "            for j in rows:\n",
    "\n",
    "\n",
    "                targets[j] = data.loc[data.index == j, 'target']\n",
    "            print('训练标签array',targets.shape)\n",
    "            return targets\n",
    "    def target_test_data(self,data):\n",
    "        while True:\n",
    "            rows = list(range(self.test_num-self.wenben_back))\n",
    "            targets = np.zeros((len(rows),))\n",
    "            for j in rows:\n",
    "\n",
    "\n",
    "                targets[j] = data.loc[data.index == self.train_num+j, 'target'] ##出问题：应该是。而不是***：data.index == self.train_num+j\n",
    "            print(targets.shape)\n",
    "            return targets"
   ]
  },
  {
   "cell_type": "markdown",
   "id": "2b0ac67d",
   "metadata": {},
   "source": [
    "# 设置类方法里的参数，赋值给origin_data_maker，仍然是一个class类"
   ]
  },
  {
   "cell_type": "code",
   "execution_count": 8,
   "id": "98d96df1",
   "metadata": {},
   "outputs": [],
   "source": [
    "origin_data_maker=Data_maker(train_num=train_num,test_num=test_num,fif_back=16,daily_back=20,wenben_back=wenben_back,long_term_back=long_term_back,short_term_back=short_term_back)\n"
   ]
  },
  {
   "cell_type": "markdown",
   "id": "08c9b0fa",
   "metadata": {},
   "source": [
    "# 读取原始数据"
   ]
  },
  {
   "cell_type": "code",
   "execution_count": 10,
   "id": "c5a53a33",
   "metadata": {},
   "outputs": [],
   "source": [
    "new_dir='/Users/ccmac/Documents/毕业论文数据/数据二合为一'\n",
    "dir='/Users/ccmac/Documents/毕业论文数据/数据区间试验'\n",
    "# wenben_dir='/Users/ccmac/Documents/毕业论文数据/每日均值'\n",
    "daily_df=pd.read_excel(os.path.join(new_dir,mix_file))\n",
    "fif_df=pd.read_excel(os.path.join(dir,'fif_data.xlsx'))\n",
    "target_df=pd.read_excel(os.path.join(dir,'target.xlsx'))\n",
    "wenben_df=pd.read_excel(os.path.join(new_dir,mix_file))"
   ]
  },
  {
   "cell_type": "markdown",
   "id": "a093f0e5",
   "metadata": {},
   "source": [
    "# 历史数据标准化函数norm"
   ]
  },
  {
   "cell_type": "code",
   "execution_count": 12,
   "id": "6f00c73f",
   "metadata": {},
   "outputs": [],
   "source": [
    "def norm(df):\n",
    "    x=df.copy()\n",
    "    open_mean_value = df['open'].mean(axis=0)\n",
    "    high_mean_value = df['high'].mean(axis=0)\n",
    "    low_mean_value = df['low'].mean()\n",
    "    close_mean_value = df['close'].mean()\n",
    "    volumerate_mean_value = df['volume_rate'].mean()\n",
    "\n",
    "    open_std_value = df['open'].std()\n",
    "    high_std_value = df['high'].std()\n",
    "    low_std_value = df['low'].std()\n",
    "    close_std_value = df['close'].std()\n",
    "    volumerate_std_value = df['volume_rate'].std()\n",
    "\n",
    "    x['open']=(df['open']-open_mean_value)/open_std_value\n",
    "    x['high'] = (df['high'] - high_mean_value) / high_std_value\n",
    "    x['low'] =  (df['low'] - low_mean_value) / low_std_value\n",
    "    x['close'] =  (df['close'] - close_mean_value) / close_std_value\n",
    "    x['volume_rate'] = (df['volume_rate'] - volumerate_mean_value) / volumerate_std_value\n",
    "    df=x\n",
    "    return df"
   ]
  },
  {
   "cell_type": "markdown",
   "id": "07a46668",
   "metadata": {},
   "source": [
    "# 文本数据标准化函数wenben_norm"
   ]
  },
  {
   "cell_type": "code",
   "execution_count": 14,
   "id": "78f471cd",
   "metadata": {},
   "outputs": [],
   "source": [
    "def wenben_norm(df):\n",
    "    x=df.copy()\n",
    "    sector_score_mean_value = df['sector_score'].mean(axis=0)\n",
    "    search_index_mean_value = df['search_index'].mean(axis=0)\n",
    "    # media_attention_mean_value = df['media_attention'].mean(axis=0)\n",
    "\n",
    "\n",
    "    sector_score_std_value = df['sector_score'].std()\n",
    "    search_index_std_value = df['search_index'].std()\n",
    "    # media_attention_std_value = df['media_attention'].std()\n",
    "\n",
    "\n",
    "    x['sector_score']=(df['sector_score']-sector_score_mean_value)/sector_score_std_value\n",
    "    x['search_index'] = (df['search_index'] - search_index_mean_value) / search_index_std_value\n",
    "    # x['media_attention'] = (df['media_attention'] - media_attention_mean_value) / media_attention_std_value\n",
    "\n",
    "    df=x\n",
    "    return df"
   ]
  },
  {
   "cell_type": "markdown",
   "id": "3b6911e7",
   "metadata": {},
   "source": [
    "# 数据切分"
   ]
  },
  {
   "cell_type": "code",
   "execution_count": 16,
   "id": "07835973",
   "metadata": {},
   "outputs": [],
   "source": [
    "def split_data(train_num=train_num,wenben_back=wenben_back):\n",
    "    daily_train_df=daily_df.loc[daily_df.index<train_num]\n",
    "    daily_test_df=daily_df.loc[daily_df.index>=train_num]\n",
    "    fif_train_df=fif_df.loc[fif_df.index<16*train_num]\n",
    "    fif_test_df=fif_df.loc[fif_df.index>=16*train_num]\n",
    "    wenben_train_df=wenben_df.loc[wenben_df.index<train_num]\n",
    "    wenben_test_df=wenben_df.loc[wenben_df.index>=train_num]\n",
    "\n",
    "    target_train_df=target_df.loc[target_df.index<train_num]\n",
    "    target_test_df=target_df.loc[target_df.index>=train_num]\n",
    "\n",
    "    daily_train_df=norm(daily_train_df)\n",
    "    daily_test_df=norm(daily_test_df)\n",
    "    fif_train_df=norm(fif_train_df)\n",
    "    fif_test_df=norm(fif_test_df)\n",
    "    wenben_train_df=wenben_norm(wenben_train_df)\n",
    "    wenben_test_df = wenben_norm(wenben_test_df)\n",
    "\n",
    "\n",
    "    return {'daily_train_df':daily_train_df,\n",
    "            'daily_test_df':daily_test_df,\n",
    "            'fif_train_df':fif_train_df,\n",
    "            'fif_test_df':fif_test_df,\n",
    "            'target_train_df':target_train_df,\n",
    "            'target_test_df':target_test_df,\n",
    "            'wenben_train_df':wenben_train_df,\n",
    "            'wenben_test_df': wenben_test_df\n",
    "            }"
   ]
  },
  {
   "cell_type": "markdown",
   "id": "557c115f",
   "metadata": {},
   "source": [
    "# 进行数据切分"
   ]
  },
  {
   "cell_type": "code",
   "execution_count": 18,
   "id": "b87cec91",
   "metadata": {},
   "outputs": [
    {
     "name": "stdout",
     "output_type": "stream",
     "text": [
      "日频训练切分： (1650, 9)\n",
      "日频测试切分： (412, 9)\n",
      "十五分钟频训练切分： (26400, 6)\n",
      "十五分钟频测试切分： (6592, 6)\n",
      "训练目标切分： (1650, 3)\n",
      "测试目标切分： (412, 3)\n"
     ]
    }
   ],
   "source": [
    "daily_train_df=split_data()['daily_train_df']\n",
    "print('日频训练切分：',daily_train_df.shape)\n",
    "daily_test_df=split_data()['daily_test_df']\n",
    "print('日频测试切分：',daily_test_df.shape)\n",
    "fif_train_df=split_data()['fif_train_df']\n",
    "print('十五分钟频训练切分：',fif_train_df.shape)\n",
    "fif_test_df=split_data()['fif_test_df']\n",
    "print('十五分钟频测试切分：',fif_test_df.shape)\n",
    "target_train_df=split_data()['target_train_df']\n",
    "print('训练目标切分：',target_train_df.shape)\n",
    "target_test_df=split_data()['target_test_df']\n",
    "print('测试目标切分：',target_test_df.shape)\n",
    "wenben_norm_train_df=split_data()['wenben_train_df']\n",
    "wenben_norm_test_df=split_data()['wenben_test_df']"
   ]
  },
  {
   "cell_type": "markdown",
   "id": "b84200b8",
   "metadata": {},
   "source": [
    "# 调用类中的方法,处理原始数据"
   ]
  },
  {
   "cell_type": "code",
   "execution_count": 20,
   "id": "a26f72f7",
   "metadata": {},
   "outputs": [
    {
     "name": "stdout",
     "output_type": "stream",
     "text": [
      "(1630, 20, 5)\n",
      "Index([   0,    1,    2,    3,    4,    5,    6,    7,    8,    9,\n",
      "       ...\n",
      "       1640, 1641, 1642, 1643, 1644, 1645, 1646, 1647, 1648, 1649],\n",
      "      dtype='int64', length=1650)\n",
      "日频训练array： (1630, 20, 5)\n",
      "412 20\n",
      "[0, 1, 2, 3, 4, 5, 6, 7, 8, 9, 10, 11, 12, 13, 14, 15, 16, 17, 18, 19, 20, 21, 22, 23, 24, 25, 26, 27, 28, 29, 30, 31, 32, 33, 34, 35, 36, 37, 38, 39, 40, 41, 42, 43, 44, 45, 46, 47, 48, 49, 50, 51, 52, 53, 54, 55, 56, 57, 58, 59, 60, 61, 62, 63, 64, 65, 66, 67, 68, 69, 70, 71, 72, 73, 74, 75, 76, 77, 78, 79, 80, 81, 82, 83, 84, 85, 86, 87, 88, 89, 90, 91, 92, 93, 94, 95, 96, 97, 98, 99, 100, 101, 102, 103, 104, 105, 106, 107, 108, 109, 110, 111, 112, 113, 114, 115, 116, 117, 118, 119, 120, 121, 122, 123, 124, 125, 126, 127, 128, 129, 130, 131, 132, 133, 134, 135, 136, 137, 138, 139, 140, 141, 142, 143, 144, 145, 146, 147, 148, 149, 150, 151, 152, 153, 154, 155, 156, 157, 158, 159, 160, 161, 162, 163, 164, 165, 166, 167, 168, 169, 170, 171, 172, 173, 174, 175, 176, 177, 178, 179, 180, 181, 182, 183, 184, 185, 186, 187, 188, 189, 190, 191, 192, 193, 194, 195, 196, 197, 198, 199, 200, 201, 202, 203, 204, 205, 206, 207, 208, 209, 210, 211, 212, 213, 214, 215, 216, 217, 218, 219, 220, 221, 222, 223, 224, 225, 226, 227, 228, 229, 230, 231, 232, 233, 234, 235, 236, 237, 238, 239, 240, 241, 242, 243, 244, 245, 246, 247, 248, 249, 250, 251, 252, 253, 254, 255, 256, 257, 258, 259, 260, 261, 262, 263, 264, 265, 266, 267, 268, 269, 270, 271, 272, 273, 274, 275, 276, 277, 278, 279, 280, 281, 282, 283, 284, 285, 286, 287, 288, 289, 290, 291, 292, 293, 294, 295, 296, 297, 298, 299, 300, 301, 302, 303, 304, 305, 306, 307, 308, 309, 310, 311, 312, 313, 314, 315, 316, 317, 318, 319, 320, 321, 322, 323, 324, 325, 326, 327, 328, 329, 330, 331, 332, 333, 334, 335, 336, 337, 338, 339, 340, 341, 342, 343, 344, 345, 346, 347, 348, 349, 350, 351, 352, 353, 354, 355, 356, 357, 358, 359, 360, 361, 362, 363, 364, 365, 366, 367, 368, 369, 370, 371, 372, 373, 374, 375, 376, 377, 378, 379, 380, 381, 382, 383, 384, 385, 386, 387, 388, 389, 390, 391]\n",
      "日测试array： (392, 20, 5)\n",
      "试一试index Index([1650, 1651, 1652, 1653, 1654, 1655, 1656, 1657, 1658, 1659,\n",
      "       ...\n",
      "       2052, 2053, 2054, 2055, 2056, 2057, 2058, 2059, 2060, 2061],\n",
      "      dtype='int64', length=412) train_num 1650\n",
      "十五分钟训练array： (1630, 16, 5)\n",
      "十五分钟测试array： (392, 16, 5)\n",
      "训练标签array (1630,)\n",
      "(392,)\n"
     ]
    },
    {
     "name": "stderr",
     "output_type": "stream",
     "text": [
      "/var/folders/5p/hvm0cq8x33b_42v5fj9lmxbh0000gn/T/ipykernel_96627/3293293578.py:129: FutureWarning: Calling float on a single element Series is deprecated and will raise a TypeError in the future. Use float(ser.iloc[0]) instead\n",
      "  targets[j] = data.loc[data.index == j, 'target']\n",
      "/var/folders/5p/hvm0cq8x33b_42v5fj9lmxbh0000gn/T/ipykernel_96627/3293293578.py:139: FutureWarning: Calling float on a single element Series is deprecated and will raise a TypeError in the future. Use float(ser.iloc[0]) instead\n",
      "  targets[j] = data.loc[data.index == self.train_num+j, 'target'] ##出问题：应该是。而不是***：data.index == self.train_num+j\n"
     ]
    },
    {
     "name": "stdout",
     "output_type": "stream",
     "text": [
      "文本长期训练array： (1630, 20, 2)\n",
      "文本短期训练array： (1630, 2, 2)\n",
      "长期文本测试array： (392, 20, 2)\n",
      "短期文本测试array： (392, 2, 2)\n"
     ]
    }
   ],
   "source": [
    "DM=origin_data_maker\n",
    "\n",
    "daily_train=DM.daily_train_data(daily_train_df)\n",
    "daily_test=DM.daily_test_data(daily_test_df)\n",
    "fif_train=DM.fif_train_data(fif_train_df)\n",
    "fif_test=DM.fif_test_data(fif_test_df)\n",
    "target_train=DM.target_train_data(target_train_df)\n",
    "target_test=DM.target_test_data(target_test_df)\n",
    "\n",
    "wenben_long_term_train=DM.wenben_long_term_train_data(wenben_norm_train_df)\n",
    "wenben_short_term_train=DM.wenben_short_term_train_data(wenben_norm_train_df)\n",
    "wenben_long_term_test=DM.wenben_long_term_test_data(wenben_norm_test_df)\n",
    "wenben_short_term_test=DM.wenben_short_term_test_data(wenben_norm_test_df)"
   ]
  },
  {
   "cell_type": "markdown",
   "id": "eb802e8a",
   "metadata": {},
   "source": [
    "# 构建神经网络模型"
   ]
  },
  {
   "cell_type": "code",
   "execution_count": 22,
   "id": "f40a1c29",
   "metadata": {},
   "outputs": [],
   "source": [
    "def my_model(long_term_back,short_term_back,wenben_sort):\n",
    "\n",
    "    ##### 一、模型搭建\n",
    "\n",
    "    # 文本输入训练(!!!卷积滤镜行列先后)\n",
    "    wenben_long_term_input=Input(shape=(long_term_back,wenben_sort),dtype='float32',name='wenben_long_term_input')\n",
    "    Conv1D_fif=layers.Conv1D(16,1,strides=1)(wenben_long_term_input)\n",
    "    LSTM_long_term=layers.LSTM(LSTM_num)(Conv1D_fif)\n",
    "    wenben_short_term_input = Input(shape=(short_term_back,wenben_sort), dtype='float32', name='wenben_short_term_input')\n",
    "    Conv1D_fif = layers.Conv1D(16, 1, strides=1)(wenben_short_term_input)\n",
    "    LSTM_short_term = layers.LSTM(LSTM_num)(Conv1D_fif)\n",
    "    # 15分钟频输入训练(!!!卷积滤镜行列先后)\n",
    "    fif_min_input=Input(shape=(16,5),dtype='float32',name='fif_min_input')\n",
    "    # fif_min_input=(8,16,4,1)\n",
    "    Conv1D_fif=layers.Conv1D(16,1,strides=1)(fif_min_input)\n",
    "    LSTM_fif=layers.LSTM(LSTM_num)(Conv1D_fif)\n",
    "\n",
    "    # 日频输入训练\n",
    "    daily_input=Input(shape=(20,5),dtype='float32',name='daily_input')\n",
    "    # daily_input=(8,16,4,1)\n",
    "    Conv1D_daily=layers.Conv1D(16,1,strides=1)(daily_input)\n",
    "    LSTM_daily=layers.LSTM(LSTM_num)(Conv1D_daily)\n",
    "    # 15分钟频训练结果和日频训练结果合并\n",
    "    concatenated=layers.concatenate([LSTM_fif,LSTM_daily,LSTM_long_term,LSTM_short_term],axis=-1) # axis=-1按照最后一个轴粘合\n",
    "\n",
    "    alloy=layers.Dense(dense_num,activation='relu')(concatenated) #将粘合结果再接一个全连接层\n",
    "    dropout=layers.Dropout(0.2)(alloy)\n",
    "    output=layers.Dense(1,activation='sigmoid')(dropout)\n",
    "    model=Model([fif_min_input,daily_input,wenben_long_term_input,wenben_short_term_input],output) #八股文：将输入和输出圈起来\n",
    "\n",
    "    print(model.summary())\n",
    "    model.compile(optimizer=keras.optimizers.Adam(lr=1e-3),loss='binary_crossentropy',metrics=['acc'])\n",
    "    return model\n",
    "    # reduce_lr = ReduceLROnPlateau(monitor='val_loss', patience=5, mode='auto')\n"
   ]
  },
  {
   "cell_type": "markdown",
   "id": "4a065f8c",
   "metadata": {},
   "source": [
    "# 模型滞后时长赋值"
   ]
  },
  {
   "cell_type": "code",
   "execution_count": 24,
   "id": "993a90eb",
   "metadata": {},
   "outputs": [
    {
     "name": "stderr",
     "output_type": "stream",
     "text": [
      "2025-01-03 16:26:34.103054: I tensorflow/core/common_runtime/executor.cc:1197] [/device:CPU:0] (DEBUG INFO) Executor start aborting (this does not indicate an error and you can ignore this message): INVALID_ARGUMENT: You must feed a value for placeholder tensor 'gradients/split_2_grad/concat/split_2/split_dim' with dtype int32\n",
      "\t [[{{node gradients/split_2_grad/concat/split_2/split_dim}}]]\n",
      "2025-01-03 16:26:34.104173: I tensorflow/core/common_runtime/executor.cc:1197] [/device:CPU:0] (DEBUG INFO) Executor start aborting (this does not indicate an error and you can ignore this message): INVALID_ARGUMENT: You must feed a value for placeholder tensor 'gradients/split_grad/concat/split/split_dim' with dtype int32\n",
      "\t [[{{node gradients/split_grad/concat/split/split_dim}}]]\n",
      "2025-01-03 16:26:34.104937: I tensorflow/core/common_runtime/executor.cc:1197] [/device:CPU:0] (DEBUG INFO) Executor start aborting (this does not indicate an error and you can ignore this message): INVALID_ARGUMENT: You must feed a value for placeholder tensor 'gradients/split_1_grad/concat/split_1/split_dim' with dtype int32\n",
      "\t [[{{node gradients/split_1_grad/concat/split_1/split_dim}}]]\n",
      "2025-01-03 16:26:34.224091: I tensorflow/core/common_runtime/executor.cc:1197] [/device:CPU:0] (DEBUG INFO) Executor start aborting (this does not indicate an error and you can ignore this message): INVALID_ARGUMENT: You must feed a value for placeholder tensor 'gradients/split_2_grad/concat/split_2/split_dim' with dtype int32\n",
      "\t [[{{node gradients/split_2_grad/concat/split_2/split_dim}}]]\n",
      "2025-01-03 16:26:34.224787: I tensorflow/core/common_runtime/executor.cc:1197] [/device:CPU:0] (DEBUG INFO) Executor start aborting (this does not indicate an error and you can ignore this message): INVALID_ARGUMENT: You must feed a value for placeholder tensor 'gradients/split_grad/concat/split/split_dim' with dtype int32\n",
      "\t [[{{node gradients/split_grad/concat/split/split_dim}}]]\n",
      "2025-01-03 16:26:34.225497: I tensorflow/core/common_runtime/executor.cc:1197] [/device:CPU:0] (DEBUG INFO) Executor start aborting (this does not indicate an error and you can ignore this message): INVALID_ARGUMENT: You must feed a value for placeholder tensor 'gradients/split_1_grad/concat/split_1/split_dim' with dtype int32\n",
      "\t [[{{node gradients/split_1_grad/concat/split_1/split_dim}}]]\n"
     ]
    },
    {
     "name": "stdout",
     "output_type": "stream",
     "text": [
      "Model: \"model\"\n",
      "__________________________________________________________________________________________________\n",
      " Layer (type)                   Output Shape         Param #     Connected to                     \n",
      "==================================================================================================\n",
      " fif_min_input (InputLayer)     [(None, 16, 5)]      0           []                               \n",
      "                                                                                                  \n",
      " daily_input (InputLayer)       [(None, 20, 5)]      0           []                               \n",
      "                                                                                                  \n",
      " wenben_long_term_input (InputL  [(None, 20, 2)]     0           []                               \n",
      " ayer)                                                                                            \n",
      "                                                                                                  \n",
      " wenben_short_term_input (Input  [(None, 2, 2)]      0           []                               \n",
      " Layer)                                                                                           \n",
      "                                                                                                  \n",
      " conv1d_2 (Conv1D)              (None, 16, 16)       96          ['fif_min_input[0][0]']          \n",
      "                                                                                                  \n",
      " conv1d_3 (Conv1D)              (None, 20, 16)       96          ['daily_input[0][0]']            \n",
      "                                                                                                  \n",
      " conv1d (Conv1D)                (None, 20, 16)       48          ['wenben_long_term_input[0][0]'] \n",
      "                                                                                                  \n",
      " conv1d_1 (Conv1D)              (None, 2, 16)        48          ['wenben_short_term_input[0][0]']\n",
      "                                                                                                  \n",
      " lstm_2 (LSTM)                  (None, 100)          46800       ['conv1d_2[0][0]']               \n",
      "                                                                                                  \n",
      " lstm_3 (LSTM)                  (None, 100)          46800       ['conv1d_3[0][0]']               \n",
      "                                                                                                  \n",
      " lstm (LSTM)                    (None, 100)          46800       ['conv1d[0][0]']                 \n",
      "                                                                                                  \n",
      " lstm_1 (LSTM)                  (None, 100)          46800       ['conv1d_1[0][0]']               \n",
      "                                                                                                  \n",
      " concatenate (Concatenate)      (None, 400)          0           ['lstm_2[0][0]',                 \n",
      "                                                                  'lstm_3[0][0]',                 \n",
      "                                                                  'lstm[0][0]',                   \n",
      "                                                                  'lstm_1[0][0]']                 \n",
      "                                                                                                  \n",
      " dense (Dense)                  (None, 20)           8020        ['concatenate[0][0]']            \n",
      "                                                                                                  \n",
      " dropout (Dropout)              (None, 20)           0           ['dense[0][0]']                  \n",
      "                                                                                                  \n",
      " dense_1 (Dense)                (None, 1)            21          ['dropout[0][0]']                \n",
      "                                                                                                  \n",
      "==================================================================================================\n",
      "Total params: 195,529\n",
      "Trainable params: 195,529\n",
      "Non-trainable params: 0\n",
      "__________________________________________________________________________________________________\n",
      "None\n"
     ]
    },
    {
     "name": "stderr",
     "output_type": "stream",
     "text": [
      "2025-01-03 16:26:34.348845: I tensorflow/core/common_runtime/executor.cc:1197] [/device:CPU:0] (DEBUG INFO) Executor start aborting (this does not indicate an error and you can ignore this message): INVALID_ARGUMENT: You must feed a value for placeholder tensor 'gradients/split_2_grad/concat/split_2/split_dim' with dtype int32\n",
      "\t [[{{node gradients/split_2_grad/concat/split_2/split_dim}}]]\n",
      "2025-01-03 16:26:34.349742: I tensorflow/core/common_runtime/executor.cc:1197] [/device:CPU:0] (DEBUG INFO) Executor start aborting (this does not indicate an error and you can ignore this message): INVALID_ARGUMENT: You must feed a value for placeholder tensor 'gradients/split_grad/concat/split/split_dim' with dtype int32\n",
      "\t [[{{node gradients/split_grad/concat/split/split_dim}}]]\n",
      "2025-01-03 16:26:34.350588: I tensorflow/core/common_runtime/executor.cc:1197] [/device:CPU:0] (DEBUG INFO) Executor start aborting (this does not indicate an error and you can ignore this message): INVALID_ARGUMENT: You must feed a value for placeholder tensor 'gradients/split_1_grad/concat/split_1/split_dim' with dtype int32\n",
      "\t [[{{node gradients/split_1_grad/concat/split_1/split_dim}}]]\n",
      "2025-01-03 16:26:34.469042: I tensorflow/core/common_runtime/executor.cc:1197] [/device:CPU:0] (DEBUG INFO) Executor start aborting (this does not indicate an error and you can ignore this message): INVALID_ARGUMENT: You must feed a value for placeholder tensor 'gradients/split_2_grad/concat/split_2/split_dim' with dtype int32\n",
      "\t [[{{node gradients/split_2_grad/concat/split_2/split_dim}}]]\n",
      "2025-01-03 16:26:34.469721: I tensorflow/core/common_runtime/executor.cc:1197] [/device:CPU:0] (DEBUG INFO) Executor start aborting (this does not indicate an error and you can ignore this message): INVALID_ARGUMENT: You must feed a value for placeholder tensor 'gradients/split_grad/concat/split/split_dim' with dtype int32\n",
      "\t [[{{node gradients/split_grad/concat/split/split_dim}}]]\n",
      "2025-01-03 16:26:34.470351: I tensorflow/core/common_runtime/executor.cc:1197] [/device:CPU:0] (DEBUG INFO) Executor start aborting (this does not indicate an error and you can ignore this message): INVALID_ARGUMENT: You must feed a value for placeholder tensor 'gradients/split_1_grad/concat/split_1/split_dim' with dtype int32\n",
      "\t [[{{node gradients/split_1_grad/concat/split_1/split_dim}}]]\n",
      "/opt/anaconda3/envs/tf_env/lib/python3.8/site-packages/keras/optimizers/legacy/adam.py:117: UserWarning: The `lr` argument is deprecated, use `learning_rate` instead.\n",
      "  super().__init__(name, **kwargs)\n"
     ]
    }
   ],
   "source": [
    "model=my_model(long_term_back=long_term_back,short_term_back=short_term_back,wenben_sort=wenben_sort)\n"
   ]
  },
  {
   "cell_type": "markdown",
   "id": "e025ba5e-a33c-4474-9138-18ad1474565b",
   "metadata": {},
   "source": [
    "# 添加输出模型参数的代码块"
   ]
  },
  {
   "cell_type": "code",
   "execution_count": 26,
   "id": "f42bfef1-b9f0-4103-9a4d-c90f8bb13126",
   "metadata": {},
   "outputs": [
    {
     "data": {
      "image/png": "[encoded data removed]",
      "text/plain": [
       "<IPython.core.display.Image object>"
      ]
     },
     "execution_count": 26,
     "metadata": {},
     "output_type": "execute_result"
    }
   ],
   "source": [
    "plot_model(model, to_file='model_structure.png', show_shapes=True, show_layer_names=True)"
   ]
  },
  {
   "cell_type": "markdown",
   "id": "8620eccf",
   "metadata": {},
   "source": [
    "# model.fit(输入自变量x，因变量y)"
   ]
  },
  {
   "cell_type": "code",
   "execution_count": 28,
   "id": "6ebf83ca",
   "metadata": {},
   "outputs": [
    {
     "name": "stdout",
     "output_type": "stream",
     "text": [
      "Epoch 1/20\n"
     ]
    },
    {
     "name": "stderr",
     "output_type": "stream",
     "text": [
      "2025-01-03 16:26:35.144017: I tensorflow/core/common_runtime/executor.cc:1197] [/device:CPU:0] (DEBUG INFO) Executor start aborting (this does not indicate an error and you can ignore this message): INVALID_ARGUMENT: You must feed a value for placeholder tensor 'gradients/split_2_grad/concat/split_2/split_dim' with dtype int32\n",
      "\t [[{{node gradients/split_2_grad/concat/split_2/split_dim}}]]\n",
      "2025-01-03 16:26:35.144943: I tensorflow/core/common_runtime/executor.cc:1197] [/device:CPU:0] (DEBUG INFO) Executor start aborting (this does not indicate an error and you can ignore this message): INVALID_ARGUMENT: You must feed a value for placeholder tensor 'gradients/split_grad/concat/split/split_dim' with dtype int32\n",
      "\t [[{{node gradients/split_grad/concat/split/split_dim}}]]\n",
      "2025-01-03 16:26:35.145898: I tensorflow/core/common_runtime/executor.cc:1197] [/device:CPU:0] (DEBUG INFO) Executor start aborting (this does not indicate an error and you can ignore this message): INVALID_ARGUMENT: You must feed a value for placeholder tensor 'gradients/split_1_grad/concat/split_1/split_dim' with dtype int32\n",
      "\t [[{{node gradients/split_1_grad/concat/split_1/split_dim}}]]\n",
      "2025-01-03 16:26:35.262052: I tensorflow/core/common_runtime/executor.cc:1197] [/device:CPU:0] (DEBUG INFO) Executor start aborting (this does not indicate an error and you can ignore this message): INVALID_ARGUMENT: You must feed a value for placeholder tensor 'gradients/split_2_grad/concat/split_2/split_dim' with dtype int32\n",
      "\t [[{{node gradients/split_2_grad/concat/split_2/split_dim}}]]\n",
      "2025-01-03 16:26:35.262975: I tensorflow/core/common_runtime/executor.cc:1197] [/device:CPU:0] (DEBUG INFO) Executor start aborting (this does not indicate an error and you can ignore this message): INVALID_ARGUMENT: You must feed a value for placeholder tensor 'gradients/split_grad/concat/split/split_dim' with dtype int32\n",
      "\t [[{{node gradients/split_grad/concat/split/split_dim}}]]\n",
      "2025-01-03 16:26:35.263741: I tensorflow/core/common_runtime/executor.cc:1197] [/device:CPU:0] (DEBUG INFO) Executor start aborting (this does not indicate an error and you can ignore this message): INVALID_ARGUMENT: You must feed a value for placeholder tensor 'gradients/split_1_grad/concat/split_1/split_dim' with dtype int32\n",
      "\t [[{{node gradients/split_1_grad/concat/split_1/split_dim}}]]\n",
      "2025-01-03 16:26:35.380434: I tensorflow/core/common_runtime/executor.cc:1197] [/device:CPU:0] (DEBUG INFO) Executor start aborting (this does not indicate an error and you can ignore this message): INVALID_ARGUMENT: You must feed a value for placeholder tensor 'gradients/split_2_grad/concat/split_2/split_dim' with dtype int32\n",
      "\t [[{{node gradients/split_2_grad/concat/split_2/split_dim}}]]\n",
      "2025-01-03 16:26:35.381610: I tensorflow/core/common_runtime/executor.cc:1197] [/device:CPU:0] (DEBUG INFO) Executor start aborting (this does not indicate an error and you can ignore this message): INVALID_ARGUMENT: You must feed a value for placeholder tensor 'gradients/split_grad/concat/split/split_dim' with dtype int32\n",
      "\t [[{{node gradients/split_grad/concat/split/split_dim}}]]\n",
      "2025-01-03 16:26:35.382427: I tensorflow/core/common_runtime/executor.cc:1197] [/device:CPU:0] (DEBUG INFO) Executor start aborting (this does not indicate an error and you can ignore this message): INVALID_ARGUMENT: You must feed a value for placeholder tensor 'gradients/split_1_grad/concat/split_1/split_dim' with dtype int32\n",
      "\t [[{{node gradients/split_1_grad/concat/split_1/split_dim}}]]\n",
      "2025-01-03 16:26:35.494490: I tensorflow/core/common_runtime/executor.cc:1197] [/device:CPU:0] (DEBUG INFO) Executor start aborting (this does not indicate an error and you can ignore this message): INVALID_ARGUMENT: You must feed a value for placeholder tensor 'gradients/split_2_grad/concat/split_2/split_dim' with dtype int32\n",
      "\t [[{{node gradients/split_2_grad/concat/split_2/split_dim}}]]\n",
      "2025-01-03 16:26:35.495260: I tensorflow/core/common_runtime/executor.cc:1197] [/device:CPU:0] (DEBUG INFO) Executor start aborting (this does not indicate an error and you can ignore this message): INVALID_ARGUMENT: You must feed a value for placeholder tensor 'gradients/split_grad/concat/split/split_dim' with dtype int32\n",
      "\t [[{{node gradients/split_grad/concat/split/split_dim}}]]\n",
      "2025-01-03 16:26:35.495950: I tensorflow/core/common_runtime/executor.cc:1197] [/device:CPU:0] (DEBUG INFO) Executor start aborting (this does not indicate an error and you can ignore this message): INVALID_ARGUMENT: You must feed a value for placeholder tensor 'gradients/split_1_grad/concat/split_1/split_dim' with dtype int32\n",
      "\t [[{{node gradients/split_1_grad/concat/split_1/split_dim}}]]\n",
      "2025-01-03 16:26:36.373316: I tensorflow/core/common_runtime/executor.cc:1197] [/device:CPU:0] (DEBUG INFO) Executor start aborting (this does not indicate an error and you can ignore this message): INVALID_ARGUMENT: You must feed a value for placeholder tensor 'gradients/split_2_grad/concat/split_2/split_dim' with dtype int32\n",
      "\t [[{{node gradients/split_2_grad/concat/split_2/split_dim}}]]\n",
      "2025-01-03 16:26:36.374986: I tensorflow/core/common_runtime/executor.cc:1197] [/device:CPU:0] (DEBUG INFO) Executor start aborting (this does not indicate an error and you can ignore this message): INVALID_ARGUMENT: You must feed a value for placeholder tensor 'gradients/split_grad/concat/split/split_dim' with dtype int32\n",
      "\t [[{{node gradients/split_grad/concat/split/split_dim}}]]\n",
      "2025-01-03 16:26:36.375961: I tensorflow/core/common_runtime/executor.cc:1197] [/device:CPU:0] (DEBUG INFO) Executor start aborting (this does not indicate an error and you can ignore this message): INVALID_ARGUMENT: You must feed a value for placeholder tensor 'gradients/split_1_grad/concat/split_1/split_dim' with dtype int32\n",
      "\t [[{{node gradients/split_1_grad/concat/split_1/split_dim}}]]\n",
      "2025-01-03 16:26:36.492039: I tensorflow/core/common_runtime/executor.cc:1197] [/device:CPU:0] (DEBUG INFO) Executor start aborting (this does not indicate an error and you can ignore this message): INVALID_ARGUMENT: You must feed a value for placeholder tensor 'gradients/split_2_grad/concat/split_2/split_dim' with dtype int32\n",
      "\t [[{{node gradients/split_2_grad/concat/split_2/split_dim}}]]\n",
      "2025-01-03 16:26:36.492972: I tensorflow/core/common_runtime/executor.cc:1197] [/device:CPU:0] (DEBUG INFO) Executor start aborting (this does not indicate an error and you can ignore this message): INVALID_ARGUMENT: You must feed a value for placeholder tensor 'gradients/split_grad/concat/split/split_dim' with dtype int32\n",
      "\t [[{{node gradients/split_grad/concat/split/split_dim}}]]\n",
      "2025-01-03 16:26:36.493760: I tensorflow/core/common_runtime/executor.cc:1197] [/device:CPU:0] (DEBUG INFO) Executor start aborting (this does not indicate an error and you can ignore this message): INVALID_ARGUMENT: You must feed a value for placeholder tensor 'gradients/split_1_grad/concat/split_1/split_dim' with dtype int32\n",
      "\t [[{{node gradients/split_1_grad/concat/split_1/split_dim}}]]\n",
      "2025-01-03 16:26:36.650636: I tensorflow/core/common_runtime/executor.cc:1197] [/device:CPU:0] (DEBUG INFO) Executor start aborting (this does not indicate an error and you can ignore this message): INVALID_ARGUMENT: You must feed a value for placeholder tensor 'gradients/split_2_grad/concat/split_2/split_dim' with dtype int32\n",
      "\t [[{{node gradients/split_2_grad/concat/split_2/split_dim}}]]\n",
      "2025-01-03 16:26:36.651521: I tensorflow/core/common_runtime/executor.cc:1197] [/device:CPU:0] (DEBUG INFO) Executor start aborting (this does not indicate an error and you can ignore this message): INVALID_ARGUMENT: You must feed a value for placeholder tensor 'gradients/split_grad/concat/split/split_dim' with dtype int32\n",
      "\t [[{{node gradients/split_grad/concat/split/split_dim}}]]\n",
      "2025-01-03 16:26:36.652347: I tensorflow/core/common_runtime/executor.cc:1197] [/device:CPU:0] (DEBUG INFO) Executor start aborting (this does not indicate an error and you can ignore this message): INVALID_ARGUMENT: You must feed a value for placeholder tensor 'gradients/split_1_grad/concat/split_1/split_dim' with dtype int32\n",
      "\t [[{{node gradients/split_1_grad/concat/split_1/split_dim}}]]\n",
      "2025-01-03 16:26:36.770829: I tensorflow/core/common_runtime/executor.cc:1197] [/device:CPU:0] (DEBUG INFO) Executor start aborting (this does not indicate an error and you can ignore this message): INVALID_ARGUMENT: You must feed a value for placeholder tensor 'gradients/split_2_grad/concat/split_2/split_dim' with dtype int32\n",
      "\t [[{{node gradients/split_2_grad/concat/split_2/split_dim}}]]\n",
      "2025-01-03 16:26:36.771772: I tensorflow/core/common_runtime/executor.cc:1197] [/device:CPU:0] (DEBUG INFO) Executor start aborting (this does not indicate an error and you can ignore this message): INVALID_ARGUMENT: You must feed a value for placeholder tensor 'gradients/split_grad/concat/split/split_dim' with dtype int32\n",
      "\t [[{{node gradients/split_grad/concat/split/split_dim}}]]\n",
      "2025-01-03 16:26:36.772602: I tensorflow/core/common_runtime/executor.cc:1197] [/device:CPU:0] (DEBUG INFO) Executor start aborting (this does not indicate an error and you can ignore this message): INVALID_ARGUMENT: You must feed a value for placeholder tensor 'gradients/split_1_grad/concat/split_1/split_dim' with dtype int32\n",
      "\t [[{{node gradients/split_1_grad/concat/split_1/split_dim}}]]\n"
     ]
    },
    {
     "name": "stdout",
     "output_type": "stream",
     "text": [
      "153/153 [==============================] - ETA: 0s - loss: 0.6947 - acc: 0.5229"
     ]
    },
    {
     "name": "stderr",
     "output_type": "stream",
     "text": [
      "2025-01-03 16:26:39.690854: I tensorflow/core/common_runtime/executor.cc:1197] [/device:CPU:0] (DEBUG INFO) Executor start aborting (this does not indicate an error and you can ignore this message): INVALID_ARGUMENT: You must feed a value for placeholder tensor 'gradients/split_2_grad/concat/split_2/split_dim' with dtype int32\n",
      "\t [[{{node gradients/split_2_grad/concat/split_2/split_dim}}]]\n",
      "2025-01-03 16:26:39.691713: I tensorflow/core/common_runtime/executor.cc:1197] [/device:CPU:0] (DEBUG INFO) Executor start aborting (this does not indicate an error and you can ignore this message): INVALID_ARGUMENT: You must feed a value for placeholder tensor 'gradients/split_grad/concat/split/split_dim' with dtype int32\n",
      "\t [[{{node gradients/split_grad/concat/split/split_dim}}]]\n",
      "2025-01-03 16:26:39.692559: I tensorflow/core/common_runtime/executor.cc:1197] [/device:CPU:0] (DEBUG INFO) Executor start aborting (this does not indicate an error and you can ignore this message): INVALID_ARGUMENT: You must feed a value for placeholder tensor 'gradients/split_1_grad/concat/split_1/split_dim' with dtype int32\n",
      "\t [[{{node gradients/split_1_grad/concat/split_1/split_dim}}]]\n",
      "2025-01-03 16:26:39.801192: I tensorflow/core/common_runtime/executor.cc:1197] [/device:CPU:0] (DEBUG INFO) Executor start aborting (this does not indicate an error and you can ignore this message): INVALID_ARGUMENT: You must feed a value for placeholder tensor 'gradients/split_2_grad/concat/split_2/split_dim' with dtype int32\n",
      "\t [[{{node gradients/split_2_grad/concat/split_2/split_dim}}]]\n",
      "2025-01-03 16:26:39.802022: I tensorflow/core/common_runtime/executor.cc:1197] [/device:CPU:0] (DEBUG INFO) Executor start aborting (this does not indicate an error and you can ignore this message): INVALID_ARGUMENT: You must feed a value for placeholder tensor 'gradients/split_grad/concat/split/split_dim' with dtype int32\n",
      "\t [[{{node gradients/split_grad/concat/split/split_dim}}]]\n",
      "2025-01-03 16:26:39.802764: I tensorflow/core/common_runtime/executor.cc:1197] [/device:CPU:0] (DEBUG INFO) Executor start aborting (this does not indicate an error and you can ignore this message): INVALID_ARGUMENT: You must feed a value for placeholder tensor 'gradients/split_1_grad/concat/split_1/split_dim' with dtype int32\n",
      "\t [[{{node gradients/split_1_grad/concat/split_1/split_dim}}]]\n",
      "2025-01-03 16:26:39.912215: I tensorflow/core/common_runtime/executor.cc:1197] [/device:CPU:0] (DEBUG INFO) Executor start aborting (this does not indicate an error and you can ignore this message): INVALID_ARGUMENT: You must feed a value for placeholder tensor 'gradients/split_2_grad/concat/split_2/split_dim' with dtype int32\n",
      "\t [[{{node gradients/split_2_grad/concat/split_2/split_dim}}]]\n",
      "2025-01-03 16:26:39.912919: I tensorflow/core/common_runtime/executor.cc:1197] [/device:CPU:0] (DEBUG INFO) Executor start aborting (this does not indicate an error and you can ignore this message): INVALID_ARGUMENT: You must feed a value for placeholder tensor 'gradients/split_grad/concat/split/split_dim' with dtype int32\n",
      "\t [[{{node gradients/split_grad/concat/split/split_dim}}]]\n",
      "2025-01-03 16:26:39.913801: I tensorflow/core/common_runtime/executor.cc:1197] [/device:CPU:0] (DEBUG INFO) Executor start aborting (this does not indicate an error and you can ignore this message): INVALID_ARGUMENT: You must feed a value for placeholder tensor 'gradients/split_1_grad/concat/split_1/split_dim' with dtype int32\n",
      "\t [[{{node gradients/split_1_grad/concat/split_1/split_dim}}]]\n",
      "2025-01-03 16:26:40.020004: I tensorflow/core/common_runtime/executor.cc:1197] [/device:CPU:0] (DEBUG INFO) Executor start aborting (this does not indicate an error and you can ignore this message): INVALID_ARGUMENT: You must feed a value for placeholder tensor 'gradients/split_2_grad/concat/split_2/split_dim' with dtype int32\n",
      "\t [[{{node gradients/split_2_grad/concat/split_2/split_dim}}]]\n",
      "2025-01-03 16:26:40.020710: I tensorflow/core/common_runtime/executor.cc:1197] [/device:CPU:0] (DEBUG INFO) Executor start aborting (this does not indicate an error and you can ignore this message): INVALID_ARGUMENT: You must feed a value for placeholder tensor 'gradients/split_grad/concat/split/split_dim' with dtype int32\n",
      "\t [[{{node gradients/split_grad/concat/split/split_dim}}]]\n",
      "2025-01-03 16:26:40.021374: I tensorflow/core/common_runtime/executor.cc:1197] [/device:CPU:0] (DEBUG INFO) Executor start aborting (this does not indicate an error and you can ignore this message): INVALID_ARGUMENT: You must feed a value for placeholder tensor 'gradients/split_1_grad/concat/split_1/split_dim' with dtype int32\n",
      "\t [[{{node gradients/split_1_grad/concat/split_1/split_dim}}]]\n"
     ]
    },
    {
     "name": "stdout",
     "output_type": "stream",
     "text": [
      "153/153 [==============================] - 5s 14ms/step - loss: 0.6947 - acc: 0.5229 - val_loss: 0.7172 - val_acc: 0.4779\n",
      "Epoch 2/20\n",
      "153/153 [==============================] - 1s 8ms/step - loss: 0.6898 - acc: 0.5466 - val_loss: 0.7017 - val_acc: 0.4779\n",
      "Epoch 3/20\n",
      "153/153 [==============================] - 1s 8ms/step - loss: 0.6846 - acc: 0.5655 - val_loss: 0.6814 - val_acc: 0.5686\n",
      "Epoch 4/20\n",
      "153/153 [==============================] - 1s 9ms/step - loss: 0.6793 - acc: 0.5827 - val_loss: 0.7037 - val_acc: 0.5294\n",
      "Epoch 5/20\n",
      "153/153 [==============================] - 1s 8ms/step - loss: 0.6697 - acc: 0.5884 - val_loss: 0.6885 - val_acc: 0.5686\n",
      "Epoch 6/20\n",
      "153/153 [==============================] - 1s 8ms/step - loss: 0.6594 - acc: 0.6105 - val_loss: 0.6868 - val_acc: 0.5711\n",
      "Epoch 7/20\n",
      "153/153 [==============================] - 1s 8ms/step - loss: 0.6588 - acc: 0.5990 - val_loss: 0.6833 - val_acc: 0.5735\n",
      "Epoch 8/20\n",
      "153/153 [==============================] - 1s 8ms/step - loss: 0.6560 - acc: 0.6015 - val_loss: 0.7096 - val_acc: 0.5466\n",
      "Epoch 9/20\n",
      "153/153 [==============================] - 1s 8ms/step - loss: 0.6532 - acc: 0.6064 - val_loss: 0.6776 - val_acc: 0.5931\n",
      "Epoch 10/20\n",
      "153/153 [==============================] - 2s 11ms/step - loss: 0.6509 - acc: 0.6129 - val_loss: 0.6821 - val_acc: 0.6176\n",
      "Epoch 11/20\n",
      "153/153 [==============================] - 1s 8ms/step - loss: 0.6499 - acc: 0.6146 - val_loss: 0.6633 - val_acc: 0.6078\n",
      "Epoch 12/20\n",
      "153/153 [==============================] - 1s 8ms/step - loss: 0.6302 - acc: 0.6538 - val_loss: 0.7019 - val_acc: 0.5809\n",
      "Epoch 13/20\n",
      "153/153 [==============================] - 1s 8ms/step - loss: 0.6245 - acc: 0.6424 - val_loss: 0.6846 - val_acc: 0.5833\n",
      "Epoch 14/20\n",
      "153/153 [==============================] - 1s 8ms/step - loss: 0.6189 - acc: 0.6416 - val_loss: 0.6974 - val_acc: 0.6005\n",
      "Epoch 15/20\n",
      "153/153 [==============================] - 1s 8ms/step - loss: 0.6187 - acc: 0.6506 - val_loss: 0.6782 - val_acc: 0.6348\n",
      "Epoch 16/20\n",
      "153/153 [==============================] - 1s 8ms/step - loss: 0.6079 - acc: 0.6645 - val_loss: 0.7136 - val_acc: 0.6103\n",
      "Epoch 17/20\n",
      "153/153 [==============================] - 1s 8ms/step - loss: 0.5939 - acc: 0.6800 - val_loss: 0.7193 - val_acc: 0.5907\n",
      "Epoch 18/20\n",
      "153/153 [==============================] - 1s 8ms/step - loss: 0.5926 - acc: 0.6653 - val_loss: 0.7177 - val_acc: 0.6029\n",
      "Epoch 19/20\n",
      "153/153 [==============================] - 1s 8ms/step - loss: 0.5822 - acc: 0.6899 - val_loss: 0.7149 - val_acc: 0.5784\n",
      "Epoch 20/20\n",
      "153/153 [==============================] - 1s 8ms/step - loss: 0.5650 - acc: 0.6907 - val_loss: 0.7264 - val_acc: 0.6152\n"
     ]
    }
   ],
   "source": [
    "history=model.fit(x=[fif_train,daily_train,wenben_long_term_train,wenben_short_term_train],y=target_train,batch_size=batch_size,validation_split=0.25,epochs=epochs)\n"
   ]
  },
  {
   "cell_type": "markdown",
   "id": "0cd0ae96",
   "metadata": {},
   "source": [
    "# model.evaluate(输入测试数据)，进行模型预测性能测试"
   ]
  },
  {
   "cell_type": "code",
   "execution_count": 30,
   "id": "47bd90e9",
   "metadata": {},
   "outputs": [
    {
     "name": "stderr",
     "output_type": "stream",
     "text": [
      "2025-01-03 16:27:05.134918: I tensorflow/core/common_runtime/executor.cc:1197] [/device:CPU:0] (DEBUG INFO) Executor start aborting (this does not indicate an error and you can ignore this message): INVALID_ARGUMENT: You must feed a value for placeholder tensor 'gradients/split_2_grad/concat/split_2/split_dim' with dtype int32\n",
      "\t [[{{node gradients/split_2_grad/concat/split_2/split_dim}}]]\n",
      "2025-01-03 16:27:05.135634: I tensorflow/core/common_runtime/executor.cc:1197] [/device:CPU:0] (DEBUG INFO) Executor start aborting (this does not indicate an error and you can ignore this message): INVALID_ARGUMENT: You must feed a value for placeholder tensor 'gradients/split_grad/concat/split/split_dim' with dtype int32\n",
      "\t [[{{node gradients/split_grad/concat/split/split_dim}}]]\n",
      "2025-01-03 16:27:05.136583: I tensorflow/core/common_runtime/executor.cc:1197] [/device:CPU:0] (DEBUG INFO) Executor start aborting (this does not indicate an error and you can ignore this message): INVALID_ARGUMENT: You must feed a value for placeholder tensor 'gradients/split_1_grad/concat/split_1/split_dim' with dtype int32\n",
      "\t [[{{node gradients/split_1_grad/concat/split_1/split_dim}}]]\n",
      "2025-01-03 16:27:05.243199: I tensorflow/core/common_runtime/executor.cc:1197] [/device:CPU:0] (DEBUG INFO) Executor start aborting (this does not indicate an error and you can ignore this message): INVALID_ARGUMENT: You must feed a value for placeholder tensor 'gradients/split_2_grad/concat/split_2/split_dim' with dtype int32\n",
      "\t [[{{node gradients/split_2_grad/concat/split_2/split_dim}}]]\n",
      "2025-01-03 16:27:05.243885: I tensorflow/core/common_runtime/executor.cc:1197] [/device:CPU:0] (DEBUG INFO) Executor start aborting (this does not indicate an error and you can ignore this message): INVALID_ARGUMENT: You must feed a value for placeholder tensor 'gradients/split_grad/concat/split/split_dim' with dtype int32\n",
      "\t [[{{node gradients/split_grad/concat/split/split_dim}}]]\n",
      "2025-01-03 16:27:05.244504: I tensorflow/core/common_runtime/executor.cc:1197] [/device:CPU:0] (DEBUG INFO) Executor start aborting (this does not indicate an error and you can ignore this message): INVALID_ARGUMENT: You must feed a value for placeholder tensor 'gradients/split_1_grad/concat/split_1/split_dim' with dtype int32\n",
      "\t [[{{node gradients/split_1_grad/concat/split_1/split_dim}}]]\n",
      "2025-01-03 16:27:05.351870: I tensorflow/core/common_runtime/executor.cc:1197] [/device:CPU:0] (DEBUG INFO) Executor start aborting (this does not indicate an error and you can ignore this message): INVALID_ARGUMENT: You must feed a value for placeholder tensor 'gradients/split_2_grad/concat/split_2/split_dim' with dtype int32\n",
      "\t [[{{node gradients/split_2_grad/concat/split_2/split_dim}}]]\n",
      "2025-01-03 16:27:05.352573: I tensorflow/core/common_runtime/executor.cc:1197] [/device:CPU:0] (DEBUG INFO) Executor start aborting (this does not indicate an error and you can ignore this message): INVALID_ARGUMENT: You must feed a value for placeholder tensor 'gradients/split_grad/concat/split/split_dim' with dtype int32\n",
      "\t [[{{node gradients/split_grad/concat/split/split_dim}}]]\n",
      "2025-01-03 16:27:05.353365: I tensorflow/core/common_runtime/executor.cc:1197] [/device:CPU:0] (DEBUG INFO) Executor start aborting (this does not indicate an error and you can ignore this message): INVALID_ARGUMENT: You must feed a value for placeholder tensor 'gradients/split_1_grad/concat/split_1/split_dim' with dtype int32\n",
      "\t [[{{node gradients/split_1_grad/concat/split_1/split_dim}}]]\n",
      "2025-01-03 16:27:05.472490: I tensorflow/core/common_runtime/executor.cc:1197] [/device:CPU:0] (DEBUG INFO) Executor start aborting (this does not indicate an error and you can ignore this message): INVALID_ARGUMENT: You must feed a value for placeholder tensor 'gradients/split_2_grad/concat/split_2/split_dim' with dtype int32\n",
      "\t [[{{node gradients/split_2_grad/concat/split_2/split_dim}}]]\n",
      "2025-01-03 16:27:05.473403: I tensorflow/core/common_runtime/executor.cc:1197] [/device:CPU:0] (DEBUG INFO) Executor start aborting (this does not indicate an error and you can ignore this message): INVALID_ARGUMENT: You must feed a value for placeholder tensor 'gradients/split_grad/concat/split/split_dim' with dtype int32\n",
      "\t [[{{node gradients/split_grad/concat/split/split_dim}}]]\n",
      "2025-01-03 16:27:05.474290: I tensorflow/core/common_runtime/executor.cc:1197] [/device:CPU:0] (DEBUG INFO) Executor start aborting (this does not indicate an error and you can ignore this message): INVALID_ARGUMENT: You must feed a value for placeholder tensor 'gradients/split_1_grad/concat/split_1/split_dim' with dtype int32\n",
      "\t [[{{node gradients/split_1_grad/concat/split_1/split_dim}}]]\n"
     ]
    },
    {
     "name": "stdout",
     "output_type": "stream",
     "text": [
      "13/13 [==============================] - 1s 8ms/step - loss: 0.7651 - acc: 0.6148\n",
      "0.7651260495185852 0.6147959232330322\n"
     ]
    }
   ],
   "source": [
    "loss,accuracy = model.evaluate([fif_test,daily_test,wenben_long_term_test,wenben_short_term_test],y=target_test)\n",
    "print(loss,accuracy)"
   ]
  },
  {
   "cell_type": "markdown",
   "id": "d9607cca",
   "metadata": {},
   "source": [
    "# 构建y的函数"
   ]
  },
  {
   "cell_type": "code",
   "execution_count": 32,
   "id": "fc23d49f",
   "metadata": {},
   "outputs": [],
   "source": [
    "def gen_y_pred():\n",
    "    y_predict=model.predict([fif_test,daily_test,wenben_long_term_test,wenben_short_term_test],batch_size=1).reshape(test_num-wenben_back).tolist() ###batch_size要设为1，不然evaluate和predict结果不同\n",
    "    y_pred=[]\n",
    "    for i,v in enumerate(y_predict):\n",
    "        if v>0.5:\n",
    "            y_pred.append(1)\n",
    "        if v<0.5:\n",
    "            y_pred.append(0)\n",
    "    return y_pred"
   ]
  },
  {
   "cell_type": "markdown",
   "id": "915e4535",
   "metadata": {},
   "source": [
    "# 制作y"
   ]
  },
  {
   "cell_type": "code",
   "execution_count": 34,
   "id": "191b4fa7",
   "metadata": {},
   "outputs": [
    {
     "name": "stderr",
     "output_type": "stream",
     "text": [
      "2025-01-03 16:27:06.201003: I tensorflow/core/common_runtime/executor.cc:1197] [/device:CPU:0] (DEBUG INFO) Executor start aborting (this does not indicate an error and you can ignore this message): INVALID_ARGUMENT: You must feed a value for placeholder tensor 'gradients/split_2_grad/concat/split_2/split_dim' with dtype int32\n",
      "\t [[{{node gradients/split_2_grad/concat/split_2/split_dim}}]]\n",
      "2025-01-03 16:27:06.203393: I tensorflow/core/common_runtime/executor.cc:1197] [/device:CPU:0] (DEBUG INFO) Executor start aborting (this does not indicate an error and you can ignore this message): INVALID_ARGUMENT: You must feed a value for placeholder tensor 'gradients/split_grad/concat/split/split_dim' with dtype int32\n",
      "\t [[{{node gradients/split_grad/concat/split/split_dim}}]]\n",
      "2025-01-03 16:27:06.204306: I tensorflow/core/common_runtime/executor.cc:1197] [/device:CPU:0] (DEBUG INFO) Executor start aborting (this does not indicate an error and you can ignore this message): INVALID_ARGUMENT: You must feed a value for placeholder tensor 'gradients/split_1_grad/concat/split_1/split_dim' with dtype int32\n",
      "\t [[{{node gradients/split_1_grad/concat/split_1/split_dim}}]]\n",
      "2025-01-03 16:27:06.336788: I tensorflow/core/common_runtime/executor.cc:1197] [/device:CPU:0] (DEBUG INFO) Executor start aborting (this does not indicate an error and you can ignore this message): INVALID_ARGUMENT: You must feed a value for placeholder tensor 'gradients/split_2_grad/concat/split_2/split_dim' with dtype int32\n",
      "\t [[{{node gradients/split_2_grad/concat/split_2/split_dim}}]]\n",
      "2025-01-03 16:27:06.339188: I tensorflow/core/common_runtime/executor.cc:1197] [/device:CPU:0] (DEBUG INFO) Executor start aborting (this does not indicate an error and you can ignore this message): INVALID_ARGUMENT: You must feed a value for placeholder tensor 'gradients/split_grad/concat/split/split_dim' with dtype int32\n",
      "\t [[{{node gradients/split_grad/concat/split/split_dim}}]]\n",
      "2025-01-03 16:27:06.340098: I tensorflow/core/common_runtime/executor.cc:1197] [/device:CPU:0] (DEBUG INFO) Executor start aborting (this does not indicate an error and you can ignore this message): INVALID_ARGUMENT: You must feed a value for placeholder tensor 'gradients/split_1_grad/concat/split_1/split_dim' with dtype int32\n",
      "\t [[{{node gradients/split_1_grad/concat/split_1/split_dim}}]]\n",
      "2025-01-03 16:27:06.478963: I tensorflow/core/common_runtime/executor.cc:1197] [/device:CPU:0] (DEBUG INFO) Executor start aborting (this does not indicate an error and you can ignore this message): INVALID_ARGUMENT: You must feed a value for placeholder tensor 'gradients/split_2_grad/concat/split_2/split_dim' with dtype int32\n",
      "\t [[{{node gradients/split_2_grad/concat/split_2/split_dim}}]]\n",
      "2025-01-03 16:27:06.480246: I tensorflow/core/common_runtime/executor.cc:1197] [/device:CPU:0] (DEBUG INFO) Executor start aborting (this does not indicate an error and you can ignore this message): INVALID_ARGUMENT: You must feed a value for placeholder tensor 'gradients/split_grad/concat/split/split_dim' with dtype int32\n",
      "\t [[{{node gradients/split_grad/concat/split/split_dim}}]]\n",
      "2025-01-03 16:27:06.481334: I tensorflow/core/common_runtime/executor.cc:1197] [/device:CPU:0] (DEBUG INFO) Executor start aborting (this does not indicate an error and you can ignore this message): INVALID_ARGUMENT: You must feed a value for placeholder tensor 'gradients/split_1_grad/concat/split_1/split_dim' with dtype int32\n",
      "\t [[{{node gradients/split_1_grad/concat/split_1/split_dim}}]]\n",
      "2025-01-03 16:27:06.619208: I tensorflow/core/common_runtime/executor.cc:1197] [/device:CPU:0] (DEBUG INFO) Executor start aborting (this does not indicate an error and you can ignore this message): INVALID_ARGUMENT: You must feed a value for placeholder tensor 'gradients/split_2_grad/concat/split_2/split_dim' with dtype int32\n",
      "\t [[{{node gradients/split_2_grad/concat/split_2/split_dim}}]]\n",
      "2025-01-03 16:27:06.620036: I tensorflow/core/common_runtime/executor.cc:1197] [/device:CPU:0] (DEBUG INFO) Executor start aborting (this does not indicate an error and you can ignore this message): INVALID_ARGUMENT: You must feed a value for placeholder tensor 'gradients/split_grad/concat/split/split_dim' with dtype int32\n",
      "\t [[{{node gradients/split_grad/concat/split/split_dim}}]]\n",
      "2025-01-03 16:27:06.622418: I tensorflow/core/common_runtime/executor.cc:1197] [/device:CPU:0] (DEBUG INFO) Executor start aborting (this does not indicate an error and you can ignore this message): INVALID_ARGUMENT: You must feed a value for placeholder tensor 'gradients/split_1_grad/concat/split_1/split_dim' with dtype int32\n",
      "\t [[{{node gradients/split_1_grad/concat/split_1/split_dim}}]]\n"
     ]
    },
    {
     "name": "stdout",
     "output_type": "stream",
     "text": [
      "392/392 [==============================] - 2s 2ms/step\n",
      "[0, 0, 1, 0, 0, 1, 0, 1, 1, 0, 0, 0, 0, 1, 0, 0, 0, 0, 0, 0, 0, 0, 0, 0, 0, 0, 0, 0, 0, 0, 1, 0, 0, 0, 1, 0, 0, 0, 1, 0, 0, 1, 0, 0, 0, 0, 0, 0, 0, 0, 0, 0, 0, 1, 0, 0, 0, 0, 0, 0, 0, 0, 0, 0, 0, 0, 0, 1, 0, 1, 0, 0, 0, 0, 0, 0, 0, 0, 0, 1, 0, 1, 0, 1, 0, 1, 0, 0, 1, 0, 0, 1, 0, 0, 0, 0, 1, 0, 0, 0, 1, 1, 0, 0, 0, 0, 0, 0, 1, 0, 1, 0, 0, 0, 1, 1, 0, 1, 1, 1, 0, 0, 0, 0, 0, 0, 0, 1, 0, 0, 0, 1, 0, 0, 0, 0, 0, 1, 0, 0, 1, 0, 1, 0, 0, 0, 1, 0, 0, 0, 0, 1, 0, 0, 0, 0, 1, 1, 1, 1, 1, 1, 1, 1, 1, 1, 1, 1, 1, 1, 1, 0, 1, 0, 1, 1, 1, 0, 1, 1, 1, 1, 1, 1, 1, 1, 1, 1, 1, 1, 1, 1, 1, 0, 1, 1, 0, 0, 0, 1, 0, 0, 0, 0, 1, 1, 1, 1, 1, 0, 1, 0, 0, 0, 0, 0, 0, 0, 0, 1, 1, 0, 1, 1, 0, 0, 1, 1, 0, 1, 1, 1, 1, 1, 0, 0, 0, 1, 0, 0, 0, 1, 1, 1, 1, 1, 1, 1, 1, 1, 1, 1, 1, 1, 1, 1, 1, 1, 1, 1, 1, 1, 1, 1, 1, 1, 1, 0, 0, 0, 1, 1, 1, 0, 1, 0, 0, 1, 1, 0, 1, 1, 1, 1, 0, 1, 0, 1, 1, 1, 1, 1, 1, 0, 1, 1, 1, 1, 0, 1, 1, 1, 1, 1, 1, 1, 1, 1, 1, 1, 1, 0, 1, 1, 1, 1, 1, 1, 1, 1, 0, 1, 0, 1, 0, 1, 1, 1, 1, 1, 1, 1, 1, 1, 1, 1, 1, 1, 1, 1, 1, 1, 1, 0, 1, 1, 1, 1, 1, 1, 1, 1, 1, 1, 1, 1, 1, 1, 1, 0, 1, 1, 1, 1, 1, 1, 1, 1, 1, 1, 1, 1, 1, 1, 1, 1, 1, 1, 1, 1, 1, 1, 1, 1, 1, 1, 1, 1, 1, 1, 1, 1]\n"
     ]
    }
   ],
   "source": [
    "y_pred=gen_y_pred()\n",
    "print(y_pred)"
   ]
  },
  {
   "cell_type": "markdown",
   "id": "0e0f800a",
   "metadata": {},
   "source": [
    "#  构建使用测试集作为回测数据的类"
   ]
  },
  {
   "cell_type": "code",
   "execution_count": 36,
   "id": "31c753f6",
   "metadata": {},
   "outputs": [],
   "source": [
    "class Back_tes_trader:\n",
    "    def __init__(self,train_num,daily_back,wenben_back):\n",
    "        self.train_num=train_num\n",
    "        self.daily_back=daily_back\n",
    "        self.wenben_back = wenben_back\n",
    "    def daily_test_data(self,data):\n",
    "        while True:\n",
    "            samples = data.loc[\n",
    "                data.index >=self.train_num+self.wenben_back ,\n",
    "                ['open','close']]\n",
    "            print(data.index)\n",
    "            return samples\n",
    "        \n"
   ]
  },
  {
   "cell_type": "markdown",
   "id": "3d8bb8f4",
   "metadata": {},
   "source": [
    "# 回测数据集代入参数，形成回撤数据back_tes_trader"
   ]
  },
  {
   "cell_type": "code",
   "execution_count": 38,
   "id": "9555c139",
   "metadata": {},
   "outputs": [],
   "source": [
    "back_tes_trader=Back_tes_trader(train_num=train_num,daily_back=20,wenben_back=wenben_back)"
   ]
  },
  {
   "cell_type": "code",
   "execution_count": null,
   "id": "92271272",
   "metadata": {},
   "outputs": [],
   "source": []
  },
  {
   "cell_type": "code",
   "execution_count": null,
   "id": "7ff52054",
   "metadata": {},
   "outputs": [],
   "source": []
  },
  {
   "cell_type": "markdown",
   "id": "cc6e0ac1",
   "metadata": {},
   "source": [
    "# "
   ]
  },
  {
   "cell_type": "code",
   "execution_count": 40,
   "id": "9b72e4c5",
   "metadata": {},
   "outputs": [],
   "source": [
    "def split_back_trader(train_num=train_num):\n",
    "\n",
    "    daily_test_df=daily_df.loc[daily_df.index>=train_num]\n",
    "\n",
    "    return {'daily_test_df':daily_test_df}"
   ]
  },
  {
   "cell_type": "code",
   "execution_count": 41,
   "id": "0caaf456",
   "metadata": {},
   "outputs": [],
   "source": [
    "back_df=split_back_trader()['daily_test_df']"
   ]
  },
  {
   "cell_type": "code",
   "execution_count": 42,
   "id": "ff686572",
   "metadata": {},
   "outputs": [
    {
     "data": {
      "text/html": [
       "<div>\n",
       "<style scoped>\n",
       "    .dataframe tbody tr th:only-of-type {\n",
       "        vertical-align: middle;\n",
       "    }\n",
       "\n",
       "    .dataframe tbody tr th {\n",
       "        vertical-align: top;\n",
       "    }\n",
       "\n",
       "    .dataframe thead th {\n",
       "        text-align: right;\n",
       "    }\n",
       "</style>\n",
       "<table border=\"1\" class=\"dataframe\">\n",
       "  <thead>\n",
       "    <tr style=\"text-align: right;\">\n",
       "      <th></th>\n",
       "      <th>指数代码</th>\n",
       "      <th>trade_time</th>\n",
       "      <th>open</th>\n",
       "      <th>high</th>\n",
       "      <th>low</th>\n",
       "      <th>close</th>\n",
       "      <th>volume_rate</th>\n",
       "      <th>search_index</th>\n",
       "      <th>sector_score</th>\n",
       "    </tr>\n",
       "  </thead>\n",
       "  <tbody>\n",
       "    <tr>\n",
       "      <th>1650</th>\n",
       "      <td>300</td>\n",
       "      <td>2019-10-24</td>\n",
       "      <td>3877.924</td>\n",
       "      <td>3890.196</td>\n",
       "      <td>3852.583</td>\n",
       "      <td>3870.668</td>\n",
       "      <td>0.016182</td>\n",
       "      <td>1269</td>\n",
       "      <td>0.596683</td>\n",
       "    </tr>\n",
       "    <tr>\n",
       "      <th>1651</th>\n",
       "      <td>300</td>\n",
       "      <td>2019-10-25</td>\n",
       "      <td>3871.769</td>\n",
       "      <td>3899.722</td>\n",
       "      <td>3849.034</td>\n",
       "      <td>3896.792</td>\n",
       "      <td>0.085780</td>\n",
       "      <td>1191</td>\n",
       "      <td>0.632760</td>\n",
       "    </tr>\n",
       "    <tr>\n",
       "      <th>1652</th>\n",
       "      <td>300</td>\n",
       "      <td>2019-10-28</td>\n",
       "      <td>3904.982</td>\n",
       "      <td>3927.796</td>\n",
       "      <td>3897.818</td>\n",
       "      <td>3926.585</td>\n",
       "      <td>0.257604</td>\n",
       "      <td>1287</td>\n",
       "      <td>0.581904</td>\n",
       "    </tr>\n",
       "    <tr>\n",
       "      <th>1653</th>\n",
       "      <td>300</td>\n",
       "      <td>2019-10-29</td>\n",
       "      <td>3929.708</td>\n",
       "      <td>3932.375</td>\n",
       "      <td>3910.226</td>\n",
       "      <td>3910.226</td>\n",
       "      <td>-0.155524</td>\n",
       "      <td>1342</td>\n",
       "      <td>0.616206</td>\n",
       "    </tr>\n",
       "    <tr>\n",
       "      <th>1654</th>\n",
       "      <td>300</td>\n",
       "      <td>2019-10-30</td>\n",
       "      <td>3904.717</td>\n",
       "      <td>3908.100</td>\n",
       "      <td>3883.447</td>\n",
       "      <td>3891.226</td>\n",
       "      <td>-0.053298</td>\n",
       "      <td>1202</td>\n",
       "      <td>0.523138</td>\n",
       "    </tr>\n",
       "    <tr>\n",
       "      <th>...</th>\n",
       "      <td>...</td>\n",
       "      <td>...</td>\n",
       "      <td>...</td>\n",
       "      <td>...</td>\n",
       "      <td>...</td>\n",
       "      <td>...</td>\n",
       "      <td>...</td>\n",
       "      <td>...</td>\n",
       "      <td>...</td>\n",
       "    </tr>\n",
       "    <tr>\n",
       "      <th>2057</th>\n",
       "      <td>300</td>\n",
       "      <td>2021-06-28</td>\n",
       "      <td>5253.608</td>\n",
       "      <td>5260.637</td>\n",
       "      <td>5226.220</td>\n",
       "      <td>5251.760</td>\n",
       "      <td>-0.140303</td>\n",
       "      <td>3708</td>\n",
       "      <td>0.703872</td>\n",
       "    </tr>\n",
       "    <tr>\n",
       "      <th>2058</th>\n",
       "      <td>300</td>\n",
       "      <td>2021-06-29</td>\n",
       "      <td>5248.525</td>\n",
       "      <td>5248.525</td>\n",
       "      <td>5182.677</td>\n",
       "      <td>5190.545</td>\n",
       "      <td>-0.060294</td>\n",
       "      <td>3675</td>\n",
       "      <td>0.630577</td>\n",
       "    </tr>\n",
       "    <tr>\n",
       "      <th>2059</th>\n",
       "      <td>300</td>\n",
       "      <td>2021-06-30</td>\n",
       "      <td>5189.380</td>\n",
       "      <td>5231.426</td>\n",
       "      <td>5186.625</td>\n",
       "      <td>5224.041</td>\n",
       "      <td>-0.171060</td>\n",
       "      <td>3663</td>\n",
       "      <td>0.667921</td>\n",
       "    </tr>\n",
       "    <tr>\n",
       "      <th>2060</th>\n",
       "      <td>300</td>\n",
       "      <td>2021-07-01</td>\n",
       "      <td>5241.204</td>\n",
       "      <td>5252.264</td>\n",
       "      <td>5190.876</td>\n",
       "      <td>5229.664</td>\n",
       "      <td>0.226384</td>\n",
       "      <td>4019</td>\n",
       "      <td>0.761491</td>\n",
       "    </tr>\n",
       "    <tr>\n",
       "      <th>2061</th>\n",
       "      <td>300</td>\n",
       "      <td>2021-07-02</td>\n",
       "      <td>5186.661</td>\n",
       "      <td>5186.661</td>\n",
       "      <td>5074.362</td>\n",
       "      <td>5081.117</td>\n",
       "      <td>0.025038</td>\n",
       "      <td>3981</td>\n",
       "      <td>0.692760</td>\n",
       "    </tr>\n",
       "  </tbody>\n",
       "</table>\n",
       "<p>412 rows × 9 columns</p>\n",
       "</div>"
      ],
      "text/plain": [
       "      指数代码 trade_time      open      high       low     close  volume_rate  \\\n",
       "1650   300 2019-10-24  3877.924  3890.196  3852.583  3870.668     0.016182   \n",
       "1651   300 2019-10-25  3871.769  3899.722  3849.034  3896.792     0.085780   \n",
       "1652   300 2019-10-28  3904.982  3927.796  3897.818  3926.585     0.257604   \n",
       "1653   300 2019-10-29  3929.708  3932.375  3910.226  3910.226    -0.155524   \n",
       "1654   300 2019-10-30  3904.717  3908.100  3883.447  3891.226    -0.053298   \n",
       "...    ...        ...       ...       ...       ...       ...          ...   \n",
       "2057   300 2021-06-28  5253.608  5260.637  5226.220  5251.760    -0.140303   \n",
       "2058   300 2021-06-29  5248.525  5248.525  5182.677  5190.545    -0.060294   \n",
       "2059   300 2021-06-30  5189.380  5231.426  5186.625  5224.041    -0.171060   \n",
       "2060   300 2021-07-01  5241.204  5252.264  5190.876  5229.664     0.226384   \n",
       "2061   300 2021-07-02  5186.661  5186.661  5074.362  5081.117     0.025038   \n",
       "\n",
       "      search_index  sector_score  \n",
       "1650          1269      0.596683  \n",
       "1651          1191      0.632760  \n",
       "1652          1287      0.581904  \n",
       "1653          1342      0.616206  \n",
       "1654          1202      0.523138  \n",
       "...            ...           ...  \n",
       "2057          3708      0.703872  \n",
       "2058          3675      0.630577  \n",
       "2059          3663      0.667921  \n",
       "2060          4019      0.761491  \n",
       "2061          3981      0.692760  \n",
       "\n",
       "[412 rows x 9 columns]"
      ]
     },
     "execution_count": 42,
     "metadata": {},
     "output_type": "execute_result"
    }
   ],
   "source": [
    "back_df"
   ]
  },
  {
   "cell_type": "code",
   "execution_count": 43,
   "id": "ecd75b7e",
   "metadata": {},
   "outputs": [
    {
     "name": "stdout",
     "output_type": "stream",
     "text": [
      "Index([1650, 1651, 1652, 1653, 1654, 1655, 1656, 1657, 1658, 1659,\n",
      "       ...\n",
      "       2052, 2053, 2054, 2055, 2056, 2057, 2058, 2059, 2060, 2061],\n",
      "      dtype='int64', length=412)\n"
     ]
    }
   ],
   "source": [
    "backtrader_df=back_tes_trader.daily_test_data(back_df)"
   ]
  },
  {
   "cell_type": "markdown",
   "id": "ba8c3651",
   "metadata": {},
   "source": [
    "# 形成day_rate_of_return日内收益率，和rate_of_return隔夜收益率"
   ]
  },
  {
   "cell_type": "code",
   "execution_count": 45,
   "id": "d84028e8",
   "metadata": {},
   "outputs": [
    {
     "name": "stdout",
     "output_type": "stream",
     "text": [
      "391\n",
      "          open     close  rate_of_return  day_rate_of_return\n",
      "1671  3894.174  3849.995       -0.010182           -0.011345\n",
      "1672  3850.966  3878.206        0.007328            0.007074\n",
      "1673  3893.435  3891.653        0.003467           -0.000458\n",
      "1674  3883.429  3875.619       -0.004120           -0.002011\n",
      "1675  3877.901  3862.303       -0.003436           -0.004022\n",
      "...        ...       ...             ...                 ...\n",
      "2057  5253.608  5251.760        0.002250           -0.000352\n",
      "2058  5248.525  5190.545       -0.011656           -0.011047\n",
      "2059  5189.380  5224.041        0.006453            0.006679\n",
      "2060  5241.204  5229.664        0.001076           -0.002202\n",
      "2061  5186.661  5081.117       -0.028405           -0.020349\n",
      "\n",
      "[391 rows x 4 columns]\n",
      "          open     close  rate_of_return  day_rate_of_return  last_close  \\\n",
      "1670  3894.539  3889.598             NaN           -0.001269         NaN   \n",
      "1671  3894.174  3849.995       -0.010182           -0.011345    3889.598   \n",
      "1672  3850.966  3878.206        0.007328            0.007074    3849.995   \n",
      "1673  3893.435  3891.653        0.003467           -0.000458    3878.206   \n",
      "1674  3883.429  3875.619       -0.004120           -0.002011    3891.653   \n",
      "...        ...       ...             ...                 ...         ...   \n",
      "2057  5253.608  5251.760        0.002250           -0.000352    5239.968   \n",
      "2058  5248.525  5190.545       -0.011656           -0.011047    5251.760   \n",
      "2059  5189.380  5224.041        0.006453            0.006679    5190.545   \n",
      "2060  5241.204  5229.664        0.001076           -0.002202    5224.041   \n",
      "2061  5186.661  5081.117       -0.028405           -0.020349    5229.664   \n",
      "\n",
      "      sale_rate_of_return  \n",
      "1670                  NaN  \n",
      "1671             0.001176  \n",
      "1672             0.000252  \n",
      "1673             0.003927  \n",
      "1674            -0.002113  \n",
      "...                   ...  \n",
      "2057             0.002603  \n",
      "2058            -0.000616  \n",
      "2059            -0.000224  \n",
      "2060             0.003285  \n",
      "2061            -0.008223  \n",
      "\n",
      "[392 rows x 6 columns]\n",
      "(392, 6)\n"
     ]
    }
   ],
   "source": [
    "backtrader_df['rate_of_return'] = backtrader_df['close'].rolling(2).apply(lambda x: x[1] / x[0] - 1, raw=True)\n",
    "backtrader_df['day_rate_of_return']=backtrader_df['close']/backtrader_df['open']-1\n",
    "\n",
    "clo_1=backtrader_df.loc[(backtrader_df.index<total_day-1),\"close\"].tolist()\n",
    "\n",
    "print(len(clo_1))\n",
    "print(backtrader_df.loc[(backtrader_df.index>=train_num+20+1),:])\n",
    "backtrader_df.loc[(backtrader_df.index>=train_num+20+1),'last_close']=clo_1\n",
    "backtrader_df['sale_rate_of_return']=backtrader_df['open']/backtrader_df['last_close']-1\n",
    "\n",
    "\n",
    "print(backtrader_df)\n",
    "print(backtrader_df.shape)\n",
    "trade_day_return_list=[]\n",
    "return_list=[]\n",
    "every_day_return_list=[]"
   ]
  },
  {
   "cell_type": "markdown",
   "id": "94506474",
   "metadata": {},
   "source": [
    "# 回测交易逻辑"
   ]
  },
  {
   "cell_type": "code",
   "execution_count": 47,
   "id": "4a2a5071",
   "metadata": {},
   "outputs": [],
   "source": [
    "def backtrader(list,df):\n",
    "    a=0\n",
    "\n",
    "    rate_of_return = 1\n",
    "    for i,v in enumerate(list):\n",
    "        if (v ==1)&(a==0):\n",
    "            b=(1 + df.loc[train_num+20 + i, 'day_rate_of_return'])\n",
    "            rate_of_return= rate_of_return * b\n",
    "            a=1\n",
    "            trade_day_return_list.append(b-1)\n",
    "            return_list.append(rate_of_return)\n",
    "            every_day_return_list.append(b - 1)\n",
    "\n",
    "        elif (v ==1)&(a==1):\n",
    "            b=(1 + df.loc[train_num+20 + i, 'rate_of_return'])\n",
    "            rate_of_return= rate_of_return *b\n",
    "            a=a\n",
    "            trade_day_return_list.append(b-1)\n",
    "            return_list.append(rate_of_return)\n",
    "            every_day_return_list.append(b - 1)\n",
    "        elif (v==0)&(a==0):\n",
    "            rate_of_return=rate_of_return\n",
    "            a=a\n",
    "            every_day_return_list.append(0)\n",
    "\n",
    "        elif (v==0)&(a==1):\n",
    "            a=0\n",
    "            b = (1 + df.loc[train_num+20 + i, 'sale_rate_of_return'])\n",
    "            rate_of_return=rate_of_return*b\n",
    "            trade_day_return_list.append(b-1)\n",
    "            every_day_return_list.append(b - 1)\n",
    "            return_list.append(rate_of_return)\n",
    "    return a,trade_day_return_list,rate_of_return,return_list,every_day_return_list"
   ]
  },
  {
   "cell_type": "code",
   "execution_count": null,
   "id": "80a6e92b",
   "metadata": {},
   "outputs": [],
   "source": []
  },
  {
   "cell_type": "code",
   "execution_count": 48,
   "id": "4eda96a9",
   "metadata": {},
   "outputs": [
    {
     "name": "stdout",
     "output_type": "stream",
     "text": [
      "[0.007073549857360417, 0.003926815646203341, -0.004022279062822931, -0.0013243393902548917, 0.00014235383897798215, 0.0039175622689848755, -0.0024471012989319973, 0.003586826415098221, 0.001737008458654321, -0.003906066948170639, -0.005897275369032173, 0.004543442523100127, 0.0031716682235249927, -0.004811935185165317, 0.0019398886513992686, 0.0036187848814250856, -0.004971534916611398, -0.006512244736163519, -0.0014356354258761028, 0.008962118425891896, 0.00854375594767709, -0.004736422136298435, -0.018226621339531235, 0.006532832366215491, -0.030258204807589117, 0.007352747068001708, 0.023822692521478617, 0.0014729427006603402, 0.013072846288865403, 0.004552063698816333, 0.009261832318076424, 0.021389795157594094, -0.003494146922331076, 0.0010401393702019757, 0.004799297418621951, -0.0061475833525044266, -0.00515173428290483, -0.007864039449423488, 0.008228890032081937, 0.0032635452102591778, 0.017840801456535438, 0.0003399170886837499, 0.005230792719345123, 0.002810308349282531, -0.006826832353330481, -0.0031595697359994013, 0.00047127184104756026, -0.0018984427723571784, -0.005315134281200562, -0.005444927884627582, -0.0015889948247161945, 0.0034297643900984554, 0.004418902852919793, -0.00041032844667199253, 0.001393849508510181, 0.004753003256849686, 0.001006085334170237, 0.012765353907342014, -0.0002935069814650193, 0.005797165813778538, 0.0015299163422530793, 0.018008010750020897, -0.0019718516760737215, 0.017290514828690817, -0.0008225799559447022, -0.015979828750957048, -0.048101484064918654, 0.006299027091706488, 0.02983782651487976, 0.0022942949230870813, 0.00498865604088472, -0.0004261371168822192, -0.043893434308709844, 0.005073474267859535, 0.008790645805960118, 0.024243376797019822, -0.0048850098140460485, 0.008353466199872095, 0.016243717313951578, 0.000941250738004662, -0.0029394015916068827, -0.003446993014367572, -0.004297924482506432, 0.009209153405079995, -0.009118981051330577, -0.007291878480510716, 0.004054741702518072, 0.016643364501330193, 0.02350812359486798, -0.0005129561935409699, -0.014976450083902138, -0.012977890504269562, 0.00848208885623336, 0.007842176567434134, 0.0012830516696387129, -0.01172229617650411, 0.005357905540221086, 0.02386636358160321, -0.0057903520967577116, 0.005379120325816, 0.0003645096096296374, -0.0055310951721209145, -0.016578041329888715, -0.01894161198154165, 0.005358541027393748, -0.012811464921206994, -0.00021560368817719056, -0.00034486828890933907, -0.012486454764596977, -0.01186568354027806, 0.003573523311490856, -0.019186312570032227, 0.0015244136289065402, 0.0027625687578747282, -0.003579199499684549, 0.0034356904559629253, 0.008860183244029152, -0.00013330643561315636, -0.002552355310893706, -0.011931607945358969, -0.00577557895664893, -0.002365901012014726, 0.019069277161811504, -0.016255457874843948, 0.0015785884454653232, 0.007249786746174491, 0.007555110233024909, 0.01484443425122195, 0.00012405038001173097, 0.01957378628893447, 0.0028231302759289534, -0.006164750485883164, 0.004963504130556906, 0.009643055144089585, 0.0031045117998436123, 0.0124894604562793, -0.006142024808257762, -0.012782940104368756, 0.0018105361761053818, 0.01243477354113387, -0.004118443652732062, 0.02154043786485027, 9.2755261493771e-06, -0.0019902726288669736, 0.0017512151329033276, -0.00862252749552117, -0.002460259227216488, -0.01340950549903508, -0.0004398406619541273, -0.010301739187636882, 0.009245282208527605, 0.0020801100746024037, 0.0017728660694424914, 0.012840675779143718, -0.0034898010514445854, 0.00937445999654396, -0.01626106633061475, 0.008530299371189765, -0.0014197771015855842, -0.00284899145302564, 0.015031009421425434, 0.019081641492841417, 0.010828223113321878, -0.004153980907861787, 0.005783703523280392, 0.0019798186230681747, -0.011459901065288491, 0.028522421146380816, 0.0023070381728957923, -0.015434433489140864, -0.0022621514550158484, 0.011073489015644755, -0.014677483332943608, 0.0004391705561521686, 0.013109509828855392, -0.0004654113976196861, 0.011106689929987201, -0.020077594378735686, 0.002727206107490554, -0.027290144379443992, -0.0046824122029114346, 0.01227268862931652, 0.0022251353354814096, -0.0025630553438112935, -0.0020515200810324874, 0.0017292820465228953, 0.014798809646690891, 0.003522828930650812, 0.01716995196231519, -0.006773399332853369, 0.0018135071175082729, -0.03140923389149586, -0.0031559673151481116, -0.02546746508932063, 0.005883144817683261, -0.02427929276917795, 0.015369434756399958, -0.012761903777674055, 0.019175718694563804, -0.03145640128146121, -0.016803813732481965, -0.04146691822375648, -0.021461705404993037, 0.0065606531001112245, 0.02490281020990448, 0.003541777491431697, -0.021536501683999565, 0.008701741063130486, 0.004232027565666652, 0.0026915079776774764, -0.01212205032936553, 0.00026043065724201675, -0.009455488294292547, -0.004760197442888692, 0.004542963107363018, 0.022662431209169887, 0.0017639971496570261, 0.0094815070785359, -0.009101171033827349, 0.012363616627257823, 0.00993586689460324, -0.004110193881419866, -0.007119954275415785, 0.0016587825836840153, -0.015036943912112966, -0.017395260734286544, -0.0016375133242489959, 0.008296954193459882, -0.006355423452624742, 0.003476882279033866, 0.024331775261513977, -0.0007179059948099198, -0.005532752418919373, -0.0048953127321930134, 0.00907973757988434, -0.011336098295515629, 0.002616186717303126, 0.005642252657881652, 0.008776103962266246, -0.007877356453671491, -0.012172369258526716, -0.012857025435456637, -0.0007267737151708253, 0.006136901087288038, 0.004277870461431688, -0.010223710826024357, 0.023556301314607175, 0.014557027662168043, 0.001147544303407022, -0.00017300813988807562, 0.002733808276131011, -0.01007710147207741, 0.00417596064624548, 0.031594844273824974, 0.00039767016052327797, 0.003315419916539497, -0.003211549589536511, 0.001969709583883983, 0.0018962519483005646, -0.009679726228452479, -0.0065573101115431465, 0.005135971667383998, -0.00088030218786328, -0.008623193719450084, 0.0008279631361454154, 0.0066871652908298, -0.008870966824029547, -0.011128479456152807, -0.01665886005388506, 0.004212388133351563, 0.00011250728161238399, -0.002367678687128949, 0.006241767567679135, 0.004926829668276511, 0.0016668628824605403, 0.01629061744686844, 0.0022503954222621303, -0.011656092433774634, 0.006453272247904707, 0.0010763698064391036, -0.02840469292099823]\n",
      "1.0303648960810434\n",
      "[1.0070735498573604, 1.011028142029818, 1.0069615047022067, 1.0056279459170592, 1.005771100915744, 1.0097112718319268, 1.0072404060670805, 1.0108532025619161, 1.012609063125224, 1.0086537443323325, 1.0027054354499993, 1.0072611699635665, 1.0104558682091305, 1.0055936200638382, 1.0075443597153195, 1.0111904460116223, 1.0061632774019318, 0.99961089589495, 0.9981758190807115, 1.0071215889811744, 1.0157261900470664, 1.0109152820361094, 0.9924897119840917, 0.9989734808976773, 0.9687463367153252, 0.9758692835022462, 0.9991171173842759, 1.0005887596494318, 1.0136693027026953, 1.0182835899381326, 1.0277147618003886, 1.0496973700357344, 1.0460295732008449, 1.0471175897423266, 1.0521430184877707, 1.0456748815828616, 1.0402878424466386, 1.0321069778148826, 1.0406000726366658, 1.0439961180195145, 1.0626218454824945, 1.0629830488065826, 1.0685432927990672, 1.0715462289363904, 1.064230962472598, 1.060868450531456, 1.0613684079592474, 1.0593534607763488, 1.053722854881068, 1.0479854099258568, 1.0463201665331066, 1.0499087981809236, 1.054548243164511, 1.0541155320219526, 1.0555848104381744, 1.060602008480068, 1.0616690646061913, 1.0752216459483661, 1.074906060888658, 1.081137469557865, 1.0827915194407638, 1.1022904407628846, 1.1001168875097462, 1.1191384748665267, 1.118217893989175, 1.100348963536972, 1.0474205454015486, 1.0540182757934429, 1.0854678902500803, 1.087958273719855, 1.093385723334278, 1.0929197910944963, 1.0449477880394011, 1.0502493037532759, 1.059481673390527, 1.0851670868080707, 1.0798660349391336, 1.0888866593623876, 1.1065742264440033, 1.1076157902513006, 1.1043600626345471, 1.1005533412132993, 1.0958232460637944, 1.1059148504416487, 1.0958300338760862, 1.0878393744337678, 1.0922502821109255, 1.1104290016827782, 1.136533103897663, 1.1359501122028544, 1.1189376120496453, 1.104416162239356, 1.1137839182617304, 1.1225184084067075, 1.123958657524814, 1.1107832812511622, 1.1167347531477627, 1.143387150790599, 1.136766536604613, 1.1428813405873703, 1.143297931818681, 1.1369742421477027, 1.1181254361703592, 1.0969463380117281, 1.1028243699688134, 1.0886955742387057, 1.0884608474575976, 1.08808547182759, 1.0744991418035996, 1.0617494750226577, 1.0655436615226144, 1.0450998077756248, 1.0466929721661655, 1.0495845334701588, 1.0458278610330858, 1.0494210018338173, 1.0587190642101976, 1.0585779301454321, 1.0558760631434305, 1.043277763919114, 1.037252230819883, 1.0347981947172717, 1.0545310482988777, 1.0373891632655403, 1.0390267738121222, 1.0465594963458258, 1.0544663687061375, 1.0701193253865204, 1.0702520740954926, 1.0912009594691265, 1.0942815619349266, 1.0875355891442953, 1.0929335765331407, 1.1034727952804768, 1.1068985395942315, 1.1207231051336068, 1.1138395960186886, 1.0996014511769074, 1.1015923193835613, 1.1152903704097483, 1.1106971098627811, 1.1346220119444492, 1.1346325361605907, 1.1323743080800484, 1.134357339104469, 1.1245763117582945, 1.1218095625105822, 1.1067666510132264, 1.1062798500368158, 1.0948832435531985, 1.105005748125236, 1.1073042817144048, 1.1092673839040046, 1.1235111267330948, 1.119590296421712, 1.130085850868036, 1.1117094498877818, 1.1211926643091052, 1.1196008206378534, 1.1164110874690556, 1.1331918730429869, 1.1548150341069945, 1.1673196289509233, 1.162470605498889, 1.1691939908356228, 1.1715087828726585, 1.1580834081238214, 1.191114750812965, 1.1938626980113898, 1.1754361036037668, 1.1727770891117213, 1.1857638233257997, 1.1683597945721278, 1.1688729037928958, 1.1841962546138516, 1.1836451161799357, 1.1967914954724899, 1.1727628012704727, 1.1759611671447352, 1.143869017108736, 1.1385129508644938, 1.1524855658108981, 1.1550500021670163, 1.152089545086593, 1.1497260102497002, 1.1517142107976455, 1.1687582101706286, 1.1728755454063533, 1.1930137621787547, 1.1849330035579282, 1.1870818879936509, 1.1497965553252998, 1.1461678349776232, 1.1169778456538284, 1.1235491880779538, 1.0962702084000369, 1.1131192618434262, 1.0989137409307048, 1.1199862016963829, 1.0847554663061219, 1.0665274375050222, 1.022301831470609, 1.0003614907286018, 1.0069245154439823, 1.031999765547784, 1.0356548790885638, 1.0133504960410307, 1.0221684096637746, 1.0264942545502254, 1.0292570720253873, 1.01678036599644, 1.0170451667754272, 1.0074285081062153, 1.0026329494980348, 1.007187873997831, 1.030013199907017, 1.0318301402557621, 1.0416134450344439, 1.0321335429200513, 1.0448944463528482, 1.0552763784907202, 1.0509389879766406, 1.0434563504359953, 1.045187217656933, 1.0294707960873684, 1.011562883171095, 1.0099064354715865, 1.0182855829063746, 1.0118139468313019, 1.015331904812719, 1.040036732536467, 1.0392900839313566, 1.0335399492055264, 1.0284804479329503, 1.0378187805062233, 1.0260539647974727, 1.028738313551412, 1.0345427150353121, 1.0436219694558673, 1.0354009871995808, 1.0227977040527445, 1.0096475679564116, 1.0089137826424348, 1.0151053867321131, 1.0194478760812546, 1.0090253357939951, 1.032794240638031, 1.0478286549683267, 1.0490310847722821, 1.0488495938556208, 1.05171694755572, 1.0411186891552975, 1.0454663598292806, 1.0784977066616095, 1.0789265930177416, 1.0825036877327168, 1.079027173458707, 1.0811525436235399, 1.083202681240796, 1.0727175758364593, 1.0656834340295969, 1.0711567539531734, 1.070213812319124, 1.060985151294265, 1.0618636078875343, 1.0689644653497952, 1.0594817170416106, 1.0476912965193437, 1.0302379538309545, 1.0345777159622005, 1.03469411348864, 1.0322442902884352, 1.0386873192214796, 1.0438047547218825, 1.0455446341240642, 1.0625772017822053, 1.064968420652896, 1.0525550503027148, 1.0593474745982252, 1.0604877242344102, 1.0303648960810434]\n",
      "夏普比率： 0.195888561103781\n",
      "收益率： 0.030364896081043424\n"
     ]
    }
   ],
   "source": [
    "result=backtrader(y_pred,backtrader_df)\n",
    "print(result[1])\n",
    "print(result[2])\n",
    "print(result[3])\n",
    "pingjun_nian_jiaoyi_ri=240*len(result[1])/(len(y_pred))\n",
    "sharp=(np.mean(result[1]))/(np.std(result[1],ddof=1))*np.sqrt(pingjun_nian_jiaoyi_ri)\n",
    "# sharp1=(np.mean(result[4]))/(np.std(result[4]))\n",
    "# print('夏普比率--：',sharp1)\n",
    "print('夏普比率：',sharp)\n",
    "print('收益率：',result[2]-1)\n"
   ]
  },
  {
   "cell_type": "code",
   "execution_count": null,
   "id": "3f2ded5b",
   "metadata": {},
   "outputs": [],
   "source": []
  },
  {
   "cell_type": "code",
   "execution_count": 49,
   "id": "e894d8b3",
   "metadata": {},
   "outputs": [
    {
     "data": {
      "text/plain": [
       "[0.007073549857360417,\n",
       " 0.011028142029817944,\n",
       " 0.006961504702206689,\n",
       " 0.005627945917059174,\n",
       " 0.005771100915743954,\n",
       " 0.009711271831926771,\n",
       " 0.00724040606708054,\n",
       " 0.010853202561916131,\n",
       " 0.01260906312522403,\n",
       " 0.008653744332332458,\n",
       " 0.0027054354499993494,\n",
       " 0.007261169963566516,\n",
       " 0.01045586820913047,\n",
       " 0.005593620063838234,\n",
       " 0.007544359715319526,\n",
       " 0.011190446011622335,\n",
       " 0.006163277401931788,\n",
       " -0.0003891041050499977,\n",
       " -0.0018241809192884872,\n",
       " 0.0071215889811744315,\n",
       " 0.015726190047066435,\n",
       " 0.010915282036109364,\n",
       " -0.007510288015908251,\n",
       " -0.0010265191023226539,\n",
       " -0.031253663284674826,\n",
       " -0.02413071649775378,\n",
       " -0.0008828826157241121,\n",
       " 0.0005887596494318359,\n",
       " 0.013669302702695285,\n",
       " 0.018283589938132616,\n",
       " 0.027714761800388565,\n",
       " 0.04969737003573438,\n",
       " 0.04602957320084489,\n",
       " 0.047117589742326604,\n",
       " 0.0521430184877707,\n",
       " 0.04567488158286159,\n",
       " 0.04028784244663863,\n",
       " 0.03210697781488259,\n",
       " 0.04060007263666576,\n",
       " 0.04399611801951453,\n",
       " 0.0626218454824945,\n",
       " 0.06298304880658256,\n",
       " 0.06854329279906723,\n",
       " 0.0715462289363904,\n",
       " 0.06423096247259807,\n",
       " 0.060868450531456064,\n",
       " 0.06136840795924736,\n",
       " 0.05935346077634884,\n",
       " 0.05372285488106798,\n",
       " 0.04798540992585676,\n",
       " 0.046320166533106555,\n",
       " 0.04990879818092364,\n",
       " 0.05454824316451101,\n",
       " 0.05411553202195263,\n",
       " 0.055584810438174426,\n",
       " 0.060602008480068026,\n",
       " 0.06166906460619126,\n",
       " 0.07522164594836611,\n",
       " 0.07490606088865803,\n",
       " 0.08113746955786505,\n",
       " 0.0827915194407638,\n",
       " 0.10229044076288463,\n",
       " 0.10011688750974623,\n",
       " 0.11913847486652673,\n",
       " 0.11821789398917493,\n",
       " 0.10034896353697209,\n",
       " 0.04742054540154861,\n",
       " 0.05401827579344287,\n",
       " 0.08546789025008028,\n",
       " 0.08795827371985498,\n",
       " 0.09338572333427808,\n",
       " 0.09291979109449633,\n",
       " 0.04494778803940114,\n",
       " 0.050249303753275854,\n",
       " 0.05948167339052701,\n",
       " 0.08516708680807072,\n",
       " 0.07986603493913358,\n",
       " 0.0888866593623876,\n",
       " 0.10657422644400327,\n",
       " 0.10761579025130064,\n",
       " 0.10436006263454711,\n",
       " 0.10055334121329929,\n",
       " 0.09582324606379444,\n",
       " 0.10591485044164872,\n",
       " 0.09583003387608624,\n",
       " 0.08783937443376777,\n",
       " 0.09225028211092545,\n",
       " 0.11042900168277825,\n",
       " 0.13653310389766293,\n",
       " 0.13595011220285436,\n",
       " 0.11893761204964526,\n",
       " 0.10441616223935601,\n",
       " 0.1137839182617304,\n",
       " 0.12251840840670747,\n",
       " 0.12395865752481394,\n",
       " 0.11078328125116221,\n",
       " 0.11673475314776272,\n",
       " 0.14338715079059905,\n",
       " 0.1367665366046129,\n",
       " 0.14288134058737034,\n",
       " 0.1432979318186809,\n",
       " 0.1369742421477027,\n",
       " 0.1181254361703592,\n",
       " 0.09694633801172814,\n",
       " 0.10282436996881339,\n",
       " 0.08869557423870567,\n",
       " 0.08846084745759764,\n",
       " 0.08808547182759008,\n",
       " 0.07449914180359962,\n",
       " 0.06174947502265771,\n",
       " 0.06554366152261437,\n",
       " 0.045099807775624834,\n",
       " 0.046692972166165525,\n",
       " 0.04958453347015879,\n",
       " 0.04582786103308578,\n",
       " 0.04942100183381726,\n",
       " 0.05871906421019757,\n",
       " 0.05857793014543211,\n",
       " 0.05587606314343052,\n",
       " 0.043277763919113976,\n",
       " 0.03725223081988305,\n",
       " 0.034798194717271747,\n",
       " 0.05453104829887767,\n",
       " 0.037389163265540315,\n",
       " 0.03902677381212216,\n",
       " 0.04655949634582579,\n",
       " 0.054466368706137525,\n",
       " 0.07011932538652044,\n",
       " 0.07025207409549261,\n",
       " 0.09120095946912654,\n",
       " 0.09428156193492665,\n",
       " 0.08753558914429527,\n",
       " 0.09293357653314072,\n",
       " 0.10347279528047681,\n",
       " 0.10689853959423146,\n",
       " 0.12072310513360685,\n",
       " 0.11383959601868865,\n",
       " 0.09960145117690744,\n",
       " 0.10159231938356128,\n",
       " 0.11529037040974832,\n",
       " 0.11069710986278114,\n",
       " 0.13462201194444923,\n",
       " 0.13463253616059068,\n",
       " 0.13237430808004835,\n",
       " 0.134357339104469,\n",
       " 0.12457631175829453,\n",
       " 0.12180956251058217,\n",
       " 0.10676665101322635,\n",
       " 0.10627985003681584,\n",
       " 0.09488324355319855,\n",
       " 0.105005748125236,\n",
       " 0.10730428171440476,\n",
       " 0.10926738390400459,\n",
       " 0.12351112673309483,\n",
       " 0.11959029642171193,\n",
       " 0.13008585086803603,\n",
       " 0.11170944988778175,\n",
       " 0.12119266430910525,\n",
       " 0.11960082063785338,\n",
       " 0.1164110874690556,\n",
       " 0.13319187304298685,\n",
       " 0.1548150341069945,\n",
       " 0.16731962895092334,\n",
       " 0.16247060549888892,\n",
       " 0.1691939908356228,\n",
       " 0.17150878287265847,\n",
       " 0.15808340812382138,\n",
       " 0.19111475081296492,\n",
       " 0.19386269801138978,\n",
       " 0.17543610360376682,\n",
       " 0.1727770891117213,\n",
       " 0.18576382332579966,\n",
       " 0.1683597945721278,\n",
       " 0.16887290379289577,\n",
       " 0.18419625461385158,\n",
       " 0.18364511617993573,\n",
       " 0.19679149547248986,\n",
       " 0.17276280127047272,\n",
       " 0.1759611671447352,\n",
       " 0.143869017108736,\n",
       " 0.13851295086449378,\n",
       " 0.15248556581089812,\n",
       " 0.15505000216701625,\n",
       " 0.1520895450865929,\n",
       " 0.14972601024970023,\n",
       " 0.15171421079764547,\n",
       " 0.16875821017062864,\n",
       " 0.1728755454063533,\n",
       " 0.19301376217875466,\n",
       " 0.1849330035579282,\n",
       " 0.18708188799365089,\n",
       " 0.14979655532529979,\n",
       " 0.1461678349776232,\n",
       " 0.1169778456538284,\n",
       " 0.12354918807795379,\n",
       " 0.09627020840003686,\n",
       " 0.11311926184342624,\n",
       " 0.09891374093070482,\n",
       " 0.11998620169638285,\n",
       " 0.08475546630612185,\n",
       " 0.06652743750502221,\n",
       " 0.022301831470608935,\n",
       " 0.00036149072860180986,\n",
       " 0.006924515443982315,\n",
       " 0.03199976554778394,\n",
       " 0.035654879088563796,\n",
       " 0.013350496041030668,\n",
       " 0.022168409663774646,\n",
       " 0.02649425455022536,\n",
       " 0.0292570720253873,\n",
       " 0.01678036599644006,\n",
       " 0.017045166775427223,\n",
       " 0.007428508106215315,\n",
       " 0.002632949498034831,\n",
       " 0.007187873997831051,\n",
       " 0.030013199907017007,\n",
       " 0.03183014025576214,\n",
       " 0.04161344503444386,\n",
       " 0.03213354292005133,\n",
       " 0.04489444635284823,\n",
       " 0.0552763784907202,\n",
       " 0.05093898797664065,\n",
       " 0.04345635043599527,\n",
       " 0.04518721765693301,\n",
       " 0.029470796087368356,\n",
       " 0.011562883171094995,\n",
       " 0.009906435471586539,\n",
       " 0.01828558290637461,\n",
       " 0.01181394683130188,\n",
       " 0.015331904812718955,\n",
       " 0.040036732536467,\n",
       " 0.03929008393135658,\n",
       " 0.03353994920552639,\n",
       " 0.028480447932950348,\n",
       " 0.03781878050622334,\n",
       " 0.026053964797472684,\n",
       " 0.028738313551412098,\n",
       " 0.034542715035312144,\n",
       " 0.04362196945586727,\n",
       " 0.03540098719958085,\n",
       " 0.022797704052744505,\n",
       " 0.00964756795641164,\n",
       " 0.008913782642434809,\n",
       " 0.015105386732113146,\n",
       " 0.019447876081254645,\n",
       " 0.009025335793995115,\n",
       " 0.03279424063803105,\n",
       " 0.04782865496832667,\n",
       " 0.04903108477228213,\n",
       " 0.04884959385562082,\n",
       " 0.05171694755571998,\n",
       " 0.04111868915529748,\n",
       " 0.0454663598292806,\n",
       " 0.07849770666160949,\n",
       " 0.07892659301774163,\n",
       " 0.08250368773271677,\n",
       " 0.07902717345870691,\n",
       " 0.08115254362353985,\n",
       " 0.083202681240796,\n",
       " 0.07271757583645932,\n",
       " 0.06568343402959687,\n",
       " 0.07115675395317345,\n",
       " 0.07021381231912405,\n",
       " 0.06098515129426496,\n",
       " 0.06186360788753431,\n",
       " 0.06896446534979517,\n",
       " 0.05948171704161065,\n",
       " 0.04769129651934367,\n",
       " 0.03023795383095451,\n",
       " 0.034577715962200495,\n",
       " 0.034694113488640044,\n",
       " 0.03224429028843523,\n",
       " 0.03868731922147961,\n",
       " 0.0438047547218825,\n",
       " 0.045544634124064176,\n",
       " 0.06257720178220527,\n",
       " 0.06496842065289599,\n",
       " 0.05255505030271479,\n",
       " 0.0593474745982252,\n",
       " 0.06048772423441018,\n",
       " 0.030364896081043424]"
      ]
     },
     "execution_count": 49,
     "metadata": {},
     "output_type": "execute_result"
    }
   ],
   "source": [
    "returns=result[3]\n",
    "returns = [ret - 1 for ret in returns]\n",
    "returns"
   ]
  },
  {
   "cell_type": "code",
   "execution_count": 50,
   "id": "c359f589",
   "metadata": {},
   "outputs": [
    {
     "name": "stdout",
     "output_type": "stream",
     "text": [
      "最大回撤: -7.51%\n"
     ]
    }
   ],
   "source": [
    "returns=result[3]\n",
    "returns = [ret - 1 for ret in returns]\n",
    "\n",
    "# 将收益率列表转换为pandas的Series对象，方便处理\n",
    "returns_series = pd.Series(returns)\n",
    "\n",
    "# 计算累计收益率\n",
    "cumulative_returns = (1 + returns_series).cumprod() - 1\n",
    "\n",
    "# 计算滚动最大值\n",
    "rolling_max = cumulative_returns.cummax()\n",
    "\n",
    "# 计算回撤\n",
    "drawdown = cumulative_returns - rolling_max\n",
    "\n",
    "# 计算最大回撤\n",
    "max_drawdown = drawdown.min()\n",
    "\n",
    "# 打印最大回撤\n",
    "print(\"最大回撤: {:.2%}\".format(max_drawdown))\n"
   ]
  },
  {
   "cell_type": "code",
   "execution_count": null,
   "id": "d346e244",
   "metadata": {},
   "outputs": [],
   "source": []
  },
  {
   "cell_type": "code",
   "execution_count": 51,
   "id": "eb03bdd8",
   "metadata": {},
   "outputs": [
    {
     "data": {
      "image/png": "[encoded data removed]",
      "text/plain": [
       "<Figure size 640x480 with 1 Axes>"
      ]
     },
     "metadata": {},
     "output_type": "display_data"
    },
    {
     "data": {
      "image/png": "[encoded data removed]",
      "text/plain": [
       "<Figure size 640x480 with 1 Axes>"
      ]
     },
     "metadata": {},
     "output_type": "display_data"
    }
   ],
   "source": [
    "def paint():\n",
    "    acc=history.history['acc']\n",
    "    val_acc=history.history['val_acc']\n",
    "    loss=history.history['loss']\n",
    "    val_loss=history.history['val_loss']\n",
    "\n",
    "    epochs=range(len(acc))\n",
    "    plt.plot(epochs,acc,'bo',label='Training acc')\n",
    "    plt.plot(epochs,val_acc,'b',label='Validation acc')\n",
    "    plt.title('Training and validation accuracy')\n",
    "    plt.legend()\n",
    "\n",
    "    plt.figure()\n",
    "\n",
    "    plt.plot(epochs,loss,'bo',label='Training loss')\n",
    "    plt.plot(epochs,val_loss,'b',label='Validation loss')\n",
    "    plt.title('Training and validation loss')\n",
    "    plt.legend()\n",
    "    return plt\n",
    "my_paint=paint()\n",
    "my_paint.show()"
   ]
  },
  {
   "cell_type": "markdown",
   "id": "ff449cf1",
   "metadata": {},
   "source": [
    "# 混淆矩阵绘制"
   ]
  },
  {
   "cell_type": "code",
   "execution_count": 53,
   "id": "6a2eaf54",
   "metadata": {},
   "outputs": [
    {
     "name": "stdout",
     "output_type": "stream",
     "text": [
      "混淆矩阵： [[145  72]\n",
      " [ 79  96]]\n",
      "查准率： 0.6473214285714286\n",
      "查全率： 0.6682027649769585\n",
      "f1-score: 0.6575963718820862\n"
     ]
    }
   ],
   "source": [
    "confusion_matrix = confusion_matrix(target_test, y_pred,labels=[1,0])\n",
    "precision_score=precision_score(target_test, y_pred)\n",
    "recall_score=recall_score(target_test, y_pred)\n",
    "f1_score=f1_score(target_test, y_pred)\n",
    "\n",
    "print('混淆矩阵：',confusion_matrix)\n",
    "print('查准率：',precision_score)\n",
    "print('查全率：',recall_score)\n",
    "print('f1-score:',f1_score)"
   ]
  },
  {
   "cell_type": "code",
   "execution_count": null,
   "id": "f48b8b1a",
   "metadata": {},
   "outputs": [],
   "source": []
  },
  {
   "cell_type": "code",
   "execution_count": 54,
   "id": "52941452",
   "metadata": {},
   "outputs": [
    {
     "name": "stderr",
     "output_type": "stream",
     "text": [
      "2025-01-03 16:27:08.946146: I tensorflow/core/common_runtime/executor.cc:1197] [/device:CPU:0] (DEBUG INFO) Executor start aborting (this does not indicate an error and you can ignore this message): INVALID_ARGUMENT: You must feed a value for placeholder tensor 'gradients/split_2_grad/concat/split_2/split_dim' with dtype int32\n",
      "\t [[{{node gradients/split_2_grad/concat/split_2/split_dim}}]]\n",
      "2025-01-03 16:27:08.947234: I tensorflow/core/common_runtime/executor.cc:1197] [/device:CPU:0] (DEBUG INFO) Executor start aborting (this does not indicate an error and you can ignore this message): INVALID_ARGUMENT: You must feed a value for placeholder tensor 'gradients/split_grad/concat/split/split_dim' with dtype int32\n",
      "\t [[{{node gradients/split_grad/concat/split/split_dim}}]]\n",
      "2025-01-03 16:27:08.949044: I tensorflow/core/common_runtime/executor.cc:1197] [/device:CPU:0] (DEBUG INFO) Executor start aborting (this does not indicate an error and you can ignore this message): INVALID_ARGUMENT: You must feed a value for placeholder tensor 'gradients/split_1_grad/concat/split_1/split_dim' with dtype int32\n",
      "\t [[{{node gradients/split_1_grad/concat/split_1/split_dim}}]]\n",
      "2025-01-03 16:27:09.067042: I tensorflow/core/common_runtime/executor.cc:1197] [/device:CPU:0] (DEBUG INFO) Executor start aborting (this does not indicate an error and you can ignore this message): INVALID_ARGUMENT: You must feed a value for placeholder tensor 'gradients/split_2_grad/concat/split_2/split_dim' with dtype int32\n",
      "\t [[{{node gradients/split_2_grad/concat/split_2/split_dim}}]]\n",
      "2025-01-03 16:27:09.069491: I tensorflow/core/common_runtime/executor.cc:1197] [/device:CPU:0] (DEBUG INFO) Executor start aborting (this does not indicate an error and you can ignore this message): INVALID_ARGUMENT: You must feed a value for placeholder tensor 'gradients/split_grad/concat/split/split_dim' with dtype int32\n",
      "\t [[{{node gradients/split_grad/concat/split/split_dim}}]]\n",
      "2025-01-03 16:27:09.071391: I tensorflow/core/common_runtime/executor.cc:1197] [/device:CPU:0] (DEBUG INFO) Executor start aborting (this does not indicate an error and you can ignore this message): INVALID_ARGUMENT: You must feed a value for placeholder tensor 'gradients/split_1_grad/concat/split_1/split_dim' with dtype int32\n",
      "\t [[{{node gradients/split_1_grad/concat/split_1/split_dim}}]]\n",
      "2025-01-03 16:27:09.200694: I tensorflow/core/common_runtime/executor.cc:1197] [/device:CPU:0] (DEBUG INFO) Executor start aborting (this does not indicate an error and you can ignore this message): INVALID_ARGUMENT: You must feed a value for placeholder tensor 'gradients/split_2_grad/concat/split_2/split_dim' with dtype int32\n",
      "\t [[{{node gradients/split_2_grad/concat/split_2/split_dim}}]]\n",
      "2025-01-03 16:27:09.202105: I tensorflow/core/common_runtime/executor.cc:1197] [/device:CPU:0] (DEBUG INFO) Executor start aborting (this does not indicate an error and you can ignore this message): INVALID_ARGUMENT: You must feed a value for placeholder tensor 'gradients/split_grad/concat/split/split_dim' with dtype int32\n",
      "\t [[{{node gradients/split_grad/concat/split/split_dim}}]]\n",
      "2025-01-03 16:27:09.204263: I tensorflow/core/common_runtime/executor.cc:1197] [/device:CPU:0] (DEBUG INFO) Executor start aborting (this does not indicate an error and you can ignore this message): INVALID_ARGUMENT: You must feed a value for placeholder tensor 'gradients/split_1_grad/concat/split_1/split_dim' with dtype int32\n",
      "\t [[{{node gradients/split_1_grad/concat/split_1/split_dim}}]]\n",
      "2025-01-03 16:27:09.337307: I tensorflow/core/common_runtime/executor.cc:1197] [/device:CPU:0] (DEBUG INFO) Executor start aborting (this does not indicate an error and you can ignore this message): INVALID_ARGUMENT: You must feed a value for placeholder tensor 'gradients/split_2_grad/concat/split_2/split_dim' with dtype int32\n",
      "\t [[{{node gradients/split_2_grad/concat/split_2/split_dim}}]]\n",
      "2025-01-03 16:27:09.338126: I tensorflow/core/common_runtime/executor.cc:1197] [/device:CPU:0] (DEBUG INFO) Executor start aborting (this does not indicate an error and you can ignore this message): INVALID_ARGUMENT: You must feed a value for placeholder tensor 'gradients/split_grad/concat/split/split_dim' with dtype int32\n",
      "\t [[{{node gradients/split_grad/concat/split/split_dim}}]]\n",
      "2025-01-03 16:27:09.338911: I tensorflow/core/common_runtime/executor.cc:1197] [/device:CPU:0] (DEBUG INFO) Executor start aborting (this does not indicate an error and you can ignore this message): INVALID_ARGUMENT: You must feed a value for placeholder tensor 'gradients/split_1_grad/concat/split_1/split_dim' with dtype int32\n",
      "\t [[{{node gradients/split_1_grad/concat/split_1/split_dim}}]]\n"
     ]
    },
    {
     "name": "stdout",
     "output_type": "stream",
     "text": [
      "13/13 [==============================] - 1s 7ms/step\n"
     ]
    },
    {
     "data": {
      "image/png": "[encoded data removed]",
      "text/plain": [
       "<Figure size 640x480 with 1 Axes>"
      ]
     },
     "metadata": {},
     "output_type": "display_data"
    }
   ],
   "source": [
    "y_predict=model.predict([fif_test,daily_test,wenben_long_term_test,wenben_short_term_test]).reshape(test_num-wenben_back).tolist()\n",
    "fpr,tpr,threshold = roc_curve(target_test, y_predict) ###计算真正率和假正率\n",
    "# print(fpr,tpr,threshold)\n",
    "roc_auc = auc(fpr,tpr)\n",
    "\n",
    "\n",
    "lw = 2\n",
    "plt.figure()\n",
    "plt.plot(fpr, tpr, color='darkorange',\n",
    "         lw=lw, label='ROC curve (area = %0.2f)' % roc_auc) ###假正率为横坐标，真正率为纵坐标做曲线\n",
    "plt.plot([0, 1], [0, 1], color='navy', lw=lw, linestyle='--')\n",
    "plt.xlim([0.0, 1.0])\n",
    "plt.ylim([0.0, 1.05])\n",
    "plt.xlabel('False Positive Rate')\n",
    "plt.ylabel('True Positive Rate')\n",
    "plt.title('Receiver operating characteristic example')\n",
    "plt.legend(loc=\"lower right\")\n",
    "plt.show()"
   ]
  },
  {
   "cell_type": "markdown",
   "id": "302466a8",
   "metadata": {},
   "source": [
    "# 保存"
   ]
  },
  {
   "cell_type": "code",
   "execution_count": 56,
   "id": "96676464",
   "metadata": {},
   "outputs": [],
   "source": [
    "df9=pd.DataFrame({'损失值':loss,'准确率':accuracy,'夏普值':sharp,'收益率':result[2]-1,'最大回撤':[max_drawdown],'查准率':[precision_score],'查全率':[recall_score],'f1-score':[f1_score]})\n",
    "df10=pd.DataFrame({'每日收益率':result[1]})\n",
    "path9='/Users/ccmac/Desktop'\n",
    "df9.to_excel(os.path.join(path9,'数据表.xlsx'),index=False)\n",
    "df10.to_excel(os.path.join(path9,'每日收益率表.xlsx'),index=False)"
   ]
  },
  {
   "cell_type": "code",
   "execution_count": null,
   "id": "56cb83ab",
   "metadata": {},
   "outputs": [],
   "source": []
  },
  {
   "cell_type": "code",
   "execution_count": 57,
   "id": "82c56301",
   "metadata": {},
   "outputs": [
    {
     "name": "stdout",
     "output_type": "stream",
     "text": [
      "[[1 2 3 4]\n",
      " [5 6 7 8]]\n",
      "[[   1    2    6   24]\n",
      " [   5   30  210 1680]]\n"
     ]
    }
   ],
   "source": [
    "import numpy as np\n",
    "t = np.array([1, 2, 3, 4, 5, 6, 7, 8]).reshape([2,4])\n",
    "y = np.cumprod(t, axis=1)\n",
    "print(t)\n",
    "print(y)\n"
   ]
  }
 ],
 "metadata": {
  "kernelspec": {
   "display_name": "Python [conda env:tf_env]",
   "language": "python",
   "name": "conda-env-tf_env-py"
  },
  "language_info": {
   "codemirror_mode": {
    "name": "ipython",
    "version": 3
   },
   "file_extension": ".py",
   "mimetype": "text/x-python",
   "name": "python",
   "nbconvert_exporter": "python",
   "pygments_lexer": "ipython3",
   "version": "3.8.18"
  }
 },
 "nbformat": 4,
 "nbformat_minor": 5
}
