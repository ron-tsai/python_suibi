{
 "cells": [
  {
   "cell_type": "code",
   "execution_count": 1,
   "id": "615580f2-6dc1-424a-9b67-f55e7af1e7d3",
   "metadata": {},
   "outputs": [
    {
     "name": "stdout",
     "output_type": "stream",
     "text": [
      "情感得分：0.8001133148851857\n"
     ]
    }
   ],
   "source": [
    "from snownlp import SnowNLP\n",
    "\n",
    "# 测试文本\n",
    "text = \"祝愿2017年收益30%，\"\n",
    "\n",
    "# 创建SnowNLP对象\n",
    "s = SnowNLP(text)\n",
    "\n",
    "# 获取情感分析结果\n",
    "sentiment_score = s.sentiments\n",
    "\n",
    "# 打印情感得分\n",
    "print(f\"情感得分：{sentiment_score}\")"
   ]
  },
  {
   "cell_type": "code",
   "execution_count": 3,
   "id": "b8075769-2c77-4795-945d-628e0a765789",
   "metadata": {},
   "outputs": [
    {
     "data": {
      "text/plain": [
       "0.8001133148851857"
      ]
     },
     "execution_count": 3,
     "metadata": {},
     "output_type": "execute_result"
    }
   ],
   "source": [
    "from snownlp import SnowNLP\n",
    "\n",
    "# 测试文本\n",
    "text = \"祝愿2017年收益30%，\"\n",
    "\n",
    "def get_sentiment(text):\n",
    "    s = SnowNLP(text)\n",
    "    return s.sentiments\n",
    "\n",
    "get_sentiment(text)"
   ]
  },
  {
   "cell_type": "code",
   "execution_count": 5,
   "id": "ad43607d-2e29-4c7c-909d-01c6dc3615d9",
   "metadata": {},
   "outputs": [
    {
     "name": "stderr",
     "output_type": "stream",
     "text": [
      "/opt/anaconda3/envs/paddle_env/lib/python3.8/site-packages/tqdm/auto.py:21: TqdmWarning: IProgress not found. Please update jupyter and ipywidgets. See https://ipywidgets.readthedocs.io/en/stable/user_install.html\n",
      "  from .autonotebook import tqdm as notebook_tqdm\n",
      "/opt/anaconda3/envs/paddle_env/lib/python3.8/site-packages/_distutils_hack/__init__.py:31: UserWarning: Setuptools is replacing distutils. Support for replacing an already imported distutils is deprecated. In the future, this condition will fail. Register concerns at https://github.com/pypa/setuptools/issues/new?template=distutils-deprecation.yml\n",
      "  warnings.warn(\n",
      "\u001b[32m[2024-12-17 20:28:45,100] [    INFO]\u001b[0m - Already cached /Users/ccmac/.paddlenlp/models/skep_ernie_1.0_large_ch/skep_ernie_1.0_large_ch.vocab.txt\u001b[0m\n",
      "\u001b[32m[2024-12-17 20:28:45,107] [    INFO]\u001b[0m - tokenizer config file saved in /Users/ccmac/.paddlenlp/models/skep_ernie_1.0_large_ch/tokenizer_config.json\u001b[0m\n",
      "\u001b[32m[2024-12-17 20:28:45,107] [    INFO]\u001b[0m - Special tokens file saved in /Users/ccmac/.paddlenlp/models/skep_ernie_1.0_large_ch/special_tokens_map.json\u001b[0m\n",
      "E1217 20:28:45.108529 7393856 analysis_config.cc:389] Please compile with MKLDNN first to use MKLDNN\n"
     ]
    },
    {
     "name": "stdout",
     "output_type": "stream",
     "text": [
      "[{'text': '你的文本', 'label': 'positive', 'score': 0.9926848411560059}]\n"
     ]
    }
   ],
   "source": [
    "from paddlenlp import Taskflow\n",
    "senta = Taskflow(\"sentiment_analysis\", model=\"skep_ernie_1.0_large_ch\")\n",
    "result = senta(\"你的文本\")\n",
    "print(result)"
   ]
  },
  {
   "cell_type": "code",
   "execution_count": 7,
   "id": "db31618a-dbfc-484d-a2b3-a67d7d9984b5",
   "metadata": {},
   "outputs": [
    {
     "name": "stderr",
     "output_type": "stream",
     "text": [
      "\u001b[32m[2024-12-17 20:29:11,930] [    INFO]\u001b[0m - Already cached /Users/ccmac/.paddlenlp/models/skep_ernie_1.0_large_ch/skep_ernie_1.0_large_ch.vocab.txt\u001b[0m\n",
      "\u001b[32m[2024-12-17 20:29:11,942] [    INFO]\u001b[0m - tokenizer config file saved in /Users/ccmac/.paddlenlp/models/skep_ernie_1.0_large_ch/tokenizer_config.json\u001b[0m\n",
      "\u001b[32m[2024-12-17 20:29:11,942] [    INFO]\u001b[0m - Special tokens file saved in /Users/ccmac/.paddlenlp/models/skep_ernie_1.0_large_ch/special_tokens_map.json\u001b[0m\n",
      "E1217 20:29:11.949649 7393856 analysis_config.cc:389] Please compile with MKLDNN first to use MKLDNN\n"
     ]
    },
    {
     "name": "stdout",
     "output_type": "stream",
     "text": [
      "文本：这是一个非常好的产品, 情感分析结果：[{'text': '这是一个非常好的产品', 'label': 'positive', 'score': 0.9815556406974792}]\n",
      "文本：这不是我想要的, 情感分析结果：[{'text': '这不是我想要的', 'label': 'negative', 'score': 0.9602977633476257}]\n"
     ]
    }
   ],
   "source": [
    "from paddlenlp import Taskflow\n",
    "\n",
    "# 初始化情感分析模型\n",
    "senta = Taskflow(\"sentiment_analysis\", model=\"skep_ernie_1.0_large_ch\")\n",
    "\n",
    "# 假设有一个文本列表\n",
    "texts = [\"这是一个非常好的产品\", \"这不是我想要的\"]\n",
    "\n",
    "# 进行情感分析\n",
    "for text in texts:\n",
    "    try:\n",
    "        result = senta(text)\n",
    "        print(f\"文本：{text}, 情感分析结果：{result}\")\n",
    "    except Exception as e:\n",
    "        print(f\"情感分析时发生错误：{e}\")"
   ]
  },
  {
   "cell_type": "code",
   "execution_count": null,
   "id": "96194cc6-b8d2-4a75-b5a9-701673de01e2",
   "metadata": {},
   "outputs": [],
   "source": []
  }
 ],
 "metadata": {
  "kernelspec": {
   "display_name": "Python [conda env:paddle_env]",
   "language": "python",
   "name": "conda-env-paddle_env-py"
  },
  "language_info": {
   "codemirror_mode": {
    "name": "ipython",
    "version": 3
   },
   "file_extension": ".py",
   "mimetype": "text/x-python",
   "name": "python",
   "nbconvert_exporter": "python",
   "pygments_lexer": "ipython3",
   "version": "3.8.20"
  }
 },
 "nbformat": 4,
 "nbformat_minor": 5
}
