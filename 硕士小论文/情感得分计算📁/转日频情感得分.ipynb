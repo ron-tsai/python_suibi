{
 "cells": [
  {
   "cell_type": "code",
   "execution_count": 1,
   "id": "49df7e13",
   "metadata": {},
   "outputs": [
    {
     "name": "stdout",
     "output_type": "stream",
     "text": [
      "            正面情感  负面情感      情感得分\n",
      "日期                              \n",
      "2024-02-21  1426  3939 -1.015606\n",
      "2024-02-22  1170  2995 -0.939420\n",
      "2024-02-23  1374  2994 -0.778491\n",
      "2024-02-24   192   365 -0.639943\n",
      "2024-02-25   151   282 -0.621566\n",
      "...          ...   ...       ...\n",
      "2024-08-18   137   204 -0.395756\n",
      "2024-08-19   809  1940 -0.873924\n",
      "2024-08-20  1531  3364 -0.786854\n",
      "2024-08-21   826  2090 -0.927593\n",
      "2024-08-22  1456  3526 -0.884068\n",
      "\n",
      "[183 rows x 3 columns]\n"
     ]
    }
   ],
   "source": [
    "import pandas as pd\n",
    "import math\n",
    "import os\n",
    "\n",
    "# 设置年份\n",
    "year = 2024\n",
    "\n",
    "# 文件路径\n",
    "file_path = '/Users/ccmac/Desktop/导出数据/已情感分析数据/e{}.xlsx'.format(year)\n",
    "\n",
    "# 读取Excel文件\n",
    "df = pd.read_excel(file_path)\n",
    "\n",
    "# 删除情感得分列中包含缺失值的行\n",
    "df = df.dropna(subset=['情感得分'])\n",
    "\n",
    "# 将情感得分列转换为整数类型\n",
    "df['情感得分'] = df['情感得分'].astype(int)\n",
    "\n",
    "# 将posttime列转换为日期时间格式，处理可能的格式错误\n",
    "df['日期'] = pd.to_datetime(df['posttime'], errors='coerce').dt.date\n",
    "\n",
    "# 按日期分组并计算正面和负面情感的数量\n",
    "df['正面情感'] = df['情感得分'].apply(lambda x: 1 if x == 1 else 0)\n",
    "df['负面情感'] = df['情感得分'].apply(lambda x: 1 if x == 0 else 0)\n",
    "\n",
    "grouped = df.groupby('日期')[['正面情感', '负面情感']].sum()\n",
    "\n",
    "# 计算情感得分\n",
    "grouped['情感得分'] = grouped.apply(lambda x: math.log((x['正面情感'] + 1) / (x['负面情感'] + 1)), axis=1)\n",
    "\n",
    "# 打印结果\n",
    "print(grouped)\n",
    "\n",
    "# 存储结果到新的Excel文件\n",
    "output_dir = '/Users/ccmac/Desktop/导出数据/情感得分结果'\n",
    "if not os.path.exists(output_dir):\n",
    "    os.makedirs(output_dir)  # 创建目录\n",
    "\n",
    "output_file = os.path.join(output_dir, 'e{}_情感得分.xlsx'.format(year))\n",
    "grouped.to_excel(output_file, index=True)"
   ]
  }
 ],
 "metadata": {
  "kernelspec": {
   "display_name": "Python [conda env:paddle_env]",
   "language": "python",
   "name": "conda-env-paddle_env-py"
  },
  "language_info": {
   "codemirror_mode": {
    "name": "ipython",
    "version": 3
   },
   "file_extension": ".py",
   "mimetype": "text/x-python",
   "name": "python",
   "nbconvert_exporter": "python",
   "pygments_lexer": "ipython3",
   "version": "3.8.20"
  }
 },
 "nbformat": 4,
 "nbformat_minor": 5
}
