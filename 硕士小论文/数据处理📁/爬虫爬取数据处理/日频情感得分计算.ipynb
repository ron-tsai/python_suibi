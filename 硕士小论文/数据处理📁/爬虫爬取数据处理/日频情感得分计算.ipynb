{
 "cells": [
  {
   "cell_type": "code",
   "execution_count": null,
   "id": "385510a0-c8ca-45f6-93d2-48a1d12ad1a4",
   "metadata": {},
   "outputs": [],
   "source": [
    "import pandas as pd\n",
    "import os\n",
    "import math\n",
    "path='/Users/ccmac/Desktop/情感分析存储'\n",
    "\n",
    "year=2016\n",
    "\n",
    "file='/Users/ccmac/Desktop/情感分析存储/{}年情感分类合并.xlsx'.format(year)\n",
    "\n",
    "df = pd.read_excel(os.path.join(path, file), dtype=object)\n",
    "df.loc[:, 'date'] = pd.to_datetime(df['date']).dt.date\n",
    "\n",
    "# df0 = pd.DataFrame(columns=df.columns)\n",
    "\n",
    "g = df.groupby(['date','label'],as_index=False).count()\n",
    "\n",
    "g=pd.DataFrame(g)\n",
    "print(g)\n",
    "\n",
    "g1_list=g['date'].to_list()\n",
    "new_list = list(set(g1_list))\n",
    "print(new_list)\n",
    "\n",
    "\n",
    "score_list=[]\n",
    "for idx in new_list:\n",
    "    positive=g.loc[(g['date']==pd.to_datetime(idx))&(g['label']==1),'title']\n",
    "    negative=g.loc[(g['date']==pd.to_datetime(idx))&(g['label']==0),'title']\n",
    "    positive=int(positive)\n",
    "    negative=int(negative)\n",
    "    c=math.log((positive+1)/(negative+1))\n",
    "    print(c)\n",
    "    score_list.append(c)\n",
    "print(score_list)\n",
    "\n",
    "e={'date':new_list,'score':score_list}\n",
    "df0=pd.DataFrame(e)\n",
    "print(df0)\n",
    "\n",
    "\n",
    "\n",
    "\n",
    "\n",
    "df0.to_excel(os.path.join(path,'{}年情感得分.xlsx'.format(year)),index=False)\n"
   ]
  }
 ],
 "metadata": {
  "kernelspec": {
   "display_name": "paddle_env",
   "language": "python",
   "name": "paddle_env"
  },
  "language_info": {
   "codemirror_mode": {
    "name": "ipython",
    "version": 3
   },
   "file_extension": ".py",
   "mimetype": "text/x-python",
   "name": "python",
   "nbconvert_exporter": "python",
   "pygments_lexer": "ipython3",
   "version": "3.12.7"
  }
 },
 "nbformat": 4,
 "nbformat_minor": 5
}
