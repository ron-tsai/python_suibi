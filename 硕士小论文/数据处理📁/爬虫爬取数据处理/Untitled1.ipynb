{
 "cells": [
  {
   "cell_type": "code",
   "execution_count": null,
   "id": "e96b8ac7-ea0d-4ef8-aceb-f6cd41c8c39f",
   "metadata": {},
   "outputs": [],
   "source": [
    "import pandas as pd\n",
    "import os\n",
    "from paddlenlp import Taskflow\n",
    "\n",
    "senta = Taskflow(\"sentiment_analysis\", model=\"skep_ernie_1.0_large_ch\")\n",
    "\n",
    "year=2017\n",
    "\n",
    "path='/Users/ccmac/Desktop/新爬虫分类/{}年'.format(year)\n",
    "path_1='/Users/ccmac/Desktop/情感分析存储/{}年'.format(year)\n",
    "\n",
    "\n",
    "df_list=os.listdir(path)\n",
    "df_elist=os.listdir(path_1)\n",
    "\n",
    "complete_list=[]\n",
    "\n",
    "for efname in df_elist:\n",
    "    complete_list.append(efname[1:])\n",
    "    # print(fname[:-5])\n",
    "for del_v in complete_list:\n",
    "    print(del_v)\n",
    "    if del_v != '.DS_' and del_v !='DS_Store':\n",
    "\n",
    "        df_list.remove(del_v)\n",
    "df1=pd.DataFrame(columns=['time','title'])\n",
    "for fname in df_list:\n",
    "    if fname != '.DS_Store':\n",
    "        print('-----------------------' + fname)\n",
    "        df = pd.read_excel(os.path.join(path, fname), dtype=object, usecols=['time', 'title'])\n",
    "\n",
    "        sent_list = df['title']\n",
    "        emotion_list = []\n",
    "        for sent in sent_list:\n",
    "            print(sent)\n",
    "            sent = str(sent)\n",
    "\n",
    "            emotion = senta(sent)[0]['label']\n",
    "            if emotion == 'positive':\n",
    "                label = 1\n",
    "            elif emotion == 'negative':\n",
    "                label = 0\n",
    "\n",
    "            print(label)\n",
    "            emotion_list.append(label)\n",
    "\n",
    "        df['label'] = emotion_list\n",
    "        for time in df['time']:\n",
    "            # df['time']=pd.to_datetime(df['time'])\n",
    "            df['date'] = pd.to_datetime(df['time'].add(' {}'.format(year)))\n",
    "        df.to_excel(os.path.join(path_1, 'e{}.xlsx').format(fname[:-5]), index=False,\n",
    "                    columns=['date', 'title', 'label'])"
   ]
  }
 ],
 "metadata": {
  "kernelspec": {
   "display_name": "paddle_env",
   "language": "python",
   "name": "paddle_env"
  },
  "language_info": {
   "codemirror_mode": {
    "name": "ipython",
    "version": 3
   },
   "file_extension": ".py",
   "mimetype": "text/x-python",
   "name": "python",
   "nbconvert_exporter": "python",
   "pygments_lexer": "ipython3",
   "version": "3.12.7"
  }
 },
 "nbformat": 4,
 "nbformat_minor": 5
}
