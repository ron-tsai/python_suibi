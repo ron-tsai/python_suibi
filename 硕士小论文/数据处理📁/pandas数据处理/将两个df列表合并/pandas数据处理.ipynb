{
 "cells": [
  {
   "cell_type": "markdown",
   "id": "cb2ad197",
   "metadata": {},
   "source": [
    "# 根据时间列，将另一个表的一列添加到主表中"
   ]
  },
  {
   "cell_type": "code",
   "execution_count": null,
   "id": "f2c49397",
   "metadata": {},
   "outputs": [],
   "source": []
  },
  {
   "cell_type": "code",
   "execution_count": null,
   "id": "6961a5da-3e56-4646-8f6f-63b5263de7d9",
   "metadata": {},
   "outputs": [],
   "source": []
  },
  {
   "cell_type": "code",
   "execution_count": null,
   "id": "6660e519-9790-423b-9e3f-3c9f5f9ab23f",
   "metadata": {},
   "outputs": [],
   "source": []
  },
  {
   "cell_type": "code",
   "execution_count": 2,
   "id": "e2e48573-eddd-4684-9a25-ce4285750a3e",
   "metadata": {},
   "outputs": [],
   "source": [
    "import pandas as pd\n",
    "import numpy as np"
   ]
  },
  {
   "cell_type": "code",
   "execution_count": 3,
   "id": "b3d02231-2c63-41bc-9ce1-281b3f62d47f",
   "metadata": {},
   "outputs": [],
   "source": [
    "year=2024"
   ]
  },
  {
   "cell_type": "code",
   "execution_count": 4,
   "id": "d6ca067e-ea3e-4ce6-bb50-1d568c86e518",
   "metadata": {},
   "outputs": [],
   "source": [
    "df1_path = '/Users/ccmac/Desktop/daily_data1.xlsx'\n",
    "df2_path = '/Users/ccmac/Desktop/e{}b_情感得分.xlsx'.format(year)"
   ]
  },
  {
   "cell_type": "code",
   "execution_count": 5,
   "id": "45283d37-1d2c-481e-9831-e6df66d03243",
   "metadata": {},
   "outputs": [],
   "source": [
    "df1=pd.read_excel(df1_path)\n",
    "df2=pd.read_excel(df2_path)"
   ]
  },
  {
   "cell_type": "code",
   "execution_count": 6,
   "id": "79505837-3ef3-4b3e-8090-270afba92069",
   "metadata": {},
   "outputs": [
    {
     "name": "stdout",
     "output_type": "stream",
     "text": [
      "     trade_time     open     high      low    close  volume_rate  \\\n",
      "0    2016-01-04  3536.59  3538.69  3295.74  3296.26    184418423   \n",
      "1    2016-01-05  3196.65  3328.14  3189.60  3287.71    266882083   \n",
      "2    2016-01-06  3291.19  3362.97  3288.93  3361.84    238886670   \n",
      "3    2016-01-07  3309.66  3309.66  3115.89  3125.00     70569123   \n",
      "4    2016-01-08  3194.63  3235.45  3056.88  3186.41    286440822   \n",
      "...         ...      ...      ...      ...      ...          ...   \n",
      "2154 2024-12-02  3328.48  3369.30  3323.01  3363.98    668477762   \n",
      "2155 2024-12-03  3366.29  3386.62  3348.37  3378.81    663030139   \n",
      "2156 2024-12-04  3376.57  3388.02  3352.94  3364.65    621028862   \n",
      "2157 2024-12-05  3353.06  3377.06  3353.06  3368.86    543885746   \n",
      "2158 2024-12-06  3370.94  3418.26  3364.21  3404.08    698186572   \n",
      "\n",
      "      search_index  sector_score_x  sector_score_y  \n",
      "0           338331        0.401735             NaN  \n",
      "1           373006        0.325099             NaN  \n",
      "2           249698        0.381788             NaN  \n",
      "3           305013        0.368832             NaN  \n",
      "4           383337        0.393779             NaN  \n",
      "...            ...             ...             ...  \n",
      "2154        428407       -0.647137             NaN  \n",
      "2155        438283       -0.861024             NaN  \n",
      "2156        425902       -0.984183             NaN  \n",
      "2157        397751       -0.812990             NaN  \n",
      "2158        409646       -0.713002             NaN  \n",
      "\n",
      "[2159 rows x 9 columns]\n"
     ]
    }
   ],
   "source": [
    "merged_df = pd.merge(df1, df2, on='trade_time',how='left')\n",
    "print(merged_df)"
   ]
  },
  {
   "cell_type": "code",
   "execution_count": 7,
   "id": "ebfcaeb8-099d-41a9-9d5d-7184196e4427",
   "metadata": {},
   "outputs": [],
   "source": [
    "merged_df.to_excel('output2024b.xlsx', index=False)"
   ]
  },
  {
   "cell_type": "code",
   "execution_count": null,
   "id": "04a8ec90-d54d-4ca0-87e6-cd268c92bab5",
   "metadata": {},
   "outputs": [],
   "source": []
  }
 ],
 "metadata": {
  "kernelspec": {
   "display_name": "Python [conda env:paddle_env]",
   "language": "python",
   "name": "conda-env-paddle_env-py"
  },
  "language_info": {
   "codemirror_mode": {
    "name": "ipython",
    "version": 3
   },
   "file_extension": ".py",
   "mimetype": "text/x-python",
   "name": "python",
   "nbconvert_exporter": "python",
   "pygments_lexer": "ipython3",
   "version": "3.8.20"
  }
 },
 "nbformat": 4,
 "nbformat_minor": 5
}
