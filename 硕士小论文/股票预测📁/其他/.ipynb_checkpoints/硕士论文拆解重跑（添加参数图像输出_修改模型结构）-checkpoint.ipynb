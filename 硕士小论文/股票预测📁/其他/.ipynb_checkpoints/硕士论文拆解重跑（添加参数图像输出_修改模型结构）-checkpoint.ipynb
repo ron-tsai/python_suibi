{
 "cells": [
  {
   "cell_type": "code",
   "execution_count": 1,
   "id": "c94f7744",
   "metadata": {},
   "outputs": [
    {
     "name": "stdout",
     "output_type": "stream",
     "text": [
      "Intel MKL WARNING: Support of Intel(R) Streaming SIMD Extensions 4.2 (Intel(R) SSE4.2) enabled only processors has been deprecated. Intel oneAPI Math Kernel Library 2025.0 will require Intel(R) Advanced Vector Extensions (Intel(R) AVX) instructions.\n",
      "Intel MKL WARNING: Support of Intel(R) Streaming SIMD Extensions 4.2 (Intel(R) SSE4.2) enabled only processors has been deprecated. Intel oneAPI Math Kernel Library 2025.0 will require Intel(R) Advanced Vector Extensions (Intel(R) AVX) instructions.\n"
     ]
    },
    {
     "name": "stderr",
     "output_type": "stream",
     "text": [
      "2025-01-04 16:05:17.125800: I tensorflow/core/platform/cpu_feature_guard.cc:182] This TensorFlow binary is optimized to use available CPU instructions in performance-critical operations.\n",
      "To enable the following instructions: SSE4.1 SSE4.2, in other operations, rebuild TensorFlow with the appropriate compiler flags.\n"
     ]
    }
   ],
   "source": [
    "import pandas as pd\n",
    "import numpy as np\n",
    "import os\n",
    "import keras\n",
    "\n",
    "\n",
    "%matplotlib inline\n",
    "from matplotlib import pyplot as plt\n",
    "from keras.models import Model\n",
    "from keras import layers\n",
    "from keras import Input\n",
    "from sklearn.metrics import confusion_matrix,roc_curve, auc,recall_score,precision_score,f1_score\n",
    "from keras.utils.vis_utils import plot_model"
   ]
  },
  {
   "cell_type": "markdown",
   "id": "fa353efb",
   "metadata": {},
   "source": [
    "# 参数设置"
   ]
  },
  {
   "cell_type": "code",
   "execution_count": 3,
   "id": "ccfe2d2a",
   "metadata": {
    "scrolled": true
   },
   "outputs": [],
   "source": [
    "# plt.rcParams['font.sans-serif'] = ['SimHei'] # 指定默认字体\n",
    "# plt.rcParams['axes.unicode_minus'] = False\n",
    "\n",
    "\n",
    "# from tensorflow import losses\n",
    "daily_back=20\n",
    "wenben_back=10\n",
    "total_day=2062\n",
    "train_num=1650\n",
    "\n",
    "\n",
    "\n",
    "wenben_sort=2\n",
    "batch_size=8\n",
    "epochs=20\n",
    "LSTM_num=100\n",
    "dense_num=20\n",
    "\n",
    "\n",
    "mix_file='777888.xlsx'\n",
    "first_columns='search_index'\n",
    "\n",
    "\n",
    "\n",
    "test_num=total_day-train_num"
   ]
  },
  {
   "cell_type": "markdown",
   "id": "1006d29e",
   "metadata": {},
   "source": []
  },
  {
   "cell_type": "code",
   "execution_count": null,
   "id": "911164cf",
   "metadata": {},
   "outputs": [],
   "source": []
  },
  {
   "cell_type": "markdown",
   "id": "5cada9a3",
   "metadata": {},
   "source": [
    "# 数据转换类，返回多个字典？"
   ]
  },
  {
   "cell_type": "code",
   "execution_count": 6,
   "id": "a58de0bc",
   "metadata": {},
   "outputs": [],
   "source": [
    "class Data_maker:\n",
    "    def __init__(self,train_num,test_num,fif_back,daily_back,wenben_back):\n",
    "        self.train_num=train_num\n",
    "        self.test_num=test_num\n",
    "        self.fif_back=fif_back\n",
    "        self.daily_back=daily_back\n",
    "        self.wenben_back = wenben_back\n",
    "\n",
    "\n",
    "    def daily_train_data(self,data):\n",
    "        while True:\n",
    "            rows = list(range(self.train_num - self.daily_back)) #总共1650个数据，由于扣除前面20个数据，所以为1630\n",
    "            ### 先构造空（预测日长度*日后移）array\n",
    "            samples = np.zeros((len(rows),\n",
    "                                 self.daily_back,\n",
    "                                 5))\n",
    "            print(samples.shape)\n",
    "            for j in rows:\n",
    "                ### 每一个填入用于预测一天的开盘价到波动率矩阵\n",
    "                samples[j] = data.loc[\n",
    "                                  (data.index >= j) & (data.index < self.daily_back + j),\n",
    "                                  'open':'volume_rate']\n",
    "            print(data.index)\n",
    "            print('日频训练array：',samples.shape)\n",
    "            return samples\n",
    "    def fif_train_data(self,data):\n",
    "        while True:\n",
    "            rows = list(range(self.train_num - self.daily_back))\n",
    "            samples = np.zeros((len(rows),\n",
    "                                 self.fif_back,\n",
    "                                 5))\n",
    "            for j in rows:\n",
    "\n",
    "                samples[j] = data.loc[\n",
    "                              (data.index >= j * self.fif_back ) & (data.index < (j+1) * self.fif_back),\n",
    "                              'open':]\n",
    "            print('十五分钟训练array：',samples.shape)\n",
    "            return samples\n",
    "    def wenben_train_data(self,data):\n",
    "        while True:\n",
    "            rows = list(range(self.train_num - self.daily_back)) #总共1489个数据，由于扣除前面20个数据，所以为1469\n",
    "            samples = np.zeros((len(rows),\n",
    "                                 self.wenben_back,\n",
    "                                 wenben_sort))\n",
    "            for j in rows:\n",
    "\n",
    "                samples[j] = data.loc[\n",
    "                                  (data.index >= j) & (data.index < self.wenben_back + j),\n",
    "                                  first_columns:]\n",
    "            print('文本长期训练array：',samples.shape)\n",
    "            return samples\n",
    "   \n",
    "\n",
    "    def daily_test_data(self,data):\n",
    "        while True:\n",
    "            rows = list(range(self.test_num - self.daily_back))\n",
    "            print(self.test_num,self.daily_back)\n",
    "            print(rows)\n",
    "            samples = np.zeros((len(rows),\n",
    "                                self.daily_back,\n",
    "                                 5))\n",
    "            for j in rows:\n",
    "\n",
    "\n",
    "                samples[j] = data.loc[\n",
    "                                  (data.index >= self.train_num+j) & (data.index < self.train_num+self.daily_back + j),\n",
    "                                  'open':'volume_rate']\n",
    "            print('日测试array：',samples.shape)\n",
    "            print('试一试index', data.index,'train_num',self.train_num)\n",
    "            return samples\n",
    "\n",
    "    def wenben_test_data(self, data):\n",
    "        while True:\n",
    "            rows = list(range(self.test_num - self.daily_back))\n",
    "            samples = np.zeros((len(rows),\n",
    "                                self.wenben_back,\n",
    "                                wenben_sort))\n",
    "            for j in rows:\n",
    "                samples[j] = data.loc[\n",
    "                             (data.index >= self.train_num + j) & (data.index < self.train_num + self.wenben_back + j),\n",
    "                             first_columns:]\n",
    "            print('长期文本测试array：', samples.shape)\n",
    "            return samples\n",
    "   \n",
    "    def fif_test_data(self,data):\n",
    "        while True:\n",
    "            rows = list(range(self.test_num - self.daily_back))\n",
    "            samples = np.zeros((len(rows),\n",
    "                                self.fif_back,\n",
    "                                 5))\n",
    "            for j in rows:\n",
    "\n",
    "\n",
    "                samples[j] = data.loc[\n",
    "                                 (data.index >= 16*self.train_num+(j) * self.fif_back) & (data.index < 16*self.train_num+(j+1) * self.fif_back),\n",
    "                                 'open':]\n",
    "            print('十五分钟测试array：',samples.shape)\n",
    "            return samples\n",
    "    def target_train_data(self,data):\n",
    "        while True:\n",
    "            rows = list(range(self.train_num-self.daily_back))\n",
    "            targets = np.zeros((len(rows),))\n",
    "            for j in rows:\n",
    "\n",
    "\n",
    "                targets[j] = data.loc[data.index == j, 'target']\n",
    "            print('训练标签array',targets.shape)\n",
    "            return targets\n",
    "    def target_test_data(self,data):\n",
    "        while True:\n",
    "            rows = list(range(self.test_num-self.daily_back))\n",
    "            targets = np.zeros((len(rows),))\n",
    "            for j in rows:\n",
    "\n",
    "\n",
    "                targets[j] = data.loc[data.index == self.train_num+j, 'target'] ##出问题：应该是。而不是***：data.index == self.train_num+j\n",
    "            print(targets.shape)\n",
    "            return targets"
   ]
  },
  {
   "cell_type": "markdown",
   "id": "2b0ac67d",
   "metadata": {},
   "source": [
    "# 设置类方法里的参数，赋值给origin_data_maker，仍然是一个class类"
   ]
  },
  {
   "cell_type": "code",
   "execution_count": 8,
   "id": "98d96df1",
   "metadata": {},
   "outputs": [],
   "source": [
    "origin_data_maker=Data_maker(train_num=train_num,test_num=test_num,fif_back=16,daily_back=20,wenben_back=wenben_back)\n"
   ]
  },
  {
   "cell_type": "markdown",
   "id": "08c9b0fa",
   "metadata": {},
   "source": [
    "# 读取原始数据"
   ]
  },
  {
   "cell_type": "code",
   "execution_count": 10,
   "id": "c5a53a33",
   "metadata": {},
   "outputs": [],
   "source": [
    "new_dir='/Users/ccmac/Documents/毕业论文数据/数据二合为一'\n",
    "dir='/Users/ccmac/Documents/毕业论文数据/数据区间试验'\n",
    "# wenben_dir='/Users/ccmac/Documents/毕业论文数据/每日均值'\n",
    "daily_df=pd.read_excel(os.path.join(new_dir,mix_file))\n",
    "fif_df=pd.read_excel(os.path.join(dir,'fif_data.xlsx'))\n",
    "target_df=pd.read_excel(os.path.join(dir,'target.xlsx'))\n",
    "wenben_df=pd.read_excel(os.path.join(new_dir,mix_file))"
   ]
  },
  {
   "cell_type": "markdown",
   "id": "a093f0e5",
   "metadata": {},
   "source": [
    "# 历史数据标准化函数norm"
   ]
  },
  {
   "cell_type": "code",
   "execution_count": 12,
   "id": "6f00c73f",
   "metadata": {},
   "outputs": [],
   "source": [
    "def norm(df):\n",
    "    x=df.copy()\n",
    "    open_mean_value = df['open'].mean(axis=0)\n",
    "    high_mean_value = df['high'].mean(axis=0)\n",
    "    low_mean_value = df['low'].mean()\n",
    "    close_mean_value = df['close'].mean()\n",
    "    volumerate_mean_value = df['volume_rate'].mean()\n",
    "\n",
    "    open_std_value = df['open'].std()\n",
    "    high_std_value = df['high'].std()\n",
    "    low_std_value = df['low'].std()\n",
    "    close_std_value = df['close'].std()\n",
    "    volumerate_std_value = df['volume_rate'].std()\n",
    "\n",
    "    x['open']=(df['open']-open_mean_value)/open_std_value\n",
    "    x['high'] = (df['high'] - high_mean_value) / high_std_value\n",
    "    x['low'] =  (df['low'] - low_mean_value) / low_std_value\n",
    "    x['close'] =  (df['close'] - close_mean_value) / close_std_value\n",
    "    x['volume_rate'] = (df['volume_rate'] - volumerate_mean_value) / volumerate_std_value\n",
    "    df=x\n",
    "    return df"
   ]
  },
  {
   "cell_type": "markdown",
   "id": "07a46668",
   "metadata": {},
   "source": [
    "# 文本数据标准化函数wenben_norm"
   ]
  },
  {
   "cell_type": "code",
   "execution_count": 14,
   "id": "78f471cd",
   "metadata": {},
   "outputs": [],
   "source": [
    "def wenben_norm(df):\n",
    "    x=df.copy()\n",
    "    sector_score_mean_value = df['sector_score'].mean(axis=0)\n",
    "    search_index_mean_value = df['search_index'].mean(axis=0)\n",
    "    # media_attention_mean_value = df['media_attention'].mean(axis=0)\n",
    "\n",
    "\n",
    "    sector_score_std_value = df['sector_score'].std()\n",
    "    search_index_std_value = df['search_index'].std()\n",
    "    # media_attention_std_value = df['media_attention'].std()\n",
    "\n",
    "\n",
    "    x['sector_score']=(df['sector_score']-sector_score_mean_value)/sector_score_std_value\n",
    "    x['search_index'] = (df['search_index'] - search_index_mean_value) / search_index_std_value\n",
    "    # x['media_attention'] = (df['media_attention'] - media_attention_mean_value) / media_attention_std_value\n",
    "\n",
    "    df=x\n",
    "    return df"
   ]
  },
  {
   "cell_type": "markdown",
   "id": "3b6911e7",
   "metadata": {},
   "source": [
    "# 数据切分"
   ]
  },
  {
   "cell_type": "code",
   "execution_count": 16,
   "id": "07835973",
   "metadata": {},
   "outputs": [],
   "source": [
    "def split_data(train_num=train_num,wenben_back=wenben_back):\n",
    "    daily_train_df=daily_df.loc[daily_df.index<train_num]\n",
    "    daily_test_df=daily_df.loc[daily_df.index>=train_num]\n",
    "    fif_train_df=fif_df.loc[fif_df.index<16*train_num]\n",
    "    fif_test_df=fif_df.loc[fif_df.index>=16*train_num]\n",
    "    wenben_train_df=wenben_df.loc[wenben_df.index<train_num]\n",
    "    wenben_test_df=wenben_df.loc[wenben_df.index>=train_num]\n",
    "\n",
    "    target_train_df=target_df.loc[target_df.index<train_num]\n",
    "    target_test_df=target_df.loc[target_df.index>=train_num]\n",
    "\n",
    "    daily_train_df=norm(daily_train_df)\n",
    "    daily_test_df=norm(daily_test_df)\n",
    "    fif_train_df=norm(fif_train_df)\n",
    "    fif_test_df=norm(fif_test_df)\n",
    "    wenben_train_df=wenben_norm(wenben_train_df)\n",
    "    wenben_test_df = wenben_norm(wenben_test_df)\n",
    "\n",
    "\n",
    "    return {'daily_train_df':daily_train_df,\n",
    "            'daily_test_df':daily_test_df,\n",
    "            'fif_train_df':fif_train_df,\n",
    "            'fif_test_df':fif_test_df,\n",
    "            'target_train_df':target_train_df,\n",
    "            'target_test_df':target_test_df,\n",
    "            'wenben_train_df':wenben_train_df,\n",
    "            'wenben_test_df': wenben_test_df\n",
    "            }"
   ]
  },
  {
   "cell_type": "markdown",
   "id": "557c115f",
   "metadata": {},
   "source": [
    "# 进行数据切分"
   ]
  },
  {
   "cell_type": "code",
   "execution_count": 18,
   "id": "b87cec91",
   "metadata": {},
   "outputs": [
    {
     "name": "stdout",
     "output_type": "stream",
     "text": [
      "日频训练切分： (1650, 9)\n",
      "日频测试切分： (412, 9)\n",
      "十五分钟频训练切分： (26400, 6)\n",
      "十五分钟频测试切分： (6592, 6)\n",
      "训练目标切分： (1650, 3)\n",
      "测试目标切分： (412, 3)\n"
     ]
    }
   ],
   "source": [
    "daily_train_df=split_data()['daily_train_df']\n",
    "print('日频训练切分：',daily_train_df.shape)\n",
    "daily_test_df=split_data()['daily_test_df']\n",
    "print('日频测试切分：',daily_test_df.shape)\n",
    "fif_train_df=split_data()['fif_train_df']\n",
    "print('十五分钟频训练切分：',fif_train_df.shape)\n",
    "fif_test_df=split_data()['fif_test_df']\n",
    "print('十五分钟频测试切分：',fif_test_df.shape)\n",
    "target_train_df=split_data()['target_train_df']\n",
    "print('训练目标切分：',target_train_df.shape)\n",
    "target_test_df=split_data()['target_test_df']\n",
    "print('测试目标切分：',target_test_df.shape)\n",
    "wenben_norm_train_df=split_data()['wenben_train_df']\n",
    "wenben_norm_test_df=split_data()['wenben_test_df']"
   ]
  },
  {
   "cell_type": "markdown",
   "id": "b84200b8",
   "metadata": {},
   "source": [
    "# 调用类中的方法,处理原始数据"
   ]
  },
  {
   "cell_type": "code",
   "execution_count": 20,
   "id": "a26f72f7",
   "metadata": {},
   "outputs": [
    {
     "name": "stdout",
     "output_type": "stream",
     "text": [
      "(1630, 20, 5)\n",
      "Index([   0,    1,    2,    3,    4,    5,    6,    7,    8,    9,\n",
      "       ...\n",
      "       1640, 1641, 1642, 1643, 1644, 1645, 1646, 1647, 1648, 1649],\n",
      "      dtype='int64', length=1650)\n",
      "日频训练array： (1630, 20, 5)\n",
      "412 20\n",
      "[0, 1, 2, 3, 4, 5, 6, 7, 8, 9, 10, 11, 12, 13, 14, 15, 16, 17, 18, 19, 20, 21, 22, 23, 24, 25, 26, 27, 28, 29, 30, 31, 32, 33, 34, 35, 36, 37, 38, 39, 40, 41, 42, 43, 44, 45, 46, 47, 48, 49, 50, 51, 52, 53, 54, 55, 56, 57, 58, 59, 60, 61, 62, 63, 64, 65, 66, 67, 68, 69, 70, 71, 72, 73, 74, 75, 76, 77, 78, 79, 80, 81, 82, 83, 84, 85, 86, 87, 88, 89, 90, 91, 92, 93, 94, 95, 96, 97, 98, 99, 100, 101, 102, 103, 104, 105, 106, 107, 108, 109, 110, 111, 112, 113, 114, 115, 116, 117, 118, 119, 120, 121, 122, 123, 124, 125, 126, 127, 128, 129, 130, 131, 132, 133, 134, 135, 136, 137, 138, 139, 140, 141, 142, 143, 144, 145, 146, 147, 148, 149, 150, 151, 152, 153, 154, 155, 156, 157, 158, 159, 160, 161, 162, 163, 164, 165, 166, 167, 168, 169, 170, 171, 172, 173, 174, 175, 176, 177, 178, 179, 180, 181, 182, 183, 184, 185, 186, 187, 188, 189, 190, 191, 192, 193, 194, 195, 196, 197, 198, 199, 200, 201, 202, 203, 204, 205, 206, 207, 208, 209, 210, 211, 212, 213, 214, 215, 216, 217, 218, 219, 220, 221, 222, 223, 224, 225, 226, 227, 228, 229, 230, 231, 232, 233, 234, 235, 236, 237, 238, 239, 240, 241, 242, 243, 244, 245, 246, 247, 248, 249, 250, 251, 252, 253, 254, 255, 256, 257, 258, 259, 260, 261, 262, 263, 264, 265, 266, 267, 268, 269, 270, 271, 272, 273, 274, 275, 276, 277, 278, 279, 280, 281, 282, 283, 284, 285, 286, 287, 288, 289, 290, 291, 292, 293, 294, 295, 296, 297, 298, 299, 300, 301, 302, 303, 304, 305, 306, 307, 308, 309, 310, 311, 312, 313, 314, 315, 316, 317, 318, 319, 320, 321, 322, 323, 324, 325, 326, 327, 328, 329, 330, 331, 332, 333, 334, 335, 336, 337, 338, 339, 340, 341, 342, 343, 344, 345, 346, 347, 348, 349, 350, 351, 352, 353, 354, 355, 356, 357, 358, 359, 360, 361, 362, 363, 364, 365, 366, 367, 368, 369, 370, 371, 372, 373, 374, 375, 376, 377, 378, 379, 380, 381, 382, 383, 384, 385, 386, 387, 388, 389, 390, 391]\n",
      "日测试array： (392, 20, 5)\n",
      "试一试index Index([1650, 1651, 1652, 1653, 1654, 1655, 1656, 1657, 1658, 1659,\n",
      "       ...\n",
      "       2052, 2053, 2054, 2055, 2056, 2057, 2058, 2059, 2060, 2061],\n",
      "      dtype='int64', length=412) train_num 1650\n",
      "十五分钟训练array： (1630, 16, 5)\n",
      "十五分钟测试array： (392, 16, 5)\n"
     ]
    },
    {
     "name": "stderr",
     "output_type": "stream",
     "text": [
      "/var/folders/5p/hvm0cq8x33b_42v5fj9lmxbh0000gn/T/ipykernel_25487/3624395069.py:106: FutureWarning: Calling float on a single element Series is deprecated and will raise a TypeError in the future. Use float(ser.iloc[0]) instead\n",
      "  targets[j] = data.loc[data.index == j, 'target']\n",
      "/var/folders/5p/hvm0cq8x33b_42v5fj9lmxbh0000gn/T/ipykernel_25487/3624395069.py:116: FutureWarning: Calling float on a single element Series is deprecated and will raise a TypeError in the future. Use float(ser.iloc[0]) instead\n",
      "  targets[j] = data.loc[data.index == self.train_num+j, 'target'] ##出问题：应该是。而不是***：data.index == self.train_num+j\n"
     ]
    },
    {
     "name": "stdout",
     "output_type": "stream",
     "text": [
      "训练标签array (1630,)\n",
      "(392,)\n",
      "文本长期训练array： (1630, 10, 2)\n",
      "长期文本测试array： (392, 10, 2)\n"
     ]
    }
   ],
   "source": [
    "DM=origin_data_maker\n",
    "\n",
    "daily_train=DM.daily_train_data(daily_train_df)\n",
    "daily_test=DM.daily_test_data(daily_test_df)\n",
    "fif_train=DM.fif_train_data(fif_train_df)\n",
    "fif_test=DM.fif_test_data(fif_test_df)\n",
    "target_train=DM.target_train_data(target_train_df)\n",
    "target_test=DM.target_test_data(target_test_df)\n",
    "\n",
    "wenben_train=DM.wenben_train_data(wenben_norm_train_df)\n",
    "\n",
    "wenben_test=DM.wenben_test_data(wenben_norm_test_df)\n"
   ]
  },
  {
   "cell_type": "markdown",
   "id": "eb802e8a",
   "metadata": {},
   "source": [
    "# 构建神经网络模型"
   ]
  },
  {
   "cell_type": "code",
   "execution_count": 22,
   "id": "f40a1c29",
   "metadata": {},
   "outputs": [],
   "source": [
    "def my_model(wenben_back,wenben_sort):\n",
    "\n",
    "    ##### 一、模型搭建\n",
    "\n",
    "    # 文本输入训练(!!!卷积滤镜行列先后)\n",
    "    wenben_input=Input(shape=(wenben_back,wenben_sort),dtype='float32',name='wenben_input')\n",
    "    Conv1D_fif=layers.Conv1D(16,1,strides=1)(wenben_input)\n",
    "    LSTM_wenben=layers.LSTM(LSTM_num)(Conv1D_fif)\n",
    "\n",
    "    # 15分钟频输入训练(!!!卷积滤镜行列先后)\n",
    "    fif_min_input=Input(shape=(16,5),dtype='float32',name='fif_min_input')\n",
    "    # fif_min_input=(8,16,4,1)\n",
    "    Conv1D_fif=layers.Conv1D(16,1,strides=1)(fif_min_input)\n",
    "    LSTM_fif=layers.LSTM(LSTM_num)(Conv1D_fif)\n",
    "\n",
    "    # 日频输入训练\n",
    "    daily_input=Input(shape=(20,5),dtype='float32',name='daily_input')\n",
    "    # daily_input=(8,16,4,1)\n",
    "    Conv1D_daily=layers.Conv1D(16,1,strides=1)(daily_input)\n",
    "    LSTM_daily=layers.LSTM(LSTM_num)(Conv1D_daily)\n",
    "    # 15分钟频训练结果和日频训练结果合并\n",
    "    concatenated=layers.concatenate([LSTM_fif,LSTM_daily,LSTM_wenben],axis=-1) # axis=-1按照最后一个轴粘合\n",
    "\n",
    "    alloy=layers.Dense(dense_num,activation='relu')(concatenated) #将粘合结果再接一个全连接层\n",
    "    dropout=layers.Dropout(0.2)(alloy)\n",
    "    output=layers.Dense(1,activation='sigmoid')(dropout)\n",
    "    model=Model([fif_min_input,daily_input,wenben_input],output) #八股文：将输入和输出圈起来\n",
    "\n",
    "    print(model.summary())\n",
    "    model.compile(optimizer=keras.optimizers.Adam(lr=1e-3),loss='binary_crossentropy',metrics=['acc'])\n",
    "    return model\n",
    "    # reduce_lr = ReduceLROnPlateau(monitor='val_loss', patience=5, mode='auto')\n"
   ]
  },
  {
   "cell_type": "markdown",
   "id": "4a065f8c",
   "metadata": {},
   "source": [
    "# 模型滞后时长赋值"
   ]
  },
  {
   "cell_type": "code",
   "execution_count": 24,
   "id": "993a90eb",
   "metadata": {},
   "outputs": [
    {
     "name": "stderr",
     "output_type": "stream",
     "text": [
      "2025-01-04 16:05:26.807642: I tensorflow/core/common_runtime/executor.cc:1197] [/device:CPU:0] (DEBUG INFO) Executor start aborting (this does not indicate an error and you can ignore this message): INVALID_ARGUMENT: You must feed a value for placeholder tensor 'gradients/split_2_grad/concat/split_2/split_dim' with dtype int32\n",
      "\t [[{{node gradients/split_2_grad/concat/split_2/split_dim}}]]\n",
      "2025-01-04 16:05:26.809248: I tensorflow/core/common_runtime/executor.cc:1197] [/device:CPU:0] (DEBUG INFO) Executor start aborting (this does not indicate an error and you can ignore this message): INVALID_ARGUMENT: You must feed a value for placeholder tensor 'gradients/split_grad/concat/split/split_dim' with dtype int32\n",
      "\t [[{{node gradients/split_grad/concat/split/split_dim}}]]\n",
      "2025-01-04 16:05:26.810725: I tensorflow/core/common_runtime/executor.cc:1197] [/device:CPU:0] (DEBUG INFO) Executor start aborting (this does not indicate an error and you can ignore this message): INVALID_ARGUMENT: You must feed a value for placeholder tensor 'gradients/split_1_grad/concat/split_1/split_dim' with dtype int32\n",
      "\t [[{{node gradients/split_1_grad/concat/split_1/split_dim}}]]\n",
      "2025-01-04 16:05:26.954156: I tensorflow/core/common_runtime/executor.cc:1197] [/device:CPU:0] (DEBUG INFO) Executor start aborting (this does not indicate an error and you can ignore this message): INVALID_ARGUMENT: You must feed a value for placeholder tensor 'gradients/split_2_grad/concat/split_2/split_dim' with dtype int32\n",
      "\t [[{{node gradients/split_2_grad/concat/split_2/split_dim}}]]\n",
      "2025-01-04 16:05:26.955118: I tensorflow/core/common_runtime/executor.cc:1197] [/device:CPU:0] (DEBUG INFO) Executor start aborting (this does not indicate an error and you can ignore this message): INVALID_ARGUMENT: You must feed a value for placeholder tensor 'gradients/split_grad/concat/split/split_dim' with dtype int32\n",
      "\t [[{{node gradients/split_grad/concat/split/split_dim}}]]\n",
      "2025-01-04 16:05:26.956598: I tensorflow/core/common_runtime/executor.cc:1197] [/device:CPU:0] (DEBUG INFO) Executor start aborting (this does not indicate an error and you can ignore this message): INVALID_ARGUMENT: You must feed a value for placeholder tensor 'gradients/split_1_grad/concat/split_1/split_dim' with dtype int32\n",
      "\t [[{{node gradients/split_1_grad/concat/split_1/split_dim}}]]\n"
     ]
    },
    {
     "name": "stdout",
     "output_type": "stream",
     "text": [
      "Model: \"model\"\n",
      "__________________________________________________________________________________________________\n",
      " Layer (type)                   Output Shape         Param #     Connected to                     \n",
      "==================================================================================================\n",
      " fif_min_input (InputLayer)     [(None, 16, 5)]      0           []                               \n",
      "                                                                                                  \n",
      " daily_input (InputLayer)       [(None, 20, 5)]      0           []                               \n",
      "                                                                                                  \n",
      " wenben_input (InputLayer)      [(None, 10, 2)]      0           []                               \n",
      "                                                                                                  \n",
      " conv1d_1 (Conv1D)              (None, 16, 16)       96          ['fif_min_input[0][0]']          \n",
      "                                                                                                  \n",
      " conv1d_2 (Conv1D)              (None, 20, 16)       96          ['daily_input[0][0]']            \n",
      "                                                                                                  \n",
      " conv1d (Conv1D)                (None, 10, 16)       48          ['wenben_input[0][0]']           \n",
      "                                                                                                  \n",
      " lstm_1 (LSTM)                  (None, 100)          46800       ['conv1d_1[0][0]']               \n",
      "                                                                                                  \n",
      " lstm_2 (LSTM)                  (None, 100)          46800       ['conv1d_2[0][0]']               \n",
      "                                                                                                  \n",
      " lstm (LSTM)                    (None, 100)          46800       ['conv1d[0][0]']                 \n",
      "                                                                                                  \n",
      " concatenate (Concatenate)      (None, 300)          0           ['lstm_1[0][0]',                 \n",
      "                                                                  'lstm_2[0][0]',                 \n",
      "                                                                  'lstm[0][0]']                   \n",
      "                                                                                                  \n",
      " dense (Dense)                  (None, 20)           6020        ['concatenate[0][0]']            \n",
      "                                                                                                  \n",
      " dropout (Dropout)              (None, 20)           0           ['dense[0][0]']                  \n",
      "                                                                                                  \n",
      " dense_1 (Dense)                (None, 1)            21          ['dropout[0][0]']                \n",
      "                                                                                                  \n",
      "==================================================================================================\n",
      "Total params: 146,681\n",
      "Trainable params: 146,681\n",
      "Non-trainable params: 0\n",
      "__________________________________________________________________________________________________\n",
      "None\n"
     ]
    },
    {
     "name": "stderr",
     "output_type": "stream",
     "text": [
      "2025-01-04 16:05:27.101088: I tensorflow/core/common_runtime/executor.cc:1197] [/device:CPU:0] (DEBUG INFO) Executor start aborting (this does not indicate an error and you can ignore this message): INVALID_ARGUMENT: You must feed a value for placeholder tensor 'gradients/split_2_grad/concat/split_2/split_dim' with dtype int32\n",
      "\t [[{{node gradients/split_2_grad/concat/split_2/split_dim}}]]\n",
      "2025-01-04 16:05:27.103520: I tensorflow/core/common_runtime/executor.cc:1197] [/device:CPU:0] (DEBUG INFO) Executor start aborting (this does not indicate an error and you can ignore this message): INVALID_ARGUMENT: You must feed a value for placeholder tensor 'gradients/split_grad/concat/split/split_dim' with dtype int32\n",
      "\t [[{{node gradients/split_grad/concat/split/split_dim}}]]\n",
      "2025-01-04 16:05:27.104434: I tensorflow/core/common_runtime/executor.cc:1197] [/device:CPU:0] (DEBUG INFO) Executor start aborting (this does not indicate an error and you can ignore this message): INVALID_ARGUMENT: You must feed a value for placeholder tensor 'gradients/split_1_grad/concat/split_1/split_dim' with dtype int32\n",
      "\t [[{{node gradients/split_1_grad/concat/split_1/split_dim}}]]\n",
      "/opt/anaconda3/envs/tf_env/lib/python3.8/site-packages/keras/optimizers/legacy/adam.py:117: UserWarning: The `lr` argument is deprecated, use `learning_rate` instead.\n",
      "  super().__init__(name, **kwargs)\n"
     ]
    }
   ],
   "source": [
    "model=my_model(wenben_back=wenben_back,wenben_sort=wenben_sort)\n"
   ]
  },
  {
   "cell_type": "markdown",
   "id": "e025ba5e-a33c-4474-9138-18ad1474565b",
   "metadata": {},
   "source": [
    "# 添加输出模型参数的代码块"
   ]
  },
  {
   "cell_type": "code",
   "execution_count": 26,
   "id": "f42bfef1-b9f0-4103-9a4d-c90f8bb13126",
   "metadata": {},
   "outputs": [
    {
     "data": {
      "image/png": "[encoded data removed]",
      "text/plain": [
       "<IPython.core.display.Image object>"
      ]
     },
     "execution_count": 26,
     "metadata": {},
     "output_type": "execute_result"
    }
   ],
   "source": [
    "plot_model(model, to_file='model_structure.png', show_shapes=True, show_layer_names=True)"
   ]
  },
  {
   "cell_type": "markdown",
   "id": "8620eccf",
   "metadata": {},
   "source": [
    "# model.fit(输入自变量x，因变量y)"
   ]
  },
  {
   "cell_type": "code",
   "execution_count": 28,
   "id": "6ebf83ca",
   "metadata": {},
   "outputs": [
    {
     "name": "stdout",
     "output_type": "stream",
     "text": [
      "Epoch 1/20\n"
     ]
    },
    {
     "name": "stderr",
     "output_type": "stream",
     "text": [
      "2025-01-04 16:05:27.796341: I tensorflow/core/common_runtime/executor.cc:1197] [/device:CPU:0] (DEBUG INFO) Executor start aborting (this does not indicate an error and you can ignore this message): INVALID_ARGUMENT: You must feed a value for placeholder tensor 'gradients/split_2_grad/concat/split_2/split_dim' with dtype int32\n",
      "\t [[{{node gradients/split_2_grad/concat/split_2/split_dim}}]]\n",
      "2025-01-04 16:05:27.800555: I tensorflow/core/common_runtime/executor.cc:1197] [/device:CPU:0] (DEBUG INFO) Executor start aborting (this does not indicate an error and you can ignore this message): INVALID_ARGUMENT: You must feed a value for placeholder tensor 'gradients/split_grad/concat/split/split_dim' with dtype int32\n",
      "\t [[{{node gradients/split_grad/concat/split/split_dim}}]]\n",
      "2025-01-04 16:05:27.801877: I tensorflow/core/common_runtime/executor.cc:1197] [/device:CPU:0] (DEBUG INFO) Executor start aborting (this does not indicate an error and you can ignore this message): INVALID_ARGUMENT: You must feed a value for placeholder tensor 'gradients/split_1_grad/concat/split_1/split_dim' with dtype int32\n",
      "\t [[{{node gradients/split_1_grad/concat/split_1/split_dim}}]]\n",
      "2025-01-04 16:05:27.942213: I tensorflow/core/common_runtime/executor.cc:1197] [/device:CPU:0] (DEBUG INFO) Executor start aborting (this does not indicate an error and you can ignore this message): INVALID_ARGUMENT: You must feed a value for placeholder tensor 'gradients/split_2_grad/concat/split_2/split_dim' with dtype int32\n",
      "\t [[{{node gradients/split_2_grad/concat/split_2/split_dim}}]]\n",
      "2025-01-04 16:05:27.943295: I tensorflow/core/common_runtime/executor.cc:1197] [/device:CPU:0] (DEBUG INFO) Executor start aborting (this does not indicate an error and you can ignore this message): INVALID_ARGUMENT: You must feed a value for placeholder tensor 'gradients/split_grad/concat/split/split_dim' with dtype int32\n",
      "\t [[{{node gradients/split_grad/concat/split/split_dim}}]]\n",
      "2025-01-04 16:05:27.944431: I tensorflow/core/common_runtime/executor.cc:1197] [/device:CPU:0] (DEBUG INFO) Executor start aborting (this does not indicate an error and you can ignore this message): INVALID_ARGUMENT: You must feed a value for placeholder tensor 'gradients/split_1_grad/concat/split_1/split_dim' with dtype int32\n",
      "\t [[{{node gradients/split_1_grad/concat/split_1/split_dim}}]]\n",
      "2025-01-04 16:05:28.086543: I tensorflow/core/common_runtime/executor.cc:1197] [/device:CPU:0] (DEBUG INFO) Executor start aborting (this does not indicate an error and you can ignore this message): INVALID_ARGUMENT: You must feed a value for placeholder tensor 'gradients/split_2_grad/concat/split_2/split_dim' with dtype int32\n",
      "\t [[{{node gradients/split_2_grad/concat/split_2/split_dim}}]]\n",
      "2025-01-04 16:05:28.088438: I tensorflow/core/common_runtime/executor.cc:1197] [/device:CPU:0] (DEBUG INFO) Executor start aborting (this does not indicate an error and you can ignore this message): INVALID_ARGUMENT: You must feed a value for placeholder tensor 'gradients/split_grad/concat/split/split_dim' with dtype int32\n",
      "\t [[{{node gradients/split_grad/concat/split/split_dim}}]]\n",
      "2025-01-04 16:05:28.089375: I tensorflow/core/common_runtime/executor.cc:1197] [/device:CPU:0] (DEBUG INFO) Executor start aborting (this does not indicate an error and you can ignore this message): INVALID_ARGUMENT: You must feed a value for placeholder tensor 'gradients/split_1_grad/concat/split_1/split_dim' with dtype int32\n",
      "\t [[{{node gradients/split_1_grad/concat/split_1/split_dim}}]]\n",
      "2025-01-04 16:05:29.009697: I tensorflow/core/common_runtime/executor.cc:1197] [/device:CPU:0] (DEBUG INFO) Executor start aborting (this does not indicate an error and you can ignore this message): INVALID_ARGUMENT: You must feed a value for placeholder tensor 'gradients/split_2_grad/concat/split_2/split_dim' with dtype int32\n",
      "\t [[{{node gradients/split_2_grad/concat/split_2/split_dim}}]]\n",
      "2025-01-04 16:05:29.010814: I tensorflow/core/common_runtime/executor.cc:1197] [/device:CPU:0] (DEBUG INFO) Executor start aborting (this does not indicate an error and you can ignore this message): INVALID_ARGUMENT: You must feed a value for placeholder tensor 'gradients/split_grad/concat/split/split_dim' with dtype int32\n",
      "\t [[{{node gradients/split_grad/concat/split/split_dim}}]]\n",
      "2025-01-04 16:05:29.011679: I tensorflow/core/common_runtime/executor.cc:1197] [/device:CPU:0] (DEBUG INFO) Executor start aborting (this does not indicate an error and you can ignore this message): INVALID_ARGUMENT: You must feed a value for placeholder tensor 'gradients/split_1_grad/concat/split_1/split_dim' with dtype int32\n",
      "\t [[{{node gradients/split_1_grad/concat/split_1/split_dim}}]]\n",
      "2025-01-04 16:05:29.148919: I tensorflow/core/common_runtime/executor.cc:1197] [/device:CPU:0] (DEBUG INFO) Executor start aborting (this does not indicate an error and you can ignore this message): INVALID_ARGUMENT: You must feed a value for placeholder tensor 'gradients/split_2_grad/concat/split_2/split_dim' with dtype int32\n",
      "\t [[{{node gradients/split_2_grad/concat/split_2/split_dim}}]]\n",
      "2025-01-04 16:05:29.149882: I tensorflow/core/common_runtime/executor.cc:1197] [/device:CPU:0] (DEBUG INFO) Executor start aborting (this does not indicate an error and you can ignore this message): INVALID_ARGUMENT: You must feed a value for placeholder tensor 'gradients/split_grad/concat/split/split_dim' with dtype int32\n",
      "\t [[{{node gradients/split_grad/concat/split/split_dim}}]]\n",
      "2025-01-04 16:05:29.151077: I tensorflow/core/common_runtime/executor.cc:1197] [/device:CPU:0] (DEBUG INFO) Executor start aborting (this does not indicate an error and you can ignore this message): INVALID_ARGUMENT: You must feed a value for placeholder tensor 'gradients/split_1_grad/concat/split_1/split_dim' with dtype int32\n",
      "\t [[{{node gradients/split_1_grad/concat/split_1/split_dim}}]]\n",
      "2025-01-04 16:05:29.291563: I tensorflow/core/common_runtime/executor.cc:1197] [/device:CPU:0] (DEBUG INFO) Executor start aborting (this does not indicate an error and you can ignore this message): INVALID_ARGUMENT: You must feed a value for placeholder tensor 'gradients/split_2_grad/concat/split_2/split_dim' with dtype int32\n",
      "\t [[{{node gradients/split_2_grad/concat/split_2/split_dim}}]]\n",
      "2025-01-04 16:05:29.292395: I tensorflow/core/common_runtime/executor.cc:1197] [/device:CPU:0] (DEBUG INFO) Executor start aborting (this does not indicate an error and you can ignore this message): INVALID_ARGUMENT: You must feed a value for placeholder tensor 'gradients/split_grad/concat/split/split_dim' with dtype int32\n",
      "\t [[{{node gradients/split_grad/concat/split/split_dim}}]]\n",
      "2025-01-04 16:05:29.293445: I tensorflow/core/common_runtime/executor.cc:1197] [/device:CPU:0] (DEBUG INFO) Executor start aborting (this does not indicate an error and you can ignore this message): INVALID_ARGUMENT: You must feed a value for placeholder tensor 'gradients/split_1_grad/concat/split_1/split_dim' with dtype int32\n",
      "\t [[{{node gradients/split_1_grad/concat/split_1/split_dim}}]]\n"
     ]
    },
    {
     "name": "stdout",
     "output_type": "stream",
     "text": [
      "150/153 [============================>.] - ETA: 0s - loss: 0.6999 - acc: 0.5158"
     ]
    },
    {
     "name": "stderr",
     "output_type": "stream",
     "text": [
      "2025-01-04 16:05:32.429170: I tensorflow/core/common_runtime/executor.cc:1197] [/device:CPU:0] (DEBUG INFO) Executor start aborting (this does not indicate an error and you can ignore this message): INVALID_ARGUMENT: You must feed a value for placeholder tensor 'gradients/split_2_grad/concat/split_2/split_dim' with dtype int32\n",
      "\t [[{{node gradients/split_2_grad/concat/split_2/split_dim}}]]\n",
      "2025-01-04 16:05:32.430321: I tensorflow/core/common_runtime/executor.cc:1197] [/device:CPU:0] (DEBUG INFO) Executor start aborting (this does not indicate an error and you can ignore this message): INVALID_ARGUMENT: You must feed a value for placeholder tensor 'gradients/split_grad/concat/split/split_dim' with dtype int32\n",
      "\t [[{{node gradients/split_grad/concat/split/split_dim}}]]\n",
      "2025-01-04 16:05:32.431800: I tensorflow/core/common_runtime/executor.cc:1197] [/device:CPU:0] (DEBUG INFO) Executor start aborting (this does not indicate an error and you can ignore this message): INVALID_ARGUMENT: You must feed a value for placeholder tensor 'gradients/split_1_grad/concat/split_1/split_dim' with dtype int32\n",
      "\t [[{{node gradients/split_1_grad/concat/split_1/split_dim}}]]\n",
      "2025-01-04 16:05:32.562528: I tensorflow/core/common_runtime/executor.cc:1197] [/device:CPU:0] (DEBUG INFO) Executor start aborting (this does not indicate an error and you can ignore this message): INVALID_ARGUMENT: You must feed a value for placeholder tensor 'gradients/split_2_grad/concat/split_2/split_dim' with dtype int32\n",
      "\t [[{{node gradients/split_2_grad/concat/split_2/split_dim}}]]\n",
      "2025-01-04 16:05:32.564406: I tensorflow/core/common_runtime/executor.cc:1197] [/device:CPU:0] (DEBUG INFO) Executor start aborting (this does not indicate an error and you can ignore this message): INVALID_ARGUMENT: You must feed a value for placeholder tensor 'gradients/split_grad/concat/split/split_dim' with dtype int32\n",
      "\t [[{{node gradients/split_grad/concat/split/split_dim}}]]\n",
      "2025-01-04 16:05:32.565263: I tensorflow/core/common_runtime/executor.cc:1197] [/device:CPU:0] (DEBUG INFO) Executor start aborting (this does not indicate an error and you can ignore this message): INVALID_ARGUMENT: You must feed a value for placeholder tensor 'gradients/split_1_grad/concat/split_1/split_dim' with dtype int32\n",
      "\t [[{{node gradients/split_1_grad/concat/split_1/split_dim}}]]\n",
      "2025-01-04 16:05:32.701244: I tensorflow/core/common_runtime/executor.cc:1197] [/device:CPU:0] (DEBUG INFO) Executor start aborting (this does not indicate an error and you can ignore this message): INVALID_ARGUMENT: You must feed a value for placeholder tensor 'gradients/split_2_grad/concat/split_2/split_dim' with dtype int32\n",
      "\t [[{{node gradients/split_2_grad/concat/split_2/split_dim}}]]\n",
      "2025-01-04 16:05:32.702422: I tensorflow/core/common_runtime/executor.cc:1197] [/device:CPU:0] (DEBUG INFO) Executor start aborting (this does not indicate an error and you can ignore this message): INVALID_ARGUMENT: You must feed a value for placeholder tensor 'gradients/split_grad/concat/split/split_dim' with dtype int32\n",
      "\t [[{{node gradients/split_grad/concat/split/split_dim}}]]\n",
      "2025-01-04 16:05:32.703377: I tensorflow/core/common_runtime/executor.cc:1197] [/device:CPU:0] (DEBUG INFO) Executor start aborting (this does not indicate an error and you can ignore this message): INVALID_ARGUMENT: You must feed a value for placeholder tensor 'gradients/split_1_grad/concat/split_1/split_dim' with dtype int32\n",
      "\t [[{{node gradients/split_1_grad/concat/split_1/split_dim}}]]\n"
     ]
    },
    {
     "name": "stdout",
     "output_type": "stream",
     "text": [
      "153/153 [==============================] - 6s 16ms/step - loss: 0.6998 - acc: 0.5172 - val_loss: 0.7069 - val_acc: 0.4779\n",
      "Epoch 2/20\n",
      "153/153 [==============================] - 2s 11ms/step - loss: 0.6959 - acc: 0.5262 - val_loss: 0.7001 - val_acc: 0.4779\n",
      "Epoch 3/20\n",
      "153/153 [==============================] - 2s 12ms/step - loss: 0.6914 - acc: 0.5376 - val_loss: 0.6960 - val_acc: 0.4779\n",
      "Epoch 4/20\n",
      "153/153 [==============================] - 2s 11ms/step - loss: 0.6882 - acc: 0.5417 - val_loss: 0.7101 - val_acc: 0.4779\n",
      "Epoch 5/20\n",
      "153/153 [==============================] - 2s 10ms/step - loss: 0.6863 - acc: 0.5426 - val_loss: 0.7012 - val_acc: 0.4779\n",
      "Epoch 6/20\n",
      "153/153 [==============================] - 1s 8ms/step - loss: 0.6835 - acc: 0.5499 - val_loss: 0.7040 - val_acc: 0.4779\n",
      "Epoch 7/20\n",
      "153/153 [==============================] - 1s 9ms/step - loss: 0.6850 - acc: 0.5344 - val_loss: 0.7025 - val_acc: 0.4779\n",
      "Epoch 8/20\n",
      "153/153 [==============================] - 1s 7ms/step - loss: 0.6848 - acc: 0.5458 - val_loss: 0.6915 - val_acc: 0.4975\n",
      "Epoch 9/20\n",
      "153/153 [==============================] - 1s 7ms/step - loss: 0.6828 - acc: 0.5581 - val_loss: 0.6913 - val_acc: 0.5245\n",
      "Epoch 10/20\n",
      "153/153 [==============================] - 1s 7ms/step - loss: 0.6848 - acc: 0.5434 - val_loss: 0.7421 - val_acc: 0.4853\n",
      "Epoch 11/20\n",
      "153/153 [==============================] - 1s 7ms/step - loss: 0.6843 - acc: 0.5548 - val_loss: 0.7005 - val_acc: 0.5025\n",
      "Epoch 12/20\n",
      "153/153 [==============================] - 1s 7ms/step - loss: 0.6864 - acc: 0.5606 - val_loss: 0.7007 - val_acc: 0.5098\n",
      "Epoch 13/20\n",
      "153/153 [==============================] - 1s 7ms/step - loss: 0.6816 - acc: 0.5516 - val_loss: 0.7066 - val_acc: 0.5000\n",
      "Epoch 14/20\n",
      "153/153 [==============================] - 1s 7ms/step - loss: 0.6767 - acc: 0.5638 - val_loss: 0.6845 - val_acc: 0.5735\n",
      "Epoch 15/20\n",
      "153/153 [==============================] - 1s 7ms/step - loss: 0.6756 - acc: 0.5565 - val_loss: 0.6943 - val_acc: 0.5343\n",
      "Epoch 16/20\n",
      "153/153 [==============================] - 1s 7ms/step - loss: 0.6681 - acc: 0.5646 - val_loss: 0.6832 - val_acc: 0.5637\n",
      "Epoch 17/20\n",
      "153/153 [==============================] - 1s 7ms/step - loss: 0.6661 - acc: 0.5736 - val_loss: 0.7035 - val_acc: 0.5196\n",
      "Epoch 18/20\n",
      "153/153 [==============================] - 1s 7ms/step - loss: 0.6635 - acc: 0.5843 - val_loss: 0.6846 - val_acc: 0.5515\n",
      "Epoch 19/20\n",
      "153/153 [==============================] - 1s 7ms/step - loss: 0.6661 - acc: 0.5867 - val_loss: 0.6941 - val_acc: 0.5588\n",
      "Epoch 20/20\n",
      "153/153 [==============================] - 1s 7ms/step - loss: 0.6605 - acc: 0.5949 - val_loss: 0.6830 - val_acc: 0.5686\n"
     ]
    }
   ],
   "source": [
    "history=model.fit(x=[fif_train,daily_train,wenben_train],y=target_train,batch_size=batch_size,validation_split=0.25,epochs=epochs)\n"
   ]
  },
  {
   "cell_type": "markdown",
   "id": "0cd0ae96",
   "metadata": {},
   "source": [
    "# model.evaluate(输入测试数据)，进行模型预测性能测试"
   ]
  },
  {
   "cell_type": "code",
   "execution_count": 30,
   "id": "47bd90e9",
   "metadata": {},
   "outputs": [
    {
     "name": "stderr",
     "output_type": "stream",
     "text": [
      "2025-01-04 16:05:57.442992: I tensorflow/core/common_runtime/executor.cc:1197] [/device:CPU:0] (DEBUG INFO) Executor start aborting (this does not indicate an error and you can ignore this message): INVALID_ARGUMENT: You must feed a value for placeholder tensor 'gradients/split_2_grad/concat/split_2/split_dim' with dtype int32\n",
      "\t [[{{node gradients/split_2_grad/concat/split_2/split_dim}}]]\n",
      "2025-01-04 16:05:57.443848: I tensorflow/core/common_runtime/executor.cc:1197] [/device:CPU:0] (DEBUG INFO) Executor start aborting (this does not indicate an error and you can ignore this message): INVALID_ARGUMENT: You must feed a value for placeholder tensor 'gradients/split_grad/concat/split/split_dim' with dtype int32\n",
      "\t [[{{node gradients/split_grad/concat/split/split_dim}}]]\n",
      "2025-01-04 16:05:57.444672: I tensorflow/core/common_runtime/executor.cc:1197] [/device:CPU:0] (DEBUG INFO) Executor start aborting (this does not indicate an error and you can ignore this message): INVALID_ARGUMENT: You must feed a value for placeholder tensor 'gradients/split_1_grad/concat/split_1/split_dim' with dtype int32\n",
      "\t [[{{node gradients/split_1_grad/concat/split_1/split_dim}}]]\n",
      "2025-01-04 16:05:57.550557: I tensorflow/core/common_runtime/executor.cc:1197] [/device:CPU:0] (DEBUG INFO) Executor start aborting (this does not indicate an error and you can ignore this message): INVALID_ARGUMENT: You must feed a value for placeholder tensor 'gradients/split_2_grad/concat/split_2/split_dim' with dtype int32\n",
      "\t [[{{node gradients/split_2_grad/concat/split_2/split_dim}}]]\n",
      "2025-01-04 16:05:57.551253: I tensorflow/core/common_runtime/executor.cc:1197] [/device:CPU:0] (DEBUG INFO) Executor start aborting (this does not indicate an error and you can ignore this message): INVALID_ARGUMENT: You must feed a value for placeholder tensor 'gradients/split_grad/concat/split/split_dim' with dtype int32\n",
      "\t [[{{node gradients/split_grad/concat/split/split_dim}}]]\n",
      "2025-01-04 16:05:57.551894: I tensorflow/core/common_runtime/executor.cc:1197] [/device:CPU:0] (DEBUG INFO) Executor start aborting (this does not indicate an error and you can ignore this message): INVALID_ARGUMENT: You must feed a value for placeholder tensor 'gradients/split_1_grad/concat/split_1/split_dim' with dtype int32\n",
      "\t [[{{node gradients/split_1_grad/concat/split_1/split_dim}}]]\n",
      "2025-01-04 16:05:57.659040: I tensorflow/core/common_runtime/executor.cc:1197] [/device:CPU:0] (DEBUG INFO) Executor start aborting (this does not indicate an error and you can ignore this message): INVALID_ARGUMENT: You must feed a value for placeholder tensor 'gradients/split_2_grad/concat/split_2/split_dim' with dtype int32\n",
      "\t [[{{node gradients/split_2_grad/concat/split_2/split_dim}}]]\n",
      "2025-01-04 16:05:57.659728: I tensorflow/core/common_runtime/executor.cc:1197] [/device:CPU:0] (DEBUG INFO) Executor start aborting (this does not indicate an error and you can ignore this message): INVALID_ARGUMENT: You must feed a value for placeholder tensor 'gradients/split_grad/concat/split/split_dim' with dtype int32\n",
      "\t [[{{node gradients/split_grad/concat/split/split_dim}}]]\n",
      "2025-01-04 16:05:57.660534: I tensorflow/core/common_runtime/executor.cc:1197] [/device:CPU:0] (DEBUG INFO) Executor start aborting (this does not indicate an error and you can ignore this message): INVALID_ARGUMENT: You must feed a value for placeholder tensor 'gradients/split_1_grad/concat/split_1/split_dim' with dtype int32\n",
      "\t [[{{node gradients/split_1_grad/concat/split_1/split_dim}}]]\n"
     ]
    },
    {
     "name": "stdout",
     "output_type": "stream",
     "text": [
      "13/13 [==============================] - 1s 4ms/step - loss: 0.7102 - acc: 0.5842\n",
      "0.7101578712463379 0.5841836929321289\n"
     ]
    }
   ],
   "source": [
    "loss,accuracy = model.evaluate([fif_test,daily_test,wenben_test],y=target_test)\n",
    "print(loss,accuracy)"
   ]
  },
  {
   "cell_type": "markdown",
   "id": "d9607cca",
   "metadata": {},
   "source": [
    "# 构建y的函数"
   ]
  },
  {
   "cell_type": "code",
   "execution_count": 32,
   "id": "fc23d49f",
   "metadata": {},
   "outputs": [],
   "source": [
    "def gen_y_pred():\n",
    "    y_predict=model.predict([fif_test,daily_test,wenben_test],batch_size=1).reshape(test_num-daily_back).tolist() ###batch_size要设为1，不然evaluate和predict结果不同\n",
    "    y_pred=[]\n",
    "    for i,v in enumerate(y_predict):\n",
    "        if v>0.5:\n",
    "            y_pred.append(1)\n",
    "        if v<0.5:\n",
    "            y_pred.append(0)\n",
    "    return y_pred"
   ]
  },
  {
   "cell_type": "markdown",
   "id": "915e4535",
   "metadata": {},
   "source": [
    "# 制作y"
   ]
  },
  {
   "cell_type": "code",
   "execution_count": 34,
   "id": "191b4fa7",
   "metadata": {},
   "outputs": [
    {
     "name": "stderr",
     "output_type": "stream",
     "text": [
      "2025-01-04 16:05:58.136998: I tensorflow/core/common_runtime/executor.cc:1197] [/device:CPU:0] (DEBUG INFO) Executor start aborting (this does not indicate an error and you can ignore this message): INVALID_ARGUMENT: You must feed a value for placeholder tensor 'gradients/split_2_grad/concat/split_2/split_dim' with dtype int32\n",
      "\t [[{{node gradients/split_2_grad/concat/split_2/split_dim}}]]\n",
      "2025-01-04 16:05:58.137689: I tensorflow/core/common_runtime/executor.cc:1197] [/device:CPU:0] (DEBUG INFO) Executor start aborting (this does not indicate an error and you can ignore this message): INVALID_ARGUMENT: You must feed a value for placeholder tensor 'gradients/split_grad/concat/split/split_dim' with dtype int32\n",
      "\t [[{{node gradients/split_grad/concat/split/split_dim}}]]\n",
      "2025-01-04 16:05:58.138554: I tensorflow/core/common_runtime/executor.cc:1197] [/device:CPU:0] (DEBUG INFO) Executor start aborting (this does not indicate an error and you can ignore this message): INVALID_ARGUMENT: You must feed a value for placeholder tensor 'gradients/split_1_grad/concat/split_1/split_dim' with dtype int32\n",
      "\t [[{{node gradients/split_1_grad/concat/split_1/split_dim}}]]\n",
      "2025-01-04 16:05:58.243520: I tensorflow/core/common_runtime/executor.cc:1197] [/device:CPU:0] (DEBUG INFO) Executor start aborting (this does not indicate an error and you can ignore this message): INVALID_ARGUMENT: You must feed a value for placeholder tensor 'gradients/split_2_grad/concat/split_2/split_dim' with dtype int32\n",
      "\t [[{{node gradients/split_2_grad/concat/split_2/split_dim}}]]\n",
      "2025-01-04 16:05:58.244205: I tensorflow/core/common_runtime/executor.cc:1197] [/device:CPU:0] (DEBUG INFO) Executor start aborting (this does not indicate an error and you can ignore this message): INVALID_ARGUMENT: You must feed a value for placeholder tensor 'gradients/split_grad/concat/split/split_dim' with dtype int32\n",
      "\t [[{{node gradients/split_grad/concat/split/split_dim}}]]\n",
      "2025-01-04 16:05:58.244836: I tensorflow/core/common_runtime/executor.cc:1197] [/device:CPU:0] (DEBUG INFO) Executor start aborting (this does not indicate an error and you can ignore this message): INVALID_ARGUMENT: You must feed a value for placeholder tensor 'gradients/split_1_grad/concat/split_1/split_dim' with dtype int32\n",
      "\t [[{{node gradients/split_1_grad/concat/split_1/split_dim}}]]\n"
     ]
    },
    {
     "name": "stdout",
     "output_type": "stream",
     "text": [
      "  1/392 [..............................] - ETA: 3:33"
     ]
    },
    {
     "name": "stderr",
     "output_type": "stream",
     "text": [
      "2025-01-04 16:05:58.350072: I tensorflow/core/common_runtime/executor.cc:1197] [/device:CPU:0] (DEBUG INFO) Executor start aborting (this does not indicate an error and you can ignore this message): INVALID_ARGUMENT: You must feed a value for placeholder tensor 'gradients/split_2_grad/concat/split_2/split_dim' with dtype int32\n",
      "\t [[{{node gradients/split_2_grad/concat/split_2/split_dim}}]]\n",
      "2025-01-04 16:05:58.351006: I tensorflow/core/common_runtime/executor.cc:1197] [/device:CPU:0] (DEBUG INFO) Executor start aborting (this does not indicate an error and you can ignore this message): INVALID_ARGUMENT: You must feed a value for placeholder tensor 'gradients/split_grad/concat/split/split_dim' with dtype int32\n",
      "\t [[{{node gradients/split_grad/concat/split/split_dim}}]]\n",
      "2025-01-04 16:05:58.351757: I tensorflow/core/common_runtime/executor.cc:1197] [/device:CPU:0] (DEBUG INFO) Executor start aborting (this does not indicate an error and you can ignore this message): INVALID_ARGUMENT: You must feed a value for placeholder tensor 'gradients/split_1_grad/concat/split_1/split_dim' with dtype int32\n",
      "\t [[{{node gradients/split_1_grad/concat/split_1/split_dim}}]]\n"
     ]
    },
    {
     "name": "stdout",
     "output_type": "stream",
     "text": [
      "392/392 [==============================] - 1s 1ms/step\n",
      "[0, 0, 0, 0, 0, 0, 0, 1, 0, 0, 0, 0, 0, 0, 0, 0, 0, 0, 0, 0, 0, 0, 1, 0, 0, 0, 0, 0, 0, 0, 0, 0, 0, 0, 0, 0, 1, 1, 1, 1, 0, 0, 0, 0, 0, 0, 1, 0, 0, 0, 0, 0, 0, 0, 0, 0, 0, 0, 0, 0, 0, 1, 1, 1, 0, 0, 1, 1, 1, 0, 0, 1, 1, 1, 1, 1, 0, 1, 0, 1, 0, 0, 1, 0, 0, 0, 1, 0, 0, 0, 0, 1, 0, 0, 0, 0, 0, 0, 0, 0, 0, 0, 0, 0, 0, 0, 0, 0, 1, 0, 1, 1, 1, 0, 0, 0, 0, 1, 0, 0, 0, 0, 0, 0, 0, 1, 0, 1, 0, 0, 0, 0, 0, 0, 0, 0, 0, 0, 0, 0, 1, 0, 0, 0, 0, 0, 0, 1, 1, 1, 0, 0, 1, 1, 1, 1, 0, 1, 1, 1, 1, 1, 1, 1, 1, 1, 1, 1, 1, 1, 1, 1, 1, 1, 1, 1, 1, 1, 1, 1, 1, 1, 1, 1, 1, 1, 1, 1, 1, 1, 1, 1, 1, 1, 0, 0, 0, 1, 0, 1, 1, 1, 0, 1, 1, 1, 1, 1, 1, 1, 1, 1, 1, 1, 1, 1, 0, 0, 1, 1, 1, 1, 1, 1, 0, 0, 1, 1, 0, 1, 1, 1, 1, 1, 0, 1, 1, 1, 1, 1, 0, 0, 1, 1, 1, 1, 1, 1, 1, 1, 1, 1, 1, 1, 1, 1, 1, 1, 1, 1, 1, 1, 0, 1, 1, 1, 1, 0, 1, 0, 1, 1, 1, 1, 1, 0, 0, 1, 1, 1, 1, 1, 1, 1, 0, 1, 1, 1, 1, 1, 1, 1, 1, 1, 1, 1, 1, 1, 1, 1, 1, 1, 1, 1, 1, 1, 1, 1, 1, 1, 1, 1, 1, 1, 1, 1, 0, 1, 1, 1, 1, 1, 1, 1, 0, 1, 1, 1, 1, 1, 1, 1, 1, 1, 1, 1, 1, 1, 1, 1, 1, 1, 1, 1, 1, 1, 1, 1, 1, 1, 1, 1, 1, 1, 1, 1, 1, 1, 1, 1, 1, 1, 1, 1, 1, 1, 1, 1, 1, 1, 1, 1, 1, 1, 1, 1, 1, 1, 1, 1, 1, 1, 1, 1, 1, 1, 1, 1, 1, 1, 1, 1]\n"
     ]
    }
   ],
   "source": [
    "y_pred=gen_y_pred()\n",
    "print(y_pred)"
   ]
  },
  {
   "cell_type": "markdown",
   "id": "0e0f800a",
   "metadata": {},
   "source": [
    "#  构建使用测试集作为回测数据的类"
   ]
  },
  {
   "cell_type": "code",
   "execution_count": 36,
   "id": "31c753f6",
   "metadata": {},
   "outputs": [],
   "source": [
    "class Back_tes_trader:\n",
    "    def __init__(self,train_num,daily_back,wenben_back):\n",
    "        self.train_num=train_num\n",
    "        self.daily_back=daily_back\n",
    "        self.wenben_back = wenben_back\n",
    "    def daily_test_data(self,data):\n",
    "        while True:\n",
    "            samples = data.loc[\n",
    "                data.index >=self.train_num+self.wenben_back ,\n",
    "                ['open','close']]\n",
    "            print(data.index)\n",
    "            return samples\n",
    "        \n"
   ]
  },
  {
   "cell_type": "markdown",
   "id": "3d8bb8f4",
   "metadata": {},
   "source": [
    "# 回测数据集代入参数，形成回撤数据back_tes_trader"
   ]
  },
  {
   "cell_type": "code",
   "execution_count": 56,
   "id": "9555c139",
   "metadata": {},
   "outputs": [],
   "source": [
    "back_tes_trader=Back_tes_trader(train_num=train_num,daily_back=20,wenben_back=daily_back)"
   ]
  },
  {
   "cell_type": "code",
   "execution_count": null,
   "id": "92271272",
   "metadata": {},
   "outputs": [],
   "source": []
  },
  {
   "cell_type": "code",
   "execution_count": null,
   "id": "7ff52054",
   "metadata": {},
   "outputs": [],
   "source": []
  },
  {
   "cell_type": "markdown",
   "id": "cc6e0ac1",
   "metadata": {},
   "source": [
    "# "
   ]
  },
  {
   "cell_type": "code",
   "execution_count": 58,
   "id": "9b72e4c5",
   "metadata": {},
   "outputs": [],
   "source": [
    "def split_back_trader(train_num=train_num):\n",
    "\n",
    "    daily_test_df=daily_df.loc[daily_df.index>=train_num]\n",
    "\n",
    "    return {'daily_test_df':daily_test_df}"
   ]
  },
  {
   "cell_type": "code",
   "execution_count": 60,
   "id": "0caaf456",
   "metadata": {},
   "outputs": [],
   "source": [
    "back_df=split_back_trader()['daily_test_df']"
   ]
  },
  {
   "cell_type": "code",
   "execution_count": 62,
   "id": "ff686572",
   "metadata": {},
   "outputs": [
    {
     "data": {
      "text/html": [
       "<div>\n",
       "<style scoped>\n",
       "    .dataframe tbody tr th:only-of-type {\n",
       "        vertical-align: middle;\n",
       "    }\n",
       "\n",
       "    .dataframe tbody tr th {\n",
       "        vertical-align: top;\n",
       "    }\n",
       "\n",
       "    .dataframe thead th {\n",
       "        text-align: right;\n",
       "    }\n",
       "</style>\n",
       "<table border=\"1\" class=\"dataframe\">\n",
       "  <thead>\n",
       "    <tr style=\"text-align: right;\">\n",
       "      <th></th>\n",
       "      <th>指数代码</th>\n",
       "      <th>trade_time</th>\n",
       "      <th>open</th>\n",
       "      <th>high</th>\n",
       "      <th>low</th>\n",
       "      <th>close</th>\n",
       "      <th>volume_rate</th>\n",
       "      <th>search_index</th>\n",
       "      <th>sector_score</th>\n",
       "    </tr>\n",
       "  </thead>\n",
       "  <tbody>\n",
       "    <tr>\n",
       "      <th>1650</th>\n",
       "      <td>300</td>\n",
       "      <td>2019-10-24</td>\n",
       "      <td>3877.924</td>\n",
       "      <td>3890.196</td>\n",
       "      <td>3852.583</td>\n",
       "      <td>3870.668</td>\n",
       "      <td>0.016182</td>\n",
       "      <td>1269</td>\n",
       "      <td>0.596683</td>\n",
       "    </tr>\n",
       "    <tr>\n",
       "      <th>1651</th>\n",
       "      <td>300</td>\n",
       "      <td>2019-10-25</td>\n",
       "      <td>3871.769</td>\n",
       "      <td>3899.722</td>\n",
       "      <td>3849.034</td>\n",
       "      <td>3896.792</td>\n",
       "      <td>0.085780</td>\n",
       "      <td>1191</td>\n",
       "      <td>0.632760</td>\n",
       "    </tr>\n",
       "    <tr>\n",
       "      <th>1652</th>\n",
       "      <td>300</td>\n",
       "      <td>2019-10-28</td>\n",
       "      <td>3904.982</td>\n",
       "      <td>3927.796</td>\n",
       "      <td>3897.818</td>\n",
       "      <td>3926.585</td>\n",
       "      <td>0.257604</td>\n",
       "      <td>1287</td>\n",
       "      <td>0.581904</td>\n",
       "    </tr>\n",
       "    <tr>\n",
       "      <th>1653</th>\n",
       "      <td>300</td>\n",
       "      <td>2019-10-29</td>\n",
       "      <td>3929.708</td>\n",
       "      <td>3932.375</td>\n",
       "      <td>3910.226</td>\n",
       "      <td>3910.226</td>\n",
       "      <td>-0.155524</td>\n",
       "      <td>1342</td>\n",
       "      <td>0.616206</td>\n",
       "    </tr>\n",
       "    <tr>\n",
       "      <th>1654</th>\n",
       "      <td>300</td>\n",
       "      <td>2019-10-30</td>\n",
       "      <td>3904.717</td>\n",
       "      <td>3908.100</td>\n",
       "      <td>3883.447</td>\n",
       "      <td>3891.226</td>\n",
       "      <td>-0.053298</td>\n",
       "      <td>1202</td>\n",
       "      <td>0.523138</td>\n",
       "    </tr>\n",
       "    <tr>\n",
       "      <th>...</th>\n",
       "      <td>...</td>\n",
       "      <td>...</td>\n",
       "      <td>...</td>\n",
       "      <td>...</td>\n",
       "      <td>...</td>\n",
       "      <td>...</td>\n",
       "      <td>...</td>\n",
       "      <td>...</td>\n",
       "      <td>...</td>\n",
       "    </tr>\n",
       "    <tr>\n",
       "      <th>2057</th>\n",
       "      <td>300</td>\n",
       "      <td>2021-06-28</td>\n",
       "      <td>5253.608</td>\n",
       "      <td>5260.637</td>\n",
       "      <td>5226.220</td>\n",
       "      <td>5251.760</td>\n",
       "      <td>-0.140303</td>\n",
       "      <td>3708</td>\n",
       "      <td>0.703872</td>\n",
       "    </tr>\n",
       "    <tr>\n",
       "      <th>2058</th>\n",
       "      <td>300</td>\n",
       "      <td>2021-06-29</td>\n",
       "      <td>5248.525</td>\n",
       "      <td>5248.525</td>\n",
       "      <td>5182.677</td>\n",
       "      <td>5190.545</td>\n",
       "      <td>-0.060294</td>\n",
       "      <td>3675</td>\n",
       "      <td>0.630577</td>\n",
       "    </tr>\n",
       "    <tr>\n",
       "      <th>2059</th>\n",
       "      <td>300</td>\n",
       "      <td>2021-06-30</td>\n",
       "      <td>5189.380</td>\n",
       "      <td>5231.426</td>\n",
       "      <td>5186.625</td>\n",
       "      <td>5224.041</td>\n",
       "      <td>-0.171060</td>\n",
       "      <td>3663</td>\n",
       "      <td>0.667921</td>\n",
       "    </tr>\n",
       "    <tr>\n",
       "      <th>2060</th>\n",
       "      <td>300</td>\n",
       "      <td>2021-07-01</td>\n",
       "      <td>5241.204</td>\n",
       "      <td>5252.264</td>\n",
       "      <td>5190.876</td>\n",
       "      <td>5229.664</td>\n",
       "      <td>0.226384</td>\n",
       "      <td>4019</td>\n",
       "      <td>0.761491</td>\n",
       "    </tr>\n",
       "    <tr>\n",
       "      <th>2061</th>\n",
       "      <td>300</td>\n",
       "      <td>2021-07-02</td>\n",
       "      <td>5186.661</td>\n",
       "      <td>5186.661</td>\n",
       "      <td>5074.362</td>\n",
       "      <td>5081.117</td>\n",
       "      <td>0.025038</td>\n",
       "      <td>3981</td>\n",
       "      <td>0.692760</td>\n",
       "    </tr>\n",
       "  </tbody>\n",
       "</table>\n",
       "<p>412 rows × 9 columns</p>\n",
       "</div>"
      ],
      "text/plain": [
       "      指数代码 trade_time      open      high       low     close  volume_rate  \\\n",
       "1650   300 2019-10-24  3877.924  3890.196  3852.583  3870.668     0.016182   \n",
       "1651   300 2019-10-25  3871.769  3899.722  3849.034  3896.792     0.085780   \n",
       "1652   300 2019-10-28  3904.982  3927.796  3897.818  3926.585     0.257604   \n",
       "1653   300 2019-10-29  3929.708  3932.375  3910.226  3910.226    -0.155524   \n",
       "1654   300 2019-10-30  3904.717  3908.100  3883.447  3891.226    -0.053298   \n",
       "...    ...        ...       ...       ...       ...       ...          ...   \n",
       "2057   300 2021-06-28  5253.608  5260.637  5226.220  5251.760    -0.140303   \n",
       "2058   300 2021-06-29  5248.525  5248.525  5182.677  5190.545    -0.060294   \n",
       "2059   300 2021-06-30  5189.380  5231.426  5186.625  5224.041    -0.171060   \n",
       "2060   300 2021-07-01  5241.204  5252.264  5190.876  5229.664     0.226384   \n",
       "2061   300 2021-07-02  5186.661  5186.661  5074.362  5081.117     0.025038   \n",
       "\n",
       "      search_index  sector_score  \n",
       "1650          1269      0.596683  \n",
       "1651          1191      0.632760  \n",
       "1652          1287      0.581904  \n",
       "1653          1342      0.616206  \n",
       "1654          1202      0.523138  \n",
       "...            ...           ...  \n",
       "2057          3708      0.703872  \n",
       "2058          3675      0.630577  \n",
       "2059          3663      0.667921  \n",
       "2060          4019      0.761491  \n",
       "2061          3981      0.692760  \n",
       "\n",
       "[412 rows x 9 columns]"
      ]
     },
     "execution_count": 62,
     "metadata": {},
     "output_type": "execute_result"
    }
   ],
   "source": [
    "back_df"
   ]
  },
  {
   "cell_type": "code",
   "execution_count": 64,
   "id": "ecd75b7e",
   "metadata": {},
   "outputs": [
    {
     "name": "stdout",
     "output_type": "stream",
     "text": [
      "Index([1650, 1651, 1652, 1653, 1654, 1655, 1656, 1657, 1658, 1659,\n",
      "       ...\n",
      "       2052, 2053, 2054, 2055, 2056, 2057, 2058, 2059, 2060, 2061],\n",
      "      dtype='int64', length=412)\n"
     ]
    }
   ],
   "source": [
    "backtrader_df=back_tes_trader.daily_test_data(back_df)"
   ]
  },
  {
   "cell_type": "markdown",
   "id": "ba8c3651",
   "metadata": {},
   "source": [
    "# 形成day_rate_of_return日内收益率，和rate_of_return隔夜收益率"
   ]
  },
  {
   "cell_type": "code",
   "execution_count": 67,
   "id": "d84028e8",
   "metadata": {},
   "outputs": [
    {
     "name": "stdout",
     "output_type": "stream",
     "text": [
      "391\n",
      "          open     close  rate_of_return  day_rate_of_return\n",
      "1671  3894.174  3849.995       -0.010182           -0.011345\n",
      "1672  3850.966  3878.206        0.007328            0.007074\n",
      "1673  3893.435  3891.653        0.003467           -0.000458\n",
      "1674  3883.429  3875.619       -0.004120           -0.002011\n",
      "1675  3877.901  3862.303       -0.003436           -0.004022\n",
      "...        ...       ...             ...                 ...\n",
      "2057  5253.608  5251.760        0.002250           -0.000352\n",
      "2058  5248.525  5190.545       -0.011656           -0.011047\n",
      "2059  5189.380  5224.041        0.006453            0.006679\n",
      "2060  5241.204  5229.664        0.001076           -0.002202\n",
      "2061  5186.661  5081.117       -0.028405           -0.020349\n",
      "\n",
      "[391 rows x 4 columns]\n",
      "          open     close  rate_of_return  day_rate_of_return  last_close  \\\n",
      "1670  3894.539  3889.598             NaN           -0.001269         NaN   \n",
      "1671  3894.174  3849.995       -0.010182           -0.011345    3889.598   \n",
      "1672  3850.966  3878.206        0.007328            0.007074    3849.995   \n",
      "1673  3893.435  3891.653        0.003467           -0.000458    3878.206   \n",
      "1674  3883.429  3875.619       -0.004120           -0.002011    3891.653   \n",
      "...        ...       ...             ...                 ...         ...   \n",
      "2057  5253.608  5251.760        0.002250           -0.000352    5239.968   \n",
      "2058  5248.525  5190.545       -0.011656           -0.011047    5251.760   \n",
      "2059  5189.380  5224.041        0.006453            0.006679    5190.545   \n",
      "2060  5241.204  5229.664        0.001076           -0.002202    5224.041   \n",
      "2061  5186.661  5081.117       -0.028405           -0.020349    5229.664   \n",
      "\n",
      "      sale_rate_of_return  \n",
      "1670                  NaN  \n",
      "1671             0.001176  \n",
      "1672             0.000252  \n",
      "1673             0.003927  \n",
      "1674            -0.002113  \n",
      "...                   ...  \n",
      "2057             0.002603  \n",
      "2058            -0.000616  \n",
      "2059            -0.000224  \n",
      "2060             0.003285  \n",
      "2061            -0.008223  \n",
      "\n",
      "[392 rows x 6 columns]\n",
      "(392, 6)\n"
     ]
    }
   ],
   "source": [
    "backtrader_df['rate_of_return'] = backtrader_df['close'].rolling(2).apply(lambda x: x[1] / x[0] - 1, raw=True)\n",
    "backtrader_df['day_rate_of_return']=backtrader_df['close']/backtrader_df['open']-1\n",
    "\n",
    "clo_1=backtrader_df.loc[(backtrader_df.index<total_day-1),\"close\"].tolist()\n",
    "\n",
    "print(len(clo_1))\n",
    "print(backtrader_df.loc[(backtrader_df.index>=train_num+20+1),:])\n",
    "backtrader_df.loc[(backtrader_df.index>=train_num+20+1),'last_close']=clo_1\n",
    "backtrader_df['sale_rate_of_return']=backtrader_df['open']/backtrader_df['last_close']-1\n",
    "\n",
    "\n",
    "print(backtrader_df)\n",
    "print(backtrader_df.shape)\n",
    "trade_day_return_list=[]\n",
    "return_list=[]\n",
    "every_day_return_list=[]"
   ]
  },
  {
   "cell_type": "markdown",
   "id": "94506474",
   "metadata": {},
   "source": [
    "# 回测交易逻辑"
   ]
  },
  {
   "cell_type": "code",
   "execution_count": 70,
   "id": "4a2a5071",
   "metadata": {},
   "outputs": [],
   "source": [
    "def backtrader(list,df):\n",
    "    a=0\n",
    "\n",
    "    rate_of_return = 1\n",
    "    for i,v in enumerate(list):\n",
    "        if (v ==1)&(a==0):\n",
    "            b=(1 + df.loc[train_num+20 + i, 'day_rate_of_return'])\n",
    "            rate_of_return= rate_of_return * b\n",
    "            a=1\n",
    "            trade_day_return_list.append(b-1)\n",
    "            return_list.append(rate_of_return)\n",
    "            every_day_return_list.append(b - 1)\n",
    "\n",
    "        elif (v ==1)&(a==1):\n",
    "            b=(1 + df.loc[train_num+20 + i, 'rate_of_return'])\n",
    "            rate_of_return= rate_of_return *b\n",
    "            a=a\n",
    "            trade_day_return_list.append(b-1)\n",
    "            return_list.append(rate_of_return)\n",
    "            every_day_return_list.append(b - 1)\n",
    "        elif (v==0)&(a==0):\n",
    "            rate_of_return=rate_of_return\n",
    "            a=a\n",
    "            every_day_return_list.append(0)\n",
    "\n",
    "        elif (v==0)&(a==1):\n",
    "            a=0\n",
    "            b = (1 + df.loc[train_num+20 + i, 'sale_rate_of_return'])\n",
    "            rate_of_return=rate_of_return*b\n",
    "            trade_day_return_list.append(b-1)\n",
    "            every_day_return_list.append(b - 1)\n",
    "            return_list.append(rate_of_return)\n",
    "    return a,trade_day_return_list,rate_of_return,return_list,every_day_return_list"
   ]
  },
  {
   "cell_type": "code",
   "execution_count": null,
   "id": "80a6e92b",
   "metadata": {},
   "outputs": [],
   "source": []
  },
  {
   "cell_type": "code",
   "execution_count": 73,
   "id": "4eda96a9",
   "metadata": {},
   "outputs": [
    {
     "name": "stdout",
     "output_type": "stream",
     "text": [
      "[0.00014235383897798215, -0.001784904768148854, -0.011855701046132316, 0.0011252563588075581, 0.008894568536750747, -0.0033544339327323813, -0.005525687333736484, -0.004245771388334485, 0.003169646590792219, 0.03659196430233913, 0.004084120034720806, 0.014153400313110076, -0.012328031011767271, 0.0029120933755462097, -0.023537801392257807, -0.008187366428646259, 0.005790247844116303, 0.0222774827632799, -0.011534626104630075, 0.02704322191249875, -0.013300652602228125, -0.019242737057051262, -0.01407219752608957, -0.042993464196587006, 0.003203731919824815, -0.025049836648403212, -0.003428800549576061, 0.006532832366215491, -0.030258204807589117, 0.0029753669363259405, -0.008034883914597502, -0.005928848425356015, -0.001046619037994967, 0.0010401393702019757, 0.004799297418621951, 0.017840801456535438, 0.0003399170886837499, 0.005230792719345123, -0.000868397642358465, 1.4645798928292209e-05, -0.00343287448885643, -0.0018984427723571784, -0.00013522906793039802, 0.007463050138118321, 0.008974086784588442, 0.0034297643900984554, 0.004418902852919793, 0.012765353907342014, -0.0002935069814650193, 0.02274775157286113, 0.01931595801971686, 0.056679162529787996, 0.014885136169606739, 0.014820305835733683, -0.01810414084863754, 0.021002568200805705, -0.009534591355669364, 0.003084451046354131, -0.04751145727223072, 0.006299027091706488, 0.02983782651487976, 0.0022942949230870813, 0.00498865604088472, -0.0004261371168822192, -0.043893434308709844, 0.005073474267859535, 0.008790645805960118, 0.024243376797019822, -0.0048850098140460485, 0.008353466199872095, 0.016243717313951578, 0.000941250738004662, 0.0002736713121693768, -0.0030028621913379405, -0.011513902431445233, 0.0035990370281944184, -0.009118981051330577, -0.007291878480510716, -0.0025673217296072748, 0.014866321534573013, 0.02350812359486798, -0.0005129561935409699, -0.014976450083902138, -0.012977890504269562, 0.00848208885623336, 0.007842176567434134, 0.0012830516696387129, -0.01172229617650411, 0.005357905540221086, 0.02386636358160321, -0.0057903520967577116, 0.005379120325816, 0.0003645096096296374, -0.0055310951721209145, -0.009731176154923249, -0.0022426643305056837, -0.010820364590653164, -0.002121572822916362, -0.00021560368817719056, 0.008048073435444891, -0.006638607839678623, -0.0032859831689984187, 0.02166373854181547, -0.0096390420361534, -0.01186568354027806, 0.003573523311490856, -0.019186312570032227, 0.0015244136289065402, 0.0026010815702854906, 0.0021584889616970138, -0.0009591012150138578, 0.020435563102806586, 0.030338116284042815, 0.003326243925660277, -0.0066331198063481756, 0.0007655339953260842, -0.014098908384668762, 0.0079863517687353, -0.00013330643561315636, -0.00309691897977582, -0.012452320381918236, -0.00577557895664893, -0.002365901012014726, 0.019069277161811504, -0.016255457874843948, 0.0015785884454653232, 0.007249786746174491, 0.007555110233024909, 0.01484443425122195, 0.00012405038001173097, 0.01957378628893447, 0.0028231302759289534, -0.006654842136856409, 0.0007268244925786593, -0.010514900489216328, 0.009743144271874948, -0.0019138806713956402, -0.0010441723090651722, 0.003057086308206003, 0.0124894604562793, -0.006142024808257762, -0.012782940104368756, 0.0018105361761053818, 0.01243477354113387, -0.004118443652732062, 0.02154043786485027, 9.2755261493771e-06, -0.0019902726288669736, 0.0017512151329033276, -0.00862252749552117, -0.002460259227216488, -0.01340950549903508, -0.0004398406619541273, -0.010301739187636882, 0.009245282208527605, 0.0020801100746024037, 0.0017728660694424914, 0.012840675779143718, -0.0006292005664997324, 0.01022426608793614, -0.01626106633061475, 0.008530299371189765, -0.0014197771015855842, -0.00284899145302564, 0.004257831191032624, 0.0013889067147931922, 0.015031009421425434, 0.019081641492841417, 0.010828223113321878, 0.019132952827011662, 0.009157670524661876, 0.0019798186230681747, -0.011459901065288491, 0.028522421146380816, -0.0032846391212277837, -0.019274929898344673, -0.0022621514550158484, 0.011073489015644755, -0.014677483332943608, 0.0004391705561521686, 0.013109509828855392, 0.0008637963661612957, 0.01008065674454417, -0.020077594378735686, 0.002727206107490554, -0.027290144379443992, -0.0046824122029114346, 0.01227268862931652, 0.015402255739021653, -0.0028886991891791114, -0.0020515200810324874, 0.0017292820465228953, 0.014798809646690891, 0.02186838784436218, 0.021361881732248955, -0.006773399332853369, 0.0018135071175082729, -0.03140923389149586, -0.0031559673151481116, -0.02546746508932063, 0.005883144817683261, -0.02427929276917795, 0.015369434756399958, -0.012761903777674055, 0.019175718694563804, -0.03145640128146121, -0.003391591957590534, -0.03472887795764845, -0.021461705404993037, 0.0065606531001112245, 0.02490281020990448, 0.004964299475685108, -0.01575001226514683, 0.008701741063130486, 0.004232027565666652, 0.008020219343490842, -0.026192741485030036, 0.009998020806891494, -0.009472920726922962, -0.004760197442888692, 0.004542963107363018, 0.022662431209169887, 0.0017639971496570261, 0.0094815070785359, -0.009101171033827349, 0.012363616627257823, 0.00993586689460324, -0.004110193881419866, -0.007119954275415785, 0.0016587825836840153, -0.015036943912112966, -0.017395260734286544, -0.0016375133242489959, 0.008296954193459882, -0.006355423452624742, 0.003476882279033866, 0.024331775261513977, -0.0007179059948099198, 0.0030255549227726775, -0.0018633997189504425, 0.00907973757988434, -0.011336098295515629, 0.002616186717303126, 0.005642252657881652, 0.008776103962266246, -0.007877356453671491, -0.012172369258526716, -0.012857025435456637, -0.0007267737151708253, 0.006136901087288038, 0.004277870461431688, -0.010223710826024357, 0.023556301314607175, 0.014557027662168043, 0.0005045337643214687, -0.0029549304196678783, 0.002733808276131011, -0.01007710147207741, 0.00417596064624548, 0.031594844273824974, 0.00039767016052327797, 0.003315419916539497, -0.003211549589536511, 0.001969709583883983, 0.0018962519483005646, -0.009679726228452479, -0.0065573101115431465, 0.005135971667383998, -0.00088030218786328, -0.008623193719450084, 0.0008279631361454154, 0.0066871652908298, -0.008870966824029547, -0.011128479456152807, -0.01665886005388506, 0.004212388133351563, 0.00011250728161238399, -0.002367678687128949, 0.006241767567679135, 0.004926829668276511, 0.0016668628824605403, 0.01629061744686844, 0.0022503954222621303, -0.011656092433774634, 0.006453272247904707, 0.0010763698064391036, -0.02840469292099823]\n",
      "1.1522080700790607\n",
      "[1.000142353838978, 0.9983571949827832, 0.9865209705418121, 0.9876310595370112, 0.996415611685087, 0.9930732013461462, 0.9875857893359946, 0.9833927258481061, 0.9865097332490004, 1.022608062191958, 1.026784516266423, 1.0413170085604448, 1.028479620185831, 1.0314746488746585, 1.0071960034482978, 0.9989497207025986, 1.0047338871692775, 1.0271168290223742, 1.015269420433828, 1.042725576671594, 1.0288566460168271, 1.0090586281081257, 0.9948589557779832, 0.9520865228820886, 0.955136752865881, 0.9312107332297044, 0.9280177973558352, 0.9340803820588255, 0.9058167865517385, 0.9085119238688135, 0.9012121360255, 0.8958689858719134, 0.8949313523357506, 0.8958622056689431, 0.900161714840051, 0.9162213212732868, 0.916532760557404, 0.9213269534483689, 0.920526875294153, 0.9205403571456766, 0.9173802576376684, 0.915638663718053, 0.9155148427549974, 0.9223473759286694, 0.9306246013257907, 0.9338164244439675, 0.9379428685060464, 0.9499160411673936, 0.9496372341775053, 0.9712393460649141, 0.9899997645006012, 1.0461121220571827, 1.0616836434426802, 1.0774181197392967, 1.0579123903466623, 1.0801312674753956, 1.0698326572295365, 1.073132503688552, 1.0221464145921113, 1.0285849425493176, 1.0592756816209217, 1.0617059724394142, 1.0670024583524675, 1.0665477690011589, 1.0197333245654054, 1.0249069153476669, 1.0339165090245674, 1.0589821365295093, 1.0538089983996632, 1.0626119562489158, 1.0798727244806483, 1.0808891554795168, 1.0811849638330064, 1.0779383143832693, 1.0655270378043438, 1.0693619090679438, 1.0596104180821386, 1.0518838676768005, 1.0491833433662905, 1.064780840297492, 1.0898118398926528, 1.0892528141595856, 1.0729396737595747, 1.0590151801558363, 1.067997841014018, 1.0763732686568885, 1.0777543111763932, 1.0651205559352794, 1.0708273712629284, 1.0963841266386218, 1.090035676512088, 1.0958991095754789, 1.0962985753321037, 1.0902348435748812, 1.0796255762618188, 1.0772043384916348, 1.0655485948105219, 1.0632879558702752, 1.0630587070653952, 1.0716142816060465, 1.064500254635065, 1.0610023247149396, 1.0839876016698224, 1.073538999610658, 1.060800725573131, 1.0645915216948132, 1.0441659360001703, 1.0457576767838488, 1.0484777778039158, 1.05074090551389, 1.049733138634747, 1.0711850264304246, 1.1036827623239962, 1.1073538804080323, 1.1000086694512612, 1.1008507634828795, 1.0853299694233416, 1.093997796344307, 1.0938519593975078, 1.0904643885033847, 1.076885576572668, 1.070665938897896, 1.068132849269528, 1.0885013706178839, 1.070807282441095, 1.0724976464444766, 1.0802730256669733, 1.0884346074576505, 1.1045918034248101, 1.1047288284577828, 1.1263525544532402, 1.129532394451087, 1.1220155346775498, 1.1228310430492072, 1.1110245863653418, 1.1218494591998995, 1.1197023732037212, 1.1185332109912274, 1.1219526635558223, 1.1359652469811201, 1.1289881202528433, 1.1145563327331074, 1.116574277293828, 1.130458625573832, 1.1258028954226613, 1.1500531827395817, 1.1500638500879514, 1.147774909485672, 1.14978491027633, 1.139870858273537, 1.1370664804766344, 1.1218189812539145, 1.121325559650607, 1.1097739561906557, 1.1200341296033125, 1.1223639238801988, 1.1243537247984123, 1.1387911864396214, 1.1380746583799888, 1.1497106365152028, 1.1310151155938157, 1.1406630131231719, 1.139043525896514, 1.1357984006266106, 1.1406344384835236, 1.1422186733142579, 1.1593873729541726, 1.1815103871562114, 1.194304045239046, 1.217154608197714, 1.2283009090771626, 1.230732722091685, 1.216628646858701, 1.2513298415031564, 1.2472196745521953, 1.2231796027573654, 1.220412585239242, 1.2339268105964434, 1.2158158703998418, 1.216349820931824, 1.2322955708646561, 1.2333600233008057, 1.245793102338144, 1.220780573749572, 1.2241098939862076, 1.1907037582430182, 1.1851283924353686, 1.1996731041814903, 1.2181507761353196, 1.2146319049759997, 1.2121400632318786, 1.2142361952810967, 1.232205445601184, 1.2591517921895257, 1.2860496438572275, 1.2773387160575087, 1.279655178910548, 1.2394621900956826, 1.2355504879353787, 1.2040841490177914, 1.21116795043914, 1.181761649177783, 1.1999246577424365, 1.184611334719869, 1.207327108436849, 1.1693489424358734, 1.165382987967091, 1.1249105444040621, 1.1007680456930917, 1.1079898029845714, 1.1355818627628056, 1.1412192312087166, 1.123245014319958, 1.1330192015850225, 1.1378141700785598, 1.146939689294722, 1.1168981945141045, 1.128064965902036, 1.117378895905227, 1.1120599517422012, 1.117111999076142, 1.1424284729081433, 1.1444437134780403, 1.1552947646483682, 1.144780229400818, 1.158933853279594, 1.1704488657854297, 1.1656380940187636, 1.1573388040876673, 1.1592585775393096, 1.1418268713292152, 1.1219644951890289, 1.1201272633788226, 1.1294209079739224, 1.1222429598475, 1.1261448665073643, 1.1535459703111293, 1.1527178327437542, 1.1562054438571798, 1.1540509709580473, 1.1645294509281572, 1.1513282306044128, 1.1543403202285762, 1.1608533999684858, 1.1710411700915595, 1.1618164613728237, 1.1476744023943588, 1.132918723411152, 1.1320953478615519, 1.139042905032757, 1.1439155830305001, 1.1322205209002132, 1.15889144864512, 1.1757614635204972, 1.1763546748776312, 1.1728786286645168, 1.176085053966457, 1.1642335255378433, 1.169095318923529, 1.2060327034661755, 1.2065123066849592, 1.2105124016160926, 1.2066247810095536, 1.20900148140486, 1.2112940528194722, 1.199569058006027, 1.1917031116924697, 1.1978236651100556, 1.1967692183169847, 1.1864492455099624, 1.1874315817481522, 1.1953721330068536, 1.1847680264725804, 1.1715833598296737, 1.1520661165968107, 1.1569190662351996, 1.1570492280543871, 1.1543097072571638, 1.1615146401509786, 1.1672372249402119, 1.169182849345491, 1.188229559869618, 1.1909035462317452, 1.177022264417158, 1.1846179095312872, 1.1858929964812737, 1.1522080700790607]\n",
      "夏普比率： 0.5792934503066445\n",
      "收益率： 0.15220807007906068\n"
     ]
    }
   ],
   "source": [
    "result=backtrader(y_pred,backtrader_df)\n",
    "print(result[1])\n",
    "print(result[2])\n",
    "print(result[3])\n",
    "pingjun_nian_jiaoyi_ri=240*len(result[1])/(len(y_pred))\n",
    "sharp=(np.mean(result[1]))/(np.std(result[1],ddof=1))*np.sqrt(pingjun_nian_jiaoyi_ri)\n",
    "# sharp1=(np.mean(result[4]))/(np.std(result[4]))\n",
    "# print('夏普比率--：',sharp1)\n",
    "print('夏普比率：',sharp)\n",
    "print('收益率：',result[2]-1)\n"
   ]
  },
  {
   "cell_type": "code",
   "execution_count": null,
   "id": "3f2ded5b",
   "metadata": {},
   "outputs": [],
   "source": []
  },
  {
   "cell_type": "code",
   "execution_count": 76,
   "id": "e894d8b3",
   "metadata": {},
   "outputs": [
    {
     "data": {
      "text/plain": [
       "[0.00014235383897798215,\n",
       " -0.0016428050172168085,\n",
       " -0.013479029458187908,\n",
       " -0.012368940462988753,\n",
       " -0.003584388314913034,\n",
       " -0.006926798653853816,\n",
       " -0.012414210664005387,\n",
       " -0.01660727415189389,\n",
       " -0.013490266750999624,\n",
       " 0.02260806219195799,\n",
       " 0.026784516266423086,\n",
       " 0.041317008560444846,\n",
       " 0.028479620185831056,\n",
       " 0.03147464887465845,\n",
       " 0.00719600344829785,\n",
       " -0.0010502792974014241,\n",
       " 0.004733887169277473,\n",
       " 0.027116829022374223,\n",
       " 0.015269420433827952,\n",
       " 0.042725576671593934,\n",
       " 0.028856646016827137,\n",
       " 0.009058628108125744,\n",
       " -0.005141044222016777,\n",
       " -0.047913477117911385,\n",
       " -0.044863247134119044,\n",
       " -0.06878926677029562,\n",
       " -0.07198220264416477,\n",
       " -0.06591961794117451,\n",
       " -0.09418321344826153,\n",
       " -0.09148807613118648,\n",
       " -0.09878786397450001,\n",
       " -0.10413101412808656,\n",
       " -0.10506864766424939,\n",
       " -0.10413779433105685,\n",
       " -0.09983828515994897,\n",
       " -0.08377867872671318,\n",
       " -0.08346723944259604,\n",
       " -0.0786730465516311,\n",
       " -0.079473124705847,\n",
       " -0.07945964285432339,\n",
       " -0.0826197423623316,\n",
       " -0.08436133628194697,\n",
       " -0.0844851572450026,\n",
       " -0.07765262407133056,\n",
       " -0.06937539867420928,\n",
       " -0.06618357555603249,\n",
       " -0.06205713149395364,\n",
       " -0.05008395883260641,\n",
       " -0.05036276582249466,\n",
       " -0.028760653935085867,\n",
       " -0.010000235499398769,\n",
       " 0.046112122057182736,\n",
       " 0.06168364344268018,\n",
       " 0.07741811973929669,\n",
       " 0.05791239034666229,\n",
       " 0.08013126747539556,\n",
       " 0.06983265722953647,\n",
       " 0.07313250368855195,\n",
       " 0.022146414592111308,\n",
       " 0.02858494254931765,\n",
       " 0.05927568162092167,\n",
       " 0.061705972439414225,\n",
       " 0.06700245835246754,\n",
       " 0.06654776900115889,\n",
       " 0.01973332456540544,\n",
       " 0.02490691534766687,\n",
       " 0.03391650902456744,\n",
       " 0.058982136529509344,\n",
       " 0.053808998399663244,\n",
       " 0.0626119562489158,\n",
       " 0.0798727244806483,\n",
       " 0.0808891554795168,\n",
       " 0.08118496383300644,\n",
       " 0.07793831438326926,\n",
       " 0.06552703780434377,\n",
       " 0.06936190906794382,\n",
       " 0.05961041808213863,\n",
       " 0.05188386767680053,\n",
       " 0.04918334336629049,\n",
       " 0.06478084029749209,\n",
       " 0.08981183989265284,\n",
       " 0.08925281415958564,\n",
       " 0.07293967375957466,\n",
       " 0.05901518015583629,\n",
       " 0.06799784101401807,\n",
       " 0.07637326865688854,\n",
       " 0.0777543111763932,\n",
       " 0.06512055593527943,\n",
       " 0.07082737126292837,\n",
       " 0.09638412663862184,\n",
       " 0.09003567651208799,\n",
       " 0.09589910957547887,\n",
       " 0.09629857533210373,\n",
       " 0.09023484357488121,\n",
       " 0.07962557626181876,\n",
       " 0.07720433849163477,\n",
       " 0.06554859481052189,\n",
       " 0.06328795587027525,\n",
       " 0.06305870706539518,\n",
       " 0.07161428160604655,\n",
       " 0.06450025463506504,\n",
       " 0.061002324714939604,\n",
       " 0.08398760166982244,\n",
       " 0.0735389996106579,\n",
       " 0.0608007255731311,\n",
       " 0.06459152169481319,\n",
       " 0.04416593600017027,\n",
       " 0.04575767678384879,\n",
       " 0.04847777780391582,\n",
       " 0.0507409055138901,\n",
       " 0.04973313863474704,\n",
       " 0.07118502643042457,\n",
       " 0.1036827623239962,\n",
       " 0.10735388040803229,\n",
       " 0.10000866945126119,\n",
       " 0.10085076348287947,\n",
       " 0.08532996942334159,\n",
       " 0.09399779634430705,\n",
       " 0.09385195939750779,\n",
       " 0.09046438850338467,\n",
       " 0.07688557657266792,\n",
       " 0.07066593889789607,\n",
       " 0.0681328492695279,\n",
       " 0.08850137061788388,\n",
       " 0.07080728244109502,\n",
       " 0.07249764644447665,\n",
       " 0.08027302566697325,\n",
       " 0.08843460745765053,\n",
       " 0.10459180342481011,\n",
       " 0.10472882845778275,\n",
       " 0.12635255445324023,\n",
       " 0.1295323944510871,\n",
       " 0.12201553467754978,\n",
       " 0.12283104304920722,\n",
       " 0.11102458636534185,\n",
       " 0.12184945919989953,\n",
       " 0.11970237320372124,\n",
       " 0.11853321099122738,\n",
       " 0.12195266355582235,\n",
       " 0.1359652469811201,\n",
       " 0.12898812025284334,\n",
       " 0.11455633273310739,\n",
       " 0.11657427729382808,\n",
       " 0.13045862557383203,\n",
       " 0.12580289542266132,\n",
       " 0.15005318273958168,\n",
       " 0.15006385008795142,\n",
       " 0.14777490948567196,\n",
       " 0.14978491027633,\n",
       " 0.13987085827353707,\n",
       " 0.1370664804766344,\n",
       " 0.12181898125391455,\n",
       " 0.1213255596506071,\n",
       " 0.10977395619065566,\n",
       " 0.1200341296033125,\n",
       " 0.12236392388019879,\n",
       " 0.12435372479841234,\n",
       " 0.1387911864396214,\n",
       " 0.13807465837998878,\n",
       " 0.14971063651520278,\n",
       " 0.13101511559381573,\n",
       " 0.14066301312317187,\n",
       " 0.13904352589651392,\n",
       " 0.13579840062661064,\n",
       " 0.14063443848352364,\n",
       " 0.14221867331425786,\n",
       " 0.1593873729541726,\n",
       " 0.18151038715621137,\n",
       " 0.1943040452390461,\n",
       " 0.21715460819771404,\n",
       " 0.2283009090771626,\n",
       " 0.23073272209168505,\n",
       " 0.2166286468587011,\n",
       " 0.2513298415031564,\n",
       " 0.2472196745521953,\n",
       " 0.22317960275736537,\n",
       " 0.220412585239242,\n",
       " 0.23392681059644338,\n",
       " 0.21581587039984185,\n",
       " 0.21634982093182398,\n",
       " 0.23229557086465613,\n",
       " 0.23336002330080574,\n",
       " 0.2457931023381441,\n",
       " 0.22078057374957205,\n",
       " 0.22410989398620762,\n",
       " 0.19070375824301822,\n",
       " 0.1851283924353686,\n",
       " 0.1996731041814903,\n",
       " 0.21815077613531964,\n",
       " 0.2146319049759997,\n",
       " 0.21214006323187862,\n",
       " 0.21423619528109672,\n",
       " 0.23220544560118395,\n",
       " 0.25915179218952566,\n",
       " 0.28604964385722753,\n",
       " 0.2773387160575087,\n",
       " 0.2796551789105479,\n",
       " 0.2394621900956826,\n",
       " 0.2355504879353787,\n",
       " 0.20408414901779137,\n",
       " 0.21116795043913994,\n",
       " 0.18176164917778292,\n",
       " 0.1999246577424365,\n",
       " 0.184611334719869,\n",
       " 0.2073271084368491,\n",
       " 0.1693489424358734,\n",
       " 0.16538298796709094,\n",
       " 0.12491054440406213,\n",
       " 0.10076804569309172,\n",
       " 0.10798980298457139,\n",
       " 0.1355818627628056,\n",
       " 0.1412192312087166,\n",
       " 0.12324501431995794,\n",
       " 0.13301920158502245,\n",
       " 0.13781417007855978,\n",
       " 0.1469396892947219,\n",
       " 0.11689819451410455,\n",
       " 0.1280649659020361,\n",
       " 0.1173788959052271,\n",
       " 0.11205995174220118,\n",
       " 0.117111999076142,\n",
       " 0.1424284729081433,\n",
       " 0.1444437134780403,\n",
       " 0.15529476464836822,\n",
       " 0.14478022940081803,\n",
       " 0.15893385327959408,\n",
       " 0.17044886578542973,\n",
       " 0.16563809401876362,\n",
       " 0.15733880408766732,\n",
       " 0.1592585775393096,\n",
       " 0.14182687132921523,\n",
       " 0.12196449518902885,\n",
       " 0.12012726337882262,\n",
       " 0.12942090797392236,\n",
       " 0.12224295984750011,\n",
       " 0.12614486650736434,\n",
       " 0.15354597031112927,\n",
       " 0.15271783274375417,\n",
       " 0.15620544385717983,\n",
       " 0.15405097095804732,\n",
       " 0.16452945092815718,\n",
       " 0.1513282306044128,\n",
       " 0.15434032022857624,\n",
       " 0.1608533999684858,\n",
       " 0.1710411700915595,\n",
       " 0.16181646137282368,\n",
       " 0.1476744023943588,\n",
       " 0.13291872341115196,\n",
       " 0.13209534786155186,\n",
       " 0.13904290503275707,\n",
       " 0.14391558303050012,\n",
       " 0.1322205209002132,\n",
       " 0.15889144864512006,\n",
       " 0.17576146352049715,\n",
       " 0.17635467487763123,\n",
       " 0.17287862866451675,\n",
       " 0.1760850539664569,\n",
       " 0.16423352553784332,\n",
       " 0.16909531892352891,\n",
       " 0.20603270346617553,\n",
       " 0.20651230668495923,\n",
       " 0.21051240161609264,\n",
       " 0.20662478100955362,\n",
       " 0.20900148140485997,\n",
       " 0.21129405281947222,\n",
       " 0.19956905800602698,\n",
       " 0.19170311169246967,\n",
       " 0.19782366511005556,\n",
       " 0.19676921831698468,\n",
       " 0.18644924550996245,\n",
       " 0.18743158174815222,\n",
       " 0.19537213300685363,\n",
       " 0.1847680264725804,\n",
       " 0.17158335982967365,\n",
       " 0.15206611659681069,\n",
       " 0.15691906623519958,\n",
       " 0.15704922805438715,\n",
       " 0.15430970725716375,\n",
       " 0.1615146401509786,\n",
       " 0.16723722494021187,\n",
       " 0.169182849345491,\n",
       " 0.18822955986961798,\n",
       " 0.1909035462317452,\n",
       " 0.17702226441715796,\n",
       " 0.1846179095312872,\n",
       " 0.18589299648127366,\n",
       " 0.15220807007906068]"
      ]
     },
     "execution_count": 76,
     "metadata": {},
     "output_type": "execute_result"
    }
   ],
   "source": [
    "returns=result[3]\n",
    "returns = [ret - 1 for ret in returns]\n",
    "returns"
   ]
  },
  {
   "cell_type": "code",
   "execution_count": 78,
   "id": "c359f589",
   "metadata": {},
   "outputs": [
    {
     "name": "stdout",
     "output_type": "stream",
     "text": [
      "最大回撤: -108.03%\n"
     ]
    }
   ],
   "source": [
    "returns=result[3]\n",
    "returns = [ret - 1 for ret in returns]\n",
    "\n",
    "# 将收益率列表转换为pandas的Series对象，方便处理\n",
    "returns_series = pd.Series(returns)\n",
    "\n",
    "# 计算累计收益率\n",
    "cumulative_returns = (1 + returns_series).cumprod() - 1\n",
    "\n",
    "# 计算滚动最大值\n",
    "rolling_max = cumulative_returns.cummax()\n",
    "\n",
    "# 计算回撤\n",
    "drawdown = cumulative_returns - rolling_max\n",
    "\n",
    "# 计算最大回撤\n",
    "max_drawdown = drawdown.min()\n",
    "\n",
    "# 打印最大回撤\n",
    "print(\"最大回撤: {:.2%}\".format(max_drawdown))\n"
   ]
  },
  {
   "cell_type": "code",
   "execution_count": null,
   "id": "d346e244",
   "metadata": {},
   "outputs": [],
   "source": []
  },
  {
   "cell_type": "code",
   "execution_count": 81,
   "id": "eb03bdd8",
   "metadata": {},
   "outputs": [
    {
     "data": {
      "image/png": "[encoded data removed]",
      "text/plain": [
       "<Figure size 640x480 with 1 Axes>"
      ]
     },
     "metadata": {},
     "output_type": "display_data"
    },
    {
     "data": {
      "image/png": "[encoded data removed]",
      "text/plain": [
       "<Figure size 640x480 with 1 Axes>"
      ]
     },
     "metadata": {},
     "output_type": "display_data"
    }
   ],
   "source": [
    "def paint():\n",
    "    acc=history.history['acc']\n",
    "    val_acc=history.history['val_acc']\n",
    "    loss=history.history['loss']\n",
    "    val_loss=history.history['val_loss']\n",
    "\n",
    "    epochs=range(len(acc))\n",
    "    plt.plot(epochs,acc,'bo',label='Training acc')\n",
    "    plt.plot(epochs,val_acc,'b',label='Validation acc')\n",
    "    plt.title('Training and validation accuracy')\n",
    "    plt.legend()\n",
    "\n",
    "    plt.figure()\n",
    "\n",
    "    plt.plot(epochs,loss,'bo',label='Training loss')\n",
    "    plt.plot(epochs,val_loss,'b',label='Validation loss')\n",
    "    plt.title('Training and validation loss')\n",
    "    plt.legend()\n",
    "    return plt\n",
    "my_paint=paint()\n",
    "my_paint.show()"
   ]
  },
  {
   "cell_type": "markdown",
   "id": "ff449cf1",
   "metadata": {},
   "source": [
    "# 混淆矩阵绘制"
   ]
  },
  {
   "cell_type": "code",
   "execution_count": 84,
   "id": "6a2eaf54",
   "metadata": {},
   "outputs": [
    {
     "name": "stdout",
     "output_type": "stream",
     "text": [
      "混淆矩阵： [[153  64]\n",
      " [ 99  76]]\n",
      "查准率： 0.6071428571428571\n",
      "查全率： 0.7050691244239631\n",
      "f1-score: 0.6524520255863538\n"
     ]
    }
   ],
   "source": [
    "confusion_matrix = confusion_matrix(target_test, y_pred,labels=[1,0])\n",
    "precision_score=precision_score(target_test, y_pred)\n",
    "recall_score=recall_score(target_test, y_pred)\n",
    "f1_score=f1_score(target_test, y_pred)\n",
    "\n",
    "print('混淆矩阵：',confusion_matrix)\n",
    "print('查准率：',precision_score)\n",
    "print('查全率：',recall_score)\n",
    "print('f1-score:',f1_score)"
   ]
  },
  {
   "cell_type": "code",
   "execution_count": null,
   "id": "f48b8b1a",
   "metadata": {},
   "outputs": [],
   "source": []
  },
  {
   "cell_type": "code",
   "execution_count": 89,
   "id": "52941452",
   "metadata": {},
   "outputs": [
    {
     "name": "stdout",
     "output_type": "stream",
     "text": [
      "13/13 [==============================] - 0s 7ms/step\n"
     ]
    },
    {
     "data": {
      "image/png": "[encoded data removed]",
      "text/plain": [
       "<Figure size 640x480 with 1 Axes>"
      ]
     },
     "metadata": {},
     "output_type": "display_data"
    }
   ],
   "source": [
    "y_predict=model.predict([fif_test,daily_test,wenben_test]).reshape(test_num-daily_back).tolist()\n",
    "fpr,tpr,threshold = roc_curve(target_test, y_predict) ###计算真正率和假正率\n",
    "# print(fpr,tpr,threshold)\n",
    "roc_auc = auc(fpr,tpr)\n",
    "\n",
    "\n",
    "lw = 2\n",
    "plt.figure()\n",
    "plt.plot(fpr, tpr, color='darkorange',\n",
    "         lw=lw, label='ROC curve (area = %0.2f)' % roc_auc) ###假正率为横坐标，真正率为纵坐标做曲线\n",
    "plt.plot([0, 1], [0, 1], color='navy', lw=lw, linestyle='--')\n",
    "plt.xlim([0.0, 1.0])\n",
    "plt.ylim([0.0, 1.05])\n",
    "plt.xlabel('False Positive Rate')\n",
    "plt.ylabel('True Positive Rate')\n",
    "plt.title('Receiver operating characteristic example')\n",
    "plt.legend(loc=\"lower right\")\n",
    "plt.show()"
   ]
  },
  {
   "cell_type": "markdown",
   "id": "302466a8",
   "metadata": {},
   "source": [
    "# 保存"
   ]
  },
  {
   "cell_type": "code",
   "execution_count": 92,
   "id": "96676464",
   "metadata": {},
   "outputs": [],
   "source": [
    "df9=pd.DataFrame({'损失值':loss,'准确率':accuracy,'夏普值':sharp,'收益率':result[2]-1,'最大回撤':[max_drawdown],'查准率':[precision_score],'查全率':[recall_score],'f1-score':[f1_score]})\n",
    "df10=pd.DataFrame({'每日收益率':result[1]})\n",
    "path9='/Users/ccmac/Desktop'\n",
    "df9.to_excel(os.path.join(path9,'数据表.xlsx'),index=False)\n",
    "df10.to_excel(os.path.join(path9,'每日收益率表.xlsx'),index=False)"
   ]
  },
  {
   "cell_type": "code",
   "execution_count": null,
   "id": "56cb83ab",
   "metadata": {},
   "outputs": [],
   "source": []
  },
  {
   "cell_type": "code",
   "execution_count": 95,
   "id": "82c56301",
   "metadata": {},
   "outputs": [
    {
     "name": "stdout",
     "output_type": "stream",
     "text": [
      "[[1 2 3 4]\n",
      " [5 6 7 8]]\n",
      "[[   1    2    6   24]\n",
      " [   5   30  210 1680]]\n"
     ]
    }
   ],
   "source": [
    "import numpy as np\n",
    "t = np.array([1, 2, 3, 4, 5, 6, 7, 8]).reshape([2,4])\n",
    "y = np.cumprod(t, axis=1)\n",
    "print(t)\n",
    "print(y)\n"
   ]
  },
  {
   "cell_type": "code",
   "execution_count": null,
   "id": "55058d97-109b-409b-95d0-55fa4f0094fd",
   "metadata": {},
   "outputs": [],
   "source": []
  }
 ],
 "metadata": {
  "kernelspec": {
   "display_name": "Python [conda env:tf_env]",
   "language": "python",
   "name": "conda-env-tf_env-py"
  },
  "language_info": {
   "codemirror_mode": {
    "name": "ipython",
    "version": 3
   },
   "file_extension": ".py",
   "mimetype": "text/x-python",
   "name": "python",
   "nbconvert_exporter": "python",
   "pygments_lexer": "ipython3",
   "version": "3.8.18"
  }
 },
 "nbformat": 4,
 "nbformat_minor": 5
}
