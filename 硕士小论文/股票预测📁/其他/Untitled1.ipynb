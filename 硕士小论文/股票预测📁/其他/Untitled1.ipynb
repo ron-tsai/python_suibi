{
 "cells": [
  {
   "cell_type": "code",
   "execution_count": 3,
   "id": "ed1811e6-094f-415b-921a-a38027680ca7",
   "metadata": {},
   "outputs": [],
   "source": [
    "import torch"
   ]
  },
  {
   "cell_type": "code",
   "execution_count": 4,
   "id": "bdeeecd2-2d9c-4335-a712-db7eabf5b25c",
   "metadata": {},
   "outputs": [
    {
     "name": "stdout",
     "output_type": "stream",
     "text": [
      "tensor([12.])\n"
     ]
    }
   ],
   "source": [
    "# 动态图示例\n",
    "x = torch.tensor([5.0], requires_grad=True)\n",
    "y = x * x + 2 * x + 1\n",
    "y.backward()\n",
    "print(x.grad)  # 输出: tensor([12.])"
   ]
  },
  {
   "cell_type": "code",
   "execution_count": null,
   "id": "b778bdd5-d046-4a7c-b509-750cea5179bf",
   "metadata": {},
   "outputs": [],
   "source": []
  },
  {
   "cell_type": "code",
   "execution_count": null,
   "id": "459a666f-f9e2-4e90-9c38-444e9afb2198",
   "metadata": {},
   "outputs": [],
   "source": []
  }
 ],
 "metadata": {
  "kernelspec": {
   "display_name": "Python [conda env:pytorch_env]",
   "language": "python",
   "name": "conda-env-pytorch_env-py"
  },
  "language_info": {
   "codemirror_mode": {
    "name": "ipython",
    "version": 3
   },
   "file_extension": ".py",
   "mimetype": "text/x-python",
   "name": "python",
   "nbconvert_exporter": "python",
   "pygments_lexer": "ipython3",
   "version": "3.8.20"
  }
 },
 "nbformat": 4,
 "nbformat_minor": 5
}
