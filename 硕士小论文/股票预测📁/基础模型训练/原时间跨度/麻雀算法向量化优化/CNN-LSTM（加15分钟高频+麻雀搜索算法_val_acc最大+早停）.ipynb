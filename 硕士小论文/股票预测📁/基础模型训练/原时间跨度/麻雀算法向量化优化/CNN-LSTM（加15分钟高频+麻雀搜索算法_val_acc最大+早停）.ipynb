{
 "cells": [
  {
   "cell_type": "markdown",
   "id": "49f433dd-af84-4c82-b8e3-1d4950fbdf36",
   "metadata": {},
   "source": [
    "# 1. 导入python库"
   ]
  },
  {
   "cell_type": "code",
   "execution_count": 33,
   "id": "3f02e0e4-772a-47f3-bbd7-68372bf70654",
   "metadata": {},
   "outputs": [],
   "source": [
    "import pandas as pd\n",
    "import numpy as np\n",
    "import os\n",
    "\n",
    "%matplotlib inline\n",
    "from matplotlib import pyplot as plt\n",
    "\n",
    "from tensorflow.keras.models import Model\n",
    "from tensorflow.keras import layers\n",
    "from tensorflow.keras import Input\n",
    "from tensorflow.keras.optimizers import Adam\n",
    "from tensorflow.keras.utils import plot_model\n",
    "\n",
    "from sklearn.metrics import confusion_matrix, roc_curve, auc, recall_score, precision_score, f1_score\n",
    "from tensorflow.keras.callbacks import EarlyStopping\n"
   ]
  },
  {
   "cell_type": "markdown",
   "id": "fa353efb",
   "metadata": {},
   "source": [
    "# 2. 参数设置"
   ]
  },
  {
   "cell_type": "code",
   "execution_count": 34,
   "id": "ccfe2d2a",
   "metadata": {
    "scrolled": true
   },
   "outputs": [],
   "source": [
    "daily_back=20\n",
    "wenben_back=10\n",
    "\n",
    "wenben_sort=2\n",
    "\n",
    "batch_size=32\n",
    "epochs=100\n",
    "patience=15\n",
    "\n",
    "# LSTM_num=100\n",
    "# dense_num=20\n",
    "\n",
    "\n",
    "mix_file='daily_data.xlsx'\n",
    "first_columns='search_index'\n",
    "\n",
    "\n",
    "total_day=2159 #根据查看数据表，得到数值\n",
    "train_num=1295\n",
    "test_num=total_day-train_num\n"
   ]
  },
  {
   "cell_type": "markdown",
   "id": "1006d29e",
   "metadata": {},
   "source": []
  },
  {
   "cell_type": "markdown",
   "id": "08c9b0fa",
   "metadata": {},
   "source": [
    "# 3. 读取原始数据"
   ]
  },
  {
   "cell_type": "code",
   "execution_count": 35,
   "id": "c5a53a33",
   "metadata": {},
   "outputs": [],
   "source": [
    "new_dir='/Users/ccmac/Desktop/完成SCI数据'\n",
    "\n",
    "\n",
    "daily_df=pd.read_excel(os.path.join(new_dir,mix_file))\n",
    "fif_df=pd.read_excel(os.path.join(new_dir,'fif_data.xlsx'))\n",
    "target_df=pd.read_excel(os.path.join(new_dir,'target.xlsx'))\n",
    "wenben_df=pd.read_excel(os.path.join(new_dir,mix_file))"
   ]
  },
  {
   "cell_type": "markdown",
   "id": "62075d36-f9cf-4309-a201-1ef014f56cb4",
   "metadata": {},
   "source": [
    "# 4. 标准化"
   ]
  },
  {
   "cell_type": "markdown",
   "id": "a093f0e5",
   "metadata": {},
   "source": [
    "## 4.1 历史数据标准化函数norm"
   ]
  },
  {
   "cell_type": "code",
   "execution_count": 36,
   "id": "6f00c73f",
   "metadata": {},
   "outputs": [],
   "source": [
    "def norm(df):\n",
    "    x=df.copy()\n",
    "    open_mean_value = df['open'].mean(axis=0)\n",
    "    high_mean_value = df['high'].mean(axis=0)\n",
    "    low_mean_value = df['low'].mean()\n",
    "    close_mean_value = df['close'].mean()\n",
    "    volumerate_mean_value = df['volume_rate'].mean()\n",
    "\n",
    "    open_std_value = df['open'].std()\n",
    "    high_std_value = df['high'].std()\n",
    "    low_std_value = df['low'].std()\n",
    "    close_std_value = df['close'].std()\n",
    "    volumerate_std_value = df['volume_rate'].std()\n",
    "\n",
    "    x['open']=(df['open']-open_mean_value)/open_std_value\n",
    "    x['high'] = (df['high'] - high_mean_value) / high_std_value\n",
    "    x['low'] =  (df['low'] - low_mean_value) / low_std_value\n",
    "    x['close'] =  (df['close'] - close_mean_value) / close_std_value\n",
    "    x['volume_rate'] = (df['volume_rate'] - volumerate_mean_value) / volumerate_std_value\n",
    "    df=x\n",
    "    return df"
   ]
  },
  {
   "cell_type": "markdown",
   "id": "07a46668",
   "metadata": {},
   "source": [
    "## 4.2 文本数据标准化函数wenben_norm"
   ]
  },
  {
   "cell_type": "code",
   "execution_count": 37,
   "id": "78f471cd",
   "metadata": {},
   "outputs": [],
   "source": [
    "def wenben_norm(df):\n",
    "    x=df.copy()\n",
    "    sector_score_mean_value = df['sector_score'].mean(axis=0)\n",
    "    search_index_mean_value = df['search_index'].mean(axis=0)\n",
    "\n",
    "    sector_score_std_value = df['sector_score'].std()\n",
    "    search_index_std_value = df['search_index'].std()\n",
    "\n",
    "    x['sector_score']=(df['sector_score']-sector_score_mean_value)/sector_score_std_value\n",
    "    x['search_index'] = (df['search_index'] - search_index_mean_value) / search_index_std_value\n",
    "    \n",
    "    df=x\n",
    "    \n",
    "    return df"
   ]
  },
  {
   "cell_type": "markdown",
   "id": "9a82c845-6afe-43a1-820a-ae8b4e8fb2ab",
   "metadata": {},
   "source": [
    "# 5. 数据切分训练集与测试集"
   ]
  },
  {
   "cell_type": "markdown",
   "id": "3b6911e7",
   "metadata": {},
   "source": [
    "## 5.1 数据切分函数"
   ]
  },
  {
   "cell_type": "code",
   "execution_count": 38,
   "id": "07835973",
   "metadata": {},
   "outputs": [],
   "source": [
    "def split_data(train_num=train_num,wenben_back=wenben_back):\n",
    "    \n",
    "    # 先切分\n",
    "    daily_train_df=daily_df.loc[daily_df.index<train_num]\n",
    "    daily_test_df=daily_df.loc[daily_df.index>=train_num]\n",
    "    \n",
    "    fif_train_df=fif_df.loc[fif_df.index<16*train_num]\n",
    "    fif_test_df=fif_df.loc[fif_df.index>=16*train_num]\n",
    "    \n",
    "    wenben_train_df=wenben_df.loc[wenben_df.index<train_num]\n",
    "    wenben_test_df=wenben_df.loc[wenben_df.index>=train_num]\n",
    "\n",
    "    target_train_df=target_df.loc[target_df.index<train_num]\n",
    "    target_test_df=target_df.loc[target_df.index>=train_num]\n",
    "\n",
    "    \n",
    "    #再进行归一化\n",
    "    daily_train_df=norm(daily_train_df)\n",
    "    daily_test_df=norm(daily_test_df)\n",
    "    fif_train_df=norm(fif_train_df)\n",
    "    fif_test_df=norm(fif_test_df)\n",
    "    wenben_train_df=wenben_norm(wenben_train_df)\n",
    "    wenben_test_df = wenben_norm(wenben_test_df)\n",
    "\n",
    "\n",
    "    return {'daily_train_df':daily_train_df,\n",
    "            'daily_test_df':daily_test_df,\n",
    "            'fif_train_df':fif_train_df,\n",
    "            'fif_test_df':fif_test_df,\n",
    "            'target_train_df':target_train_df,\n",
    "            'target_test_df':target_test_df,\n",
    "            'wenben_train_df':wenben_train_df,\n",
    "            'wenben_test_df': wenben_test_df\n",
    "            }"
   ]
  },
  {
   "cell_type": "markdown",
   "id": "557c115f",
   "metadata": {},
   "source": [
    "## 5.2 进行数据切分"
   ]
  },
  {
   "cell_type": "code",
   "execution_count": 39,
   "id": "b87cec91",
   "metadata": {},
   "outputs": [
    {
     "name": "stdout",
     "output_type": "stream",
     "text": [
      "日频训练切分： (1295, 8)\n",
      "日频测试切分： (864, 8)\n",
      "十五分钟频训练切分： (20720, 6)\n",
      "十五分钟频测试切分： (14000, 6)\n",
      "训练目标切分： (1295, 2)\n",
      "测试目标切分： (875, 2)\n"
     ]
    }
   ],
   "source": [
    "daily_norm_train_df=split_data()['daily_train_df']\n",
    "print('日频训练切分：',daily_norm_train_df.shape)\n",
    "daily_norm_test_df=split_data()['daily_test_df']\n",
    "print('日频测试切分：',daily_norm_test_df.shape)\n",
    "fif_norm_train_df=split_data()['fif_train_df']\n",
    "print('十五分钟频训练切分：',fif_norm_train_df.shape)\n",
    "fif_norm_test_df=split_data()['fif_test_df']\n",
    "print('十五分钟频测试切分：',fif_norm_test_df.shape)\n",
    "target_norm_train_df=split_data()['target_train_df']\n",
    "print('训练目标切分：',target_norm_train_df.shape)\n",
    "target_norm_test_df=split_data()['target_test_df']\n",
    "print('测试目标切分：',target_norm_test_df.shape)\n",
    "wenben_norm_train_df=split_data()['wenben_train_df']\n",
    "wenben_norm_test_df=split_data()['wenben_test_df']"
   ]
  },
  {
   "cell_type": "markdown",
   "id": "a225c99c-5d81-4930-8aa6-eda77400170e",
   "metadata": {},
   "source": [
    "# 6. 数据转化为神经网络输入格式"
   ]
  },
  {
   "cell_type": "markdown",
   "id": "3ffb3f1f-314a-4710-b96a-62d39be82ec6",
   "metadata": {},
   "source": [
    "## 6.1 建立转化类（返回多个字典）"
   ]
  },
  {
   "cell_type": "code",
   "execution_count": 40,
   "id": "de355a30-733f-4c79-978d-600334ad64dc",
   "metadata": {},
   "outputs": [],
   "source": [
    "class Data_maker:\n",
    "    def __init__(self,train_num,test_num,fif_back,daily_back,wenben_back):\n",
    "        self.train_num=train_num\n",
    "        self.test_num=test_num\n",
    "        self.fif_back=fif_back\n",
    "        self.daily_back=daily_back\n",
    "        self.wenben_back = wenben_back\n",
    "\n",
    "\n",
    "    def daily_train_data(self,data):\n",
    "        while True:\n",
    "            rows = list(range(self.train_num - self.daily_back)) #总共1650个数据，由于扣除前面20个数据，所以为1630\n",
    "            ### 先构造空（预测日长度*日后移）array\n",
    "            samples = np.zeros((len(rows),\n",
    "                                 self.daily_back,\n",
    "                                 5))\n",
    "            print(samples.shape)\n",
    "            for j in rows:\n",
    "                ### 每一个填入用于预测一天的开盘价到波动率矩阵\n",
    "                samples[j] = data.loc[\n",
    "                                  (data.index >= j) & (data.index < self.daily_back + j),\n",
    "                                  'open':'volume_rate']\n",
    "            print(data.index)\n",
    "            print('日频训练array：',samples.shape)\n",
    "            return samples\n",
    "    def fif_train_data(self,data):\n",
    "        while True:\n",
    "            rows = list(range(self.train_num - self.daily_back))\n",
    "            samples = np.zeros((len(rows),\n",
    "                                 self.fif_back,\n",
    "                                 5))\n",
    "            for j in rows:\n",
    "\n",
    "                samples[j] = data.loc[\n",
    "                              (data.index >= j * self.fif_back ) & (data.index < (j+1) * self.fif_back),\n",
    "                              'open':]\n",
    "            print('十五分钟训练array：',samples.shape)\n",
    "            return samples\n",
    "    def wenben_train_data(self,data):\n",
    "        while True:\n",
    "            rows = list(range(self.train_num - self.daily_back)) #总共1489个数据，由于扣除前面20个数据，所以为1469\n",
    "            samples = np.zeros((len(rows),\n",
    "                                 self.wenben_back,\n",
    "                                 wenben_sort))\n",
    "            for j in rows:\n",
    "\n",
    "                samples[j] = data.loc[\n",
    "                                  (data.index >= j) & (data.index < self.wenben_back + j),\n",
    "                                  first_columns:]\n",
    "            print('文本长期训练array：',samples.shape)\n",
    "            return samples\n",
    "   \n",
    "\n",
    "    def daily_test_data(self,data):\n",
    "        while True:\n",
    "            rows = list(range(self.test_num - self.daily_back))\n",
    "            print(self.test_num,self.daily_back)\n",
    "            print(rows)\n",
    "            samples = np.zeros((len(rows),\n",
    "                                self.daily_back,\n",
    "                                 5))\n",
    "            for j in rows:\n",
    "\n",
    "\n",
    "                samples[j] = data.loc[\n",
    "                                  (data.index >= self.train_num+j) & (data.index < self.train_num+self.daily_back + j),\n",
    "                                  'open':'volume_rate']\n",
    "            print('日测试array：',samples.shape)\n",
    "            print('试一试index', data.index,'train_num',self.train_num)\n",
    "            return samples\n",
    "\n",
    "    def wenben_test_data(self, data):\n",
    "        while True:\n",
    "            rows = list(range(self.test_num - self.daily_back))\n",
    "            samples = np.zeros((len(rows),\n",
    "                                self.wenben_back,\n",
    "                                wenben_sort))\n",
    "            for j in rows:\n",
    "                samples[j] = data.loc[\n",
    "                             (data.index >= self.train_num + j) & (data.index < self.train_num + self.wenben_back + j),\n",
    "                             first_columns:]\n",
    "            print('长期文本测试array：', samples.shape)\n",
    "            return samples\n",
    "   \n",
    "    def fif_test_data(self,data):\n",
    "        while True:\n",
    "            rows = list(range(self.test_num - self.daily_back))\n",
    "            samples = np.zeros((len(rows),\n",
    "                                self.fif_back,\n",
    "                                 5))\n",
    "            for j in rows:\n",
    "\n",
    "\n",
    "                samples[j] = data.loc[\n",
    "                                 (data.index >= 16*self.train_num+(j) * self.fif_back) & (data.index < 16*self.train_num+(j+1) * self.fif_back),\n",
    "                                 'open':]\n",
    "            print('十五分钟测试array：',samples.shape)\n",
    "            return samples\n",
    "    def target_train_data(self,data):\n",
    "        while True:\n",
    "            rows = list(range(self.train_num-self.daily_back))\n",
    "            targets = np.zeros((len(rows),))\n",
    "            for j in rows:\n",
    "\n",
    "\n",
    "                targets[j] = data.loc[data.index == j, 'target'].iloc[0] #根据提示，添加了.iloc[0]\n",
    "            print('训练标签array',targets.shape)\n",
    "            return targets\n",
    "    def target_test_data(self,data):\n",
    "        while True:\n",
    "            rows = list(range(self.test_num-self.daily_back))\n",
    "            targets = np.zeros((len(rows),))\n",
    "            for j in rows:\n",
    "\n",
    "\n",
    "                targets[j] = data.loc[data.index == self.train_num+j, 'target'].iloc[0] ##出问题：应该是。而不是***：data.index == self.train_num+j\n",
    "            print(targets.shape)\n",
    "            return targets"
   ]
  },
  {
   "cell_type": "markdown",
   "id": "1d109eb0-7de5-414a-a276-f81fcefe1269",
   "metadata": {},
   "source": [
    "## 6.2 设置类方法里的参数，赋值给origin_data_maker，仍然是一个class类"
   ]
  },
  {
   "cell_type": "code",
   "execution_count": 41,
   "id": "e39a13e8-0b0d-4cb8-b630-a142d4529615",
   "metadata": {},
   "outputs": [],
   "source": [
    "origin_data_maker=Data_maker(train_num=train_num,test_num=test_num,fif_back=16,daily_back=daily_back,wenben_back=wenben_back)"
   ]
  },
  {
   "cell_type": "markdown",
   "id": "b84200b8",
   "metadata": {},
   "source": [
    "# 6.3 调用类中的方法,处理原始数据"
   ]
  },
  {
   "cell_type": "code",
   "execution_count": 42,
   "id": "a26f72f7",
   "metadata": {},
   "outputs": [
    {
     "name": "stdout",
     "output_type": "stream",
     "text": [
      "(1275, 20, 5)\n",
      "Index([   0,    1,    2,    3,    4,    5,    6,    7,    8,    9,\n",
      "       ...\n",
      "       1285, 1286, 1287, 1288, 1289, 1290, 1291, 1292, 1293, 1294],\n",
      "      dtype='int64', length=1295)\n",
      "日频训练array： (1275, 20, 5)\n",
      "864 20\n",
      "[0, 1, 2, 3, 4, 5, 6, 7, 8, 9, 10, 11, 12, 13, 14, 15, 16, 17, 18, 19, 20, 21, 22, 23, 24, 25, 26, 27, 28, 29, 30, 31, 32, 33, 34, 35, 36, 37, 38, 39, 40, 41, 42, 43, 44, 45, 46, 47, 48, 49, 50, 51, 52, 53, 54, 55, 56, 57, 58, 59, 60, 61, 62, 63, 64, 65, 66, 67, 68, 69, 70, 71, 72, 73, 74, 75, 76, 77, 78, 79, 80, 81, 82, 83, 84, 85, 86, 87, 88, 89, 90, 91, 92, 93, 94, 95, 96, 97, 98, 99, 100, 101, 102, 103, 104, 105, 106, 107, 108, 109, 110, 111, 112, 113, 114, 115, 116, 117, 118, 119, 120, 121, 122, 123, 124, 125, 126, 127, 128, 129, 130, 131, 132, 133, 134, 135, 136, 137, 138, 139, 140, 141, 142, 143, 144, 145, 146, 147, 148, 149, 150, 151, 152, 153, 154, 155, 156, 157, 158, 159, 160, 161, 162, 163, 164, 165, 166, 167, 168, 169, 170, 171, 172, 173, 174, 175, 176, 177, 178, 179, 180, 181, 182, 183, 184, 185, 186, 187, 188, 189, 190, 191, 192, 193, 194, 195, 196, 197, 198, 199, 200, 201, 202, 203, 204, 205, 206, 207, 208, 209, 210, 211, 212, 213, 214, 215, 216, 217, 218, 219, 220, 221, 222, 223, 224, 225, 226, 227, 228, 229, 230, 231, 232, 233, 234, 235, 236, 237, 238, 239, 240, 241, 242, 243, 244, 245, 246, 247, 248, 249, 250, 251, 252, 253, 254, 255, 256, 257, 258, 259, 260, 261, 262, 263, 264, 265, 266, 267, 268, 269, 270, 271, 272, 273, 274, 275, 276, 277, 278, 279, 280, 281, 282, 283, 284, 285, 286, 287, 288, 289, 290, 291, 292, 293, 294, 295, 296, 297, 298, 299, 300, 301, 302, 303, 304, 305, 306, 307, 308, 309, 310, 311, 312, 313, 314, 315, 316, 317, 318, 319, 320, 321, 322, 323, 324, 325, 326, 327, 328, 329, 330, 331, 332, 333, 334, 335, 336, 337, 338, 339, 340, 341, 342, 343, 344, 345, 346, 347, 348, 349, 350, 351, 352, 353, 354, 355, 356, 357, 358, 359, 360, 361, 362, 363, 364, 365, 366, 367, 368, 369, 370, 371, 372, 373, 374, 375, 376, 377, 378, 379, 380, 381, 382, 383, 384, 385, 386, 387, 388, 389, 390, 391, 392, 393, 394, 395, 396, 397, 398, 399, 400, 401, 402, 403, 404, 405, 406, 407, 408, 409, 410, 411, 412, 413, 414, 415, 416, 417, 418, 419, 420, 421, 422, 423, 424, 425, 426, 427, 428, 429, 430, 431, 432, 433, 434, 435, 436, 437, 438, 439, 440, 441, 442, 443, 444, 445, 446, 447, 448, 449, 450, 451, 452, 453, 454, 455, 456, 457, 458, 459, 460, 461, 462, 463, 464, 465, 466, 467, 468, 469, 470, 471, 472, 473, 474, 475, 476, 477, 478, 479, 480, 481, 482, 483, 484, 485, 486, 487, 488, 489, 490, 491, 492, 493, 494, 495, 496, 497, 498, 499, 500, 501, 502, 503, 504, 505, 506, 507, 508, 509, 510, 511, 512, 513, 514, 515, 516, 517, 518, 519, 520, 521, 522, 523, 524, 525, 526, 527, 528, 529, 530, 531, 532, 533, 534, 535, 536, 537, 538, 539, 540, 541, 542, 543, 544, 545, 546, 547, 548, 549, 550, 551, 552, 553, 554, 555, 556, 557, 558, 559, 560, 561, 562, 563, 564, 565, 566, 567, 568, 569, 570, 571, 572, 573, 574, 575, 576, 577, 578, 579, 580, 581, 582, 583, 584, 585, 586, 587, 588, 589, 590, 591, 592, 593, 594, 595, 596, 597, 598, 599, 600, 601, 602, 603, 604, 605, 606, 607, 608, 609, 610, 611, 612, 613, 614, 615, 616, 617, 618, 619, 620, 621, 622, 623, 624, 625, 626, 627, 628, 629, 630, 631, 632, 633, 634, 635, 636, 637, 638, 639, 640, 641, 642, 643, 644, 645, 646, 647, 648, 649, 650, 651, 652, 653, 654, 655, 656, 657, 658, 659, 660, 661, 662, 663, 664, 665, 666, 667, 668, 669, 670, 671, 672, 673, 674, 675, 676, 677, 678, 679, 680, 681, 682, 683, 684, 685, 686, 687, 688, 689, 690, 691, 692, 693, 694, 695, 696, 697, 698, 699, 700, 701, 702, 703, 704, 705, 706, 707, 708, 709, 710, 711, 712, 713, 714, 715, 716, 717, 718, 719, 720, 721, 722, 723, 724, 725, 726, 727, 728, 729, 730, 731, 732, 733, 734, 735, 736, 737, 738, 739, 740, 741, 742, 743, 744, 745, 746, 747, 748, 749, 750, 751, 752, 753, 754, 755, 756, 757, 758, 759, 760, 761, 762, 763, 764, 765, 766, 767, 768, 769, 770, 771, 772, 773, 774, 775, 776, 777, 778, 779, 780, 781, 782, 783, 784, 785, 786, 787, 788, 789, 790, 791, 792, 793, 794, 795, 796, 797, 798, 799, 800, 801, 802, 803, 804, 805, 806, 807, 808, 809, 810, 811, 812, 813, 814, 815, 816, 817, 818, 819, 820, 821, 822, 823, 824, 825, 826, 827, 828, 829, 830, 831, 832, 833, 834, 835, 836, 837, 838, 839, 840, 841, 842, 843]\n",
      "日测试array： (844, 20, 5)\n",
      "试一试index Index([1295, 1296, 1297, 1298, 1299, 1300, 1301, 1302, 1303, 1304,\n",
      "       ...\n",
      "       2149, 2150, 2151, 2152, 2153, 2154, 2155, 2156, 2157, 2158],\n",
      "      dtype='int64', length=864) train_num 1295\n",
      "十五分钟训练array： (1275, 16, 5)\n",
      "十五分钟测试array： (844, 16, 5)\n",
      "文本长期训练array： (1275, 10, 2)\n",
      "长期文本测试array： (844, 10, 2)\n",
      "训练标签array (1275,)\n",
      "(844,)\n"
     ]
    }
   ],
   "source": [
    "DM = origin_data_maker\n",
    "\n",
    "daily_train_prepared = DM.daily_train_data(daily_norm_train_df)\n",
    "daily_test_prepared = DM.daily_test_data(daily_norm_test_df)\n",
    "\n",
    "fif_train_prepared = DM.fif_train_data(fif_norm_train_df)\n",
    "fif_test_prepared = DM.fif_test_data(fif_norm_test_df)\n",
    "\n",
    "wenben_train_prepared = DM.wenben_train_data(wenben_norm_train_df)\n",
    "wenben_test_prepared = DM.wenben_test_data(wenben_norm_test_df)\n",
    "\n",
    "target_train_prepared = DM.target_train_data(target_norm_train_df)\n",
    "target_test_prepared = DM.target_test_data(target_norm_test_df)\n"
   ]
  },
  {
   "cell_type": "code",
   "execution_count": 43,
   "id": "082f7ca9-9c73-4357-95e4-b0639fc865cd",
   "metadata": {},
   "outputs": [],
   "source": [
    "# daily_train_prepared\n",
    "# daily_test_prepared\n",
    "\n",
    "# fif_train_prepared\n",
    "# fif_test_prepared \n",
    "\n",
    "# wenben_train_prepared\n",
    "# wenben_test_prepared\n",
    "\n",
    "# target_train_prepared\n",
    "# target_test_prepared"
   ]
  },
  {
   "cell_type": "markdown",
   "id": "eb802e8a",
   "metadata": {},
   "source": [
    "# 7. 神经网络模型训练"
   ]
  },
  {
   "cell_type": "markdown",
   "id": "ff9ca801-990d-4205-a794-e3784edf76a1",
   "metadata": {},
   "source": [
    "## 7.1 模型建立 "
   ]
  },
  {
   "cell_type": "code",
   "execution_count": null,
   "id": "f40a1c29",
   "metadata": {},
   "outputs": [],
   "source": [
    "\n",
    "def my_model(daily_back, LSTM_num, dense_num, learning_rate):\n",
    "    # 15分钟频输入\n",
    "    fif_min_input = Input(shape=(16, 5), dtype='float32', name='fif_min_input')\n",
    "    Conv1D_fif = layers.Conv1D(16, 1, strides=1)(fif_min_input)\n",
    "    LSTM_fif = layers.LSTM(LSTM_num)(Conv1D_fif)\n",
    "    \n",
    "    # 日频输入\n",
    "    daily_input = Input(shape=(daily_back, 5), dtype='float32', name='daily_input')\n",
    "    Conv1D_daily = layers.Conv1D(16, 1, strides=1)(daily_input)\n",
    "    LSTM_daily = layers.LSTM(LSTM_num)(Conv1D_daily)\n",
    "    \n",
    "    # 合并与全连接\n",
    "    concatenated = layers.concatenate([LSTM_fif, LSTM_daily], axis=-1)\n",
    "    alloy = layers.Dense(dense_num, activation='relu')(concatenated)\n",
    "    dropout = layers.Dropout(0.2)(alloy)\n",
    "    output = layers.Dense(1, activation='sigmoid')(dropout)\n",
    "    \n",
    "    model = Model([fif_min_input, daily_input], output)\n",
    "    model.compile(optimizer=Adam(learning_rate=learning_rate), \n",
    "                  loss='binary_crossentropy', \n",
    "                  metrics=['acc'])\n",
    "    return model"
   ]
  },
  {
   "cell_type": "markdown",
   "id": "d69099bb-ead0-46b3-997f-c0635e14be58",
   "metadata": {},
   "source": [
    "# 创建早停回调"
   ]
  },
  {
   "cell_type": "code",
   "execution_count": 45,
   "id": "9af36f56-c999-4625-ac56-0120ff16a2f8",
   "metadata": {},
   "outputs": [],
   "source": [
    "# 创建早停回调\n",
    "early_stopping = EarlyStopping(\n",
    "    monitor='val_acc',    # 监控验证集损失\n",
    "    patience=patience,           # 如果连续10个epoch验证集损失没有改善，则停止训练\n",
    "    restore_best_weights=True  # 恢复验证集损失最低时的模型权重\n",
    ")"
   ]
  },
  {
   "cell_type": "markdown",
   "id": "f0cb0845-d365-4979-84d5-90540b299960",
   "metadata": {},
   "source": [
    "# 2. 定义适应度函数"
   ]
  },
  {
   "cell_type": "code",
   "execution_count": 46,
   "id": "8dbc63ea-2505-488f-adc7-0a778f7879a8",
   "metadata": {},
   "outputs": [],
   "source": [
    "from concurrent.futures import ThreadPoolExecutor\n",
    "\n",
    "# 向量化适应度函数 - 支持批量评估多个参数组合\n",
    "def fitness_function_batch(params_batch, daily_back, fif_train_prepared, \n",
    "                          daily_train_prepared, target_train_prepared, \n",
    "                          batch_size, epochs, early_stopping):\n",
    "    results = []\n",
    "    \n",
    "    # 定义模型创建函数\n",
    "    def create_and_train_model(params):\n",
    "        LSTM_num = int(params[0])\n",
    "        dense_num = int(params[1])\n",
    "        learning_rate = params[2]\n",
    "        \n",
    "        # 创建模型\n",
    "        model = my_model(daily_back=daily_back,\n",
    "                         LSTM_num=LSTM_num,\n",
    "                         dense_num=dense_num,\n",
    "                         learning_rate=learning_rate)\n",
    "        \n",
    "        # 训练模型\n",
    "        history = model.fit(\n",
    "            x=[fif_train_prepared, daily_train_prepared],\n",
    "            y=target_train_prepared,\n",
    "            batch_size=batch_size,\n",
    "            validation_split=0.25,\n",
    "            epochs=epochs,\n",
    "            callbacks=[early_stopping],\n",
    "            verbose=0  # 关闭训练输出，避免混乱\n",
    "        )\n",
    "        \n",
    "        return history.history['val_acc'][-1]\n",
    "    \n",
    "    # 使用线程池并行训练多个模型\n",
    "    with ThreadPoolExecutor(max_workers=4) as executor:\n",
    "        results = list(executor.map(create_and_train_model, params_batch))\n",
    "    \n",
    "    return np.array(results)"
   ]
  },
  {
   "cell_type": "markdown",
   "id": "ffcb4aca-acf5-42c1-a3e3-a0146a1b4310",
   "metadata": {},
   "source": [
    "# 3. 实现麻雀搜索算法"
   ]
  },
  {
   "cell_type": "code",
   "execution_count": 47,
   "id": "ffb38a63-5310-43c4-b7b7-6181f62e545f",
   "metadata": {},
   "outputs": [],
   "source": [
    "# 向量化麻雀搜索算法\n",
    "def sparrow_vectorized(pop_size, max_iter, dim, lower_bounds, upper_bounds, \n",
    "                      daily_back, fif_train_prepared, daily_train_prepared, \n",
    "                      target_train_prepared, batch_size, epochs, early_stopping):\n",
    "    \n",
    "    # 初始化种群\n",
    "    pop = np.random.uniform(low=lower_bounds, high=upper_bounds, size=(pop_size, dim))\n",
    "    \n",
    "    # 向量化适应度评估函数\n",
    "    def fitness_func(params_batch):\n",
    "        return fitness_function_batch(\n",
    "            params_batch, daily_back, fif_train_prepared, \n",
    "            daily_train_prepared, target_train_prepared, \n",
    "            batch_size, epochs, early_stopping\n",
    "        )\n",
    "    \n",
    "    # 初始适应度评估\n",
    "    fitness = fitness_func(pop)\n",
    "    best_idx = np.argmax(fitness)\n",
    "    best_sol = pop[best_idx].copy()\n",
    "    best_fit = fitness[best_idx]\n",
    "    \n",
    "    print(f\"初始最佳准确率: {best_fit:.4f}\")\n",
    "    \n",
    "    for t in range(max_iter):\n",
    "        # 排序（从大到小）\n",
    "        sorted_idx = np.argsort(-fitness)\n",
    "        pop = pop[sorted_idx]\n",
    "        fitness = fitness[sorted_idx]\n",
    "        \n",
    "        # 发现者策略（向量化更新）\n",
    "        discoverer_mask = np.random.rand(pop_size) < 0.8\n",
    "        for i in range(int(pop_size * 0.2)):\n",
    "            if discoverer_mask[i]:\n",
    "                pop[i] *= np.exp(-i / (np.random.rand() * max_iter))\n",
    "            else:\n",
    "                pop[i] += np.random.normal(0, 1)\n",
    "            pop[i] = np.clip(pop[i], lower_bounds, upper_bounds)\n",
    "        \n",
    "        # 跟随者策略（向量化更新）\n",
    "        for i in range(int(pop_size * 0.2), pop_size):\n",
    "            if i > pop_size / 2:\n",
    "                pop[i] = np.random.normal(0, 1) * np.exp((pop[-1] - pop[i]) / (i ** 2))\n",
    "            else:\n",
    "                A = np.random.choice([-1, 1], size=dim)\n",
    "                pop[i] = pop[0] + A * (pop[0] - pop[i])\n",
    "            pop[i] = np.clip(pop[i], lower_bounds, upper_bounds)\n",
    "        \n",
    "        # 警戒者策略（向量化更新）\n",
    "        warning_mask = fitness < best_fit  # 修正缩进并使用英文变量名\n",
    "        for i in range(pop_size):\n",
    "            if warning_mask[i]:\n",
    "                pop[i] = best_sol + np.random.normal(0, 0.1)\n",
    "                pop[i] = np.clip(pop[i], lower_bounds, upper_bounds)\n",
    "        \n",
    "        # 更新最佳解\n",
    "        fitness = fitness_func(pop)\n",
    "        current_best_idx = np.argmax(fitness)\n",
    "        \n",
    "        if fitness[current_best_idx] > best_fit:\n",
    "            best_fit = fitness[current_best_idx]\n",
    "            best_sol = pop[current_best_idx].copy()\n",
    "            print(f\"迭代 {t+1}/{max_iter}, 最佳准确率更新: {best_fit:.4f}\")\n",
    "        else:\n",
    "            print(f\"迭代 {t+1}/{max_iter}, 最佳准确率: {best_fit:.4f}\")\n",
    "    \n",
    "    return best_sol, best_fit"
   ]
  },
  {
   "cell_type": "markdown",
   "id": "1a102678-07e2-469d-9ec9-d9e8ca85b71a",
   "metadata": {},
   "source": [
    "# 4. 运行优化并训练最终模型"
   ]
  },
  {
   "cell_type": "code",
   "execution_count": 48,
   "id": "fdda013f-3939-4290-af12-48381f4273d9",
   "metadata": {},
   "outputs": [
    {
     "name": "stdout",
     "output_type": "stream",
     "text": [
      "初始最佳准确率: 0.6928\n",
      "WARNING:tensorflow:5 out of the last 7398 calls to <function TensorFlowTrainer._make_function.<locals>.multi_step_on_iterator at 0x1675fddc0> triggered tf.function retracing. Tracing is expensive and the excessive number of tracings could be due to (1) creating @tf.function repeatedly in a loop, (2) passing tensors with different shapes, (3) passing Python objects instead of tensors. For (1), please define your @tf.function outside of the loop. For (2), @tf.function has reduce_retracing=True option that can avoid unnecessary retracing. For (3), please refer to https://www.tensorflow.org/guide/function#controlling_retracing and https://www.tensorflow.org/api_docs/python/tf/function for  more details.\n",
      "迭代 1/5, 最佳准确率: 0.6928\n",
      "WARNING:tensorflow:5 out of the last 1663 calls to <function TensorFlowTrainer._make_function.<locals>.multi_step_on_iterator at 0x4113d1700> triggered tf.function retracing. Tracing is expensive and the excessive number of tracings could be due to (1) creating @tf.function repeatedly in a loop, (2) passing tensors with different shapes, (3) passing Python objects instead of tensors. For (1), please define your @tf.function outside of the loop. For (2), @tf.function has reduce_retracing=True option that can avoid unnecessary retracing. For (3), please refer to https://www.tensorflow.org/guide/function#controlling_retracing and https://www.tensorflow.org/api_docs/python/tf/function for  more details.\n",
      "迭代 2/5, 最佳准确率: 0.6928\n",
      "迭代 3/5, 最佳准确率: 0.6928\n",
      "迭代 4/5, 最佳准确率更新: 0.7900\n",
      "迭代 5/5, 最佳准确率: 0.7900\n",
      "最佳参数：LSTM_num=228, dense_num=50, learning_rate=0.01\n",
      "最佳验证准确率：0.7899686694145203\n",
      "Epoch 1/100\n",
      "\u001b[1m30/30\u001b[0m \u001b[32m━━━━━━━━━━━━━━━━━━━━\u001b[0m\u001b[37m\u001b[0m \u001b[1m3s\u001b[0m 29ms/step - acc: 0.5058 - loss: 0.7456 - val_acc: 0.5486 - val_loss: 0.7082\n",
      "Epoch 2/100\n",
      "\u001b[1m30/30\u001b[0m \u001b[32m━━━━━━━━━━━━━━━━━━━━\u001b[0m\u001b[37m\u001b[0m \u001b[1m1s\u001b[0m 21ms/step - acc: 0.4991 - loss: 0.7058 - val_acc: 0.5423 - val_loss: 0.6918\n",
      "Epoch 3/100\n",
      "\u001b[1m30/30\u001b[0m \u001b[32m━━━━━━━━━━━━━━━━━━━━\u001b[0m\u001b[37m\u001b[0m \u001b[1m1s\u001b[0m 22ms/step - acc: 0.5147 - loss: 0.6927 - val_acc: 0.5423 - val_loss: 0.6904\n",
      "Epoch 4/100\n",
      "\u001b[1m30/30\u001b[0m \u001b[32m━━━━━━━━━━━━━━━━━━━━\u001b[0m\u001b[37m\u001b[0m \u001b[1m1s\u001b[0m 29ms/step - acc: 0.5442 - loss: 0.6903 - val_acc: 0.5423 - val_loss: 0.6901\n",
      "Epoch 5/100\n",
      "\u001b[1m30/30\u001b[0m \u001b[32m━━━━━━━━━━━━━━━━━━━━\u001b[0m\u001b[37m\u001b[0m \u001b[1m1s\u001b[0m 29ms/step - acc: 0.5248 - loss: 0.6920 - val_acc: 0.5423 - val_loss: 0.6900\n",
      "Epoch 6/100\n",
      "\u001b[1m30/30\u001b[0m \u001b[32m━━━━━━━━━━━━━━━━━━━━\u001b[0m\u001b[37m\u001b[0m \u001b[1m1s\u001b[0m 29ms/step - acc: 0.5470 - loss: 0.6897 - val_acc: 0.5423 - val_loss: 0.6900\n",
      "Epoch 7/100\n",
      "\u001b[1m30/30\u001b[0m \u001b[32m━━━━━━━━━━━━━━━━━━━━\u001b[0m\u001b[37m\u001b[0m \u001b[1m1s\u001b[0m 29ms/step - acc: 0.5219 - loss: 0.6924 - val_acc: 0.5423 - val_loss: 0.6898\n",
      "Epoch 8/100\n",
      "\u001b[1m30/30\u001b[0m \u001b[32m━━━━━━━━━━━━━━━━━━━━\u001b[0m\u001b[37m\u001b[0m \u001b[1m1s\u001b[0m 29ms/step - acc: 0.5317 - loss: 0.6912 - val_acc: 0.5423 - val_loss: 0.6900\n",
      "Epoch 9/100\n",
      "\u001b[1m30/30\u001b[0m \u001b[32m━━━━━━━━━━━━━━━━━━━━\u001b[0m\u001b[37m\u001b[0m \u001b[1m1s\u001b[0m 29ms/step - acc: 0.5414 - loss: 0.6901 - val_acc: 0.5423 - val_loss: 0.6897\n",
      "Epoch 10/100\n",
      "\u001b[1m30/30\u001b[0m \u001b[32m━━━━━━━━━━━━━━━━━━━━\u001b[0m\u001b[37m\u001b[0m \u001b[1m1s\u001b[0m 29ms/step - acc: 0.5473 - loss: 0.6891 - val_acc: 0.5423 - val_loss: 0.6900\n",
      "Epoch 11/100\n",
      "\u001b[1m30/30\u001b[0m \u001b[32m━━━━━━━━━━━━━━━━━━━━\u001b[0m\u001b[37m\u001b[0m \u001b[1m1s\u001b[0m 29ms/step - acc: 0.5312 - loss: 0.6914 - val_acc: 0.5423 - val_loss: 0.6899\n",
      "Epoch 12/100\n",
      "\u001b[1m30/30\u001b[0m \u001b[32m━━━━━━━━━━━━━━━━━━━━\u001b[0m\u001b[37m\u001b[0m \u001b[1m1s\u001b[0m 29ms/step - acc: 0.5196 - loss: 0.6927 - val_acc: 0.5423 - val_loss: 0.6903\n",
      "Epoch 13/100\n",
      "\u001b[1m30/30\u001b[0m \u001b[32m━━━━━━━━━━━━━━━━━━━━\u001b[0m\u001b[37m\u001b[0m \u001b[1m1s\u001b[0m 30ms/step - acc: 0.5422 - loss: 0.6907 - val_acc: 0.5423 - val_loss: 0.6901\n",
      "Epoch 14/100\n",
      "\u001b[1m30/30\u001b[0m \u001b[32m━━━━━━━━━━━━━━━━━━━━\u001b[0m\u001b[37m\u001b[0m \u001b[1m1s\u001b[0m 29ms/step - acc: 0.5456 - loss: 0.6897 - val_acc: 0.5423 - val_loss: 0.6897\n",
      "Epoch 15/100\n",
      "\u001b[1m30/30\u001b[0m \u001b[32m━━━━━━━━━━━━━━━━━━━━\u001b[0m\u001b[37m\u001b[0m \u001b[1m1s\u001b[0m 29ms/step - acc: 0.5381 - loss: 0.6904 - val_acc: 0.5423 - val_loss: 0.6898\n",
      "Epoch 16/100\n",
      "\u001b[1m30/30\u001b[0m \u001b[32m━━━━━━━━━━━━━━━━━━━━\u001b[0m\u001b[37m\u001b[0m \u001b[1m1s\u001b[0m 29ms/step - acc: 0.5284 - loss: 0.6918 - val_acc: 0.5423 - val_loss: 0.6899\n"
     ]
    },
    {
     "data": {
      "text/plain": [
       "<keras.src.callbacks.history.History at 0x59c677460>"
      ]
     },
     "execution_count": 48,
     "metadata": {},
     "output_type": "execute_result"
    }
   ],
   "source": [
    "# 超参数范围（LSTM_num, dense_num, learning_rate）\n",
    "lower_bounds = [64, 16, 1e-4]\n",
    "upper_bounds = [256, 64, 1e-2]\n",
    "pop_size = 30\n",
    "max_iter = 5\n",
    "\n",
    "# 注意：使用向量化版本的函数名\n",
    "best_params, best_fitness = sparrow_vectorized(\n",
    "    pop_size, max_iter, 3, lower_bounds, upper_bounds, \n",
    "    daily_back=daily_back,  # 需要传入这些参数\n",
    "    fif_train_prepared=fif_train_prepared,\n",
    "    daily_train_prepared=daily_train_prepared,\n",
    "    target_train_prepared=target_train_prepared,\n",
    "    batch_size=batch_size,\n",
    "    epochs=epochs,\n",
    "    early_stopping=early_stopping\n",
    ")\n",
    "\n",
    "print(f\"最佳参数：LSTM_num={int(best_params[0])}, dense_num={int(best_params[1])}, learning_rate={best_params[2]}\")\n",
    "print(f\"最佳验证准确率：{best_fitness}\")\n",
    "\n",
    "# 用最佳参数训练最终模型\n",
    "final_model = my_model(\n",
    "    daily_back=daily_back,\n",
    "    LSTM_num=int(best_params[0]),\n",
    "    dense_num=int(best_params[1]),\n",
    "    learning_rate=best_params[2]\n",
    ")\n",
    "final_model.fit(\n",
    "    x=[fif_train_prepared, daily_train_prepared],\n",
    "    y=target_train_prepared,\n",
    "    batch_size=batch_size,\n",
    "    validation_split=0.25,\n",
    "    epochs=epochs,\n",
    "    callbacks=[early_stopping]\n",
    ")"
   ]
  },
  {
   "cell_type": "markdown",
   "id": "4a065f8c",
   "metadata": {},
   "source": [
    "## 7.2 模型滞后时长赋值"
   ]
  },
  {
   "cell_type": "code",
   "execution_count": 49,
   "id": "993a90eb",
   "metadata": {},
   "outputs": [],
   "source": [
    "# model=my_model(daily_back=daily_back)\n"
   ]
  },
  {
   "cell_type": "markdown",
   "id": "e025ba5e-a33c-4474-9138-18ad1474565b",
   "metadata": {},
   "source": [
    "## 7.3 添加输出模型参数的代码块"
   ]
  },
  {
   "cell_type": "code",
   "execution_count": 50,
   "id": "f42bfef1-b9f0-4103-9a4d-c90f8bb13126",
   "metadata": {},
   "outputs": [
    {
     "data": {
      "image/png": "[encoded data removed]",
      "text/plain": [
       "<IPython.core.display.Image object>"
      ]
     },
     "execution_count": 50,
     "metadata": {},
     "output_type": "execute_result"
    }
   ],
   "source": [
    "plot_model(final_model, to_file='model_structure.png', show_shapes=True, show_layer_names=True)"
   ]
  },
  {
   "cell_type": "markdown",
   "id": "8620eccf",
   "metadata": {},
   "source": [
    "## 7.4 model.fit(输入训练数据x，标志y)"
   ]
  },
  {
   "cell_type": "code",
   "execution_count": 51,
   "id": "6ebf83ca",
   "metadata": {},
   "outputs": [
    {
     "name": "stdout",
     "output_type": "stream",
     "text": [
      "Epoch 1/100\n",
      "\u001b[1m30/30\u001b[0m \u001b[32m━━━━━━━━━━━━━━━━━━━━\u001b[0m\u001b[37m\u001b[0m \u001b[1m1s\u001b[0m 33ms/step - acc: 0.4653 - loss: 0.7112 - val_acc: 0.5423 - val_loss: 0.6859\n",
      "Epoch 2/100\n",
      "\u001b[1m30/30\u001b[0m \u001b[32m━━━━━━━━━━━━━━━━━━━━\u001b[0m\u001b[37m\u001b[0m \u001b[1m1s\u001b[0m 31ms/step - acc: 0.5417 - loss: 0.6986 - val_acc: 0.4828 - val_loss: 0.6948\n",
      "Epoch 3/100\n",
      "\u001b[1m30/30\u001b[0m \u001b[32m━━━━━━━━━━━━━━━━━━━━\u001b[0m\u001b[37m\u001b[0m \u001b[1m1s\u001b[0m 29ms/step - acc: 0.5345 - loss: 0.6921 - val_acc: 0.5423 - val_loss: 0.6854\n",
      "Epoch 4/100\n",
      "\u001b[1m30/30\u001b[0m \u001b[32m━━━━━━━━━━━━━━━━━━━━\u001b[0m\u001b[37m\u001b[0m \u001b[1m1s\u001b[0m 29ms/step - acc: 0.4764 - loss: 0.6984 - val_acc: 0.5423 - val_loss: 0.6904\n",
      "Epoch 5/100\n",
      "\u001b[1m30/30\u001b[0m \u001b[32m━━━━━━━━━━━━━━━━━━━━\u001b[0m\u001b[37m\u001b[0m \u001b[1m1s\u001b[0m 30ms/step - acc: 0.5188 - loss: 0.6923 - val_acc: 0.5423 - val_loss: 0.6896\n",
      "Epoch 6/100\n",
      "\u001b[1m30/30\u001b[0m \u001b[32m━━━━━━━━━━━━━━━━━━━━\u001b[0m\u001b[37m\u001b[0m \u001b[1m1s\u001b[0m 29ms/step - acc: 0.5381 - loss: 0.6903 - val_acc: 0.5423 - val_loss: 0.6898\n",
      "Epoch 7/100\n",
      "\u001b[1m30/30\u001b[0m \u001b[32m━━━━━━━━━━━━━━━━━━━━\u001b[0m\u001b[37m\u001b[0m \u001b[1m1s\u001b[0m 28ms/step - acc: 0.5086 - loss: 0.6943 - val_acc: 0.5423 - val_loss: 0.6899\n",
      "Epoch 8/100\n",
      "\u001b[1m30/30\u001b[0m \u001b[32m━━━━━━━━━━━━━━━━━━━━\u001b[0m\u001b[37m\u001b[0m \u001b[1m1s\u001b[0m 29ms/step - acc: 0.5452 - loss: 0.6897 - val_acc: 0.5423 - val_loss: 0.6900\n",
      "Epoch 9/100\n",
      "\u001b[1m30/30\u001b[0m \u001b[32m━━━━━━━━━━━━━━━━━━━━\u001b[0m\u001b[37m\u001b[0m \u001b[1m1s\u001b[0m 29ms/step - acc: 0.5002 - loss: 0.6948 - val_acc: 0.5423 - val_loss: 0.6899\n",
      "Epoch 10/100\n",
      "\u001b[1m30/30\u001b[0m \u001b[32m━━━━━━━━━━━━━━━━━━━━\u001b[0m\u001b[37m\u001b[0m \u001b[1m1s\u001b[0m 29ms/step - acc: 0.5157 - loss: 0.6931 - val_acc: 0.5423 - val_loss: 0.6897\n",
      "Epoch 11/100\n",
      "\u001b[1m30/30\u001b[0m \u001b[32m━━━━━━━━━━━━━━━━━━━━\u001b[0m\u001b[37m\u001b[0m \u001b[1m1s\u001b[0m 29ms/step - acc: 0.4978 - loss: 0.6957 - val_acc: 0.5423 - val_loss: 0.6901\n",
      "Epoch 12/100\n",
      "\u001b[1m30/30\u001b[0m \u001b[32m━━━━━━━━━━━━━━━━━━━━\u001b[0m\u001b[37m\u001b[0m \u001b[1m1s\u001b[0m 30ms/step - acc: 0.5515 - loss: 0.6892 - val_acc: 0.5423 - val_loss: 0.6897\n",
      "Epoch 13/100\n",
      "\u001b[1m30/30\u001b[0m \u001b[32m━━━━━━━━━━━━━━━━━━━━\u001b[0m\u001b[37m\u001b[0m \u001b[1m1s\u001b[0m 28ms/step - acc: 0.5586 - loss: 0.6875 - val_acc: 0.5423 - val_loss: 0.6898\n",
      "Epoch 14/100\n",
      "\u001b[1m30/30\u001b[0m \u001b[32m━━━━━━━━━━━━━━━━━━━━\u001b[0m\u001b[37m\u001b[0m \u001b[1m1s\u001b[0m 28ms/step - acc: 0.5496 - loss: 0.6890 - val_acc: 0.5423 - val_loss: 0.6899\n",
      "Epoch 15/100\n",
      "\u001b[1m30/30\u001b[0m \u001b[32m━━━━━━━━━━━━━━━━━━━━\u001b[0m\u001b[37m\u001b[0m \u001b[1m1s\u001b[0m 29ms/step - acc: 0.5159 - loss: 0.6931 - val_acc: 0.5423 - val_loss: 0.6902\n",
      "Epoch 16/100\n",
      "\u001b[1m30/30\u001b[0m \u001b[32m━━━━━━━━━━━━━━━━━━━━\u001b[0m\u001b[37m\u001b[0m \u001b[1m1s\u001b[0m 28ms/step - acc: 0.5182 - loss: 0.6928 - val_acc: 0.5423 - val_loss: 0.6900\n"
     ]
    }
   ],
   "source": [
    "history = final_model.fit(x=[fif_train_prepared,daily_train_prepared],y=target_train_prepared,\n",
    "                          batch_size=batch_size,validation_split=0.25,epochs=epochs,callbacks=[early_stopping])\n"
   ]
  },
  {
   "cell_type": "markdown",
   "id": "0cd0ae96",
   "metadata": {},
   "source": [
    "## 7.5 model.evaluate(输入测试数据)，进行模型预测性能测试"
   ]
  },
  {
   "cell_type": "code",
   "execution_count": 52,
   "id": "47bd90e9",
   "metadata": {},
   "outputs": [
    {
     "name": "stdout",
     "output_type": "stream",
     "text": [
      "\u001b[1m27/27\u001b[0m \u001b[32m━━━━━━━━━━━━━━━━━━━━\u001b[0m\u001b[37m\u001b[0m \u001b[1m0s\u001b[0m 5ms/step - acc: 0.5085 - loss: 0.7011\n",
      "0.7025852799415588 0.4976303279399872\n"
     ]
    }
   ],
   "source": [
    "loss,accuracy = final_model.evaluate([fif_test_prepared,daily_test_prepared],y=target_test_prepared)\n",
    "print(loss,accuracy)"
   ]
  },
  {
   "cell_type": "markdown",
   "id": "a62e60b0-7dc9-47e4-b131-df7a159dbf01",
   "metadata": {},
   "source": [
    "# 8. 回测"
   ]
  },
  {
   "cell_type": "markdown",
   "id": "d9607cca",
   "metadata": {},
   "source": [
    "# 构建y的函数"
   ]
  },
  {
   "cell_type": "code",
   "execution_count": 53,
   "id": "fc23d49f",
   "metadata": {},
   "outputs": [],
   "source": [
    "def gen_y_pred():\n",
    "    y_predict=final_model.predict([fif_test_prepared,daily_test_prepared],batch_size=1).reshape(test_num-daily_back).tolist() ###batch_size要设为1，不然evaluate和predict结果不同\n",
    "    y_pred=[]\n",
    "    for i,v in enumerate(y_predict):\n",
    "        if v>0.5:\n",
    "            y_pred.append(1)\n",
    "        if v<0.5:\n",
    "            y_pred.append(0)\n",
    "    return y_pred"
   ]
  },
  {
   "cell_type": "markdown",
   "id": "915e4535",
   "metadata": {},
   "source": [
    "# 制作y"
   ]
  },
  {
   "cell_type": "code",
   "execution_count": 54,
   "id": "191b4fa7",
   "metadata": {},
   "outputs": [
    {
     "name": "stdout",
     "output_type": "stream",
     "text": [
      "\u001b[1m844/844\u001b[0m \u001b[32m━━━━━━━━━━━━━━━━━━━━\u001b[0m\u001b[37m\u001b[0m \u001b[1m2s\u001b[0m 2ms/step\n",
      "[1, 1, 1, 1, 1, 1, 1, 1, 1, 1, 1, 1, 1, 1, 1, 1, 1, 1, 1, 1, 1, 1, 1, 1, 1, 1, 1, 1, 1, 1, 1, 1, 1, 1, 1, 1, 1, 1, 1, 1, 1, 1, 1, 1, 1, 1, 1, 1, 1, 1, 1, 1, 1, 1, 1, 1, 1, 1, 1, 1, 1, 1, 1, 1, 1, 1, 1, 1, 1, 1, 1, 1, 1, 1, 1, 1, 1, 1, 1, 1, 1, 1, 1, 1, 1, 1, 1, 1, 1, 1, 1, 1, 1, 1, 1, 1, 1, 1, 1, 1, 1, 1, 1, 1, 1, 1, 1, 1, 1, 1, 1, 1, 1, 1, 1, 1, 1, 1, 1, 1, 1, 1, 1, 1, 1, 1, 1, 1, 1, 1, 1, 1, 1, 1, 1, 1, 1, 1, 1, 1, 1, 1, 1, 1, 1, 1, 1, 1, 1, 1, 1, 1, 1, 1, 1, 1, 1, 1, 1, 1, 1, 1, 1, 1, 1, 1, 1, 1, 1, 1, 1, 1, 1, 1, 1, 1, 1, 1, 1, 1, 1, 1, 1, 1, 1, 1, 1, 1, 1, 1, 1, 1, 1, 1, 1, 1, 1, 1, 1, 1, 1, 1, 1, 1, 1, 1, 1, 1, 1, 1, 1, 1, 1, 1, 1, 1, 1, 1, 1, 1, 1, 1, 1, 1, 1, 1, 1, 1, 1, 1, 1, 1, 1, 1, 1, 1, 1, 1, 1, 1, 1, 1, 1, 1, 1, 1, 1, 1, 1, 1, 1, 1, 1, 1, 1, 1, 1, 1, 1, 1, 1, 1, 1, 1, 1, 1, 1, 1, 1, 1, 1, 1, 1, 1, 1, 1, 1, 1, 1, 1, 1, 1, 1, 1, 1, 1, 1, 1, 1, 1, 1, 1, 1, 1, 1, 1, 1, 1, 1, 1, 1, 1, 1, 1, 1, 1, 1, 1, 1, 1, 1, 1, 1, 1, 1, 1, 1, 1, 1, 1, 1, 1, 1, 1, 1, 1, 1, 1, 1, 1, 1, 1, 1, 1, 1, 1, 1, 1, 1, 1, 1, 1, 1, 1, 1, 1, 1, 1, 1, 1, 1, 1, 1, 1, 1, 1, 1, 1, 1, 1, 1, 1, 1, 1, 1, 1, 1, 1, 1, 1, 1, 1, 1, 1, 1, 1, 1, 1, 1, 1, 1, 1, 1, 1, 1, 1, 1, 1, 1, 1, 1, 1, 1, 1, 1, 1, 1, 1, 1, 1, 1, 1, 1, 1, 1, 1, 1, 1, 1, 1, 1, 1, 1, 1, 1, 1, 1, 1, 1, 1, 1, 1, 1, 1, 1, 1, 1, 1, 1, 1, 1, 1, 1, 1, 1, 1, 1, 1, 1, 1, 1, 1, 1, 1, 1, 1, 1, 1, 1, 1, 1, 1, 1, 1, 1, 1, 1, 1, 1, 1, 1, 1, 1, 1, 1, 1, 1, 1, 1, 1, 1, 1, 1, 1, 1, 1, 1, 1, 1, 1, 1, 1, 1, 1, 1, 1, 1, 1, 1, 1, 1, 1, 1, 1, 1, 1, 1, 1, 1, 1, 1, 1, 1, 1, 1, 1, 1, 1, 1, 1, 1, 1, 1, 1, 1, 1, 1, 1, 1, 1, 1, 1, 1, 1, 1, 1, 1, 1, 1, 1, 1, 1, 1, 1, 1, 1, 1, 1, 1, 1, 1, 1, 1, 1, 1, 1, 1, 1, 1, 1, 1, 1, 1, 1, 1, 1, 1, 1, 1, 1, 1, 1, 1, 1, 1, 1, 1, 1, 1, 1, 1, 1, 1, 1, 1, 1, 1, 1, 1, 1, 1, 1, 1, 1, 1, 1, 1, 1, 1, 1, 1, 1, 1, 1, 1, 1, 1, 1, 1, 1, 1, 1, 1, 1, 1, 1, 1, 1, 1, 1, 1, 1, 1, 1, 1, 1, 1, 1, 1, 1, 1, 1, 1, 1, 1, 1, 1, 1, 1, 1, 1, 1, 1, 1, 1, 1, 1, 1, 1, 1, 1, 1, 1, 1, 1, 1, 1, 1, 1, 1, 1, 1, 1, 1, 1, 1, 1, 1, 1, 1, 1, 1, 1, 1, 1, 1, 1, 1, 1, 1, 1, 1, 1, 1, 1, 1, 1, 1, 1, 1, 1, 1, 1, 1, 1, 1, 1, 1, 1, 1, 1, 1, 1, 1, 1, 1, 1, 1, 1, 1, 1, 1, 1, 1, 1, 1, 1, 1, 1, 1, 1, 1, 1, 1, 1, 1, 1, 1, 1, 1, 1, 1, 1, 1, 1, 1, 1, 1, 1, 1, 1, 1, 1, 1, 1, 1, 1, 1, 1, 1, 1, 1, 1, 1, 1, 1, 1, 1, 1, 1, 1, 1, 1, 1, 1, 1, 1, 1, 1, 1, 1, 1, 1, 1, 1, 1, 1, 1, 1, 1, 1, 1, 1, 1, 1, 1, 1, 1, 1, 1, 1, 1, 1, 1, 1, 1, 1, 1, 1, 1, 1, 1, 1, 1, 1, 1, 1, 1, 1, 1, 1, 1, 1, 1, 1, 1, 1, 1, 1, 1, 1, 1, 1, 1, 1, 1, 1, 1, 1, 1, 1, 1, 1, 1, 1, 1, 1, 1, 1, 1, 1, 1, 1, 1, 1, 1, 1, 1, 1, 1, 1, 1, 1, 1]\n"
     ]
    }
   ],
   "source": [
    "y_pred=gen_y_pred()\n",
    "print(y_pred)"
   ]
  },
  {
   "cell_type": "markdown",
   "id": "0e0f800a",
   "metadata": {},
   "source": [
    "#  构建使用测试集作为回测数据的类"
   ]
  },
  {
   "cell_type": "code",
   "execution_count": 55,
   "id": "31c753f6",
   "metadata": {},
   "outputs": [],
   "source": [
    "class Back_tes_trader:\n",
    "    def __init__(self,train_num,daily_back):\n",
    "        self.train_num=train_num\n",
    "        self.daily_back=daily_back\n",
    "    def daily_test_data(self,data):\n",
    "        while True:\n",
    "            samples = data.loc[\n",
    "                data.index >=self.train_num+self.daily_back ,\n",
    "                ['open','close']]\n",
    "            print(data.index)\n",
    "            return samples\n",
    "        \n"
   ]
  },
  {
   "cell_type": "markdown",
   "id": "3d8bb8f4",
   "metadata": {},
   "source": [
    "# 回测数据集代入参数，形成回撤数据back_tes_trader"
   ]
  },
  {
   "cell_type": "code",
   "execution_count": 56,
   "id": "9555c139",
   "metadata": {},
   "outputs": [],
   "source": [
    "back_tes_trader=Back_tes_trader(train_num=train_num,daily_back=daily_back)"
   ]
  },
  {
   "cell_type": "code",
   "execution_count": 57,
   "id": "9b72e4c5",
   "metadata": {},
   "outputs": [],
   "source": [
    "def split_back_trader(train_num=train_num):\n",
    "\n",
    "    daily_test_df=daily_df.loc[daily_df.index>=train_num]\n",
    "\n",
    "    return {'daily_test_df':daily_test_df}"
   ]
  },
  {
   "cell_type": "code",
   "execution_count": 58,
   "id": "0caaf456",
   "metadata": {},
   "outputs": [],
   "source": [
    "back_df=split_back_trader()['daily_test_df']"
   ]
  },
  {
   "cell_type": "code",
   "execution_count": 59,
   "id": "ff686572",
   "metadata": {},
   "outputs": [
    {
     "data": {
      "application/vnd.microsoft.datawrangler.viewer.v0+json": {
       "columns": [
        {
         "name": "index",
         "rawType": "int64",
         "type": "integer"
        },
        {
         "name": "trade_time",
         "rawType": "datetime64[ns]",
         "type": "datetime"
        },
        {
         "name": "open",
         "rawType": "float64",
         "type": "float"
        },
        {
         "name": "high",
         "rawType": "float64",
         "type": "float"
        },
        {
         "name": "low",
         "rawType": "float64",
         "type": "float"
        },
        {
         "name": "close",
         "rawType": "float64",
         "type": "float"
        },
        {
         "name": "volume_rate",
         "rawType": "int64",
         "type": "integer"
        },
        {
         "name": "search_index",
         "rawType": "int64",
         "type": "integer"
        },
        {
         "name": "sector_score",
         "rawType": "float64",
         "type": "float"
        }
       ],
       "ref": "60aeab6f-1a46-4593-a42d-b2a4bedf20b5",
       "rows": [
        [
         "1295",
         "2021-04-29 00:00:00",
         "3458.08",
         "3478.23",
         "3447.59",
         "3474.9",
         "276631387",
         "191388",
         "0.600995452538632"
        ],
        [
         "1296",
         "2021-04-30 00:00:00",
         "3468.3",
         "3469.09",
         "3426.9",
         "3446.86",
         "312660354",
         "187570",
         "0.588499840637449"
        ],
        [
         "1297",
         "2021-05-06 00:00:00",
         "3446.07",
         "3471.24",
         "3426.85",
         "3441.28",
         "310424192",
         "205453",
         "0.56231768115942"
        ],
        [
         "1298",
         "2021-05-07 00:00:00",
         "3446.41",
         "3457.89",
         "3416.78",
         "3418.87",
         "353785389",
         "205685",
         "0.460457247706422"
        ],
        [
         "1299",
         "2021-05-10 00:00:00",
         "3423.59",
         "3429.74",
         "3401.93",
         "3427.99",
         "374170884",
         "182035",
         "0.479976302729529"
        ],
        [
         "1300",
         "2021-05-11 00:00:00",
         "3406.6",
         "3448.1",
         "3384.7",
         "3441.85",
         "350934112",
         "187788",
         "0.548414416243655"
        ],
        [
         "1301",
         "2021-05-12 00:00:00",
         "3429.75",
         "3466.37",
         "3428.39",
         "3462.75",
         "311444547",
         "200607",
         "0.48962925"
        ],
        [
         "1302",
         "2021-05-13 00:00:00",
         "3432.14",
         "3448.02",
         "3418.38",
         "3429.54",
         "319325327",
         "184534",
         "0.480250550458716"
        ],
        [
         "1303",
         "2021-05-14 00:00:00",
         "3436.09",
         "3490.64",
         "3422.57",
         "3490.38",
         "336982309",
         "202348",
         "0.491532786885246"
        ],
        [
         "1304",
         "2021-05-17 00:00:00",
         "3490.41",
         "3530.51",
         "3490.14",
         "3517.62",
         "322135969",
         "209507",
         "0.458949375"
        ],
        [
         "1305",
         "2021-05-18 00:00:00",
         "3520.65",
         "3529.01",
         "3510.86",
         "3529.01",
         "271308558",
         "209976",
         "0.510986888888889"
        ],
        [
         "1306",
         "2021-05-19 00:00:00",
         "3521.11",
         "3521.11",
         "3503.82",
         "3510.96",
         "278321117",
         "182266",
         "0.492574107648725"
        ],
        [
         "1307",
         "2021-05-20 00:00:00",
         "3500.88",
         "3517.74",
         "3486.07",
         "3506.94",
         "326009333",
         "177623",
         "0.514188499999999"
        ],
        [
         "1308",
         "2021-05-21 00:00:00",
         "3510.84",
         "3518.38",
         "3479.67",
         "3486.56",
         "283826285",
         "173856",
         "0.555722981530343"
        ],
        [
         "1309",
         "2021-05-24 00:00:00",
         "3486.27",
         "3498.3",
         "3469.87",
         "3497.28",
         "289509242",
         "189884",
         "0.472252066326531"
        ],
        [
         "1310",
         "2021-05-25 00:00:00",
         "3502.54",
         "3584.58",
         "3502.44",
         "3581.34",
         "341241127",
         "209639",
         "0.511089034090909"
        ],
        [
         "1311",
         "2021-05-26 00:00:00",
         "3586.84",
         "3603.49",
         "3585.37",
         "3593.36",
         "341980288",
         "210905",
         "0.532865541237114"
        ],
        [
         "1312",
         "2021-05-27 00:00:00",
         "3585.73",
         "3626.36",
         "3579.26",
         "3608.85",
         "309551486",
         "196438",
         "0.560586933701658"
        ],
        [
         "1313",
         "2021-05-28 00:00:00",
         "3610.77",
         "3622.18",
         "3582.36",
         "3600.78",
         "349208830",
         "194001",
         "0.528799248704663"
        ],
        [
         "1314",
         "2021-05-31 00:00:00",
         "3600.07",
         "3615.66",
         "3580.65",
         "3615.48",
         "331523770",
         "195175",
         "0.545965248868778"
        ],
        [
         "1315",
         "2021-06-01 00:00:00",
         "3608.6",
         "3626.07",
         "3581.91",
         "3624.71",
         "352811413",
         "195534",
         "0.59653352303523"
        ],
        [
         "1316",
         "2021-06-02 00:00:00",
         "3626.33",
         "3629.29",
         "3584.6",
         "3597.14",
         "348558420",
         "187093",
         "0.568369349112426"
        ],
        [
         "1317",
         "2021-06-03 00:00:00",
         "3595.42",
         "3618.51",
         "3584.21",
         "3584.21",
         "354233031",
         "183382",
         "0.483102756756757"
        ],
        [
         "1318",
         "2021-06-04 00:00:00",
         "3565.47",
         "3618.8",
         "3561.89",
         "3591.84",
         "330893038",
         "180551",
         "0.598959392265193"
        ],
        [
         "1319",
         "2021-06-07 00:00:00",
         "3597.14",
         "3600.38",
         "3581.9",
         "3599.54",
         "303718677",
         "182974",
         "0.523339975308642"
        ],
        [
         "1320",
         "2021-06-08 00:00:00",
         "3598.75",
         "3621.52",
         "3563.25",
         "3580.11",
         "304491470",
         "187266",
         "0.509431297935104"
        ],
        [
         "1321",
         "2021-06-09 00:00:00",
         "3576.8",
         "3598.71",
         "3572.64",
         "3591.4",
         "298323296",
         "166855",
         "0.496663484419264"
        ],
        [
         "1322",
         "2021-06-10 00:00:00",
         "3587.53",
         "3624.34",
         "3584.13",
         "3610.86",
         "318174808",
         "165415",
         "0.604632277777778"
        ],
        [
         "1323",
         "2021-06-11 00:00:00",
         "3614.11",
         "3614.4",
         "3587.15",
         "3589.75",
         "360554970",
         "166450",
         "0.571537826086957"
        ],
        [
         "1324",
         "2021-06-15 00:00:00",
         "3587.47",
         "3592.95",
         "3547.19",
         "3556.56",
         "349168566",
         "189207",
         "0.532438322368421"
        ],
        [
         "1325",
         "2021-06-16 00:00:00",
         "3556.71",
         "3561.09",
         "3513.56",
         "3518.33",
         "312597306",
         "177883",
         "0.481293459459459"
        ],
        [
         "1326",
         "2021-06-17 00:00:00",
         "3508.32",
         "3534.2",
         "3507.35",
         "3525.6",
         "277229918",
         "172659",
         "0.533878344226579"
        ],
        [
         "1327",
         "2021-06-18 00:00:00",
         "3520.5",
         "3535.62",
         "3503.18",
         "3525.1",
         "296708585",
         "166353",
         "0.672138296836983"
        ],
        [
         "1328",
         "2021-06-21 00:00:00",
         "3515.5",
         "3540.3",
         "3504.01",
         "3529.18",
         "280898277",
         "183816",
         "0.523896503340757"
        ],
        [
         "1329",
         "2021-06-22 00:00:00",
         "3539.79",
         "3560.19",
         "3536.81",
         "3557.41",
         "307536399",
         "177147",
         "0.437866885644769"
        ],
        [
         "1330",
         "2021-06-23 00:00:00",
         "3559.4",
         "3577.47",
         "3549.85",
         "3566.22",
         "310709518",
         "163283",
         "0.492193535911602"
        ],
        [
         "1331",
         "2021-06-24 00:00:00",
         "3568.58",
         "3570.49",
         "3548.82",
         "3566.65",
         "335440754",
         "163797",
         "0.60453283887468"
        ],
        [
         "1332",
         "2021-06-25 00:00:00",
         "3567.38",
         "3614.3",
         "3564.52",
         "3607.56",
         "346087832",
         "158567",
         "0.584323349056604"
        ],
        [
         "1333",
         "2021-06-28 00:00:00",
         "3612.25",
         "3614.36",
         "3594.22",
         "3606.37",
         "321274974",
         "182326",
         "0.703871709601874"
        ],
        [
         "1334",
         "2021-06-29 00:00:00",
         "3601.68",
         "3601.83",
         "3570.53",
         "3573.18",
         "306071178",
         "184866",
         "0.63057716088328"
        ],
        [
         "1335",
         "2021-06-30 00:00:00",
         "3572.62",
         "3594.12",
         "3569.5",
         "3591.2",
         "268162818",
         "165147",
         "0.66792103626943"
        ],
        [
         "1336",
         "2021-07-01 00:00:00",
         "3600.55",
         "3607.7",
         "3573.94",
         "3588.78",
         "291883192",
         "184568",
         "0.761490510805501"
        ],
        [
         "1337",
         "2021-07-02 00:00:00",
         "3569.89",
         "3569.89",
         "3514.34",
         "3518.76",
         "291945548",
         "194310",
         "0.692760188679245"
        ],
        [
         "1338",
         "2021-07-20 00:00:00",
         "3515.07",
         "3538.64",
         "3509.19",
         "3536.79",
         "293780594",
         "192045",
         "-0.606135803570316"
        ],
        [
         "1339",
         "2021-07-21 00:00:00",
         "3543.05",
         "3569.09",
         "3543.05",
         "3562.66",
         "338978748",
         "162385",
         "-0.411618973682543"
        ],
        [
         "1340",
         "2021-07-22 00:00:00",
         "3563.66",
         "3576.47",
         "3558.29",
         "3574.73",
         "381067054",
         "167836",
         "-0.416968932589649"
        ],
        [
         "1341",
         "2021-07-23 00:00:00",
         "3571.72",
         "3571.85",
         "3541.51",
         "3550.4",
         "446421246",
         "170915",
         "-0.746472837094717"
        ],
        [
         "1342",
         "2021-07-26 00:00:00",
         "3538.01",
         "3538.01",
         "3424.74",
         "3467.44",
         "442882203",
         "248022",
         "-0.838311184228324"
        ],
        [
         "1343",
         "2021-07-27 00:00:00",
         "3467.45",
         "3483.87",
         "3380.28",
         "3381.18",
         "469075443",
         "270726",
         "-0.893536906112125"
        ],
        [
         "1344",
         "2021-07-28 00:00:00",
         "3355.82",
         "3385.54",
         "3312.72",
         "3361.59",
         "395825419",
         "284060",
         "-0.998635871661191"
        ]
       ],
       "shape": {
        "columns": 8,
        "rows": 864
       }
      },
      "text/html": [
       "<div>\n",
       "<style scoped>\n",
       "    .dataframe tbody tr th:only-of-type {\n",
       "        vertical-align: middle;\n",
       "    }\n",
       "\n",
       "    .dataframe tbody tr th {\n",
       "        vertical-align: top;\n",
       "    }\n",
       "\n",
       "    .dataframe thead th {\n",
       "        text-align: right;\n",
       "    }\n",
       "</style>\n",
       "<table border=\"1\" class=\"dataframe\">\n",
       "  <thead>\n",
       "    <tr style=\"text-align: right;\">\n",
       "      <th></th>\n",
       "      <th>trade_time</th>\n",
       "      <th>open</th>\n",
       "      <th>high</th>\n",
       "      <th>low</th>\n",
       "      <th>close</th>\n",
       "      <th>volume_rate</th>\n",
       "      <th>search_index</th>\n",
       "      <th>sector_score</th>\n",
       "    </tr>\n",
       "  </thead>\n",
       "  <tbody>\n",
       "    <tr>\n",
       "      <th>1295</th>\n",
       "      <td>2021-04-29</td>\n",
       "      <td>3458.08</td>\n",
       "      <td>3478.23</td>\n",
       "      <td>3447.59</td>\n",
       "      <td>3474.90</td>\n",
       "      <td>276631387</td>\n",
       "      <td>191388</td>\n",
       "      <td>0.600995</td>\n",
       "    </tr>\n",
       "    <tr>\n",
       "      <th>1296</th>\n",
       "      <td>2021-04-30</td>\n",
       "      <td>3468.30</td>\n",
       "      <td>3469.09</td>\n",
       "      <td>3426.90</td>\n",
       "      <td>3446.86</td>\n",
       "      <td>312660354</td>\n",
       "      <td>187570</td>\n",
       "      <td>0.588500</td>\n",
       "    </tr>\n",
       "    <tr>\n",
       "      <th>1297</th>\n",
       "      <td>2021-05-06</td>\n",
       "      <td>3446.07</td>\n",
       "      <td>3471.24</td>\n",
       "      <td>3426.85</td>\n",
       "      <td>3441.28</td>\n",
       "      <td>310424192</td>\n",
       "      <td>205453</td>\n",
       "      <td>0.562318</td>\n",
       "    </tr>\n",
       "    <tr>\n",
       "      <th>1298</th>\n",
       "      <td>2021-05-07</td>\n",
       "      <td>3446.41</td>\n",
       "      <td>3457.89</td>\n",
       "      <td>3416.78</td>\n",
       "      <td>3418.87</td>\n",
       "      <td>353785389</td>\n",
       "      <td>205685</td>\n",
       "      <td>0.460457</td>\n",
       "    </tr>\n",
       "    <tr>\n",
       "      <th>1299</th>\n",
       "      <td>2021-05-10</td>\n",
       "      <td>3423.59</td>\n",
       "      <td>3429.74</td>\n",
       "      <td>3401.93</td>\n",
       "      <td>3427.99</td>\n",
       "      <td>374170884</td>\n",
       "      <td>182035</td>\n",
       "      <td>0.479976</td>\n",
       "    </tr>\n",
       "    <tr>\n",
       "      <th>...</th>\n",
       "      <td>...</td>\n",
       "      <td>...</td>\n",
       "      <td>...</td>\n",
       "      <td>...</td>\n",
       "      <td>...</td>\n",
       "      <td>...</td>\n",
       "      <td>...</td>\n",
       "      <td>...</td>\n",
       "    </tr>\n",
       "    <tr>\n",
       "      <th>2154</th>\n",
       "      <td>2024-12-02</td>\n",
       "      <td>3328.48</td>\n",
       "      <td>3369.30</td>\n",
       "      <td>3323.01</td>\n",
       "      <td>3363.98</td>\n",
       "      <td>668477762</td>\n",
       "      <td>428407</td>\n",
       "      <td>-0.647137</td>\n",
       "    </tr>\n",
       "    <tr>\n",
       "      <th>2155</th>\n",
       "      <td>2024-12-03</td>\n",
       "      <td>3366.29</td>\n",
       "      <td>3386.62</td>\n",
       "      <td>3348.37</td>\n",
       "      <td>3378.81</td>\n",
       "      <td>663030139</td>\n",
       "      <td>438283</td>\n",
       "      <td>-0.861024</td>\n",
       "    </tr>\n",
       "    <tr>\n",
       "      <th>2156</th>\n",
       "      <td>2024-12-04</td>\n",
       "      <td>3376.57</td>\n",
       "      <td>3388.02</td>\n",
       "      <td>3352.94</td>\n",
       "      <td>3364.65</td>\n",
       "      <td>621028862</td>\n",
       "      <td>425902</td>\n",
       "      <td>-0.984183</td>\n",
       "    </tr>\n",
       "    <tr>\n",
       "      <th>2157</th>\n",
       "      <td>2024-12-05</td>\n",
       "      <td>3353.06</td>\n",
       "      <td>3377.06</td>\n",
       "      <td>3353.06</td>\n",
       "      <td>3368.86</td>\n",
       "      <td>543885746</td>\n",
       "      <td>397751</td>\n",
       "      <td>-0.812990</td>\n",
       "    </tr>\n",
       "    <tr>\n",
       "      <th>2158</th>\n",
       "      <td>2024-12-06</td>\n",
       "      <td>3370.94</td>\n",
       "      <td>3418.26</td>\n",
       "      <td>3364.21</td>\n",
       "      <td>3404.08</td>\n",
       "      <td>698186572</td>\n",
       "      <td>409646</td>\n",
       "      <td>-0.713002</td>\n",
       "    </tr>\n",
       "  </tbody>\n",
       "</table>\n",
       "<p>864 rows × 8 columns</p>\n",
       "</div>"
      ],
      "text/plain": [
       "     trade_time     open     high      low    close  volume_rate  \\\n",
       "1295 2021-04-29  3458.08  3478.23  3447.59  3474.90    276631387   \n",
       "1296 2021-04-30  3468.30  3469.09  3426.90  3446.86    312660354   \n",
       "1297 2021-05-06  3446.07  3471.24  3426.85  3441.28    310424192   \n",
       "1298 2021-05-07  3446.41  3457.89  3416.78  3418.87    353785389   \n",
       "1299 2021-05-10  3423.59  3429.74  3401.93  3427.99    374170884   \n",
       "...         ...      ...      ...      ...      ...          ...   \n",
       "2154 2024-12-02  3328.48  3369.30  3323.01  3363.98    668477762   \n",
       "2155 2024-12-03  3366.29  3386.62  3348.37  3378.81    663030139   \n",
       "2156 2024-12-04  3376.57  3388.02  3352.94  3364.65    621028862   \n",
       "2157 2024-12-05  3353.06  3377.06  3353.06  3368.86    543885746   \n",
       "2158 2024-12-06  3370.94  3418.26  3364.21  3404.08    698186572   \n",
       "\n",
       "      search_index  sector_score  \n",
       "1295        191388      0.600995  \n",
       "1296        187570      0.588500  \n",
       "1297        205453      0.562318  \n",
       "1298        205685      0.460457  \n",
       "1299        182035      0.479976  \n",
       "...            ...           ...  \n",
       "2154        428407     -0.647137  \n",
       "2155        438283     -0.861024  \n",
       "2156        425902     -0.984183  \n",
       "2157        397751     -0.812990  \n",
       "2158        409646     -0.713002  \n",
       "\n",
       "[864 rows x 8 columns]"
      ]
     },
     "execution_count": 59,
     "metadata": {},
     "output_type": "execute_result"
    }
   ],
   "source": [
    "back_df"
   ]
  },
  {
   "cell_type": "code",
   "execution_count": 60,
   "id": "ecd75b7e",
   "metadata": {},
   "outputs": [
    {
     "name": "stdout",
     "output_type": "stream",
     "text": [
      "Index([1295, 1296, 1297, 1298, 1299, 1300, 1301, 1302, 1303, 1304,\n",
      "       ...\n",
      "       2149, 2150, 2151, 2152, 2153, 2154, 2155, 2156, 2157, 2158],\n",
      "      dtype='int64', length=864)\n"
     ]
    }
   ],
   "source": [
    "backtrader_df=back_tes_trader.daily_test_data(back_df)"
   ]
  },
  {
   "cell_type": "markdown",
   "id": "ba8c3651",
   "metadata": {},
   "source": [
    "# 形成day_rate_of_return日内收益率，和rate_of_return隔夜收益率"
   ]
  },
  {
   "cell_type": "code",
   "execution_count": 61,
   "id": "d84028e8",
   "metadata": {},
   "outputs": [
    {
     "name": "stdout",
     "output_type": "stream",
     "text": [
      "843\n",
      "         open    close  rate_of_return  day_rate_of_return\n",
      "1316  3626.33  3597.14       -0.007606           -0.008049\n",
      "1317  3595.42  3584.21       -0.003595           -0.003118\n",
      "1318  3565.47  3591.84        0.002129            0.007396\n",
      "1319  3597.14  3599.54        0.002144            0.000667\n",
      "1320  3598.75  3580.11       -0.005398           -0.005180\n",
      "...       ...      ...             ...                 ...\n",
      "2154  3328.48  3363.98        0.011279            0.010666\n",
      "2155  3366.29  3378.81        0.004408            0.003719\n",
      "2156  3376.57  3364.65       -0.004191           -0.003530\n",
      "2157  3353.06  3368.86        0.001251            0.004712\n",
      "2158  3370.94  3404.08        0.010455            0.009831\n",
      "\n",
      "[843 rows x 4 columns]\n",
      "         open    close  rate_of_return  day_rate_of_return  last_close  \\\n",
      "1315  3608.60  3624.71             NaN            0.004464         NaN   \n",
      "1316  3626.33  3597.14       -0.007606           -0.008049     3624.71   \n",
      "1317  3595.42  3584.21       -0.003595           -0.003118     3597.14   \n",
      "1318  3565.47  3591.84        0.002129            0.007396     3584.21   \n",
      "1319  3597.14  3599.54        0.002144            0.000667     3591.84   \n",
      "...       ...      ...             ...                 ...         ...   \n",
      "2154  3328.48  3363.98        0.011279            0.010666     3326.46   \n",
      "2155  3366.29  3378.81        0.004408            0.003719     3363.98   \n",
      "2156  3376.57  3364.65       -0.004191           -0.003530     3378.81   \n",
      "2157  3353.06  3368.86        0.001251            0.004712     3364.65   \n",
      "2158  3370.94  3404.08        0.010455            0.009831     3368.86   \n",
      "\n",
      "      sale_rate_of_return  \n",
      "1315                  NaN  \n",
      "1316             0.000447  \n",
      "1317            -0.000478  \n",
      "1318            -0.005228  \n",
      "1319             0.001476  \n",
      "...                   ...  \n",
      "2154             0.000607  \n",
      "2155             0.000687  \n",
      "2156            -0.000663  \n",
      "2157            -0.003445  \n",
      "2158             0.000617  \n",
      "\n",
      "[844 rows x 6 columns]\n",
      "(844, 6)\n"
     ]
    }
   ],
   "source": [
    "backtrader_df['rate_of_return'] = backtrader_df['close'].rolling(2).apply(lambda x: x[1] / x[0] - 1, raw=True)\n",
    "backtrader_df['day_rate_of_return']=backtrader_df['close']/backtrader_df['open']-1\n",
    "\n",
    "clo_1=backtrader_df.loc[(backtrader_df.index<total_day-1),\"close\"].tolist()\n",
    "\n",
    "print(len(clo_1))\n",
    "print(backtrader_df.loc[(backtrader_df.index>=train_num+daily_back+1),:])\n",
    "backtrader_df.loc[(backtrader_df.index>=train_num+daily_back+1),'last_close']=clo_1\n",
    "backtrader_df['sale_rate_of_return']=backtrader_df['open']/backtrader_df['last_close']-1\n",
    "\n",
    "\n",
    "print(backtrader_df)\n",
    "print(backtrader_df.shape)\n",
    "trade_day_return_list=[]\n",
    "return_list=[]\n",
    "every_day_return_list=[]"
   ]
  },
  {
   "cell_type": "markdown",
   "id": "94506474",
   "metadata": {},
   "source": [
    "# 回测交易逻辑"
   ]
  },
  {
   "cell_type": "code",
   "execution_count": 62,
   "id": "4a2a5071",
   "metadata": {},
   "outputs": [],
   "source": [
    "def backtrader(list,df):\n",
    "    a=0\n",
    "\n",
    "    rate_of_return = 1\n",
    "    for i,v in enumerate(list):\n",
    "        if (v ==1)&(a==0):\n",
    "            b=(1 + df.loc[train_num+daily_back + i, 'day_rate_of_return'])\n",
    "            rate_of_return= rate_of_return * b\n",
    "            a=1\n",
    "            trade_day_return_list.append(b-1)\n",
    "            return_list.append(rate_of_return)\n",
    "            every_day_return_list.append(b - 1)\n",
    "\n",
    "        elif (v ==1)&(a==1):\n",
    "            b=(1 + df.loc[train_num+daily_back + i, 'rate_of_return'])\n",
    "            rate_of_return= rate_of_return *b\n",
    "            a=a\n",
    "            trade_day_return_list.append(b-1)\n",
    "            return_list.append(rate_of_return)\n",
    "            every_day_return_list.append(b - 1)\n",
    "        elif (v==0)&(a==0):\n",
    "            rate_of_return=rate_of_return\n",
    "            a=a\n",
    "            every_day_return_list.append(0)\n",
    "\n",
    "        elif (v==0)&(a==1):\n",
    "            a=0\n",
    "            b = (1 + df.loc[train_num+daily_back + i, 'sale_rate_of_return'])\n",
    "            rate_of_return=rate_of_return*b\n",
    "            trade_day_return_list.append(b-1)\n",
    "            every_day_return_list.append(b - 1)\n",
    "            return_list.append(rate_of_return)\n",
    "    return a,trade_day_return_list,rate_of_return,return_list,every_day_return_list"
   ]
  },
  {
   "cell_type": "code",
   "execution_count": null,
   "id": "80a6e92b",
   "metadata": {},
   "outputs": [],
   "source": []
  },
  {
   "cell_type": "code",
   "execution_count": 63,
   "id": "4eda96a9",
   "metadata": {},
   "outputs": [
    {
     "name": "stdout",
     "output_type": "stream",
     "text": [
      "夏普比率： -0.024279646267963115\n",
      "收益率： -0.05667571911544189\n"
     ]
    }
   ],
   "source": [
    "result=backtrader(y_pred,backtrader_df)\n",
    "# print(result[1])\n",
    "# print(result[2])\n",
    "# print(result[3])\n",
    "pingjun_nian_jiaoyi_ri=240*len(result[1])/(len(y_pred))\n",
    "sharp=(np.mean(result[1]))/(np.std(result[1],ddof=1))*np.sqrt(pingjun_nian_jiaoyi_ri)\n",
    "# sharp1=(np.mean(result[4]))/(np.std(result[4]))\n",
    "# print('夏普比率--：',sharp1)\n",
    "print('夏普比率：',sharp)\n",
    "print('收益率：',result[2]-1)\n"
   ]
  },
  {
   "cell_type": "code",
   "execution_count": null,
   "id": "3f2ded5b",
   "metadata": {},
   "outputs": [],
   "source": []
  },
  {
   "cell_type": "code",
   "execution_count": 64,
   "id": "e894d8b3",
   "metadata": {},
   "outputs": [],
   "source": [
    "returns=result[3]\n",
    "returns = [ret - 1 for ret in returns]\n",
    "# returns"
   ]
  },
  {
   "cell_type": "code",
   "execution_count": 65,
   "id": "c359f589",
   "metadata": {},
   "outputs": [
    {
     "name": "stdout",
     "output_type": "stream",
     "text": [
      "最大回撤: -100.45%\n"
     ]
    }
   ],
   "source": [
    "returns=result[3]\n",
    "returns = [ret - 1 for ret in returns]\n",
    "\n",
    "# 将收益率列表转换为pandas的Series对象，方便处理\n",
    "returns_series = pd.Series(returns)\n",
    "\n",
    "# 计算累计收益率\n",
    "cumulative_returns = (1 + returns_series).cumprod() - 1\n",
    "\n",
    "# 计算滚动最大值\n",
    "rolling_max = cumulative_returns.cummax()\n",
    "\n",
    "# 计算回撤\n",
    "drawdown = cumulative_returns - rolling_max\n",
    "\n",
    "# 计算最大回撤\n",
    "max_drawdown = drawdown.min()\n",
    "\n",
    "# 打印最大回撤\n",
    "print(\"最大回撤: {:.2%}\".format(max_drawdown))\n"
   ]
  },
  {
   "cell_type": "code",
   "execution_count": null,
   "id": "d346e244",
   "metadata": {},
   "outputs": [],
   "source": []
  },
  {
   "cell_type": "code",
   "execution_count": 66,
   "id": "eb03bdd8",
   "metadata": {},
   "outputs": [
    {
     "data": {
      "image/png": "[encoded data removed]",
      "text/plain": [
       "<Figure size 640x480 with 1 Axes>"
      ]
     },
     "metadata": {},
     "output_type": "display_data"
    },
    {
     "data": {
      "image/png": "[encoded data removed]",
      "text/plain": [
       "<Figure size 640x480 with 1 Axes>"
      ]
     },
     "metadata": {},
     "output_type": "display_data"
    }
   ],
   "source": [
    "def paint():\n",
    "    acc=history.history['acc']\n",
    "    val_acc=history.history['val_acc']\n",
    "    loss=history.history['loss']\n",
    "    val_loss=history.history['val_loss']\n",
    "\n",
    "    epochs=range(len(acc))\n",
    "    plt.plot(epochs,acc,'bo',label='Training acc')\n",
    "    plt.plot(epochs,val_acc,'b',label='Validation acc')\n",
    "    plt.title('Training and validation accuracy')\n",
    "    plt.legend()\n",
    "\n",
    "    plt.figure()\n",
    "\n",
    "    plt.plot(epochs,loss,'bo',label='Training loss')\n",
    "    plt.plot(epochs,val_loss,'b',label='Validation loss')\n",
    "    plt.title('Training and validation loss')\n",
    "    plt.legend()\n",
    "    return plt\n",
    "my_paint=paint()\n",
    "my_paint.show()"
   ]
  },
  {
   "cell_type": "markdown",
   "id": "ff449cf1",
   "metadata": {},
   "source": [
    "# 混淆矩阵绘制"
   ]
  },
  {
   "cell_type": "code",
   "execution_count": 67,
   "id": "6a2eaf54",
   "metadata": {},
   "outputs": [
    {
     "name": "stdout",
     "output_type": "stream",
     "text": [
      "混淆矩阵： [[420   0]\n",
      " [424   0]]\n",
      "查准率： 0.4976303317535545\n",
      "查全率： 1.0\n",
      "f1-score: 0.6645569620253164\n"
     ]
    }
   ],
   "source": [
    "confusion_matrix = confusion_matrix(target_test_prepared, y_pred,labels=[1,0])\n",
    "precision_score=precision_score(target_test_prepared, y_pred)\n",
    "recall_score=recall_score(target_test_prepared, y_pred)\n",
    "f1_score=f1_score(target_test_prepared, y_pred)\n",
    "\n",
    "print('混淆矩阵：',confusion_matrix)\n",
    "print('查准率：',precision_score)\n",
    "print('查全率：',recall_score)\n",
    "print('f1-score:',f1_score)"
   ]
  },
  {
   "cell_type": "code",
   "execution_count": 68,
   "id": "52941452",
   "metadata": {},
   "outputs": [
    {
     "name": "stdout",
     "output_type": "stream",
     "text": [
      "\u001b[1m27/27\u001b[0m \u001b[32m━━━━━━━━━━━━━━━━━━━━\u001b[0m\u001b[37m\u001b[0m \u001b[1m0s\u001b[0m 5ms/step\n"
     ]
    },
    {
     "data": {
      "image/png": "[encoded data removed]",
      "text/plain": [
       "<Figure size 640x480 with 1 Axes>"
      ]
     },
     "metadata": {},
     "output_type": "display_data"
    }
   ],
   "source": [
    "y_predict=final_model.predict([fif_test_prepared,daily_test_prepared]).reshape(test_num-daily_back).tolist()\n",
    "fpr,tpr,threshold = roc_curve(target_test_prepared, y_predict) ###计算真正率和假正率\n",
    "# print(fpr,tpr,threshold)\n",
    "roc_auc = auc(fpr,tpr)\n",
    "\n",
    "\n",
    "lw = 2\n",
    "plt.figure()\n",
    "plt.plot(fpr, tpr, color='darkorange',\n",
    "         lw=lw, label='ROC curve (area = %0.2f)' % roc_auc) ###假正率为横坐标，真正率为纵坐标做曲线\n",
    "plt.plot([0, 1], [0, 1], color='navy', lw=lw, linestyle='--')\n",
    "plt.xlim([0.0, 1.0])\n",
    "plt.ylim([0.0, 1.05])\n",
    "plt.xlabel('False Positive Rate')\n",
    "plt.ylabel('True Positive Rate')\n",
    "plt.title('Receiver operating characteristic example')\n",
    "plt.legend(loc=\"lower right\")\n",
    "plt.show()"
   ]
  },
  {
   "cell_type": "markdown",
   "id": "302466a8",
   "metadata": {},
   "source": [
    "# 保存"
   ]
  }
 ],
 "metadata": {
  "kernelspec": {
   "display_name": "tf_env",
   "language": "python",
   "name": "tf_env"
  },
  "language_info": {
   "codemirror_mode": {
    "name": "ipython",
    "version": 3
   },
   "file_extension": ".py",
   "mimetype": "text/x-python",
   "name": "python",
   "nbconvert_exporter": "python",
   "pygments_lexer": "ipython3",
   "version": "3.9.21"
  }
 },
 "nbformat": 4,
 "nbformat_minor": 5
}
