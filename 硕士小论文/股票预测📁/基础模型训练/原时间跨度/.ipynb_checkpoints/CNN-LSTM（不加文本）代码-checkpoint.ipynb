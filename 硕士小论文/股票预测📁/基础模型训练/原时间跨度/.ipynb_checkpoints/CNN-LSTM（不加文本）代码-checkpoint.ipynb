{
 "cells": [
  {
   "cell_type": "markdown",
   "id": "49f433dd-af84-4c82-b8e3-1d4950fbdf36",
   "metadata": {},
   "source": [
    "# 1. 导入python库"
   ]
  },
  {
   "cell_type": "code",
   "execution_count": 1,
   "id": "3f02e0e4-772a-47f3-bbd7-68372bf70654",
   "metadata": {},
   "outputs": [],
   "source": [
    "import pandas as pd\n",
    "import numpy as np\n",
    "import os\n",
    "\n",
    "%matplotlib inline\n",
    "from matplotlib import pyplot as plt\n",
    "\n",
    "from tensorflow.keras.models import Sequential\n",
    "from tensorflow.keras.models import Model\n",
    "from tensorflow.keras import layers\n",
    "from tensorflow.keras import Input\n",
    "from tensorflow.keras.optimizers import Adam\n",
    "\n",
    "from tensorflow.keras.layers import Conv1D, LSTM, Dense, Dropout\n",
    "\n",
    "from tensorflow.keras.utils import plot_model\n",
    "\n",
    "from sklearn.metrics import confusion_matrix, roc_curve, auc, recall_score, precision_score, f1_score\n"
   ]
  },
  {
   "cell_type": "markdown",
   "id": "fa353efb",
   "metadata": {},
   "source": [
    "# 2. 参数设置"
   ]
  },
  {
   "cell_type": "code",
   "execution_count": 2,
   "id": "ccfe2d2a",
   "metadata": {
    "scrolled": true
   },
   "outputs": [],
   "source": [
    "daily_back=20\n",
    "wenben_back=10\n",
    "\n",
    "wenben_sort=2\n",
    "\n",
    "batch_size=8\n",
    "epochs=100\n",
    "\n",
    "LSTM_num=100\n",
    "dense_num=20\n",
    "\n",
    "\n",
    "mix_file='daily_data.xlsx'\n",
    "first_columns='search_index'\n",
    "\n",
    "\n",
    "total_day=2159 #根据查看数据表，得到数值\n",
    "train_num=1727\n",
    "test_num=total_day-train_num"
   ]
  },
  {
   "cell_type": "markdown",
   "id": "1006d29e",
   "metadata": {},
   "source": []
  },
  {
   "cell_type": "markdown",
   "id": "08c9b0fa",
   "metadata": {},
   "source": [
    "# 3. 读取原始数据"
   ]
  },
  {
   "cell_type": "code",
   "execution_count": 3,
   "id": "c5a53a33",
   "metadata": {},
   "outputs": [],
   "source": [
    "new_dir='/Users/ccmac/Desktop/完成SCI数据'\n",
    "\n",
    "\n",
    "daily_df=pd.read_excel(os.path.join(new_dir,mix_file))\n",
    "fif_df=pd.read_excel(os.path.join(new_dir,'fif_data.xlsx'))\n",
    "target_df=pd.read_excel(os.path.join(new_dir,'target.xlsx'))\n",
    "wenben_df=pd.read_excel(os.path.join(new_dir,mix_file))"
   ]
  },
  {
   "cell_type": "markdown",
   "id": "62075d36-f9cf-4309-a201-1ef014f56cb4",
   "metadata": {},
   "source": [
    "# 4. 标准化"
   ]
  },
  {
   "cell_type": "markdown",
   "id": "a093f0e5",
   "metadata": {},
   "source": [
    "## 4.1 历史数据标准化函数norm"
   ]
  },
  {
   "cell_type": "code",
   "execution_count": 4,
   "id": "6f00c73f",
   "metadata": {},
   "outputs": [],
   "source": [
    "def norm(df):\n",
    "    x=df.copy()\n",
    "    open_mean_value = df['open'].mean(axis=0)\n",
    "    high_mean_value = df['high'].mean(axis=0)\n",
    "    low_mean_value = df['low'].mean()\n",
    "    close_mean_value = df['close'].mean()\n",
    "    volumerate_mean_value = df['volume_rate'].mean()\n",
    "\n",
    "    open_std_value = df['open'].std()\n",
    "    high_std_value = df['high'].std()\n",
    "    low_std_value = df['low'].std()\n",
    "    close_std_value = df['close'].std()\n",
    "    volumerate_std_value = df['volume_rate'].std()\n",
    "\n",
    "    x['open']=(df['open']-open_mean_value)/open_std_value\n",
    "    x['high'] = (df['high'] - high_mean_value) / high_std_value\n",
    "    x['low'] =  (df['low'] - low_mean_value) / low_std_value\n",
    "    x['close'] =  (df['close'] - close_mean_value) / close_std_value\n",
    "    x['volume_rate'] = (df['volume_rate'] - volumerate_mean_value) / volumerate_std_value\n",
    "    df=x\n",
    "    return df"
   ]
  },
  {
   "cell_type": "markdown",
   "id": "07a46668",
   "metadata": {},
   "source": [
    "## 4.2 文本数据标准化函数wenben_norm"
   ]
  },
  {
   "cell_type": "code",
   "execution_count": 5,
   "id": "78f471cd",
   "metadata": {},
   "outputs": [],
   "source": [
    "def wenben_norm(df):\n",
    "    x=df.copy()\n",
    "    sector_score_mean_value = df['sector_score'].mean(axis=0)\n",
    "    search_index_mean_value = df['search_index'].mean(axis=0)\n",
    "\n",
    "    sector_score_std_value = df['sector_score'].std()\n",
    "    search_index_std_value = df['search_index'].std()\n",
    "\n",
    "    x['sector_score']=(df['sector_score']-sector_score_mean_value)/sector_score_std_value\n",
    "    x['search_index'] = (df['search_index'] - search_index_mean_value) / search_index_std_value\n",
    "    \n",
    "    df=x\n",
    "    \n",
    "    return df"
   ]
  },
  {
   "cell_type": "markdown",
   "id": "9a82c845-6afe-43a1-820a-ae8b4e8fb2ab",
   "metadata": {},
   "source": [
    "# 5. 数据切分训练集与测试集"
   ]
  },
  {
   "cell_type": "markdown",
   "id": "3b6911e7",
   "metadata": {},
   "source": [
    "## 5.1 数据切分函数"
   ]
  },
  {
   "cell_type": "code",
   "execution_count": 6,
   "id": "07835973",
   "metadata": {},
   "outputs": [],
   "source": [
    "def split_data(train_num=train_num,wenben_back=wenben_back):\n",
    "    daily_train_df=daily_df.loc[daily_df.index<train_num]\n",
    "    daily_test_df=daily_df.loc[daily_df.index>=train_num]\n",
    "    fif_train_df=fif_df.loc[fif_df.index<16*train_num]\n",
    "    fif_test_df=fif_df.loc[fif_df.index>=16*train_num]\n",
    "    wenben_train_df=wenben_df.loc[wenben_df.index<train_num]\n",
    "    wenben_test_df=wenben_df.loc[wenben_df.index>=train_num]\n",
    "\n",
    "    target_train_df=target_df.loc[target_df.index<train_num]\n",
    "    target_test_df=target_df.loc[target_df.index>=train_num]\n",
    "\n",
    "    daily_train_df=norm(daily_train_df)\n",
    "    daily_test_df=norm(daily_test_df)\n",
    "    fif_train_df=norm(fif_train_df)\n",
    "    fif_test_df=norm(fif_test_df)\n",
    "    wenben_train_df=wenben_norm(wenben_train_df)\n",
    "    wenben_test_df = wenben_norm(wenben_test_df)\n",
    "\n",
    "\n",
    "    return {'daily_train_df':daily_train_df,\n",
    "            'daily_test_df':daily_test_df,\n",
    "            'fif_train_df':fif_train_df,\n",
    "            'fif_test_df':fif_test_df,\n",
    "            'target_train_df':target_train_df,\n",
    "            'target_test_df':target_test_df,\n",
    "            'wenben_train_df':wenben_train_df,\n",
    "            'wenben_test_df': wenben_test_df\n",
    "            }"
   ]
  },
  {
   "cell_type": "markdown",
   "id": "557c115f",
   "metadata": {},
   "source": [
    "## 5.2 进行数据切分"
   ]
  },
  {
   "cell_type": "code",
   "execution_count": 7,
   "id": "b87cec91",
   "metadata": {},
   "outputs": [
    {
     "name": "stdout",
     "output_type": "stream",
     "text": [
      "日频训练切分： (1727, 8)\n",
      "日频测试切分： (432, 8)\n",
      "十五分钟频训练切分： (27632, 6)\n",
      "十五分钟频测试切分： (7088, 6)\n",
      "训练目标切分： (1727, 2)\n",
      "测试目标切分： (443, 2)\n"
     ]
    }
   ],
   "source": [
    "daily_train_df=split_data()['daily_train_df']\n",
    "print('日频训练切分：',daily_train_df.shape)\n",
    "daily_test_df=split_data()['daily_test_df']\n",
    "print('日频测试切分：',daily_test_df.shape)\n",
    "fif_train_df=split_data()['fif_train_df']\n",
    "print('十五分钟频训练切分：',fif_train_df.shape)\n",
    "fif_test_df=split_data()['fif_test_df']\n",
    "print('十五分钟频测试切分：',fif_test_df.shape)\n",
    "target_train_df=split_data()['target_train_df']\n",
    "print('训练目标切分：',target_train_df.shape)\n",
    "target_test_df=split_data()['target_test_df']\n",
    "print('测试目标切分：',target_test_df.shape)\n",
    "wenben_norm_train_df=split_data()['wenben_train_df']\n",
    "wenben_norm_test_df=split_data()['wenben_test_df']"
   ]
  },
  {
   "cell_type": "markdown",
   "id": "a225c99c-5d81-4930-8aa6-eda77400170e",
   "metadata": {},
   "source": [
    "# 6. 数据转化为神经网络输入格式"
   ]
  },
  {
   "cell_type": "markdown",
   "id": "3ffb3f1f-314a-4710-b96a-62d39be82ec6",
   "metadata": {},
   "source": [
    "## 6.1 建立转化类（返回多个字典）"
   ]
  },
  {
   "cell_type": "code",
   "execution_count": 8,
   "id": "de355a30-733f-4c79-978d-600334ad64dc",
   "metadata": {},
   "outputs": [],
   "source": [
    "class Data_maker:\n",
    "    def __init__(self,train_num,test_num,fif_back,daily_back,wenben_back):\n",
    "        self.train_num=train_num\n",
    "        self.test_num=test_num\n",
    "        self.fif_back=fif_back\n",
    "        self.daily_back=daily_back\n",
    "        self.wenben_back = wenben_back\n",
    "\n",
    "\n",
    "    def daily_train_data(self,data):\n",
    "        while True:\n",
    "            rows = list(range(self.train_num - self.daily_back)) #总共1650个数据，由于扣除前面20个数据，所以为1630\n",
    "            ### 先构造空（预测日长度*日后移）array\n",
    "            samples = np.zeros((len(rows),\n",
    "                                 self.daily_back,\n",
    "                                 5))\n",
    "            print(samples.shape)\n",
    "            for j in rows:\n",
    "                ### 每一个填入用于预测一天的开盘价到波动率矩阵\n",
    "                samples[j] = data.loc[\n",
    "                                  (data.index >= j) & (data.index < self.daily_back + j),\n",
    "                                  'open':'volume_rate']\n",
    "            print(data.index)\n",
    "            print('日频训练array：',samples.shape)\n",
    "            return samples\n",
    "    def fif_train_data(self,data):\n",
    "        while True:\n",
    "            rows = list(range(self.train_num - self.daily_back))\n",
    "            samples = np.zeros((len(rows),\n",
    "                                 self.fif_back,\n",
    "                                 5))\n",
    "            for j in rows:\n",
    "\n",
    "                samples[j] = data.loc[\n",
    "                              (data.index >= j * self.fif_back ) & (data.index < (j+1) * self.fif_back),\n",
    "                              'open':]\n",
    "            print('十五分钟训练array：',samples.shape)\n",
    "            return samples\n",
    "    def wenben_train_data(self,data):\n",
    "        while True:\n",
    "            rows = list(range(self.train_num - self.daily_back)) #总共1489个数据，由于扣除前面20个数据，所以为1469\n",
    "            samples = np.zeros((len(rows),\n",
    "                                 self.wenben_back,\n",
    "                                 wenben_sort))\n",
    "            for j in rows:\n",
    "\n",
    "                samples[j] = data.loc[\n",
    "                                  (data.index >= j) & (data.index < self.wenben_back + j),\n",
    "                                  first_columns:]\n",
    "            print('文本长期训练array：',samples.shape)\n",
    "            return samples\n",
    "   \n",
    "\n",
    "    def daily_test_data(self,data):\n",
    "        while True:\n",
    "            rows = list(range(self.test_num - self.daily_back))\n",
    "            print(self.test_num,self.daily_back)\n",
    "            print(rows)\n",
    "            samples = np.zeros((len(rows),\n",
    "                                self.daily_back,\n",
    "                                 5))\n",
    "            for j in rows:\n",
    "\n",
    "\n",
    "                samples[j] = data.loc[\n",
    "                                  (data.index >= self.train_num+j) & (data.index < self.train_num+self.daily_back + j),\n",
    "                                  'open':'volume_rate']\n",
    "            print('日测试array：',samples.shape)\n",
    "            print('试一试index', data.index,'train_num',self.train_num)\n",
    "            return samples\n",
    "\n",
    "    def wenben_test_data(self, data):\n",
    "        while True:\n",
    "            rows = list(range(self.test_num - self.daily_back))\n",
    "            samples = np.zeros((len(rows),\n",
    "                                self.wenben_back,\n",
    "                                wenben_sort))\n",
    "            for j in rows:\n",
    "                samples[j] = data.loc[\n",
    "                             (data.index >= self.train_num + j) & (data.index < self.train_num + self.wenben_back + j),\n",
    "                             first_columns:]\n",
    "            print('长期文本测试array：', samples.shape)\n",
    "            return samples\n",
    "   \n",
    "    def fif_test_data(self,data):\n",
    "        while True:\n",
    "            rows = list(range(self.test_num - self.daily_back))\n",
    "            samples = np.zeros((len(rows),\n",
    "                                self.fif_back,\n",
    "                                 5))\n",
    "            for j in rows:\n",
    "\n",
    "\n",
    "                samples[j] = data.loc[\n",
    "                                 (data.index >= 16*self.train_num+(j) * self.fif_back) & (data.index < 16*self.train_num+(j+1) * self.fif_back),\n",
    "                                 'open':]\n",
    "            print('十五分钟测试array：',samples.shape)\n",
    "            return samples\n",
    "    def target_train_data(self,data):\n",
    "        while True:\n",
    "            rows = list(range(self.train_num-self.daily_back))\n",
    "            targets = np.zeros((len(rows),))\n",
    "            for j in rows:\n",
    "\n",
    "\n",
    "                targets[j] = data.loc[data.index == j, 'target'].iloc[0] #根据提示，添加了.iloc[0]\n",
    "            print('训练标签array',targets.shape)\n",
    "            return targets\n",
    "    def target_test_data(self,data):\n",
    "        while True:\n",
    "            rows = list(range(self.test_num-self.daily_back))\n",
    "            targets = np.zeros((len(rows),))\n",
    "            for j in rows:\n",
    "\n",
    "\n",
    "                targets[j] = data.loc[data.index == self.train_num+j, 'target'].iloc[0] ##出问题：应该是。而不是***：data.index == self.train_num+j\n",
    "            print(targets.shape)\n",
    "            return targets"
   ]
  },
  {
   "cell_type": "markdown",
   "id": "1d109eb0-7de5-414a-a276-f81fcefe1269",
   "metadata": {},
   "source": [
    "## 6.2 设置类方法里的参数，赋值给origin_data_maker，仍然是一个class类"
   ]
  },
  {
   "cell_type": "code",
   "execution_count": 9,
   "id": "e39a13e8-0b0d-4cb8-b630-a142d4529615",
   "metadata": {},
   "outputs": [],
   "source": [
    "origin_data_maker=Data_maker(train_num=train_num,test_num=test_num,fif_back=16,daily_back=20,wenben_back=wenben_back)"
   ]
  },
  {
   "cell_type": "markdown",
   "id": "b84200b8",
   "metadata": {},
   "source": [
    "# 6.3 调用类中的方法,处理原始数据"
   ]
  },
  {
   "cell_type": "code",
   "execution_count": 10,
   "id": "a26f72f7",
   "metadata": {},
   "outputs": [
    {
     "name": "stdout",
     "output_type": "stream",
     "text": [
      "(1707, 20, 5)\n",
      "Index([   0,    1,    2,    3,    4,    5,    6,    7,    8,    9,\n",
      "       ...\n",
      "       1717, 1718, 1719, 1720, 1721, 1722, 1723, 1724, 1725, 1726],\n",
      "      dtype='int64', length=1727)\n",
      "日频训练array： (1707, 20, 5)\n",
      "432 20\n",
      "[0, 1, 2, 3, 4, 5, 6, 7, 8, 9, 10, 11, 12, 13, 14, 15, 16, 17, 18, 19, 20, 21, 22, 23, 24, 25, 26, 27, 28, 29, 30, 31, 32, 33, 34, 35, 36, 37, 38, 39, 40, 41, 42, 43, 44, 45, 46, 47, 48, 49, 50, 51, 52, 53, 54, 55, 56, 57, 58, 59, 60, 61, 62, 63, 64, 65, 66, 67, 68, 69, 70, 71, 72, 73, 74, 75, 76, 77, 78, 79, 80, 81, 82, 83, 84, 85, 86, 87, 88, 89, 90, 91, 92, 93, 94, 95, 96, 97, 98, 99, 100, 101, 102, 103, 104, 105, 106, 107, 108, 109, 110, 111, 112, 113, 114, 115, 116, 117, 118, 119, 120, 121, 122, 123, 124, 125, 126, 127, 128, 129, 130, 131, 132, 133, 134, 135, 136, 137, 138, 139, 140, 141, 142, 143, 144, 145, 146, 147, 148, 149, 150, 151, 152, 153, 154, 155, 156, 157, 158, 159, 160, 161, 162, 163, 164, 165, 166, 167, 168, 169, 170, 171, 172, 173, 174, 175, 176, 177, 178, 179, 180, 181, 182, 183, 184, 185, 186, 187, 188, 189, 190, 191, 192, 193, 194, 195, 196, 197, 198, 199, 200, 201, 202, 203, 204, 205, 206, 207, 208, 209, 210, 211, 212, 213, 214, 215, 216, 217, 218, 219, 220, 221, 222, 223, 224, 225, 226, 227, 228, 229, 230, 231, 232, 233, 234, 235, 236, 237, 238, 239, 240, 241, 242, 243, 244, 245, 246, 247, 248, 249, 250, 251, 252, 253, 254, 255, 256, 257, 258, 259, 260, 261, 262, 263, 264, 265, 266, 267, 268, 269, 270, 271, 272, 273, 274, 275, 276, 277, 278, 279, 280, 281, 282, 283, 284, 285, 286, 287, 288, 289, 290, 291, 292, 293, 294, 295, 296, 297, 298, 299, 300, 301, 302, 303, 304, 305, 306, 307, 308, 309, 310, 311, 312, 313, 314, 315, 316, 317, 318, 319, 320, 321, 322, 323, 324, 325, 326, 327, 328, 329, 330, 331, 332, 333, 334, 335, 336, 337, 338, 339, 340, 341, 342, 343, 344, 345, 346, 347, 348, 349, 350, 351, 352, 353, 354, 355, 356, 357, 358, 359, 360, 361, 362, 363, 364, 365, 366, 367, 368, 369, 370, 371, 372, 373, 374, 375, 376, 377, 378, 379, 380, 381, 382, 383, 384, 385, 386, 387, 388, 389, 390, 391, 392, 393, 394, 395, 396, 397, 398, 399, 400, 401, 402, 403, 404, 405, 406, 407, 408, 409, 410, 411]\n",
      "日测试array： (412, 20, 5)\n",
      "试一试index Index([1727, 1728, 1729, 1730, 1731, 1732, 1733, 1734, 1735, 1736,\n",
      "       ...\n",
      "       2149, 2150, 2151, 2152, 2153, 2154, 2155, 2156, 2157, 2158],\n",
      "      dtype='int64', length=432) train_num 1727\n",
      "十五分钟训练array： (1707, 16, 5)\n",
      "十五分钟测试array： (412, 16, 5)\n",
      "训练标签array (1707,)\n",
      "(412,)\n",
      "文本长期训练array： (1707, 10, 2)\n",
      "长期文本测试array： (412, 10, 2)\n"
     ]
    }
   ],
   "source": [
    "DM=origin_data_maker\n",
    "\n",
    "daily_train=DM.daily_train_data(daily_train_df)\n",
    "daily_test=DM.daily_test_data(daily_test_df)\n",
    "fif_train=DM.fif_train_data(fif_train_df)\n",
    "fif_test=DM.fif_test_data(fif_test_df)\n",
    "target_train=DM.target_train_data(target_train_df)\n",
    "target_test=DM.target_test_data(target_test_df)\n",
    "\n",
    "wenben_train=DM.wenben_train_data(wenben_norm_train_df)\n",
    "\n",
    "wenben_test=DM.wenben_test_data(wenben_norm_test_df)\n"
   ]
  },
  {
   "cell_type": "markdown",
   "id": "eb802e8a",
   "metadata": {},
   "source": [
    "# 7. 神经网络模型训练"
   ]
  },
  {
   "cell_type": "markdown",
   "id": "ff9ca801-990d-4205-a794-e3784edf76a1",
   "metadata": {},
   "source": [
    "## 7.1 模型建立 "
   ]
  },
  {
   "cell_type": "code",
   "execution_count": 11,
   "id": "f40a1c29",
   "metadata": {},
   "outputs": [],
   "source": [
    "def my_model():\n",
    "\n",
    "    # 假设的参数\n",
    "    LSTM_num = 32\n",
    "    dense_num = 64\n",
    "\n",
    "    model = Sequential()\n",
    "    # 使用 Input 层指定输入形状\n",
    "    model.add(Input(shape=(20, 5)))\n",
    "    model.add(Conv1D(16, 1, strides=1))\n",
    "    model.add(LSTM(LSTM_num))\n",
    "    model.add(Dense(dense_num, activation='relu'))\n",
    "    model.add(Dropout(0.2))\n",
    "    model.add(Dense(1, activation='sigmoid'))\n",
    "\n",
    "    model.summary()\n",
    "    model.compile(optimizer=Adam(learning_rate=1e-3), loss='binary_crossentropy', metrics=['acc'])\n",
    "    return model\n",
    "   \n"
   ]
  },
  {
   "cell_type": "markdown",
   "id": "4a065f8c",
   "metadata": {},
   "source": [
    "## 7.2 模型滞后时长赋值"
   ]
  },
  {
   "cell_type": "code",
   "execution_count": 12,
   "id": "993a90eb",
   "metadata": {},
   "outputs": [
    {
     "data": {
      "text/html": [
       "<pre style=\"white-space:pre;overflow-x:auto;line-height:normal;font-family:Menlo,'DejaVu Sans Mono',consolas,'Courier New',monospace\"><span style=\"font-weight: bold\">Model: \"sequential\"</span>\n",
       "</pre>\n"
      ],
      "text/plain": [
       "\u001b[1mModel: \"sequential\"\u001b[0m\n"
      ]
     },
     "metadata": {},
     "output_type": "display_data"
    },
    {
     "data": {
      "text/html": [
       "<pre style=\"white-space:pre;overflow-x:auto;line-height:normal;font-family:Menlo,'DejaVu Sans Mono',consolas,'Courier New',monospace\">┏━━━━━━━━━━━━━━━━━━━━━━━━━━━━━━━━━┳━━━━━━━━━━━━━━━━━━━━━━━━┳━━━━━━━━━━━━━━━┓\n",
       "┃<span style=\"font-weight: bold\"> Layer (type)                    </span>┃<span style=\"font-weight: bold\"> Output Shape           </span>┃<span style=\"font-weight: bold\">       Param # </span>┃\n",
       "┡━━━━━━━━━━━━━━━━━━━━━━━━━━━━━━━━━╇━━━━━━━━━━━━━━━━━━━━━━━━╇━━━━━━━━━━━━━━━┩\n",
       "│ conv1d (<span style=\"color: #0087ff; text-decoration-color: #0087ff\">Conv1D</span>)                 │ (<span style=\"color: #00d7ff; text-decoration-color: #00d7ff\">None</span>, <span style=\"color: #00af00; text-decoration-color: #00af00\">20</span>, <span style=\"color: #00af00; text-decoration-color: #00af00\">16</span>)         │            <span style=\"color: #00af00; text-decoration-color: #00af00\">96</span> │\n",
       "├─────────────────────────────────┼────────────────────────┼───────────────┤\n",
       "│ lstm (<span style=\"color: #0087ff; text-decoration-color: #0087ff\">LSTM</span>)                     │ (<span style=\"color: #00d7ff; text-decoration-color: #00d7ff\">None</span>, <span style=\"color: #00af00; text-decoration-color: #00af00\">32</span>)             │         <span style=\"color: #00af00; text-decoration-color: #00af00\">6,272</span> │\n",
       "├─────────────────────────────────┼────────────────────────┼───────────────┤\n",
       "│ dense (<span style=\"color: #0087ff; text-decoration-color: #0087ff\">Dense</span>)                   │ (<span style=\"color: #00d7ff; text-decoration-color: #00d7ff\">None</span>, <span style=\"color: #00af00; text-decoration-color: #00af00\">64</span>)             │         <span style=\"color: #00af00; text-decoration-color: #00af00\">2,112</span> │\n",
       "├─────────────────────────────────┼────────────────────────┼───────────────┤\n",
       "│ dropout (<span style=\"color: #0087ff; text-decoration-color: #0087ff\">Dropout</span>)               │ (<span style=\"color: #00d7ff; text-decoration-color: #00d7ff\">None</span>, <span style=\"color: #00af00; text-decoration-color: #00af00\">64</span>)             │             <span style=\"color: #00af00; text-decoration-color: #00af00\">0</span> │\n",
       "├─────────────────────────────────┼────────────────────────┼───────────────┤\n",
       "│ dense_1 (<span style=\"color: #0087ff; text-decoration-color: #0087ff\">Dense</span>)                 │ (<span style=\"color: #00d7ff; text-decoration-color: #00d7ff\">None</span>, <span style=\"color: #00af00; text-decoration-color: #00af00\">1</span>)              │            <span style=\"color: #00af00; text-decoration-color: #00af00\">65</span> │\n",
       "└─────────────────────────────────┴────────────────────────┴───────────────┘\n",
       "</pre>\n"
      ],
      "text/plain": [
       "┏━━━━━━━━━━━━━━━━━━━━━━━━━━━━━━━━━┳━━━━━━━━━━━━━━━━━━━━━━━━┳━━━━━━━━━━━━━━━┓\n",
       "┃\u001b[1m \u001b[0m\u001b[1mLayer (type)                   \u001b[0m\u001b[1m \u001b[0m┃\u001b[1m \u001b[0m\u001b[1mOutput Shape          \u001b[0m\u001b[1m \u001b[0m┃\u001b[1m \u001b[0m\u001b[1m      Param #\u001b[0m\u001b[1m \u001b[0m┃\n",
       "┡━━━━━━━━━━━━━━━━━━━━━━━━━━━━━━━━━╇━━━━━━━━━━━━━━━━━━━━━━━━╇━━━━━━━━━━━━━━━┩\n",
       "│ conv1d (\u001b[38;5;33mConv1D\u001b[0m)                 │ (\u001b[38;5;45mNone\u001b[0m, \u001b[38;5;34m20\u001b[0m, \u001b[38;5;34m16\u001b[0m)         │            \u001b[38;5;34m96\u001b[0m │\n",
       "├─────────────────────────────────┼────────────────────────┼───────────────┤\n",
       "│ lstm (\u001b[38;5;33mLSTM\u001b[0m)                     │ (\u001b[38;5;45mNone\u001b[0m, \u001b[38;5;34m32\u001b[0m)             │         \u001b[38;5;34m6,272\u001b[0m │\n",
       "├─────────────────────────────────┼────────────────────────┼───────────────┤\n",
       "│ dense (\u001b[38;5;33mDense\u001b[0m)                   │ (\u001b[38;5;45mNone\u001b[0m, \u001b[38;5;34m64\u001b[0m)             │         \u001b[38;5;34m2,112\u001b[0m │\n",
       "├─────────────────────────────────┼────────────────────────┼───────────────┤\n",
       "│ dropout (\u001b[38;5;33mDropout\u001b[0m)               │ (\u001b[38;5;45mNone\u001b[0m, \u001b[38;5;34m64\u001b[0m)             │             \u001b[38;5;34m0\u001b[0m │\n",
       "├─────────────────────────────────┼────────────────────────┼───────────────┤\n",
       "│ dense_1 (\u001b[38;5;33mDense\u001b[0m)                 │ (\u001b[38;5;45mNone\u001b[0m, \u001b[38;5;34m1\u001b[0m)              │            \u001b[38;5;34m65\u001b[0m │\n",
       "└─────────────────────────────────┴────────────────────────┴───────────────┘\n"
      ]
     },
     "metadata": {},
     "output_type": "display_data"
    },
    {
     "data": {
      "text/html": [
       "<pre style=\"white-space:pre;overflow-x:auto;line-height:normal;font-family:Menlo,'DejaVu Sans Mono',consolas,'Courier New',monospace\"><span style=\"font-weight: bold\"> Total params: </span><span style=\"color: #00af00; text-decoration-color: #00af00\">8,545</span> (33.38 KB)\n",
       "</pre>\n"
      ],
      "text/plain": [
       "\u001b[1m Total params: \u001b[0m\u001b[38;5;34m8,545\u001b[0m (33.38 KB)\n"
      ]
     },
     "metadata": {},
     "output_type": "display_data"
    },
    {
     "data": {
      "text/html": [
       "<pre style=\"white-space:pre;overflow-x:auto;line-height:normal;font-family:Menlo,'DejaVu Sans Mono',consolas,'Courier New',monospace\"><span style=\"font-weight: bold\"> Trainable params: </span><span style=\"color: #00af00; text-decoration-color: #00af00\">8,545</span> (33.38 KB)\n",
       "</pre>\n"
      ],
      "text/plain": [
       "\u001b[1m Trainable params: \u001b[0m\u001b[38;5;34m8,545\u001b[0m (33.38 KB)\n"
      ]
     },
     "metadata": {},
     "output_type": "display_data"
    },
    {
     "data": {
      "text/html": [
       "<pre style=\"white-space:pre;overflow-x:auto;line-height:normal;font-family:Menlo,'DejaVu Sans Mono',consolas,'Courier New',monospace\"><span style=\"font-weight: bold\"> Non-trainable params: </span><span style=\"color: #00af00; text-decoration-color: #00af00\">0</span> (0.00 B)\n",
       "</pre>\n"
      ],
      "text/plain": [
       "\u001b[1m Non-trainable params: \u001b[0m\u001b[38;5;34m0\u001b[0m (0.00 B)\n"
      ]
     },
     "metadata": {},
     "output_type": "display_data"
    }
   ],
   "source": [
    "model=my_model()\n"
   ]
  },
  {
   "cell_type": "markdown",
   "id": "e025ba5e-a33c-4474-9138-18ad1474565b",
   "metadata": {},
   "source": [
    "## 7.3 添加输出模型参数的代码块"
   ]
  },
  {
   "cell_type": "code",
   "execution_count": 13,
   "id": "f42bfef1-b9f0-4103-9a4d-c90f8bb13126",
   "metadata": {},
   "outputs": [
    {
     "data": {
      "image/png": "[encoded data removed]",
      "text/plain": [
       "<IPython.core.display.Image object>"
      ]
     },
     "execution_count": 13,
     "metadata": {},
     "output_type": "execute_result"
    }
   ],
   "source": [
    "plot_model(model, to_file='model_structure.png', show_shapes=True, show_layer_names=True)"
   ]
  },
  {
   "cell_type": "markdown",
   "id": "8620eccf",
   "metadata": {},
   "source": [
    "## 7.4 model.fit(输入训练数据x，标志y)"
   ]
  },
  {
   "cell_type": "code",
   "execution_count": 14,
   "id": "6ebf83ca",
   "metadata": {},
   "outputs": [
    {
     "name": "stdout",
     "output_type": "stream",
     "text": [
      "Epoch 1/100\n",
      "\u001b[1m160/160\u001b[0m \u001b[32m━━━━━━━━━━━━━━━━━━━━\u001b[0m\u001b[37m\u001b[0m \u001b[1m1s\u001b[0m 4ms/step - acc: 0.5404 - loss: 0.6946 - val_acc: 0.5012 - val_loss: 0.7025\n",
      "Epoch 2/100\n",
      "\u001b[1m160/160\u001b[0m \u001b[32m━━━━━━━━━━━━━━━━━━━━\u001b[0m\u001b[37m\u001b[0m \u001b[1m0s\u001b[0m 3ms/step - acc: 0.5854 - loss: 0.6873 - val_acc: 0.5012 - val_loss: 0.7154\n",
      "Epoch 3/100\n",
      "\u001b[1m160/160\u001b[0m \u001b[32m━━━━━━━━━━━━━━━━━━━━\u001b[0m\u001b[37m\u001b[0m \u001b[1m0s\u001b[0m 2ms/step - acc: 0.5459 - loss: 0.6918 - val_acc: 0.5012 - val_loss: 0.7108\n",
      "Epoch 4/100\n",
      "\u001b[1m160/160\u001b[0m \u001b[32m━━━━━━━━━━━━━━━━━━━━\u001b[0m\u001b[37m\u001b[0m \u001b[1m0s\u001b[0m 2ms/step - acc: 0.5663 - loss: 0.6820 - val_acc: 0.5012 - val_loss: 0.7054\n",
      "Epoch 5/100\n",
      "\u001b[1m160/160\u001b[0m \u001b[32m━━━━━━━━━━━━━━━━━━━━\u001b[0m\u001b[37m\u001b[0m \u001b[1m0s\u001b[0m 2ms/step - acc: 0.5630 - loss: 0.6853 - val_acc: 0.5012 - val_loss: 0.7060\n",
      "Epoch 6/100\n",
      "\u001b[1m160/160\u001b[0m \u001b[32m━━━━━━━━━━━━━━━━━━━━\u001b[0m\u001b[37m\u001b[0m \u001b[1m0s\u001b[0m 2ms/step - acc: 0.5378 - loss: 0.6845 - val_acc: 0.5012 - val_loss: 0.7038\n",
      "Epoch 7/100\n",
      "\u001b[1m160/160\u001b[0m \u001b[32m━━━━━━━━━━━━━━━━━━━━\u001b[0m\u001b[37m\u001b[0m \u001b[1m0s\u001b[0m 2ms/step - acc: 0.5743 - loss: 0.6830 - val_acc: 0.5012 - val_loss: 0.7074\n",
      "Epoch 8/100\n",
      "\u001b[1m160/160\u001b[0m \u001b[32m━━━━━━━━━━━━━━━━━━━━\u001b[0m\u001b[37m\u001b[0m \u001b[1m0s\u001b[0m 3ms/step - acc: 0.5857 - loss: 0.6785 - val_acc: 0.5012 - val_loss: 0.7072\n",
      "Epoch 9/100\n",
      "\u001b[1m160/160\u001b[0m \u001b[32m━━━━━━━━━━━━━━━━━━━━\u001b[0m\u001b[37m\u001b[0m \u001b[1m0s\u001b[0m 3ms/step - acc: 0.5482 - loss: 0.6839 - val_acc: 0.5059 - val_loss: 0.7076\n",
      "Epoch 10/100\n",
      "\u001b[1m160/160\u001b[0m \u001b[32m━━━━━━━━━━━━━━━━━━━━\u001b[0m\u001b[37m\u001b[0m \u001b[1m0s\u001b[0m 3ms/step - acc: 0.5343 - loss: 0.6920 - val_acc: 0.5012 - val_loss: 0.7100\n",
      "Epoch 11/100\n",
      "\u001b[1m160/160\u001b[0m \u001b[32m━━━━━━━━━━━━━━━━━━━━\u001b[0m\u001b[37m\u001b[0m \u001b[1m0s\u001b[0m 3ms/step - acc: 0.5779 - loss: 0.6810 - val_acc: 0.5082 - val_loss: 0.7050\n",
      "Epoch 12/100\n",
      "\u001b[1m160/160\u001b[0m \u001b[32m━━━━━━━━━━━━━━━━━━━━\u001b[0m\u001b[37m\u001b[0m \u001b[1m0s\u001b[0m 2ms/step - acc: 0.5606 - loss: 0.6801 - val_acc: 0.5012 - val_loss: 0.7282\n",
      "Epoch 13/100\n",
      "\u001b[1m160/160\u001b[0m \u001b[32m━━━━━━━━━━━━━━━━━━━━\u001b[0m\u001b[37m\u001b[0m \u001b[1m0s\u001b[0m 2ms/step - acc: 0.5694 - loss: 0.6769 - val_acc: 0.5105 - val_loss: 0.7072\n",
      "Epoch 14/100\n",
      "\u001b[1m160/160\u001b[0m \u001b[32m━━━━━━━━━━━━━━━━━━━━\u001b[0m\u001b[37m\u001b[0m \u001b[1m0s\u001b[0m 2ms/step - acc: 0.5541 - loss: 0.6869 - val_acc: 0.5082 - val_loss: 0.7084\n",
      "Epoch 15/100\n",
      "\u001b[1m160/160\u001b[0m \u001b[32m━━━━━━━━━━━━━━━━━━━━\u001b[0m\u001b[37m\u001b[0m \u001b[1m0s\u001b[0m 2ms/step - acc: 0.5793 - loss: 0.6750 - val_acc: 0.5082 - val_loss: 0.7109\n",
      "Epoch 16/100\n",
      "\u001b[1m160/160\u001b[0m \u001b[32m━━━━━━━━━━━━━━━━━━━━\u001b[0m\u001b[37m\u001b[0m \u001b[1m0s\u001b[0m 3ms/step - acc: 0.5576 - loss: 0.6874 - val_acc: 0.5059 - val_loss: 0.7153\n",
      "Epoch 17/100\n",
      "\u001b[1m160/160\u001b[0m \u001b[32m━━━━━━━━━━━━━━━━━━━━\u001b[0m\u001b[37m\u001b[0m \u001b[1m0s\u001b[0m 2ms/step - acc: 0.5724 - loss: 0.6844 - val_acc: 0.5129 - val_loss: 0.7242\n",
      "Epoch 18/100\n",
      "\u001b[1m160/160\u001b[0m \u001b[32m━━━━━━━━━━━━━━━━━━━━\u001b[0m\u001b[37m\u001b[0m \u001b[1m0s\u001b[0m 2ms/step - acc: 0.5535 - loss: 0.6778 - val_acc: 0.5222 - val_loss: 0.7085\n",
      "Epoch 19/100\n",
      "\u001b[1m160/160\u001b[0m \u001b[32m━━━━━━━━━━━━━━━━━━━━\u001b[0m\u001b[37m\u001b[0m \u001b[1m0s\u001b[0m 2ms/step - acc: 0.5426 - loss: 0.6858 - val_acc: 0.5105 - val_loss: 0.7187\n",
      "Epoch 20/100\n",
      "\u001b[1m160/160\u001b[0m \u001b[32m━━━━━━━━━━━━━━━━━━━━\u001b[0m\u001b[37m\u001b[0m \u001b[1m0s\u001b[0m 2ms/step - acc: 0.5711 - loss: 0.6802 - val_acc: 0.5082 - val_loss: 0.7181\n",
      "Epoch 21/100\n",
      "\u001b[1m160/160\u001b[0m \u001b[32m━━━━━━━━━━━━━━━━━━━━\u001b[0m\u001b[37m\u001b[0m \u001b[1m0s\u001b[0m 3ms/step - acc: 0.5549 - loss: 0.6823 - val_acc: 0.5082 - val_loss: 0.7233\n",
      "Epoch 22/100\n",
      "\u001b[1m160/160\u001b[0m \u001b[32m━━━━━━━━━━━━━━━━━━━━\u001b[0m\u001b[37m\u001b[0m \u001b[1m0s\u001b[0m 3ms/step - acc: 0.5762 - loss: 0.6731 - val_acc: 0.5035 - val_loss: 0.7158\n",
      "Epoch 23/100\n",
      "\u001b[1m160/160\u001b[0m \u001b[32m━━━━━━━━━━━━━━━━━━━━\u001b[0m\u001b[37m\u001b[0m \u001b[1m0s\u001b[0m 2ms/step - acc: 0.5509 - loss: 0.6773 - val_acc: 0.5152 - val_loss: 0.7053\n",
      "Epoch 24/100\n",
      "\u001b[1m160/160\u001b[0m \u001b[32m━━━━━━━━━━━━━━━━━━━━\u001b[0m\u001b[37m\u001b[0m \u001b[1m0s\u001b[0m 2ms/step - acc: 0.5738 - loss: 0.6751 - val_acc: 0.4824 - val_loss: 0.7214\n",
      "Epoch 25/100\n",
      "\u001b[1m160/160\u001b[0m \u001b[32m━━━━━━━━━━━━━━━━━━━━\u001b[0m\u001b[37m\u001b[0m \u001b[1m0s\u001b[0m 3ms/step - acc: 0.5369 - loss: 0.6847 - val_acc: 0.5082 - val_loss: 0.7200\n",
      "Epoch 26/100\n",
      "\u001b[1m160/160\u001b[0m \u001b[32m━━━━━━━━━━━━━━━━━━━━\u001b[0m\u001b[37m\u001b[0m \u001b[1m0s\u001b[0m 3ms/step - acc: 0.5756 - loss: 0.6782 - val_acc: 0.4988 - val_loss: 0.7161\n",
      "Epoch 27/100\n",
      "\u001b[1m160/160\u001b[0m \u001b[32m━━━━━━━━━━━━━━━━━━━━\u001b[0m\u001b[37m\u001b[0m \u001b[1m0s\u001b[0m 3ms/step - acc: 0.5505 - loss: 0.6874 - val_acc: 0.5199 - val_loss: 0.7260\n",
      "Epoch 28/100\n",
      "\u001b[1m160/160\u001b[0m \u001b[32m━━━━━━━━━━━━━━━━━━━━\u001b[0m\u001b[37m\u001b[0m \u001b[1m0s\u001b[0m 2ms/step - acc: 0.5548 - loss: 0.6807 - val_acc: 0.5012 - val_loss: 0.7186\n",
      "Epoch 29/100\n",
      "\u001b[1m160/160\u001b[0m \u001b[32m━━━━━━━━━━━━━━━━━━━━\u001b[0m\u001b[37m\u001b[0m \u001b[1m0s\u001b[0m 2ms/step - acc: 0.5666 - loss: 0.6760 - val_acc: 0.5035 - val_loss: 0.7169\n",
      "Epoch 30/100\n",
      "\u001b[1m160/160\u001b[0m \u001b[32m━━━━━━━━━━━━━━━━━━━━\u001b[0m\u001b[37m\u001b[0m \u001b[1m0s\u001b[0m 2ms/step - acc: 0.5855 - loss: 0.6682 - val_acc: 0.4965 - val_loss: 0.7196\n",
      "Epoch 31/100\n",
      "\u001b[1m160/160\u001b[0m \u001b[32m━━━━━━━━━━━━━━━━━━━━\u001b[0m\u001b[37m\u001b[0m \u001b[1m0s\u001b[0m 3ms/step - acc: 0.5636 - loss: 0.6738 - val_acc: 0.4848 - val_loss: 0.7313\n",
      "Epoch 32/100\n",
      "\u001b[1m160/160\u001b[0m \u001b[32m━━━━━━━━━━━━━━━━━━━━\u001b[0m\u001b[37m\u001b[0m \u001b[1m0s\u001b[0m 2ms/step - acc: 0.5437 - loss: 0.6775 - val_acc: 0.5059 - val_loss: 0.7382\n",
      "Epoch 33/100\n",
      "\u001b[1m160/160\u001b[0m \u001b[32m━━━━━━━━━━━━━━━━━━━━\u001b[0m\u001b[37m\u001b[0m \u001b[1m0s\u001b[0m 2ms/step - acc: 0.5782 - loss: 0.6677 - val_acc: 0.4965 - val_loss: 0.7128\n",
      "Epoch 34/100\n",
      "\u001b[1m160/160\u001b[0m \u001b[32m━━━━━━━━━━━━━━━━━━━━\u001b[0m\u001b[37m\u001b[0m \u001b[1m0s\u001b[0m 3ms/step - acc: 0.5634 - loss: 0.6785 - val_acc: 0.5012 - val_loss: 0.7204\n",
      "Epoch 35/100\n",
      "\u001b[1m160/160\u001b[0m \u001b[32m━━━━━━━━━━━━━━━━━━━━\u001b[0m\u001b[37m\u001b[0m \u001b[1m0s\u001b[0m 2ms/step - acc: 0.5890 - loss: 0.6692 - val_acc: 0.5199 - val_loss: 0.7208\n",
      "Epoch 36/100\n",
      "\u001b[1m160/160\u001b[0m \u001b[32m━━━━━━━━━━━━━━━━━━━━\u001b[0m\u001b[37m\u001b[0m \u001b[1m0s\u001b[0m 3ms/step - acc: 0.5629 - loss: 0.6648 - val_acc: 0.5012 - val_loss: 0.7258\n",
      "Epoch 37/100\n",
      "\u001b[1m160/160\u001b[0m \u001b[32m━━━━━━━━━━━━━━━━━━━━\u001b[0m\u001b[37m\u001b[0m \u001b[1m0s\u001b[0m 3ms/step - acc: 0.5494 - loss: 0.6756 - val_acc: 0.5082 - val_loss: 0.7322\n",
      "Epoch 38/100\n",
      "\u001b[1m160/160\u001b[0m \u001b[32m━━━━━━━━━━━━━━━━━━━━\u001b[0m\u001b[37m\u001b[0m \u001b[1m0s\u001b[0m 2ms/step - acc: 0.5830 - loss: 0.6680 - val_acc: 0.5035 - val_loss: 0.7236\n",
      "Epoch 39/100\n",
      "\u001b[1m160/160\u001b[0m \u001b[32m━━━━━━━━━━━━━━━━━━━━\u001b[0m\u001b[37m\u001b[0m \u001b[1m0s\u001b[0m 3ms/step - acc: 0.5623 - loss: 0.6742 - val_acc: 0.4801 - val_loss: 0.7503\n",
      "Epoch 40/100\n",
      "\u001b[1m160/160\u001b[0m \u001b[32m━━━━━━━━━━━━━━━━━━━━\u001b[0m\u001b[37m\u001b[0m \u001b[1m0s\u001b[0m 3ms/step - acc: 0.5692 - loss: 0.6675 - val_acc: 0.5340 - val_loss: 0.7416\n",
      "Epoch 41/100\n",
      "\u001b[1m160/160\u001b[0m \u001b[32m━━━━━━━━━━━━━━━━━━━━\u001b[0m\u001b[37m\u001b[0m \u001b[1m0s\u001b[0m 2ms/step - acc: 0.5765 - loss: 0.6702 - val_acc: 0.5105 - val_loss: 0.7523\n",
      "Epoch 42/100\n",
      "\u001b[1m160/160\u001b[0m \u001b[32m━━━━━━━━━━━━━━━━━━━━\u001b[0m\u001b[37m\u001b[0m \u001b[1m0s\u001b[0m 2ms/step - acc: 0.5939 - loss: 0.6652 - val_acc: 0.5059 - val_loss: 0.7321\n",
      "Epoch 43/100\n",
      "\u001b[1m160/160\u001b[0m \u001b[32m━━━━━━━━━━━━━━━━━━━━\u001b[0m\u001b[37m\u001b[0m \u001b[1m0s\u001b[0m 3ms/step - acc: 0.5907 - loss: 0.6698 - val_acc: 0.4988 - val_loss: 0.7498\n",
      "Epoch 44/100\n",
      "\u001b[1m160/160\u001b[0m \u001b[32m━━━━━━━━━━━━━━━━━━━━\u001b[0m\u001b[37m\u001b[0m \u001b[1m0s\u001b[0m 2ms/step - acc: 0.6080 - loss: 0.6622 - val_acc: 0.5269 - val_loss: 0.7584\n",
      "Epoch 45/100\n",
      "\u001b[1m160/160\u001b[0m \u001b[32m━━━━━━━━━━━━━━━━━━━━\u001b[0m\u001b[37m\u001b[0m \u001b[1m0s\u001b[0m 3ms/step - acc: 0.5585 - loss: 0.6601 - val_acc: 0.5199 - val_loss: 0.7602\n",
      "Epoch 46/100\n",
      "\u001b[1m160/160\u001b[0m \u001b[32m━━━━━━━━━━━━━━━━━━━━\u001b[0m\u001b[37m\u001b[0m \u001b[1m0s\u001b[0m 3ms/step - acc: 0.5814 - loss: 0.6655 - val_acc: 0.5246 - val_loss: 0.7437\n",
      "Epoch 47/100\n",
      "\u001b[1m160/160\u001b[0m \u001b[32m━━━━━━━━━━━━━━━━━━━━\u001b[0m\u001b[37m\u001b[0m \u001b[1m0s\u001b[0m 3ms/step - acc: 0.5969 - loss: 0.6654 - val_acc: 0.5269 - val_loss: 0.7530\n",
      "Epoch 48/100\n",
      "\u001b[1m160/160\u001b[0m \u001b[32m━━━━━━━━━━━━━━━━━━━━\u001b[0m\u001b[37m\u001b[0m \u001b[1m0s\u001b[0m 3ms/step - acc: 0.6123 - loss: 0.6499 - val_acc: 0.5082 - val_loss: 0.7765\n",
      "Epoch 49/100\n",
      "\u001b[1m160/160\u001b[0m \u001b[32m━━━━━━━━━━━━━━━━━━━━\u001b[0m\u001b[37m\u001b[0m \u001b[1m0s\u001b[0m 2ms/step - acc: 0.5811 - loss: 0.6681 - val_acc: 0.5222 - val_loss: 0.7630\n",
      "Epoch 50/100\n",
      "\u001b[1m160/160\u001b[0m \u001b[32m━━━━━━━━━━━━━━━━━━━━\u001b[0m\u001b[37m\u001b[0m \u001b[1m0s\u001b[0m 3ms/step - acc: 0.5831 - loss: 0.6619 - val_acc: 0.5035 - val_loss: 0.7457\n",
      "Epoch 51/100\n",
      "\u001b[1m160/160\u001b[0m \u001b[32m━━━━━━━━━━━━━━━━━━━━\u001b[0m\u001b[37m\u001b[0m \u001b[1m0s\u001b[0m 2ms/step - acc: 0.5882 - loss: 0.6633 - val_acc: 0.5363 - val_loss: 0.7851\n",
      "Epoch 52/100\n",
      "\u001b[1m160/160\u001b[0m \u001b[32m━━━━━━━━━━━━━━━━━━━━\u001b[0m\u001b[37m\u001b[0m \u001b[1m0s\u001b[0m 3ms/step - acc: 0.5968 - loss: 0.6496 - val_acc: 0.5129 - val_loss: 0.7764\n",
      "Epoch 53/100\n",
      "\u001b[1m160/160\u001b[0m \u001b[32m━━━━━━━━━━━━━━━━━━━━\u001b[0m\u001b[37m\u001b[0m \u001b[1m0s\u001b[0m 3ms/step - acc: 0.5977 - loss: 0.6606 - val_acc: 0.5363 - val_loss: 0.7758\n",
      "Epoch 54/100\n",
      "\u001b[1m160/160\u001b[0m \u001b[32m━━━━━━━━━━━━━━━━━━━━\u001b[0m\u001b[37m\u001b[0m \u001b[1m0s\u001b[0m 3ms/step - acc: 0.5797 - loss: 0.6610 - val_acc: 0.4895 - val_loss: 0.7951\n",
      "Epoch 55/100\n",
      "\u001b[1m160/160\u001b[0m \u001b[32m━━━━━━━━━━━━━━━━━━━━\u001b[0m\u001b[37m\u001b[0m \u001b[1m0s\u001b[0m 3ms/step - acc: 0.6088 - loss: 0.6555 - val_acc: 0.5012 - val_loss: 0.8207\n",
      "Epoch 56/100\n",
      "\u001b[1m160/160\u001b[0m \u001b[32m━━━━━━━━━━━━━━━━━━━━\u001b[0m\u001b[37m\u001b[0m \u001b[1m0s\u001b[0m 3ms/step - acc: 0.6094 - loss: 0.6408 - val_acc: 0.5176 - val_loss: 0.7589\n",
      "Epoch 57/100\n",
      "\u001b[1m160/160\u001b[0m \u001b[32m━━━━━━━━━━━━━━━━━━━━\u001b[0m\u001b[37m\u001b[0m \u001b[1m0s\u001b[0m 3ms/step - acc: 0.5908 - loss: 0.6366 - val_acc: 0.5199 - val_loss: 0.8038\n",
      "Epoch 58/100\n",
      "\u001b[1m160/160\u001b[0m \u001b[32m━━━━━━━━━━━━━━━━━━━━\u001b[0m\u001b[37m\u001b[0m \u001b[1m0s\u001b[0m 2ms/step - acc: 0.5867 - loss: 0.6568 - val_acc: 0.5152 - val_loss: 0.7966\n",
      "Epoch 59/100\n",
      "\u001b[1m160/160\u001b[0m \u001b[32m━━━━━━━━━━━━━━━━━━━━\u001b[0m\u001b[37m\u001b[0m \u001b[1m0s\u001b[0m 3ms/step - acc: 0.5887 - loss: 0.6619 - val_acc: 0.5176 - val_loss: 0.7925\n",
      "Epoch 60/100\n",
      "\u001b[1m160/160\u001b[0m \u001b[32m━━━━━━━━━━━━━━━━━━━━\u001b[0m\u001b[37m\u001b[0m \u001b[1m0s\u001b[0m 3ms/step - acc: 0.5977 - loss: 0.6416 - val_acc: 0.5433 - val_loss: 0.8118\n",
      "Epoch 61/100\n",
      "\u001b[1m160/160\u001b[0m \u001b[32m━━━━━━━━━━━━━━━━━━━━\u001b[0m\u001b[37m\u001b[0m \u001b[1m0s\u001b[0m 3ms/step - acc: 0.6186 - loss: 0.6416 - val_acc: 0.5527 - val_loss: 0.8228\n",
      "Epoch 62/100\n",
      "\u001b[1m160/160\u001b[0m \u001b[32m━━━━━━━━━━━━━━━━━━━━\u001b[0m\u001b[37m\u001b[0m \u001b[1m0s\u001b[0m 3ms/step - acc: 0.6254 - loss: 0.6287 - val_acc: 0.5152 - val_loss: 0.8509\n",
      "Epoch 63/100\n",
      "\u001b[1m160/160\u001b[0m \u001b[32m━━━━━━━━━━━━━━━━━━━━\u001b[0m\u001b[37m\u001b[0m \u001b[1m0s\u001b[0m 3ms/step - acc: 0.5855 - loss: 0.6566 - val_acc: 0.5105 - val_loss: 0.8816\n",
      "Epoch 64/100\n",
      "\u001b[1m160/160\u001b[0m \u001b[32m━━━━━━━━━━━━━━━━━━━━\u001b[0m\u001b[37m\u001b[0m \u001b[1m0s\u001b[0m 3ms/step - acc: 0.6419 - loss: 0.6319 - val_acc: 0.5105 - val_loss: 0.8821\n",
      "Epoch 65/100\n",
      "\u001b[1m160/160\u001b[0m \u001b[32m━━━━━━━━━━━━━━━━━━━━\u001b[0m\u001b[37m\u001b[0m \u001b[1m0s\u001b[0m 3ms/step - acc: 0.6096 - loss: 0.6420 - val_acc: 0.4918 - val_loss: 0.9266\n",
      "Epoch 66/100\n",
      "\u001b[1m160/160\u001b[0m \u001b[32m━━━━━━━━━━━━━━━━━━━━\u001b[0m\u001b[37m\u001b[0m \u001b[1m0s\u001b[0m 3ms/step - acc: 0.6105 - loss: 0.6405 - val_acc: 0.5316 - val_loss: 0.8845\n",
      "Epoch 67/100\n",
      "\u001b[1m160/160\u001b[0m \u001b[32m━━━━━━━━━━━━━━━━━━━━\u001b[0m\u001b[37m\u001b[0m \u001b[1m0s\u001b[0m 3ms/step - acc: 0.6128 - loss: 0.6349 - val_acc: 0.5105 - val_loss: 0.8979\n",
      "Epoch 68/100\n",
      "\u001b[1m160/160\u001b[0m \u001b[32m━━━━━━━━━━━━━━━━━━━━\u001b[0m\u001b[37m\u001b[0m \u001b[1m0s\u001b[0m 3ms/step - acc: 0.6193 - loss: 0.6404 - val_acc: 0.5222 - val_loss: 0.8742\n",
      "Epoch 69/100\n",
      "\u001b[1m160/160\u001b[0m \u001b[32m━━━━━━━━━━━━━━━━━━━━\u001b[0m\u001b[37m\u001b[0m \u001b[1m0s\u001b[0m 3ms/step - acc: 0.6469 - loss: 0.6232 - val_acc: 0.5035 - val_loss: 0.9252\n",
      "Epoch 70/100\n",
      "\u001b[1m160/160\u001b[0m \u001b[32m━━━━━━━━━━━━━━━━━━━━\u001b[0m\u001b[37m\u001b[0m \u001b[1m0s\u001b[0m 3ms/step - acc: 0.6234 - loss: 0.6306 - val_acc: 0.5222 - val_loss: 0.8996\n",
      "Epoch 71/100\n",
      "\u001b[1m160/160\u001b[0m \u001b[32m━━━━━━━━━━━━━━━━━━━━\u001b[0m\u001b[37m\u001b[0m \u001b[1m0s\u001b[0m 3ms/step - acc: 0.6067 - loss: 0.6426 - val_acc: 0.5129 - val_loss: 0.9355\n",
      "Epoch 72/100\n",
      "\u001b[1m160/160\u001b[0m \u001b[32m━━━━━━━━━━━━━━━━━━━━\u001b[0m\u001b[37m\u001b[0m \u001b[1m0s\u001b[0m 2ms/step - acc: 0.6175 - loss: 0.6304 - val_acc: 0.5199 - val_loss: 0.9190\n",
      "Epoch 73/100\n",
      "\u001b[1m160/160\u001b[0m \u001b[32m━━━━━━━━━━━━━━━━━━━━\u001b[0m\u001b[37m\u001b[0m \u001b[1m0s\u001b[0m 3ms/step - acc: 0.6454 - loss: 0.6197 - val_acc: 0.5222 - val_loss: 0.9068\n",
      "Epoch 74/100\n",
      "\u001b[1m160/160\u001b[0m \u001b[32m━━━━━━━━━━━━━━━━━━━━\u001b[0m\u001b[37m\u001b[0m \u001b[1m0s\u001b[0m 3ms/step - acc: 0.6550 - loss: 0.6207 - val_acc: 0.5082 - val_loss: 0.9815\n",
      "Epoch 75/100\n",
      "\u001b[1m160/160\u001b[0m \u001b[32m━━━━━━━━━━━━━━━━━━━━\u001b[0m\u001b[37m\u001b[0m \u001b[1m0s\u001b[0m 3ms/step - acc: 0.6598 - loss: 0.6147 - val_acc: 0.5176 - val_loss: 0.9837\n",
      "Epoch 76/100\n",
      "\u001b[1m160/160\u001b[0m \u001b[32m━━━━━━━━━━━━━━━━━━━━\u001b[0m\u001b[37m\u001b[0m \u001b[1m0s\u001b[0m 3ms/step - acc: 0.6313 - loss: 0.6130 - val_acc: 0.5152 - val_loss: 0.9488\n",
      "Epoch 77/100\n",
      "\u001b[1m160/160\u001b[0m \u001b[32m━━━━━━━━━━━━━━━━━━━━\u001b[0m\u001b[37m\u001b[0m \u001b[1m0s\u001b[0m 3ms/step - acc: 0.6907 - loss: 0.5900 - val_acc: 0.5246 - val_loss: 0.9007\n",
      "Epoch 78/100\n",
      "\u001b[1m160/160\u001b[0m \u001b[32m━━━━━━━━━━━━━━━━━━━━\u001b[0m\u001b[37m\u001b[0m \u001b[1m0s\u001b[0m 3ms/step - acc: 0.6627 - loss: 0.6070 - val_acc: 0.5105 - val_loss: 0.9698\n",
      "Epoch 79/100\n",
      "\u001b[1m160/160\u001b[0m \u001b[32m━━━━━━━━━━━━━━━━━━━━\u001b[0m\u001b[37m\u001b[0m \u001b[1m0s\u001b[0m 3ms/step - acc: 0.6545 - loss: 0.5979 - val_acc: 0.5105 - val_loss: 1.0785\n",
      "Epoch 80/100\n",
      "\u001b[1m160/160\u001b[0m \u001b[32m━━━━━━━━━━━━━━━━━━━━\u001b[0m\u001b[37m\u001b[0m \u001b[1m0s\u001b[0m 3ms/step - acc: 0.6687 - loss: 0.5934 - val_acc: 0.5035 - val_loss: 1.0031\n",
      "Epoch 81/100\n",
      "\u001b[1m160/160\u001b[0m \u001b[32m━━━━━━━━━━━━━━━━━━━━\u001b[0m\u001b[37m\u001b[0m \u001b[1m0s\u001b[0m 3ms/step - acc: 0.6649 - loss: 0.6106 - val_acc: 0.5152 - val_loss: 1.0024\n",
      "Epoch 82/100\n",
      "\u001b[1m160/160\u001b[0m \u001b[32m━━━━━━━━━━━━━━━━━━━━\u001b[0m\u001b[37m\u001b[0m \u001b[1m0s\u001b[0m 3ms/step - acc: 0.6493 - loss: 0.6066 - val_acc: 0.5199 - val_loss: 0.9758\n",
      "Epoch 83/100\n",
      "\u001b[1m160/160\u001b[0m \u001b[32m━━━━━━━━━━━━━━━━━━━━\u001b[0m\u001b[37m\u001b[0m \u001b[1m0s\u001b[0m 3ms/step - acc: 0.6400 - loss: 0.5829 - val_acc: 0.5012 - val_loss: 1.0273\n",
      "Epoch 84/100\n",
      "\u001b[1m160/160\u001b[0m \u001b[32m━━━━━━━━━━━━━━━━━━━━\u001b[0m\u001b[37m\u001b[0m \u001b[1m0s\u001b[0m 3ms/step - acc: 0.6846 - loss: 0.5765 - val_acc: 0.4918 - val_loss: 1.0678\n",
      "Epoch 85/100\n",
      "\u001b[1m160/160\u001b[0m \u001b[32m━━━━━━━━━━━━━━━━━━━━\u001b[0m\u001b[37m\u001b[0m \u001b[1m0s\u001b[0m 3ms/step - acc: 0.6795 - loss: 0.5939 - val_acc: 0.5035 - val_loss: 1.0990\n",
      "Epoch 86/100\n",
      "\u001b[1m160/160\u001b[0m \u001b[32m━━━━━━━━━━━━━━━━━━━━\u001b[0m\u001b[37m\u001b[0m \u001b[1m0s\u001b[0m 3ms/step - acc: 0.6566 - loss: 0.5815 - val_acc: 0.5012 - val_loss: 1.1030\n",
      "Epoch 87/100\n",
      "\u001b[1m160/160\u001b[0m \u001b[32m━━━━━━━━━━━━━━━━━━━━\u001b[0m\u001b[37m\u001b[0m \u001b[1m0s\u001b[0m 3ms/step - acc: 0.6880 - loss: 0.5741 - val_acc: 0.5012 - val_loss: 1.0251\n",
      "Epoch 88/100\n",
      "\u001b[1m160/160\u001b[0m \u001b[32m━━━━━━━━━━━━━━━━━━━━\u001b[0m\u001b[37m\u001b[0m \u001b[1m0s\u001b[0m 3ms/step - acc: 0.6787 - loss: 0.5693 - val_acc: 0.4988 - val_loss: 1.0614\n",
      "Epoch 89/100\n",
      "\u001b[1m160/160\u001b[0m \u001b[32m━━━━━━━━━━━━━━━━━━━━\u001b[0m\u001b[37m\u001b[0m \u001b[1m0s\u001b[0m 3ms/step - acc: 0.6815 - loss: 0.5730 - val_acc: 0.5129 - val_loss: 1.1012\n",
      "Epoch 90/100\n",
      "\u001b[1m160/160\u001b[0m \u001b[32m━━━━━━━━━━━━━━━━━━━━\u001b[0m\u001b[37m\u001b[0m \u001b[1m0s\u001b[0m 3ms/step - acc: 0.6953 - loss: 0.5663 - val_acc: 0.4965 - val_loss: 1.1085\n",
      "Epoch 91/100\n",
      "\u001b[1m160/160\u001b[0m \u001b[32m━━━━━━━━━━━━━━━━━━━━\u001b[0m\u001b[37m\u001b[0m \u001b[1m0s\u001b[0m 3ms/step - acc: 0.7067 - loss: 0.5623 - val_acc: 0.5269 - val_loss: 1.1828\n",
      "Epoch 92/100\n",
      "\u001b[1m160/160\u001b[0m \u001b[32m━━━━━━━━━━━━━━━━━━━━\u001b[0m\u001b[37m\u001b[0m \u001b[1m0s\u001b[0m 3ms/step - acc: 0.6708 - loss: 0.5781 - val_acc: 0.4988 - val_loss: 1.0723\n",
      "Epoch 93/100\n",
      "\u001b[1m160/160\u001b[0m \u001b[32m━━━━━━━━━━━━━━━━━━━━\u001b[0m\u001b[37m\u001b[0m \u001b[1m0s\u001b[0m 3ms/step - acc: 0.7004 - loss: 0.5632 - val_acc: 0.4988 - val_loss: 1.1213\n",
      "Epoch 94/100\n",
      "\u001b[1m160/160\u001b[0m \u001b[32m━━━━━━━━━━━━━━━━━━━━\u001b[0m\u001b[37m\u001b[0m \u001b[1m0s\u001b[0m 3ms/step - acc: 0.7111 - loss: 0.5499 - val_acc: 0.5059 - val_loss: 1.1276\n",
      "Epoch 95/100\n",
      "\u001b[1m160/160\u001b[0m \u001b[32m━━━━━━━━━━━━━━━━━━━━\u001b[0m\u001b[37m\u001b[0m \u001b[1m0s\u001b[0m 3ms/step - acc: 0.6890 - loss: 0.5580 - val_acc: 0.5222 - val_loss: 1.1195\n",
      "Epoch 96/100\n",
      "\u001b[1m160/160\u001b[0m \u001b[32m━━━━━━━━━━━━━━━━━━━━\u001b[0m\u001b[37m\u001b[0m \u001b[1m0s\u001b[0m 3ms/step - acc: 0.7130 - loss: 0.5337 - val_acc: 0.4848 - val_loss: 1.1710\n",
      "Epoch 97/100\n",
      "\u001b[1m160/160\u001b[0m \u001b[32m━━━━━━━━━━━━━━━━━━━━\u001b[0m\u001b[37m\u001b[0m \u001b[1m0s\u001b[0m 3ms/step - acc: 0.6937 - loss: 0.5490 - val_acc: 0.5105 - val_loss: 1.2287\n",
      "Epoch 98/100\n",
      "\u001b[1m160/160\u001b[0m \u001b[32m━━━━━━━━━━━━━━━━━━━━\u001b[0m\u001b[37m\u001b[0m \u001b[1m0s\u001b[0m 3ms/step - acc: 0.7250 - loss: 0.5359 - val_acc: 0.4871 - val_loss: 1.2222\n",
      "Epoch 99/100\n",
      "\u001b[1m160/160\u001b[0m \u001b[32m━━━━━━━━━━━━━━━━━━━━\u001b[0m\u001b[37m\u001b[0m \u001b[1m0s\u001b[0m 3ms/step - acc: 0.7065 - loss: 0.5378 - val_acc: 0.5012 - val_loss: 1.1771\n",
      "Epoch 100/100\n",
      "\u001b[1m160/160\u001b[0m \u001b[32m━━━━━━━━━━━━━━━━━━━━\u001b[0m\u001b[37m\u001b[0m \u001b[1m0s\u001b[0m 3ms/step - acc: 0.6969 - loss: 0.5465 - val_acc: 0.5012 - val_loss: 1.2576\n"
     ]
    }
   ],
   "source": [
    "history = model.fit(x=daily_train,y=target_train,batch_size=batch_size,validation_split=0.25,epochs=epochs)\n"
   ]
  },
  {
   "cell_type": "markdown",
   "id": "0cd0ae96",
   "metadata": {},
   "source": [
    "## 7.5 model.evaluate(输入测试数据)，进行模型预测性能测试"
   ]
  },
  {
   "cell_type": "code",
   "execution_count": 15,
   "id": "47bd90e9",
   "metadata": {},
   "outputs": [
    {
     "name": "stdout",
     "output_type": "stream",
     "text": [
      "\u001b[1m13/13\u001b[0m \u001b[32m━━━━━━━━━━━━━━━━━━━━\u001b[0m\u001b[37m\u001b[0m \u001b[1m0s\u001b[0m 2ms/step - acc: 0.4974 - loss: 0.9544 \n",
      "0.9543619751930237 0.4927184581756592\n"
     ]
    }
   ],
   "source": [
    "loss,accuracy = model.evaluate(daily_test,y=target_test)\n",
    "print(loss,accuracy)"
   ]
  },
  {
   "cell_type": "markdown",
   "id": "a62e60b0-7dc9-47e4-b131-df7a159dbf01",
   "metadata": {},
   "source": [
    "# 8. 回测"
   ]
  },
  {
   "cell_type": "markdown",
   "id": "d9607cca",
   "metadata": {},
   "source": [
    "# 构建y的函数"
   ]
  },
  {
   "cell_type": "code",
   "execution_count": 16,
   "id": "fc23d49f",
   "metadata": {},
   "outputs": [],
   "source": [
    "def gen_y_pred():\n",
    "    y_predict=model.predict(daily_test,batch_size=1).reshape(test_num-daily_back).tolist() ###batch_size要设为1，不然evaluate和predict结果不同\n",
    "    y_pred=[]\n",
    "    for i,v in enumerate(y_predict):\n",
    "        if v>0.5:\n",
    "            y_pred.append(1)\n",
    "        if v<0.5:\n",
    "            y_pred.append(0)\n",
    "    return y_pred"
   ]
  },
  {
   "cell_type": "markdown",
   "id": "915e4535",
   "metadata": {},
   "source": [
    "# 制作y"
   ]
  },
  {
   "cell_type": "code",
   "execution_count": 17,
   "id": "191b4fa7",
   "metadata": {},
   "outputs": [
    {
     "name": "stdout",
     "output_type": "stream",
     "text": [
      "\u001b[1m412/412\u001b[0m \u001b[32m━━━━━━━━━━━━━━━━━━━━\u001b[0m\u001b[37m\u001b[0m \u001b[1m0s\u001b[0m 581us/step\n",
      "[1, 1, 1, 1, 1, 0, 0, 0, 0, 0, 1, 1, 1, 1, 1, 1, 1, 1, 1, 1, 1, 1, 1, 1, 1, 0, 0, 0, 0, 0, 0, 1, 1, 1, 1, 1, 1, 1, 1, 1, 1, 1, 1, 1, 1, 1, 0, 0, 0, 0, 0, 0, 0, 0, 0, 0, 0, 1, 1, 1, 0, 0, 1, 1, 1, 0, 0, 0, 0, 0, 0, 0, 1, 1, 1, 1, 0, 0, 1, 1, 0, 0, 0, 0, 0, 0, 0, 0, 0, 0, 0, 0, 0, 0, 1, 1, 0, 0, 0, 0, 0, 1, 1, 1, 0, 1, 1, 1, 1, 1, 1, 1, 1, 1, 0, 0, 1, 1, 1, 1, 0, 0, 0, 1, 1, 1, 1, 0, 0, 1, 1, 1, 1, 1, 1, 0, 0, 1, 0, 0, 1, 1, 1, 1, 1, 1, 1, 1, 0, 0, 0, 0, 1, 1, 1, 1, 1, 1, 1, 1, 1, 1, 1, 1, 0, 1, 1, 1, 1, 1, 1, 1, 1, 1, 1, 1, 1, 1, 0, 0, 0, 0, 0, 0, 0, 0, 0, 0, 0, 0, 1, 0, 0, 0, 0, 0, 0, 0, 0, 0, 1, 1, 1, 1, 1, 1, 1, 1, 1, 1, 1, 1, 1, 1, 1, 1, 0, 0, 1, 0, 1, 1, 0, 1, 0, 0, 1, 1, 1, 1, 1, 1, 1, 1, 1, 1, 1, 1, 1, 1, 1, 1, 1, 1, 1, 1, 1, 1, 1, 1, 1, 1, 1, 1, 1, 1, 1, 1, 1, 1, 1, 1, 1, 1, 1, 1, 1, 1, 1, 1, 1, 1, 1, 1, 1, 1, 1, 1, 1, 0, 1, 1, 1, 1, 1, 1, 1, 0, 0, 0, 0, 0, 1, 1, 1, 1, 1, 1, 1, 1, 1, 1, 0, 0, 0, 0, 1, 1, 1, 0, 0, 0, 0, 0, 0, 1, 1, 1, 1, 1, 1, 0, 0, 0, 0, 0, 0, 1, 1, 1, 1, 1, 0, 0, 1, 0, 0, 0, 0, 0, 0, 0, 0, 0, 0, 0, 0, 0, 0, 1, 1, 1, 1, 0, 0, 0, 0, 0, 0, 0, 0, 1, 0, 0, 1, 1, 1, 1, 1, 0, 0, 0, 0, 0, 0, 0, 0, 1, 1, 1, 0, 0, 0, 0, 0, 0, 0, 0, 0, 0, 0, 0, 0, 0, 0, 0, 0, 1, 1, 1, 1, 0, 0, 1, 1, 1, 1, 0, 0, 0, 0, 0]\n"
     ]
    }
   ],
   "source": [
    "y_pred=gen_y_pred()\n",
    "print(y_pred)"
   ]
  },
  {
   "cell_type": "markdown",
   "id": "0e0f800a",
   "metadata": {},
   "source": [
    "#  构建使用测试集作为回测数据的类"
   ]
  },
  {
   "cell_type": "code",
   "execution_count": 18,
   "id": "31c753f6",
   "metadata": {},
   "outputs": [],
   "source": [
    "class Back_tes_trader:\n",
    "    def __init__(self,train_num,daily_back,wenben_back):\n",
    "        self.train_num=train_num\n",
    "        self.daily_back=daily_back\n",
    "        self.wenben_back = wenben_back\n",
    "    def daily_test_data(self,data):\n",
    "        while True:\n",
    "            samples = data.loc[\n",
    "                data.index >=self.train_num+self.wenben_back ,\n",
    "                ['open','close']]\n",
    "            print(data.index)\n",
    "            return samples\n",
    "        \n"
   ]
  },
  {
   "cell_type": "markdown",
   "id": "3d8bb8f4",
   "metadata": {},
   "source": [
    "# 回测数据集代入参数，形成回撤数据back_tes_trader"
   ]
  },
  {
   "cell_type": "code",
   "execution_count": 19,
   "id": "9555c139",
   "metadata": {},
   "outputs": [],
   "source": [
    "back_tes_trader=Back_tes_trader(train_num=train_num,daily_back=20,wenben_back=daily_back)"
   ]
  },
  {
   "cell_type": "code",
   "execution_count": null,
   "id": "fdf8491f-132f-4a0f-90b9-68cad4c0c9f8",
   "metadata": {},
   "outputs": [],
   "source": []
  },
  {
   "cell_type": "code",
   "execution_count": 20,
   "id": "9b72e4c5",
   "metadata": {},
   "outputs": [],
   "source": [
    "def split_back_trader(train_num=train_num):\n",
    "\n",
    "    daily_test_df=daily_df.loc[daily_df.index>=train_num]\n",
    "\n",
    "    return {'daily_test_df':daily_test_df}"
   ]
  },
  {
   "cell_type": "code",
   "execution_count": 21,
   "id": "0caaf456",
   "metadata": {},
   "outputs": [],
   "source": [
    "back_df=split_back_trader()['daily_test_df']"
   ]
  },
  {
   "cell_type": "code",
   "execution_count": 22,
   "id": "ff686572",
   "metadata": {},
   "outputs": [
    {
     "data": {
      "text/html": [
       "<div>\n",
       "<style scoped>\n",
       "    .dataframe tbody tr th:only-of-type {\n",
       "        vertical-align: middle;\n",
       "    }\n",
       "\n",
       "    .dataframe tbody tr th {\n",
       "        vertical-align: top;\n",
       "    }\n",
       "\n",
       "    .dataframe thead th {\n",
       "        text-align: right;\n",
       "    }\n",
       "</style>\n",
       "<table border=\"1\" class=\"dataframe\">\n",
       "  <thead>\n",
       "    <tr style=\"text-align: right;\">\n",
       "      <th></th>\n",
       "      <th>trade_time</th>\n",
       "      <th>open</th>\n",
       "      <th>high</th>\n",
       "      <th>low</th>\n",
       "      <th>close</th>\n",
       "      <th>volume_rate</th>\n",
       "      <th>search_index</th>\n",
       "      <th>sector_score</th>\n",
       "    </tr>\n",
       "  </thead>\n",
       "  <tbody>\n",
       "    <tr>\n",
       "      <th>1727</th>\n",
       "      <td>2023-02-28</td>\n",
       "      <td>3265.74</td>\n",
       "      <td>3280.42</td>\n",
       "      <td>3246.14</td>\n",
       "      <td>3279.61</td>\n",
       "      <td>251625032</td>\n",
       "      <td>176171</td>\n",
       "      <td>-0.807574</td>\n",
       "    </tr>\n",
       "    <tr>\n",
       "      <th>1728</th>\n",
       "      <td>2023-03-01</td>\n",
       "      <td>3279.14</td>\n",
       "      <td>3315.16</td>\n",
       "      <td>3272.04</td>\n",
       "      <td>3312.35</td>\n",
       "      <td>318398704</td>\n",
       "      <td>182940</td>\n",
       "      <td>-0.593634</td>\n",
       "    </tr>\n",
       "    <tr>\n",
       "      <th>1729</th>\n",
       "      <td>2023-03-02</td>\n",
       "      <td>3308.01</td>\n",
       "      <td>3320.74</td>\n",
       "      <td>3306.46</td>\n",
       "      <td>3310.65</td>\n",
       "      <td>328520016</td>\n",
       "      <td>182444</td>\n",
       "      <td>-0.801063</td>\n",
       "    </tr>\n",
       "    <tr>\n",
       "      <th>1730</th>\n",
       "      <td>2023-03-03</td>\n",
       "      <td>3314.77</td>\n",
       "      <td>3330.60</td>\n",
       "      <td>3302.62</td>\n",
       "      <td>3328.39</td>\n",
       "      <td>343996919</td>\n",
       "      <td>173078</td>\n",
       "      <td>-0.761493</td>\n",
       "    </tr>\n",
       "    <tr>\n",
       "      <th>1731</th>\n",
       "      <td>2023-03-06</td>\n",
       "      <td>3332.02</td>\n",
       "      <td>3333.06</td>\n",
       "      <td>3308.73</td>\n",
       "      <td>3322.03</td>\n",
       "      <td>340530446</td>\n",
       "      <td>174705</td>\n",
       "      <td>-0.720088</td>\n",
       "    </tr>\n",
       "    <tr>\n",
       "      <th>...</th>\n",
       "      <td>...</td>\n",
       "      <td>...</td>\n",
       "      <td>...</td>\n",
       "      <td>...</td>\n",
       "      <td>...</td>\n",
       "      <td>...</td>\n",
       "      <td>...</td>\n",
       "      <td>...</td>\n",
       "    </tr>\n",
       "    <tr>\n",
       "      <th>2154</th>\n",
       "      <td>2024-12-02</td>\n",
       "      <td>3328.48</td>\n",
       "      <td>3369.30</td>\n",
       "      <td>3323.01</td>\n",
       "      <td>3363.98</td>\n",
       "      <td>668477762</td>\n",
       "      <td>428407</td>\n",
       "      <td>-0.647137</td>\n",
       "    </tr>\n",
       "    <tr>\n",
       "      <th>2155</th>\n",
       "      <td>2024-12-03</td>\n",
       "      <td>3366.29</td>\n",
       "      <td>3386.62</td>\n",
       "      <td>3348.37</td>\n",
       "      <td>3378.81</td>\n",
       "      <td>663030139</td>\n",
       "      <td>438283</td>\n",
       "      <td>-0.861024</td>\n",
       "    </tr>\n",
       "    <tr>\n",
       "      <th>2156</th>\n",
       "      <td>2024-12-04</td>\n",
       "      <td>3376.57</td>\n",
       "      <td>3388.02</td>\n",
       "      <td>3352.94</td>\n",
       "      <td>3364.65</td>\n",
       "      <td>621028862</td>\n",
       "      <td>425902</td>\n",
       "      <td>-0.984183</td>\n",
       "    </tr>\n",
       "    <tr>\n",
       "      <th>2157</th>\n",
       "      <td>2024-12-05</td>\n",
       "      <td>3353.06</td>\n",
       "      <td>3377.06</td>\n",
       "      <td>3353.06</td>\n",
       "      <td>3368.86</td>\n",
       "      <td>543885746</td>\n",
       "      <td>397751</td>\n",
       "      <td>-0.812990</td>\n",
       "    </tr>\n",
       "    <tr>\n",
       "      <th>2158</th>\n",
       "      <td>2024-12-06</td>\n",
       "      <td>3370.94</td>\n",
       "      <td>3418.26</td>\n",
       "      <td>3364.21</td>\n",
       "      <td>3404.08</td>\n",
       "      <td>698186572</td>\n",
       "      <td>409646</td>\n",
       "      <td>-0.713002</td>\n",
       "    </tr>\n",
       "  </tbody>\n",
       "</table>\n",
       "<p>432 rows × 8 columns</p>\n",
       "</div>"
      ],
      "text/plain": [
       "     trade_time     open     high      low    close  volume_rate  \\\n",
       "1727 2023-02-28  3265.74  3280.42  3246.14  3279.61    251625032   \n",
       "1728 2023-03-01  3279.14  3315.16  3272.04  3312.35    318398704   \n",
       "1729 2023-03-02  3308.01  3320.74  3306.46  3310.65    328520016   \n",
       "1730 2023-03-03  3314.77  3330.60  3302.62  3328.39    343996919   \n",
       "1731 2023-03-06  3332.02  3333.06  3308.73  3322.03    340530446   \n",
       "...         ...      ...      ...      ...      ...          ...   \n",
       "2154 2024-12-02  3328.48  3369.30  3323.01  3363.98    668477762   \n",
       "2155 2024-12-03  3366.29  3386.62  3348.37  3378.81    663030139   \n",
       "2156 2024-12-04  3376.57  3388.02  3352.94  3364.65    621028862   \n",
       "2157 2024-12-05  3353.06  3377.06  3353.06  3368.86    543885746   \n",
       "2158 2024-12-06  3370.94  3418.26  3364.21  3404.08    698186572   \n",
       "\n",
       "      search_index  sector_score  \n",
       "1727        176171     -0.807574  \n",
       "1728        182940     -0.593634  \n",
       "1729        182444     -0.801063  \n",
       "1730        173078     -0.761493  \n",
       "1731        174705     -0.720088  \n",
       "...            ...           ...  \n",
       "2154        428407     -0.647137  \n",
       "2155        438283     -0.861024  \n",
       "2156        425902     -0.984183  \n",
       "2157        397751     -0.812990  \n",
       "2158        409646     -0.713002  \n",
       "\n",
       "[432 rows x 8 columns]"
      ]
     },
     "execution_count": 22,
     "metadata": {},
     "output_type": "execute_result"
    }
   ],
   "source": [
    "back_df"
   ]
  },
  {
   "cell_type": "code",
   "execution_count": 23,
   "id": "ecd75b7e",
   "metadata": {},
   "outputs": [
    {
     "name": "stdout",
     "output_type": "stream",
     "text": [
      "Index([1727, 1728, 1729, 1730, 1731, 1732, 1733, 1734, 1735, 1736,\n",
      "       ...\n",
      "       2149, 2150, 2151, 2152, 2153, 2154, 2155, 2156, 2157, 2158],\n",
      "      dtype='int64', length=432)\n"
     ]
    }
   ],
   "source": [
    "backtrader_df=back_tes_trader.daily_test_data(back_df)"
   ]
  },
  {
   "cell_type": "markdown",
   "id": "ba8c3651",
   "metadata": {},
   "source": [
    "# 形成day_rate_of_return日内收益率，和rate_of_return隔夜收益率"
   ]
  },
  {
   "cell_type": "code",
   "execution_count": 24,
   "id": "d84028e8",
   "metadata": {},
   "outputs": [
    {
     "name": "stdout",
     "output_type": "stream",
     "text": [
      "411\n",
      "         open    close  rate_of_return  day_rate_of_return\n",
      "1748  3253.62  3240.06       -0.001639           -0.004168\n",
      "1749  3243.07  3261.25        0.006540            0.005606\n",
      "1750  3263.41  3272.86        0.003560            0.002896\n",
      "1751  3277.34  3296.40        0.007192            0.005816\n",
      "1752  3297.18  3312.56        0.004902            0.004665\n",
      "...       ...      ...             ...                 ...\n",
      "2154  3328.48  3363.98        0.011279            0.010666\n",
      "2155  3366.29  3378.81        0.004408            0.003719\n",
      "2156  3376.57  3364.65       -0.004191           -0.003530\n",
      "2157  3353.06  3368.86        0.001251            0.004712\n",
      "2158  3370.94  3404.08        0.010455            0.009831\n",
      "\n",
      "[411 rows x 4 columns]\n",
      "         open    close  rate_of_return  day_rate_of_return  last_close  \\\n",
      "1747  3256.60  3245.38             NaN           -0.003445         NaN   \n",
      "1748  3253.62  3240.06       -0.001639           -0.004168     3245.38   \n",
      "1749  3243.07  3261.25        0.006540            0.005606     3240.06   \n",
      "1750  3263.41  3272.86        0.003560            0.002896     3261.25   \n",
      "1751  3277.34  3296.40        0.007192            0.005816     3272.86   \n",
      "...       ...      ...             ...                 ...         ...   \n",
      "2154  3328.48  3363.98        0.011279            0.010666     3326.46   \n",
      "2155  3366.29  3378.81        0.004408            0.003719     3363.98   \n",
      "2156  3376.57  3364.65       -0.004191           -0.003530     3378.81   \n",
      "2157  3353.06  3368.86        0.001251            0.004712     3364.65   \n",
      "2158  3370.94  3404.08        0.010455            0.009831     3368.86   \n",
      "\n",
      "      sale_rate_of_return  \n",
      "1747                  NaN  \n",
      "1748             0.002539  \n",
      "1749             0.000929  \n",
      "1750             0.000662  \n",
      "1751             0.001369  \n",
      "...                   ...  \n",
      "2154             0.000607  \n",
      "2155             0.000687  \n",
      "2156            -0.000663  \n",
      "2157            -0.003445  \n",
      "2158             0.000617  \n",
      "\n",
      "[412 rows x 6 columns]\n",
      "(412, 6)\n"
     ]
    }
   ],
   "source": [
    "backtrader_df['rate_of_return'] = backtrader_df['close'].rolling(2).apply(lambda x: x[1] / x[0] - 1, raw=True)\n",
    "backtrader_df['day_rate_of_return']=backtrader_df['close']/backtrader_df['open']-1\n",
    "\n",
    "clo_1=backtrader_df.loc[(backtrader_df.index<total_day-1),\"close\"].tolist()\n",
    "\n",
    "print(len(clo_1))\n",
    "print(backtrader_df.loc[(backtrader_df.index>=train_num+20+1),:])\n",
    "backtrader_df.loc[(backtrader_df.index>=train_num+20+1),'last_close']=clo_1\n",
    "backtrader_df['sale_rate_of_return']=backtrader_df['open']/backtrader_df['last_close']-1\n",
    "\n",
    "\n",
    "print(backtrader_df)\n",
    "print(backtrader_df.shape)\n",
    "trade_day_return_list=[]\n",
    "return_list=[]\n",
    "every_day_return_list=[]"
   ]
  },
  {
   "cell_type": "markdown",
   "id": "94506474",
   "metadata": {},
   "source": [
    "# 回测交易逻辑"
   ]
  },
  {
   "cell_type": "code",
   "execution_count": 25,
   "id": "4a2a5071",
   "metadata": {},
   "outputs": [],
   "source": [
    "def backtrader(list,df):\n",
    "    a=0\n",
    "\n",
    "    rate_of_return = 1\n",
    "    for i,v in enumerate(list):\n",
    "        if (v ==1)&(a==0):\n",
    "            b=(1 + df.loc[train_num+20 + i, 'day_rate_of_return'])\n",
    "            rate_of_return= rate_of_return * b\n",
    "            a=1\n",
    "            trade_day_return_list.append(b-1)\n",
    "            return_list.append(rate_of_return)\n",
    "            every_day_return_list.append(b - 1)\n",
    "\n",
    "        elif (v ==1)&(a==1):\n",
    "            b=(1 + df.loc[train_num+20 + i, 'rate_of_return'])\n",
    "            rate_of_return= rate_of_return *b\n",
    "            a=a\n",
    "            trade_day_return_list.append(b-1)\n",
    "            return_list.append(rate_of_return)\n",
    "            every_day_return_list.append(b - 1)\n",
    "        elif (v==0)&(a==0):\n",
    "            rate_of_return=rate_of_return\n",
    "            a=a\n",
    "            every_day_return_list.append(0)\n",
    "\n",
    "        elif (v==0)&(a==1):\n",
    "            a=0\n",
    "            b = (1 + df.loc[train_num+20 + i, 'sale_rate_of_return'])\n",
    "            rate_of_return=rate_of_return*b\n",
    "            trade_day_return_list.append(b-1)\n",
    "            every_day_return_list.append(b - 1)\n",
    "            return_list.append(rate_of_return)\n",
    "    return a,trade_day_return_list,rate_of_return,return_list,every_day_return_list"
   ]
  },
  {
   "cell_type": "code",
   "execution_count": null,
   "id": "80a6e92b",
   "metadata": {},
   "outputs": [],
   "source": []
  },
  {
   "cell_type": "code",
   "execution_count": 26,
   "id": "4eda96a9",
   "metadata": {},
   "outputs": [
    {
     "name": "stdout",
     "output_type": "stream",
     "text": [
      "[-0.003445311060615297, -0.0016392533385921615, 0.006540002345635676, 0.003559984668455307, 0.0071924860825087755, 0.00023662176920269395, 0.0031113764222787665, -0.002650893549492328, 0.005963789341723036, 0.01421745577640321, 0.002280239011581253, -0.006836941883046954, -0.0009198458219712435, -0.019533535489734244, -0.007830343565790154, -0.0032179177568609774, -0.00023584399991427585, 0.006672589687815922, 0.011378991320437626, 0.008181700553972382, -0.0047635250085062975, 0.0019463187884238842, -0.0057912608453972725, -0.0020540931452237565, 0.0039857135462497695, -0.004179151553382776, 0.0039378232030065075, -0.015237511641240431, -0.012780940411060149, -0.001089008503003308, 0.0035111174974853387, 0.0027859922178987695, 0.0008567570503965616, -0.006094516176055609, 2.1843872481719373e-05, 0.007938513962610472, 0.0007337302287566683, -0.0012467362116543868, -0.009971796626121132, -0.014784702460990062, 0.01232138436244301, -0.0018655312531353774, 0.007279201741472008, 0.013091572300331755, 0.0004223207294742348, -0.0016331058283389766, -0.0010089571949138953, -0.008669734688204533, -0.003679551848655427, 0.0003189672964707402, 0.000959722899551041, 0.0021187849765793576, 0.021288430420711935, -0.0010614200128731266, -0.0013771159795759047, -0.008201676227417742, -0.004056975426411036, -0.0011892764208937256, -0.005895063330564665, 0.011282379319010216, -0.0021622389177187173, -0.002312039460502957, -0.005501826504395679, 0.0042854212341501, 0.013982286762945773, -0.007141822943224296, 0.0011761461084147662, -0.011313836254939758, -0.00180312905343738, 0.008361354244205588, -0.0007763826930297091, 0.0005440261132534374, -0.0028178023700246024, 0.002626902820632937, -0.0003103076524425541, -0.0020128257641697234, -0.0049820995717310135, -0.004281665548640623, 0.001627840258907165, 0.001016953516213226, -0.003369254905995267, -0.00218426937161742, 0.009399277678177054, -0.00637086135332543, -0.0046274408212169105, 0.0031524394806445866, -0.008039565428895723, -0.005070765126474974, -0.010270086437088155, 0.0017078954441378524, 0.009526705178879213, 0.009865140715456855, 0.0012492627030467052, -0.0009200575863381744, 0.0014277338121155836, -0.004521878349233233, 0.007107705497090944, 0.009109805991817321, -0.0017950503693094921, 0.0008212796851543303, 0.003131431497474191, 0.005484167574695498, -0.007126980666031013, 0.0011275250497388978, 0.0045672266293868, -0.00012710538666116378, -0.007927169133585044, 0.005996169022969511, -0.006822650284467713, -0.003048369434752729, 0.002259458389682445, -2.9619390827906322e-05, 0.00283671510377026, 0.0006502358342657111, -0.0028796295074613454, -0.016742145813140263, -0.0011338021061132464, -0.0009161549783928136, 0.0011293873326567727, 0.007368094936623715, 0.004011445992565532, -0.0115467597155261, -0.003290936283162127, -0.005552570302704618, -0.0039965200369744824, -0.0006960556844547439, -0.006997037107349002, -0.001952764937627527, -0.0016531722224766288, -0.02681232081573859, 0.005311391192668546, 0.01796837220044889, 0.030254150462462492, 0.0014142616762613525, -0.009229542783706912, -0.018322373897119992, -0.014831144697282861, -0.006386831866023734, -0.014649516013772401, -0.010241195538706727, 0.032307128662307116, 0.014414821347271456, 0.012792875569848539, 0.015576258766879514, -0.002631814027637458, 0.014568232358383337, 0.0015225742547750887, -0.008360758397399137, 0.012918959227684157, 0.00025866528711859793, 0.024306805905653706, -0.00044773594855340715, 0.006834924515212615, -0.002578917838827466, -0.004121805436309356, 0.006150492171500321, 0.0073669903677586746, -0.004080222652405485, -0.003962774138235758, -0.001839787373144941, 0.005401171076580669, 0.009916062121886782, -0.007186548803376325, 0.005527693975368564, -0.0008377466563193048, -0.009450425886627367, -0.007125914115018617, 0.0017083510942368374, -0.012647287793421058, 0.005853384739771705, 0.010133990553566452, 0.011906601735516276, -0.000786383222091569, -0.0018406743502353828, -0.007249209917570831, 0.0004889975550121939, -0.0069574288019839114, 0.002285842640214364, -0.004871055450276107, 0.012555183525585711, -0.01645526561958277, 0.021386266365598372, 0.000924665785412282, -0.0029145604413476356, -0.006740048152522271, -0.0074295473953884805, 0.007557958689336175, 0.0026536872458797767, 0.011706901634511269, 0.007899917115623767, -0.002640505743581767, 0.011562667078928834, 0.002235156269899896, -0.006118675621239245, 0.008259602107093533, 7.291587410285238e-05, -0.0020700258356977086, -0.0007147349762708366, -0.008223741723012101, 0.0008013077342221564, 0.010130028183448658, 0.005427976271627166, -0.004156220929316001, 0.00018049569818590072, -0.013344773218005868, -0.0018097863232778844, 0.009663428287020048, -0.00463182289599362, 0.00046630241480327683, -0.006216610629311337, -0.0015751953630388504, -0.0026953392013114863, 0.004128647486267623, -0.0016660196687369178, -0.003018343762034692, 0.001224859025659386, -0.0055199612217778915, 0.004761446869746555, -0.004026070456232933, -0.004178194529580348, -0.002428928875638947, -0.01168724609257743, -0.004421045526644352, 0.007637288135593279, -0.003306947280599437, -0.0044330798555242135, -0.008318859434411463, -0.0025832017500855287, -0.0034204201455626526, 0.0041836769121765816, -0.004519033699559971, 0.00481968375044306, 0.001739930738664297, -0.006065767810858103, -0.01647988340946349, -0.0021335199305747565, -0.0026291443886644617, -0.009224557442904846, -0.015364811003187318, 0.0023001363302690425, 0.000889344605340181, -0.00176665516772756, -0.00024135241299949595, 0.0007732139108529434, -0.007523787667484627, -0.0028672662075246436, -0.006671471077210667, 0.0014474118982286122, 0.0012373086206340922, 0.0009435928945260574, -0.0005188522403820617, -0.001761206581604946, 0.036128729314196306, 0.028850863893100653, 0.08063727316009883, 0.04594035666117202, -0.01792663147820217, -0.00242669548176766, 0.005434333605661923, 0.005152364518377306, -0.004535545597674662, -0.0062307717606115975, 0.006666967522601874, 0.006569018024452866, 0.0007155603193598203, -0.0007002136244956825, 0.0008904282038528777, 0.015344687952487224, -0.004254059182181358, 0.00933337379009025, 0.0006072521539415288]\n",
      "1.1494966502388166\n",
      "[0.9965546889393847, 0.9949210833384512, 1.001427869557207, 1.0049929374193944, 1.012221335134803, 1.0124608487379474, 1.015610995551191, 1.0129187189142907, 1.0189595527741835, 1.033446565153694, 1.035803070327942, 1.0287213449338282, 1.027775079902718, 1.007698998903974, 0.9998083695316531, 0.996591068425879, 0.9963560284020225, 1.003004303362531, 1.014417480624855, 1.0227171406880426, 1.0178454020117471, 1.0198264536413935, 1.0139203726313197, 1.011837685744095, 1.0158705809147712, 1.0116251037985053, 1.0156087046049869, 1.0001333551456233, 0.9873507103303935, 0.9862754770113973, 0.9897384060960727, 0.9924958095932118, 0.9933461373755699, 0.9872921732729121, 0.9873137395572472, 0.9951515434641995, 0.995881716233833, 0.9946401144356798, 0.9847217654983453, 0.9701629471885914, 0.9821166977551026, 0.9802845283612143, 0.9874202172071993, 1.0003471003715767, 1.0007695676887332, 0.9991352050749164, 0.9981271204210642, 0.989473623101912, 0.9858328036028315, 0.986147252026969, 0.9870936801270686, 0.9891851193869983, 1.010243317974272, 1.0091710254987027, 1.0077812799533634, 0.9995157841871333, 0.9954607732123761, 0.99427689518687, 0.9884155699216262, 0.9995672493062976, 0.9974059460989705, 0.9950999041934494, 0.9896250371660363, 0.9938659973141543, 1.007762516692542, 1.0005652552295057, 1.0017420661606589, 0.9904085204544322, 0.9886226860764289, 0.996888910568572, 0.9961149432715333, 0.996656855812475, 0.9938484737620653, 0.9964592171210727, 0.996150008200653, 0.9941449317991689, 0.9891920027602137, 0.9849566134410045, 0.9865599654696406, 0.9875632510954802, 0.9842358987667461, 0.9820860624386235, 0.9913169620433516, 0.9850014191209736, 0.9804433833451767, 0.9835341717753707, 0.9756269844498279, 0.9706798091606318, 0.9607108436178159, 0.9623516372907646, 0.9715196776176453, 0.9811038559451787, 0.9823295124002263, 0.9814257126800585, 0.9828269273541315, 0.9783827035502853, 0.9853367596705684, 0.9943129863877732, 0.9925281444943486, 0.9933432876963657, 0.9964538741552627, 1.0019185941815847, 0.9947779397319155, 0.9958995767778909, 1.000448075845146, 1.0003209135056312, 0.9923912004364098, 0.9983417458111341, 0.9915304092150797, 0.9885078582220006, 0.9907413505955274, 0.9907120054402547, 0.9935223731495736, 0.9941683969987402, 0.9913055603473571, 0.9747089781106449, 0.9736038510184156, 0.9727118790033227, 0.9738104474777938, 0.9809855753050862, 0.9849207459599084, 0.9735481027674726, 0.9703442179926715, 0.9649563135044442, 0.9610998462627187, 0.9604308672513989, 0.9537106968341975, 0.9518483240247794, 0.9502747548154906, 0.9247956832262804, 0.9297076348731863, 0.9464129676941867, 0.9750458880184323, 0.976424858050453, 0.9674129030480014, 0.9496876021254577, 0.9356026478811194, 0.9296271110756961, 0.9160085238251556, 0.9066275014175401, 0.9359180327546226, 0.9494091239924702, 0.9615547967805849, 0.9765322231137735, 0.9739621719105427, 0.9881510791392112, 0.9896556125321367, 0.9813813410591254, 0.9940597665910783, 0.9943168953460166, 1.0184855631299043, 1.0180295505302084, 1.0249877056623382, 1.0223443465836268, 1.0181304420980983, 1.0243924454117888, 1.0319391346899423, 1.0277285932566766, 1.0236559369661937, 1.0217726276989185, 1.0272913964624877, 1.0374780817670894, 1.030022194900037, 1.0357158423812818, 1.0348481748974299, 1.0250684189166501, 1.0177638694014322, 1.0195025674213989, 1.0066086250450887, 1.0125006926098503, 1.022761365064238, 1.034938977308531, 1.0341251186608869, 1.0322216310800336, 1.0247388397948771, 1.0252399345820629, 1.0181069007322576, 1.0204341328982478, 1.015463541653546, 1.0282128727825475, 1.0112933568474365, 1.032921145950736, 1.0338762527934253, 1.0308629579657849, 1.023914891990444, 1.0163076677715568, 1.0239888791402298, 1.026706225368727, 1.038725774156659, 1.0469316216783586, 1.0441671927181795, 1.0562405503423196, 1.0586014130309398, 1.052124174372418, 1.0608143014199884, 1.0608916516220372, 1.0586955784943035, 1.0579388917351304, 1.049238675530771, 1.0500794385965189, 1.0607167729043616, 1.0664743183786034, 1.0620418154959803, 1.0622335094749709, 1.048058244186461, 1.0461614827101338, 1.0562709891749458, 1.0513785290229114, 1.051868789369867, 1.0453297306732294, 1.0436831321286264, 1.0408700520688525, 1.045167437592858, 1.0434261680847048, 1.0402767492191225, 1.0415509415845872, 1.035801620776534, 1.0407335351614588, 1.0365434686227344, 1.0322125883724627, 1.0297054174107667, 1.017670996794627, 1.0131718269866523, 1.0209097121602149, 1.0175336175638492, 1.0130228097815082, 1.0045956154230833, 1.0020005422711942, 0.9985732794305451, 1.002750987404815, 0.9982195219004657, 1.0030306243095444, 1.0047758281246022, 0.9986810912492357, 0.9822229433022125, 0.9801273510764095, 0.9775504547511503, 0.9685329844279605, 0.9536516581718719, 0.9558451869972544, 0.9566952627578508, 0.9550051121279591, 0.9547746193397202, 0.955512864357123, 0.9483237884521499, 0.9456046916997294, 0.93929611734858, 0.9406556657247903, 0.9418195470890399, 0.9427082413215989, 0.9422191150385626, 0.9405596725318427, 0.9745408983445948, 1.0026572451609947, 1.0835087913249941, 1.1332855716439798, 1.1129695788415546, 1.110268740593235, 1.1163023113215567, 1.1220539077421925, 1.1169647810805787, 1.1100052284650241, 1.1174055972731187, 1.1247458547822304, 1.125550678285277, 1.1247625523652813, 1.125764072664545, 1.1430385710677036, 1.1381760173388655, 1.1487990395476053, 1.1494966502388166]\n",
      "夏普比率： 0.7058243720112927\n",
      "收益率： 0.14949665023881664\n"
     ]
    }
   ],
   "source": [
    "result=backtrader(y_pred,backtrader_df)\n",
    "print(result[1])\n",
    "print(result[2])\n",
    "print(result[3])\n",
    "pingjun_nian_jiaoyi_ri=240*len(result[1])/(len(y_pred))\n",
    "sharp=(np.mean(result[1]))/(np.std(result[1],ddof=1))*np.sqrt(pingjun_nian_jiaoyi_ri)\n",
    "# sharp1=(np.mean(result[4]))/(np.std(result[4]))\n",
    "# print('夏普比率--：',sharp1)\n",
    "print('夏普比率：',sharp)\n",
    "print('收益率：',result[2]-1)\n"
   ]
  },
  {
   "cell_type": "code",
   "execution_count": null,
   "id": "3f2ded5b",
   "metadata": {},
   "outputs": [],
   "source": []
  },
  {
   "cell_type": "code",
   "execution_count": 27,
   "id": "e894d8b3",
   "metadata": {},
   "outputs": [
    {
     "data": {
      "text/plain": [
       "[-0.003445311060615297,\n",
       " -0.005078916661548805,\n",
       " 0.0014278695572069733,\n",
       " 0.004992937419394439,\n",
       " 0.012221335134803057,\n",
       " 0.012460848737947394,\n",
       " 0.015610995551190943,\n",
       " 0.01291871891429075,\n",
       " 0.018959552774183486,\n",
       " 0.03344656515369393,\n",
       " 0.035803070327941944,\n",
       " 0.028721344933828163,\n",
       " 0.027775079902718103,\n",
       " 0.007698998903973964,\n",
       " -0.000191630468346915,\n",
       " -0.0034089315741210324,\n",
       " -0.003643971597977469,\n",
       " 0.003004303362531102,\n",
       " 0.014417480624854928,\n",
       " 0.022717140688042647,\n",
       " 0.017845402011747113,\n",
       " 0.01982645364139346,\n",
       " 0.013920372631319733,\n",
       " 0.011837685744094939,\n",
       " 0.015870580914771226,\n",
       " 0.011625103798505343,\n",
       " 0.015608704604986867,\n",
       " 0.00013335514562329287,\n",
       " -0.012649289669606545,\n",
       " -0.013724522988602716,\n",
       " -0.010261593903927335,\n",
       " -0.00750419040678818,\n",
       " -0.006653862624430129,\n",
       " -0.012707826727087923,\n",
       " -0.012686260442752784,\n",
       " -0.0048484565358004605,\n",
       " -0.004118283766166964,\n",
       " -0.00535988556432021,\n",
       " -0.015278234501654664,\n",
       " -0.029837052811408582,\n",
       " -0.017883302244897425,\n",
       " -0.01971547163878573,\n",
       " -0.012579782792800698,\n",
       " 0.0003471003715767029,\n",
       " 0.0007695676887331526,\n",
       " -0.0008647949250836229,\n",
       " -0.0018728795789357822,\n",
       " -0.010526376898087997,\n",
       " -0.014167196397168458,\n",
       " -0.013852747973031043,\n",
       " -0.012906319872931449,\n",
       " -0.010814880613001732,\n",
       " 0.010243317974272026,\n",
       " 0.009171025498702745,\n",
       " 0.007781279953363418,\n",
       " -0.00048421581286672843,\n",
       " -0.004539226787623862,\n",
       " -0.005723104813129987,\n",
       " -0.011584430078373842,\n",
       " -0.0004327506937024106,\n",
       " -0.002594053901029514,\n",
       " -0.004900095806550597,\n",
       " -0.010374962833963663,\n",
       " -0.006134002685845741,\n",
       " 0.00776251669254191,\n",
       " 0.000565255229505679,\n",
       " 0.0017420661606588617,\n",
       " -0.009591479545567827,\n",
       " -0.011377313923571108,\n",
       " -0.0031110894314280158,\n",
       " -0.0038850567284667292,\n",
       " -0.0033431441875250156,\n",
       " -0.00615152623793469,\n",
       " -0.00354078287892734,\n",
       " -0.0038499917993469746,\n",
       " -0.005855068200831148,\n",
       " -0.010807997239786316,\n",
       " -0.015043386558995508,\n",
       " -0.013440034530359357,\n",
       " -0.012436748904519845,\n",
       " -0.01576410123325389,\n",
       " -0.017913937561376492,\n",
       " -0.008683037956648376,\n",
       " -0.01499858087902639,\n",
       " -0.019556616654823333,\n",
       " -0.016465828224629275,\n",
       " -0.024373015550172128,\n",
       " -0.02932019083936821,\n",
       " -0.03928915638218411,\n",
       " -0.03764836270923544,\n",
       " -0.02848032238235465,\n",
       " -0.018896144054821318,\n",
       " -0.017670487599773743,\n",
       " -0.018574287319941485,\n",
       " -0.017173072645868537,\n",
       " -0.021617296449714662,\n",
       " -0.01466324032943156,\n",
       " -0.005687013612226788,\n",
       " -0.007471855505651437,\n",
       " -0.0066567123036342934,\n",
       " -0.0035461258447373467,\n",
       " 0.0019185941815846874,\n",
       " -0.005222060268084472,\n",
       " -0.004100423222109129,\n",
       " 0.00044807584514594545,\n",
       " 0.00032091350563123733,\n",
       " -0.007608799563590174,\n",
       " -0.001658254188865893,\n",
       " -0.008469590784920267,\n",
       " -0.011492141777999398,\n",
       " -0.00925864940447263,\n",
       " -0.009287994559745272,\n",
       " -0.00647762685042641,\n",
       " -0.005831603001259844,\n",
       " -0.008694439652642938,\n",
       " -0.02529102188935506,\n",
       " -0.026396148981584378,\n",
       " -0.027288120996677323,\n",
       " -0.026189552522206228,\n",
       " -0.019014424694913767,\n",
       " -0.015079254040091583,\n",
       " -0.026451897232527388,\n",
       " -0.029655782007328546,\n",
       " -0.03504368649555578,\n",
       " -0.038900153737281284,\n",
       " -0.03956913274860108,\n",
       " -0.04628930316580249,\n",
       " -0.04815167597522063,\n",
       " -0.04972524518450938,\n",
       " -0.07520431677371964,\n",
       " -0.0702923651268137,\n",
       " -0.0535870323058133,\n",
       " -0.024954111981567717,\n",
       " -0.023575141949547018,\n",
       " -0.03258709695199857,\n",
       " -0.050312397874542336,\n",
       " -0.06439735211888065,\n",
       " -0.07037288892430393,\n",
       " -0.08399147617484437,\n",
       " -0.09337249858245988,\n",
       " -0.0640819672453774,\n",
       " -0.05059087600752976,\n",
       " -0.038445203219415136,\n",
       " -0.023467776886226477,\n",
       " -0.026037828089457316,\n",
       " -0.011848920860788814,\n",
       " -0.010344387467863259,\n",
       " -0.018618658940874555,\n",
       " -0.005940233408921691,\n",
       " -0.005683104653983362,\n",
       " 0.018485563129904348,\n",
       " 0.018029550530208382,\n",
       " 0.02498770566233821,\n",
       " 0.02234434658362683,\n",
       " 0.01813044209809833,\n",
       " 0.024392445411788755,\n",
       " 0.03193913468994225,\n",
       " 0.027728593256676648,\n",
       " 0.023655936966193725,\n",
       " 0.021772627698918523,\n",
       " 0.027291396462487683,\n",
       " 0.037478081767089444,\n",
       " 0.03002219490003699,\n",
       " 0.03571584238128178,\n",
       " 0.03484817489742986,\n",
       " 0.025068418916650126,\n",
       " 0.017763869401432153,\n",
       " 0.019502567421398886,\n",
       " 0.006608625045088745,\n",
       " 0.012500692609850317,\n",
       " 0.02276136506423798,\n",
       " 0.034938977308530905,\n",
       " 0.034125118660886855,\n",
       " 0.03222163108003362,\n",
       " 0.02473883979487712,\n",
       " 0.025239934582062862,\n",
       " 0.018106900732257625,\n",
       " 0.020434132898247803,\n",
       " 0.01546354165354602,\n",
       " 0.02821287278254747,\n",
       " 0.011293356847436486,\n",
       " 0.03292114595073592,\n",
       " 0.03387625279342532,\n",
       " 0.030862957965784865,\n",
       " 0.023914891990443943,\n",
       " 0.01630766777155679,\n",
       " 0.023988879140229846,\n",
       " 0.02670622536872691,\n",
       " 0.0387257741566589,\n",
       " 0.046931621678358626,\n",
       " 0.04416719271817948,\n",
       " 0.05624055034231956,\n",
       " 0.0586014130309398,\n",
       " 0.0521241743724179,\n",
       " 0.06081430141998845,\n",
       " 0.060891651622037246,\n",
       " 0.05869557849430351,\n",
       " 0.05793889173513045,\n",
       " 0.04923867553077099,\n",
       " 0.050079438596518866,\n",
       " 0.060716772904361616,\n",
       " 0.0664743183786034,\n",
       " 0.06204181549598031,\n",
       " 0.06223350947497086,\n",
       " 0.048058244186460986,\n",
       " 0.04616148271013376,\n",
       " 0.056270989174945774,\n",
       " 0.0513785290229114,\n",
       " 0.05186878936986705,\n",
       " 0.04532973067322943,\n",
       " 0.0436831321286264,\n",
       " 0.040870052068852525,\n",
       " 0.045167437592857906,\n",
       " 0.043426168084704786,\n",
       " 0.0402767492191225,\n",
       " 0.041550941584587164,\n",
       " 0.03580162077653393,\n",
       " 0.040733535161458834,\n",
       " 0.03654346862273439,\n",
       " 0.03221258837246266,\n",
       " 0.02970541741076671,\n",
       " 0.017670996794626914,\n",
       " 0.013171826986652313,\n",
       " 0.020909712160214866,\n",
       " 0.01753361756384919,\n",
       " 0.01302280978150816,\n",
       " 0.004595615423083288,\n",
       " 0.0020005422711941723,\n",
       " -0.00142672056945492,\n",
       " 0.002750987404815053,\n",
       " -0.0017804780995342995,\n",
       " 0.003030624309544372,\n",
       " 0.004775828124602199,\n",
       " -0.001318908750764347,\n",
       " -0.017777056697787508,\n",
       " -0.01987264892359053,\n",
       " -0.02244954524884968,\n",
       " -0.03146701557203946,\n",
       " -0.04634834182812808,\n",
       " -0.044154813002745597,\n",
       " -0.04330473724214923,\n",
       " -0.04499488787204087,\n",
       " -0.04522538066027981,\n",
       " -0.044487135642876985,\n",
       " -0.05167621154785007,\n",
       " -0.05439530830027062,\n",
       " -0.060703882651420016,\n",
       " -0.05934433427520969,\n",
       " -0.05818045291096008,\n",
       " -0.057291758678401083,\n",
       " -0.057780884961437406,\n",
       " -0.059440327468157306,\n",
       " -0.025459101655405214,\n",
       " 0.002657245160994748,\n",
       " 0.08350879132499411,\n",
       " 0.1332855716439798,\n",
       " 0.11296957884155456,\n",
       " 0.11026874059323499,\n",
       " 0.11630231132155666,\n",
       " 0.12205390774219249,\n",
       " 0.11696478108057873,\n",
       " 0.11000522846502414,\n",
       " 0.11740559727311872,\n",
       " 0.12474585478223044,\n",
       " 0.1255506782852771,\n",
       " 0.12476255236528133,\n",
       " 0.12576407266454503,\n",
       " 0.14303857106770357,\n",
       " 0.13817601733886553,\n",
       " 0.14879903954760532,\n",
       " 0.14949665023881664]"
      ]
     },
     "execution_count": 27,
     "metadata": {},
     "output_type": "execute_result"
    }
   ],
   "source": [
    "returns=result[3]\n",
    "returns = [ret - 1 for ret in returns]\n",
    "returns"
   ]
  },
  {
   "cell_type": "code",
   "execution_count": 28,
   "id": "c359f589",
   "metadata": {},
   "outputs": [
    {
     "name": "stdout",
     "output_type": "stream",
     "text": [
      "最大回撤: -125.09%\n"
     ]
    }
   ],
   "source": [
    "returns=result[3]\n",
    "returns = [ret - 1 for ret in returns]\n",
    "\n",
    "# 将收益率列表转换为pandas的Series对象，方便处理\n",
    "returns_series = pd.Series(returns)\n",
    "\n",
    "# 计算累计收益率\n",
    "cumulative_returns = (1 + returns_series).cumprod() - 1\n",
    "\n",
    "# 计算滚动最大值\n",
    "rolling_max = cumulative_returns.cummax()\n",
    "\n",
    "# 计算回撤\n",
    "drawdown = cumulative_returns - rolling_max\n",
    "\n",
    "# 计算最大回撤\n",
    "max_drawdown = drawdown.min()\n",
    "\n",
    "# 打印最大回撤\n",
    "print(\"最大回撤: {:.2%}\".format(max_drawdown))\n"
   ]
  },
  {
   "cell_type": "code",
   "execution_count": null,
   "id": "d346e244",
   "metadata": {},
   "outputs": [],
   "source": []
  },
  {
   "cell_type": "code",
   "execution_count": 29,
   "id": "eb03bdd8",
   "metadata": {},
   "outputs": [
    {
     "data": {
      "image/png": "[encoded data removed]",
      "text/plain": [
       "<Figure size 640x480 with 1 Axes>"
      ]
     },
     "metadata": {},
     "output_type": "display_data"
    },
    {
     "data": {
      "image/png": "[encoded data removed]",
      "text/plain": [
       "<Figure size 640x480 with 1 Axes>"
      ]
     },
     "metadata": {},
     "output_type": "display_data"
    }
   ],
   "source": [
    "def paint():\n",
    "    acc=history.history['acc']\n",
    "    val_acc=history.history['val_acc']\n",
    "    loss=history.history['loss']\n",
    "    val_loss=history.history['val_loss']\n",
    "\n",
    "    epochs=range(len(acc))\n",
    "    plt.plot(epochs,acc,'bo',label='Training acc')\n",
    "    plt.plot(epochs,val_acc,'b',label='Validation acc')\n",
    "    plt.title('Training and validation accuracy')\n",
    "    plt.legend()\n",
    "\n",
    "    plt.figure()\n",
    "\n",
    "    plt.plot(epochs,loss,'bo',label='Training loss')\n",
    "    plt.plot(epochs,val_loss,'b',label='Validation loss')\n",
    "    plt.title('Training and validation loss')\n",
    "    plt.legend()\n",
    "    return plt\n",
    "my_paint=paint()\n",
    "my_paint.show()"
   ]
  },
  {
   "cell_type": "markdown",
   "id": "ff449cf1",
   "metadata": {},
   "source": [
    "# 混淆矩阵绘制"
   ]
  },
  {
   "cell_type": "code",
   "execution_count": 30,
   "id": "6a2eaf54",
   "metadata": {},
   "outputs": [
    {
     "name": "stdout",
     "output_type": "stream",
     "text": [
      "混淆矩阵： [[114  87]\n",
      " [122  89]]\n",
      "查准率： 0.4830508474576271\n",
      "查全率： 0.5671641791044776\n",
      "f1-score: 0.5217391304347826\n"
     ]
    }
   ],
   "source": [
    "confusion_matrix = confusion_matrix(target_test, y_pred,labels=[1,0])\n",
    "precision_score=precision_score(target_test, y_pred)\n",
    "recall_score=recall_score(target_test, y_pred)\n",
    "f1_score=f1_score(target_test, y_pred)\n",
    "\n",
    "print('混淆矩阵：',confusion_matrix)\n",
    "print('查准率：',precision_score)\n",
    "print('查全率：',recall_score)\n",
    "print('f1-score:',f1_score)"
   ]
  },
  {
   "cell_type": "code",
   "execution_count": null,
   "id": "f48b8b1a",
   "metadata": {},
   "outputs": [],
   "source": []
  },
  {
   "cell_type": "code",
   "execution_count": 31,
   "id": "52941452",
   "metadata": {},
   "outputs": [
    {
     "name": "stdout",
     "output_type": "stream",
     "text": [
      "\u001b[1m13/13\u001b[0m \u001b[32m━━━━━━━━━━━━━━━━━━━━\u001b[0m\u001b[37m\u001b[0m \u001b[1m0s\u001b[0m 2ms/step \n"
     ]
    },
    {
     "data": {
      "image/png": "[encoded data removed]",
      "text/plain": [
       "<Figure size 640x480 with 1 Axes>"
      ]
     },
     "metadata": {},
     "output_type": "display_data"
    }
   ],
   "source": [
    "y_predict=model.predict(daily_test).reshape(test_num-daily_back).tolist()\n",
    "fpr,tpr,threshold = roc_curve(target_test, y_predict) ###计算真正率和假正率\n",
    "# print(fpr,tpr,threshold)\n",
    "roc_auc = auc(fpr,tpr)\n",
    "\n",
    "\n",
    "lw = 2\n",
    "plt.figure()\n",
    "plt.plot(fpr, tpr, color='darkorange',\n",
    "         lw=lw, label='ROC curve (area = %0.2f)' % roc_auc) ###假正率为横坐标，真正率为纵坐标做曲线\n",
    "plt.plot([0, 1], [0, 1], color='navy', lw=lw, linestyle='--')\n",
    "plt.xlim([0.0, 1.0])\n",
    "plt.ylim([0.0, 1.05])\n",
    "plt.xlabel('False Positive Rate')\n",
    "plt.ylabel('True Positive Rate')\n",
    "plt.title('Receiver operating characteristic example')\n",
    "plt.legend(loc=\"lower right\")\n",
    "plt.show()"
   ]
  },
  {
   "cell_type": "markdown",
   "id": "302466a8",
   "metadata": {},
   "source": [
    "# 保存"
   ]
  },
  {
   "cell_type": "code",
   "execution_count": 32,
   "id": "96676464",
   "metadata": {},
   "outputs": [],
   "source": [
    "# df9=pd.DataFrame({'损失值':loss,'准确率':accuracy,'夏普值':sharp,'收益率':result[2]-1,'最大回撤':[max_drawdown],'查准率':[precision_score],'查全率':[recall_score],'f1-score':[f1_score]})\n",
    "# df10=pd.DataFrame({'每日收益率':result[1]})\n",
    "# path9='/Users/ccmac/Desktop'\n",
    "# df9.to_excel(os.path.join(path9,'数据表.xlsx'),index=False)\n",
    "# df10.to_excel(os.path.join(path9,'每日收益率表.xlsx'),index=False)"
   ]
  },
  {
   "cell_type": "code",
   "execution_count": null,
   "id": "56cb83ab",
   "metadata": {},
   "outputs": [],
   "source": []
  },
  {
   "cell_type": "code",
   "execution_count": 33,
   "id": "82c56301",
   "metadata": {},
   "outputs": [],
   "source": [
    "# import numpy as np\n",
    "# t = np.array([1, 2, 3, 4, 5, 6, 7, 8]).reshape([2,4])\n",
    "# y = np.cumprod(t, axis=1)\n",
    "# print(t)\n",
    "# print(y)\n"
   ]
  },
  {
   "cell_type": "code",
   "execution_count": null,
   "id": "55058d97-109b-409b-95d0-55fa4f0094fd",
   "metadata": {},
   "outputs": [],
   "source": []
  }
 ],
 "metadata": {
  "kernelspec": {
   "display_name": "tf_env",
   "language": "python",
   "name": "tf_env"
  },
  "language_info": {
   "codemirror_mode": {
    "name": "ipython",
    "version": 3
   },
   "file_extension": ".py",
   "mimetype": "text/x-python",
   "name": "python",
   "nbconvert_exporter": "python",
   "pygments_lexer": "ipython3",
   "version": "3.9.21"
  }
 },
 "nbformat": 4,
 "nbformat_minor": 5
}
